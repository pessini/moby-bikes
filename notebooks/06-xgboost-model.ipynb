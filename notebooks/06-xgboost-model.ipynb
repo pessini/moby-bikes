{
 "cells": [
  {
   "cell_type": "markdown",
   "metadata": {},
   "source": [
    "<img title=\"GitHub Octocat\" src='./img/Octocat.jpg' style='height: 60px; padding-right: 15px' alt=\"Octocat\" align=\"left\"> This notebook is part of a GitHub repository: https://github.com/pessini/moby-bikes \n",
    "<br>MIT Licensed\n",
    "<br>Author: Leandro Pessini"
   ]
  },
  {
   "cell_type": "code",
   "execution_count": 1,
   "metadata": {},
   "outputs": [],
   "source": [
    "import pandas as pd\n",
    "import matplotlib.pyplot as plt\n",
    "import seaborn as sns\n",
    "import numpy as np\n",
    "import datetime\n",
    "import sys\n",
    "import os\n",
    "import joblib\n",
    "\n",
    "# Preprocessing\n",
    "from sklearn.model_selection import train_test_split\n",
    "from sklearn.preprocessing import StandardScaler, MinMaxScaler, OneHotEncoder, OrdinalEncoder\n",
    "from sklearn.compose import ColumnTransformer\n",
    "from sklearn.pipeline import Pipeline\n",
    "\n",
    "# Models & Evaluation\n",
    "from sklearn.model_selection import KFold\n",
    "\n",
    "# statsmodel\n",
    "import statsmodels.api as sm\n",
    "import statsmodels.tsa.api as smt\n",
    "import statsmodels.formula.api as smf\n",
    "import statsmodels.stats as stats\n",
    "\n",
    "# Boost models\n",
    "import xgboost as xgb\n",
    "from sklearn import metrics\n",
    "\n",
    "# Hyperparameter optimization\n",
    "from bayes_opt import BayesianOptimization\n",
    "\n",
    "# Custom objects\n",
    "sys.path.insert(0, os.path.abspath('../src/'))\n",
    "import experiment_tracker as et\n",
    "\n",
    "import time\n",
    "import warnings\n",
    "warnings.simplefilter('ignore', FutureWarning)\n",
    "from statsmodels.tools.sm_exceptions import ConvergenceWarning\n",
    "warnings.simplefilter('ignore', ConvergenceWarning)"
   ]
  },
  {
   "cell_type": "code",
   "execution_count": 2,
   "metadata": {},
   "outputs": [],
   "source": [
    "# ideas_df = pd.read_excel('../documentation/experiment_tracker.xlsx', sheet_name='Ideas')\n",
    "# experiments_df = pd.read_excel('../documentation/experiment_tracker.xlsx', sheet_name='Experiments')"
   ]
  },
  {
   "cell_type": "code",
   "execution_count": 3,
   "metadata": {},
   "outputs": [],
   "source": [
    "# creates a new object to keep track of the experiments\n",
    "experiment_tracker = et.ExperimentTracker()"
   ]
  },
  {
   "cell_type": "code",
   "execution_count": 4,
   "metadata": {},
   "outputs": [],
   "source": [
    "df_train = pd.read_csv('../data/processed/df_train.csv')\n",
    "df_test = pd.read_csv('../data/processed/df_test.csv')"
   ]
  },
  {
   "cell_type": "code",
   "execution_count": 5,
   "metadata": {},
   "outputs": [
    {
     "data": {
      "text/plain": [
       "(8760, 22)"
      ]
     },
     "execution_count": 5,
     "metadata": {},
     "output_type": "execute_result"
    }
   ],
   "source": [
    "df = df_train.copy()\n",
    "X = df.drop(['count'], axis=1)\n",
    "y = df.pop('count')\n",
    "all_columns = list(X.columns)\n",
    "# X_train, X_val, y_train, y_val = train_test_split(X, y, test_size=0.3, random_state=42)\n",
    "X.shape"
   ]
  },
  {
   "cell_type": "code",
   "execution_count": 6,
   "metadata": {},
   "outputs": [
    {
     "data": {
      "text/plain": [
       "(1464, 22)"
      ]
     },
     "execution_count": 6,
     "metadata": {},
     "output_type": "execute_result"
    }
   ],
   "source": [
    "test_df = df_test.copy()\n",
    "X_test = test_df.drop(['count'], axis=1)\n",
    "y_test = test_df.pop('count')\n",
    "X_test.shape"
   ]
  },
  {
   "cell_type": "code",
   "execution_count": 7,
   "metadata": {},
   "outputs": [],
   "source": [
    "def get_metrics_to_Experiment(dict_scores = None) -> list:\n",
    "    if dict_scores is None:\n",
    "        dict_scores = {}\n",
    "    rsme = et.Score('RSME', '{:.4f}'.format(dict_scores['train_rsme']), '{:.4f}'.format(dict_scores['val_rsme']))\n",
    "    mae = et.Score('MAE', '{:.4f}'.format(dict_scores['train_mae']), '{:.4f}'.format(dict_scores['val_mae']))\n",
    "    return [rsme, mae]"
   ]
  },
  {
   "cell_type": "code",
   "execution_count": 8,
   "metadata": {},
   "outputs": [],
   "source": [
    "import category_encoders as ce\n",
    "\n",
    "def preprocessor(predictors: list) -> ColumnTransformer:\n",
    "    # Setting remainder='passthrough' will mean that all columns not specified in the list of “transformers” \n",
    "    #   will be passed through without transformation, instead of being dropped\n",
    "\n",
    "    ##################### Categorical variables #####################\n",
    "    all_cat_vars = ['timesofday','dayofweek','holiday','peak','hour','working_day','season','month']\n",
    "    cat_vars = [categorical_var for categorical_var in all_cat_vars if categorical_var in predictors]\n",
    "\n",
    "    # categorical variables\n",
    "    cat_pipe = Pipeline([\n",
    "        ('encoder', OneHotEncoder(handle_unknown='ignore', sparse=False))\n",
    "    ])\n",
    "\n",
    "    cat_encoder = 'cat', cat_pipe, cat_vars\n",
    "\n",
    "    ##################### Numerical variables #####################\n",
    "    all_num_vars = ['rain', 'temp', 'rhum','wdsp','temp_r']\n",
    "    num_vars = [numerical_var for numerical_var in all_num_vars if numerical_var in predictors]\n",
    "\n",
    "    num_pipe = Pipeline([\n",
    "        ('scaler', StandardScaler())\n",
    "        # ('scaler', MinMaxScaler())\n",
    "    ])\n",
    "\n",
    "    num_enconder =  'num', num_pipe, num_vars\n",
    "\n",
    "    ##################### Ordinal variables #####################\n",
    "    all_ord_vars = ['wind_speed_group','rainfall_intensity']\n",
    "    ord_vars = [ordinal_var for ordinal_var in all_ord_vars if ordinal_var in predictors]\n",
    "\n",
    "    ordinal_cols_mapping = []\n",
    "    if 'wind_speed_group' in predictors:\n",
    "        ordinal_cols_mapping.append(\n",
    "            {\"col\":\"wind_speed_group\",    \n",
    "            \"mapping\": {\n",
    "                'Calm / Light Breeze': 0, \n",
    "                'Breeze': 1, \n",
    "                'Moderate Breeze': 2, \n",
    "                'Strong Breeze / Near Gale': 3, \n",
    "                'Gale / Storm': 4\n",
    "            }}\n",
    "        )\n",
    "\n",
    "    if 'rainfall_intensity' in predictors:\n",
    "        ordinal_cols_mapping.append(\n",
    "            {\"col\":\"rainfall_intensity\",    \n",
    "            \"mapping\": {\n",
    "                'no rain': 0, \n",
    "                'drizzle': 1, \n",
    "                'light rain': 2, \n",
    "                'moderate rain': 3, \n",
    "                'heavy rain': 4\n",
    "            }}\n",
    "        )\n",
    "\n",
    "    # ordinal variables\n",
    "    ord_pipe = Pipeline([\n",
    "        ('ordinal', ce.OrdinalEncoder(mapping=ordinal_cols_mapping))\n",
    "    ])\n",
    "\n",
    "    ord_enconder =  'ordinal', ord_pipe, ord_vars\n",
    "    \n",
    "    #################################################################################\n",
    "    \n",
    "    orig_vars = [var for var in predictors if var not in cat_vars and var not in num_vars and var not in ord_vars]\n",
    "    orig_enconder = 'pass_vars', 'passthrough', orig_vars\n",
    "     # ['temp_bin','rhum_bin']\n",
    "    # ord_pipe = 'passthrough'\n",
    "\n",
    "    transformers_list = []\n",
    "    transformers_list.append(cat_encoder) if cat_vars else None\n",
    "    transformers_list.append(ord_enconder) if ord_vars else None\n",
    "    transformers_list.append(num_enconder) if num_vars else None\n",
    "    # transformers_list.append(orig_enconder) if orig_vars else None\n",
    "    \n",
    "    return ColumnTransformer(transformers=transformers_list, \n",
    "                             remainder='drop')"
   ]
  },
  {
   "cell_type": "code",
   "execution_count": 9,
   "metadata": {},
   "outputs": [],
   "source": [
    "def summarize_dict(dictionary, function):\n",
    "    return {k: function(v) for k,v in dictionary.items()}"
   ]
  },
  {
   "cell_type": "code",
   "execution_count": 10,
   "metadata": {},
   "outputs": [],
   "source": [
    "def kfold_score(params, predictors, X=X, y=y, n_folds=5, verbose=50, early_stopping_rounds=10):\n",
    "    \n",
    "    pipe_xgboost = Pipeline([\n",
    "        ('preprocessor', preprocessor(predictors)),\n",
    "        ('model', xgb.XGBRegressor(**params))\n",
    "    ])\n",
    "\n",
    "    X = X[[c for c in X.columns if c in predictors]]\n",
    "    cv = KFold(n_splits=n_folds, shuffle=True, random_state=2022)\n",
    "    scores = {\"train_rsme\":[],\"val_rsme\":[],\"train_mae\":[],\"val_mae\":[]}\n",
    "\n",
    "    for n_fold, (train_index, test_index) in enumerate(cv.split(X, y)):\n",
    "        print('#'*40, f'Fold {n_fold+1} out of {cv.n_splits}', '#'*40)\n",
    "        X_train, X_test = X.iloc[train_index], X.iloc[test_index]\n",
    "        y_train, y_test = y.iloc[train_index], y.iloc[test_index]\n",
    "\n",
    "        # Xy = xgb.DMatrix(X_train, y_train, enable_categorical=True)\n",
    "        X_test_transformed = pipe_xgboost['preprocessor'].fit_transform(X_test)\n",
    "        pipe_xgboost.fit(X_train, y_train,\n",
    "                         model__eval_set=[(X_test_transformed, y_test)], \n",
    "                         model__early_stopping_rounds=early_stopping_rounds,\n",
    "                         model__verbose=verbose)\n",
    "        # pipe_xgboost.fit(X_train, y_train)\n",
    "        # print(pipe_xgboost['model'].evals_result())\n",
    "\n",
    "        # Predict on training and validation set\n",
    "        y_pred_train = pipe_xgboost.predict(X_train)\n",
    "        y_pred_val = pipe_xgboost.predict(X_test)\n",
    "\n",
    "        # Calculate the RSME and MAE\n",
    "        # If squared = True returns MSE value, if False returns RMSE value.\n",
    "        scores['train_rsme'].append(metrics.mean_squared_error(y_train, y_pred_train, squared=False))\n",
    "        scores['val_rsme'].append(metrics.mean_squared_error(y_test, y_pred_val, squared=False))\n",
    "        scores['train_mae'].append(metrics.mean_absolute_error(y_train, y_pred_train))\n",
    "        scores['val_mae'].append(metrics.mean_absolute_error(y_test, y_pred_val))\n",
    "\n",
    "        print(f\"Fold {n_fold+1} - best iteration: {pipe_xgboost['model'].get_booster().best_iteration}\\n\")\n",
    "\n",
    "    return summarize_dict(scores, np.mean), pipe_xgboost"
   ]
  },
  {
   "cell_type": "code",
   "execution_count": 11,
   "metadata": {},
   "outputs": [],
   "source": [
    "#predictors = ['temp','rhum','dayofweek', 'holiday','timesofday','wdsp','rainfall_intensity','peak','working_day', 'hour', 'season']"
   ]
  },
  {
   "cell_type": "markdown",
   "metadata": {},
   "source": [
    "## Hyperparameters tuning"
   ]
  },
  {
   "cell_type": "code",
   "execution_count": 12,
   "metadata": {},
   "outputs": [
    {
     "name": "stdout",
     "output_type": "stream",
     "text": [
      "######################################## Fold 1 out of 3 ########################################\n",
      "[0]\tvalidation_0-rmse:4.21537\n",
      "[50]\tvalidation_0-rmse:2.74378\n",
      "[59]\tvalidation_0-rmse:2.74717\n",
      "Fold 1 - best iteration: 50\n",
      "\n",
      "######################################## Fold 2 out of 3 ########################################\n",
      "[0]\tvalidation_0-rmse:3.78092\n",
      "[50]\tvalidation_0-rmse:2.50728\n",
      "[53]\tvalidation_0-rmse:2.51117\n",
      "Fold 2 - best iteration: 43\n",
      "\n",
      "######################################## Fold 3 out of 3 ########################################\n",
      "[0]\tvalidation_0-rmse:3.96064\n",
      "[50]\tvalidation_0-rmse:2.65082\n",
      "[60]\tvalidation_0-rmse:2.65222\n",
      "Fold 3 - best iteration: 50\n",
      "\n",
      "--- New Experiment added! ---\n",
      "ID#: 5551432752 \n",
      "Algorithm: XGBoost (Baseline) \n",
      "Predictors: ['temp', 'rhum', 'dayofweek', 'holiday', 'timesofday', 'wdsp', 'rainfall_intensity', 'peak', 'working_day', 'hour', 'season']\n",
      "Hyperparameters: {'objective': 'reg:squarederror', 'base_score': 0.5, 'booster': 'gbtree', 'colsample_bylevel': 1, 'colsample_bynode': 1, 'colsample_bytree': 1, 'gamma': 0, 'gpu_id': -1, 'importance_type': 'gain', 'interaction_constraints': '', 'learning_rate': 0.300000012, 'max_delta_step': 0, 'max_depth': 3, 'min_child_weight': 1, 'missing': nan, 'monotone_constraints': '()', 'n_estimators': 500, 'n_jobs': 4, 'num_parallel_tree': 1, 'random_state': 42, 'reg_alpha': 0, 'reg_lambda': 1, 'scale_pos_weight': 1, 'subsample': 1, 'tree_method': 'exact', 'validate_parameters': 1, 'verbosity': None, 'seed': 42, 'eval_metric': 'rmse'}\n",
      "Date: 02/07/2022 12:11:38\n",
      "Metric: [{ 'metric': RSME, 'train': 2.4729,  'validation': 2.6320, 'test': None }, { 'metric': MAE, 'train': 1.8143,  'validation': 1.9269, 'test': None }]\n",
      "Notes: Baseline XGBoost\n"
     ]
    }
   ],
   "source": [
    "# Baseline model\n",
    "predictors = ['temp','rhum','dayofweek', 'holiday','timesofday','wdsp','rainfall_intensity','peak','working_day', 'hour', 'season']\n",
    "\n",
    "params_xgboost = {'max_depth':3,\n",
    "                  'n_estimators': 500,\n",
    "                   'seed': 42,\n",
    "                   'eval_metric': 'rmse'\n",
    "                   }\n",
    "\n",
    "dict_scores, xgb_model = kfold_score(params_xgboost, predictors, n_folds=3)\n",
    "exp_xgboost = et.Experiment('XGBoost (Baseline)', predictors=predictors, hyperparameters=xgb_model['model'].get_params(),\n",
    "                               score=get_metrics_to_Experiment(dict_scores), notes='Baseline XGBoost')\n",
    "experiment_tracker.add_experiment(exp_xgboost)"
   ]
  },
  {
   "cell_type": "code",
   "execution_count": 13,
   "metadata": {},
   "outputs": [
    {
     "name": "stdout",
     "output_type": "stream",
     "text": [
      "######################################## Fold 1 out of 3 ########################################\n",
      "[0]\tvalidation_0-rmse:4.51870\n",
      "[50]\tvalidation_0-rmse:2.74515\n",
      "[81]\tvalidation_0-rmse:2.73040\n",
      "Fold 1 - best iteration: 71\n",
      "\n",
      "######################################## Fold 2 out of 3 ########################################\n",
      "[0]\tvalidation_0-rmse:4.08433\n",
      "[50]\tvalidation_0-rmse:2.50050\n",
      "[87]\tvalidation_0-rmse:2.48756\n",
      "Fold 2 - best iteration: 78\n",
      "\n",
      "######################################## Fold 3 out of 3 ########################################\n",
      "[0]\tvalidation_0-rmse:4.26917\n",
      "[50]\tvalidation_0-rmse:2.66483\n",
      "[64]\tvalidation_0-rmse:2.66475\n",
      "Fold 3 - best iteration: 54\n",
      "\n",
      "--- New Experiment added! ---\n",
      "ID#: 5551376896 \n",
      "Algorithm: XGBoost 1 \n",
      "Predictors: ['temp', 'rhum', 'dayofweek', 'holiday', 'timesofday', 'wdsp', 'rainfall_intensity', 'peak', 'working_day', 'hour', 'season']\n",
      "Hyperparameters: {'objective': 'reg:squarederror', 'base_score': 0.5, 'booster': 'gbtree', 'colsample_bylevel': 1, 'colsample_bynode': 1, 'colsample_bytree': 0.5, 'gamma': 1, 'gpu_id': -1, 'importance_type': 'gain', 'interaction_constraints': '', 'learning_rate': 0.200000003, 'max_delta_step': 0, 'max_depth': 3, 'min_child_weight': 1, 'missing': nan, 'monotone_constraints': '()', 'n_estimators': 500, 'n_jobs': 4, 'num_parallel_tree': 1, 'random_state': 42, 'reg_alpha': 0, 'reg_lambda': 1, 'scale_pos_weight': 1, 'subsample': 1, 'tree_method': 'exact', 'validate_parameters': 1, 'verbosity': None, 'eta': 0.2, 'seed': 42, 'eval_metric': 'rmse'}\n",
      "Date: 02/07/2022 12:11:41\n",
      "Metric: [{ 'metric': RSME, 'train': 2.4930,  'validation': 2.6233, 'test': None }, { 'metric': MAE, 'train': 1.8292,  'validation': 1.9204, 'test': None }]\n",
      "\n"
     ]
    }
   ],
   "source": [
    "predictors = ['temp','rhum','dayofweek', 'holiday','timesofday','wdsp','rainfall_intensity','peak','working_day', 'hour', 'season']\n",
    "\n",
    "params_xgboost = {'max_depth':3,\n",
    "                  'eta': 0.2,\n",
    "                  'n_estimators': 500,\n",
    "                  'subsample': 1,\n",
    "                  'colsample_bytree': 0.5,\n",
    "                  'gamma': 1,\n",
    "                   'seed': 42,\n",
    "                   'eval_metric': 'rmse'\n",
    "                   }\n",
    "\n",
    "dict_scores, xgb_model = kfold_score(params_xgboost, predictors, n_folds=3)\n",
    "exp_xgboost = et.Experiment('XGBoost 1', predictors=predictors, hyperparameters=xgb_model['model'].get_params(),\n",
    "                               score=get_metrics_to_Experiment(dict_scores), notes='')\n",
    "experiment_tracker.add_experiment(exp_xgboost)"
   ]
  },
  {
   "cell_type": "code",
   "execution_count": 14,
   "metadata": {},
   "outputs": [
    {
     "name": "stdout",
     "output_type": "stream",
     "text": [
      "######################################## Fold 1 out of 5 ########################################\n",
      "[0]\tvalidation_0-rmse:4.98932\n",
      "[250]\tvalidation_0-rmse:2.74287\n",
      "[464]\tvalidation_0-rmse:2.69763\n",
      "Fold 1 - best iteration: 434\n",
      "\n",
      "######################################## Fold 2 out of 5 ########################################\n",
      "[0]\tvalidation_0-rmse:4.92424\n",
      "[250]\tvalidation_0-rmse:2.67194\n",
      "[500]\tvalidation_0-rmse:2.62396\n",
      "[555]\tvalidation_0-rmse:2.62402\n",
      "Fold 2 - best iteration: 525\n",
      "\n",
      "######################################## Fold 3 out of 5 ########################################\n",
      "[0]\tvalidation_0-rmse:4.69002\n",
      "[250]\tvalidation_0-rmse:2.47367\n",
      "[485]\tvalidation_0-rmse:2.43120\n",
      "Fold 3 - best iteration: 456\n",
      "\n",
      "######################################## Fold 4 out of 5 ########################################\n",
      "[0]\tvalidation_0-rmse:4.71785\n",
      "[250]\tvalidation_0-rmse:2.55160\n",
      "[460]\tvalidation_0-rmse:2.51855\n",
      "Fold 4 - best iteration: 430\n",
      "\n",
      "######################################## Fold 5 out of 5 ########################################\n",
      "[0]\tvalidation_0-rmse:4.85740\n",
      "[250]\tvalidation_0-rmse:2.70376\n",
      "[474]\tvalidation_0-rmse:2.64726\n",
      "Fold 5 - best iteration: 444\n",
      "\n",
      "--- New Experiment added! ---\n",
      "ID#: 5552273056 \n",
      "Algorithm: XGBoost 2 \n",
      "Predictors: ['temp', 'rhum', 'dayofweek', 'holiday', 'timesofday', 'wdsp', 'rainfall_intensity', 'peak', 'working_day', 'hour', 'season']\n",
      "Hyperparameters: {'objective': 'reg:squarederror', 'base_score': 0.5, 'booster': 'gbtree', 'colsample_bylevel': 1, 'colsample_bynode': 1, 'colsample_bytree': 0.5, 'gamma': 1, 'gpu_id': -1, 'importance_type': 'gain', 'interaction_constraints': '', 'learning_rate': 0.00999999978, 'max_delta_step': 0, 'max_depth': 9, 'min_child_weight': 1, 'missing': nan, 'monotone_constraints': '()', 'n_estimators': 1000, 'n_jobs': 4, 'num_parallel_tree': 1, 'random_state': 42, 'reg_alpha': 0, 'reg_lambda': 1, 'scale_pos_weight': 1, 'subsample': 0.7, 'tree_method': 'exact', 'validate_parameters': 1, 'verbosity': None, 'eta': 0.01, 'seed': 42, 'eval_metric': 'rmse'}\n",
      "Date: 02/07/2022 12:12:31\n",
      "Metric: [{ 'metric': RSME, 'train': 1.8872,  'validation': 2.5822, 'test': None }, { 'metric': MAE, 'train': 1.3823,  'validation': 1.8758, 'test': None }]\n",
      "\n"
     ]
    }
   ],
   "source": [
    "predictors = ['temp','rhum','dayofweek', 'holiday','timesofday','wdsp','rainfall_intensity','peak','working_day', 'hour', 'season']\n",
    "\n",
    "params_xgboost = {'max_depth':9,\n",
    "                  'eta': 0.01,\n",
    "                  'n_estimators': 1000,\n",
    "                  'subsample': 0.7,\n",
    "                  'colsample_bytree': 0.5,\n",
    "                  'gamma': 1,\n",
    "                   'seed': 42,\n",
    "                   'eval_metric': 'rmse'\n",
    "                   }\n",
    "\n",
    "dict_scores, xgb_model = kfold_score(params_xgboost, predictors, n_folds=5, verbose=250, early_stopping_rounds=30)\n",
    "exp_xgboost = et.Experiment('XGBoost 2', predictors=predictors, hyperparameters=xgb_model['model'].get_params(), \n",
    "                            score=get_metrics_to_Experiment(dict_scores))\n",
    "experiment_tracker.add_experiment(exp_xgboost)"
   ]
  },
  {
   "cell_type": "code",
   "execution_count": 15,
   "metadata": {},
   "outputs": [
    {
     "name": "stdout",
     "output_type": "stream",
     "text": [
      "######################################## Fold 1 out of 5 ########################################\n",
      "[0]\tvalidation_0-rmse:4.98932\n",
      "[250]\tvalidation_0-rmse:2.74273\n",
      "[465]\tvalidation_0-rmse:2.69698\n",
      "Fold 1 - best iteration: 435\n",
      "\n",
      "######################################## Fold 2 out of 5 ########################################\n",
      "[0]\tvalidation_0-rmse:4.92424\n",
      "[250]\tvalidation_0-rmse:2.67145\n",
      "[500]\tvalidation_0-rmse:2.62315\n",
      "[562]\tvalidation_0-rmse:2.62348\n",
      "Fold 2 - best iteration: 533\n",
      "\n",
      "######################################## Fold 3 out of 5 ########################################\n",
      "[0]\tvalidation_0-rmse:4.69001\n",
      "[250]\tvalidation_0-rmse:2.47431\n",
      "[500]\tvalidation_0-rmse:2.43228\n",
      "Fold 3 - best iteration: 470\n",
      "\n",
      "######################################## Fold 4 out of 5 ########################################\n",
      "[0]\tvalidation_0-rmse:4.71784\n",
      "[250]\tvalidation_0-rmse:2.54976\n",
      "[456]\tvalidation_0-rmse:2.51627\n",
      "Fold 4 - best iteration: 426\n",
      "\n",
      "######################################## Fold 5 out of 5 ########################################\n",
      "[0]\tvalidation_0-rmse:4.85738\n",
      "[250]\tvalidation_0-rmse:2.70294\n",
      "[477]\tvalidation_0-rmse:2.64475\n",
      "Fold 5 - best iteration: 448\n",
      "\n",
      "--- New Experiment added! ---\n",
      "ID#: 5551737104 \n",
      "Algorithm: XGBoost (gamma: 1.5) \n",
      "Predictors: ['temp', 'rhum', 'dayofweek', 'holiday', 'timesofday', 'wdsp', 'rainfall_intensity', 'peak', 'working_day', 'hour', 'season']\n",
      "Hyperparameters: {'objective': 'reg:squarederror', 'base_score': 0.5, 'booster': 'gbtree', 'colsample_bylevel': 1, 'colsample_bynode': 1, 'colsample_bytree': 0.5, 'gamma': 1.5, 'gpu_id': -1, 'importance_type': 'gain', 'interaction_constraints': '', 'learning_rate': 0.00999999978, 'max_delta_step': 0, 'max_depth': 9, 'min_child_weight': 1, 'missing': nan, 'monotone_constraints': '()', 'n_estimators': 1000, 'n_jobs': 4, 'num_parallel_tree': 1, 'random_state': 42, 'reg_alpha': 0, 'reg_lambda': 1, 'scale_pos_weight': 1, 'subsample': 0.7, 'tree_method': 'exact', 'validate_parameters': 1, 'verbosity': None, 'eta': 0.01, 'seed': 42, 'eval_metric': 'rmse'}\n",
      "Date: 02/07/2022 12:13:22\n",
      "Metric: [{ 'metric': RSME, 'train': 1.8869,  'validation': 2.5816, 'test': None }, { 'metric': MAE, 'train': 1.3840,  'validation': 1.8753, 'test': None }]\n",
      "\n"
     ]
    }
   ],
   "source": [
    "predictors = ['temp','rhum','dayofweek', 'holiday','timesofday','wdsp','rainfall_intensity','peak','working_day', 'hour', 'season']\n",
    "\n",
    "params_xgboost = {'max_depth':9,\n",
    "                  'eta': 0.01,\n",
    "                  'n_estimators': 1000,\n",
    "                  'subsample': 0.7,\n",
    "                  'colsample_bytree': 0.5,\n",
    "                  'gamma': 1.5,\n",
    "                   'seed': 42,\n",
    "                   'eval_metric': 'rmse'\n",
    "                   }\n",
    "\n",
    "dict_scores, xgb_model = kfold_score(params_xgboost, predictors, n_folds=5, verbose=250, early_stopping_rounds=30)\n",
    "exp_xgboost = et.Experiment('XGBoost (gamma: 1.5)', predictors=predictors, hyperparameters=xgb_model['model'].get_params(), \n",
    "                            score=get_metrics_to_Experiment(dict_scores))\n",
    "experiment_tracker.add_experiment(exp_xgboost)"
   ]
  },
  {
   "cell_type": "code",
   "execution_count": 16,
   "metadata": {},
   "outputs": [
    {
     "name": "stdout",
     "output_type": "stream",
     "text": [
      "######################################## Fold 1 out of 5 ########################################\n",
      "[0]\tvalidation_0-rmse:5.01778\n",
      "[250]\tvalidation_0-rmse:4.34078\n",
      "[500]\tvalidation_0-rmse:3.84679\n",
      "[750]\tvalidation_0-rmse:3.49268\n",
      "[1000]\tvalidation_0-rmse:3.24291\n",
      "[1250]\tvalidation_0-rmse:3.06872\n",
      "[1500]\tvalidation_0-rmse:2.94775\n",
      "[1750]\tvalidation_0-rmse:2.86530\n",
      "[2000]\tvalidation_0-rmse:2.80914\n",
      "[2250]\tvalidation_0-rmse:2.77180\n",
      "[2500]\tvalidation_0-rmse:2.74582\n",
      "[2750]\tvalidation_0-rmse:2.72823\n",
      "[3000]\tvalidation_0-rmse:2.71654\n",
      "[3250]\tvalidation_0-rmse:2.70893\n",
      "[3500]\tvalidation_0-rmse:2.70418\n",
      "[3750]\tvalidation_0-rmse:2.70196\n",
      "[3969]\tvalidation_0-rmse:2.70103\n",
      "Fold 1 - best iteration: 3940\n",
      "\n",
      "######################################## Fold 2 out of 5 ########################################\n",
      "[0]\tvalidation_0-rmse:4.95270\n",
      "[250]\tvalidation_0-rmse:4.27162\n",
      "[500]\tvalidation_0-rmse:3.77503\n",
      "[750]\tvalidation_0-rmse:3.41854\n",
      "[1000]\tvalidation_0-rmse:3.16629\n",
      "[1250]\tvalidation_0-rmse:2.99146\n",
      "[1500]\tvalidation_0-rmse:2.87010\n",
      "[1750]\tvalidation_0-rmse:2.78704\n",
      "[2000]\tvalidation_0-rmse:2.73150\n",
      "[2250]\tvalidation_0-rmse:2.69366\n",
      "[2500]\tvalidation_0-rmse:2.66731\n",
      "[2750]\tvalidation_0-rmse:2.64965\n",
      "[3000]\tvalidation_0-rmse:2.63777\n",
      "[3250]\tvalidation_0-rmse:2.62971\n",
      "[3500]\tvalidation_0-rmse:2.62451\n",
      "[3750]\tvalidation_0-rmse:2.62107\n",
      "[4000]\tvalidation_0-rmse:2.61902\n",
      "[4225]\tvalidation_0-rmse:2.61827\n",
      "Fold 2 - best iteration: 4195\n",
      "\n",
      "######################################## Fold 3 out of 5 ########################################\n",
      "[0]\tvalidation_0-rmse:4.71800\n",
      "[250]\tvalidation_0-rmse:4.03551\n",
      "[500]\tvalidation_0-rmse:3.54048\n",
      "[750]\tvalidation_0-rmse:3.18746\n",
      "[1000]\tvalidation_0-rmse:2.93996\n",
      "[1250]\tvalidation_0-rmse:2.76946\n",
      "[1500]\tvalidation_0-rmse:2.65447\n",
      "[1750]\tvalidation_0-rmse:2.57735\n",
      "[2000]\tvalidation_0-rmse:2.52652\n",
      "[2250]\tvalidation_0-rmse:2.49332\n",
      "[2500]\tvalidation_0-rmse:2.47105\n",
      "[2750]\tvalidation_0-rmse:2.45690\n",
      "[3000]\tvalidation_0-rmse:2.44726\n",
      "[3250]\tvalidation_0-rmse:2.44135\n",
      "[3500]\tvalidation_0-rmse:2.43768\n",
      "[3750]\tvalidation_0-rmse:2.43610\n",
      "[3773]\tvalidation_0-rmse:2.43628\n",
      "Fold 3 - best iteration: 3743\n",
      "\n",
      "######################################## Fold 4 out of 5 ########################################\n",
      "[0]\tvalidation_0-rmse:4.74570\n",
      "[250]\tvalidation_0-rmse:4.07038\n",
      "[500]\tvalidation_0-rmse:3.58265\n",
      "[750]\tvalidation_0-rmse:3.23735\n",
      "[1000]\tvalidation_0-rmse:2.99696\n",
      "[1250]\tvalidation_0-rmse:2.83260\n",
      "[1500]\tvalidation_0-rmse:2.72225\n",
      "[1750]\tvalidation_0-rmse:2.64929\n",
      "[2000]\tvalidation_0-rmse:2.60127\n",
      "[2250]\tvalidation_0-rmse:2.57029\n",
      "[2500]\tvalidation_0-rmse:2.54971\n",
      "[2750]\tvalidation_0-rmse:2.53712\n",
      "[3000]\tvalidation_0-rmse:2.52880\n",
      "[3250]\tvalidation_0-rmse:2.52394\n",
      "[3500]\tvalidation_0-rmse:2.52166\n",
      "[3569]\tvalidation_0-rmse:2.52138\n",
      "Fold 4 - best iteration: 3539\n",
      "\n",
      "######################################## Fold 5 out of 5 ########################################\n",
      "[0]\tvalidation_0-rmse:4.88431\n",
      "[250]\tvalidation_0-rmse:4.22547\n",
      "[500]\tvalidation_0-rmse:3.74773\n",
      "[750]\tvalidation_0-rmse:3.40902\n",
      "[1000]\tvalidation_0-rmse:3.17115\n",
      "[1250]\tvalidation_0-rmse:3.00576\n",
      "[1500]\tvalidation_0-rmse:2.89272\n",
      "[1750]\tvalidation_0-rmse:2.81597\n",
      "[2000]\tvalidation_0-rmse:2.76446\n",
      "[2250]\tvalidation_0-rmse:2.72831\n",
      "[2500]\tvalidation_0-rmse:2.70324\n",
      "[2750]\tvalidation_0-rmse:2.68691\n",
      "[3000]\tvalidation_0-rmse:2.67532\n",
      "[3250]\tvalidation_0-rmse:2.66742\n",
      "[3500]\tvalidation_0-rmse:2.66227\n",
      "[3750]\tvalidation_0-rmse:2.65902\n",
      "[3871]\tvalidation_0-rmse:2.65826\n",
      "Fold 5 - best iteration: 3842\n",
      "\n",
      "--- New Experiment added! ---\n",
      "ID#: 5552212672 \n",
      "Algorithm: XGBoost (eta: 0.001) \n",
      "Predictors: ['temp', 'rhum', 'dayofweek', 'holiday', 'timesofday', 'wdsp', 'rainfall_intensity', 'peak', 'working_day', 'hour', 'season']\n",
      "Hyperparameters: {'objective': 'reg:squarederror', 'base_score': 0.5, 'booster': 'gbtree', 'colsample_bylevel': 1, 'colsample_bynode': 1, 'colsample_bytree': 0.5, 'gamma': 1.5, 'gpu_id': -1, 'importance_type': 'gain', 'interaction_constraints': '', 'learning_rate': 0.00100000005, 'max_delta_step': 0, 'max_depth': 11, 'min_child_weight': 1, 'missing': nan, 'monotone_constraints': '()', 'n_estimators': 5000, 'n_jobs': 4, 'num_parallel_tree': 1, 'random_state': 42, 'reg_alpha': 0, 'reg_lambda': 1, 'scale_pos_weight': 1, 'subsample': 0.7, 'tree_method': 'exact', 'validate_parameters': 1, 'verbosity': None, 'eta': 0.001, 'seed': 42, 'eval_metric': 'rmse'}\n",
      "Date: 02/07/2022 12:22:43\n",
      "Metric: [{ 'metric': RSME, 'train': 1.6972,  'validation': 2.5873, 'test': None }, { 'metric': MAE, 'train': 1.2327,  'validation': 1.8745, 'test': None }]\n",
      "\n"
     ]
    }
   ],
   "source": [
    "predictors = ['temp','rhum','dayofweek', 'holiday','timesofday','wdsp','rainfall_intensity','peak','working_day', 'hour', 'season']\n",
    "\n",
    "params_xgboost = {'max_depth':11,\n",
    "                  'eta': 0.001,\n",
    "                  'n_estimators': 5000,\n",
    "                  'subsample': 0.7,\n",
    "                  'colsample_bytree': 0.5,\n",
    "                  'gamma': 1.5,\n",
    "                   'seed': 42,\n",
    "                   'eval_metric': 'rmse'\n",
    "                   }\n",
    "\n",
    "dict_scores, xgb_model = kfold_score(params_xgboost, predictors, n_folds=5, verbose=250, early_stopping_rounds=30)\n",
    "exp_xgboost = et.Experiment('XGBoost (eta: 0.001)', predictors=predictors, hyperparameters=xgb_model['model'].get_params(), \n",
    "                            score=get_metrics_to_Experiment(dict_scores))\n",
    "experiment_tracker.add_experiment(exp_xgboost)"
   ]
  },
  {
   "cell_type": "code",
   "execution_count": 17,
   "metadata": {},
   "outputs": [
    {
     "name": "stdout",
     "output_type": "stream",
     "text": [
      "######################################## Fold 1 out of 5 ########################################\n",
      "[0]\tvalidation_0-rmse:5.01778\n",
      "[250]\tvalidation_0-rmse:4.33523\n",
      "[500]\tvalidation_0-rmse:3.83885\n",
      "[750]\tvalidation_0-rmse:3.48379\n",
      "[1000]\tvalidation_0-rmse:3.23314\n",
      "[1250]\tvalidation_0-rmse:3.05909\n",
      "[1500]\tvalidation_0-rmse:2.93807\n",
      "[1750]\tvalidation_0-rmse:2.85623\n",
      "[2000]\tvalidation_0-rmse:2.80124\n",
      "[2250]\tvalidation_0-rmse:2.76408\n",
      "[2500]\tvalidation_0-rmse:2.73825\n",
      "[2750]\tvalidation_0-rmse:2.72036\n",
      "[3000]\tvalidation_0-rmse:2.70884\n",
      "[3250]\tvalidation_0-rmse:2.70071\n",
      "[3500]\tvalidation_0-rmse:2.69512\n",
      "[3750]\tvalidation_0-rmse:2.69129\n",
      "[4000]\tvalidation_0-rmse:2.68937\n",
      "[4201]\tvalidation_0-rmse:2.68883\n",
      "Fold 1 - best iteration: 4172\n",
      "\n",
      "######################################## Fold 2 out of 5 ########################################\n",
      "[0]\tvalidation_0-rmse:4.95269\n",
      "[250]\tvalidation_0-rmse:4.26762\n",
      "[500]\tvalidation_0-rmse:3.76792\n",
      "[750]\tvalidation_0-rmse:3.41026\n",
      "[1000]\tvalidation_0-rmse:3.15849\n",
      "[1250]\tvalidation_0-rmse:2.98481\n",
      "[1500]\tvalidation_0-rmse:2.86523\n",
      "[1750]\tvalidation_0-rmse:2.78431\n",
      "[2000]\tvalidation_0-rmse:2.72979\n",
      "[2250]\tvalidation_0-rmse:2.69327\n",
      "[2500]\tvalidation_0-rmse:2.66839\n",
      "[2750]\tvalidation_0-rmse:2.65159\n",
      "[3000]\tvalidation_0-rmse:2.63925\n",
      "[3250]\tvalidation_0-rmse:2.63134\n",
      "[3500]\tvalidation_0-rmse:2.62610\n",
      "[3750]\tvalidation_0-rmse:2.62258\n",
      "[4000]\tvalidation_0-rmse:2.62020\n",
      "[4250]\tvalidation_0-rmse:2.61899\n",
      "[4379]\tvalidation_0-rmse:2.61861\n",
      "Fold 2 - best iteration: 4350\n",
      "\n",
      "######################################## Fold 3 out of 5 ########################################\n",
      "[0]\tvalidation_0-rmse:4.71796\n",
      "[250]\tvalidation_0-rmse:4.03183\n",
      "[500]\tvalidation_0-rmse:3.53390\n",
      "[750]\tvalidation_0-rmse:3.18022\n",
      "[1000]\tvalidation_0-rmse:2.93339\n",
      "[1250]\tvalidation_0-rmse:2.76478\n",
      "[1500]\tvalidation_0-rmse:2.65142\n",
      "[1750]\tvalidation_0-rmse:2.57643\n",
      "[2000]\tvalidation_0-rmse:2.52602\n",
      "[2250]\tvalidation_0-rmse:2.49291\n",
      "[2500]\tvalidation_0-rmse:2.47114\n",
      "[2750]\tvalidation_0-rmse:2.45607\n",
      "[3000]\tvalidation_0-rmse:2.44598\n",
      "[3250]\tvalidation_0-rmse:2.43971\n",
      "[3500]\tvalidation_0-rmse:2.43528\n",
      "[3750]\tvalidation_0-rmse:2.43293\n",
      "[4000]\tvalidation_0-rmse:2.43100\n",
      "[4199]\tvalidation_0-rmse:2.43019\n",
      "Fold 3 - best iteration: 4169\n",
      "\n",
      "######################################## Fold 4 out of 5 ########################################\n",
      "[0]\tvalidation_0-rmse:4.74571\n",
      "[250]\tvalidation_0-rmse:4.06640\n",
      "[500]\tvalidation_0-rmse:3.57662\n",
      "[750]\tvalidation_0-rmse:3.22998\n",
      "[1000]\tvalidation_0-rmse:2.98999\n",
      "[1250]\tvalidation_0-rmse:2.82729\n",
      "[1500]\tvalidation_0-rmse:2.71819\n",
      "[1750]\tvalidation_0-rmse:2.64609\n",
      "[2000]\tvalidation_0-rmse:2.59891\n",
      "[2250]\tvalidation_0-rmse:2.56800\n",
      "[2500]\tvalidation_0-rmse:2.54739\n",
      "[2750]\tvalidation_0-rmse:2.53435\n",
      "[3000]\tvalidation_0-rmse:2.52575\n",
      "[3250]\tvalidation_0-rmse:2.51984\n",
      "[3500]\tvalidation_0-rmse:2.51688\n",
      "[3750]\tvalidation_0-rmse:2.51499\n",
      "[3784]\tvalidation_0-rmse:2.51498\n",
      "Fold 4 - best iteration: 3755\n",
      "\n",
      "######################################## Fold 5 out of 5 ########################################\n",
      "[0]\tvalidation_0-rmse:4.88432\n",
      "[250]\tvalidation_0-rmse:4.22063\n",
      "[500]\tvalidation_0-rmse:3.74054\n",
      "[750]\tvalidation_0-rmse:3.40097\n",
      "[1000]\tvalidation_0-rmse:3.16277\n",
      "[1250]\tvalidation_0-rmse:2.99854\n",
      "[1500]\tvalidation_0-rmse:2.88655\n",
      "[1750]\tvalidation_0-rmse:2.81085\n",
      "[2000]\tvalidation_0-rmse:2.75918\n",
      "[2250]\tvalidation_0-rmse:2.72351\n",
      "[2500]\tvalidation_0-rmse:2.69851\n",
      "[2750]\tvalidation_0-rmse:2.68115\n",
      "[3000]\tvalidation_0-rmse:2.66894\n",
      "[3250]\tvalidation_0-rmse:2.66019\n",
      "[3500]\tvalidation_0-rmse:2.65384\n",
      "[3750]\tvalidation_0-rmse:2.64980\n",
      "[4000]\tvalidation_0-rmse:2.64699\n",
      "[4250]\tvalidation_0-rmse:2.64543\n",
      "[4500]\tvalidation_0-rmse:2.64380\n",
      "[4565]\tvalidation_0-rmse:2.64363\n",
      "Fold 5 - best iteration: 4536\n",
      "\n",
      "--- New Experiment added! ---\n",
      "ID#: 5552430384 \n",
      "Algorithm: XGBoost (max_depth: 9 and subsample: 0.8) \n",
      "Predictors: ['temp', 'rhum', 'dayofweek', 'holiday', 'timesofday', 'wdsp', 'rainfall_intensity', 'peak', 'working_day', 'hour', 'season']\n",
      "Hyperparameters: {'objective': 'reg:squarederror', 'base_score': 0.5, 'booster': 'gbtree', 'colsample_bylevel': 1, 'colsample_bynode': 1, 'colsample_bytree': 0.5, 'gamma': 1.5, 'gpu_id': -1, 'importance_type': 'gain', 'interaction_constraints': '', 'learning_rate': 0.00100000005, 'max_delta_step': 0, 'max_depth': 9, 'min_child_weight': 1, 'missing': nan, 'monotone_constraints': '()', 'n_estimators': 5000, 'n_jobs': 4, 'num_parallel_tree': 1, 'random_state': 42, 'reg_alpha': 0, 'reg_lambda': 1, 'scale_pos_weight': 1, 'subsample': 0.8, 'tree_method': 'exact', 'validate_parameters': 1, 'verbosity': None, 'eta': 0.001, 'seed': 42, 'eval_metric': 'rmse'}\n",
      "Date: 02/07/2022 12:30:02\n",
      "Metric: [{ 'metric': RSME, 'train': 1.9097,  'validation': 2.5784, 'test': None }, { 'metric': MAE, 'train': 1.3968,  'validation': 1.8723, 'test': None }]\n",
      "\n"
     ]
    }
   ],
   "source": [
    "predictors = ['temp','rhum','dayofweek', 'holiday','timesofday','wdsp','rainfall_intensity','peak','working_day', 'hour', 'season']\n",
    "\n",
    "params_xgboost = {'max_depth':9,\n",
    "                  'eta': 0.001,\n",
    "                  'n_estimators': 5000,\n",
    "                  'subsample': 0.8,\n",
    "                  'colsample_bytree': 0.5,\n",
    "                  'gamma': 1.5,\n",
    "                   'seed': 42,\n",
    "                   'eval_metric': 'rmse'\n",
    "                   }\n",
    "\n",
    "dict_scores, xgb_model = kfold_score(params_xgboost, predictors, n_folds=5, verbose=250, early_stopping_rounds=30)\n",
    "exp_xgboost = et.Experiment('XGBoost (max_depth: 9 and subsample: 0.8)', predictors=predictors, hyperparameters=xgb_model['model'].get_params(), \n",
    "                            score=get_metrics_to_Experiment(dict_scores))\n",
    "experiment_tracker.add_experiment(exp_xgboost)"
   ]
  },
  {
   "cell_type": "code",
   "execution_count": 23,
   "metadata": {},
   "outputs": [],
   "source": [
    "def normalized_rsme(value, dataset) -> float:\n",
    "    return value / max(dataset['count']) - min(dataset['count'])"
   ]
  },
  {
   "cell_type": "code",
   "execution_count": 24,
   "metadata": {},
   "outputs": [
    {
     "data": {
      "text/plain": [
       "0.0734499192450501"
      ]
     },
     "execution_count": 24,
     "metadata": {},
     "output_type": "execute_result"
    }
   ],
   "source": [
    "# Normalized RSME - Root Mean Square Error\n",
    "normtrain_rsme = normalized_rsme(dict_scores['train_rsme'], df_train)\n",
    "normtrain_rsme"
   ]
  },
  {
   "cell_type": "code",
   "execution_count": 25,
   "metadata": {},
   "outputs": [
    {
     "data": {
      "text/plain": [
       "0.13570718936061674"
      ]
     },
     "execution_count": 25,
     "metadata": {},
     "output_type": "execute_result"
    }
   ],
   "source": [
    "normtest_rsme = normalized_rsme(dict_scores['val_rsme'], df_test)\n",
    "normtest_rsme"
   ]
  },
  {
   "cell_type": "code",
   "execution_count": 21,
   "metadata": {},
   "outputs": [
    {
     "data": {
      "text/plain": [
       "['../models/XGBoost.pkl']"
      ]
     },
     "execution_count": 21,
     "metadata": {},
     "output_type": "execute_result"
    }
   ],
   "source": [
    "joblib.dump(xgb_model['model'], '../models/XGBoost.pkl')"
   ]
  },
  {
   "cell_type": "code",
   "execution_count": 26,
   "metadata": {},
   "outputs": [],
   "source": [
    "experiment_tracker.to_excel('../documentation/experiment_tracker_xgboost.xlsx')"
   ]
  },
  {
   "cell_type": "code",
   "execution_count": 27,
   "metadata": {},
   "outputs": [
    {
     "name": "stdout",
     "output_type": "stream",
     "text": [
      "Author: Leandro Pessini\n",
      "\n",
      "Last updated: Sat Jul 02 2022\n",
      "\n",
      "Python implementation: CPython\n",
      "Python version       : 3.9.6\n",
      "IPython version      : 8.3.0\n",
      "\n",
      "pandas           : 1.3.0\n",
      "sys              : 3.9.6 | packaged by conda-forge | (default, Jul 11 2021, 03:36:15) \n",
      "[Clang 11.1.0 ]\n",
      "matplotlib       : 3.4.2\n",
      "category_encoders: 2.4.0\n",
      "xgboost          : 1.4.0\n",
      "seaborn          : 0.11.1\n",
      "joblib           : 1.0.1\n",
      "numpy            : 1.21.1\n",
      "statsmodels      : 0.13.2\n",
      "sklearn          : 1.0.2\n",
      "\n",
      "Watermark: 2.3.0\n",
      "\n"
     ]
    }
   ],
   "source": [
    "%reload_ext watermark\n",
    "%watermark -a \"Leandro Pessini\" -n -u -v -iv -w"
   ]
  },
  {
   "cell_type": "markdown",
   "metadata": {},
   "source": [
    "<!-- > https://pierpaolo28.github.io/blog/blog25/#bayesian-optimization\n",
    "\n",
    "> https://www.kdnuggets.com/2019/07/xgboost-random-forest-bayesian-optimisation.html\n",
    "\n",
    "> https://www.kaggle.com/code/neerajmohan/randomforest-model-with-bayesian-optimization/notebook\n",
    "\n",
    "> https://www.analyticsvidhya.com/blog/2016/03/complete-guide-parameter-tuning-xgboost-with-codes-python/ -->"
   ]
  },
  {
   "cell_type": "markdown",
   "metadata": {},
   "source": [
    "<img title=\"GitHub Mark\" src=\"./img/GitHub-Mark-64px.png\" style=\"height: 32px; padding-right: 15px\" alt=\"GitHub Mark\" align=\"left\"> [GitHub repository](https://github.com/pessini/moby-bikes) <br>Author: Leandro Pessini"
   ]
  }
 ],
 "metadata": {
  "kernelspec": {
   "display_name": "Python 3.9.6 64-bit ('conda-env')",
   "language": "python",
   "name": "python3"
  },
  "language_info": {
   "codemirror_mode": {
    "name": "ipython",
    "version": 3
   },
   "file_extension": ".py",
   "mimetype": "text/x-python",
   "name": "python",
   "nbconvert_exporter": "python",
   "pygments_lexer": "ipython3",
   "version": "3.9.6"
  },
  "orig_nbformat": 4,
  "vscode": {
   "interpreter": {
    "hash": "5c82cf216bcd6695c751af4e033b89e10a78cc5d50e2943f0ed5dd08b475eddb"
   }
  }
 },
 "nbformat": 4,
 "nbformat_minor": 2
}
