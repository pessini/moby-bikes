{
 "cells": [
  {
   "cell_type": "markdown",
   "metadata": {},
   "source": [
    "<img title=\"GitHub Octocat\" src='./img/Octocat.jpg' style='height: 60px; padding-right: 15px' alt=\"Octocat\" align=\"left\"> This notebook is part of a GitHub repository: https://github.com/pessini/moby-bikes \n",
    "<br>MIT Licensed\n",
    "<br>Author: Leandro Pessini"
   ]
  },
  {
   "cell_type": "code",
   "execution_count": 262,
   "metadata": {},
   "outputs": [],
   "source": [
    "import pandas as pd\n",
    "import matplotlib.pyplot as plt\n",
    "import seaborn as sns\n",
    "import numpy as np\n",
    "import datetime\n",
    "import sys\n",
    "import os\n",
    "import joblib\n",
    "\n",
    "# Preprocessing\n",
    "from sklearn.model_selection import train_test_split\n",
    "from sklearn.preprocessing import StandardScaler, MinMaxScaler, OneHotEncoder, OrdinalEncoder\n",
    "from sklearn.compose import ColumnTransformer\n",
    "from sklearn.pipeline import Pipeline\n",
    "\n",
    "# Models & Evaluation\n",
    "from sklearn.model_selection import KFold\n",
    "\n",
    "# statsmodel\n",
    "import statsmodels.api as sm\n",
    "import statsmodels.tsa.api as smt\n",
    "import statsmodels.formula.api as smf\n",
    "import statsmodels.stats as stats\n",
    "\n",
    "# Boost models\n",
    "import xgboost as xgb\n",
    "from sklearn import metrics\n",
    "\n",
    "# Hyperparameter optimization\n",
    "from bayes_opt import BayesianOptimization\n",
    "\n",
    "# Custom objects\n",
    "sys.path.insert(0, os.path.abspath('../src/'))\n",
    "import experiment_tracker as et\n",
    "\n",
    "import time\n",
    "import warnings\n",
    "warnings.simplefilter('ignore', FutureWarning)\n",
    "from statsmodels.tools.sm_exceptions import ConvergenceWarning\n",
    "warnings.simplefilter('ignore', ConvergenceWarning)"
   ]
  },
  {
   "cell_type": "code",
   "execution_count": 263,
   "metadata": {},
   "outputs": [],
   "source": [
    "# ideas_df = pd.read_excel('../documentation/experiment_tracker.xlsx', sheet_name='Ideas')\n",
    "# experiments_df = pd.read_excel('../documentation/experiment_tracker.xlsx', sheet_name='Experiments')"
   ]
  },
  {
   "cell_type": "code",
   "execution_count": 264,
   "metadata": {},
   "outputs": [],
   "source": [
    "# creates a new object to keep track of the experiments\n",
    "experiment_tracker = et.ExperimentTracker()"
   ]
  },
  {
   "cell_type": "code",
   "execution_count": 265,
   "metadata": {},
   "outputs": [],
   "source": [
    "df_train = pd.read_csv('../data/processed/df_train.csv')\n",
    "df_test = pd.read_csv('../data/processed/df_test.csv')"
   ]
  },
  {
   "cell_type": "code",
   "execution_count": 266,
   "metadata": {},
   "outputs": [
    {
     "data": {
      "text/plain": [
       "((6132, 22), (2628, 22))"
      ]
     },
     "execution_count": 266,
     "metadata": {},
     "output_type": "execute_result"
    }
   ],
   "source": [
    "df = df_train.copy()\n",
    "X = df.drop(['count'], axis=1)\n",
    "y = df.pop('count')\n",
    "all_columns = list(X.columns)\n",
    "X_train, X_val, y_train, y_val = train_test_split(X, y, test_size=0.3, random_state=42)\n",
    "X_train.shape, X_val.shape"
   ]
  },
  {
   "cell_type": "code",
   "execution_count": 267,
   "metadata": {},
   "outputs": [
    {
     "data": {
      "text/plain": [
       "(1464, 22)"
      ]
     },
     "execution_count": 267,
     "metadata": {},
     "output_type": "execute_result"
    }
   ],
   "source": [
    "test_df = df_test.copy()\n",
    "X_test = test_df.drop(['count'], axis=1)\n",
    "y_test = test_df.pop('count')\n",
    "X_test.shape"
   ]
  },
  {
   "cell_type": "code",
   "execution_count": 268,
   "metadata": {},
   "outputs": [],
   "source": [
    "def evaluate_model(model, predictors, X_train=X_train, y_train=y_train, X_val=X_val, y_val=y_val):\n",
    "    \n",
    "    X_train = X_train[[c for c in X_train.columns if c in predictors]]\n",
    "    X_val = X_val[[c for c in X_val.columns if c in predictors]]\n",
    "    model.fit(X_train, y_train)\n",
    "    \n",
    "    # Predict on training and validation set\n",
    "    y_pred_train = model.predict(X_train)\n",
    "    y_pred_val = model.predict(X_val)\n",
    "    \n",
    "    # Calculate the RSME and MAE\n",
    "    # If squared = True returns MSE value, if False returns RMSE value.\n",
    "    train_rsme = metrics.mean_squared_error(y_train, y_pred_train, squared=False) \n",
    "    val_rsme = metrics.mean_squared_error(y_val, y_pred_val, squared=False)\n",
    "    train_mae = metrics.mean_absolute_error(y_train, y_pred_train)\n",
    "    val_mae = metrics.mean_absolute_error(y_val, y_pred_val)\n",
    "    \n",
    "    return train_rsme, val_rsme, train_mae, val_mae"
   ]
  },
  {
   "cell_type": "code",
   "execution_count": 269,
   "metadata": {},
   "outputs": [],
   "source": [
    "def get_metrics_to_Experiment() -> list:\n",
    "    rsme = et.Score('RSME', '{:.4f}'.format(train_rsme), '{:.4f}'.format(val_rsme))\n",
    "    mae = et.Score('MAE', '{:.4f}'.format(train_mae), '{:.4f}'.format(val_mae))\n",
    "    return [rsme, mae]"
   ]
  },
  {
   "cell_type": "code",
   "execution_count": 270,
   "metadata": {},
   "outputs": [],
   "source": [
    "import category_encoders as ce\n",
    "\n",
    "def preprocessor(predictors: list) -> ColumnTransformer:\n",
    "    # Setting remainder='passthrough' will mean that all columns not specified in the list of “transformers” \n",
    "    #   will be passed through without transformation, instead of being dropped\n",
    "\n",
    "    ##################### Categorical variables #####################\n",
    "    all_cat_vars = ['timesofday','dayofweek','holiday','peak','hour','working_day','season','month']\n",
    "    cat_vars = [categorical_var for categorical_var in all_cat_vars if categorical_var in predictors]\n",
    "\n",
    "    # categorical variables\n",
    "    cat_pipe = Pipeline([\n",
    "        ('encoder', OneHotEncoder(handle_unknown='ignore', sparse=False))\n",
    "    ])\n",
    "\n",
    "    cat_encoder = 'cat', cat_pipe, cat_vars\n",
    "\n",
    "    ##################### Numerical variables #####################\n",
    "    all_num_vars = ['rain', 'temp', 'rhum','wdsp','temp_r']\n",
    "    num_vars = [numerical_var for numerical_var in all_num_vars if numerical_var in predictors]\n",
    "\n",
    "    num_pipe = Pipeline([\n",
    "        ('scaler', StandardScaler())\n",
    "        # ('scaler', MinMaxScaler())\n",
    "    ])\n",
    "\n",
    "    num_enconder =  'num', num_pipe, num_vars\n",
    "\n",
    "    ##################### Ordinal variables #####################\n",
    "    all_ord_vars = ['wind_speed_group','rainfall_intensity']\n",
    "    ord_vars = [ordinal_var for ordinal_var in all_ord_vars if ordinal_var in predictors]\n",
    "\n",
    "    ordinal_cols_mapping = []\n",
    "    if 'wind_speed_group' in predictors:\n",
    "        ordinal_cols_mapping.append(\n",
    "            {\"col\":\"wind_speed_group\",    \n",
    "            \"mapping\": {\n",
    "                'Calm / Light Breeze': 0, \n",
    "                'Breeze': 1, \n",
    "                'Moderate Breeze': 2, \n",
    "                'Strong Breeze / Near Gale': 3, \n",
    "                'Gale / Storm': 4\n",
    "            }}\n",
    "        )\n",
    "\n",
    "    if 'rainfall_intensity' in predictors:\n",
    "        ordinal_cols_mapping.append(\n",
    "            {\"col\":\"rainfall_intensity\",    \n",
    "            \"mapping\": {\n",
    "                'no rain': 0, \n",
    "                'drizzle': 1, \n",
    "                'light rain': 2, \n",
    "                'moderate rain': 3, \n",
    "                'heavy rain': 4\n",
    "            }}\n",
    "        )\n",
    "\n",
    "    # ordinal variables\n",
    "    ord_pipe = Pipeline([\n",
    "        ('ordinal', ce.OrdinalEncoder(mapping=ordinal_cols_mapping))\n",
    "    ])\n",
    "\n",
    "    ord_enconder =  'ordinal', ord_pipe, ord_vars\n",
    "    \n",
    "    #################################################################################\n",
    "    \n",
    "    orig_vars = [var for var in predictors if var not in cat_vars and var not in num_vars and var not in ord_vars]\n",
    "    orig_enconder = 'pass_vars', 'passthrough', orig_vars\n",
    "     # ['temp_bin','rhum_bin']\n",
    "    # ord_pipe = 'passthrough'\n",
    "\n",
    "    transformers_list = []\n",
    "    transformers_list.append(cat_encoder) if cat_vars else None\n",
    "    transformers_list.append(ord_enconder) if ord_vars else None\n",
    "    transformers_list.append(num_enconder) if num_vars else None\n",
    "    # transformers_list.append(orig_enconder) if orig_vars else None\n",
    "    \n",
    "    return ColumnTransformer(transformers=transformers_list, \n",
    "                             remainder='drop')"
   ]
  },
  {
   "cell_type": "code",
   "execution_count": 271,
   "metadata": {},
   "outputs": [],
   "source": [
    "def summarize_dict(dictionary, function):\n",
    "    return {k: function(v) for k,v in dictionary.items()}"
   ]
  },
  {
   "cell_type": "code",
   "execution_count": 272,
   "metadata": {},
   "outputs": [],
   "source": [
    "def kfold_score(model, predictors, X=X_train, y=y_train, n_folds=5):\n",
    "    cv = KFold(n_splits=n_folds, shuffle=True, random_state=2022)\n",
    "    scores = {\"train_rsme\":[],\"val_rsme\":[],\"train_mae\":[],\"val_mae\":[]}\n",
    "    for n_fold, (train_index, test_index) in enumerate(cv.split(X, y)):\n",
    "        print('#'*40, f'Fold {n_fold+1} out of {cv.n_splits}', '#'*40)\n",
    "        X_train, X_test = X.iloc[train_index], X.iloc[test_index]\n",
    "        y_train, y_test = y.iloc[train_index], y.iloc[test_index]\n",
    "        \n",
    "        train_rsme, val_rsme, train_mae, val_mae = evaluate_model(model, predictors, X_train, y_train, X_test, y_test)\n",
    "        scores['train_rsme'].append(train_rsme)\n",
    "        scores['val_rsme'].append(val_rsme)\n",
    "        scores['train_mae'].append(train_mae)\n",
    "        scores['val_mae'].append(val_mae)\n",
    "        \n",
    "    return summarize_dict(scores, np.mean)"
   ]
  },
  {
   "cell_type": "markdown",
   "metadata": {},
   "source": [
    "> https://www.analyticsvidhya.com/blog/2016/03/complete-guide-parameter-tuning-xgboost-with-codes-python/"
   ]
  },
  {
   "cell_type": "code",
   "execution_count": 273,
   "metadata": {},
   "outputs": [
    {
     "name": "stdout",
     "output_type": "stream",
     "text": [
      "######################################## Fold 1 out of 5 ########################################\n",
      "######################################## Fold 2 out of 5 ########################################\n",
      "######################################## Fold 3 out of 5 ########################################\n",
      "######################################## Fold 4 out of 5 ########################################\n",
      "######################################## Fold 5 out of 5 ########################################\n",
      "{'train_rsme': 0.22525266046799786, 'val_rsme': 2.9017208957890417, 'train_mae': 0.150431776293122, 'val_mae': 2.0966413273433795}\n",
      "CPU times: user 36.9 s, sys: 1.12 s, total: 38.1 s\n",
      "Wall time: 14.4 s\n"
     ]
    }
   ],
   "source": [
    "%%time\n",
    "\n",
    "# idea_xgboost = et.Idea(idea='XGBoost', potential_outcome=\"Baseline XGBoost with all potential features had an excellent train score.\")\n",
    "# experiment_tracker.new_idea(idea_xgboost)\n",
    "\n",
    "predictors = ['temp','rhum','dayofweek', 'holiday','timesofday','wdsp','rainfall_intensity','peak','working_day', 'hour', 'season']\n",
    "\n",
    "params_xgboost = {'max_depth':10,\n",
    "                   'seed': 42,\n",
    "                   'eval_metric': ['rmse','mae'],\n",
    "                #    'model__eval_set': [(X_train, y_train), (X_val, y_val)]\n",
    "                   'verbosity': 0\n",
    "                   }\n",
    "\n",
    "pipe_xgboost = Pipeline([\n",
    "    ('preprocessor', preprocessor(predictors)),\n",
    "    ('model', xgb.XGBRegressor(**params_xgboost))\n",
    "])\n",
    "\n",
    "# pipe_xgboost.set_params(model__eval_set=[(X_train, y_train), (X_val, y_val)])\n",
    "\n",
    "print(kfold_score(pipe_xgboost, predictors))\n",
    "# exp_xgboost = et.Experiment('XGBoost', predictors=predictors, hyperparameters=pipe_xgboost['model'].get_params(),\n",
    "#                                score=get_metrics_to_Experiment(), notes='Baseline XGBoost')\n",
    "# experiment_tracker.add_experiment(exp_xgboost)"
   ]
  },
  {
   "cell_type": "markdown",
   "metadata": {},
   "source": [
    "> https://pierpaolo28.github.io/blog/blog25/#bayesian-optimization\n",
    "\n",
    "> https://www.kdnuggets.com/2019/07/xgboost-random-forest-bayesian-optimisation.html\n",
    "\n",
    "> https://www.kaggle.com/code/neerajmohan/randomforest-model-with-bayesian-optimization/notebook"
   ]
  },
  {
   "cell_type": "code",
   "execution_count": 274,
   "metadata": {},
   "outputs": [],
   "source": [
    "# learnings = \\\n",
    "# \"\"\"XGBoost with almost all default hyperparameters to use as a baseline.\"\"\"\n",
    "# experiment_tracker.update_idea(idea_xgboost, learnings=str.strip(learnings))"
   ]
  },
  {
   "cell_type": "code",
   "execution_count": 275,
   "metadata": {},
   "outputs": [],
   "source": [
    "# experiment_tracker.to_excel('../documentation/experiment_tracker_xgboost.xlsx')"
   ]
  },
  {
   "cell_type": "code",
   "execution_count": 276,
   "metadata": {},
   "outputs": [],
   "source": [
    "# joblib.dump(pipe_xgboost['model'], '../models/XGBoost.pkl')"
   ]
  },
  {
   "cell_type": "code",
   "execution_count": 277,
   "metadata": {},
   "outputs": [
    {
     "name": "stdout",
     "output_type": "stream",
     "text": [
      "Author: Leandro Pessini\n",
      "\n",
      "Last updated: Wed Jun 15 2022\n",
      "\n",
      "Python implementation: CPython\n",
      "Python version       : 3.9.6\n",
      "IPython version      : 8.3.0\n",
      "\n",
      "matplotlib       : 3.4.2\n",
      "seaborn          : 0.11.1\n",
      "xgboost          : 1.4.0\n",
      "statsmodels      : 0.13.2\n",
      "pandas           : 1.3.0\n",
      "joblib           : 1.0.1\n",
      "sklearn          : 1.0.2\n",
      "sys              : 3.9.6 | packaged by conda-forge | (default, Jul 11 2021, 03:36:15) \n",
      "[Clang 11.1.0 ]\n",
      "category_encoders: 2.4.0\n",
      "numpy            : 1.21.1\n",
      "\n",
      "Watermark: 2.3.0\n",
      "\n"
     ]
    }
   ],
   "source": [
    "%reload_ext watermark\n",
    "%watermark -a \"Leandro Pessini\" -n -u -v -iv -w"
   ]
  },
  {
   "cell_type": "markdown",
   "metadata": {},
   "source": [
    "<img title=\"GitHub Mark\" src=\"./img/GitHub-Mark-64px.png\" style=\"height: 32px; padding-right: 15px\" alt=\"GitHub Mark\" align=\"left\"> [GitHub repository](https://github.com/pessini/moby-bikes) <br>Author: Leandro Pessini"
   ]
  }
 ],
 "metadata": {
  "kernelspec": {
   "display_name": "Python 3.9.6 64-bit ('conda-env')",
   "language": "python",
   "name": "python3"
  },
  "language_info": {
   "codemirror_mode": {
    "name": "ipython",
    "version": 3
   },
   "file_extension": ".py",
   "mimetype": "text/x-python",
   "name": "python",
   "nbconvert_exporter": "python",
   "pygments_lexer": "ipython3",
   "version": "3.9.6"
  },
  "orig_nbformat": 4,
  "vscode": {
   "interpreter": {
    "hash": "5c82cf216bcd6695c751af4e033b89e10a78cc5d50e2943f0ed5dd08b475eddb"
   }
  }
 },
 "nbformat": 4,
 "nbformat_minor": 2
}
