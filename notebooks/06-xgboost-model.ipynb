{
 "cells": [
  {
   "cell_type": "markdown",
   "metadata": {},
   "source": [
    "<img title=\"GitHub Octocat\" src='https://github.com/pessini/moby-bikes/blob/902858f47ba9afaf380abfc2be02a2b7f1f09174/notebooks/img/Octocat.jpg?raw=true' style='height: 60px; padding-right: 15px' alt=\"Octocat\" align=\"left\"> This notebook is part of a GitHub repository: https://github.com/pessini/moby-bikes \n",
    "<br>MIT Licensed\n",
    "<br>Author: Leandro Pessini"
   ]
  },
  {
   "cell_type": "code",
   "execution_count": 2,
   "metadata": {},
   "outputs": [],
   "source": [
    "import pandas as pd\n",
    "from pandas import MultiIndex, Int16Dtype\n",
    "import numpy as np\n",
    "import datetime\n",
    "import sys\n",
    "import os\n",
    "import joblib\n",
    "\n",
    "# Preprocessing\n",
    "from sklearn.model_selection import train_test_split\n",
    "from sklearn.preprocessing import StandardScaler, MinMaxScaler, OneHotEncoder, OrdinalEncoder\n",
    "from sklearn.compose import ColumnTransformer\n",
    "from sklearn.pipeline import Pipeline\n",
    "\n",
    "# Models & Evaluation\n",
    "from sklearn.model_selection import KFold\n",
    "\n",
    "# Boost models\n",
    "import xgboost as xgb\n",
    "from sklearn import metrics\n",
    "\n",
    "# Custom objects\n",
    "sys.path.insert(0, os.path.abspath('../src/'))\n",
    "import experiment_tracker as et\n",
    "\n",
    "import time\n",
    "import warnings\n",
    "warnings.simplefilter('ignore', FutureWarning)"
   ]
  },
  {
   "cell_type": "code",
   "execution_count": 2,
   "metadata": {},
   "outputs": [],
   "source": [
    "# ideas_df = pd.read_excel('../documentation/experiment_tracker.xlsx', sheet_name='Ideas')\n",
    "# experiments_df = pd.read_excel('../documentation/experiment_tracker.xlsx', sheet_name='Experiments')"
   ]
  },
  {
   "cell_type": "code",
   "execution_count": 4,
   "metadata": {},
   "outputs": [],
   "source": [
    "# creates a new object to keep track of the experiments\n",
    "experiment_tracker = et.ExperimentTracker()"
   ]
  },
  {
   "cell_type": "code",
   "execution_count": 3,
   "metadata": {},
   "outputs": [],
   "source": [
    "df_train = pd.read_csv('../data/processed/df_train.csv')\n",
    "df_test = pd.read_csv('../data/processed/df_test.csv')"
   ]
  },
  {
   "cell_type": "code",
   "execution_count": 5,
   "metadata": {},
   "outputs": [
    {
     "data": {
      "text/plain": [
       "(8760, 22)"
      ]
     },
     "execution_count": 5,
     "metadata": {},
     "output_type": "execute_result"
    }
   ],
   "source": [
    "df = df_train.copy()\n",
    "X = df.drop(['count'], axis=1)\n",
    "y = df.pop('count')\n",
    "all_columns = list(X.columns)\n",
    "# X_train, X_val, y_train, y_val = train_test_split(X, y, test_size=0.3, random_state=42)\n",
    "X.shape"
   ]
  },
  {
   "cell_type": "code",
   "execution_count": 6,
   "metadata": {},
   "outputs": [
    {
     "data": {
      "text/plain": [
       "(1464, 22)"
      ]
     },
     "execution_count": 6,
     "metadata": {},
     "output_type": "execute_result"
    }
   ],
   "source": [
    "test_df = df_test.copy()\n",
    "X_test = test_df.drop(['count'], axis=1)\n",
    "y_test = test_df.pop('count')\n",
    "X_test.shape"
   ]
  },
  {
   "cell_type": "code",
   "execution_count": 7,
   "metadata": {},
   "outputs": [],
   "source": [
    "def get_metrics_to_Experiment(dict_scores = None) -> list:\n",
    "    if dict_scores is None:\n",
    "        dict_scores = {}\n",
    "    rsme = et.Score('RSME', '{:.4f}'.format(dict_scores['train_rsme']), '{:.4f}'.format(dict_scores['val_rsme']))\n",
    "    mae = et.Score('MAE', '{:.4f}'.format(dict_scores['train_mae']), '{:.4f}'.format(dict_scores['val_mae']))\n",
    "    return [rsme, mae]"
   ]
  },
  {
   "cell_type": "code",
   "execution_count": 8,
   "metadata": {},
   "outputs": [],
   "source": [
    "import category_encoders as ce\n",
    "\n",
    "def preprocessor(predictors: list) -> ColumnTransformer:\n",
    "    # Setting remainder='passthrough' will mean that all columns not specified in the list of “transformers” \n",
    "    #   will be passed through without transformation, instead of being dropped\n",
    "\n",
    "    ##################### Categorical variables #####################\n",
    "    all_cat_vars = ['timesofday','dayofweek','holiday','peak','hour','working_day','season','month']\n",
    "    cat_vars = [categorical_var for categorical_var in all_cat_vars if categorical_var in predictors]\n",
    "\n",
    "    # categorical variables\n",
    "    cat_pipe = Pipeline([\n",
    "        ('encoder', OneHotEncoder(handle_unknown='ignore', sparse=False))\n",
    "    ])\n",
    "\n",
    "    cat_encoder = 'cat', cat_pipe, cat_vars\n",
    "\n",
    "    ##################### Numerical variables #####################\n",
    "    all_num_vars = ['rain', 'temp', 'rhum','wdsp','temp_r']\n",
    "    num_vars = [numerical_var for numerical_var in all_num_vars if numerical_var in predictors]\n",
    "\n",
    "    num_pipe = Pipeline([\n",
    "        ('scaler', StandardScaler())\n",
    "        # ('scaler', MinMaxScaler())\n",
    "    ])\n",
    "\n",
    "    num_enconder =  'num', num_pipe, num_vars\n",
    "\n",
    "    ##################### Ordinal variables #####################\n",
    "    all_ord_vars = ['wind_speed_group','rainfall_intensity']\n",
    "    ord_vars = [ordinal_var for ordinal_var in all_ord_vars if ordinal_var in predictors]\n",
    "\n",
    "    ordinal_cols_mapping = []\n",
    "    if 'wind_speed_group' in predictors:\n",
    "        ordinal_cols_mapping.append(\n",
    "            {\"col\":\"wind_speed_group\",    \n",
    "            \"mapping\": {\n",
    "                'Calm / Light Breeze': 0, \n",
    "                'Breeze': 1, \n",
    "                'Moderate Breeze': 2, \n",
    "                'Strong Breeze / Near Gale': 3, \n",
    "                'Gale / Storm': 4\n",
    "            }}\n",
    "        )\n",
    "\n",
    "    if 'rainfall_intensity' in predictors:\n",
    "        ordinal_cols_mapping.append(\n",
    "            {\"col\":\"rainfall_intensity\",    \n",
    "            \"mapping\": {\n",
    "                'no rain': 0, \n",
    "                'drizzle': 1, \n",
    "                'light rain': 2, \n",
    "                'moderate rain': 3, \n",
    "                'heavy rain': 4\n",
    "            }}\n",
    "        )\n",
    "\n",
    "    # ordinal variables\n",
    "    ord_pipe = Pipeline([\n",
    "        ('ordinal', ce.OrdinalEncoder(mapping=ordinal_cols_mapping))\n",
    "    ])\n",
    "\n",
    "    ord_enconder =  'ordinal', ord_pipe, ord_vars\n",
    "    \n",
    "    #################################################################################\n",
    "    \n",
    "    orig_vars = [var for var in predictors if var not in cat_vars and var not in num_vars and var not in ord_vars]\n",
    "    orig_enconder = 'pass_vars', 'passthrough', orig_vars\n",
    "     # ['temp_bin','rhum_bin']\n",
    "    # ord_pipe = 'passthrough'\n",
    "\n",
    "    transformers_list = []\n",
    "    transformers_list.append(cat_encoder) if cat_vars else None\n",
    "    transformers_list.append(ord_enconder) if ord_vars else None\n",
    "    transformers_list.append(num_enconder) if num_vars else None\n",
    "    # transformers_list.append(orig_enconder) if orig_vars else None\n",
    "    \n",
    "    return ColumnTransformer(transformers=transformers_list, \n",
    "                             remainder='drop')"
   ]
  },
  {
   "cell_type": "code",
   "execution_count": 9,
   "metadata": {},
   "outputs": [],
   "source": [
    "def summarize_dict(dictionary, function):\n",
    "    return {k: function(v) for k,v in dictionary.items()}"
   ]
  },
  {
   "cell_type": "code",
   "execution_count": 10,
   "metadata": {},
   "outputs": [],
   "source": [
    "def kfold_score(params, predictors, X=X, y=y, n_folds=5, verbose=50, early_stopping_rounds=10):\n",
    "    \n",
    "    pipe_xgboost = Pipeline([\n",
    "        ('preprocessor', preprocessor(predictors)),\n",
    "        ('model', xgb.XGBRegressor(**params))\n",
    "    ])\n",
    "\n",
    "    X = X[[c for c in X.columns if c in predictors]]\n",
    "    cv = KFold(n_splits=n_folds, shuffle=True, random_state=2022)\n",
    "    scores = {\"train_rsme\":[],\"val_rsme\":[],\"train_mae\":[],\"val_mae\":[]}\n",
    "\n",
    "    for n_fold, (train_index, test_index) in enumerate(cv.split(X, y)):\n",
    "        print('#'*40, f'Fold {n_fold+1} out of {cv.n_splits}', '#'*40)\n",
    "        X_train, X_test = X.iloc[train_index], X.iloc[test_index]\n",
    "        y_train, y_test = y.iloc[train_index], y.iloc[test_index]\n",
    "\n",
    "        # Xy = xgb.DMatrix(X_train, y_train, enable_categorical=True)\n",
    "        X_test_transformed = pipe_xgboost['preprocessor'].fit_transform(X_test)\n",
    "        pipe_xgboost.fit(X_train, y_train,\n",
    "                         model__eval_set=[(X_test_transformed, y_test)], \n",
    "                         model__early_stopping_rounds=early_stopping_rounds,\n",
    "                         model__verbose=verbose)\n",
    "        # pipe_xgboost.fit(X_train, y_train)\n",
    "        # print(pipe_xgboost['model'].evals_result())\n",
    "\n",
    "        # Predict on training and validation set\n",
    "        y_pred_train = pipe_xgboost.predict(X_train)\n",
    "        y_pred_val = pipe_xgboost.predict(X_test)\n",
    "\n",
    "        # Calculate the RSME and MAE\n",
    "        # If squared = True returns MSE value, if False returns RMSE value.\n",
    "        scores['train_rsme'].append(metrics.mean_squared_error(y_train, y_pred_train, squared=False))\n",
    "        scores['val_rsme'].append(metrics.mean_squared_error(y_test, y_pred_val, squared=False))\n",
    "        scores['train_mae'].append(metrics.mean_absolute_error(y_train, y_pred_train))\n",
    "        scores['val_mae'].append(metrics.mean_absolute_error(y_test, y_pred_val))\n",
    "\n",
    "        print(f\"Fold {n_fold+1} - best iteration: {pipe_xgboost['model'].get_booster().best_iteration}\\n\")\n",
    "\n",
    "    return summarize_dict(scores, np.mean), pipe_xgboost"
   ]
  },
  {
   "cell_type": "code",
   "execution_count": 11,
   "metadata": {},
   "outputs": [],
   "source": [
    "#predictors = ['temp','rhum','dayofweek', 'holiday','timesofday','wdsp','rainfall_intensity','peak','working_day', 'hour', 'season']"
   ]
  },
  {
   "cell_type": "markdown",
   "metadata": {},
   "source": [
    "## Hyperparameters tuning"
   ]
  },
  {
   "cell_type": "code",
   "execution_count": 11,
   "metadata": {},
   "outputs": [
    {
     "name": "stdout",
     "output_type": "stream",
     "text": [
      "######################################## Fold 1 out of 3 ########################################\n",
      "[0]\tvalidation_0-rmse:4.21537\n",
      "[50]\tvalidation_0-rmse:2.74378\n",
      "[59]\tvalidation_0-rmse:2.74717\n",
      "Fold 1 - best iteration: 50\n",
      "\n",
      "######################################## Fold 2 out of 3 ########################################\n",
      "[0]\tvalidation_0-rmse:3.78092\n",
      "[50]\tvalidation_0-rmse:2.50728\n",
      "[52]\tvalidation_0-rmse:2.51101\n",
      "Fold 2 - best iteration: 43\n",
      "\n",
      "######################################## Fold 3 out of 3 ########################################\n",
      "[0]\tvalidation_0-rmse:3.96064\n",
      "[50]\tvalidation_0-rmse:2.65082\n",
      "[60]\tvalidation_0-rmse:2.65222\n",
      "Fold 3 - best iteration: 50\n",
      "\n",
      "--- New Experiment added! ---\n",
      "ID#: 5375691408 \n",
      "Algorithm: XGBoost (Baseline) \n",
      "Predictors: ['temp', 'rhum', 'dayofweek', 'holiday', 'timesofday', 'wdsp', 'rainfall_intensity', 'peak', 'working_day', 'hour', 'season']\n",
      "Hyperparameters: {'objective': 'reg:squarederror', 'base_score': 0.5, 'booster': 'gbtree', 'colsample_bylevel': 1, 'colsample_bynode': 1, 'colsample_bytree': 1, 'enable_categorical': False, 'gamma': 0, 'gpu_id': -1, 'importance_type': None, 'interaction_constraints': '', 'learning_rate': 0.300000012, 'max_delta_step': 0, 'max_depth': 3, 'min_child_weight': 1, 'missing': nan, 'monotone_constraints': '()', 'n_estimators': 500, 'n_jobs': 4, 'num_parallel_tree': 1, 'predictor': 'auto', 'random_state': 42, 'reg_alpha': 0, 'reg_lambda': 1, 'scale_pos_weight': 1, 'subsample': 1, 'tree_method': 'exact', 'validate_parameters': 1, 'verbosity': None, 'seed': 42, 'eval_metric': 'rmse'}\n",
      "Date: 09/07/2022 19:07:30\n",
      "Metric: [{ 'metric': RSME, 'train': 2.4729,  'validation': 2.6320, 'test': None }, { 'metric': MAE, 'train': 1.8143,  'validation': 1.9269, 'test': None }]\n",
      "Notes: Baseline XGBoost\n"
     ]
    }
   ],
   "source": [
    "# Baseline model\n",
    "predictors = ['temp','rhum','dayofweek', 'holiday','timesofday','wdsp','rainfall_intensity','peak','working_day', 'hour', 'season']\n",
    "\n",
    "params_xgboost = {'max_depth':3,\n",
    "                  'n_estimators': 500,\n",
    "                   'seed': 42,\n",
    "                   'eval_metric': 'rmse'\n",
    "                   }\n",
    "\n",
    "dict_scores, xgb_model = kfold_score(params_xgboost, predictors, n_folds=3)\n",
    "exp_xgboost = et.Experiment('XGBoost (Baseline)', predictors=predictors, hyperparameters=xgb_model['model'].get_params(),\n",
    "                               score=get_metrics_to_Experiment(dict_scores), notes='Baseline XGBoost')\n",
    "experiment_tracker.add_experiment(exp_xgboost)"
   ]
  },
  {
   "cell_type": "code",
   "execution_count": 13,
   "metadata": {},
   "outputs": [
    {
     "name": "stdout",
     "output_type": "stream",
     "text": [
      "######################################## Fold 1 out of 3 ########################################\n",
      "[0]\tvalidation_0-rmse:4.51870\n",
      "[50]\tvalidation_0-rmse:2.74515\n",
      "[80]\tvalidation_0-rmse:2.73048\n",
      "Fold 1 - best iteration: 71\n",
      "\n",
      "######################################## Fold 2 out of 3 ########################################\n",
      "[0]\tvalidation_0-rmse:4.08433\n",
      "[50]\tvalidation_0-rmse:2.50050\n",
      "[87]\tvalidation_0-rmse:2.48756\n",
      "Fold 2 - best iteration: 78\n",
      "\n",
      "######################################## Fold 3 out of 3 ########################################\n",
      "[0]\tvalidation_0-rmse:4.26917\n",
      "[50]\tvalidation_0-rmse:2.66483\n",
      "[64]\tvalidation_0-rmse:2.66475\n",
      "Fold 3 - best iteration: 54\n",
      "\n",
      "--- New Experiment added! ---\n",
      "ID#: 6510649104 \n",
      "Algorithm: XGBoost 1 \n",
      "Predictors: ['temp', 'rhum', 'dayofweek', 'holiday', 'timesofday', 'wdsp', 'rainfall_intensity', 'peak', 'working_day', 'hour', 'season']\n",
      "Hyperparameters: {'objective': 'reg:squarederror', 'base_score': 0.5, 'booster': 'gbtree', 'colsample_bylevel': 1, 'colsample_bynode': 1, 'colsample_bytree': 0.5, 'gamma': 1, 'gpu_id': -1, 'importance_type': 'gain', 'interaction_constraints': '', 'learning_rate': 0.200000003, 'max_delta_step': 0, 'max_depth': 3, 'min_child_weight': 1, 'missing': nan, 'monotone_constraints': '()', 'n_estimators': 500, 'n_jobs': 12, 'num_parallel_tree': 1, 'random_state': 42, 'reg_alpha': 0, 'reg_lambda': 1, 'scale_pos_weight': 1, 'subsample': 1, 'tree_method': 'exact', 'validate_parameters': 1, 'verbosity': None, 'eta': 0.2, 'seed': 42, 'eval_metric': 'rmse'}\n",
      "Date: 05/07/2022 21:16:22\n",
      "Metric: [{ 'metric': RSME, 'train': 2.4930,  'validation': 2.6233, 'test': None }, { 'metric': MAE, 'train': 1.8292,  'validation': 1.9204, 'test': None }]\n",
      "\n"
     ]
    }
   ],
   "source": [
    "predictors = ['temp','rhum','dayofweek', 'holiday','timesofday','wdsp','rainfall_intensity','peak','working_day', 'hour', 'season']\n",
    "\n",
    "params_xgboost = {'max_depth':3,\n",
    "                  'eta': 0.2,\n",
    "                  'n_estimators': 500,\n",
    "                  'subsample': 1,\n",
    "                  'colsample_bytree': 0.5,\n",
    "                  'gamma': 1,\n",
    "                   'seed': 42,\n",
    "                   'eval_metric': 'rmse'\n",
    "                   }\n",
    "\n",
    "dict_scores, xgb_model = kfold_score(params_xgboost, predictors, n_folds=3)\n",
    "exp_xgboost = et.Experiment('XGBoost 1', predictors=predictors, hyperparameters=xgb_model['model'].get_params(),\n",
    "                               score=get_metrics_to_Experiment(dict_scores), notes='')\n",
    "experiment_tracker.add_experiment(exp_xgboost)"
   ]
  },
  {
   "cell_type": "code",
   "execution_count": 14,
   "metadata": {},
   "outputs": [
    {
     "name": "stdout",
     "output_type": "stream",
     "text": [
      "######################################## Fold 1 out of 5 ########################################\n",
      "[0]\tvalidation_0-rmse:4.98932\n",
      "[250]\tvalidation_0-rmse:2.74287\n",
      "[464]\tvalidation_0-rmse:2.69763\n",
      "Fold 1 - best iteration: 434\n",
      "\n",
      "######################################## Fold 2 out of 5 ########################################\n",
      "[0]\tvalidation_0-rmse:4.92424\n",
      "[250]\tvalidation_0-rmse:2.67194\n",
      "[500]\tvalidation_0-rmse:2.62396\n",
      "[554]\tvalidation_0-rmse:2.62388\n",
      "Fold 2 - best iteration: 525\n",
      "\n",
      "######################################## Fold 3 out of 5 ########################################\n",
      "[0]\tvalidation_0-rmse:4.69002\n",
      "[250]\tvalidation_0-rmse:2.47367\n",
      "[486]\tvalidation_0-rmse:2.43117\n",
      "Fold 3 - best iteration: 456\n",
      "\n",
      "######################################## Fold 4 out of 5 ########################################\n",
      "[0]\tvalidation_0-rmse:4.71785\n",
      "[250]\tvalidation_0-rmse:2.55160\n",
      "[459]\tvalidation_0-rmse:2.51858\n",
      "Fold 4 - best iteration: 430\n",
      "\n",
      "######################################## Fold 5 out of 5 ########################################\n",
      "[0]\tvalidation_0-rmse:4.85740\n",
      "[250]\tvalidation_0-rmse:2.70376\n",
      "[474]\tvalidation_0-rmse:2.64725\n",
      "Fold 5 - best iteration: 444\n",
      "\n",
      "--- New Experiment added! ---\n",
      "ID#: 6511250544 \n",
      "Algorithm: XGBoost (max_depth, eta, subsampel and estimators) \n",
      "Predictors: ['temp', 'rhum', 'dayofweek', 'holiday', 'timesofday', 'wdsp', 'rainfall_intensity', 'peak', 'working_day', 'hour', 'season']\n",
      "Hyperparameters: {'objective': 'reg:squarederror', 'base_score': 0.5, 'booster': 'gbtree', 'colsample_bylevel': 1, 'colsample_bynode': 1, 'colsample_bytree': 0.5, 'gamma': 1, 'gpu_id': -1, 'importance_type': 'gain', 'interaction_constraints': '', 'learning_rate': 0.00999999978, 'max_delta_step': 0, 'max_depth': 9, 'min_child_weight': 1, 'missing': nan, 'monotone_constraints': '()', 'n_estimators': 1000, 'n_jobs': 12, 'num_parallel_tree': 1, 'random_state': 42, 'reg_alpha': 0, 'reg_lambda': 1, 'scale_pos_weight': 1, 'subsample': 0.7, 'tree_method': 'exact', 'validate_parameters': 1, 'verbosity': None, 'eta': 0.01, 'seed': 42, 'eval_metric': 'rmse'}\n",
      "Date: 05/07/2022 21:16:41\n",
      "Metric: [{ 'metric': RSME, 'train': 1.8872,  'validation': 2.5822, 'test': None }, { 'metric': MAE, 'train': 1.3823,  'validation': 1.8758, 'test': None }]\n",
      "\n"
     ]
    }
   ],
   "source": [
    "predictors = ['temp','rhum','dayofweek', 'holiday','timesofday','wdsp','rainfall_intensity','peak','working_day', 'hour', 'season']\n",
    "\n",
    "params_xgboost = {'max_depth':9,\n",
    "                  'eta': 0.01,\n",
    "                  'n_estimators': 1000,\n",
    "                  'subsample': 0.7,\n",
    "                  'colsample_bytree': 0.5,\n",
    "                  'gamma': 1,\n",
    "                   'seed': 42,\n",
    "                   'eval_metric': 'rmse'\n",
    "                   }\n",
    "\n",
    "dict_scores, xgb_model = kfold_score(params_xgboost, predictors, n_folds=5, verbose=250, early_stopping_rounds=30)\n",
    "exp_xgboost = et.Experiment('XGBoost (max_depth, eta, subsampel and estimators)', predictors=predictors, hyperparameters=xgb_model['model'].get_params(), \n",
    "                            score=get_metrics_to_Experiment(dict_scores))\n",
    "experiment_tracker.add_experiment(exp_xgboost)"
   ]
  },
  {
   "cell_type": "code",
   "execution_count": 15,
   "metadata": {},
   "outputs": [
    {
     "name": "stdout",
     "output_type": "stream",
     "text": [
      "--- Experiments ---\n",
      "\n",
      "Model: XGBoost (Baseline)\n",
      "RSME - Train: 2.4729 - Validation: 2.6320 - Test: None\n",
      "\n",
      "Model: XGBoost 1\n",
      "RSME - Train: 2.4930 - Validation: 2.6233 - Test: None\n",
      "\n",
      "Model: XGBoost (max_depth, eta, subsampel and estimators)\n",
      "RSME - Train: 1.8872 - Validation: 2.5822 - Test: None\n"
     ]
    }
   ],
   "source": [
    "experiment_tracker.print_partial_results(filter_metric='rsme')"
   ]
  },
  {
   "cell_type": "code",
   "execution_count": 16,
   "metadata": {},
   "outputs": [
    {
     "name": "stdout",
     "output_type": "stream",
     "text": [
      "######################################## Fold 1 out of 5 ########################################\n",
      "[0]\tvalidation_0-rmse:4.98932\n",
      "[250]\tvalidation_0-rmse:2.74273\n",
      "[464]\tvalidation_0-rmse:2.69694\n",
      "Fold 1 - best iteration: 435\n",
      "\n",
      "######################################## Fold 2 out of 5 ########################################\n",
      "[0]\tvalidation_0-rmse:4.92424\n",
      "[250]\tvalidation_0-rmse:2.67145\n",
      "[500]\tvalidation_0-rmse:2.62315\n",
      "[562]\tvalidation_0-rmse:2.62348\n",
      "Fold 2 - best iteration: 533\n",
      "\n",
      "######################################## Fold 3 out of 5 ########################################\n",
      "[0]\tvalidation_0-rmse:4.69001\n",
      "[250]\tvalidation_0-rmse:2.47430\n",
      "[500]\tvalidation_0-rmse:2.43228\n",
      "Fold 3 - best iteration: 470\n",
      "\n",
      "######################################## Fold 4 out of 5 ########################################\n",
      "[0]\tvalidation_0-rmse:4.71784\n",
      "[250]\tvalidation_0-rmse:2.54976\n",
      "[456]\tvalidation_0-rmse:2.51627\n",
      "Fold 4 - best iteration: 426\n",
      "\n",
      "######################################## Fold 5 out of 5 ########################################\n",
      "[0]\tvalidation_0-rmse:4.85738\n",
      "[250]\tvalidation_0-rmse:2.70294\n",
      "[477]\tvalidation_0-rmse:2.64475\n",
      "Fold 5 - best iteration: 448\n",
      "\n",
      "--- New Experiment added! ---\n",
      "ID#: 6511302688 \n",
      "Algorithm: XGBoost (gamma: 1.5) \n",
      "Predictors: ['temp', 'rhum', 'dayofweek', 'holiday', 'timesofday', 'wdsp', 'rainfall_intensity', 'peak', 'working_day', 'hour', 'season']\n",
      "Hyperparameters: {'objective': 'reg:squarederror', 'base_score': 0.5, 'booster': 'gbtree', 'colsample_bylevel': 1, 'colsample_bynode': 1, 'colsample_bytree': 0.5, 'gamma': 1.5, 'gpu_id': -1, 'importance_type': 'gain', 'interaction_constraints': '', 'learning_rate': 0.00999999978, 'max_delta_step': 0, 'max_depth': 9, 'min_child_weight': 1, 'missing': nan, 'monotone_constraints': '()', 'n_estimators': 1000, 'n_jobs': 12, 'num_parallel_tree': 1, 'random_state': 42, 'reg_alpha': 0, 'reg_lambda': 1, 'scale_pos_weight': 1, 'subsample': 0.7, 'tree_method': 'exact', 'validate_parameters': 1, 'verbosity': None, 'eta': 0.01, 'seed': 42, 'eval_metric': 'rmse'}\n",
      "Date: 05/07/2022 21:17:01\n",
      "Metric: [{ 'metric': RSME, 'train': 1.8869,  'validation': 2.5816, 'test': None }, { 'metric': MAE, 'train': 1.3840,  'validation': 1.8753, 'test': None }]\n",
      "\n"
     ]
    }
   ],
   "source": [
    "predictors = ['temp','rhum','dayofweek', 'holiday','timesofday','wdsp','rainfall_intensity','peak','working_day', 'hour', 'season']\n",
    "\n",
    "params_xgboost = {'max_depth':9,\n",
    "                  'eta': 0.01,\n",
    "                  'n_estimators': 1000,\n",
    "                  'subsample': 0.7,\n",
    "                  'colsample_bytree': 0.5,\n",
    "                  'gamma': 1.5,\n",
    "                   'seed': 42,\n",
    "                   'eval_metric': 'rmse'\n",
    "                   }\n",
    "\n",
    "dict_scores, xgb_model = kfold_score(params_xgboost, predictors, n_folds=5, verbose=250, early_stopping_rounds=30)\n",
    "exp_xgboost = et.Experiment('XGBoost (gamma: 1.5)', predictors=predictors, hyperparameters=xgb_model['model'].get_params(), \n",
    "                            score=get_metrics_to_Experiment(dict_scores))\n",
    "experiment_tracker.add_experiment(exp_xgboost)"
   ]
  },
  {
   "cell_type": "code",
   "execution_count": 17,
   "metadata": {},
   "outputs": [
    {
     "name": "stdout",
     "output_type": "stream",
     "text": [
      "--- Experiments ---\n",
      "\n",
      "Model: XGBoost (Baseline)\n",
      "RSME - Train: 2.4729 - Validation: 2.6320 - Test: None\n",
      "\n",
      "Model: XGBoost 1\n",
      "RSME - Train: 2.4930 - Validation: 2.6233 - Test: None\n",
      "\n",
      "Model: XGBoost (max_depth, eta, subsampel and estimators)\n",
      "RSME - Train: 1.8872 - Validation: 2.5822 - Test: None\n",
      "\n",
      "Model: XGBoost (gamma: 1.5)\n",
      "RSME - Train: 1.8869 - Validation: 2.5816 - Test: None\n"
     ]
    }
   ],
   "source": [
    "experiment_tracker.print_partial_results(filter_metric='rsme')"
   ]
  },
  {
   "cell_type": "code",
   "execution_count": 18,
   "metadata": {},
   "outputs": [
    {
     "name": "stdout",
     "output_type": "stream",
     "text": [
      "######################################## Fold 1 out of 5 ########################################\n",
      "[0]\tvalidation_0-rmse:4.98938\n",
      "[250]\tvalidation_0-rmse:2.74379\n",
      "[500]\tvalidation_0-rmse:2.68098\n",
      "[567]\tvalidation_0-rmse:2.68054\n",
      "Fold 1 - best iteration: 538\n",
      "\n",
      "######################################## Fold 2 out of 5 ########################################\n",
      "[0]\tvalidation_0-rmse:4.92448\n",
      "[250]\tvalidation_0-rmse:2.68077\n",
      "[500]\tvalidation_0-rmse:2.62479\n",
      "[634]\tvalidation_0-rmse:2.62210\n",
      "Fold 2 - best iteration: 605\n",
      "\n",
      "######################################## Fold 3 out of 5 ########################################\n",
      "[0]\tvalidation_0-rmse:4.69044\n",
      "[250]\tvalidation_0-rmse:2.48931\n",
      "[500]\tvalidation_0-rmse:2.43671\n",
      "[583]\tvalidation_0-rmse:2.43432\n",
      "Fold 3 - best iteration: 554\n",
      "\n",
      "######################################## Fold 4 out of 5 ########################################\n",
      "[0]\tvalidation_0-rmse:4.71821\n",
      "[250]\tvalidation_0-rmse:2.56305\n",
      "[464]\tvalidation_0-rmse:2.51914\n",
      "Fold 4 - best iteration: 435\n",
      "\n",
      "######################################## Fold 5 out of 5 ########################################\n",
      "[0]\tvalidation_0-rmse:4.85732\n",
      "[250]\tvalidation_0-rmse:2.70761\n",
      "[500]\tvalidation_0-rmse:2.64460\n",
      "[567]\tvalidation_0-rmse:2.64252\n",
      "Fold 5 - best iteration: 537\n",
      "\n",
      "--- New Experiment added! ---\n",
      "ID#: 6511055104 \n",
      "Algorithm: XGBoost (max_depth: 7) \n",
      "Predictors: ['temp', 'rhum', 'dayofweek', 'holiday', 'timesofday', 'wdsp', 'rainfall_intensity', 'peak', 'working_day', 'hour', 'season']\n",
      "Hyperparameters: {'objective': 'reg:squarederror', 'base_score': 0.5, 'booster': 'gbtree', 'colsample_bylevel': 1, 'colsample_bynode': 1, 'colsample_bytree': 0.5, 'gamma': 1.5, 'gpu_id': -1, 'importance_type': 'gain', 'interaction_constraints': '', 'learning_rate': 0.00999999978, 'max_delta_step': 0, 'max_depth': 7, 'min_child_weight': 1, 'missing': nan, 'monotone_constraints': '()', 'n_estimators': 1000, 'n_jobs': 12, 'num_parallel_tree': 1, 'random_state': 42, 'reg_alpha': 0, 'reg_lambda': 1, 'scale_pos_weight': 1, 'subsample': 0.7, 'tree_method': 'exact', 'validate_parameters': 1, 'verbosity': None, 'eta': 0.01, 'seed': 42, 'eval_metric': 'rmse'}\n",
      "Date: 05/07/2022 21:17:18\n",
      "Metric: [{ 'metric': RSME, 'train': 2.1507,  'validation': 2.5762, 'test': None }, { 'metric': MAE, 'train': 1.5812,  'validation': 1.8766, 'test': None }]\n",
      "\n"
     ]
    }
   ],
   "source": [
    "predictors = ['temp','rhum','dayofweek', 'holiday','timesofday','wdsp','rainfall_intensity','peak','working_day', 'hour', 'season']\n",
    "\n",
    "params_xgboost = {'max_depth':7,\n",
    "                  'eta': 0.01,\n",
    "                  'n_estimators': 1000,\n",
    "                  'subsample': 0.7,\n",
    "                  'colsample_bytree': 0.5,\n",
    "                  'gamma': 1.5,\n",
    "                   'seed': 42,\n",
    "                   'eval_metric': 'rmse'\n",
    "                   }\n",
    "\n",
    "dict_scores, xgb_model = kfold_score(params_xgboost, predictors, n_folds=5, verbose=250, early_stopping_rounds=30)\n",
    "exp_xgboost = et.Experiment('XGBoost (max_depth: 7)', predictors=predictors, hyperparameters=xgb_model['model'].get_params(), \n",
    "                            score=get_metrics_to_Experiment(dict_scores))\n",
    "experiment_tracker.add_experiment(exp_xgboost)"
   ]
  },
  {
   "cell_type": "code",
   "execution_count": 12,
   "metadata": {},
   "outputs": [
    {
     "name": "stdout",
     "output_type": "stream",
     "text": [
      "######################################## Fold 1 out of 5 ########################################\n",
      "[0]\tvalidation_0-rmse:4.99104\n",
      "[250]\tvalidation_0-rmse:2.75939\n",
      "[500]\tvalidation_0-rmse:2.68531\n",
      "[660]\tvalidation_0-rmse:2.68095\n",
      "Fold 1 - best iteration: 631\n",
      "\n",
      "######################################## Fold 2 out of 5 ########################################\n",
      "[0]\tvalidation_0-rmse:4.92611\n",
      "[250]\tvalidation_0-rmse:2.69384\n",
      "[500]\tvalidation_0-rmse:2.62939\n",
      "[637]\tvalidation_0-rmse:2.62626\n",
      "Fold 2 - best iteration: 607\n",
      "\n",
      "######################################## Fold 3 out of 5 ########################################\n",
      "[0]\tvalidation_0-rmse:4.69171\n",
      "[250]\tvalidation_0-rmse:2.50074\n",
      "[500]\tvalidation_0-rmse:2.44295\n",
      "[587]\tvalidation_0-rmse:2.43860\n",
      "Fold 3 - best iteration: 557\n",
      "\n",
      "######################################## Fold 4 out of 5 ########################################\n",
      "[0]\tvalidation_0-rmse:4.71944\n",
      "[250]\tvalidation_0-rmse:2.56594\n",
      "[500]\tvalidation_0-rmse:2.51415\n",
      "[534]\tvalidation_0-rmse:2.51421\n",
      "Fold 4 - best iteration: 505\n",
      "\n",
      "######################################## Fold 5 out of 5 ########################################\n",
      "[0]\tvalidation_0-rmse:4.85890\n",
      "[250]\tvalidation_0-rmse:2.71289\n",
      "[500]\tvalidation_0-rmse:2.64412\n",
      "[672]\tvalidation_0-rmse:2.64067\n",
      "Fold 5 - best iteration: 642\n",
      "\n",
      "--- New Experiment added! ---\n",
      "ID#: 5375688864 \n",
      "Algorithm: XGBoost (- holiday and - peak features) \n",
      "Predictors: ['temp', 'rhum', 'dayofweek', 'timesofday', 'wdsp', 'rainfall_intensity', 'working_day', 'hour', 'season']\n",
      "Hyperparameters: {'objective': 'reg:squarederror', 'base_score': 0.5, 'booster': 'gbtree', 'colsample_bylevel': 1, 'colsample_bynode': 1, 'colsample_bytree': 0.5, 'enable_categorical': False, 'gamma': 1.5, 'gpu_id': -1, 'importance_type': None, 'interaction_constraints': '', 'learning_rate': 0.00999999978, 'max_delta_step': 0, 'max_depth': 7, 'min_child_weight': 1, 'missing': nan, 'monotone_constraints': '()', 'n_estimators': 1000, 'n_jobs': 4, 'num_parallel_tree': 1, 'predictor': 'auto', 'random_state': 42, 'reg_alpha': 0, 'reg_lambda': 1, 'scale_pos_weight': 1, 'subsample': 0.7, 'tree_method': 'exact', 'validate_parameters': 1, 'verbosity': None, 'eta': 0.01, 'seed': 42, 'eval_metric': 'rmse'}\n",
      "Date: 09/07/2022 19:08:41\n",
      "Metric: [{ 'metric': RSME, 'train': 2.1291,  'validation': 2.5783, 'test': None }, { 'metric': MAE, 'train': 1.5662,  'validation': 1.8773, 'test': None }]\n",
      "\n"
     ]
    }
   ],
   "source": [
    "predictors = ['temp','rhum','dayofweek','timesofday','wdsp','rainfall_intensity', 'working_day', 'hour', 'season']\n",
    "\n",
    "params_xgboost = {'max_depth':7,\n",
    "                  'eta': 0.01,\n",
    "                  'n_estimators': 1000,\n",
    "                  'subsample': 0.7,\n",
    "                  'colsample_bytree': 0.5,\n",
    "                  'gamma': 1.5,\n",
    "                   'seed': 42,\n",
    "                   'eval_metric': 'rmse'\n",
    "                   }\n",
    "\n",
    "dict_scores, xgb_model = kfold_score(params_xgboost, predictors, n_folds=5, verbose=250, early_stopping_rounds=30)\n",
    "exp_xgboost = et.Experiment('XGBoost (- holiday and - peak features)', predictors=predictors, hyperparameters=xgb_model['model'].get_params(), \n",
    "                            score=get_metrics_to_Experiment(dict_scores))\n",
    "experiment_tracker.add_experiment(exp_xgboost)"
   ]
  },
  {
   "cell_type": "markdown",
   "metadata": {},
   "source": [
    "## Saving model"
   ]
  },
  {
   "cell_type": "code",
   "execution_count": 13,
   "metadata": {},
   "outputs": [],
   "source": [
    "import pickle\n",
    "pickle.dump(xgb_model, open('../models/xgb_pipeline.pkl', 'wb'))\n",
    "pickle.dump(xgb_model['model'], open('../models/xgboost.pkl', 'wb'))"
   ]
  },
  {
   "cell_type": "code",
   "execution_count": 14,
   "metadata": {},
   "outputs": [],
   "source": [
    "xgb_model['model'].save_model('../models/XGBoost.json')\n",
    "xgb_model['model'].save_model('../models/XGBoost.model')"
   ]
  },
  {
   "cell_type": "code",
   "execution_count": 30,
   "metadata": {},
   "outputs": [
    {
     "name": "stdout",
     "output_type": "stream",
     "text": [
      "######################################## Fold 1 out of 5 ########################################\n",
      "[0]\tvalidation_0-rmse:4.99293\n",
      "[250]\tvalidation_0-rmse:2.76406\n",
      "[500]\tvalidation_0-rmse:2.69522\n",
      "[609]\tvalidation_0-rmse:2.69265\n",
      "Fold 1 - best iteration: 580\n",
      "\n",
      "######################################## Fold 2 out of 5 ########################################\n",
      "[0]\tvalidation_0-rmse:4.92741\n",
      "[250]\tvalidation_0-rmse:2.70217\n",
      "[500]\tvalidation_0-rmse:2.63041\n",
      "[529]\tvalidation_0-rmse:2.63042\n",
      "Fold 2 - best iteration: 499\n",
      "\n",
      "######################################## Fold 3 out of 5 ########################################\n",
      "[0]\tvalidation_0-rmse:4.69318\n",
      "[250]\tvalidation_0-rmse:2.51337\n",
      "[500]\tvalidation_0-rmse:2.45737\n",
      "[584]\tvalidation_0-rmse:2.45454\n",
      "Fold 3 - best iteration: 555\n",
      "\n",
      "######################################## Fold 4 out of 5 ########################################\n",
      "[0]\tvalidation_0-rmse:4.72042\n",
      "[250]\tvalidation_0-rmse:2.58852\n",
      "[500]\tvalidation_0-rmse:2.54086\n",
      "[523]\tvalidation_0-rmse:2.54173\n",
      "Fold 4 - best iteration: 493\n",
      "\n",
      "######################################## Fold 5 out of 5 ########################################\n",
      "[0]\tvalidation_0-rmse:4.85950\n",
      "[250]\tvalidation_0-rmse:2.73400\n",
      "[500]\tvalidation_0-rmse:2.66597\n",
      "[674]\tvalidation_0-rmse:2.66306\n",
      "Fold 5 - best iteration: 644\n",
      "\n",
      "--- New Experiment added! ---\n",
      "ID#: 6512059056 \n",
      "Algorithm: XGBoost (- working_day feat) \n",
      "Predictors: ['temp', 'rhum', 'dayofweek', 'timesofday', 'wdsp', 'rainfall_intensity', 'hour', 'season']\n",
      "Hyperparameters: {'objective': 'reg:squarederror', 'base_score': 0.5, 'booster': 'gbtree', 'colsample_bylevel': 1, 'colsample_bynode': 1, 'colsample_bytree': 0.5, 'gamma': 1.5, 'gpu_id': -1, 'importance_type': 'gain', 'interaction_constraints': '', 'learning_rate': 0.00999999978, 'max_delta_step': 0, 'max_depth': 7, 'min_child_weight': 1, 'missing': nan, 'monotone_constraints': '()', 'n_estimators': 1000, 'n_jobs': 12, 'num_parallel_tree': 1, 'random_state': 42, 'reg_alpha': 0, 'reg_lambda': 1, 'scale_pos_weight': 1, 'subsample': 0.7, 'tree_method': 'exact', 'validate_parameters': 1, 'verbosity': None, 'eta': 0.01, 'seed': 42, 'eval_metric': 'rmse'}\n",
      "Date: 05/07/2022 21:22:01\n",
      "Metric: [{ 'metric': RSME, 'train': 2.1735,  'validation': 2.5935, 'test': None }, { 'metric': MAE, 'train': 1.5976,  'validation': 1.8900, 'test': None }]\n",
      "\n"
     ]
    }
   ],
   "source": [
    "predictors = ['temp','rhum','dayofweek','timesofday','wdsp','rainfall_intensity', 'hour', 'season']\n",
    "\n",
    "params_xgboost = {'max_depth':7,\n",
    "                  'eta': 0.01,\n",
    "                  'n_estimators': 1000,\n",
    "                  'subsample': 0.7,\n",
    "                  'colsample_bytree': 0.5,\n",
    "                  'gamma': 1.5,\n",
    "                   'seed': 42,\n",
    "                   'eval_metric': 'rmse'\n",
    "                   }\n",
    "\n",
    "dict_scores, xgb_model = kfold_score(params_xgboost, predictors, n_folds=5, verbose=250, early_stopping_rounds=30)\n",
    "exp_xgboost = et.Experiment('XGBoost (- working_day feat)', predictors=predictors, hyperparameters=xgb_model['model'].get_params(), \n",
    "                            score=get_metrics_to_Experiment(dict_scores))\n",
    "experiment_tracker.add_experiment(exp_xgboost)"
   ]
  },
  {
   "cell_type": "code",
   "execution_count": 31,
   "metadata": {},
   "outputs": [
    {
     "name": "stdout",
     "output_type": "stream",
     "text": [
      "######################################## Fold 1 out of 5 ########################################\n",
      "[0]\tvalidation_0-rmse:4.99089\n",
      "[250]\tvalidation_0-rmse:2.79409\n",
      "[500]\tvalidation_0-rmse:2.73584\n",
      "[540]\tvalidation_0-rmse:2.73672\n",
      "Fold 1 - best iteration: 511\n",
      "\n",
      "######################################## Fold 2 out of 5 ########################################\n",
      "[0]\tvalidation_0-rmse:4.92489\n",
      "[250]\tvalidation_0-rmse:2.71905\n",
      "[500]\tvalidation_0-rmse:2.67074\n",
      "[512]\tvalidation_0-rmse:2.67069\n",
      "Fold 2 - best iteration: 482\n",
      "\n",
      "######################################## Fold 3 out of 5 ########################################\n",
      "[0]\tvalidation_0-rmse:4.69081\n",
      "[250]\tvalidation_0-rmse:2.54104\n",
      "[496]\tvalidation_0-rmse:2.49853\n",
      "Fold 3 - best iteration: 466\n",
      "\n",
      "######################################## Fold 4 out of 5 ########################################\n",
      "[0]\tvalidation_0-rmse:4.71852\n",
      "[250]\tvalidation_0-rmse:2.59544\n",
      "[500]\tvalidation_0-rmse:2.55696\n",
      "[515]\tvalidation_0-rmse:2.55722\n",
      "Fold 4 - best iteration: 486\n",
      "\n",
      "######################################## Fold 5 out of 5 ########################################\n",
      "[0]\tvalidation_0-rmse:4.85769\n",
      "[250]\tvalidation_0-rmse:2.74029\n",
      "[500]\tvalidation_0-rmse:2.69212\n",
      "[512]\tvalidation_0-rmse:2.69169\n",
      "Fold 5 - best iteration: 482\n",
      "\n",
      "--- New Experiment added! ---\n",
      "ID#: 6511058176 \n",
      "Algorithm: XGBoost (- season feat) \n",
      "Predictors: ['temp', 'rhum', 'dayofweek', 'timesofday', 'wdsp', 'rainfall_intensity', 'hour', 'working_day']\n",
      "Hyperparameters: {'objective': 'reg:squarederror', 'base_score': 0.5, 'booster': 'gbtree', 'colsample_bylevel': 1, 'colsample_bynode': 1, 'colsample_bytree': 0.5, 'gamma': 1.5, 'gpu_id': -1, 'importance_type': 'gain', 'interaction_constraints': '', 'learning_rate': 0.00999999978, 'max_delta_step': 0, 'max_depth': 7, 'min_child_weight': 1, 'missing': nan, 'monotone_constraints': '()', 'n_estimators': 1000, 'n_jobs': 12, 'num_parallel_tree': 1, 'random_state': 42, 'reg_alpha': 0, 'reg_lambda': 1, 'scale_pos_weight': 1, 'subsample': 0.7, 'tree_method': 'exact', 'validate_parameters': 1, 'verbosity': None, 'eta': 0.01, 'seed': 42, 'eval_metric': 'rmse'}\n",
      "Date: 05/07/2022 21:23:22\n",
      "Metric: [{ 'metric': RSME, 'train': 2.2543,  'validation': 2.6297, 'test': None }, { 'metric': MAE, 'train': 1.6586,  'validation': 1.9207, 'test': None }]\n",
      "\n"
     ]
    }
   ],
   "source": [
    "predictors = ['temp','rhum','dayofweek','timesofday','wdsp','rainfall_intensity', 'hour', 'working_day']\n",
    "\n",
    "params_xgboost = {'max_depth':7,\n",
    "                  'eta': 0.01,\n",
    "                  'n_estimators': 1000,\n",
    "                  'subsample': 0.7,\n",
    "                  'colsample_bytree': 0.5,\n",
    "                  'gamma': 1.5,\n",
    "                   'seed': 42,\n",
    "                   'eval_metric': 'rmse'\n",
    "                   }\n",
    "\n",
    "dict_scores, xgb_model = kfold_score(params_xgboost, predictors, n_folds=5, verbose=250, early_stopping_rounds=30)\n",
    "exp_xgboost = et.Experiment('XGBoost (- season feat)', predictors=predictors, hyperparameters=xgb_model['model'].get_params(), \n",
    "                            score=get_metrics_to_Experiment(dict_scores))\n",
    "experiment_tracker.add_experiment(exp_xgboost)"
   ]
  },
  {
   "cell_type": "code",
   "execution_count": 32,
   "metadata": {},
   "outputs": [
    {
     "name": "stdout",
     "output_type": "stream",
     "text": [
      "--- Experiments ---\n",
      "\n",
      "Model: XGBoost (Baseline)\n",
      "RSME - Train: 2.4729 - Validation: 2.6320 - Test: None\n",
      "\n",
      "Model: XGBoost 1\n",
      "RSME - Train: 2.4930 - Validation: 2.6233 - Test: None\n",
      "\n",
      "Model: XGBoost (max_depth, eta, subsampel and estimators)\n",
      "RSME - Train: 1.8872 - Validation: 2.5822 - Test: None\n",
      "\n",
      "Model: XGBoost (gamma: 1.5)\n",
      "RSME - Train: 1.8869 - Validation: 2.5816 - Test: None\n",
      "\n",
      "Model: XGBoost (max_depth: 7)\n",
      "RSME - Train: 2.1507 - Validation: 2.5762 - Test: None\n",
      "\n",
      "Model: XGBoost (- holiday and - peak features)\n",
      "RSME - Train: 2.1291 - Validation: 2.5783 - Test: None\n",
      "\n",
      "Model: XGBoost (- working_day feat)\n",
      "RSME - Train: 2.1735 - Validation: 2.5935 - Test: None\n",
      "\n",
      "Model: XGBoost (- season feat)\n",
      "RSME - Train: 2.2543 - Validation: 2.6297 - Test: None\n"
     ]
    }
   ],
   "source": [
    "experiment_tracker.print_partial_results(filter_metric='rsme')"
   ]
  },
  {
   "cell_type": "code",
   "execution_count": 33,
   "metadata": {},
   "outputs": [
    {
     "name": "stdout",
     "output_type": "stream",
     "text": [
      "######################################## Fold 1 out of 5 ########################################\n",
      "[0]\tvalidation_0-rmse:5.01762\n",
      "[1000]\tvalidation_0-rmse:3.24272\n",
      "[2000]\tvalidation_0-rmse:2.80975\n",
      "[3000]\tvalidation_0-rmse:2.71778\n",
      "[3916]\tvalidation_0-rmse:2.70260\n",
      "Fold 1 - best iteration: 3887\n",
      "\n",
      "######################################## Fold 2 out of 5 ########################################\n",
      "[0]\tvalidation_0-rmse:4.95253\n",
      "[1000]\tvalidation_0-rmse:3.16989\n",
      "[2000]\tvalidation_0-rmse:2.73354\n",
      "[3000]\tvalidation_0-rmse:2.63878\n",
      "[4000]\tvalidation_0-rmse:2.61979\n",
      "[4219]\tvalidation_0-rmse:2.61880\n",
      "Fold 2 - best iteration: 4190\n",
      "\n",
      "######################################## Fold 3 out of 5 ########################################\n",
      "[0]\tvalidation_0-rmse:4.71785\n",
      "[1000]\tvalidation_0-rmse:2.94016\n",
      "[2000]\tvalidation_0-rmse:2.52714\n",
      "[3000]\tvalidation_0-rmse:2.44703\n",
      "[4000]\tvalidation_0-rmse:2.43498\n",
      "[4018]\tvalidation_0-rmse:2.43495\n",
      "Fold 3 - best iteration: 3989\n",
      "\n",
      "######################################## Fold 4 out of 5 ########################################\n",
      "[0]\tvalidation_0-rmse:4.74554\n",
      "[1000]\tvalidation_0-rmse:3.00042\n",
      "[2000]\tvalidation_0-rmse:2.60350\n",
      "[3000]\tvalidation_0-rmse:2.52986\n",
      "[3833]\tvalidation_0-rmse:2.52086\n",
      "Fold 4 - best iteration: 3804\n",
      "\n",
      "######################################## Fold 5 out of 5 ########################################\n",
      "[0]\tvalidation_0-rmse:4.88409\n",
      "[1000]\tvalidation_0-rmse:3.17539\n",
      "[2000]\tvalidation_0-rmse:2.77035\n",
      "[3000]\tvalidation_0-rmse:2.68065\n",
      "[4000]\tvalidation_0-rmse:2.66142\n",
      "[4397]\tvalidation_0-rmse:2.66010\n",
      "Fold 5 - best iteration: 4367\n",
      "\n",
      "--- New Experiment added! ---\n",
      "ID#: 6504363392 \n",
      "Algorithm: XGBoost (eta: 0.001) \n",
      "Predictors: ['temp', 'rhum', 'dayofweek', 'timesofday', 'wdsp', 'rainfall_intensity', 'peak', 'working_day', 'hour', 'season']\n",
      "Hyperparameters: {'objective': 'reg:squarederror', 'base_score': 0.5, 'booster': 'gbtree', 'colsample_bylevel': 1, 'colsample_bynode': 1, 'colsample_bytree': 0.5, 'gamma': 1.5, 'gpu_id': -1, 'importance_type': 'gain', 'interaction_constraints': '', 'learning_rate': 0.00100000005, 'max_delta_step': 0, 'max_depth': 11, 'min_child_weight': 1, 'missing': nan, 'monotone_constraints': '()', 'n_estimators': 5000, 'n_jobs': 12, 'num_parallel_tree': 1, 'random_state': 42, 'reg_alpha': 0, 'reg_lambda': 1, 'scale_pos_weight': 1, 'subsample': 0.7, 'tree_method': 'exact', 'validate_parameters': 1, 'verbosity': None, 'eta': 0.001, 'seed': 42, 'eval_metric': 'rmse'}\n",
      "Date: 05/07/2022 21:28:09\n",
      "Metric: [{ 'metric': RSME, 'train': 1.6609,  'validation': 2.5881, 'test': None }, { 'metric': MAE, 'train': 1.2083,  'validation': 1.8759, 'test': None }]\n",
      "\n"
     ]
    }
   ],
   "source": [
    "predictors = ['temp','rhum','dayofweek', 'timesofday','wdsp','rainfall_intensity','peak','working_day', 'hour', 'season']\n",
    "\n",
    "params_xgboost = {'max_depth':11,\n",
    "                  'eta': 0.001,\n",
    "                  'n_estimators': 5000,\n",
    "                  'subsample': 0.7,\n",
    "                  'colsample_bytree': 0.5,\n",
    "                  'gamma': 1.5,\n",
    "                   'seed': 42,\n",
    "                   'eval_metric': 'rmse'\n",
    "                   }\n",
    "\n",
    "dict_scores, xgb_model = kfold_score(params_xgboost, predictors, n_folds=5, verbose=1000, early_stopping_rounds=30)\n",
    "exp_xgboost = et.Experiment('XGBoost (eta: 0.001)', predictors=predictors, hyperparameters=xgb_model['model'].get_params(), \n",
    "                            score=get_metrics_to_Experiment(dict_scores))\n",
    "experiment_tracker.add_experiment(exp_xgboost)"
   ]
  },
  {
   "cell_type": "code",
   "execution_count": 34,
   "metadata": {},
   "outputs": [
    {
     "name": "stdout",
     "output_type": "stream",
     "text": [
      "######################################## Fold 1 out of 5 ########################################\n",
      "[0]\tvalidation_0-rmse:5.01765\n",
      "[1000]\tvalidation_0-rmse:3.23445\n",
      "[2000]\tvalidation_0-rmse:2.80315\n",
      "[3000]\tvalidation_0-rmse:2.71097\n",
      "[4000]\tvalidation_0-rmse:2.69217\n",
      "[4234]\tvalidation_0-rmse:2.69101\n",
      "Fold 1 - best iteration: 4205\n",
      "\n",
      "######################################## Fold 2 out of 5 ########################################\n",
      "[0]\tvalidation_0-rmse:4.95249\n",
      "[1000]\tvalidation_0-rmse:3.16117\n",
      "[2000]\tvalidation_0-rmse:2.72962\n",
      "[3000]\tvalidation_0-rmse:2.63752\n",
      "[4000]\tvalidation_0-rmse:2.61836\n",
      "[4682]\tvalidation_0-rmse:2.61556\n",
      "Fold 2 - best iteration: 4652\n",
      "\n",
      "######################################## Fold 3 out of 5 ########################################\n",
      "[0]\tvalidation_0-rmse:4.71779\n",
      "[1000]\tvalidation_0-rmse:2.93525\n",
      "[2000]\tvalidation_0-rmse:2.52687\n",
      "[3000]\tvalidation_0-rmse:2.44774\n",
      "[4000]\tvalidation_0-rmse:2.43207\n",
      "[4270]\tvalidation_0-rmse:2.43126\n",
      "Fold 3 - best iteration: 4240\n",
      "\n",
      "######################################## Fold 4 out of 5 ########################################\n",
      "[0]\tvalidation_0-rmse:4.74551\n",
      "[1000]\tvalidation_0-rmse:2.99345\n",
      "[2000]\tvalidation_0-rmse:2.60131\n",
      "[3000]\tvalidation_0-rmse:2.52880\n",
      "[3919]\tvalidation_0-rmse:2.51755\n",
      "Fold 4 - best iteration: 3890\n",
      "\n",
      "######################################## Fold 5 out of 5 ########################################\n",
      "[0]\tvalidation_0-rmse:4.88406\n",
      "[1000]\tvalidation_0-rmse:3.16710\n",
      "[2000]\tvalidation_0-rmse:2.76323\n",
      "[3000]\tvalidation_0-rmse:2.67176\n",
      "[4000]\tvalidation_0-rmse:2.64894\n",
      "[4640]\tvalidation_0-rmse:2.64535\n",
      "Fold 5 - best iteration: 4610\n",
      "\n",
      "--- New Experiment added! ---\n",
      "ID#: 6511302736 \n",
      "Algorithm: XGBoost (max_depth: 9 and subsample: 0.8) \n",
      "Predictors: ['temp', 'rhum', 'dayofweek', 'timesofday', 'wdsp', 'rainfall_intensity', 'peak', 'working_day', 'hour', 'season']\n",
      "Hyperparameters: {'objective': 'reg:squarederror', 'base_score': 0.5, 'booster': 'gbtree', 'colsample_bylevel': 1, 'colsample_bynode': 1, 'colsample_bytree': 0.5, 'gamma': 1.5, 'gpu_id': -1, 'importance_type': 'gain', 'interaction_constraints': '', 'learning_rate': 0.00100000005, 'max_delta_step': 0, 'max_depth': 9, 'min_child_weight': 1, 'missing': nan, 'monotone_constraints': '()', 'n_estimators': 5000, 'n_jobs': 12, 'num_parallel_tree': 1, 'random_state': 42, 'reg_alpha': 0, 'reg_lambda': 1, 'scale_pos_weight': 1, 'subsample': 0.8, 'tree_method': 'exact', 'validate_parameters': 1, 'verbosity': None, 'eta': 0.001, 'seed': 42, 'eval_metric': 'rmse'}\n",
      "Date: 05/07/2022 21:31:51\n",
      "Metric: [{ 'metric': RSME, 'train': 1.8909,  'validation': 2.5797, 'test': None }, { 'metric': MAE, 'train': 1.3838,  'validation': 1.8731, 'test': None }]\n",
      "\n"
     ]
    }
   ],
   "source": [
    "predictors = ['temp','rhum','dayofweek', 'timesofday','wdsp','rainfall_intensity','peak','working_day', 'hour', 'season']\n",
    "\n",
    "params_xgboost = {'max_depth':9,\n",
    "                  'eta': 0.001,\n",
    "                  'n_estimators': 5000,\n",
    "                  'subsample': 0.8,\n",
    "                  'colsample_bytree': 0.5,\n",
    "                  'gamma': 1.5,\n",
    "                   'seed': 42,\n",
    "                   'eval_metric': 'rmse'\n",
    "                   }\n",
    "\n",
    "dict_scores, xgb_model = kfold_score(params_xgboost, predictors, n_folds=5, verbose=1000, early_stopping_rounds=30)\n",
    "exp_xgboost = et.Experiment('XGBoost (max_depth: 9 and subsample: 0.8)', predictors=predictors, hyperparameters=xgb_model['model'].get_params(), \n",
    "                            score=get_metrics_to_Experiment(dict_scores))\n",
    "experiment_tracker.add_experiment(exp_xgboost)"
   ]
  },
  {
   "cell_type": "code",
   "execution_count": 35,
   "metadata": {},
   "outputs": [
    {
     "name": "stdout",
     "output_type": "stream",
     "text": [
      "--- Experiments ---\n",
      "\n",
      "Model: XGBoost (Baseline)\n",
      "RSME - Train: 2.4729 - Validation: 2.6320 - Test: None\n",
      "MAE - Train: 1.8143 - Validation: 1.9269 - Test: None\n",
      "\n",
      "Model: XGBoost 1\n",
      "RSME - Train: 2.4930 - Validation: 2.6233 - Test: None\n",
      "MAE - Train: 1.8292 - Validation: 1.9204 - Test: None\n",
      "\n",
      "Model: XGBoost (max_depth, eta, subsampel and estimators)\n",
      "RSME - Train: 1.8872 - Validation: 2.5822 - Test: None\n",
      "MAE - Train: 1.3823 - Validation: 1.8758 - Test: None\n",
      "\n",
      "Model: XGBoost (gamma: 1.5)\n",
      "RSME - Train: 1.8869 - Validation: 2.5816 - Test: None\n",
      "MAE - Train: 1.3840 - Validation: 1.8753 - Test: None\n",
      "\n",
      "Model: XGBoost (max_depth: 7)\n",
      "RSME - Train: 2.1507 - Validation: 2.5762 - Test: None\n",
      "MAE - Train: 1.5812 - Validation: 1.8766 - Test: None\n",
      "\n",
      "Model: XGBoost (- holiday and - peak features)\n",
      "RSME - Train: 2.1291 - Validation: 2.5783 - Test: None\n",
      "MAE - Train: 1.5662 - Validation: 1.8773 - Test: None\n",
      "\n",
      "Model: XGBoost (- working_day feat)\n",
      "RSME - Train: 2.1735 - Validation: 2.5935 - Test: None\n",
      "MAE - Train: 1.5976 - Validation: 1.8900 - Test: None\n",
      "\n",
      "Model: XGBoost (- season feat)\n",
      "RSME - Train: 2.2543 - Validation: 2.6297 - Test: None\n",
      "MAE - Train: 1.6586 - Validation: 1.9207 - Test: None\n",
      "\n",
      "Model: XGBoost (eta: 0.001)\n",
      "RSME - Train: 1.6609 - Validation: 2.5881 - Test: None\n",
      "MAE - Train: 1.2083 - Validation: 1.8759 - Test: None\n",
      "\n",
      "Model: XGBoost (max_depth: 9 and subsample: 0.8)\n",
      "RSME - Train: 1.8909 - Validation: 2.5797 - Test: None\n",
      "MAE - Train: 1.3838 - Validation: 1.8731 - Test: None\n"
     ]
    }
   ],
   "source": [
    "experiment_tracker.print_partial_results()"
   ]
  },
  {
   "cell_type": "markdown",
   "metadata": {},
   "source": [
    "## Saving Model"
   ]
  },
  {
   "cell_type": "code",
   "execution_count": 36,
   "metadata": {},
   "outputs": [],
   "source": [
    "pickle.dump(xgb_model, open('../models/xgboost_complex_pipe.pkl', 'wb'))\n",
    "pickle.dump(xgb_model['model'], open('../models/xgboost_complex.pkl', 'wb'))\n",
    "xgb_model['model'].save_model('../models/xgboost_complex.json')\n",
    "xgb_model['model'].save_model('../models/xgboost_complex.model')"
   ]
  },
  {
   "cell_type": "code",
   "execution_count": 37,
   "metadata": {},
   "outputs": [],
   "source": [
    "def normalized_rsme(value, dataset) -> float:\n",
    "    return value / max(dataset['count']) - min(dataset['count'])"
   ]
  },
  {
   "cell_type": "code",
   "execution_count": 38,
   "metadata": {},
   "outputs": [
    {
     "data": {
      "text/plain": [
       "0.07272703638284966"
      ]
     },
     "execution_count": 38,
     "metadata": {},
     "output_type": "execute_result"
    }
   ],
   "source": [
    "# Normalized RSME - Root Mean Square Error\n",
    "normtrain_rsme = normalized_rsme(dict_scores['train_rsme'], df_train)\n",
    "normtrain_rsme"
   ]
  },
  {
   "cell_type": "markdown",
   "metadata": {},
   "source": [
    "## Only positives count"
   ]
  },
  {
   "cell_type": "code",
   "execution_count": 39,
   "metadata": {},
   "outputs": [
    {
     "data": {
      "text/plain": [
       "((8760, 22), (6980, 22))"
      ]
     },
     "execution_count": 39,
     "metadata": {},
     "output_type": "execute_result"
    }
   ],
   "source": [
    "df_positives = df_train[df_train['count'] > 0].copy()\n",
    "X_pos = df_positives.drop(['count'], axis=1)\n",
    "y_pos = df_positives.pop('count')\n",
    "X.shape, X_pos.shape"
   ]
  },
  {
   "cell_type": "code",
   "execution_count": 40,
   "metadata": {},
   "outputs": [
    {
     "name": "stdout",
     "output_type": "stream",
     "text": [
      "######################################## Fold 1 out of 5 ########################################\n",
      "[0]\tvalidation_0-rmse:5.30208\n",
      "[1000]\tvalidation_0-rmse:3.17864\n",
      "[2000]\tvalidation_0-rmse:2.72787\n",
      "[3000]\tvalidation_0-rmse:2.65570\n",
      "[3743]\tvalidation_0-rmse:2.64687\n",
      "Fold 1 - best iteration: 3713\n",
      "\n",
      "######################################## Fold 2 out of 5 ########################################\n",
      "[0]\tvalidation_0-rmse:5.47349\n",
      "[1000]\tvalidation_0-rmse:3.36752\n",
      "[2000]\tvalidation_0-rmse:2.89018\n",
      "[3000]\tvalidation_0-rmse:2.79569\n",
      "[4000]\tvalidation_0-rmse:2.77658\n",
      "[4461]\tvalidation_0-rmse:2.77365\n",
      "Fold 2 - best iteration: 4431\n",
      "\n",
      "######################################## Fold 3 out of 5 ########################################\n",
      "[0]\tvalidation_0-rmse:5.36302\n",
      "[1000]\tvalidation_0-rmse:3.24548\n",
      "[2000]\tvalidation_0-rmse:2.77772\n",
      "[3000]\tvalidation_0-rmse:2.69382\n",
      "[3825]\tvalidation_0-rmse:2.68446\n",
      "Fold 3 - best iteration: 3795\n",
      "\n",
      "######################################## Fold 4 out of 5 ########################################\n",
      "[0]\tvalidation_0-rmse:5.52297\n",
      "[1000]\tvalidation_0-rmse:3.39055\n",
      "[2000]\tvalidation_0-rmse:2.89755\n",
      "[3000]\tvalidation_0-rmse:2.80029\n",
      "[4000]\tvalidation_0-rmse:2.78380\n",
      "[4170]\tvalidation_0-rmse:2.78308\n",
      "Fold 4 - best iteration: 4140\n",
      "\n",
      "######################################## Fold 5 out of 5 ########################################\n",
      "[0]\tvalidation_0-rmse:5.55485\n",
      "[1000]\tvalidation_0-rmse:3.40061\n",
      "[2000]\tvalidation_0-rmse:2.86673\n",
      "[3000]\tvalidation_0-rmse:2.73784\n",
      "[4000]\tvalidation_0-rmse:2.70130\n",
      "[4999]\tvalidation_0-rmse:2.68881\n",
      "Fold 5 - best iteration: 4998\n",
      "\n",
      "--- New Experiment added! ---\n",
      "ID#: 6511054912 \n",
      "Algorithm: XGBoost (only + count values) \n",
      "Predictors: ['temp', 'rhum', 'dayofweek', 'holiday', 'timesofday', 'wdsp', 'rainfall_intensity', 'peak', 'working_day', 'hour', 'season']\n",
      "Hyperparameters: {'objective': 'reg:squarederror', 'base_score': 0.5, 'booster': 'gbtree', 'colsample_bylevel': 1, 'colsample_bynode': 1, 'colsample_bytree': 0.5, 'gamma': 1.5, 'gpu_id': -1, 'importance_type': 'gain', 'interaction_constraints': '', 'learning_rate': 0.00100000005, 'max_delta_step': 0, 'max_depth': 9, 'min_child_weight': 1, 'missing': nan, 'monotone_constraints': '()', 'n_estimators': 5000, 'n_jobs': 12, 'num_parallel_tree': 1, 'random_state': 42, 'reg_alpha': 0, 'reg_lambda': 1, 'scale_pos_weight': 1, 'subsample': 0.8, 'tree_method': 'exact', 'validate_parameters': 1, 'verbosity': None, 'eta': 0.001, 'seed': 42, 'eval_metric': 'rmse'}\n",
      "Date: 05/07/2022 21:35:28\n",
      "Metric: [{ 'metric': RSME, 'train': 1.9839,  'validation': 2.7153, 'test': None }, { 'metric': MAE, 'train': 1.4920,  'validation': 2.0364, 'test': None }]\n",
      "Notes: Checking possibility of using hurdle model\n"
     ]
    }
   ],
   "source": [
    "predictors = ['temp','rhum','dayofweek', 'holiday','timesofday','wdsp','rainfall_intensity','peak','working_day', 'hour', 'season']\n",
    "\n",
    "params_xgboost = {'max_depth':9,\n",
    "                  'eta': 0.001,\n",
    "                  'n_estimators': 5000,\n",
    "                  'subsample': 0.8,\n",
    "                  'colsample_bytree': 0.5,\n",
    "                  'gamma': 1.5,\n",
    "                   'seed': 42,\n",
    "                   'eval_metric': 'rmse'\n",
    "                   }\n",
    "\n",
    "dict_scores, xgb_model = kfold_score(params_xgboost, X=X_pos, y=y_pos, predictors=predictors, n_folds=5, verbose=1000, early_stopping_rounds=30)\n",
    "exp_xgboost = et.Experiment('XGBoost (only + count values)', predictors=predictors, hyperparameters=xgb_model['model'].get_params(), \n",
    "                            score=get_metrics_to_Experiment(dict_scores), notes='Checking possibility of using hurdle model')\n",
    "experiment_tracker.add_experiment(exp_xgboost)"
   ]
  },
  {
   "cell_type": "code",
   "execution_count": 41,
   "metadata": {},
   "outputs": [],
   "source": [
    "experiment_tracker.to_excel('../documentation/experiment_tracker_xgboost.xlsx')"
   ]
  },
  {
   "cell_type": "code",
   "execution_count": 42,
   "metadata": {},
   "outputs": [
    {
     "name": "stdout",
     "output_type": "stream",
     "text": [
      "Author: Leandro Pessini\n",
      "\n",
      "Last updated: Tue Jul 05 2022\n",
      "\n",
      "Python implementation: CPython\n",
      "Python version       : 3.9.6\n",
      "IPython version      : 7.25.0\n",
      "\n",
      "numpy            : 1.21.1\n",
      "xgboost          : 1.4.0\n",
      "joblib           : 1.0.1\n",
      "pandas           : 1.3.0\n",
      "sklearn          : 1.0.2\n",
      "category_encoders: 2.4.0\n",
      "sys              : 3.9.6 | packaged by conda-forge | (default, Jul 11 2021, 03:36:15) \n",
      "[Clang 11.1.0 ]\n",
      "\n",
      "Watermark: 2.3.0\n",
      "\n"
     ]
    }
   ],
   "source": [
    "%reload_ext watermark\n",
    "%watermark -a \"Leandro Pessini\" -n -u -v -iv -w"
   ]
  },
  {
   "cell_type": "markdown",
   "metadata": {},
   "source": [
    "<img title=\"GitHub Mark\" src=\"https://github.com/pessini/moby-bikes/blob/902858f47ba9afaf380abfc2be02a2b7f1f09174/notebooks/img/GitHub-Mark-64px.png?raw=true\" style=\"height: 32px; padding-right: 15px\" alt=\"GitHub Mark\" align=\"left\"> [GitHub repository](https://github.com/pessini/moby-bikes) <br>Author: Leandro Pessini"
   ]
  }
 ],
 "metadata": {
  "kernelspec": {
   "display_name": "Python 3.9.13 (conda)",
   "language": "python",
   "name": "python3"
  },
  "language_info": {
   "codemirror_mode": {
    "name": "ipython",
    "version": 3
   },
   "file_extension": ".py",
   "mimetype": "text/x-python",
   "name": "python",
   "nbconvert_exporter": "python",
   "pygments_lexer": "ipython3",
   "version": "3.9.13"
  },
  "orig_nbformat": 4,
  "vscode": {
   "interpreter": {
    "hash": "a5b231d7331932a9311fe46970a7b37ca6f95df0819aeac8f381cf77d08933bc"
   }
  }
 },
 "nbformat": 4,
 "nbformat_minor": 2
}
