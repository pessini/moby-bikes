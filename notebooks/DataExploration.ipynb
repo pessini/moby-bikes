{
 "cells": [
  {
   "cell_type": "markdown",
   "id": "surface-college",
   "metadata": {},
   "source": [
    "<img src='https://i.ytimg.com/vi/-s8er6tHD3o/maxresdefault.jpg' style='height:400px'>"
   ]
  },
  {
   "cell_type": "markdown",
   "id": "illegal-numbers",
   "metadata": {},
   "source": [
    "<div class=\"list-group\" id=\"list-tab\" role=\"tablist\">\n",
    "  <h1 class=\"list-group-item list-group-item-action active\" data-toggle=\"list\"  role=\"tab\" aria-controls=\"home\">&nbsp;Summary:</h1>\n",
    "  <a class=\"list-group-item list-group-item-action\" data-toggle=\"list\" href=\"#1\" role=\"tab\" aria-controls=\"profile\">1. Introduction<span class=\"badge badge-primary badge-pill\">1</span></a>\n",
    "  <a class=\"list-group-item list-group-item-action\" data-toggle=\"list\" href=\"#2\" role=\"tab\" aria-controls=\"messages\">2. Twitter Users<span class=\"badge badge-primary badge-pill\">2</span></a>\n",
    "   <a class=\"list-group-item list-group-item-action\" data-toggle=\"list\" href=\"#3\" role=\"tab\" aria-controls=\"messages\">3. News Structure<span class=\"badge badge-primary badge-pill\">3</span></a>\n",
    "   <a class=\"list-group-item list-group-item-action\" data-toggle=\"list\" href=\"#4\" role=\"tab\" aria-controls=\"messages\">4. Words Relevance<span class=\"badge badge-primary badge-pill\">4</span></a>    <a class=\"list-group-item list-group-item-action\" data-toggle=\"list\" href=\"#5\" role=\"tab\" aria-controls=\"messages\">5. Conclusion<span class=\"badge badge-primary badge-pill\">5</span></a>\n",
    "</div>"
   ]
  },
  {
   "cell_type": "code",
   "execution_count": 14,
   "id": "weighted-continuity",
   "metadata": {},
   "outputs": [],
   "source": [
    "import pandas as pd\n",
    "import matplotlib.pyplot as plt\n",
    "import seaborn as sns\n",
    "import numpy as np\n",
    "from scipy.stats import norm\n",
    "from sklearn.preprocessing import StandardScaler\n",
    "from scipy import stats\n",
    "import warnings\n",
    "warnings.filterwarnings('ignore')\n",
    "%matplotlib inline"
   ]
  },
  {
   "cell_type": "code",
   "execution_count": 7,
   "id": "combined-genealogy",
   "metadata": {},
   "outputs": [],
   "source": [
    "fileName_03_2021 = 'data/moby-bikes-historical-data-032021.csv'"
   ]
  },
  {
   "cell_type": "code",
   "execution_count": 32,
   "id": "complex-essence",
   "metadata": {},
   "outputs": [],
   "source": [
    "bikes_03_2021 = pd.read_csv(fileName_03_2021)"
   ]
  },
  {
   "cell_type": "code",
   "execution_count": 33,
   "id": "administrative-sellers",
   "metadata": {},
   "outputs": [
    {
     "data": {
      "text/html": [
       "<div>\n",
       "<style scoped>\n",
       "    .dataframe tbody tr th:only-of-type {\n",
       "        vertical-align: middle;\n",
       "    }\n",
       "\n",
       "    .dataframe tbody tr th {\n",
       "        vertical-align: top;\n",
       "    }\n",
       "\n",
       "    .dataframe thead th {\n",
       "        text-align: right;\n",
       "    }\n",
       "</style>\n",
       "<table border=\"1\" class=\"dataframe\">\n",
       "  <thead>\n",
       "    <tr style=\"text-align: right;\">\n",
       "      <th></th>\n",
       "      <th>HarvestTime</th>\n",
       "      <th>BikeID</th>\n",
       "      <th>Battery</th>\n",
       "      <th>BikeIdentifier</th>\n",
       "      <th>BikeTypeName</th>\n",
       "      <th>EBikeProfileID</th>\n",
       "      <th>EBikeStateID</th>\n",
       "      <th>IsEBike</th>\n",
       "      <th>IsMotor</th>\n",
       "      <th>IsSmartLock</th>\n",
       "      <th>LastGPSTime</th>\n",
       "      <th>LastRentalStart</th>\n",
       "      <th>Latitude</th>\n",
       "      <th>Longitude</th>\n",
       "      <th>SpikeID</th>\n",
       "    </tr>\n",
       "  </thead>\n",
       "  <tbody>\n",
       "    <tr>\n",
       "      <th>0</th>\n",
       "      <td>2021-03-01 00:00:03</td>\n",
       "      <td>5</td>\n",
       "      <td>31.0</td>\n",
       "      <td>1</td>\n",
       "      <td>DUB-General</td>\n",
       "      <td>1</td>\n",
       "      <td>2</td>\n",
       "      <td>True</td>\n",
       "      <td>False</td>\n",
       "      <td>False</td>\n",
       "      <td>2021-02-28 23:30:33</td>\n",
       "      <td>2021-02-28 20:26:54</td>\n",
       "      <td>53.3430</td>\n",
       "      <td>-6.23879</td>\n",
       "      <td>1</td>\n",
       "    </tr>\n",
       "    <tr>\n",
       "      <th>1</th>\n",
       "      <td>2021-03-01 00:00:03</td>\n",
       "      <td>6</td>\n",
       "      <td>33.0</td>\n",
       "      <td>2</td>\n",
       "      <td>DUB-General</td>\n",
       "      <td>1</td>\n",
       "      <td>2</td>\n",
       "      <td>True</td>\n",
       "      <td>False</td>\n",
       "      <td>False</td>\n",
       "      <td>2021-02-28 23:48:14</td>\n",
       "      <td>2021-02-28 13:28:38</td>\n",
       "      <td>53.3853</td>\n",
       "      <td>-6.25801</td>\n",
       "      <td>2</td>\n",
       "    </tr>\n",
       "    <tr>\n",
       "      <th>2</th>\n",
       "      <td>2021-03-01 00:00:03</td>\n",
       "      <td>8</td>\n",
       "      <td>42.0</td>\n",
       "      <td>4</td>\n",
       "      <td>DUB-General</td>\n",
       "      <td>1</td>\n",
       "      <td>2</td>\n",
       "      <td>True</td>\n",
       "      <td>False</td>\n",
       "      <td>False</td>\n",
       "      <td>2021-02-28 23:48:12</td>\n",
       "      <td>2021-02-28 15:51:17</td>\n",
       "      <td>53.3632</td>\n",
       "      <td>-6.23584</td>\n",
       "      <td>4</td>\n",
       "    </tr>\n",
       "    <tr>\n",
       "      <th>3</th>\n",
       "      <td>2021-03-01 00:00:03</td>\n",
       "      <td>16</td>\n",
       "      <td>41.0</td>\n",
       "      <td>14</td>\n",
       "      <td>DUB-General</td>\n",
       "      <td>1</td>\n",
       "      <td>2</td>\n",
       "      <td>True</td>\n",
       "      <td>False</td>\n",
       "      <td>False</td>\n",
       "      <td>2021-02-28 23:57:47</td>\n",
       "      <td>2021-02-28 16:45:26</td>\n",
       "      <td>53.3632</td>\n",
       "      <td>-6.23587</td>\n",
       "      <td>14</td>\n",
       "    </tr>\n",
       "    <tr>\n",
       "      <th>4</th>\n",
       "      <td>2021-03-01 00:00:03</td>\n",
       "      <td>20</td>\n",
       "      <td>-6.0</td>\n",
       "      <td>18</td>\n",
       "      <td>DUB-General</td>\n",
       "      <td>1</td>\n",
       "      <td>2</td>\n",
       "      <td>True</td>\n",
       "      <td>False</td>\n",
       "      <td>False</td>\n",
       "      <td>2021-02-28 23:31:16</td>\n",
       "      <td>2021-02-28 18:59:39</td>\n",
       "      <td>53.3433</td>\n",
       "      <td>-6.27317</td>\n",
       "      <td>18</td>\n",
       "    </tr>\n",
       "    <tr>\n",
       "      <th>...</th>\n",
       "      <td>...</td>\n",
       "      <td>...</td>\n",
       "      <td>...</td>\n",
       "      <td>...</td>\n",
       "      <td>...</td>\n",
       "      <td>...</td>\n",
       "      <td>...</td>\n",
       "      <td>...</td>\n",
       "      <td>...</td>\n",
       "      <td>...</td>\n",
       "      <td>...</td>\n",
       "      <td>...</td>\n",
       "      <td>...</td>\n",
       "      <td>...</td>\n",
       "      <td>...</td>\n",
       "    </tr>\n",
       "    <tr>\n",
       "      <th>66471</th>\n",
       "      <td>2021-03-21 00:30:02</td>\n",
       "      <td>117</td>\n",
       "      <td>7.0</td>\n",
       "      <td>105</td>\n",
       "      <td>DUB-General</td>\n",
       "      <td>1</td>\n",
       "      <td>2</td>\n",
       "      <td>True</td>\n",
       "      <td>False</td>\n",
       "      <td>False</td>\n",
       "      <td>2021-03-21 00:09:15</td>\n",
       "      <td>2021-03-20 14:25:48</td>\n",
       "      <td>53.3392</td>\n",
       "      <td>-6.25065</td>\n",
       "      <td>105</td>\n",
       "    </tr>\n",
       "    <tr>\n",
       "      <th>66472</th>\n",
       "      <td>2021-03-21 00:30:02</td>\n",
       "      <td>118</td>\n",
       "      <td>NaN</td>\n",
       "      <td>32</td>\n",
       "      <td>DUB-General</td>\n",
       "      <td>1</td>\n",
       "      <td>2</td>\n",
       "      <td>True</td>\n",
       "      <td>False</td>\n",
       "      <td>False</td>\n",
       "      <td>2021-03-19 15:43:39</td>\n",
       "      <td>2021-03-19 12:49:55</td>\n",
       "      <td>0.0000</td>\n",
       "      <td>0.00000</td>\n",
       "      <td>32</td>\n",
       "    </tr>\n",
       "    <tr>\n",
       "      <th>66473</th>\n",
       "      <td>2021-03-21 00:30:02</td>\n",
       "      <td>120</td>\n",
       "      <td>66.0</td>\n",
       "      <td>101</td>\n",
       "      <td>DUB-General</td>\n",
       "      <td>1</td>\n",
       "      <td>2</td>\n",
       "      <td>True</td>\n",
       "      <td>False</td>\n",
       "      <td>False</td>\n",
       "      <td>2021-03-20 19:39:24</td>\n",
       "      <td>2021-03-19 09:49:41</td>\n",
       "      <td>53.3768</td>\n",
       "      <td>-6.26979</td>\n",
       "      <td>101</td>\n",
       "    </tr>\n",
       "    <tr>\n",
       "      <th>66474</th>\n",
       "      <td>2021-03-21 00:30:02</td>\n",
       "      <td>122</td>\n",
       "      <td>NaN</td>\n",
       "      <td>115</td>\n",
       "      <td>DUB-General</td>\n",
       "      <td>1</td>\n",
       "      <td>2</td>\n",
       "      <td>True</td>\n",
       "      <td>False</td>\n",
       "      <td>False</td>\n",
       "      <td>2021-03-01 15:30:44</td>\n",
       "      <td>2021-03-19 12:09:45</td>\n",
       "      <td>0.0000</td>\n",
       "      <td>0.00000</td>\n",
       "      <td>115</td>\n",
       "    </tr>\n",
       "    <tr>\n",
       "      <th>66475</th>\n",
       "      <td>2021-03-21 00:30:02</td>\n",
       "      <td>124</td>\n",
       "      <td>81.0</td>\n",
       "      <td>120</td>\n",
       "      <td>DUB-General</td>\n",
       "      <td>1</td>\n",
       "      <td>2</td>\n",
       "      <td>True</td>\n",
       "      <td>False</td>\n",
       "      <td>False</td>\n",
       "      <td>2021-03-21 00:25:13</td>\n",
       "      <td>2021-03-20 18:43:58</td>\n",
       "      <td>53.3208</td>\n",
       "      <td>-6.28536</td>\n",
       "      <td>120</td>\n",
       "    </tr>\n",
       "  </tbody>\n",
       "</table>\n",
       "<p>66476 rows × 15 columns</p>\n",
       "</div>"
      ],
      "text/plain": [
       "               HarvestTime  BikeID  Battery  BikeIdentifier BikeTypeName  \\\n",
       "0      2021-03-01 00:00:03       5     31.0               1  DUB-General   \n",
       "1      2021-03-01 00:00:03       6     33.0               2  DUB-General   \n",
       "2      2021-03-01 00:00:03       8     42.0               4  DUB-General   \n",
       "3      2021-03-01 00:00:03      16     41.0              14  DUB-General   \n",
       "4      2021-03-01 00:00:03      20     -6.0              18  DUB-General   \n",
       "...                    ...     ...      ...             ...          ...   \n",
       "66471  2021-03-21 00:30:02     117      7.0             105  DUB-General   \n",
       "66472  2021-03-21 00:30:02     118      NaN              32  DUB-General   \n",
       "66473  2021-03-21 00:30:02     120     66.0             101  DUB-General   \n",
       "66474  2021-03-21 00:30:02     122      NaN             115  DUB-General   \n",
       "66475  2021-03-21 00:30:02     124     81.0             120  DUB-General   \n",
       "\n",
       "       EBikeProfileID  EBikeStateID  IsEBike  IsMotor  IsSmartLock  \\\n",
       "0                   1             2     True    False        False   \n",
       "1                   1             2     True    False        False   \n",
       "2                   1             2     True    False        False   \n",
       "3                   1             2     True    False        False   \n",
       "4                   1             2     True    False        False   \n",
       "...               ...           ...      ...      ...          ...   \n",
       "66471               1             2     True    False        False   \n",
       "66472               1             2     True    False        False   \n",
       "66473               1             2     True    False        False   \n",
       "66474               1             2     True    False        False   \n",
       "66475               1             2     True    False        False   \n",
       "\n",
       "               LastGPSTime      LastRentalStart  Latitude  Longitude  SpikeID  \n",
       "0      2021-02-28 23:30:33  2021-02-28 20:26:54   53.3430   -6.23879        1  \n",
       "1      2021-02-28 23:48:14  2021-02-28 13:28:38   53.3853   -6.25801        2  \n",
       "2      2021-02-28 23:48:12  2021-02-28 15:51:17   53.3632   -6.23584        4  \n",
       "3      2021-02-28 23:57:47  2021-02-28 16:45:26   53.3632   -6.23587       14  \n",
       "4      2021-02-28 23:31:16  2021-02-28 18:59:39   53.3433   -6.27317       18  \n",
       "...                    ...                  ...       ...        ...      ...  \n",
       "66471  2021-03-21 00:09:15  2021-03-20 14:25:48   53.3392   -6.25065      105  \n",
       "66472  2021-03-19 15:43:39  2021-03-19 12:49:55    0.0000    0.00000       32  \n",
       "66473  2021-03-20 19:39:24  2021-03-19 09:49:41   53.3768   -6.26979      101  \n",
       "66474  2021-03-01 15:30:44  2021-03-19 12:09:45    0.0000    0.00000      115  \n",
       "66475  2021-03-21 00:25:13  2021-03-20 18:43:58   53.3208   -6.28536      120  \n",
       "\n",
       "[66476 rows x 15 columns]"
      ]
     },
     "execution_count": 33,
     "metadata": {},
     "output_type": "execute_result"
    }
   ],
   "source": [
    "bikes_03_2021"
   ]
  },
  {
   "cell_type": "code",
   "execution_count": 10,
   "id": "pressed-object",
   "metadata": {},
   "outputs": [
    {
     "data": {
      "text/plain": [
       "(66476, 15)"
      ]
     },
     "execution_count": 10,
     "metadata": {},
     "output_type": "execute_result"
    }
   ],
   "source": [
    "bikes_03_2021.shape"
   ]
  },
  {
   "cell_type": "code",
   "execution_count": 11,
   "id": "robust-conversion",
   "metadata": {},
   "outputs": [
    {
     "data": {
      "text/plain": [
       "count    64330.000000\n",
       "mean        62.035815\n",
       "std         23.208544\n",
       "min        -12.000000\n",
       "25%         46.000000\n",
       "50%         68.000000\n",
       "75%         81.000000\n",
       "max         98.000000\n",
       "Name: Battery, dtype: float64"
      ]
     },
     "execution_count": 11,
     "metadata": {},
     "output_type": "execute_result"
    }
   ],
   "source": [
    "bikes_03_2021['Battery'].describe()"
   ]
  },
  {
   "cell_type": "code",
   "execution_count": 15,
   "id": "painted-authentication",
   "metadata": {},
   "outputs": [
    {
     "data": {
      "text/plain": [
       "<AxesSubplot:xlabel='Battery', ylabel='Density'>"
      ]
     },
     "execution_count": 15,
     "metadata": {},
     "output_type": "execute_result"
    },
    {
     "data": {
      "image/png": "[encoded data removed]",
      "text/plain": [
       "<Figure size 432x288 with 1 Axes>"
      ]
     },
     "metadata": {
      "needs_background": "light"
     },
     "output_type": "display_data"
    }
   ],
   "source": [
    "sns.distplot(bikes_03_2021['Battery'])"
   ]
  },
  {
   "cell_type": "code",
   "execution_count": 45,
   "id": "collaborative-malaysia",
   "metadata": {},
   "outputs": [
    {
     "data": {
      "text/plain": [
       "BikeID\n",
       "5     907\n",
       "6     904\n",
       "7     785\n",
       "8     271\n",
       "9     700\n",
       "10    850\n",
       "12    458\n",
       "13    481\n",
       "14    678\n",
       "15    182\n",
       "Name: BikeID, dtype: int64"
      ]
     },
     "execution_count": 45,
     "metadata": {},
     "output_type": "execute_result"
    }
   ],
   "source": [
    "n_by_bike = bikes_03_2021.groupby(\"BikeID\")[\"BikeID\"].count()\n",
    "n_by_bike.head(10)"
   ]
  },
  {
   "cell_type": "code",
   "execution_count": 39,
   "id": "small-atlas",
   "metadata": {},
   "outputs": [],
   "source": [
    "df = bikes_03_2021.loc[:,['BikeID','Battery','LastGPSTime','LastRentalStart']]"
   ]
  },
  {
   "cell_type": "code",
   "execution_count": 44,
   "id": "rural-saskatchewan",
   "metadata": {},
   "outputs": [
    {
     "data": {
      "text/plain": [
       "<bound method NDFrame.head of        BikeID  Battery          LastGPSTime      LastRentalStart\n",
       "0           5     31.0  2021-02-28 23:30:33  2021-02-28 20:26:54\n",
       "1           6     33.0  2021-02-28 23:48:14  2021-02-28 13:28:38\n",
       "2           8     42.0  2021-02-28 23:48:12  2021-02-28 15:51:17\n",
       "3          16     41.0  2021-02-28 23:57:47  2021-02-28 16:45:26\n",
       "4          20     -6.0  2021-02-28 23:31:16  2021-02-28 18:59:39\n",
       "...       ...      ...                  ...                  ...\n",
       "66471     117      7.0  2021-03-21 00:09:15  2021-03-20 14:25:48\n",
       "66472     118      NaN  2021-03-19 15:43:39  2021-03-19 12:49:55\n",
       "66473     120     66.0  2021-03-20 19:39:24  2021-03-19 09:49:41\n",
       "66474     122      NaN  2021-03-01 15:30:44  2021-03-19 12:09:45\n",
       "66475     124     81.0  2021-03-21 00:25:13  2021-03-20 18:43:58\n",
       "\n",
       "[66476 rows x 4 columns]>"
      ]
     },
     "execution_count": 44,
     "metadata": {},
     "output_type": "execute_result"
    }
   ],
   "source": [
    "df.head"
   ]
  },
  {
   "cell_type": "code",
   "execution_count": null,
   "id": "republican-assignment",
   "metadata": {},
   "outputs": [],
   "source": []
  },
  {
   "cell_type": "code",
   "execution_count": 43,
   "id": "suitable-guitar",
   "metadata": {},
   "outputs": [
    {
     "data": {
      "text/html": [
       "<div>\n",
       "<style scoped>\n",
       "    .dataframe tbody tr th:only-of-type {\n",
       "        vertical-align: middle;\n",
       "    }\n",
       "\n",
       "    .dataframe tbody tr th {\n",
       "        vertical-align: top;\n",
       "    }\n",
       "\n",
       "    .dataframe thead th {\n",
       "        text-align: right;\n",
       "    }\n",
       "</style>\n",
       "<table border=\"1\" class=\"dataframe\">\n",
       "  <thead>\n",
       "    <tr style=\"text-align: right;\">\n",
       "      <th></th>\n",
       "      <th>BikeID</th>\n",
       "      <th>Battery</th>\n",
       "      <th>LastGPSTime</th>\n",
       "      <th>LastRentalStart</th>\n",
       "    </tr>\n",
       "  </thead>\n",
       "  <tbody>\n",
       "  </tbody>\n",
       "</table>\n",
       "</div>"
      ],
      "text/plain": [
       "Empty DataFrame\n",
       "Columns: [BikeID, Battery, LastGPSTime, LastRentalStart]\n",
       "Index: []"
      ]
     },
     "execution_count": 43,
     "metadata": {},
     "output_type": "execute_result"
    }
   ],
   "source": [
    "df.loc[(df[\"BikeID\"] == \"5\")]"
   ]
  },
  {
   "cell_type": "code",
   "execution_count": null,
   "id": "solid-possibility",
   "metadata": {},
   "outputs": [],
   "source": []
  }
 ],
 "metadata": {
  "kernelspec": {
   "display_name": "Python 3",
   "language": "python",
   "name": "python3"
  },
  "language_info": {
   "codemirror_mode": {
    "name": "ipython",
    "version": 3
   },
   "file_extension": ".py",
   "mimetype": "text/x-python",
   "name": "python",
   "nbconvert_exporter": "python",
   "pygments_lexer": "ipython3",
   "version": "3.9.5"
  }
 },
 "nbformat": 4,
 "nbformat_minor": 5
}
