{
 "cells": [
  {
   "cell_type": "markdown",
   "metadata": {},
   "source": [
    "<img title=\"GitHub Octocat\" src='./img/Octocat.jpg' style='height: 60px; padding-right: 15px' alt=\"Octocat\" align=\"left\"> This notebook is part of a GitHub repository: https://github.com/pessini/moby-bikes \n",
    "<br>MIT Licensed\n",
    "<br>Author: Leandro Pessini"
   ]
  },
  {
   "cell_type": "markdown",
   "metadata": {},
   "source": [
    "<a id=\"4\"></a>\n",
    "# <p style=\"font-size:100%; text-align:left; color:#444444;\">4- Models</p>"
   ]
  },
  {
   "cell_type": "code",
   "execution_count": 246,
   "metadata": {},
   "outputs": [],
   "source": [
    "import pandas as pd\n",
    "import matplotlib.pyplot as plt\n",
    "import seaborn as sns\n",
    "import numpy as np\n",
    "\n",
    "# Preprocessing\n",
    "from sklearn.model_selection import train_test_split\n",
    "from sklearn.preprocessing import StandardScaler, MinMaxScaler, OneHotEncoder\n",
    "from sklearn.compose import ColumnTransformer\n",
    "from sklearn.pipeline import Pipeline\n",
    "\n",
    "# Models & Evaluation\n",
    "from sklearn.linear_model import LinearRegression\n",
    "from sklearn.linear_model import Ridge\n",
    "from sklearn import linear_model\n",
    "from sklearn.linear_model import ElasticNet\n",
    "from sklearn.ensemble import RandomForestRegressor, GradientBoostingRegressor\n",
    "from xgboost import XGBRegressor\n",
    "from lightgbm import LGBMRegressor\n",
    "from catboost import CatBoostRegressor\n",
    "from sklearn import metrics"
   ]
  },
  {
   "cell_type": "markdown",
   "metadata": {},
   "source": [
    "## Splitting dataset in train and test"
   ]
  },
  {
   "cell_type": "code",
   "execution_count": 247,
   "metadata": {},
   "outputs": [],
   "source": [
    "def adjusted_r2_score(X, r2_score):\n",
    "    return 1 - ( 1- r2_score ) * ( len(X) - 1 ) / ( len(X) - X.shape[1] - 1 )"
   ]
  },
  {
   "cell_type": "code",
   "execution_count": 248,
   "metadata": {},
   "outputs": [],
   "source": [
    "hourly_data = pd.read_csv('../data/interim/hourly_data.csv')"
   ]
  },
  {
   "cell_type": "code",
   "execution_count": 249,
   "metadata": {},
   "outputs": [
    {
     "data": {
      "text/plain": [
       "(7447, 15)"
      ]
     },
     "execution_count": 249,
     "metadata": {},
     "output_type": "execute_result"
    }
   ],
   "source": [
    "hourly_data.shape"
   ]
  },
  {
   "cell_type": "code",
   "execution_count": 250,
   "metadata": {},
   "outputs": [
    {
     "data": {
      "text/plain": [
       "Index(['rental_date', 'rental_day', 'rental_year', 'rental_hour', 'holiday',\n",
       "       'dayofweek', 'working_day', 'season', 'peak', 'timesofday', 'rain',\n",
       "       'temp', 'rhum', 'wdsp', 'count'],\n",
       "      dtype='object')"
      ]
     },
     "execution_count": 250,
     "metadata": {},
     "output_type": "execute_result"
    }
   ],
   "source": [
    "hourly_data.columns"
   ]
  },
  {
   "cell_type": "code",
   "execution_count": 251,
   "metadata": {},
   "outputs": [
    {
     "data": {
      "text/plain": [
       "((5212, 2), (2235, 2))"
      ]
     },
     "execution_count": 251,
     "metadata": {},
     "output_type": "execute_result"
    }
   ],
   "source": [
    "df = hourly_data.copy()\n",
    "#df = hourlyDataWithoutOutliers.copy()\n",
    "#df = transform_data.copy()\n",
    "df = df.astype({'holiday': 'category', 'dayofweek': 'category', 'working_day': 'category', 'peak': 'category', 'timesofday': 'category'})\n",
    "# predictors = ['rain','temp','wdsp','rhum','holiday','dayofweek','working_day','peak','timesofday']\n",
    "predictors = ['rhum']\n",
    "# predictors = ['rain']\n",
    "# predictors = ['temp']\n",
    "# predictors = ['wdsp']\n",
    "# predictors = ['rhum','rain'] # 3.1586, 0.19811\n",
    "# predictors = ['rhum','temp']\n",
    "# predictors = ['rhum','wdsp']\n",
    "# predictors = ['rhum','temp']\n",
    "\n",
    "X = df[[c for c in df.columns if c in predictors]]\n",
    "y = df.pop('count')\n",
    "X_train, X_test, y_train, y_test = train_test_split(X, y, test_size=0.3, random_state=42)\n",
    "X_train.shape, X_test.shape"
   ]
  },
  {
   "cell_type": "markdown",
   "metadata": {},
   "source": [
    "## Split columns in categorical and numerical"
   ]
  },
  {
   "cell_type": "code",
   "execution_count": 252,
   "metadata": {},
   "outputs": [],
   "source": [
    "num_vars = [n for n in df.select_dtypes(include=['number']).columns if n in predictors] # list comprehension to select only predictors features\n",
    "cat_vars = [c for c in df.select_dtypes(include=['category']).columns if c in predictors]"
   ]
  },
  {
   "cell_type": "code",
   "execution_count": 253,
   "metadata": {},
   "outputs": [
    {
     "data": {
      "text/plain": [
       "(['rain', 'rhum'], [])"
      ]
     },
     "execution_count": 253,
     "metadata": {},
     "output_type": "execute_result"
    }
   ],
   "source": [
    "num_vars, cat_vars"
   ]
  },
  {
   "cell_type": "markdown",
   "metadata": {},
   "source": [
    "## Preprocessing Pipelines"
   ]
  },
  {
   "cell_type": "code",
   "execution_count": 254,
   "metadata": {},
   "outputs": [],
   "source": [
    "# Define categorical pipeline\n",
    "cat_pipe = Pipeline([\n",
    "    #('imputer', SimpleImputer(strategy='constant', fill_value='missing')),\n",
    "    ('encoder', OneHotEncoder(handle_unknown='ignore', sparse=False))\n",
    "])\n",
    "\n",
    "# Define numerical pipeline\n",
    "num_pipe = Pipeline([\n",
    "    #('imputer', SimpleImputer(strategy='median')),\n",
    "    ('scaler', StandardScaler())\n",
    "    # ('scaler', MinMaxScaler())\n",
    "])\n",
    "\n",
    "# Combine categorical and numerical pipelines\n",
    "preprocessor = ColumnTransformer([\n",
    "    ('cat', cat_pipe, cat_vars),\n",
    "    ('num', num_pipe, num_vars)\n",
    "])"
   ]
  },
  {
   "cell_type": "code",
   "execution_count": 255,
   "metadata": {},
   "outputs": [
    {
     "name": "stdout",
     "output_type": "stream",
     "text": [
      "Root Mean Squared Error: 3.1586080598382247\n",
      "R^2: 0.1988294677251371\n",
      "Adjusted R^2: 0.19811157298295534\n"
     ]
    }
   ],
   "source": [
    "pipe_linear_regression = Pipeline([\n",
    "    ('preprocessor', preprocessor),\n",
    "    ('model', LinearRegression())\n",
    "])\n",
    "pipe_linear_regression.fit(X_train, y_train)\n",
    "\n",
    "# Predict training data\n",
    "y_train_pred = pipe_linear_regression.predict(X_train)\n",
    "\n",
    "# Predict test data\n",
    "y_test_pred = pipe_linear_regression.predict(X_test)\n",
    "\n",
    "print('Root Mean Squared Error:', np.sqrt(metrics.mean_squared_error(y_test, y_test_pred)))\n",
    "print('R^2:', metrics.r2_score(y_test, y_test_pred))\n",
    "print('Adjusted R^2:', adjusted_r2_score(X_test, metrics.r2_score(y_test, y_test_pred)))"
   ]
  },
  {
   "cell_type": "code",
   "execution_count": 256,
   "metadata": {},
   "outputs": [
    {
     "ename": "NameError",
     "evalue": "name 'kldsfjj' is not defined",
     "output_type": "error",
     "traceback": [
      "\u001b[0;31m---------------------------------------------------------------------------\u001b[0m",
      "\u001b[0;31mNameError\u001b[0m                                 Traceback (most recent call last)",
      "\u001b[0;32m/var/folders/rs/20m5cx314y19rmnyp58yqp5w0000gn/T/ipykernel_32275/3682931543.py\u001b[0m in \u001b[0;36m<module>\u001b[0;34m\u001b[0m\n\u001b[0;32m----> 1\u001b[0;31m \u001b[0mkldsfjj\u001b[0m\u001b[0;34m\u001b[0m\u001b[0;34m\u001b[0m\u001b[0m\n\u001b[0m",
      "\u001b[0;31mNameError\u001b[0m: name 'kldsfjj' is not defined"
     ]
    }
   ],
   "source": [
    "kldsfjj"
   ]
  },
  {
   "cell_type": "markdown",
   "metadata": {},
   "source": [
    "## Feature Importance"
   ]
  },
  {
   "cell_type": "code",
   "execution_count": null,
   "metadata": {},
   "outputs": [
    {
     "data": {
      "text/plain": [
       "Pipeline(steps=[('preprocessor',\n",
       "                 ColumnTransformer(transformers=[('cat',\n",
       "                                                  Pipeline(steps=[('encoder',\n",
       "                                                                   OneHotEncoder(handle_unknown='ignore',\n",
       "                                                                                 sparse=False))]),\n",
       "                                                  ['dayofweek']),\n",
       "                                                 ('num',\n",
       "                                                  Pipeline(steps=[('scaler',\n",
       "                                                                   StandardScaler())]),\n",
       "                                                  ['rhum', 'wdsp'])])),\n",
       "                ('model',\n",
       "                 LGBMRegressor(boosting_type='dart', importance_type='gain',\n",
       "                               learning_rate=0.01, max_depth=5,\n",
       "                               n_estimators=500, subsample=0.7))])"
      ]
     },
     "execution_count": 126,
     "metadata": {},
     "output_type": "execute_result"
    }
   ],
   "source": [
    "# LightGBM model\n",
    "params_lightgbm = {'n_estimators': 500, \n",
    "                   'boosting_type': 'dart', \n",
    "                   'max_depth': 5, \n",
    "                   'learning_rate': 0.01, \n",
    "                   'subsample': 0.7, \n",
    "                   'importance_type': 'gain'\n",
    "                   }\n",
    "\n",
    "# Fit a pipeline with transformers and an estimator to the training data\n",
    "pipe_gbm = Pipeline([\n",
    "    ('preprocessor', preprocessor),\n",
    "    ('model', LGBMRegressor(**params_lightgbm))\n",
    "])\n",
    "pipe_gbm.fit(X_train, y_train)"
   ]
  },
  {
   "cell_type": "code",
   "execution_count": null,
   "metadata": {},
   "outputs": [
    {
     "data": {
      "image/png": "[encoded data removed]",
      "text/plain": [
       "<Figure size 1080x864 with 1 Axes>"
      ]
     },
     "metadata": {
      "needs_background": "light"
     },
     "output_type": "display_data"
    }
   ],
   "source": [
    "#Plotting features importance\n",
    "feature_imp = pd.DataFrame(sorted(zip(pipe_gbm['model'].feature_importances_,X_train.columns)), columns=['Value','Feature'])\n",
    "scaler_ft = MinMaxScaler()\n",
    "feature_imp['Value'] = scaler_ft.fit_transform(feature_imp['Value'].values.reshape(-1,1))\n",
    "\n",
    "fig = plt.figure(figsize=(15, 12))\n",
    "sns.barplot(x=\"Value\", y=\"Feature\", data=feature_imp.sort_values(by=\"Value\", ascending=False))\n",
    "plt.title('LightGBM Features Importance')\n",
    "locs, labels = plt.xticks()\n",
    "plt.tick_params(axis='both', which='major', labelsize=12)\n",
    "\n",
    "plt.show()"
   ]
  },
  {
   "cell_type": "markdown",
   "metadata": {},
   "source": [
    "## Linear Regression"
   ]
  },
  {
   "cell_type": "code",
   "execution_count": null,
   "metadata": {},
   "outputs": [
    {
     "name": "stdout",
     "output_type": "stream",
     "text": [
      "Root Mean Squared Error: 3.139591660855648\n",
      "R^2: 0.20844732211604622\n",
      "Adjusted R^2: 0.20738293034838506\n"
     ]
    }
   ],
   "source": [
    "pipe_linear_regression = Pipeline([\n",
    "    ('preprocessor', preprocessor),\n",
    "    ('model', LinearRegression())\n",
    "])\n",
    "pipe_linear_regression.fit(X_train, y_train)\n",
    "\n",
    "# Predict training data\n",
    "y_train_pred = pipe_linear_regression.predict(X_train)\n",
    "\n",
    "# Predict test data\n",
    "y_test_pred = pipe_linear_regression.predict(X_test)\n",
    "\n",
    "print('Root Mean Squared Error:', np.sqrt(metrics.mean_squared_error(y_test, y_test_pred)))\n",
    "print('R^2:', metrics.r2_score(y_test, y_test_pred))\n",
    "print('Adjusted R^2:', adjusted_r2_score(X_test, metrics.r2_score(y_test, y_test_pred)))"
   ]
  },
  {
   "cell_type": "markdown",
   "metadata": {},
   "source": [
    "## Ridge Regression\n",
    "\n",
    "[Ridge](https://scikit-learn.org/stable/modules/generated/sklearn.linear_model.Ridge.html#sklearn.linear_model.Ridge) regression addresses some of the problems of Ordinary Least Squares by imposing a penalty on the size of the coefficients with l2 regularization."
   ]
  },
  {
   "cell_type": "code",
   "execution_count": null,
   "metadata": {},
   "outputs": [
    {
     "name": "stdout",
     "output_type": "stream",
     "text": [
      "Root Mean Squared Error: 3.140349789036471\n",
      "R^2: 0.20806499797299183\n",
      "Adjusted R^2: 0.20700009209845982\n"
     ]
    }
   ],
   "source": [
    "# Fit a pipeline with transformers and an estimator to the training data\n",
    "pipe_ridge = Pipeline([\n",
    "    ('preprocessor', preprocessor),\n",
    "    ('model', Ridge())\n",
    "])\n",
    "pipe_ridge.fit(X_train, y_train)\n",
    "\n",
    "y_train_pred = pipe_ridge.predict(X_train)\n",
    "y_test_pred = pipe_ridge.predict(X_test)\n",
    "\n",
    "print('Root Mean Squared Error:', np.sqrt(metrics.mean_squared_error(y_test, y_test_pred)))\n",
    "print('R^2:', metrics.r2_score(y_test, y_test_pred))\n",
    "print('Adjusted R^2:', adjusted_r2_score(X_test, metrics.r2_score(y_test, y_test_pred)))"
   ]
  },
  {
   "cell_type": "markdown",
   "metadata": {},
   "source": [
    "## Lasso Regression\n",
    "\n",
    "The [Lasso](https://scikit-learn.org/stable/modules/generated/sklearn.linear_model.Lasso.html#sklearn.linear_model.Lasso) is a linear model that estimates sparse coefficients with l1 regularization."
   ]
  },
  {
   "cell_type": "code",
   "execution_count": null,
   "metadata": {},
   "outputs": [
    {
     "name": "stdout",
     "output_type": "stream",
     "text": [
      "Root Mean Squared Error: 3.159947081605668\n",
      "R^2: 0.1981500468198084\n",
      "Adjusted R^2: 0.19707180842467587\n"
     ]
    }
   ],
   "source": [
    "# Fit a pipeline with transformers and an estimator to the training data\n",
    "pipe_lasso = Pipeline([\n",
    "    ('preprocessor', preprocessor),\n",
    "    ('model', linear_model.Lasso(alpha=0.1))\n",
    "])\n",
    "pipe_lasso.fit(X_train, y_train)\n",
    "y_train_pred = pipe_lasso.predict(X_train)\n",
    "y_test_pred = pipe_lasso.predict(X_test)\n",
    "\n",
    "print('Root Mean Squared Error:', np.sqrt(metrics.mean_squared_error(y_test, y_test_pred)))\n",
    "print('R^2:', metrics.r2_score(y_test, y_test_pred))\n",
    "print('Adjusted R^2:', adjusted_r2_score(X_test, metrics.r2_score(y_test, y_test_pred)))"
   ]
  },
  {
   "cell_type": "markdown",
   "metadata": {},
   "source": [
    "## Elastic-Net\n",
    "\n",
    "[Elastic-Net](https://scikit-learn.org/stable/modules/generated/sklearn.linear_model.ElasticNet.html#sklearn.linear_model.ElasticNet) is a linear regression model trained with both l1 and l2 -norm regularization of the coefficients."
   ]
  },
  {
   "cell_type": "code",
   "execution_count": null,
   "metadata": {},
   "outputs": [
    {
     "name": "stdout",
     "output_type": "stream",
     "text": [
      "Root Mean Squared Error: 3.3118248840018585\n",
      "R^2: 0.11921842987009723\n",
      "Adjusted R^2: 0.11803405303890513\n"
     ]
    }
   ],
   "source": [
    "# Fit a pipeline with transformers and an estimator to the training data\n",
    "pipe_elastic = Pipeline([\n",
    "    ('preprocessor', preprocessor),\n",
    "    ('model', ElasticNet())\n",
    "])\n",
    "pipe_elastic.fit(X_train, y_train)\n",
    "y_train_pred = pipe_elastic.predict(X_train)\n",
    "y_test_pred = pipe_elastic.predict(X_test)\n",
    "\n",
    "print('Root Mean Squared Error:', np.sqrt(metrics.mean_squared_error(y_test, y_test_pred)))\n",
    "print('R^2:', metrics.r2_score(y_test, y_test_pred))\n",
    "print('Adjusted R^2:', adjusted_r2_score(X_test, metrics.r2_score(y_test, y_test_pred)))"
   ]
  },
  {
   "cell_type": "markdown",
   "metadata": {},
   "source": [
    "## Random Forest Regressor"
   ]
  },
  {
   "cell_type": "code",
   "execution_count": null,
   "metadata": {},
   "outputs": [
    {
     "name": "stdout",
     "output_type": "stream",
     "text": [
      "Root Mean Squared Error: 3.3432885001987374\n",
      "R^2: 0.10240340230753198\n",
      "Adjusted R^2: 0.10119641450247718\n"
     ]
    }
   ],
   "source": [
    "# random forest model\n",
    "params_rf = {'n_estimators': 1000, 'max_depth': 15, 'random_state': 0, 'min_samples_split' : 5, 'n_jobs': -1}\n",
    "\n",
    "# Fit a pipeline with transformers and an estimator to the training data\n",
    "pipe_rf = Pipeline([\n",
    "    ('preprocessor', preprocessor),\n",
    "    ('model', RandomForestRegressor(**params_rf))\n",
    "])\n",
    "pipe_rf.fit(X_train, y_train)\n",
    "y_train_pred = pipe_rf.predict(X_train)\n",
    "y_test_pred = pipe_rf.predict(X_test)\n",
    "\n",
    "print('Root Mean Squared Error:', np.sqrt(metrics.mean_squared_error(y_test, y_test_pred)))\n",
    "print('R^2:', metrics.r2_score(y_test, y_test_pred))\n",
    "print('Adjusted R^2:', adjusted_r2_score(X_test, metrics.r2_score(y_test, y_test_pred)))"
   ]
  },
  {
   "cell_type": "markdown",
   "metadata": {},
   "source": [
    "## GradientBoost"
   ]
  },
  {
   "cell_type": "code",
   "execution_count": null,
   "metadata": {},
   "outputs": [
    {
     "name": "stdout",
     "output_type": "stream",
     "text": [
      "Root Mean Squared Error: 3.1717881553585325\n",
      "R^2: 0.19212934219427125\n",
      "Adjusted R^2: 0.19104300782698425\n"
     ]
    }
   ],
   "source": [
    "# GBM model\n",
    "params_gbm = {'n_estimators': 150, 'max_depth': 5, 'random_state': 0, 'min_samples_leaf' : 10, 'learning_rate': 0.01, 'subsample': 0.7, 'loss': 'ls'}\n",
    "\n",
    "# Fit a pipeline with transformers and an estimator to the training data\n",
    "pipe_gbm = Pipeline([\n",
    "    ('preprocessor', preprocessor),\n",
    "    ('model', GradientBoostingRegressor(**params_gbm))\n",
    "])\n",
    "pipe_gbm.fit(X_train, y_train)\n",
    "y_train_pred = pipe_gbm.predict(X_train)\n",
    "y_test_pred = pipe_gbm.predict(X_test)\n",
    "\n",
    "print('Root Mean Squared Error:', np.sqrt(metrics.mean_squared_error(y_test, y_test_pred)))\n",
    "print('R^2:', metrics.r2_score(y_test, y_test_pred))\n",
    "print('Adjusted R^2:', adjusted_r2_score(X_test, metrics.r2_score(y_test, y_test_pred)))"
   ]
  },
  {
   "cell_type": "markdown",
   "metadata": {},
   "source": [
    "## LightGBM"
   ]
  },
  {
   "cell_type": "code",
   "execution_count": null,
   "metadata": {},
   "outputs": [
    {
     "name": "stdout",
     "output_type": "stream",
     "text": [
      "Root Mean Squared Error: 3.179496669578697\n",
      "R^2: 0.18819777451763708\n",
      "Adjusted R^2: 0.1871061534165851\n"
     ]
    }
   ],
   "source": [
    "# LightGBM model\n",
    "params_lightgbm = {'n_estimators': 1000, 'max_depth': 15, 'random_state': 0, 'learning_rate': 0.01, 'subsample': 0.7}\n",
    "\n",
    "# Fit a pipeline with transformers and an estimator to the training data\n",
    "pipe_gbm = Pipeline([\n",
    "    ('preprocessor', preprocessor),\n",
    "    ('model', LGBMRegressor(**params_lightgbm))\n",
    "])\n",
    "pipe_gbm.fit(X_train, y_train)\n",
    "y_train_pred = pipe_gbm.predict(X_train)\n",
    "y_test_pred = pipe_gbm.predict(X_test)\n",
    "\n",
    "print('Root Mean Squared Error:', np.sqrt(metrics.mean_squared_error(y_test, y_test_pred)))\n",
    "print('R^2:', metrics.r2_score(y_test, y_test_pred))\n",
    "print('Adjusted R^2:', adjusted_r2_score(X_test, metrics.r2_score(y_test, y_test_pred)))"
   ]
  },
  {
   "cell_type": "markdown",
   "metadata": {},
   "source": [
    "## Catboost"
   ]
  },
  {
   "cell_type": "code",
   "execution_count": null,
   "metadata": {},
   "outputs": [
    {
     "name": "stdout",
     "output_type": "stream",
     "text": [
      "Learning rate set to 0.30132\n",
      "0:\tlearn: 3.3061240\ttotal: 1.94ms\tremaining: 192ms\n",
      "1:\tlearn: 3.2358414\ttotal: 4.12ms\tremaining: 202ms\n",
      "2:\tlearn: 3.1873851\ttotal: 5.87ms\tremaining: 190ms\n",
      "3:\tlearn: 3.1515416\ttotal: 7.28ms\tremaining: 175ms\n",
      "4:\tlearn: 3.1367226\ttotal: 10ms\tremaining: 191ms\n",
      "5:\tlearn: 3.1233325\ttotal: 11.8ms\tremaining: 185ms\n",
      "6:\tlearn: 3.1146854\ttotal: 13.2ms\tremaining: 175ms\n",
      "7:\tlearn: 3.1091340\ttotal: 15.6ms\tremaining: 180ms\n",
      "8:\tlearn: 3.1051975\ttotal: 17.1ms\tremaining: 173ms\n",
      "9:\tlearn: 3.1023883\ttotal: 19ms\tremaining: 171ms\n",
      "10:\tlearn: 3.0997931\ttotal: 20.4ms\tremaining: 165ms\n",
      "11:\tlearn: 3.0956363\ttotal: 22ms\tremaining: 162ms\n",
      "12:\tlearn: 3.0904638\ttotal: 23.6ms\tremaining: 158ms\n",
      "13:\tlearn: 3.0867410\ttotal: 25.4ms\tremaining: 156ms\n",
      "14:\tlearn: 3.0856052\ttotal: 27.4ms\tremaining: 155ms\n",
      "15:\tlearn: 3.0845273\ttotal: 29ms\tremaining: 152ms\n",
      "16:\tlearn: 3.0830947\ttotal: 30.7ms\tremaining: 150ms\n",
      "17:\tlearn: 3.0819052\ttotal: 33ms\tremaining: 150ms\n",
      "18:\tlearn: 3.0759433\ttotal: 34.3ms\tremaining: 146ms\n",
      "19:\tlearn: 3.0721766\ttotal: 35.6ms\tremaining: 142ms\n",
      "20:\tlearn: 3.0716113\ttotal: 37.3ms\tremaining: 140ms\n",
      "21:\tlearn: 3.0713277\ttotal: 38.6ms\tremaining: 137ms\n",
      "22:\tlearn: 3.0713275\ttotal: 39.5ms\tremaining: 132ms\n",
      "23:\tlearn: 3.0680480\ttotal: 40.9ms\tremaining: 130ms\n",
      "24:\tlearn: 3.0663869\ttotal: 42.8ms\tremaining: 128ms\n",
      "25:\tlearn: 3.0660055\ttotal: 44.3ms\tremaining: 126ms\n",
      "26:\tlearn: 3.0637341\ttotal: 46ms\tremaining: 124ms\n",
      "27:\tlearn: 3.0586106\ttotal: 47.9ms\tremaining: 123ms\n",
      "28:\tlearn: 3.0561780\ttotal: 49.4ms\tremaining: 121ms\n",
      "29:\tlearn: 3.0531493\ttotal: 51.4ms\tremaining: 120ms\n",
      "30:\tlearn: 3.0485155\ttotal: 53ms\tremaining: 118ms\n",
      "31:\tlearn: 3.0440998\ttotal: 54.6ms\tremaining: 116ms\n",
      "32:\tlearn: 3.0408895\ttotal: 56.4ms\tremaining: 115ms\n",
      "33:\tlearn: 3.0371142\ttotal: 57.9ms\tremaining: 112ms\n",
      "34:\tlearn: 3.0335001\ttotal: 59.2ms\tremaining: 110ms\n",
      "35:\tlearn: 3.0298504\ttotal: 61.4ms\tremaining: 109ms\n",
      "36:\tlearn: 3.0248608\ttotal: 62.8ms\tremaining: 107ms\n",
      "37:\tlearn: 3.0210571\ttotal: 64.6ms\tremaining: 105ms\n",
      "38:\tlearn: 3.0188970\ttotal: 65.8ms\tremaining: 103ms\n",
      "39:\tlearn: 3.0166308\ttotal: 67.5ms\tremaining: 101ms\n",
      "40:\tlearn: 3.0163756\ttotal: 69ms\tremaining: 99.3ms\n",
      "41:\tlearn: 3.0139837\ttotal: 71ms\tremaining: 98ms\n",
      "42:\tlearn: 3.0116292\ttotal: 72.2ms\tremaining: 95.7ms\n",
      "43:\tlearn: 3.0093260\ttotal: 73.8ms\tremaining: 93.9ms\n",
      "44:\tlearn: 3.0068718\ttotal: 75.5ms\tremaining: 92.2ms\n",
      "45:\tlearn: 3.0033821\ttotal: 77.2ms\tremaining: 90.6ms\n",
      "46:\tlearn: 3.0009496\ttotal: 78.5ms\tremaining: 88.5ms\n",
      "47:\tlearn: 2.9986227\ttotal: 80.1ms\tremaining: 86.8ms\n",
      "48:\tlearn: 2.9962135\ttotal: 81.8ms\tremaining: 85.1ms\n",
      "49:\tlearn: 2.9959606\ttotal: 83.8ms\tremaining: 83.8ms\n",
      "50:\tlearn: 2.9959126\ttotal: 85.8ms\tremaining: 82.4ms\n",
      "51:\tlearn: 2.9929363\ttotal: 87.5ms\tremaining: 80.8ms\n",
      "52:\tlearn: 2.9904160\ttotal: 89.3ms\tremaining: 79.2ms\n",
      "53:\tlearn: 2.9893348\ttotal: 91.1ms\tremaining: 77.6ms\n",
      "54:\tlearn: 2.9860837\ttotal: 93.9ms\tremaining: 76.9ms\n",
      "55:\tlearn: 2.9833557\ttotal: 95.1ms\tremaining: 74.8ms\n",
      "56:\tlearn: 2.9809339\ttotal: 96.4ms\tremaining: 72.8ms\n",
      "57:\tlearn: 2.9795970\ttotal: 98.5ms\tremaining: 71.3ms\n",
      "58:\tlearn: 2.9792923\ttotal: 100ms\tremaining: 69.6ms\n",
      "59:\tlearn: 2.9792303\ttotal: 102ms\tremaining: 68ms\n",
      "60:\tlearn: 2.9764101\ttotal: 105ms\tremaining: 66.9ms\n",
      "61:\tlearn: 2.9759243\ttotal: 106ms\tremaining: 65ms\n",
      "62:\tlearn: 2.9748099\ttotal: 108ms\tremaining: 63.3ms\n",
      "63:\tlearn: 2.9733923\ttotal: 110ms\tremaining: 61.7ms\n",
      "64:\tlearn: 2.9719122\ttotal: 111ms\tremaining: 60ms\n",
      "65:\tlearn: 2.9684954\ttotal: 113ms\tremaining: 58ms\n",
      "66:\tlearn: 2.9682871\ttotal: 114ms\tremaining: 56.2ms\n",
      "67:\tlearn: 2.9658269\ttotal: 116ms\tremaining: 54.4ms\n",
      "68:\tlearn: 2.9641718\ttotal: 117ms\tremaining: 52.5ms\n",
      "69:\tlearn: 2.9641484\ttotal: 118ms\tremaining: 50.6ms\n",
      "70:\tlearn: 2.9611887\ttotal: 120ms\tremaining: 48.9ms\n",
      "71:\tlearn: 2.9576909\ttotal: 122ms\tremaining: 47.4ms\n",
      "72:\tlearn: 2.9556238\ttotal: 124ms\tremaining: 45.8ms\n",
      "73:\tlearn: 2.9537542\ttotal: 125ms\tremaining: 43.9ms\n",
      "74:\tlearn: 2.9537316\ttotal: 126ms\tremaining: 42.2ms\n",
      "75:\tlearn: 2.9526824\ttotal: 130ms\tremaining: 40.9ms\n",
      "76:\tlearn: 2.9513839\ttotal: 131ms\tremaining: 39.1ms\n",
      "77:\tlearn: 2.9475022\ttotal: 132ms\tremaining: 37.2ms\n",
      "78:\tlearn: 2.9463420\ttotal: 134ms\tremaining: 35.5ms\n",
      "79:\tlearn: 2.9446899\ttotal: 135ms\tremaining: 33.8ms\n",
      "80:\tlearn: 2.9433361\ttotal: 137ms\tremaining: 32.1ms\n",
      "81:\tlearn: 2.9423067\ttotal: 138ms\tremaining: 30.4ms\n",
      "82:\tlearn: 2.9413758\ttotal: 140ms\tremaining: 28.7ms\n",
      "83:\tlearn: 2.9405413\ttotal: 141ms\tremaining: 26.9ms\n",
      "84:\tlearn: 2.9401334\ttotal: 144ms\tremaining: 25.4ms\n",
      "85:\tlearn: 2.9396898\ttotal: 145ms\tremaining: 23.6ms\n",
      "86:\tlearn: 2.9370402\ttotal: 147ms\tremaining: 21.9ms\n",
      "87:\tlearn: 2.9353011\ttotal: 148ms\tremaining: 20.2ms\n",
      "88:\tlearn: 2.9339031\ttotal: 151ms\tremaining: 18.6ms\n",
      "89:\tlearn: 2.9332759\ttotal: 152ms\tremaining: 16.9ms\n",
      "90:\tlearn: 2.9314669\ttotal: 153ms\tremaining: 15.2ms\n",
      "91:\tlearn: 2.9297647\ttotal: 154ms\tremaining: 13.4ms\n",
      "92:\tlearn: 2.9283443\ttotal: 155ms\tremaining: 11.7ms\n",
      "93:\tlearn: 2.9271080\ttotal: 157ms\tremaining: 10ms\n",
      "94:\tlearn: 2.9265092\ttotal: 158ms\tremaining: 8.33ms\n",
      "95:\tlearn: 2.9248965\ttotal: 160ms\tremaining: 6.65ms\n",
      "96:\tlearn: 2.9225831\ttotal: 161ms\tremaining: 4.97ms\n",
      "97:\tlearn: 2.9212828\ttotal: 162ms\tremaining: 3.31ms\n",
      "98:\tlearn: 2.9201141\ttotal: 164ms\tremaining: 1.65ms\n",
      "99:\tlearn: 2.9171170\ttotal: 165ms\tremaining: 0us\n",
      "\n",
      "\n",
      "Root Mean Squared Error: 3.1647197136971923\n",
      "R^2: 0.1957260664623054\n",
      "Adjusted R^2: 0.19464456856870915\n"
     ]
    }
   ],
   "source": [
    "# Catboost model\n",
    "\n",
    "# Fit a pipeline with transformers and an estimator to the training data\n",
    "pipe_catboost = Pipeline([\n",
    "    ('preprocessor', preprocessor),\n",
    "    ('model', CatBoostRegressor(verbose=1, n_estimators=100))\n",
    "])\n",
    "pipe_catboost.fit(X_train, y_train)\n",
    "y_train_pred = pipe_catboost.predict(X_train)\n",
    "y_test_pred = pipe_catboost.predict(X_test)\n",
    "\n",
    "print('\\n')\n",
    "print('Root Mean Squared Error:', np.sqrt(metrics.mean_squared_error(y_test, y_test_pred)))\n",
    "print('R^2:', metrics.r2_score(y_test, y_test_pred))\n",
    "print('Adjusted R^2:', adjusted_r2_score(X_test, metrics.r2_score(y_test, y_test_pred)))"
   ]
  },
  {
   "cell_type": "markdown",
   "metadata": {},
   "source": [
    "<img title=\"GitHub Mark\" src=\"./img/GitHub-Mark-64px.png\" style=\"height: 32px; padding-right: 15px\" alt=\"GitHub Mark\" align=\"left\"> [GitHub repository](https://github.com/pessini/moby-bikes) <br>Author: Leandro Pessini"
   ]
  }
 ],
 "metadata": {
  "interpreter": {
   "hash": "5c82cf216bcd6695c751af4e033b89e10a78cc5d50e2943f0ed5dd08b475eddb"
  },
  "kernelspec": {
   "display_name": "Python 3 (ipykernel)",
   "language": "python",
   "name": "python3"
  },
  "language_info": {
   "codemirror_mode": {
    "name": "ipython",
    "version": 3
   },
   "file_extension": ".py",
   "mimetype": "text/x-python",
   "name": "python",
   "nbconvert_exporter": "python",
   "pygments_lexer": "ipython3",
   "version": "3.9.6"
  }
 },
 "nbformat": 4,
 "nbformat_minor": 2
}
