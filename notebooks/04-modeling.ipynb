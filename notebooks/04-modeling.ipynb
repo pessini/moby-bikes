{
 "cells": [
  {
   "cell_type": "code",
   "execution_count": 1,
   "metadata": {},
   "outputs": [],
   "source": [
    "import pandas as pd\n",
    "import matplotlib.pyplot as plt\n",
    "import seaborn as sns\n",
    "import numpy as np\n",
    "\n",
    "# Preprocessing\n",
    "from sklearn.model_selection import train_test_split\n",
    "from sklearn.preprocessing import StandardScaler, MinMaxScaler, OneHotEncoder\n",
    "from sklearn.compose import ColumnTransformer\n",
    "from sklearn.pipeline import Pipeline\n",
    "\n",
    "# Models & Evaluation\n",
    "from sklearn.linear_model import LinearRegression\n",
    "from sklearn.linear_model import Ridge\n",
    "from sklearn import linear_model\n",
    "from sklearn.linear_model import ElasticNet\n",
    "from sklearn.ensemble import RandomForestRegressor, GradientBoostingRegressor\n",
    "from xgboost import XGBRegressor\n",
    "from lightgbm import LGBMRegressor\n",
    "from catboost import CatBoostRegressor\n",
    "from sklearn import metrics"
   ]
  },
  {
   "cell_type": "markdown",
   "metadata": {},
   "source": [
    "<a id=\"4\"></a>\n",
    "# <p style=\"font-size:100%; text-align:left; color:#444444;\">4- Models</p>"
   ]
  },
  {
   "cell_type": "markdown",
   "metadata": {},
   "source": [
    "## Splitting dataset in train and test"
   ]
  },
  {
   "cell_type": "code",
   "execution_count": 2,
   "metadata": {},
   "outputs": [],
   "source": [
    "def adjusted_r2_score(X, r2_score):\n",
    "    return 1 - ( 1- r2_score ) * ( len(X) - 1 ) / ( len(X) - X.shape[1] - 1 )"
   ]
  },
  {
   "cell_type": "code",
   "execution_count": 3,
   "metadata": {},
   "outputs": [],
   "source": [
    "hourly_data = pd.read_csv('../data/interim/hourly_data.csv')"
   ]
  },
  {
   "cell_type": "code",
   "execution_count": 23,
   "metadata": {},
   "outputs": [
    {
     "data": {
      "text/plain": [
       "(7447, 14)"
      ]
     },
     "execution_count": 23,
     "metadata": {},
     "output_type": "execute_result"
    }
   ],
   "source": [
    "hourly_data.shape"
   ]
  },
  {
   "cell_type": "code",
   "execution_count": 4,
   "metadata": {},
   "outputs": [
    {
     "data": {
      "text/plain": [
       "((5212, 8), (2235, 8))"
      ]
     },
     "execution_count": 4,
     "metadata": {},
     "output_type": "execute_result"
    }
   ],
   "source": [
    "df = hourly_data.copy()\n",
    "#df = hourlyDataWithoutOutliers.copy()\n",
    "#df = transform_data.copy()\n",
    "df = df.astype({'holiday': 'category', 'dayofweek': 'category', 'working_day': 'category', 'peak': 'category'})\n",
    "predictors = ['rain','temp','wdsp','rhum','holiday','dayofweek','working_day','peak']\n",
    "\n",
    "X = df[[c for c in df.columns if c in predictors]]\n",
    "y = df.pop('count')\n",
    "X_train, X_test, y_train, y_test = train_test_split(X, y, test_size=0.3, random_state=42)\n",
    "X_train.shape, X_test.shape"
   ]
  },
  {
   "cell_type": "markdown",
   "metadata": {},
   "source": [
    "## Split columns in categorical and numerical"
   ]
  },
  {
   "cell_type": "code",
   "execution_count": 5,
   "metadata": {},
   "outputs": [],
   "source": [
    "num_vars = [c for c in df.select_dtypes(include=['number']).columns if c in predictors] # list comprehension to select only predictors features\n",
    "cat_vars = df.select_dtypes(include=['category']).columns"
   ]
  },
  {
   "cell_type": "markdown",
   "metadata": {},
   "source": [
    "## Preprocessing Pipelines"
   ]
  },
  {
   "cell_type": "code",
   "execution_count": 6,
   "metadata": {},
   "outputs": [],
   "source": [
    "# Define categorical pipeline\n",
    "cat_pipe = Pipeline([\n",
    "    #('imputer', SimpleImputer(strategy='constant', fill_value='missing')),\n",
    "    ('encoder', OneHotEncoder(handle_unknown='ignore', sparse=False))\n",
    "])\n",
    "\n",
    "# Define numerical pipeline\n",
    "num_pipe = Pipeline([\n",
    "    #('imputer', SimpleImputer(strategy='median')),\n",
    "    #('scaler', StandardScaler())\n",
    "    ('scaler', MinMaxScaler())\n",
    "])\n",
    "\n",
    "# Combine categorical and numerical pipelines\n",
    "preprocessor = ColumnTransformer([\n",
    "    ('cat', cat_pipe, cat_vars),\n",
    "    ('num', num_pipe, num_vars)\n",
    "])"
   ]
  },
  {
   "cell_type": "markdown",
   "metadata": {},
   "source": [
    "## Feature Importance"
   ]
  },
  {
   "cell_type": "code",
   "execution_count": 7,
   "metadata": {},
   "outputs": [
    {
     "data": {
      "text/plain": [
       "Pipeline(steps=[('preprocessor',\n",
       "                 ColumnTransformer(transformers=[('cat',\n",
       "                                                  Pipeline(steps=[('encoder',\n",
       "                                                                   OneHotEncoder(handle_unknown='ignore',\n",
       "                                                                                 sparse=False))]),\n",
       "                                                  Index(['holiday', 'dayofweek', 'working_day', 'peak'], dtype='object')),\n",
       "                                                 ('num',\n",
       "                                                  Pipeline(steps=[('scaler',\n",
       "                                                                   MinMaxScaler())]),\n",
       "                                                  ['rain', 'temp', 'rhum',\n",
       "                                                   'wdsp'])])),\n",
       "                ('model',\n",
       "                 LGBMRegressor(boosting_type='dart', importance_type='gain',\n",
       "                               learning_rate=0.01, max_depth=5,\n",
       "                               n_estimators=500, subsample=0.7))])"
      ]
     },
     "execution_count": 7,
     "metadata": {},
     "output_type": "execute_result"
    }
   ],
   "source": [
    "# LightGBM model\n",
    "params_lightgbm = {'n_estimators': 500, \n",
    "                   'boosting_type': 'dart', \n",
    "                   'max_depth': 5, \n",
    "                   'learning_rate': 0.01, \n",
    "                   'subsample': 0.7, \n",
    "                   'importance_type': 'gain'\n",
    "                   }\n",
    "\n",
    "# Fit a pipeline with transformers and an estimator to the training data\n",
    "pipe_gbm = Pipeline([\n",
    "    ('preprocessor', preprocessor),\n",
    "    ('model', LGBMRegressor(**params_lightgbm))\n",
    "])\n",
    "pipe_gbm.fit(X_train, y_train)"
   ]
  },
  {
   "cell_type": "code",
   "execution_count": 8,
   "metadata": {},
   "outputs": [
    {
     "data": {
      "image/png": "[encoded data removed]",
      "text/plain": [
       "<Figure size 1080x864 with 1 Axes>"
      ]
     },
     "metadata": {
      "needs_background": "light"
     },
     "output_type": "display_data"
    }
   ],
   "source": [
    "#Plotting features importance\n",
    "feature_imp = pd.DataFrame(sorted(zip(pipe_gbm['model'].feature_importances_,X_train.columns)), columns=['Value','Feature'])\n",
    "scaler_ft = MinMaxScaler()\n",
    "feature_imp['Value'] = scaler_ft.fit_transform(feature_imp['Value'].values.reshape(-1,1))\n",
    "\n",
    "fig = plt.figure(figsize=(15, 12))\n",
    "sns.barplot(x=\"Value\", y=\"Feature\", data=feature_imp.sort_values(by=\"Value\", ascending=False))\n",
    "plt.title('LightGBM Features Importance')\n",
    "locs, labels = plt.xticks()\n",
    "plt.tick_params(axis='both', which='major', labelsize=12)\n",
    "\n",
    "plt.show()"
   ]
  },
  {
   "cell_type": "markdown",
   "metadata": {},
   "source": [
    "## Linear Regression"
   ]
  },
  {
   "cell_type": "code",
   "execution_count": 9,
   "metadata": {},
   "outputs": [
    {
     "name": "stdout",
     "output_type": "stream",
     "text": [
      "Root Mean Squared Error: 3.0854346918199416\n",
      "R^2: 0.23551986395364133\n",
      "Adjusted R^2: 0.232772406142154\n"
     ]
    }
   ],
   "source": [
    "pipe_linear_regression = Pipeline([\n",
    "    ('preprocessor', preprocessor),\n",
    "    ('model', LinearRegression())\n",
    "])\n",
    "pipe_linear_regression.fit(X_train, y_train)\n",
    "\n",
    "# Predict training data\n",
    "y_train_pred = pipe_linear_regression.predict(X_train)\n",
    "\n",
    "# Predict test data\n",
    "y_test_pred = pipe_linear_regression.predict(X_test)\n",
    "\n",
    "print('Root Mean Squared Error:', np.sqrt(metrics.mean_squared_error(y_test, y_test_pred)))\n",
    "print('R^2:', metrics.r2_score(y_test, y_test_pred))\n",
    "print('Adjusted R^2:', adjusted_r2_score(X_test, metrics.r2_score(y_test, y_test_pred)))"
   ]
  },
  {
   "cell_type": "markdown",
   "metadata": {},
   "source": [
    "## Ridge Regression\n",
    "\n",
    "[Ridge](https://scikit-learn.org/stable/modules/generated/sklearn.linear_model.Ridge.html#sklearn.linear_model.Ridge) regression addresses some of the problems of Ordinary Least Squares by imposing a penalty on the size of the coefficients with l2 regularization."
   ]
  },
  {
   "cell_type": "code",
   "execution_count": 10,
   "metadata": {},
   "outputs": [
    {
     "name": "stdout",
     "output_type": "stream",
     "text": [
      "Root Mean Squared Error: 3.0836903487695606\n",
      "R^2: 0.23638401360884953\n",
      "Adjusted R^2: 0.2336396614565004\n"
     ]
    }
   ],
   "source": [
    "# Fit a pipeline with transformers and an estimator to the training data\n",
    "pipe_ridge = Pipeline([\n",
    "    ('preprocessor', preprocessor),\n",
    "    ('model', Ridge())\n",
    "])\n",
    "pipe_ridge.fit(X_train, y_train)\n",
    "\n",
    "y_train_pred = pipe_ridge.predict(X_train)\n",
    "y_test_pred = pipe_ridge.predict(X_test)\n",
    "\n",
    "print('Root Mean Squared Error:', np.sqrt(metrics.mean_squared_error(y_test, y_test_pred)))\n",
    "print('R^2:', metrics.r2_score(y_test, y_test_pred))\n",
    "print('Adjusted R^2:', adjusted_r2_score(X_test, metrics.r2_score(y_test, y_test_pred)))"
   ]
  },
  {
   "cell_type": "markdown",
   "metadata": {},
   "source": [
    "## Lasso Regression\n",
    "\n",
    "The [Lasso](https://scikit-learn.org/stable/modules/generated/sklearn.linear_model.Lasso.html#sklearn.linear_model.Lasso) is a linear model that estimates sparse coefficients with l1 regularization."
   ]
  },
  {
   "cell_type": "code",
   "execution_count": 11,
   "metadata": {},
   "outputs": [
    {
     "name": "stdout",
     "output_type": "stream",
     "text": [
      "Root Mean Squared Error: 3.243241986691757\n",
      "R^2: 0.1553200293133018\n",
      "Adjusted R^2: 0.15228434208711417\n"
     ]
    }
   ],
   "source": [
    "# Fit a pipeline with transformers and an estimator to the training data\n",
    "pipe_lasso = Pipeline([\n",
    "    ('preprocessor', preprocessor),\n",
    "    ('model', linear_model.Lasso(alpha=0.1))\n",
    "])\n",
    "pipe_lasso.fit(X_train, y_train)\n",
    "y_train_pred = pipe_lasso.predict(X_train)\n",
    "y_test_pred = pipe_lasso.predict(X_test)\n",
    "\n",
    "print('Root Mean Squared Error:', np.sqrt(metrics.mean_squared_error(y_test, y_test_pred)))\n",
    "print('R^2:', metrics.r2_score(y_test, y_test_pred))\n",
    "print('Adjusted R^2:', adjusted_r2_score(X_test, metrics.r2_score(y_test, y_test_pred)))"
   ]
  },
  {
   "cell_type": "markdown",
   "metadata": {},
   "source": [
    "## Elastic-Net\n",
    "\n",
    "[Elastic-Net](https://scikit-learn.org/stable/modules/generated/sklearn.linear_model.ElasticNet.html#sklearn.linear_model.ElasticNet) is a linear regression model trained with both l1 and l2 -norm regularization of the coefficients."
   ]
  },
  {
   "cell_type": "code",
   "execution_count": 12,
   "metadata": {},
   "outputs": [
    {
     "name": "stdout",
     "output_type": "stream",
     "text": [
      "Root Mean Squared Error: 3.5289794874770415\n",
      "R^2: -7.312522711178104e-05\n",
      "Adjusted R^2: -0.0036672784175055817\n"
     ]
    }
   ],
   "source": [
    "# Fit a pipeline with transformers and an estimator to the training data\n",
    "pipe_elastic = Pipeline([\n",
    "    ('preprocessor', preprocessor),\n",
    "    ('model', ElasticNet())\n",
    "])\n",
    "pipe_elastic.fit(X_train, y_train)\n",
    "y_train_pred = pipe_elastic.predict(X_train)\n",
    "y_test_pred = pipe_elastic.predict(X_test)\n",
    "\n",
    "print('Root Mean Squared Error:', np.sqrt(metrics.mean_squared_error(y_test, y_test_pred)))\n",
    "print('R^2:', metrics.r2_score(y_test, y_test_pred))\n",
    "print('Adjusted R^2:', adjusted_r2_score(X_test, metrics.r2_score(y_test, y_test_pred)))"
   ]
  },
  {
   "cell_type": "markdown",
   "metadata": {},
   "source": [
    "## Random Forest Regressor"
   ]
  },
  {
   "cell_type": "code",
   "execution_count": 13,
   "metadata": {},
   "outputs": [
    {
     "name": "stdout",
     "output_type": "stream",
     "text": [
      "Root Mean Squared Error: 3.080127557302435\n",
      "R^2: 0.23814750641503568\n",
      "Adjusted R^2: 0.23540949206252904\n"
     ]
    }
   ],
   "source": [
    "# random forest model\n",
    "params_rf = {'n_estimators': 1000, 'max_depth': 15, 'random_state': 0, 'min_samples_split' : 5, 'n_jobs': -1}\n",
    "\n",
    "# Fit a pipeline with transformers and an estimator to the training data\n",
    "pipe_rf = Pipeline([\n",
    "    ('preprocessor', preprocessor),\n",
    "    ('model', RandomForestRegressor(**params_rf))\n",
    "])\n",
    "pipe_rf.fit(X_train, y_train)\n",
    "y_train_pred = pipe_rf.predict(X_train)\n",
    "y_test_pred = pipe_rf.predict(X_test)\n",
    "\n",
    "print('Root Mean Squared Error:', np.sqrt(metrics.mean_squared_error(y_test, y_test_pred)))\n",
    "print('R^2:', metrics.r2_score(y_test, y_test_pred))\n",
    "print('Adjusted R^2:', adjusted_r2_score(X_test, metrics.r2_score(y_test, y_test_pred)))"
   ]
  },
  {
   "cell_type": "markdown",
   "metadata": {},
   "source": [
    "## GradientBoost"
   ]
  },
  {
   "cell_type": "code",
   "execution_count": 14,
   "metadata": {},
   "outputs": [
    {
     "name": "stdout",
     "output_type": "stream",
     "text": [
      "Root Mean Squared Error: 3.0804277126957555\n",
      "R^2: 0.23799901563168713\n",
      "Adjusted R^2: 0.23526046761958175\n"
     ]
    }
   ],
   "source": [
    "# GBM model\n",
    "params_gbm = {'n_estimators': 150, 'max_depth': 5, 'random_state': 0, 'min_samples_leaf' : 10, 'learning_rate': 0.01, 'subsample': 0.7, 'loss': 'ls'}\n",
    "\n",
    "# Fit a pipeline with transformers and an estimator to the training data\n",
    "pipe_gbm = Pipeline([\n",
    "    ('preprocessor', preprocessor),\n",
    "    ('model', GradientBoostingRegressor(**params_gbm))\n",
    "])\n",
    "pipe_gbm.fit(X_train, y_train)\n",
    "y_train_pred = pipe_gbm.predict(X_train)\n",
    "y_test_pred = pipe_gbm.predict(X_test)\n",
    "\n",
    "print('Root Mean Squared Error:', np.sqrt(metrics.mean_squared_error(y_test, y_test_pred)))\n",
    "print('R^2:', metrics.r2_score(y_test, y_test_pred))\n",
    "print('Adjusted R^2:', adjusted_r2_score(X_test, metrics.r2_score(y_test, y_test_pred)))"
   ]
  },
  {
   "cell_type": "markdown",
   "metadata": {},
   "source": [
    "## LightGBM"
   ]
  },
  {
   "cell_type": "code",
   "execution_count": 15,
   "metadata": {},
   "outputs": [
    {
     "name": "stdout",
     "output_type": "stream",
     "text": [
      "Root Mean Squared Error: 3.085894859933196\n",
      "R^2: 0.23529181465086046\n",
      "Adjusted R^2: 0.2325435372551763\n"
     ]
    }
   ],
   "source": [
    "# LightGBM model\n",
    "params_lightgbm = {'n_estimators': 150, 'max_depth': 5, 'random_state': 0, 'learning_rate': 0.01, 'subsample': 0.7}\n",
    "\n",
    "# Fit a pipeline with transformers and an estimator to the training data\n",
    "pipe_gbm = Pipeline([\n",
    "    ('preprocessor', preprocessor),\n",
    "    ('model', LGBMRegressor(**params_lightgbm))\n",
    "])\n",
    "pipe_gbm.fit(X_train, y_train)\n",
    "y_train_pred = pipe_gbm.predict(X_train)\n",
    "y_test_pred = pipe_gbm.predict(X_test)\n",
    "\n",
    "print('Root Mean Squared Error:', np.sqrt(metrics.mean_squared_error(y_test, y_test_pred)))\n",
    "print('R^2:', metrics.r2_score(y_test, y_test_pred))\n",
    "print('Adjusted R^2:', adjusted_r2_score(X_test, metrics.r2_score(y_test, y_test_pred)))"
   ]
  },
  {
   "cell_type": "markdown",
   "metadata": {},
   "source": [
    "## Catboost"
   ]
  },
  {
   "cell_type": "code",
   "execution_count": 21,
   "metadata": {},
   "outputs": [
    {
     "name": "stdout",
     "output_type": "stream",
     "text": [
      "Learning rate set to 0.30132\n",
      "0:\tlearn: 3.2968173\ttotal: 2.06ms\tremaining: 204ms\n",
      "1:\tlearn: 3.1921381\ttotal: 4.36ms\tremaining: 213ms\n",
      "2:\tlearn: 3.1265527\ttotal: 5.98ms\tremaining: 193ms\n",
      "3:\tlearn: 3.0899412\ttotal: 8.92ms\tremaining: 214ms\n",
      "4:\tlearn: 3.0663301\ttotal: 11ms\tremaining: 210ms\n",
      "5:\tlearn: 3.0510687\ttotal: 13.2ms\tremaining: 206ms\n",
      "6:\tlearn: 3.0414590\ttotal: 15.3ms\tremaining: 203ms\n",
      "7:\tlearn: 3.0330730\ttotal: 18.3ms\tremaining: 211ms\n",
      "8:\tlearn: 3.0192702\ttotal: 25.3ms\tremaining: 256ms\n",
      "9:\tlearn: 3.0125207\ttotal: 27.7ms\tremaining: 249ms\n",
      "10:\tlearn: 3.0051403\ttotal: 30.2ms\tremaining: 245ms\n",
      "11:\tlearn: 3.0025017\ttotal: 33.4ms\tremaining: 245ms\n",
      "12:\tlearn: 2.9987186\ttotal: 35.6ms\tremaining: 239ms\n",
      "13:\tlearn: 2.9957746\ttotal: 37.4ms\tremaining: 230ms\n",
      "14:\tlearn: 2.9915947\ttotal: 39.2ms\tremaining: 222ms\n",
      "15:\tlearn: 2.9807453\ttotal: 41.1ms\tremaining: 216ms\n",
      "16:\tlearn: 2.9792740\ttotal: 42.7ms\tremaining: 209ms\n",
      "17:\tlearn: 2.9754485\ttotal: 44.4ms\tremaining: 202ms\n",
      "18:\tlearn: 2.9736591\ttotal: 46.2ms\tremaining: 197ms\n",
      "19:\tlearn: 2.9704373\ttotal: 48.1ms\tremaining: 192ms\n",
      "20:\tlearn: 2.9696640\ttotal: 49.4ms\tremaining: 186ms\n",
      "21:\tlearn: 2.9673057\ttotal: 51ms\tremaining: 181ms\n",
      "22:\tlearn: 2.9640524\ttotal: 52.4ms\tremaining: 175ms\n",
      "23:\tlearn: 2.9615579\ttotal: 53.9ms\tremaining: 171ms\n",
      "24:\tlearn: 2.9534215\ttotal: 56ms\tremaining: 168ms\n",
      "25:\tlearn: 2.9477865\ttotal: 58.1ms\tremaining: 165ms\n",
      "26:\tlearn: 2.9436174\ttotal: 59.9ms\tremaining: 162ms\n",
      "27:\tlearn: 2.9388457\ttotal: 62ms\tremaining: 159ms\n",
      "28:\tlearn: 2.9345395\ttotal: 63.7ms\tremaining: 156ms\n",
      "29:\tlearn: 2.9314423\ttotal: 65.5ms\tremaining: 153ms\n",
      "30:\tlearn: 2.9280726\ttotal: 67ms\tremaining: 149ms\n",
      "31:\tlearn: 2.9249517\ttotal: 68.5ms\tremaining: 145ms\n",
      "32:\tlearn: 2.9221838\ttotal: 70.3ms\tremaining: 143ms\n",
      "33:\tlearn: 2.9189197\ttotal: 72.2ms\tremaining: 140ms\n",
      "34:\tlearn: 2.9175238\ttotal: 74.3ms\tremaining: 138ms\n",
      "35:\tlearn: 2.9144716\ttotal: 75.8ms\tremaining: 135ms\n",
      "36:\tlearn: 2.9101800\ttotal: 77.8ms\tremaining: 132ms\n",
      "37:\tlearn: 2.9090239\ttotal: 79.4ms\tremaining: 130ms\n",
      "38:\tlearn: 2.9027415\ttotal: 80.8ms\tremaining: 126ms\n",
      "39:\tlearn: 2.8983315\ttotal: 82.2ms\tremaining: 123ms\n",
      "40:\tlearn: 2.8922631\ttotal: 84.1ms\tremaining: 121ms\n",
      "41:\tlearn: 2.8912481\ttotal: 86.4ms\tremaining: 119ms\n",
      "42:\tlearn: 2.8844176\ttotal: 88.3ms\tremaining: 117ms\n",
      "43:\tlearn: 2.8810895\ttotal: 90.4ms\tremaining: 115ms\n",
      "44:\tlearn: 2.8789539\ttotal: 92.9ms\tremaining: 113ms\n",
      "45:\tlearn: 2.8782238\ttotal: 94.4ms\tremaining: 111ms\n",
      "46:\tlearn: 2.8762106\ttotal: 95.9ms\tremaining: 108ms\n",
      "47:\tlearn: 2.8716079\ttotal: 97.3ms\tremaining: 105ms\n",
      "48:\tlearn: 2.8709086\ttotal: 98.7ms\tremaining: 103ms\n",
      "49:\tlearn: 2.8674231\ttotal: 100ms\tremaining: 100ms\n",
      "50:\tlearn: 2.8644368\ttotal: 102ms\tremaining: 97.7ms\n",
      "51:\tlearn: 2.8623794\ttotal: 103ms\tremaining: 95.2ms\n",
      "52:\tlearn: 2.8598698\ttotal: 104ms\tremaining: 92.7ms\n",
      "53:\tlearn: 2.8545582\ttotal: 106ms\tremaining: 90.1ms\n",
      "54:\tlearn: 2.8541691\ttotal: 107ms\tremaining: 87.8ms\n",
      "55:\tlearn: 2.8485410\ttotal: 109ms\tremaining: 85.4ms\n",
      "56:\tlearn: 2.8484009\ttotal: 110ms\tremaining: 82.9ms\n",
      "57:\tlearn: 2.8460743\ttotal: 111ms\tremaining: 80.4ms\n",
      "58:\tlearn: 2.8352413\ttotal: 112ms\tremaining: 78.2ms\n",
      "59:\tlearn: 2.8351401\ttotal: 114ms\tremaining: 75.8ms\n",
      "60:\tlearn: 2.8300473\ttotal: 115ms\tremaining: 73.5ms\n",
      "61:\tlearn: 2.8270944\ttotal: 116ms\tremaining: 71.2ms\n",
      "62:\tlearn: 2.8225374\ttotal: 118ms\tremaining: 69.1ms\n",
      "63:\tlearn: 2.8208554\ttotal: 119ms\tremaining: 66.8ms\n",
      "64:\tlearn: 2.8148402\ttotal: 120ms\tremaining: 64.7ms\n",
      "65:\tlearn: 2.8115362\ttotal: 121ms\tremaining: 62.5ms\n",
      "66:\tlearn: 2.8089265\ttotal: 122ms\tremaining: 60.3ms\n",
      "67:\tlearn: 2.8073719\ttotal: 124ms\tremaining: 58.3ms\n",
      "68:\tlearn: 2.8039732\ttotal: 125ms\tremaining: 56.2ms\n",
      "69:\tlearn: 2.7999646\ttotal: 126ms\tremaining: 54.2ms\n",
      "70:\tlearn: 2.7990155\ttotal: 128ms\tremaining: 52.1ms\n",
      "71:\tlearn: 2.7974134\ttotal: 129ms\tremaining: 50.1ms\n",
      "72:\tlearn: 2.7948791\ttotal: 130ms\tremaining: 48.1ms\n",
      "73:\tlearn: 2.7923352\ttotal: 131ms\tremaining: 46.1ms\n",
      "74:\tlearn: 2.7850654\ttotal: 133ms\tremaining: 44.4ms\n",
      "75:\tlearn: 2.7839142\ttotal: 135ms\tremaining: 42.6ms\n",
      "76:\tlearn: 2.7824827\ttotal: 136ms\tremaining: 40.6ms\n",
      "77:\tlearn: 2.7800637\ttotal: 138ms\tremaining: 38.8ms\n",
      "78:\tlearn: 2.7763001\ttotal: 139ms\tremaining: 36.9ms\n",
      "79:\tlearn: 2.7751593\ttotal: 140ms\tremaining: 35ms\n",
      "80:\tlearn: 2.7706730\ttotal: 141ms\tremaining: 33.2ms\n",
      "81:\tlearn: 2.7660355\ttotal: 143ms\tremaining: 31.3ms\n",
      "82:\tlearn: 2.7607188\ttotal: 144ms\tremaining: 29.5ms\n",
      "83:\tlearn: 2.7580914\ttotal: 145ms\tremaining: 27.7ms\n",
      "84:\tlearn: 2.7555460\ttotal: 147ms\tremaining: 25.9ms\n",
      "85:\tlearn: 2.7517481\ttotal: 148ms\tremaining: 24.1ms\n",
      "86:\tlearn: 2.7511804\ttotal: 149ms\tremaining: 22.3ms\n",
      "87:\tlearn: 2.7493098\ttotal: 151ms\tremaining: 20.6ms\n",
      "88:\tlearn: 2.7463520\ttotal: 152ms\tremaining: 18.8ms\n",
      "89:\tlearn: 2.7424828\ttotal: 154ms\tremaining: 17.1ms\n",
      "90:\tlearn: 2.7404436\ttotal: 155ms\tremaining: 15.3ms\n",
      "91:\tlearn: 2.7346505\ttotal: 157ms\tremaining: 13.6ms\n",
      "92:\tlearn: 2.7278901\ttotal: 158ms\tremaining: 11.9ms\n",
      "93:\tlearn: 2.7270496\ttotal: 159ms\tremaining: 10.2ms\n",
      "94:\tlearn: 2.7245462\ttotal: 160ms\tremaining: 8.45ms\n",
      "95:\tlearn: 2.7233990\ttotal: 162ms\tremaining: 6.74ms\n",
      "96:\tlearn: 2.7207221\ttotal: 163ms\tremaining: 5.04ms\n",
      "97:\tlearn: 2.7176266\ttotal: 164ms\tremaining: 3.35ms\n",
      "98:\tlearn: 2.7169050\ttotal: 165ms\tremaining: 1.67ms\n",
      "99:\tlearn: 2.7151481\ttotal: 167ms\tremaining: 0us\n",
      "\n",
      "\n",
      "Root Mean Squared Error: 3.0827022243278313\n",
      "R^2: 0.2368733148310398\n",
      "Adjusted R^2: 0.23413072117364908\n"
     ]
    }
   ],
   "source": [
    "# Catboost model\n",
    "\n",
    "# Fit a pipeline with transformers and an estimator to the training data\n",
    "pipe_catboost = Pipeline([\n",
    "    ('preprocessor', preprocessor),\n",
    "    ('model', CatBoostRegressor(verbose=1, n_estimators=100))\n",
    "])\n",
    "pipe_catboost.fit(X_train, y_train)\n",
    "y_train_pred = pipe_catboost.predict(X_train)\n",
    "y_test_pred = pipe_catboost.predict(X_test)\n",
    "\n",
    "print('\\n')\n",
    "print('Root Mean Squared Error:', np.sqrt(metrics.mean_squared_error(y_test, y_test_pred)))\n",
    "print('R^2:', metrics.r2_score(y_test, y_test_pred))\n",
    "print('Adjusted R^2:', adjusted_r2_score(X_test, metrics.r2_score(y_test, y_test_pred)))"
   ]
  }
 ],
 "metadata": {
  "interpreter": {
   "hash": "5c82cf216bcd6695c751af4e033b89e10a78cc5d50e2943f0ed5dd08b475eddb"
  },
  "kernelspec": {
   "display_name": "Python 3 (ipykernel)",
   "language": "python",
   "name": "python3"
  },
  "language_info": {
   "codemirror_mode": {
    "name": "ipython",
    "version": 3
   },
   "file_extension": ".py",
   "mimetype": "text/x-python",
   "name": "python",
   "nbconvert_exporter": "python",
   "pygments_lexer": "ipython3",
   "version": "3.9.6"
  }
 },
 "nbformat": 4,
 "nbformat_minor": 2
}
