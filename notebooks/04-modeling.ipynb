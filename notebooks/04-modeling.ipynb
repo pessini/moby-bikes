{
 "cells": [
  {
   "cell_type": "markdown",
   "metadata": {},
   "source": [
    "<img title=\"GitHub Octocat\" src='./img/Octocat.jpg' style='height: 60px; padding-right: 15px' alt=\"Octocat\" align=\"left\"> This notebook is part of a GitHub repository: https://github.com/pessini/moby-bikes \n",
    "<br>MIT Licensed\n",
    "<br>Author: Leandro Pessini"
   ]
  },
  {
   "cell_type": "markdown",
   "metadata": {},
   "source": [
    "<a id=\"4\"></a>\n",
    "# <p style=\"font-size:100%; text-align:left; color:#444444;\">4- Models</p>"
   ]
  },
  {
   "cell_type": "code",
   "execution_count": 1,
   "metadata": {},
   "outputs": [],
   "source": [
    "import pandas as pd\n",
    "import matplotlib.pyplot as plt\n",
    "import seaborn as sns\n",
    "import numpy as np\n",
    "\n",
    "# Preprocessing\n",
    "from sklearn.model_selection import train_test_split\n",
    "from sklearn.preprocessing import StandardScaler, MinMaxScaler, OneHotEncoder\n",
    "from sklearn.compose import ColumnTransformer\n",
    "from sklearn.pipeline import Pipeline\n",
    "\n",
    "# Models & Evaluation\n",
    "from sklearn.linear_model import LinearRegression\n",
    "from sklearn.linear_model import Ridge\n",
    "from sklearn import linear_model\n",
    "from sklearn.linear_model import ElasticNet\n",
    "from sklearn.ensemble import RandomForestRegressor, GradientBoostingRegressor\n",
    "from xgboost import XGBRegressor\n",
    "from lightgbm import LGBMRegressor\n",
    "from catboost import CatBoostRegressor\n",
    "from sklearn import metrics"
   ]
  },
  {
   "cell_type": "markdown",
   "metadata": {},
   "source": [
    "## Splitting dataset in train and test"
   ]
  },
  {
   "cell_type": "code",
   "execution_count": 2,
   "metadata": {},
   "outputs": [],
   "source": [
    "def adjusted_r2_score(X, r2_score):\n",
    "    return 1 - ( 1- r2_score ) * ( len(X) - 1 ) / ( len(X) - X.shape[1] - 1 )"
   ]
  },
  {
   "cell_type": "code",
   "execution_count": 3,
   "metadata": {},
   "outputs": [],
   "source": [
    "hourly_data = pd.read_csv('../data/interim/hourly_data.csv')"
   ]
  },
  {
   "cell_type": "code",
   "execution_count": 4,
   "metadata": {},
   "outputs": [
    {
     "data": {
      "text/plain": [
       "(7447, 15)"
      ]
     },
     "execution_count": 4,
     "metadata": {},
     "output_type": "execute_result"
    }
   ],
   "source": [
    "hourly_data.shape"
   ]
  },
  {
   "cell_type": "code",
   "execution_count": 5,
   "metadata": {},
   "outputs": [
    {
     "data": {
      "text/plain": [
       "Index(['rental_date', 'rental_day', 'rental_year', 'rental_hour', 'holiday',\n",
       "       'dayofweek', 'working_day', 'season', 'peak', 'timesofday', 'rain',\n",
       "       'temp', 'rhum', 'wdsp', 'count'],\n",
       "      dtype='object')"
      ]
     },
     "execution_count": 5,
     "metadata": {},
     "output_type": "execute_result"
    }
   ],
   "source": [
    "hourly_data.columns"
   ]
  },
  {
   "cell_type": "code",
   "execution_count": 6,
   "metadata": {},
   "outputs": [
    {
     "data": {
      "text/plain": [
       "((5212, 9), (2235, 9))"
      ]
     },
     "execution_count": 6,
     "metadata": {},
     "output_type": "execute_result"
    }
   ],
   "source": [
    "df = hourly_data.copy()\n",
    "#df = hourlyDataWithoutOutliers.copy()\n",
    "#df = transform_data.copy()\n",
    "df = df.astype({'holiday': 'category', \n",
    "                'dayofweek': 'category', \n",
    "                'working_day': 'category', \n",
    "                'peak': 'category', \n",
    "                'timesofday': 'category'})\n",
    "predictors = ['rain','temp','wdsp','rhum','holiday','dayofweek','working_day','peak','timesofday']\n",
    "\n",
    "X = df[[c for c in df.columns if c in predictors]]\n",
    "y = df.pop('count')\n",
    "X_train, X_test, y_train, y_test = train_test_split(X, y, test_size=0.3, random_state=42)\n",
    "X_train.shape, X_test.shape"
   ]
  },
  {
   "cell_type": "markdown",
   "metadata": {},
   "source": [
    "## Split columns in categorical and numerical"
   ]
  },
  {
   "cell_type": "code",
   "execution_count": 7,
   "metadata": {},
   "outputs": [],
   "source": [
    "num_vars = [n for n in df.select_dtypes(include=['number']).columns if n in predictors] # list comprehension to select only predictors features\n",
    "cat_vars = [c for c in df.select_dtypes(include=['category']).columns if c in predictors]"
   ]
  },
  {
   "cell_type": "code",
   "execution_count": 8,
   "metadata": {},
   "outputs": [
    {
     "data": {
      "text/plain": [
       "(['rain', 'temp', 'rhum', 'wdsp'],\n",
       " ['holiday', 'dayofweek', 'working_day', 'peak', 'timesofday'])"
      ]
     },
     "execution_count": 8,
     "metadata": {},
     "output_type": "execute_result"
    }
   ],
   "source": [
    "num_vars, cat_vars"
   ]
  },
  {
   "cell_type": "markdown",
   "metadata": {},
   "source": [
    "## Preprocessing Pipelines"
   ]
  },
  {
   "cell_type": "code",
   "execution_count": 9,
   "metadata": {},
   "outputs": [],
   "source": [
    "# Define categorical pipeline\n",
    "cat_pipe = Pipeline([\n",
    "    #('imputer', SimpleImputer(strategy='constant', fill_value='missing')),\n",
    "    ('encoder', OneHotEncoder(handle_unknown='ignore', sparse=False))\n",
    "])\n",
    "\n",
    "# Define numerical pipeline\n",
    "num_pipe = Pipeline([\n",
    "    #('imputer', SimpleImputer(strategy='median')),\n",
    "    ('scaler', StandardScaler())\n",
    "    # ('scaler', MinMaxScaler())\n",
    "])\n",
    "\n",
    "# Combine categorical and numerical pipelines\n",
    "preprocessor = ColumnTransformer([\n",
    "    ('cat', cat_pipe, cat_vars),\n",
    "    ('num', num_pipe, num_vars)\n",
    "])"
   ]
  },
  {
   "cell_type": "code",
   "execution_count": 10,
   "metadata": {},
   "outputs": [
    {
     "name": "stdout",
     "output_type": "stream",
     "text": [
      "Root Mean Squared Error: 2.961181692522742\n",
      "R^2: 0.29585256740396704\n",
      "Adjusted R^2: 0.2930043305979606\n"
     ]
    }
   ],
   "source": [
    "pipe_linear_regression = Pipeline([\n",
    "    ('preprocessor', preprocessor),\n",
    "    ('model', LinearRegression())\n",
    "])\n",
    "pipe_linear_regression.fit(X_train, y_train)\n",
    "\n",
    "# Predict training data\n",
    "y_train_pred = pipe_linear_regression.predict(X_train)\n",
    "\n",
    "# Predict test data\n",
    "y_test_pred = pipe_linear_regression.predict(X_test)\n",
    "\n",
    "print('Root Mean Squared Error:', np.sqrt(metrics.mean_squared_error(y_test, y_test_pred)))\n",
    "print('R^2:', metrics.r2_score(y_test, y_test_pred))\n",
    "print('Adjusted R^2:', adjusted_r2_score(X_test, metrics.r2_score(y_test, y_test_pred)))"
   ]
  },
  {
   "cell_type": "markdown",
   "metadata": {},
   "source": [
    "## Feature Importance"
   ]
  },
  {
   "cell_type": "code",
   "execution_count": 11,
   "metadata": {},
   "outputs": [
    {
     "data": {
      "text/plain": [
       "Pipeline(steps=[('preprocessor',\n",
       "                 ColumnTransformer(transformers=[('cat',\n",
       "                                                  Pipeline(steps=[('encoder',\n",
       "                                                                   OneHotEncoder(handle_unknown='ignore',\n",
       "                                                                                 sparse=False))]),\n",
       "                                                  ['holiday', 'dayofweek',\n",
       "                                                   'working_day', 'peak',\n",
       "                                                   'timesofday']),\n",
       "                                                 ('num',\n",
       "                                                  Pipeline(steps=[('scaler',\n",
       "                                                                   StandardScaler())]),\n",
       "                                                  ['rain', 'temp', 'rhum',\n",
       "                                                   'wdsp'])])),\n",
       "                ('model',\n",
       "                 LGBMRegressor(boosting_type='dart', importance_type='gain',\n",
       "                               learning_rate=0.01, max_depth=5,\n",
       "                               n_estimators=500, subsample=0.7))])"
      ]
     },
     "execution_count": 11,
     "metadata": {},
     "output_type": "execute_result"
    }
   ],
   "source": [
    "# LightGBM model\n",
    "params_lightgbm = {'n_estimators': 500, \n",
    "                   'boosting_type': 'dart', \n",
    "                   'max_depth': 5, \n",
    "                   'learning_rate': 0.01, \n",
    "                   'subsample': 0.7, \n",
    "                   'importance_type': 'gain'\n",
    "                   }\n",
    "\n",
    "# Fit a pipeline with transformers and an estimator to the training data\n",
    "pipe_gbm = Pipeline([\n",
    "    ('preprocessor', preprocessor),\n",
    "    ('model', LGBMRegressor(**params_lightgbm))\n",
    "])\n",
    "pipe_gbm.fit(X_train, y_train)"
   ]
  },
  {
   "cell_type": "code",
   "execution_count": 12,
   "metadata": {},
   "outputs": [
    {
     "data": {
      "image/png": "[encoded data removed]",
      "text/plain": [
       "<Figure size 1080x864 with 1 Axes>"
      ]
     },
     "metadata": {
      "needs_background": "light"
     },
     "output_type": "display_data"
    }
   ],
   "source": [
    "#Plotting features importance\n",
    "feature_imp = pd.DataFrame(sorted(zip(pipe_gbm['model'].feature_importances_,X_train.columns)), columns=['Value','Feature'])\n",
    "scaler_ft = MinMaxScaler()\n",
    "feature_imp['Value'] = scaler_ft.fit_transform(feature_imp['Value'].values.reshape(-1,1))\n",
    "\n",
    "fig = plt.figure(figsize=(15, 12))\n",
    "sns.barplot(x=\"Value\", y=\"Feature\", data=feature_imp.sort_values(by=\"Value\", ascending=False))\n",
    "plt.title('LightGBM Features Importance')\n",
    "locs, labels = plt.xticks()\n",
    "plt.tick_params(axis='both', which='major', labelsize=12)\n",
    "\n",
    "plt.show()"
   ]
  },
  {
   "cell_type": "markdown",
   "metadata": {},
   "source": [
    "## Linear Regression"
   ]
  },
  {
   "cell_type": "code",
   "execution_count": 13,
   "metadata": {},
   "outputs": [
    {
     "name": "stdout",
     "output_type": "stream",
     "text": [
      "Root Mean Squared Error: 2.961181692522742\n",
      "R^2: 0.29585256740396704\n",
      "Adjusted R^2: 0.2930043305979606\n"
     ]
    }
   ],
   "source": [
    "pipe_linear_regression = Pipeline([\n",
    "    ('preprocessor', preprocessor),\n",
    "    ('model', LinearRegression())\n",
    "])\n",
    "pipe_linear_regression.fit(X_train, y_train)\n",
    "\n",
    "# Predict training data\n",
    "y_train_pred = pipe_linear_regression.predict(X_train)\n",
    "\n",
    "# Predict test data\n",
    "y_test_pred = pipe_linear_regression.predict(X_test)\n",
    "\n",
    "print('Root Mean Squared Error:', np.sqrt(metrics.mean_squared_error(y_test, y_test_pred)))\n",
    "print('R^2:', metrics.r2_score(y_test, y_test_pred))\n",
    "print('Adjusted R^2:', adjusted_r2_score(X_test, metrics.r2_score(y_test, y_test_pred)))"
   ]
  },
  {
   "cell_type": "markdown",
   "metadata": {},
   "source": [
    "## Ridge Regression\n",
    "\n",
    "[Ridge](https://scikit-learn.org/stable/modules/generated/sklearn.linear_model.Ridge.html#sklearn.linear_model.Ridge) regression addresses some of the problems of Ordinary Least Squares by imposing a penalty on the size of the coefficients with l2 regularization."
   ]
  },
  {
   "cell_type": "code",
   "execution_count": 14,
   "metadata": {},
   "outputs": [
    {
     "name": "stdout",
     "output_type": "stream",
     "text": [
      "Root Mean Squared Error: 2.9587892010853487\n",
      "R^2: 0.2969899418128631\n",
      "Adjusted R^2: 0.29414630562244326\n"
     ]
    }
   ],
   "source": [
    "# Fit a pipeline with transformers and an estimator to the training data\n",
    "pipe_ridge = Pipeline([\n",
    "    ('preprocessor', preprocessor),\n",
    "    ('model', Ridge())\n",
    "])\n",
    "pipe_ridge.fit(X_train, y_train)\n",
    "\n",
    "y_train_pred = pipe_ridge.predict(X_train)\n",
    "y_test_pred = pipe_ridge.predict(X_test)\n",
    "\n",
    "print('Root Mean Squared Error:', np.sqrt(metrics.mean_squared_error(y_test, y_test_pred)))\n",
    "print('R^2:', metrics.r2_score(y_test, y_test_pred))\n",
    "print('Adjusted R^2:', adjusted_r2_score(X_test, metrics.r2_score(y_test, y_test_pred)))"
   ]
  },
  {
   "cell_type": "markdown",
   "metadata": {},
   "source": [
    "## Lasso Regression\n",
    "\n",
    "The [Lasso](https://scikit-learn.org/stable/modules/generated/sklearn.linear_model.Lasso.html#sklearn.linear_model.Lasso) is a linear model that estimates sparse coefficients with l1 regularization."
   ]
  },
  {
   "cell_type": "code",
   "execution_count": 15,
   "metadata": {},
   "outputs": [
    {
     "name": "stdout",
     "output_type": "stream",
     "text": [
      "Root Mean Squared Error: 3.0064049623542846\n",
      "R^2: 0.2741808073670551\n",
      "Adjusted R^2: 0.271244909509214\n"
     ]
    }
   ],
   "source": [
    "# Fit a pipeline with transformers and an estimator to the training data\n",
    "pipe_lasso = Pipeline([\n",
    "    ('preprocessor', preprocessor),\n",
    "    ('model', linear_model.Lasso(alpha=0.1))\n",
    "])\n",
    "pipe_lasso.fit(X_train, y_train)\n",
    "y_train_pred = pipe_lasso.predict(X_train)\n",
    "y_test_pred = pipe_lasso.predict(X_test)\n",
    "\n",
    "print('Root Mean Squared Error:', np.sqrt(metrics.mean_squared_error(y_test, y_test_pred)))\n",
    "print('R^2:', metrics.r2_score(y_test, y_test_pred))\n",
    "print('Adjusted R^2:', adjusted_r2_score(X_test, metrics.r2_score(y_test, y_test_pred)))"
   ]
  },
  {
   "cell_type": "markdown",
   "metadata": {},
   "source": [
    "## Elastic-Net\n",
    "\n",
    "[Elastic-Net](https://scikit-learn.org/stable/modules/generated/sklearn.linear_model.ElasticNet.html#sklearn.linear_model.ElasticNet) is a linear regression model trained with both l1 and l2 -norm regularization of the coefficients."
   ]
  },
  {
   "cell_type": "code",
   "execution_count": 16,
   "metadata": {},
   "outputs": [
    {
     "name": "stdout",
     "output_type": "stream",
     "text": [
      "Root Mean Squared Error: 3.2756653127822934\n",
      "R^2: 0.13834674608655784\n",
      "Adjusted R^2: 0.13486140708196415\n"
     ]
    }
   ],
   "source": [
    "# Fit a pipeline with transformers and an estimator to the training data\n",
    "pipe_elastic = Pipeline([\n",
    "    ('preprocessor', preprocessor),\n",
    "    ('model', ElasticNet())\n",
    "])\n",
    "pipe_elastic.fit(X_train, y_train)\n",
    "y_train_pred = pipe_elastic.predict(X_train)\n",
    "y_test_pred = pipe_elastic.predict(X_test)\n",
    "\n",
    "print('Root Mean Squared Error:', np.sqrt(metrics.mean_squared_error(y_test, y_test_pred)))\n",
    "print('R^2:', metrics.r2_score(y_test, y_test_pred))\n",
    "print('Adjusted R^2:', adjusted_r2_score(X_test, metrics.r2_score(y_test, y_test_pred)))"
   ]
  },
  {
   "cell_type": "markdown",
   "metadata": {},
   "source": [
    "## Random Forest Regressor"
   ]
  },
  {
   "cell_type": "code",
   "execution_count": 17,
   "metadata": {},
   "outputs": [
    {
     "name": "stdout",
     "output_type": "stream",
     "text": [
      "Root Mean Squared Error: 2.9076429742081054\n",
      "R^2: 0.3210846207375818\n",
      "Adjusted R^2: 0.3183384461697788\n"
     ]
    }
   ],
   "source": [
    "# random forest model\n",
    "params_rf = {'n_estimators': 1000, \n",
    "             'max_depth': 15, \n",
    "             'random_state': 0, \n",
    "             'min_samples_split' : 5, \n",
    "             'n_jobs': -1}\n",
    "\n",
    "# Fit a pipeline with transformers and an estimator to the training data\n",
    "pipe_rf = Pipeline([\n",
    "    ('preprocessor', preprocessor),\n",
    "    ('model', RandomForestRegressor(**params_rf))\n",
    "])\n",
    "pipe_rf.fit(X_train, y_train)\n",
    "y_train_pred = pipe_rf.predict(X_train)\n",
    "y_test_pred = pipe_rf.predict(X_test)\n",
    "\n",
    "print('Root Mean Squared Error:', np.sqrt(metrics.mean_squared_error(y_test, y_test_pred)))\n",
    "print('R^2:', metrics.r2_score(y_test, y_test_pred))\n",
    "print('Adjusted R^2:', adjusted_r2_score(X_test, metrics.r2_score(y_test, y_test_pred)))"
   ]
  },
  {
   "cell_type": "markdown",
   "metadata": {},
   "source": [
    "## GradientBoost"
   ]
  },
  {
   "cell_type": "code",
   "execution_count": 21,
   "metadata": {},
   "outputs": [
    {
     "name": "stdout",
     "output_type": "stream",
     "text": [
      "Root Mean Squared Error: 2.9602473905657036\n",
      "R^2: 0.2962968377025126\n",
      "Adjusted R^2: 0.2934503979449048\n"
     ]
    }
   ],
   "source": [
    "# GBM model\n",
    "params_gbm = {'n_estimators': 150, \n",
    "              'max_depth': 5, \n",
    "              'random_state': 0, \n",
    "              'min_samples_leaf' : 10, \n",
    "              'learning_rate': 0.01, \n",
    "              'subsample': 0.7, \n",
    "              'loss': 'ls'}\n",
    "\n",
    "# Fit a pipeline with transformers and an estimator to the training data\n",
    "pipe_gbm = Pipeline([\n",
    "    ('preprocessor', preprocessor),\n",
    "    ('model', GradientBoostingRegressor(**params_gbm))\n",
    "])\n",
    "pipe_gbm.fit(X_train, y_train)\n",
    "y_train_pred = pipe_gbm.predict(X_train)\n",
    "y_test_pred = pipe_gbm.predict(X_test)\n",
    "\n",
    "print('Root Mean Squared Error:', np.sqrt(metrics.mean_squared_error(y_test, y_test_pred)))\n",
    "print('R^2:', metrics.r2_score(y_test, y_test_pred))\n",
    "print('Adjusted R^2:', adjusted_r2_score(X_test, metrics.r2_score(y_test, y_test_pred)))"
   ]
  },
  {
   "cell_type": "markdown",
   "metadata": {},
   "source": [
    "## LightGBM"
   ]
  },
  {
   "cell_type": "code",
   "execution_count": 19,
   "metadata": {},
   "outputs": [
    {
     "name": "stdout",
     "output_type": "stream",
     "text": [
      "Root Mean Squared Error: 2.9120472932052985\n",
      "R^2: 0.3190263043732948\n",
      "Adjusted R^2: 0.31627180403143396\n"
     ]
    }
   ],
   "source": [
    "# LightGBM model\n",
    "params_lightgbm = {'n_estimators': 1000, \n",
    "                   'max_depth': 15, \n",
    "                   'random_state': 0, \n",
    "                   'learning_rate': 0.01, \n",
    "                   'subsample': 0.7}\n",
    "\n",
    "# Fit a pipeline with transformers and an estimator to the training data\n",
    "pipe_gbm = Pipeline([\n",
    "    ('preprocessor', preprocessor),\n",
    "    ('model', LGBMRegressor(**params_lightgbm))\n",
    "])\n",
    "pipe_gbm.fit(X_train, y_train)\n",
    "y_train_pred = pipe_gbm.predict(X_train)\n",
    "y_test_pred = pipe_gbm.predict(X_test)\n",
    "\n",
    "print('Root Mean Squared Error:', np.sqrt(metrics.mean_squared_error(y_test, y_test_pred)))\n",
    "print('R^2:', metrics.r2_score(y_test, y_test_pred))\n",
    "print('Adjusted R^2:', adjusted_r2_score(X_test, metrics.r2_score(y_test, y_test_pred)))"
   ]
  },
  {
   "cell_type": "markdown",
   "metadata": {},
   "source": [
    "## Catboost"
   ]
  },
  {
   "cell_type": "code",
   "execution_count": 20,
   "metadata": {},
   "outputs": [
    {
     "name": "stdout",
     "output_type": "stream",
     "text": [
      "Learning rate set to 0.30132\n",
      "0:\tlearn: 3.2147804\ttotal: 56.9ms\tremaining: 5.63s\n",
      "1:\tlearn: 3.0809797\ttotal: 60ms\tremaining: 2.94s\n",
      "2:\tlearn: 3.0085848\ttotal: 62.3ms\tremaining: 2.02s\n",
      "3:\tlearn: 2.9619424\ttotal: 64.5ms\tremaining: 1.55s\n",
      "4:\tlearn: 2.9384535\ttotal: 67ms\tremaining: 1.27s\n",
      "5:\tlearn: 2.9245587\ttotal: 69.1ms\tremaining: 1.08s\n",
      "6:\tlearn: 2.8979850\ttotal: 71.2ms\tremaining: 946ms\n",
      "7:\tlearn: 2.8824041\ttotal: 73.5ms\tremaining: 845ms\n",
      "8:\tlearn: 2.8663948\ttotal: 75.7ms\tremaining: 766ms\n",
      "9:\tlearn: 2.8576537\ttotal: 78.2ms\tremaining: 704ms\n",
      "10:\tlearn: 2.8526616\ttotal: 80.4ms\tremaining: 651ms\n",
      "11:\tlearn: 2.8475640\ttotal: 83.4ms\tremaining: 611ms\n",
      "12:\tlearn: 2.8399863\ttotal: 85.3ms\tremaining: 571ms\n",
      "13:\tlearn: 2.8363820\ttotal: 87.3ms\tremaining: 536ms\n",
      "14:\tlearn: 2.8297832\ttotal: 89.6ms\tremaining: 508ms\n",
      "15:\tlearn: 2.8241650\ttotal: 91.9ms\tremaining: 483ms\n",
      "16:\tlearn: 2.8136565\ttotal: 94.7ms\tremaining: 462ms\n",
      "17:\tlearn: 2.8052373\ttotal: 97.3ms\tremaining: 443ms\n",
      "18:\tlearn: 2.7991244\ttotal: 102ms\tremaining: 435ms\n",
      "19:\tlearn: 2.7931577\ttotal: 105ms\tremaining: 418ms\n",
      "20:\tlearn: 2.7908938\ttotal: 107ms\tremaining: 402ms\n",
      "21:\tlearn: 2.7886897\ttotal: 110ms\tremaining: 390ms\n",
      "22:\tlearn: 2.7857107\ttotal: 112ms\tremaining: 376ms\n",
      "23:\tlearn: 2.7819620\ttotal: 114ms\tremaining: 362ms\n",
      "24:\tlearn: 2.7767140\ttotal: 116ms\tremaining: 349ms\n",
      "25:\tlearn: 2.7724340\ttotal: 119ms\tremaining: 338ms\n",
      "26:\tlearn: 2.7637589\ttotal: 121ms\tremaining: 326ms\n",
      "27:\tlearn: 2.7571711\ttotal: 123ms\tremaining: 315ms\n",
      "28:\tlearn: 2.7545710\ttotal: 125ms\tremaining: 305ms\n",
      "29:\tlearn: 2.7491708\ttotal: 128ms\tremaining: 298ms\n",
      "30:\tlearn: 2.7448935\ttotal: 129ms\tremaining: 287ms\n",
      "31:\tlearn: 2.7362089\ttotal: 131ms\tremaining: 279ms\n",
      "32:\tlearn: 2.7342931\ttotal: 133ms\tremaining: 270ms\n",
      "33:\tlearn: 2.7286364\ttotal: 135ms\tremaining: 262ms\n",
      "34:\tlearn: 2.7251725\ttotal: 136ms\tremaining: 253ms\n",
      "35:\tlearn: 2.7199866\ttotal: 138ms\tremaining: 246ms\n",
      "36:\tlearn: 2.7195954\ttotal: 141ms\tremaining: 240ms\n",
      "37:\tlearn: 2.7159433\ttotal: 143ms\tremaining: 233ms\n",
      "38:\tlearn: 2.7046659\ttotal: 145ms\tremaining: 227ms\n",
      "39:\tlearn: 2.6999439\ttotal: 147ms\tremaining: 221ms\n",
      "40:\tlearn: 2.6967440\ttotal: 149ms\tremaining: 215ms\n",
      "41:\tlearn: 2.6931541\ttotal: 151ms\tremaining: 208ms\n",
      "42:\tlearn: 2.6902635\ttotal: 153ms\tremaining: 202ms\n",
      "43:\tlearn: 2.6872760\ttotal: 154ms\tremaining: 196ms\n",
      "44:\tlearn: 2.6822918\ttotal: 157ms\tremaining: 192ms\n",
      "45:\tlearn: 2.6811729\ttotal: 159ms\tremaining: 187ms\n",
      "46:\tlearn: 2.6804101\ttotal: 161ms\tremaining: 182ms\n",
      "47:\tlearn: 2.6801645\ttotal: 163ms\tremaining: 177ms\n",
      "48:\tlearn: 2.6732440\ttotal: 165ms\tremaining: 172ms\n",
      "49:\tlearn: 2.6685189\ttotal: 168ms\tremaining: 168ms\n",
      "50:\tlearn: 2.6644038\ttotal: 171ms\tremaining: 164ms\n",
      "51:\tlearn: 2.6600662\ttotal: 173ms\tremaining: 160ms\n",
      "52:\tlearn: 2.6544488\ttotal: 176ms\tremaining: 156ms\n",
      "53:\tlearn: 2.6537378\ttotal: 178ms\tremaining: 151ms\n",
      "54:\tlearn: 2.6489389\ttotal: 180ms\tremaining: 147ms\n",
      "55:\tlearn: 2.6465621\ttotal: 183ms\tremaining: 144ms\n",
      "56:\tlearn: 2.6434400\ttotal: 185ms\tremaining: 140ms\n",
      "57:\tlearn: 2.6379449\ttotal: 188ms\tremaining: 136ms\n",
      "58:\tlearn: 2.6357326\ttotal: 191ms\tremaining: 132ms\n",
      "59:\tlearn: 2.6341558\ttotal: 193ms\tremaining: 128ms\n",
      "60:\tlearn: 2.6305401\ttotal: 195ms\tremaining: 125ms\n",
      "61:\tlearn: 2.6279785\ttotal: 197ms\tremaining: 121ms\n",
      "62:\tlearn: 2.6254258\ttotal: 199ms\tremaining: 117ms\n",
      "63:\tlearn: 2.6211758\ttotal: 202ms\tremaining: 114ms\n",
      "64:\tlearn: 2.6158237\ttotal: 204ms\tremaining: 110ms\n",
      "65:\tlearn: 2.6142971\ttotal: 207ms\tremaining: 106ms\n",
      "66:\tlearn: 2.6114792\ttotal: 213ms\tremaining: 105ms\n",
      "67:\tlearn: 2.6075975\ttotal: 216ms\tremaining: 102ms\n",
      "68:\tlearn: 2.6036095\ttotal: 218ms\tremaining: 98ms\n",
      "69:\tlearn: 2.6028757\ttotal: 220ms\tremaining: 94.4ms\n",
      "70:\tlearn: 2.5991815\ttotal: 222ms\tremaining: 90.8ms\n",
      "71:\tlearn: 2.5974922\ttotal: 224ms\tremaining: 87.3ms\n",
      "72:\tlearn: 2.5938549\ttotal: 227ms\tremaining: 84.1ms\n",
      "73:\tlearn: 2.5915815\ttotal: 230ms\tremaining: 80.8ms\n",
      "74:\tlearn: 2.5882828\ttotal: 233ms\tremaining: 77.6ms\n",
      "75:\tlearn: 2.5844730\ttotal: 235ms\tremaining: 74.3ms\n",
      "76:\tlearn: 2.5823523\ttotal: 238ms\tremaining: 71.2ms\n",
      "77:\tlearn: 2.5781167\ttotal: 240ms\tremaining: 67.8ms\n",
      "78:\tlearn: 2.5748722\ttotal: 242ms\tremaining: 64.4ms\n",
      "79:\tlearn: 2.5722230\ttotal: 245ms\tremaining: 61.3ms\n",
      "80:\tlearn: 2.5698798\ttotal: 248ms\tremaining: 58.1ms\n",
      "81:\tlearn: 2.5675173\ttotal: 250ms\tremaining: 54.8ms\n",
      "82:\tlearn: 2.5656212\ttotal: 252ms\tremaining: 51.6ms\n",
      "83:\tlearn: 2.5625056\ttotal: 254ms\tremaining: 48.4ms\n",
      "84:\tlearn: 2.5619304\ttotal: 256ms\tremaining: 45.1ms\n",
      "85:\tlearn: 2.5565341\ttotal: 258ms\tremaining: 42ms\n",
      "86:\tlearn: 2.5542591\ttotal: 261ms\tremaining: 39ms\n",
      "87:\tlearn: 2.5487481\ttotal: 264ms\tremaining: 35.9ms\n",
      "88:\tlearn: 2.5433415\ttotal: 266ms\tremaining: 32.9ms\n",
      "89:\tlearn: 2.5412439\ttotal: 268ms\tremaining: 29.7ms\n",
      "90:\tlearn: 2.5379851\ttotal: 270ms\tremaining: 26.7ms\n",
      "91:\tlearn: 2.5345340\ttotal: 272ms\tremaining: 23.7ms\n",
      "92:\tlearn: 2.5329522\ttotal: 275ms\tremaining: 20.7ms\n",
      "93:\tlearn: 2.5303299\ttotal: 277ms\tremaining: 17.7ms\n",
      "94:\tlearn: 2.5295519\ttotal: 279ms\tremaining: 14.7ms\n",
      "95:\tlearn: 2.5287300\ttotal: 281ms\tremaining: 11.7ms\n",
      "96:\tlearn: 2.5223846\ttotal: 283ms\tremaining: 8.75ms\n",
      "97:\tlearn: 2.5181600\ttotal: 286ms\tremaining: 5.84ms\n",
      "98:\tlearn: 2.5164649\ttotal: 288ms\tremaining: 2.91ms\n",
      "99:\tlearn: 2.5116825\ttotal: 291ms\tremaining: 0us\n",
      "\n",
      "\n",
      "Root Mean Squared Error: 2.926899244748573\n",
      "R^2: 0.312062420648032\n",
      "Adjusted R^2: 0.3092797517877319\n"
     ]
    }
   ],
   "source": [
    "# Catboost model\n",
    "\n",
    "# Fit a pipeline with transformers and an estimator to the training data\n",
    "pipe_catboost = Pipeline([\n",
    "    ('preprocessor', preprocessor),\n",
    "    ('model', CatBoostRegressor(verbose=1, n_estimators=100))\n",
    "])\n",
    "pipe_catboost.fit(X_train, y_train)\n",
    "y_train_pred = pipe_catboost.predict(X_train)\n",
    "y_test_pred = pipe_catboost.predict(X_test)\n",
    "\n",
    "print('\\n')\n",
    "print('Root Mean Squared Error:', np.sqrt(metrics.mean_squared_error(y_test, y_test_pred)))\n",
    "print('R^2:', metrics.r2_score(y_test, y_test_pred))\n",
    "print('Adjusted R^2:', adjusted_r2_score(X_test, metrics.r2_score(y_test, y_test_pred)))"
   ]
  },
  {
   "cell_type": "markdown",
   "metadata": {},
   "source": [
    "<img title=\"GitHub Mark\" src=\"./img/GitHub-Mark-64px.png\" style=\"height: 32px; padding-right: 15px\" alt=\"GitHub Mark\" align=\"left\"> [GitHub repository](https://github.com/pessini/moby-bikes) <br>Author: Leandro Pessini"
   ]
  }
 ],
 "metadata": {
  "interpreter": {
   "hash": "5c82cf216bcd6695c751af4e033b89e10a78cc5d50e2943f0ed5dd08b475eddb"
  },
  "kernelspec": {
   "display_name": "Python 3 (ipykernel)",
   "language": "python",
   "name": "python3"
  },
  "language_info": {
   "codemirror_mode": {
    "name": "ipython",
    "version": 3
   },
   "file_extension": ".py",
   "mimetype": "text/x-python",
   "name": "python",
   "nbconvert_exporter": "python",
   "pygments_lexer": "ipython3",
   "version": "3.9.6"
  }
 },
 "nbformat": 4,
 "nbformat_minor": 2
}
