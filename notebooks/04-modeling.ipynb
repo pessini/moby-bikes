{
 "cells": [
  {
   "cell_type": "code",
   "execution_count": 19,
   "metadata": {},
   "outputs": [],
   "source": [
    "import pandas as pd\n",
    "import matplotlib.pyplot as plt\n",
    "import seaborn as sns\n",
    "import numpy as np\n",
    "\n",
    "# Preprocessing\n",
    "from sklearn.model_selection import train_test_split\n",
    "from sklearn.preprocessing import StandardScaler, MinMaxScaler, OneHotEncoder\n",
    "from sklearn.compose import ColumnTransformer\n",
    "from sklearn.pipeline import Pipeline\n",
    "\n",
    "# Models & Evaluation\n",
    "from sklearn.linear_model import LinearRegression\n",
    "from sklearn.linear_model import Ridge\n",
    "from sklearn import linear_model\n",
    "from sklearn.linear_model import ElasticNet\n",
    "from sklearn.ensemble import RandomForestRegressor, GradientBoostingRegressor\n",
    "from xgboost import XGBRegressor\n",
    "from lightgbm import LGBMRegressor\n",
    "from catboost import CatBoostRegressor\n",
    "from sklearn import metrics"
   ]
  },
  {
   "cell_type": "markdown",
   "metadata": {},
   "source": [
    "<a id=\"4\"></a>\n",
    "# <p style=\"font-size:100%; text-align:left; color:#444444;\">4- Models</p>"
   ]
  },
  {
   "cell_type": "markdown",
   "metadata": {},
   "source": [
    "## Splitting dataset in train and test"
   ]
  },
  {
   "cell_type": "code",
   "execution_count": 20,
   "metadata": {},
   "outputs": [],
   "source": [
    "def adjusted_r2_score(X, r2_score):\n",
    "    return 1 - ( 1- r2_score ) * ( len(X) - 1 ) / ( len(X) - X.shape[1] - 1 )"
   ]
  },
  {
   "cell_type": "code",
   "execution_count": 21,
   "metadata": {},
   "outputs": [],
   "source": [
    "hourly_data = pd.read_csv('../data/interim/hourly_data.csv')"
   ]
  },
  {
   "cell_type": "code",
   "execution_count": 22,
   "metadata": {},
   "outputs": [
    {
     "data": {
      "text/plain": [
       "(7447, 15)"
      ]
     },
     "execution_count": 22,
     "metadata": {},
     "output_type": "execute_result"
    }
   ],
   "source": [
    "hourly_data.shape"
   ]
  },
  {
   "cell_type": "code",
   "execution_count": 23,
   "metadata": {},
   "outputs": [
    {
     "data": {
      "text/plain": [
       "Index(['rental_date', 'rental_day', 'rental_year', 'rental_hour', 'holiday',\n",
       "       'dayofweek', 'working_day', 'season', 'peak', 'timesofday', 'rain',\n",
       "       'temp', 'rhum', 'wdsp', 'count'],\n",
       "      dtype='object')"
      ]
     },
     "execution_count": 23,
     "metadata": {},
     "output_type": "execute_result"
    }
   ],
   "source": [
    "hourly_data.columns"
   ]
  },
  {
   "cell_type": "code",
   "execution_count": 24,
   "metadata": {},
   "outputs": [
    {
     "data": {
      "text/plain": [
       "((5212, 9), (2235, 9))"
      ]
     },
     "execution_count": 24,
     "metadata": {},
     "output_type": "execute_result"
    }
   ],
   "source": [
    "df = hourly_data.copy()\n",
    "#df = hourlyDataWithoutOutliers.copy()\n",
    "#df = transform_data.copy()\n",
    "df = df.astype({'holiday': 'category', 'dayofweek': 'category', 'working_day': 'category', 'peak': 'category', 'timesofday': 'category'})\n",
    "predictors = ['rain','temp','wdsp','rhum','holiday','dayofweek','working_day','peak','timesofday']\n",
    "\n",
    "X = df[[c for c in df.columns if c in predictors]]\n",
    "y = df.pop('count')\n",
    "X_train, X_test, y_train, y_test = train_test_split(X, y, test_size=0.3, random_state=42)\n",
    "X_train.shape, X_test.shape"
   ]
  },
  {
   "cell_type": "markdown",
   "metadata": {},
   "source": [
    "## Split columns in categorical and numerical"
   ]
  },
  {
   "cell_type": "code",
   "execution_count": 25,
   "metadata": {},
   "outputs": [],
   "source": [
    "num_vars = [c for c in df.select_dtypes(include=['number']).columns if c in predictors] # list comprehension to select only predictors features\n",
    "cat_vars = df.select_dtypes(include=['category']).columns"
   ]
  },
  {
   "cell_type": "markdown",
   "metadata": {},
   "source": [
    "## Preprocessing Pipelines"
   ]
  },
  {
   "cell_type": "code",
   "execution_count": 26,
   "metadata": {},
   "outputs": [],
   "source": [
    "# Define categorical pipeline\n",
    "cat_pipe = Pipeline([\n",
    "    #('imputer', SimpleImputer(strategy='constant', fill_value='missing')),\n",
    "    ('encoder', OneHotEncoder(handle_unknown='ignore', sparse=False))\n",
    "])\n",
    "\n",
    "# Define numerical pipeline\n",
    "num_pipe = Pipeline([\n",
    "    #('imputer', SimpleImputer(strategy='median')),\n",
    "    #('scaler', StandardScaler())\n",
    "    ('scaler', MinMaxScaler())\n",
    "])\n",
    "\n",
    "# Combine categorical and numerical pipelines\n",
    "preprocessor = ColumnTransformer([\n",
    "    ('cat', cat_pipe, cat_vars),\n",
    "    ('num', num_pipe, num_vars)\n",
    "])"
   ]
  },
  {
   "cell_type": "markdown",
   "metadata": {},
   "source": [
    "## Feature Importance"
   ]
  },
  {
   "cell_type": "code",
   "execution_count": 27,
   "metadata": {},
   "outputs": [
    {
     "data": {
      "text/plain": [
       "Pipeline(steps=[('preprocessor',\n",
       "                 ColumnTransformer(transformers=[('cat',\n",
       "                                                  Pipeline(steps=[('encoder',\n",
       "                                                                   OneHotEncoder(handle_unknown='ignore',\n",
       "                                                                                 sparse=False))]),\n",
       "                                                  Index(['holiday', 'dayofweek', 'working_day', 'peak', 'timesofday'], dtype='object')),\n",
       "                                                 ('num',\n",
       "                                                  Pipeline(steps=[('scaler',\n",
       "                                                                   MinMaxScaler())]),\n",
       "                                                  ['rain', 'temp', 'rhum',\n",
       "                                                   'wdsp'])])),\n",
       "                ('model',\n",
       "                 LGBMRegressor(boosting_type='dart', importance_type='gain',\n",
       "                               learning_rate=0.01, max_depth=5,\n",
       "                               n_estimators=500, subsample=0.7))])"
      ]
     },
     "execution_count": 27,
     "metadata": {},
     "output_type": "execute_result"
    }
   ],
   "source": [
    "# LightGBM model\n",
    "params_lightgbm = {'n_estimators': 500, \n",
    "                   'boosting_type': 'dart', \n",
    "                   'max_depth': 5, \n",
    "                   'learning_rate': 0.01, \n",
    "                   'subsample': 0.7, \n",
    "                   'importance_type': 'gain'\n",
    "                   }\n",
    "\n",
    "# Fit a pipeline with transformers and an estimator to the training data\n",
    "pipe_gbm = Pipeline([\n",
    "    ('preprocessor', preprocessor),\n",
    "    ('model', LGBMRegressor(**params_lightgbm))\n",
    "])\n",
    "pipe_gbm.fit(X_train, y_train)"
   ]
  },
  {
   "cell_type": "code",
   "execution_count": 28,
   "metadata": {},
   "outputs": [
    {
     "data": {
      "image/png": "[encoded data removed]",
      "text/plain": [
       "<Figure size 1080x864 with 1 Axes>"
      ]
     },
     "metadata": {
      "needs_background": "light"
     },
     "output_type": "display_data"
    }
   ],
   "source": [
    "#Plotting features importance\n",
    "feature_imp = pd.DataFrame(sorted(zip(pipe_gbm['model'].feature_importances_,X_train.columns)), columns=['Value','Feature'])\n",
    "scaler_ft = MinMaxScaler()\n",
    "feature_imp['Value'] = scaler_ft.fit_transform(feature_imp['Value'].values.reshape(-1,1))\n",
    "\n",
    "fig = plt.figure(figsize=(15, 12))\n",
    "sns.barplot(x=\"Value\", y=\"Feature\", data=feature_imp.sort_values(by=\"Value\", ascending=False))\n",
    "plt.title('LightGBM Features Importance')\n",
    "locs, labels = plt.xticks()\n",
    "plt.tick_params(axis='both', which='major', labelsize=12)\n",
    "\n",
    "plt.show()"
   ]
  },
  {
   "cell_type": "markdown",
   "metadata": {},
   "source": [
    "## Linear Regression"
   ]
  },
  {
   "cell_type": "code",
   "execution_count": 29,
   "metadata": {},
   "outputs": [
    {
     "name": "stdout",
     "output_type": "stream",
     "text": [
      "Root Mean Squared Error: 2.9693390020470685\n",
      "R^2: 0.2919677263362642\n",
      "Adjusted R^2: 0.28910377556638844\n"
     ]
    }
   ],
   "source": [
    "pipe_linear_regression = Pipeline([\n",
    "    ('preprocessor', preprocessor),\n",
    "    ('model', LinearRegression())\n",
    "])\n",
    "pipe_linear_regression.fit(X_train, y_train)\n",
    "\n",
    "# Predict training data\n",
    "y_train_pred = pipe_linear_regression.predict(X_train)\n",
    "\n",
    "# Predict test data\n",
    "y_test_pred = pipe_linear_regression.predict(X_test)\n",
    "\n",
    "print('Root Mean Squared Error:', np.sqrt(metrics.mean_squared_error(y_test, y_test_pred)))\n",
    "print('R^2:', metrics.r2_score(y_test, y_test_pred))\n",
    "print('Adjusted R^2:', adjusted_r2_score(X_test, metrics.r2_score(y_test, y_test_pred)))"
   ]
  },
  {
   "cell_type": "markdown",
   "metadata": {},
   "source": [
    "## Ridge Regression\n",
    "\n",
    "[Ridge](https://scikit-learn.org/stable/modules/generated/sklearn.linear_model.Ridge.html#sklearn.linear_model.Ridge) regression addresses some of the problems of Ordinary Least Squares by imposing a penalty on the size of the coefficients with l2 regularization."
   ]
  },
  {
   "cell_type": "code",
   "execution_count": 30,
   "metadata": {},
   "outputs": [
    {
     "name": "stdout",
     "output_type": "stream",
     "text": [
      "Root Mean Squared Error: 2.966301894175054\n",
      "R^2: 0.29341536883614927\n",
      "Adjusted R^2: 0.2905572736988573\n"
     ]
    }
   ],
   "source": [
    "# Fit a pipeline with transformers and an estimator to the training data\n",
    "pipe_ridge = Pipeline([\n",
    "    ('preprocessor', preprocessor),\n",
    "    ('model', Ridge())\n",
    "])\n",
    "pipe_ridge.fit(X_train, y_train)\n",
    "\n",
    "y_train_pred = pipe_ridge.predict(X_train)\n",
    "y_test_pred = pipe_ridge.predict(X_test)\n",
    "\n",
    "print('Root Mean Squared Error:', np.sqrt(metrics.mean_squared_error(y_test, y_test_pred)))\n",
    "print('R^2:', metrics.r2_score(y_test, y_test_pred))\n",
    "print('Adjusted R^2:', adjusted_r2_score(X_test, metrics.r2_score(y_test, y_test_pred)))"
   ]
  },
  {
   "cell_type": "markdown",
   "metadata": {},
   "source": [
    "## Lasso Regression\n",
    "\n",
    "The [Lasso](https://scikit-learn.org/stable/modules/generated/sklearn.linear_model.Lasso.html#sklearn.linear_model.Lasso) is a linear model that estimates sparse coefficients with l1 regularization."
   ]
  },
  {
   "cell_type": "code",
   "execution_count": 31,
   "metadata": {},
   "outputs": [
    {
     "name": "stdout",
     "output_type": "stream",
     "text": [
      "Root Mean Squared Error: 3.148728882614077\n",
      "R^2: 0.20383327180697808\n",
      "Adjusted R^2: 0.20061282211990517\n"
     ]
    }
   ],
   "source": [
    "# Fit a pipeline with transformers and an estimator to the training data\n",
    "pipe_lasso = Pipeline([\n",
    "    ('preprocessor', preprocessor),\n",
    "    ('model', linear_model.Lasso(alpha=0.1))\n",
    "])\n",
    "pipe_lasso.fit(X_train, y_train)\n",
    "y_train_pred = pipe_lasso.predict(X_train)\n",
    "y_test_pred = pipe_lasso.predict(X_test)\n",
    "\n",
    "print('Root Mean Squared Error:', np.sqrt(metrics.mean_squared_error(y_test, y_test_pred)))\n",
    "print('R^2:', metrics.r2_score(y_test, y_test_pred))\n",
    "print('Adjusted R^2:', adjusted_r2_score(X_test, metrics.r2_score(y_test, y_test_pred)))"
   ]
  },
  {
   "cell_type": "markdown",
   "metadata": {},
   "source": [
    "## Elastic-Net\n",
    "\n",
    "[Elastic-Net](https://scikit-learn.org/stable/modules/generated/sklearn.linear_model.ElasticNet.html#sklearn.linear_model.ElasticNet) is a linear regression model trained with both l1 and l2 -norm regularization of the coefficients."
   ]
  },
  {
   "cell_type": "code",
   "execution_count": 32,
   "metadata": {},
   "outputs": [
    {
     "name": "stdout",
     "output_type": "stream",
     "text": [
      "Root Mean Squared Error: 3.5289794874770415\n",
      "R^2: -7.312522711178104e-05\n",
      "Adjusted R^2: -0.004118364834772015\n"
     ]
    }
   ],
   "source": [
    "# Fit a pipeline with transformers and an estimator to the training data\n",
    "pipe_elastic = Pipeline([\n",
    "    ('preprocessor', preprocessor),\n",
    "    ('model', ElasticNet())\n",
    "])\n",
    "pipe_elastic.fit(X_train, y_train)\n",
    "y_train_pred = pipe_elastic.predict(X_train)\n",
    "y_test_pred = pipe_elastic.predict(X_test)\n",
    "\n",
    "print('Root Mean Squared Error:', np.sqrt(metrics.mean_squared_error(y_test, y_test_pred)))\n",
    "print('R^2:', metrics.r2_score(y_test, y_test_pred))\n",
    "print('Adjusted R^2:', adjusted_r2_score(X_test, metrics.r2_score(y_test, y_test_pred)))"
   ]
  },
  {
   "cell_type": "markdown",
   "metadata": {},
   "source": [
    "## Random Forest Regressor"
   ]
  },
  {
   "cell_type": "code",
   "execution_count": 33,
   "metadata": {},
   "outputs": [
    {
     "name": "stdout",
     "output_type": "stream",
     "text": [
      "Root Mean Squared Error: 2.934926168933393\n",
      "R^2: 0.30828395455595425\n",
      "Adjusted R^2: 0.30548600201258513\n"
     ]
    }
   ],
   "source": [
    "# random forest model\n",
    "params_rf = {'n_estimators': 1000, 'max_depth': 15, 'random_state': 0, 'min_samples_split' : 5, 'n_jobs': -1}\n",
    "\n",
    "# Fit a pipeline with transformers and an estimator to the training data\n",
    "pipe_rf = Pipeline([\n",
    "    ('preprocessor', preprocessor),\n",
    "    ('model', RandomForestRegressor(**params_rf))\n",
    "])\n",
    "pipe_rf.fit(X_train, y_train)\n",
    "y_train_pred = pipe_rf.predict(X_train)\n",
    "y_test_pred = pipe_rf.predict(X_test)\n",
    "\n",
    "print('Root Mean Squared Error:', np.sqrt(metrics.mean_squared_error(y_test, y_test_pred)))\n",
    "print('R^2:', metrics.r2_score(y_test, y_test_pred))\n",
    "print('Adjusted R^2:', adjusted_r2_score(X_test, metrics.r2_score(y_test, y_test_pred)))"
   ]
  },
  {
   "cell_type": "markdown",
   "metadata": {},
   "source": [
    "## GradientBoost"
   ]
  },
  {
   "cell_type": "code",
   "execution_count": 34,
   "metadata": {},
   "outputs": [
    {
     "name": "stdout",
     "output_type": "stream",
     "text": [
      "Root Mean Squared Error: 2.9748374644030617\n",
      "R^2: 0.289343106306571\n",
      "Adjusted R^2: 0.2864685390961257\n"
     ]
    }
   ],
   "source": [
    "# GBM model\n",
    "params_gbm = {'n_estimators': 150, 'max_depth': 5, 'random_state': 0, 'min_samples_leaf' : 10, 'learning_rate': 0.01, 'subsample': 0.7, 'loss': 'ls'}\n",
    "\n",
    "# Fit a pipeline with transformers and an estimator to the training data\n",
    "pipe_gbm = Pipeline([\n",
    "    ('preprocessor', preprocessor),\n",
    "    ('model', GradientBoostingRegressor(**params_gbm))\n",
    "])\n",
    "pipe_gbm.fit(X_train, y_train)\n",
    "y_train_pred = pipe_gbm.predict(X_train)\n",
    "y_test_pred = pipe_gbm.predict(X_test)\n",
    "\n",
    "print('Root Mean Squared Error:', np.sqrt(metrics.mean_squared_error(y_test, y_test_pred)))\n",
    "print('R^2:', metrics.r2_score(y_test, y_test_pred))\n",
    "print('Adjusted R^2:', adjusted_r2_score(X_test, metrics.r2_score(y_test, y_test_pred)))"
   ]
  },
  {
   "cell_type": "markdown",
   "metadata": {},
   "source": [
    "## LightGBM"
   ]
  },
  {
   "cell_type": "code",
   "execution_count": 40,
   "metadata": {},
   "outputs": [
    {
     "name": "stdout",
     "output_type": "stream",
     "text": [
      "Root Mean Squared Error: 2.9445074793645523\n",
      "R^2: 0.30376025353781866\n",
      "Adjusted R^2: 0.30094400287797163\n"
     ]
    }
   ],
   "source": [
    "# LightGBM model\n",
    "params_lightgbm = {'n_estimators': 1000, 'max_depth': 15, 'random_state': 0, 'learning_rate': 0.01, 'subsample': 0.7}\n",
    "\n",
    "# Fit a pipeline with transformers and an estimator to the training data\n",
    "pipe_gbm = Pipeline([\n",
    "    ('preprocessor', preprocessor),\n",
    "    ('model', LGBMRegressor(**params_lightgbm))\n",
    "])\n",
    "pipe_gbm.fit(X_train, y_train)\n",
    "y_train_pred = pipe_gbm.predict(X_train)\n",
    "y_test_pred = pipe_gbm.predict(X_test)\n",
    "\n",
    "print('Root Mean Squared Error:', np.sqrt(metrics.mean_squared_error(y_test, y_test_pred)))\n",
    "print('R^2:', metrics.r2_score(y_test, y_test_pred))\n",
    "print('Adjusted R^2:', adjusted_r2_score(X_test, metrics.r2_score(y_test, y_test_pred)))"
   ]
  },
  {
   "cell_type": "markdown",
   "metadata": {},
   "source": [
    "## Catboost"
   ]
  },
  {
   "cell_type": "code",
   "execution_count": 36,
   "metadata": {},
   "outputs": [
    {
     "name": "stdout",
     "output_type": "stream",
     "text": [
      "Learning rate set to 0.30132\n",
      "0:\tlearn: 3.2280818\ttotal: 2.05ms\tremaining: 203ms\n",
      "1:\tlearn: 3.1053856\ttotal: 3.69ms\tremaining: 181ms\n",
      "2:\tlearn: 3.0317438\ttotal: 5.74ms\tremaining: 186ms\n",
      "3:\tlearn: 2.9988127\ttotal: 7.4ms\tremaining: 178ms\n",
      "4:\tlearn: 2.9407130\ttotal: 9.08ms\tremaining: 173ms\n",
      "5:\tlearn: 2.9175057\ttotal: 11.2ms\tremaining: 175ms\n",
      "6:\tlearn: 2.9010845\ttotal: 13.4ms\tremaining: 179ms\n",
      "7:\tlearn: 2.8896829\ttotal: 15.2ms\tremaining: 175ms\n",
      "8:\tlearn: 2.8789574\ttotal: 17ms\tremaining: 172ms\n",
      "9:\tlearn: 2.8629877\ttotal: 18.6ms\tremaining: 167ms\n",
      "10:\tlearn: 2.8590021\ttotal: 20ms\tremaining: 162ms\n",
      "11:\tlearn: 2.8533086\ttotal: 22ms\tremaining: 161ms\n",
      "12:\tlearn: 2.8503956\ttotal: 23.6ms\tremaining: 158ms\n",
      "13:\tlearn: 2.8475042\ttotal: 25.6ms\tremaining: 157ms\n",
      "14:\tlearn: 2.8422447\ttotal: 27.6ms\tremaining: 157ms\n",
      "15:\tlearn: 2.8298402\ttotal: 29.5ms\tremaining: 155ms\n",
      "16:\tlearn: 2.8280663\ttotal: 31ms\tremaining: 151ms\n",
      "17:\tlearn: 2.8170744\ttotal: 32.9ms\tremaining: 150ms\n",
      "18:\tlearn: 2.8125644\ttotal: 34.9ms\tremaining: 149ms\n",
      "19:\tlearn: 2.8074990\ttotal: 36.8ms\tremaining: 147ms\n",
      "20:\tlearn: 2.8034770\ttotal: 38.7ms\tremaining: 146ms\n",
      "21:\tlearn: 2.8009529\ttotal: 40.7ms\tremaining: 144ms\n",
      "22:\tlearn: 2.7971165\ttotal: 42.5ms\tremaining: 142ms\n",
      "23:\tlearn: 2.7920588\ttotal: 44ms\tremaining: 139ms\n",
      "24:\tlearn: 2.7888758\ttotal: 45.8ms\tremaining: 138ms\n",
      "25:\tlearn: 2.7838064\ttotal: 47.4ms\tremaining: 135ms\n",
      "26:\tlearn: 2.7821693\ttotal: 49.1ms\tremaining: 133ms\n",
      "27:\tlearn: 2.7757614\ttotal: 51ms\tremaining: 131ms\n",
      "28:\tlearn: 2.7692018\ttotal: 52.5ms\tremaining: 129ms\n",
      "29:\tlearn: 2.7676033\ttotal: 54.2ms\tremaining: 126ms\n",
      "30:\tlearn: 2.7645077\ttotal: 55.8ms\tremaining: 124ms\n",
      "31:\tlearn: 2.7577685\ttotal: 57.9ms\tremaining: 123ms\n",
      "32:\tlearn: 2.7541890\ttotal: 59.4ms\tremaining: 121ms\n",
      "33:\tlearn: 2.7518250\ttotal: 60.8ms\tremaining: 118ms\n",
      "34:\tlearn: 2.7491789\ttotal: 62.7ms\tremaining: 116ms\n",
      "35:\tlearn: 2.7434028\ttotal: 64.2ms\tremaining: 114ms\n",
      "36:\tlearn: 2.7393334\ttotal: 65.6ms\tremaining: 112ms\n",
      "37:\tlearn: 2.7333572\ttotal: 66.9ms\tremaining: 109ms\n",
      "38:\tlearn: 2.7296076\ttotal: 68.2ms\tremaining: 107ms\n",
      "39:\tlearn: 2.7245502\ttotal: 69.4ms\tremaining: 104ms\n",
      "40:\tlearn: 2.7237283\ttotal: 71.6ms\tremaining: 103ms\n",
      "41:\tlearn: 2.7190262\ttotal: 73.6ms\tremaining: 102ms\n",
      "42:\tlearn: 2.7118218\ttotal: 75.9ms\tremaining: 101ms\n",
      "43:\tlearn: 2.7071822\ttotal: 77.7ms\tremaining: 98.9ms\n",
      "44:\tlearn: 2.7043758\ttotal: 79.2ms\tremaining: 96.8ms\n",
      "45:\tlearn: 2.6977391\ttotal: 80.9ms\tremaining: 95ms\n",
      "46:\tlearn: 2.6942645\ttotal: 82.1ms\tremaining: 92.6ms\n",
      "47:\tlearn: 2.6918138\ttotal: 83.7ms\tremaining: 90.6ms\n",
      "48:\tlearn: 2.6909714\ttotal: 85.3ms\tremaining: 88.8ms\n",
      "49:\tlearn: 2.6871120\ttotal: 87.5ms\tremaining: 87.5ms\n",
      "50:\tlearn: 2.6867997\ttotal: 89.4ms\tremaining: 85.9ms\n",
      "51:\tlearn: 2.6847268\ttotal: 90.9ms\tremaining: 83.9ms\n",
      "52:\tlearn: 2.6842826\ttotal: 92.6ms\tremaining: 82.1ms\n",
      "53:\tlearn: 2.6817022\ttotal: 93.8ms\tremaining: 79.9ms\n",
      "54:\tlearn: 2.6783571\ttotal: 95.2ms\tremaining: 77.9ms\n",
      "55:\tlearn: 2.6766156\ttotal: 96.6ms\tremaining: 75.9ms\n",
      "56:\tlearn: 2.6673073\ttotal: 98.4ms\tremaining: 74.2ms\n",
      "57:\tlearn: 2.6635570\ttotal: 99.9ms\tremaining: 72.4ms\n",
      "58:\tlearn: 2.6603211\ttotal: 102ms\tremaining: 70.7ms\n",
      "59:\tlearn: 2.6582104\ttotal: 104ms\tremaining: 69.2ms\n",
      "60:\tlearn: 2.6543866\ttotal: 106ms\tremaining: 67.8ms\n",
      "61:\tlearn: 2.6541511\ttotal: 108ms\tremaining: 65.9ms\n",
      "62:\tlearn: 2.6515176\ttotal: 110ms\tremaining: 64.4ms\n",
      "63:\tlearn: 2.6463662\ttotal: 111ms\tremaining: 62.6ms\n",
      "64:\tlearn: 2.6386250\ttotal: 113ms\tremaining: 60.7ms\n",
      "65:\tlearn: 2.6377103\ttotal: 114ms\tremaining: 59ms\n",
      "66:\tlearn: 2.6363289\ttotal: 116ms\tremaining: 57.3ms\n",
      "67:\tlearn: 2.6348423\ttotal: 119ms\tremaining: 56ms\n",
      "68:\tlearn: 2.6324654\ttotal: 120ms\tremaining: 54ms\n",
      "69:\tlearn: 2.6265715\ttotal: 122ms\tremaining: 52.4ms\n",
      "70:\tlearn: 2.6236484\ttotal: 124ms\tremaining: 50.7ms\n",
      "71:\tlearn: 2.6205178\ttotal: 125ms\tremaining: 48.8ms\n",
      "72:\tlearn: 2.6198176\ttotal: 127ms\tremaining: 46.9ms\n",
      "73:\tlearn: 2.6171958\ttotal: 128ms\tremaining: 44.9ms\n",
      "74:\tlearn: 2.6157617\ttotal: 129ms\tremaining: 43ms\n",
      "75:\tlearn: 2.6121987\ttotal: 131ms\tremaining: 41.2ms\n",
      "76:\tlearn: 2.6078665\ttotal: 132ms\tremaining: 39.5ms\n",
      "77:\tlearn: 2.6072697\ttotal: 134ms\tremaining: 37.7ms\n",
      "78:\tlearn: 2.6044653\ttotal: 135ms\tremaining: 35.9ms\n",
      "79:\tlearn: 2.6041744\ttotal: 137ms\tremaining: 34.3ms\n",
      "80:\tlearn: 2.6038263\ttotal: 139ms\tremaining: 32.5ms\n",
      "81:\tlearn: 2.6037454\ttotal: 140ms\tremaining: 30.8ms\n",
      "82:\tlearn: 2.6007412\ttotal: 142ms\tremaining: 29ms\n",
      "83:\tlearn: 2.5988214\ttotal: 143ms\tremaining: 27.3ms\n",
      "84:\tlearn: 2.5948630\ttotal: 145ms\tremaining: 25.5ms\n",
      "85:\tlearn: 2.5938955\ttotal: 146ms\tremaining: 23.8ms\n",
      "86:\tlearn: 2.5918514\ttotal: 148ms\tremaining: 22.1ms\n",
      "87:\tlearn: 2.5857130\ttotal: 150ms\tremaining: 20.4ms\n",
      "88:\tlearn: 2.5834086\ttotal: 151ms\tremaining: 18.7ms\n",
      "89:\tlearn: 2.5793225\ttotal: 153ms\tremaining: 17ms\n",
      "90:\tlearn: 2.5754862\ttotal: 154ms\tremaining: 15.3ms\n",
      "91:\tlearn: 2.5705313\ttotal: 156ms\tremaining: 13.5ms\n",
      "92:\tlearn: 2.5662960\ttotal: 157ms\tremaining: 11.8ms\n",
      "93:\tlearn: 2.5625562\ttotal: 159ms\tremaining: 10.1ms\n",
      "94:\tlearn: 2.5596716\ttotal: 160ms\tremaining: 8.45ms\n",
      "95:\tlearn: 2.5575813\ttotal: 162ms\tremaining: 6.75ms\n",
      "96:\tlearn: 2.5537593\ttotal: 164ms\tremaining: 5.07ms\n",
      "97:\tlearn: 2.5488949\ttotal: 165ms\tremaining: 3.37ms\n",
      "98:\tlearn: 2.5452198\ttotal: 167ms\tremaining: 1.68ms\n",
      "99:\tlearn: 2.5422428\ttotal: 168ms\tremaining: 0us\n",
      "\n",
      "\n",
      "Root Mean Squared Error: 2.9493768701497047\n",
      "R^2: 0.3014555783399546\n",
      "Adjusted R^2: 0.29863000539840834\n"
     ]
    }
   ],
   "source": [
    "# Catboost model\n",
    "\n",
    "# Fit a pipeline with transformers and an estimator to the training data\n",
    "pipe_catboost = Pipeline([\n",
    "    ('preprocessor', preprocessor),\n",
    "    ('model', CatBoostRegressor(verbose=1, n_estimators=100))\n",
    "])\n",
    "pipe_catboost.fit(X_train, y_train)\n",
    "y_train_pred = pipe_catboost.predict(X_train)\n",
    "y_test_pred = pipe_catboost.predict(X_test)\n",
    "\n",
    "print('\\n')\n",
    "print('Root Mean Squared Error:', np.sqrt(metrics.mean_squared_error(y_test, y_test_pred)))\n",
    "print('R^2:', metrics.r2_score(y_test, y_test_pred))\n",
    "print('Adjusted R^2:', adjusted_r2_score(X_test, metrics.r2_score(y_test, y_test_pred)))"
   ]
  }
 ],
 "metadata": {
  "interpreter": {
   "hash": "5c82cf216bcd6695c751af4e033b89e10a78cc5d50e2943f0ed5dd08b475eddb"
  },
  "kernelspec": {
   "display_name": "Python 3 (ipykernel)",
   "language": "python",
   "name": "python3"
  },
  "language_info": {
   "codemirror_mode": {
    "name": "ipython",
    "version": 3
   },
   "file_extension": ".py",
   "mimetype": "text/x-python",
   "name": "python",
   "nbconvert_exporter": "python",
   "pygments_lexer": "ipython3",
   "version": "3.9.6"
  }
 },
 "nbformat": 4,
 "nbformat_minor": 2
}
