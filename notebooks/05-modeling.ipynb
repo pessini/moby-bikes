{
 "cells": [
  {
   "cell_type": "markdown",
   "metadata": {},
   "source": [
    "<img title=\"GitHub Octocat\" src='./img/Octocat.jpg' style='height: 60px; padding-right: 15px' alt=\"Octocat\" align=\"left\"> This notebook is part of a GitHub repository: https://github.com/pessini/moby-bikes \n",
    "<br>MIT Licensed\n",
    "<br>Author: Leandro Pessini"
   ]
  },
  {
   "cell_type": "code",
   "execution_count": 1,
   "metadata": {},
   "outputs": [],
   "source": [
    "import pandas as pd\n",
    "import matplotlib.pyplot as plt\n",
    "import seaborn as sns\n",
    "import numpy as np\n",
    "import datetime\n",
    "import sys\n",
    "import os\n",
    "\n",
    "# Preprocessing\n",
    "from sklearn.model_selection import train_test_split\n",
    "from sklearn.preprocessing import StandardScaler, MinMaxScaler, OneHotEncoder, OrdinalEncoder\n",
    "from sklearn.compose import ColumnTransformer\n",
    "from sklearn.pipeline import Pipeline\n",
    "\n",
    "# Models & Evaluation\n",
    "from sklearn.model_selection import KFold\n",
    "from sklearn.model_selection import StratifiedKFold\n",
    "from sklearn.ensemble import RandomForestRegressor, GradientBoostingRegressor\n",
    "\n",
    "# statsmodel\n",
    "import statsmodels.api as sm\n",
    "import statsmodels.tsa.api as smt\n",
    "import statsmodels.formula.api as smf\n",
    "import statsmodels.stats as stats\n",
    "\n",
    "# Boost models\n",
    "import xgboost as xgb\n",
    "from xgboost import XGBRegressor\n",
    "import lightgbm as lgb\n",
    "from lightgbm import LGBMRegressor\n",
    "import catboost as cat\n",
    "from catboost import CatBoostRegressor\n",
    "\n",
    "from sklearn import metrics\n",
    "\n",
    "# Hyperparameter optimization\n",
    "from sklearn.model_selection import GridSearchCV, RandomizedSearchCV\n",
    "\n",
    "# Custom objects\n",
    "sys.path.insert(0, os.path.abspath('../src/'))\n",
    "import experiment_tracker as et\n",
    "\n",
    "import time\n",
    "import warnings\n",
    "warnings.simplefilter('ignore', FutureWarning)\n",
    "from statsmodels.tools.sm_exceptions import ConvergenceWarning\n",
    "warnings.simplefilter('ignore', ConvergenceWarning)"
   ]
  },
  {
   "cell_type": "code",
   "execution_count": 2,
   "metadata": {},
   "outputs": [
    {
     "name": "stdout",
     "output_type": "stream",
     "text": [
      "<class 'pandas.core.frame.DataFrame'>\n",
      "RangeIndex: 8760 entries, 0 to 8759\n",
      "Data columns (total 23 columns):\n",
      " #   Column              Non-Null Count  Dtype  \n",
      "---  ------              --------------  -----  \n",
      " 0   rain                8760 non-null   float64\n",
      " 1   temp                8760 non-null   float64\n",
      " 2   rhum                8760 non-null   int64  \n",
      " 3   wdsp                8760 non-null   int64  \n",
      " 4   date                8760 non-null   object \n",
      " 5   hour                8760 non-null   int64  \n",
      " 6   day                 8760 non-null   int64  \n",
      " 7   month               8760 non-null   int64  \n",
      " 8   year                8760 non-null   int64  \n",
      " 9   count               8760 non-null   int64  \n",
      " 10  holiday             8760 non-null   bool   \n",
      " 11  dayofweek_n         8760 non-null   int64  \n",
      " 12  dayofweek           8760 non-null   object \n",
      " 13  working_day         8760 non-null   bool   \n",
      " 14  season              8760 non-null   object \n",
      " 15  peak                8760 non-null   bool   \n",
      " 16  timesofday          8760 non-null   object \n",
      " 17  rainfall_intensity  8760 non-null   object \n",
      " 18  wind_bft            8760 non-null   int64  \n",
      " 19  wind_speed_group    8760 non-null   object \n",
      " 20  temp_r              8760 non-null   int64  \n",
      " 21  temp_bin            8760 non-null   float64\n",
      " 22  rhum_bin            8760 non-null   float64\n",
      "dtypes: bool(3), float64(4), int64(10), object(6)\n",
      "memory usage: 1.4+ MB\n"
     ]
    }
   ],
   "source": [
    "df_train = pd.read_csv('../data/processed/df_train.csv')\n",
    "df_test = pd.read_csv('../data/processed/df_test.csv')\n",
    "df_train.info()"
   ]
  },
  {
   "cell_type": "code",
   "execution_count": 3,
   "metadata": {},
   "outputs": [],
   "source": [
    "# creates a new object to keep track of the experiments\n",
    "experiment_tracker = et.ExperimentTracker()"
   ]
  },
  {
   "cell_type": "markdown",
   "metadata": {},
   "source": [
    "## Splitting data in train and test set"
   ]
  },
  {
   "cell_type": "code",
   "execution_count": 4,
   "metadata": {},
   "outputs": [
    {
     "data": {
      "text/plain": [
       "((6132, 22), (2628, 22))"
      ]
     },
     "execution_count": 4,
     "metadata": {},
     "output_type": "execute_result"
    }
   ],
   "source": [
    "df = df_train.copy()\n",
    "X = df.drop(['count'], axis=1)\n",
    "y = df.pop('count')\n",
    "all_columns = list(X.columns)\n",
    "X_train, X_val, y_train, y_val = train_test_split(X, y, test_size=0.3, random_state=42)\n",
    "X_train.shape, X_val.shape"
   ]
  },
  {
   "cell_type": "code",
   "execution_count": 5,
   "metadata": {},
   "outputs": [
    {
     "data": {
      "text/plain": [
       "(1464, 22)"
      ]
     },
     "execution_count": 5,
     "metadata": {},
     "output_type": "execute_result"
    }
   ],
   "source": [
    "test_df = df_test.copy()\n",
    "X_test = test_df.drop(['count'], axis=1)\n",
    "y_test = test_df.pop('count')\n",
    "X_test.shape"
   ]
  },
  {
   "cell_type": "code",
   "execution_count": 6,
   "metadata": {},
   "outputs": [
    {
     "name": "stdout",
     "output_type": "stream",
     "text": [
      "--- New Idea added! ---\n",
      "ID#: 5604533056 \n",
      "Idea: Dummy Regressor \n",
      "Potential Outcome: To use as a baseline model, expected to perform badly.\n",
      "\n"
     ]
    }
   ],
   "source": [
    "idea_dummy = et.Idea(idea='Dummy Regressor', potential_outcome='To use as a baseline model, expected to perform badly.')\n",
    "experiment_tracker.new_idea(idea_dummy)"
   ]
  },
  {
   "cell_type": "code",
   "execution_count": 7,
   "metadata": {},
   "outputs": [],
   "source": [
    "def get_train_val_score(model, predictors, X_train=X_train, y_train=y_train, X_val=X_val, y_val=y_val):\n",
    "    \n",
    "    X_train = X_train[[c for c in X_train.columns if c in predictors]]\n",
    "    X_val = X_val[[c for c in X_val.columns if c in predictors]]\n",
    "    model.fit(X_train, y_train)\n",
    "    \n",
    "    # Predict on training and validation set\n",
    "    y_pred_train = model.predict(X_train)\n",
    "    y_pred_val = model.predict(X_val)\n",
    "    \n",
    "    # Calculate the RSME and MAE\n",
    "    train_rsme = metrics.mean_squared_error(y_train, y_pred_train, squared=False) \n",
    "    # If squared = True returns MSE value, if False returns RMSE value.\n",
    "    val_rsme = metrics.mean_squared_error(y_val, y_pred_val, squared=False)\n",
    "    train_mae = metrics.mean_absolute_error(y_train, y_pred_train)\n",
    "    val_mae = metrics.mean_absolute_error(y_val, y_pred_val)\n",
    "    \n",
    "    return train_rsme, val_rsme, train_mae, val_mae"
   ]
  },
  {
   "cell_type": "code",
   "execution_count": 8,
   "metadata": {},
   "outputs": [],
   "source": [
    "def get_metrics_to_Experiment() -> list:\n",
    "    rsme = et.Score('RSME', '{:.4f}'.format(train_rsme), '{:.4f}'.format(val_rsme))\n",
    "    mae = et.Score('MAE', '{:.4f}'.format(train_mae), '{:.4f}'.format(val_mae))\n",
    "    return [rsme, mae]"
   ]
  },
  {
   "cell_type": "markdown",
   "metadata": {},
   "source": [
    "## Baseline Models"
   ]
  },
  {
   "cell_type": "markdown",
   "metadata": {},
   "source": [
    "### Dummy Regressor"
   ]
  },
  {
   "cell_type": "code",
   "execution_count": 9,
   "metadata": {},
   "outputs": [],
   "source": [
    "from sklearn.dummy import DummyRegressor\n",
    "predictors = ['temp','rhum','wdsp','rain']\n",
    "dummy_regr = DummyRegressor(strategy=\"mean\")\n",
    "train_rsme, val_rsme, train_mae, val_mae = get_train_val_score(dummy_regr, predictors)"
   ]
  },
  {
   "cell_type": "code",
   "execution_count": 10,
   "metadata": {},
   "outputs": [
    {
     "name": "stdout",
     "output_type": "stream",
     "text": [
      "--- New Experiment added! ---\n",
      "ID#: 5604190672 \n",
      "Algorithm: Dummy Regressor \n",
      "Predictors: ['temp', 'rhum', 'wdsp', 'rain']\n",
      "Hyperparameters: {'constant': None, 'quantile': None, 'strategy': 'mean'}\n",
      "Date: 13/06/2022 23:18:06\n",
      "Metric: [{ 'metric': RSME, 'train': 3.6138,  'validation': 3.5840, 'test': None }, { 'metric': MAE, 'train': 2.8752,  'validation': 2.9037, 'test': None }]\n",
      "Notes: Baseline Model for comparison\n"
     ]
    }
   ],
   "source": [
    "exp_dummy_regr = et.Experiment('Dummy Regressor', predictors=predictors, hyperparameters=dummy_regr.get_params(), \n",
    "                               score=get_metrics_to_Experiment(), notes='Baseline Model for comparison')\n",
    "experiment_tracker.add_experiment(exp_dummy_regr)"
   ]
  },
  {
   "cell_type": "markdown",
   "metadata": {},
   "source": [
    "### Linear Regression"
   ]
  },
  {
   "cell_type": "code",
   "execution_count": 11,
   "metadata": {},
   "outputs": [
    {
     "name": "stdout",
     "output_type": "stream",
     "text": [
      "--- New Idea added! ---\n",
      "ID#: 4607418528 \n",
      "Idea: Linear Regression \n",
      "Potential Outcome: Expected to perform bad as we have many outliers and a count as target variable\n",
      "\n"
     ]
    }
   ],
   "source": [
    "idea_linear = et.Idea(idea='Linear Regression', potential_outcome='Expected to perform bad as we have many outliers and a count as target variable')\n",
    "experiment_tracker.new_idea(idea_linear)"
   ]
  },
  {
   "cell_type": "code",
   "execution_count": 12,
   "metadata": {},
   "outputs": [
    {
     "name": "stdout",
     "output_type": "stream",
     "text": [
      "--- New Experiment added! ---\n",
      "ID#: 4607412016 \n",
      "Algorithm: Linear Regression \n",
      "Predictors: ['temp', 'rhum', 'wdsp', 'rain']\n",
      "Hyperparameters: \n",
      "Date: 13/06/2022 23:18:06\n",
      "Metric: [{ 'metric': RSME, 'train': 3.0883,  'validation': 3.0929, 'test': None }, { 'metric': MAE, 'train': 2.3738,  'validation': 2.4021, 'test': None }]\n",
      "Notes: Linear Regression\n"
     ]
    }
   ],
   "source": [
    "from sklearn.linear_model import LinearRegression\n",
    "predictors = ['temp','rhum','wdsp','rain']\n",
    "lin_reg = LinearRegression()\n",
    "train_rsme, val_rsme, train_mae, val_mae = get_train_val_score(lin_reg, predictors)\n",
    "exp_lin_regr = et.Experiment('Linear Regression', predictors=predictors, hyperparameters='', \n",
    "                               score=get_metrics_to_Experiment(), notes='Linear Regression')\n",
    "experiment_tracker.add_experiment(exp_lin_regr)"
   ]
  },
  {
   "cell_type": "code",
   "execution_count": 13,
   "metadata": {},
   "outputs": [
    {
     "name": "stdout",
     "output_type": "stream",
     "text": [
      "--- Idea updated! ---\n",
      "ID#: 4607418528 \n",
      "Idea: Linear Regression \n",
      "Potential Outcome: Expected to perform bad as we have many outliers and a count as target variable\n",
      "Learnings: As expected the performance is not good as we have a lot of outliers and a count as target variable\n"
     ]
    }
   ],
   "source": [
    "experiment_tracker.update_idea(idea_linear, learnings='As expected the performance is not good as we have a lot of outliers and a count as target variable')"
   ]
  },
  {
   "cell_type": "markdown",
   "metadata": {},
   "source": [
    "### Random Forest"
   ]
  },
  {
   "cell_type": "code",
   "execution_count": 14,
   "metadata": {},
   "outputs": [
    {
     "name": "stdout",
     "output_type": "stream",
     "text": [
      "--- New Idea added! ---\n",
      "ID#: 5604536176 \n",
      "Idea: Random Forest (only weather features) \n",
      "Potential Outcome: Expected to perform better than the Linear Regression\n",
      "\n"
     ]
    }
   ],
   "source": [
    "idea_random_forest = et.Idea(idea='Random Forest (only weather features)', potential_outcome='Expected to perform better than the Linear Regression')\n",
    "experiment_tracker.new_idea(idea_random_forest)"
   ]
  },
  {
   "cell_type": "code",
   "execution_count": 15,
   "metadata": {},
   "outputs": [
    {
     "name": "stdout",
     "output_type": "stream",
     "text": [
      "--- New Experiment added! ---\n",
      "ID#: 5604191344 \n",
      "Algorithm: Random Forest (only weather features) \n",
      "Predictors: ['temp', 'rhum', 'wdsp', 'rain']\n",
      "Hyperparameters: {'bootstrap': True, 'ccp_alpha': 0.0, 'criterion': 'squared_error', 'max_depth': 10, 'max_features': 'auto', 'max_leaf_nodes': None, 'max_samples': None, 'min_impurity_decrease': 0.0, 'min_samples_leaf': 1, 'min_samples_split': 2, 'min_weight_fraction_leaf': 0.0, 'n_estimators': 100, 'n_jobs': None, 'oob_score': False, 'random_state': 42, 'verbose': 0, 'warm_start': False}\n",
      "Date: 13/06/2022 23:18:08\n",
      "Metric: [{ 'metric': RSME, 'train': 2.5369,  'validation': 3.0795, 'test': None }, { 'metric': MAE, 'train': 1.9659,  'validation': 2.3863, 'test': None }]\n",
      "\n"
     ]
    }
   ],
   "source": [
    "from sklearn.ensemble import RandomForestRegressor\n",
    "predictors = ['temp','rhum','wdsp','rain']\n",
    "rf = RandomForestRegressor(n_estimators=100, max_depth=10, random_state=42)\n",
    "train_rsme, val_rsme, train_mae, val_mae = get_train_val_score(rf, predictors)\n",
    "exp_rf_regr = et.Experiment('Random Forest (only weather features)', predictors=predictors, hyperparameters=rf.get_params(), \n",
    "                               score=get_metrics_to_Experiment(), notes='')\n",
    "experiment_tracker.add_experiment(exp_rf_regr)"
   ]
  },
  {
   "cell_type": "code",
   "execution_count": 16,
   "metadata": {},
   "outputs": [
    {
     "name": "stdout",
     "output_type": "stream",
     "text": [
      "--- Idea updated! ---\n",
      "ID#: 5604536176 \n",
      "Idea: Random Forest (only weather features) \n",
      "Potential Outcome: Expected to perform better than the Linear Regression\n",
      "Learnings: Random Forest with just a few hyperparameters performed just a little better than linear regression (validations score).\n",
      "It seems to be overfitting as we see validation scores much higher than training scores. It's a sign that tuning hyperparameters is needed.\n"
     ]
    }
   ],
   "source": [
    "# update ideas with learnings\n",
    "learnings = \\\n",
    "\"\"\"Random Forest with just a few hyperparameters performed just a little better than linear regression (validations score).\n",
    "It seems to be overfitting as we see validation scores much higher than training scores. It's a sign that tuning hyperparameters is needed.\"\"\"\n",
    "experiment_tracker.update_idea(idea_random_forest, learnings=str.strip(learnings))"
   ]
  },
  {
   "cell_type": "markdown",
   "metadata": {},
   "source": [
    "## Preprocessing Pipelines"
   ]
  },
  {
   "cell_type": "code",
   "execution_count": 17,
   "metadata": {},
   "outputs": [],
   "source": [
    "import category_encoders as ce\n",
    "\n",
    "def preprocessor(predictors: list) -> ColumnTransformer:\n",
    "    # Setting remainder='passthrough' will mean that all columns not specified in the list of “transformers” \n",
    "    #   will be passed through without transformation, instead of being dropped\n",
    "\n",
    "    ##################### Categorical variables #####################\n",
    "    all_cat_vars = ['timesofday','dayofweek','holiday','peak','hour','working_day','season','month']\n",
    "    cat_vars = [categorical_var for categorical_var in all_cat_vars if categorical_var in predictors]\n",
    "\n",
    "    # categorical variables\n",
    "    cat_pipe = Pipeline([\n",
    "        ('encoder', OneHotEncoder(handle_unknown='ignore', sparse=False))\n",
    "    ])\n",
    "\n",
    "    cat_encoder = 'cat', cat_pipe, cat_vars\n",
    "\n",
    "    ##################### Numerical variables #####################\n",
    "    all_num_vars = ['rain', 'temp', 'rhum','wdsp','temp_r']\n",
    "    num_vars = [numerical_var for numerical_var in all_num_vars if numerical_var in predictors]\n",
    "\n",
    "    num_pipe = Pipeline([\n",
    "        ('scaler', StandardScaler())\n",
    "        # ('scaler', MinMaxScaler())\n",
    "    ])\n",
    "\n",
    "    num_enconder =  'num', num_pipe, num_vars\n",
    "\n",
    "    ##################### Ordinal variables #####################\n",
    "    all_ord_vars = ['wind_speed_group','rainfall_intensity']\n",
    "    ord_vars = [ordinal_var for ordinal_var in all_ord_vars if ordinal_var in predictors]\n",
    "\n",
    "    ordinal_cols_mapping = []\n",
    "    if 'wind_speed_group' in predictors:\n",
    "        ordinal_cols_mapping.append(\n",
    "            {\"col\":\"wind_speed_group\",    \n",
    "            \"mapping\": {\n",
    "                'Calm / Light Breeze': 0, \n",
    "                'Breeze': 1, \n",
    "                'Moderate Breeze': 2, \n",
    "                'Strong Breeze / Near Gale': 3, \n",
    "                'Gale / Storm': 4\n",
    "            }}\n",
    "        )\n",
    "\n",
    "    if 'rainfall_intensity' in predictors:\n",
    "        ordinal_cols_mapping.append(\n",
    "            {\"col\":\"rainfall_intensity\",    \n",
    "            \"mapping\": {\n",
    "                'no rain': 0, \n",
    "                'drizzle': 1, \n",
    "                'light rain': 2, \n",
    "                'moderate rain': 3, \n",
    "                'heavy rain': 4\n",
    "            }}\n",
    "        )\n",
    "\n",
    "    # ordinal variables\n",
    "    ord_pipe = Pipeline([\n",
    "        ('ordinal', ce.OrdinalEncoder(mapping=ordinal_cols_mapping))\n",
    "    ])\n",
    "\n",
    "    ord_enconder =  'ordinal', ord_pipe, ord_vars\n",
    "    \n",
    "    #################################################################################\n",
    "    \n",
    "    orig_vars = [var for var in predictors if var not in cat_vars and var not in num_vars and var not in ord_vars]\n",
    "    orig_enconder = 'pass_vars', 'passthrough', orig_vars\n",
    "     # ['temp_bin','rhum_bin']\n",
    "    # ord_pipe = 'passthrough'\n",
    "\n",
    "    transformers_list = []\n",
    "    transformers_list.append(cat_encoder) if cat_vars else None\n",
    "    transformers_list.append(ord_enconder) if ord_vars else None\n",
    "    transformers_list.append(num_enconder) if num_vars else None\n",
    "    # transformers_list.append(orig_enconder) if orig_vars else None\n",
    "    \n",
    "    return ColumnTransformer(transformers=transformers_list, \n",
    "                             remainder='drop')"
   ]
  },
  {
   "cell_type": "code",
   "execution_count": 18,
   "metadata": {},
   "outputs": [],
   "source": [
    "def plot_feature_importances(model, columns, X=X_val, y=y_val, plot_title='Feature Importances using permutation'):\n",
    "    #Plotting features importance\n",
    "\n",
    "    from sklearn.inspection import permutation_importance\n",
    "    \n",
    "    result = permutation_importance(\n",
    "        model, X[columns], y, n_repeats=10, random_state=42, n_jobs=2\n",
    "    )\n",
    "\n",
    "    feat_importances = pd.Series(result.importances_mean, index=columns)\n",
    "    feat_importances.sort_values(ascending=False, inplace=True)\n",
    "\n",
    "    fig = plt.figure(figsize=(15, 12))\n",
    "    sns.barplot(x=feat_importances.values, y=feat_importances.index, orient='h')\n",
    "    plt.title(plot_title)\n",
    "    locs, labels = plt.xticks()\n",
    "    plt.tick_params(axis='both', which='major', labelsize=12)\n",
    "\n",
    "    plt.show()"
   ]
  },
  {
   "cell_type": "markdown",
   "metadata": {},
   "source": [
    "## Models"
   ]
  },
  {
   "cell_type": "markdown",
   "metadata": {},
   "source": [
    "### Random Forest"
   ]
  },
  {
   "cell_type": "code",
   "execution_count": 19,
   "metadata": {},
   "outputs": [
    {
     "name": "stdout",
     "output_type": "stream",
     "text": [
      "--- New Idea added! ---\n",
      "ID#: 5605183056 \n",
      "Idea: Random Forest with all expected features \n",
      "Potential Outcome: To use as a baseline model with all features.\n",
      "\n"
     ]
    }
   ],
   "source": [
    "idea_rf = et.Idea(idea='Random Forest with all expected features', potential_outcome='To use as a baseline model with all features.')\n",
    "experiment_tracker.new_idea(idea_rf)"
   ]
  },
  {
   "cell_type": "code",
   "execution_count": 20,
   "metadata": {},
   "outputs": [
    {
     "name": "stdout",
     "output_type": "stream",
     "text": [
      "--- New Experiment added! ---\n",
      "ID#: 4607427440 \n",
      "Algorithm: Random Forest with all expected features \n",
      "Predictors: ['temp_r', 'rhum', 'holiday', 'dayofweek', 'timesofday', 'wind_speed_group', 'rainfall_intensity', 'peak', 'working_day']\n",
      "Hyperparameters: {'bootstrap': True, 'ccp_alpha': 0.0, 'criterion': 'squared_error', 'max_depth': 10, 'max_features': 'auto', 'max_leaf_nodes': None, 'max_samples': None, 'min_impurity_decrease': 0.0, 'min_samples_leaf': 1, 'min_samples_split': 2, 'min_weight_fraction_leaf': 0.0, 'n_estimators': 100, 'n_jobs': None, 'oob_score': False, 'random_state': 42, 'verbose': 0, 'warm_start': False}\n",
      "Date: 13/06/2022 23:18:11\n",
      "Metric: [{ 'metric': RSME, 'train': 2.2489,  'validation': 2.6988, 'test': None }, { 'metric': MAE, 'train': 1.6719,  'validation': 1.9974, 'test': None }]\n",
      "Notes: Added all predictors and using preprocessing\n"
     ]
    }
   ],
   "source": [
    "predictors = ['temp_r','rhum','holiday','dayofweek','timesofday','wind_speed_group','rainfall_intensity','peak','working_day']\n",
    "# random forest model\n",
    "params_rf = {'n_estimators': 100,\n",
    "             'max_depth': 10,\n",
    "             'random_state': 42}\n",
    "\n",
    "# Fit a pipeline with transformers and an estimator to the training data\n",
    "pipe_rf = Pipeline([\n",
    "    ('preprocessor', preprocessor(predictors)),\n",
    "    ('model', RandomForestRegressor(**params_rf, criterion='squared_error'))\n",
    "])\n",
    "\n",
    "# pipe_rf.fit(X_train[predictors], y_train)\n",
    "train_rsme, val_rsme, train_mae, val_mae = get_train_val_score(pipe_rf, predictors)\n",
    "exp_rf_regr = et.Experiment('Random Forest with all expected features', predictors=predictors, hyperparameters=pipe_rf['model'].get_params(),\n",
    "                               score=get_metrics_to_Experiment(), notes='Added all predictors and using preprocessing')\n",
    "experiment_tracker.add_experiment(exp_rf_regr)"
   ]
  },
  {
   "cell_type": "code",
   "execution_count": 21,
   "metadata": {},
   "outputs": [
    {
     "data": {
      "image/png": "[encoded data removed]",
      "text/plain": [
       "<Figure size 1080x864 with 1 Axes>"
      ]
     },
     "metadata": {
      "needs_background": "light"
     },
     "output_type": "display_data"
    }
   ],
   "source": [
    "plot_feature_importances(model=pipe_rf, columns=predictors,plot_title='Random Forest Feature Importances')"
   ]
  },
  {
   "cell_type": "code",
   "execution_count": 22,
   "metadata": {},
   "outputs": [
    {
     "name": "stdout",
     "output_type": "stream",
     "text": [
      "--- Idea updated! ---\n",
      "ID#: 5605183056 \n",
      "Idea: Random Forest with all expected features \n",
      "Potential Outcome: To use as a baseline model with all features.\n",
      "Learnings: Random Forest model with all features has decrease RSME and particularly in validation metrics.\n"
     ]
    }
   ],
   "source": [
    "learnings = \\\n",
    "\"\"\"Random Forest model with all features has decrease RSME and particularly in validation metrics.\"\"\"\n",
    "experiment_tracker.update_idea(idea_rf, learnings=str.strip(learnings))"
   ]
  },
  {
   "cell_type": "code",
   "execution_count": 23,
   "metadata": {},
   "outputs": [
    {
     "name": "stdout",
     "output_type": "stream",
     "text": [
      "--- New Idea added! ---\n",
      "ID#: 5606353216 \n",
      "Idea: Random Forest with all features as categorical \n",
      "Potential Outcome: Changing temp and hum to categorical variables it will improve the model    specifically the prediction with boosting trees.\n",
      "\n"
     ]
    }
   ],
   "source": [
    "idea_rf_cat = et.Idea(idea='Random Forest with all features as categorical', potential_outcome='Changing temp and hum to categorical variables it will improve the model\\\n",
    "    specifically the prediction with boosting trees.')\n",
    "experiment_tracker.new_idea(idea_rf_cat)"
   ]
  },
  {
   "cell_type": "code",
   "execution_count": 24,
   "metadata": {},
   "outputs": [
    {
     "name": "stdout",
     "output_type": "stream",
     "text": [
      "--- New Experiment added! ---\n",
      "ID#: 4607420448 \n",
      "Algorithm: Random Forest (all categoricals) \n",
      "Predictors: ['temp_bin', 'rhum_bin', 'holiday', 'dayofweek', 'timesofday', 'wind_speed_group', 'rainfall_intensity', 'peak', 'working_day']\n",
      "Hyperparameters: {'bootstrap': True, 'ccp_alpha': 0.0, 'criterion': 'squared_error', 'max_depth': 20, 'max_features': 'auto', 'max_leaf_nodes': None, 'max_samples': None, 'min_impurity_decrease': 0.0, 'min_samples_leaf': 1, 'min_samples_split': 5, 'min_weight_fraction_leaf': 0.0, 'n_estimators': 100, 'n_jobs': -1, 'oob_score': False, 'random_state': 0, 'verbose': 0, 'warm_start': False}\n",
      "Date: 13/06/2022 23:18:26\n",
      "Metric: [{ 'metric': RSME, 'train': 2.8120,  'validation': 2.8469, 'test': None }, { 'metric': MAE, 'train': 2.0633,  'validation': 2.1236, 'test': None }]\n",
      "Notes: Added all predictors and using preprocessing\n"
     ]
    }
   ],
   "source": [
    "predictors = ['temp_bin','rhum_bin','holiday','dayofweek','timesofday','wind_speed_group','rainfall_intensity','peak','working_day']\n",
    "# random forest model\n",
    "params_rf = {'n_estimators': 100, \n",
    "             'max_depth': 20, \n",
    "             'random_state': 0, \n",
    "             'min_samples_split' : 5,\n",
    "             'n_jobs': -1}\n",
    "\n",
    "# Fit a pipeline with transformers and an estimator to the training data\n",
    "pipe_rf = Pipeline([\n",
    "    ('preprocessor', preprocessor(predictors)),\n",
    "    ('model', RandomForestRegressor(**params_rf, criterion='squared_error'))\n",
    "])\n",
    "\n",
    "train_rsme, val_rsme, train_mae, val_mae = get_train_val_score(pipe_rf, predictors)\n",
    "exp_rf_regr = et.Experiment('Random Forest (all categoricals)', predictors=predictors, hyperparameters=pipe_rf['model'].get_params(),\n",
    "                               score=get_metrics_to_Experiment(), notes='Added all predictors and using preprocessing')\n",
    "experiment_tracker.add_experiment(exp_rf_regr)"
   ]
  },
  {
   "cell_type": "code",
   "execution_count": 25,
   "metadata": {},
   "outputs": [
    {
     "data": {
      "image/png": "[encoded data removed]",
      "text/plain": [
       "<Figure size 1080x864 with 1 Axes>"
      ]
     },
     "metadata": {
      "needs_background": "light"
     },
     "output_type": "display_data"
    }
   ],
   "source": [
    "plot_feature_importances(model=pipe_rf, columns=predictors,plot_title='Random Forest Feature Importances')"
   ]
  },
  {
   "cell_type": "code",
   "execution_count": 26,
   "metadata": {},
   "outputs": [
    {
     "name": "stdout",
     "output_type": "stream",
     "text": [
      "--- Idea updated! ---\n",
      "ID#: 5606353216 \n",
      "Idea: Random Forest with all features as categorical \n",
      "Potential Outcome: Changing temp and hum to categorical variables it will improve the model    specifically the prediction with boosting trees.\n",
      "Learnings: Changing temp and hum into categorical variables did not improve the model. The expected improvement is for boosting models.\n"
     ]
    }
   ],
   "source": [
    "learnings = \\\n",
    "\"\"\"Changing temp and hum into categorical variables did not improve the model. The expected improvement is for boosting models.\"\"\"\n",
    "experiment_tracker.update_idea(idea_rf_cat, learnings=str.strip(learnings))"
   ]
  },
  {
   "cell_type": "code",
   "execution_count": 27,
   "metadata": {},
   "outputs": [],
   "source": [
    "# from IPython.display import display\n",
    "# from sklearn import set_config\n",
    "# set_config(display='diagram')\n",
    "# display(pipe_rf)"
   ]
  },
  {
   "cell_type": "markdown",
   "metadata": {},
   "source": [
    "## Catboost"
   ]
  },
  {
   "cell_type": "code",
   "execution_count": 28,
   "metadata": {},
   "outputs": [
    {
     "name": "stdout",
     "output_type": "stream",
     "text": [
      "--- New Idea added! ---\n",
      "ID#: 5606975808 \n",
      "Idea: Catboost \n",
      "Potential Outcome: Using all features as categorical variables it will perform better using boosting trees.\n",
      "\n"
     ]
    }
   ],
   "source": [
    "idea_catboost = et.Idea(idea='Catboost', potential_outcome='Using all features as categorical variables it will perform better using boosting trees.')\n",
    "experiment_tracker.new_idea(idea_catboost)"
   ]
  },
  {
   "cell_type": "code",
   "execution_count": 29,
   "metadata": {},
   "outputs": [
    {
     "name": "stdout",
     "output_type": "stream",
     "text": [
      "Learning rate set to 0.310166\n",
      "0:\tlearn: 3.3033477\ttotal: 81.5ms\tremaining: 8.07s\n",
      "25:\tlearn: 2.8658136\ttotal: 172ms\tremaining: 490ms\n",
      "50:\tlearn: 2.8378897\ttotal: 262ms\tremaining: 251ms\n",
      "75:\tlearn: 2.8284177\ttotal: 347ms\tremaining: 110ms\n",
      "99:\tlearn: 2.8218040\ttotal: 440ms\tremaining: 0us\n",
      "--- New Experiment added! ---\n",
      "ID#: 5607197280 \n",
      "Algorithm: Catboost model \n",
      "Predictors: ['temp_bin', 'rhum_bin', 'holiday', 'dayofweek', 'timesofday', 'wind_speed_group', 'rainfall_intensity', 'peak', 'working_day']\n",
      "Hyperparameters: {'loss_function': 'RMSE', 'verbose': 25, 'n_estimators': 100, 'random_state': 42}\n",
      "Date: 13/06/2022 23:18:34\n",
      "Metric: [{ 'metric': RSME, 'train': 2.8218,  'validation': 2.8131, 'test': None }, { 'metric': MAE, 'train': 2.0737,  'validation': 2.1020, 'test': None }]\n",
      "Notes: Added all categoricals features to use Catboost model.\n"
     ]
    }
   ],
   "source": [
    "predictors = ['temp_bin','rhum_bin','holiday','dayofweek','timesofday','wind_speed_group','rainfall_intensity','peak','working_day']\n",
    "# random forest model\n",
    "params_catboost = {'n_estimators': 100,\n",
    "                   'random_state': 42,\n",
    "                   'loss_function': 'RMSE',\n",
    "                   'verbose': 25}\n",
    "\n",
    "# Fit a pipeline with transformers and an estimator to the training data\n",
    "pipe_catboost = Pipeline([\n",
    "    ('preprocessor', preprocessor(predictors)),\n",
    "    ('model', CatBoostRegressor(**params_catboost))\n",
    "])\n",
    "\n",
    "# fitparams_catboost = {'model__eval_set': (X_val[predictors], y_val)}\n",
    "# pipe_catboost.named_steps.model.set_params(eval_set=(X_val, y_val))\n",
    "\n",
    "train_rsme, val_rsme, train_mae, val_mae = get_train_val_score(pipe_catboost, predictors)\n",
    "exp_catboost_regr = et.Experiment('Catboost model', predictors=predictors, hyperparameters=pipe_catboost['model'].get_params(),\n",
    "                               score=get_metrics_to_Experiment(), notes='Added all categoricals features to use Catboost model.')\n",
    "experiment_tracker.add_experiment(exp_catboost_regr)"
   ]
  },
  {
   "cell_type": "code",
   "execution_count": 30,
   "metadata": {},
   "outputs": [
    {
     "data": {
      "image/png": "[encoded data removed]",
      "text/plain": [
       "<Figure size 1080x864 with 1 Axes>"
      ]
     },
     "metadata": {
      "needs_background": "light"
     },
     "output_type": "display_data"
    }
   ],
   "source": [
    "plot_feature_importances(model=pipe_catboost, columns=predictors,plot_title='Catboost Feature Importances')"
   ]
  },
  {
   "cell_type": "code",
   "execution_count": 31,
   "metadata": {},
   "outputs": [
    {
     "name": "stdout",
     "output_type": "stream",
     "text": [
      "--- Idea updated! ---\n",
      "ID#: 5606975808 \n",
      "Idea: Catboost \n",
      "Potential Outcome: Using all features as categorical variables it will perform better using boosting trees.\n",
      "Learnings: Catboost model improved RSME compared to Random Forest (all cat vars) but not as good as Random Forest (temp/hum as numerical feat).\n"
     ]
    }
   ],
   "source": [
    "learnings = \\\n",
    "\"\"\"Catboost model improved RSME compared to Random Forest (all cat vars) but not as good as Random Forest (temp/hum as numerical feat).\"\"\"\n",
    "experiment_tracker.update_idea(idea_catboost, learnings=str.strip(learnings))"
   ]
  },
  {
   "cell_type": "markdown",
   "metadata": {},
   "source": [
    "## Support Vector Regression"
   ]
  },
  {
   "cell_type": "code",
   "execution_count": 32,
   "metadata": {},
   "outputs": [
    {
     "name": "stdout",
     "output_type": "stream",
     "text": [
      "--- New Idea added! ---\n",
      "ID#: 5607631168 \n",
      "Idea: SVM Regressor \n",
      "Potential Outcome: SVM Regressor can be a good model for this dataset as it is a linear model and extrapolates well.\n",
      "\n"
     ]
    }
   ],
   "source": [
    "idea_svr = et.Idea(idea='SVM Regressor', potential_outcome='SVM Regressor can be a good model for this dataset as it is a linear model and extrapolates well.')\n",
    "experiment_tracker.new_idea(idea_svr)"
   ]
  },
  {
   "cell_type": "code",
   "execution_count": 33,
   "metadata": {},
   "outputs": [
    {
     "name": "stdout",
     "output_type": "stream",
     "text": [
      "--- New Experiment added! ---\n",
      "ID#: 5608249664 \n",
      "Algorithm: Support Vector Regression \n",
      "Predictors: ['temp_bin', 'rhum_bin', 'holiday', 'dayofweek', 'timesofday', 'wind_speed_group', 'rainfall_intensity', 'peak', 'working_day']\n",
      "Hyperparameters: {'C': 100, 'cache_size': 200, 'coef0': 0.0, 'degree': 5, 'epsilon': 0.1, 'gamma': 'scale', 'kernel': 'poly', 'max_iter': -1, 'shrinking': True, 'tol': 0.001, 'verbose': False}\n",
      "Date: 13/06/2022 23:23:01\n",
      "Metric: [{ 'metric': RSME, 'train': 2.8928,  'validation': 2.9978, 'test': None }, { 'metric': MAE, 'train': 1.9561,  'validation': 2.0964, 'test': None }]\n",
      "\n"
     ]
    }
   ],
   "source": [
    "from sklearn.svm import SVR\n",
    "\n",
    "predictors = ['temp_bin','rhum_bin','holiday','dayofweek','timesofday','wind_speed_group','rainfall_intensity','peak','working_day']\n",
    "\n",
    "params_svr = {'kernel': 'poly',\n",
    "              'degree': 5,\n",
    "              'gamma': 'scale',\n",
    "              'C': 100\n",
    "              }\n",
    "# Fit a pipeline with transformers and an estimator to the training data\n",
    "pipe_svr = Pipeline([\n",
    "    ('preprocessor', preprocessor(predictors)),\n",
    "    ('model', SVR(**params_svr))\n",
    "])\n",
    "train_rsme, val_rsme, train_mae, val_mae = get_train_val_score(pipe_svr, predictors)\n",
    "exp_svr= et.Experiment('Support Vector Regression', predictors=predictors, hyperparameters=pipe_svr['model'].get_params(),\n",
    "                               score=get_metrics_to_Experiment(), notes='')\n",
    "experiment_tracker.add_experiment(exp_svr)"
   ]
  },
  {
   "cell_type": "code",
   "execution_count": 34,
   "metadata": {},
   "outputs": [
    {
     "data": {
      "image/png": "[encoded data removed]",
      "text/plain": [
       "<Figure size 1080x864 with 1 Axes>"
      ]
     },
     "metadata": {
      "needs_background": "light"
     },
     "output_type": "display_data"
    }
   ],
   "source": [
    "plot_feature_importances(model=pipe_svr, columns=predictors,plot_title='SVM Regressor Feature Importances')"
   ]
  },
  {
   "cell_type": "code",
   "execution_count": 35,
   "metadata": {},
   "outputs": [
    {
     "name": "stdout",
     "output_type": "stream",
     "text": [
      "--- Idea updated! ---\n",
      "ID#: 5607631168 \n",
      "Idea: SVM Regressor \n",
      "Potential Outcome: SVM Regressor can be a good model for this dataset as it is a linear model and extrapolates well.\n",
      "Learnings: SVM Regressor did not improve the model. Also a few features that it does not seem important on all models, now are, for example Working Day.\n",
      "This model will be discarded as it is not a good model for this dataset.\n"
     ]
    }
   ],
   "source": [
    "learnings = \\\n",
    "\"\"\"SVM Regressor did not improve the model. Also a few features that it does not seem important on all models, now are, for example Working Day.\n",
    "This model will be discarded as it is not a good model for this dataset.\"\"\"\n",
    "experiment_tracker.update_idea(idea_svr, learnings=str.strip(learnings))"
   ]
  },
  {
   "cell_type": "markdown",
   "metadata": {},
   "source": [
    "## LightGBM"
   ]
  },
  {
   "cell_type": "code",
   "execution_count": 36,
   "metadata": {},
   "outputs": [
    {
     "name": "stdout",
     "output_type": "stream",
     "text": [
      "--- New Idea added! ---\n",
      "ID#: 5608390080 \n",
      "Idea: LightGBM \n",
      "Potential Outcome: Another boosting tree but lighter and known to be more accurate than Catboost.\n",
      "\n"
     ]
    }
   ],
   "source": [
    "idea_gbm = et.Idea(idea='LightGBM', potential_outcome='Another boosting tree but lighter and known to be more accurate than Catboost.')\n",
    "experiment_tracker.new_idea(idea_gbm)"
   ]
  },
  {
   "cell_type": "code",
   "execution_count": 37,
   "metadata": {},
   "outputs": [
    {
     "name": "stdout",
     "output_type": "stream",
     "text": [
      "[LightGBM] [Debug] Dataset::GetMultiBinFromSparseFeatures: sparse rate 0.850815\n",
      "[LightGBM] [Debug] Dataset::GetMultiBinFromAllFeatures: sparse rate 0.512575\n",
      "[LightGBM] [Debug] init for col-wise cost 0.012040 seconds, init for row-wise cost 0.002472 seconds\n",
      "[LightGBM] [Warning] Auto-choosing row-wise multi-threading, the overhead of testing was 0.012359 seconds.\n",
      "You can set `force_row_wise=true` to remove the overhead.\n",
      "And if memory is not enough, you can set `force_col_wise=true`.\n",
      "[LightGBM] [Debug] Using Sparse Multi-Val Bin\n",
      "[LightGBM] [Info] Total Bins 44\n",
      "[LightGBM] [Info] Number of data points in the train set: 6132, number of used features: 19\n",
      "[LightGBM] [Info] Start training from score 3.778702\n",
      "[LightGBM] [Debug] Trained a tree with leaves = 31 and depth = 8\n",
      "[LightGBM] [Debug] Trained a tree with leaves = 31 and depth = 9\n",
      "[LightGBM] [Debug] Trained a tree with leaves = 31 and depth = 8\n",
      "[LightGBM] [Debug] Trained a tree with leaves = 31 and depth = 10\n",
      "[LightGBM] [Debug] Trained a tree with leaves = 31 and depth = 10\n",
      "[LightGBM] [Debug] Trained a tree with leaves = 31 and depth = 10\n",
      "[LightGBM] [Debug] Trained a tree with leaves = 31 and depth = 9\n",
      "[LightGBM] [Debug] Trained a tree with leaves = 31 and depth = 9\n",
      "[LightGBM] [Debug] Trained a tree with leaves = 31 and depth = 10\n",
      "[LightGBM] [Debug] Trained a tree with leaves = 31 and depth = 8\n",
      "[LightGBM] [Debug] Trained a tree with leaves = 31 and depth = 9\n",
      "[LightGBM] [Debug] Trained a tree with leaves = 31 and depth = 10\n",
      "[LightGBM] [Debug] Trained a tree with leaves = 31 and depth = 10\n",
      "[LightGBM] [Debug] Trained a tree with leaves = 31 and depth = 11\n",
      "[LightGBM] [Debug] Trained a tree with leaves = 31 and depth = 10\n",
      "[LightGBM] [Debug] Trained a tree with leaves = 31 and depth = 10\n",
      "[LightGBM] [Debug] Trained a tree with leaves = 31 and depth = 11\n",
      "[LightGBM] [Debug] Trained a tree with leaves = 31 and depth = 10\n",
      "[LightGBM] [Debug] Trained a tree with leaves = 31 and depth = 10\n",
      "[LightGBM] [Debug] Trained a tree with leaves = 31 and depth = 10\n",
      "[LightGBM] [Debug] Trained a tree with leaves = 31 and depth = 10\n",
      "[LightGBM] [Debug] Trained a tree with leaves = 31 and depth = 11\n",
      "[LightGBM] [Debug] Trained a tree with leaves = 31 and depth = 10\n",
      "[LightGBM] [Debug] Trained a tree with leaves = 31 and depth = 9\n",
      "[LightGBM] [Debug] Trained a tree with leaves = 31 and depth = 13\n",
      "[LightGBM] [Debug] Trained a tree with leaves = 31 and depth = 11\n",
      "[LightGBM] [Debug] Trained a tree with leaves = 31 and depth = 8\n",
      "[LightGBM] [Debug] Trained a tree with leaves = 31 and depth = 11\n",
      "[LightGBM] [Debug] Trained a tree with leaves = 31 and depth = 10\n",
      "[LightGBM] [Debug] Trained a tree with leaves = 31 and depth = 9\n",
      "[LightGBM] [Debug] Trained a tree with leaves = 31 and depth = 11\n",
      "[LightGBM] [Debug] Trained a tree with leaves = 31 and depth = 13\n",
      "[LightGBM] [Debug] Trained a tree with leaves = 31 and depth = 10\n",
      "[LightGBM] [Debug] Trained a tree with leaves = 31 and depth = 11\n",
      "[LightGBM] [Debug] Trained a tree with leaves = 31 and depth = 10\n",
      "[LightGBM] [Debug] Trained a tree with leaves = 31 and depth = 12\n",
      "[LightGBM] [Debug] Trained a tree with leaves = 31 and depth = 10\n",
      "[LightGBM] [Debug] Trained a tree with leaves = 31 and depth = 10\n",
      "[LightGBM] [Debug] Trained a tree with leaves = 31 and depth = 10\n",
      "[LightGBM] [Debug] Trained a tree with leaves = 31 and depth = 11\n",
      "[LightGBM] [Debug] Trained a tree with leaves = 31 and depth = 12\n",
      "[LightGBM] [Debug] Trained a tree with leaves = 31 and depth = 9\n",
      "[LightGBM] [Debug] Trained a tree with leaves = 31 and depth = 9\n",
      "[LightGBM] [Debug] Trained a tree with leaves = 31 and depth = 14\n",
      "[LightGBM] [Debug] Trained a tree with leaves = 31 and depth = 13\n",
      "[LightGBM] [Debug] Trained a tree with leaves = 31 and depth = 10\n",
      "[LightGBM] [Debug] Trained a tree with leaves = 31 and depth = 8\n",
      "[LightGBM] [Debug] Trained a tree with leaves = 31 and depth = 9\n",
      "[LightGBM] [Debug] Trained a tree with leaves = 31 and depth = 11\n",
      "[LightGBM] [Debug] Trained a tree with leaves = 31 and depth = 10\n",
      "[LightGBM] [Debug] Trained a tree with leaves = 31 and depth = 9\n",
      "[LightGBM] [Debug] Trained a tree with leaves = 31 and depth = 10\n",
      "[LightGBM] [Debug] Trained a tree with leaves = 31 and depth = 11\n",
      "[LightGBM] [Debug] Trained a tree with leaves = 31 and depth = 8\n",
      "[LightGBM] [Debug] Trained a tree with leaves = 31 and depth = 13\n",
      "[LightGBM] [Debug] Trained a tree with leaves = 31 and depth = 9\n",
      "[LightGBM] [Debug] Trained a tree with leaves = 31 and depth = 12\n",
      "[LightGBM] [Debug] Trained a tree with leaves = 31 and depth = 12\n",
      "[LightGBM] [Debug] Trained a tree with leaves = 31 and depth = 11\n",
      "[LightGBM] [Debug] Trained a tree with leaves = 31 and depth = 13\n",
      "[LightGBM] [Debug] Trained a tree with leaves = 31 and depth = 9\n",
      "[LightGBM] [Debug] Trained a tree with leaves = 31 and depth = 11\n",
      "[LightGBM] [Debug] Trained a tree with leaves = 31 and depth = 9\n",
      "[LightGBM] [Debug] Trained a tree with leaves = 31 and depth = 12\n",
      "[LightGBM] [Debug] Trained a tree with leaves = 31 and depth = 11\n",
      "[LightGBM] [Debug] Trained a tree with leaves = 31 and depth = 9\n",
      "[LightGBM] [Debug] Trained a tree with leaves = 31 and depth = 9\n",
      "[LightGBM] [Debug] Trained a tree with leaves = 31 and depth = 11\n",
      "[LightGBM] [Debug] Trained a tree with leaves = 31 and depth = 9\n",
      "[LightGBM] [Debug] Trained a tree with leaves = 31 and depth = 9\n",
      "[LightGBM] [Debug] Trained a tree with leaves = 31 and depth = 10\n",
      "[LightGBM] [Debug] Trained a tree with leaves = 31 and depth = 10\n",
      "[LightGBM] [Debug] Trained a tree with leaves = 31 and depth = 12\n",
      "[LightGBM] [Debug] Trained a tree with leaves = 31 and depth = 9\n",
      "[LightGBM] [Debug] Trained a tree with leaves = 31 and depth = 9\n",
      "[LightGBM] [Debug] Trained a tree with leaves = 31 and depth = 9\n",
      "[LightGBM] [Debug] Trained a tree with leaves = 31 and depth = 11\n",
      "[LightGBM] [Debug] Trained a tree with leaves = 31 and depth = 11\n",
      "[LightGBM] [Debug] Trained a tree with leaves = 31 and depth = 9\n",
      "[LightGBM] [Debug] Trained a tree with leaves = 31 and depth = 13\n",
      "[LightGBM] [Debug] Trained a tree with leaves = 31 and depth = 10\n",
      "[LightGBM] [Debug] Trained a tree with leaves = 31 and depth = 13\n",
      "[LightGBM] [Debug] Trained a tree with leaves = 31 and depth = 13\n",
      "[LightGBM] [Debug] Trained a tree with leaves = 31 and depth = 10\n",
      "[LightGBM] [Debug] Trained a tree with leaves = 31 and depth = 11\n",
      "[LightGBM] [Debug] Trained a tree with leaves = 31 and depth = 9\n",
      "[LightGBM] [Debug] Trained a tree with leaves = 31 and depth = 8\n",
      "[LightGBM] [Debug] Trained a tree with leaves = 31 and depth = 8\n",
      "[LightGBM] [Debug] Trained a tree with leaves = 31 and depth = 9\n",
      "[LightGBM] [Debug] Trained a tree with leaves = 31 and depth = 8\n",
      "[LightGBM] [Debug] Trained a tree with leaves = 31 and depth = 9\n",
      "[LightGBM] [Debug] Trained a tree with leaves = 31 and depth = 9\n",
      "[LightGBM] [Debug] Trained a tree with leaves = 31 and depth = 9\n",
      "[LightGBM] [Debug] Trained a tree with leaves = 31 and depth = 9\n",
      "[LightGBM] [Debug] Trained a tree with leaves = 31 and depth = 12\n",
      "[LightGBM] [Debug] Trained a tree with leaves = 31 and depth = 11\n",
      "[LightGBM] [Debug] Trained a tree with leaves = 31 and depth = 11\n",
      "[LightGBM] [Debug] Trained a tree with leaves = 31 and depth = 8\n",
      "[LightGBM] [Debug] Trained a tree with leaves = 31 and depth = 9\n",
      "[LightGBM] [Debug] Trained a tree with leaves = 31 and depth = 9\n",
      "--- New Experiment added! ---\n",
      "ID#: 5608832832 \n",
      "Algorithm: LightGBM \n",
      "Predictors: ['temp_bin', 'rhum_bin', 'holiday', 'dayofweek', 'timesofday', 'wind_speed_group', 'rainfall_intensity', 'peak', 'working_day']\n",
      "Hyperparameters: {'boosting_type': 'gbdt', 'class_weight': None, 'colsample_bytree': 1.0, 'importance_type': 'split', 'learning_rate': 0.1, 'max_depth': -1, 'min_child_samples': 20, 'min_child_weight': 0.001, 'min_split_gain': 0.0, 'n_estimators': 100, 'n_jobs': -1, 'num_leaves': 31, 'objective': None, 'random_state': 42, 'reg_alpha': 0.0, 'reg_lambda': 0.0, 'silent': True, 'subsample': 1.0, 'subsample_for_bin': 200000, 'subsample_freq': 0, 'metric': 'rmse', 'verbose': 25}\n",
      "Date: 13/06/2022 23:24:26\n",
      "Metric: [{ 'metric': RSME, 'train': 2.8429,  'validation': 2.8163, 'test': None }, { 'metric': MAE, 'train': 2.0996,  'validation': 2.1035, 'test': None }]\n",
      "\n"
     ]
    }
   ],
   "source": [
    "predictors = ['temp_bin','rhum_bin','holiday','dayofweek','timesofday','wind_speed_group','rainfall_intensity','peak','working_day']\n",
    "\n",
    "# LightGBM model\n",
    "params_lightgbm = {'n_estimators': 100,\n",
    "                   'random_state': 42,\n",
    "                   'metric': 'rmse',\n",
    "                   'verbose': 25\n",
    "                   }\n",
    "\n",
    "# Fit a pipeline with transformers and an estimator to the training data\n",
    "pipe_lightgbm = Pipeline([\n",
    "    ('preprocessor', preprocessor(predictors)),\n",
    "    ('model', LGBMRegressor(**params_lightgbm))\n",
    "])\n",
    "train_rsme, val_rsme, train_mae, val_mae = get_train_val_score(pipe_lightgbm, predictors)\n",
    "exp_lightgbm = et.Experiment('LightGBM', predictors=predictors, hyperparameters=pipe_lightgbm['model'].get_params(),\n",
    "                               score=get_metrics_to_Experiment(), notes='')\n",
    "experiment_tracker.add_experiment(exp_lightgbm)"
   ]
  },
  {
   "cell_type": "code",
   "execution_count": 38,
   "metadata": {},
   "outputs": [
    {
     "data": {
      "image/png": "[encoded data removed]",
      "text/plain": [
       "<Figure size 1080x864 with 1 Axes>"
      ]
     },
     "metadata": {
      "needs_background": "light"
     },
     "output_type": "display_data"
    }
   ],
   "source": [
    "plot_feature_importances(model=pipe_lightgbm, columns=predictors,plot_title='LightGBM Feature Importances')"
   ]
  },
  {
   "cell_type": "code",
   "execution_count": 39,
   "metadata": {},
   "outputs": [
    {
     "name": "stdout",
     "output_type": "stream",
     "text": [
      "--- Idea updated! ---\n",
      "ID#: 5608390080 \n",
      "Idea: LightGBM \n",
      "Potential Outcome: Another boosting tree but lighter and known to be more accurate than Catboost.\n",
      "Learnings: LightGBM model did improve the model on Validation set. The gap between the validation and training set is not large as other models.\n"
     ]
    }
   ],
   "source": [
    "learnings = \\\n",
    "\"\"\"LightGBM model did improve the model on Validation set. The gap between the validation and training set is not large as other models.\"\"\"\n",
    "experiment_tracker.update_idea(idea_gbm, learnings=str.strip(learnings))"
   ]
  },
  {
   "cell_type": "code",
   "execution_count": 40,
   "metadata": {},
   "outputs": [
    {
     "name": "stdout",
     "output_type": "stream",
     "text": [
      "--- Experiments ---\n",
      "\n",
      "Model: Dummy Regressor\n",
      "RSME - Train: 3.6138 - Validation: 3.5840 - Test: None\n",
      "MAE - Train: 2.8752 - Validation: 2.9037 - Test: None\n",
      "\n",
      "Model: Linear Regression\n",
      "RSME - Train: 3.0883 - Validation: 3.0929 - Test: None\n",
      "MAE - Train: 2.3738 - Validation: 2.4021 - Test: None\n",
      "\n",
      "Model: Random Forest (only weather features)\n",
      "RSME - Train: 2.5369 - Validation: 3.0795 - Test: None\n",
      "MAE - Train: 1.9659 - Validation: 2.3863 - Test: None\n",
      "\n",
      "Model: Random Forest with all expected features\n",
      "RSME - Train: 2.2489 - Validation: 2.6988 - Test: None\n",
      "MAE - Train: 1.6719 - Validation: 1.9974 - Test: None\n",
      "\n",
      "Model: Random Forest (all categoricals)\n",
      "RSME - Train: 2.8120 - Validation: 2.8469 - Test: None\n",
      "MAE - Train: 2.0633 - Validation: 2.1236 - Test: None\n",
      "\n",
      "Model: Catboost model\n",
      "RSME - Train: 2.8218 - Validation: 2.8131 - Test: None\n",
      "MAE - Train: 2.0737 - Validation: 2.1020 - Test: None\n",
      "\n",
      "Model: Support Vector Regression\n",
      "RSME - Train: 2.8928 - Validation: 2.9978 - Test: None\n",
      "MAE - Train: 1.9561 - Validation: 2.0964 - Test: None\n",
      "\n",
      "Model: LightGBM\n",
      "RSME - Train: 2.8429 - Validation: 2.8163 - Test: None\n",
      "MAE - Train: 2.0996 - Validation: 2.1035 - Test: None\n"
     ]
    }
   ],
   "source": [
    "experiment_tracker.print_partial_results()\n",
    "# experiment_tracker.print_partial_results(filter_metric='rsme')"
   ]
  },
  {
   "cell_type": "code",
   "execution_count": 41,
   "metadata": {},
   "outputs": [
    {
     "name": "stdout",
     "output_type": "stream",
     "text": [
      "--- New Idea added! ---\n",
      "ID#: 5608978080 \n",
      "Idea: Random Forest (wind speed numerical + estimators increased) \n",
      "Potential Outcome: Because temperature and humidity as numerical variables is better to RF, changing wind speed will increase model's performance.\n",
      "\n"
     ]
    }
   ],
   "source": [
    "idea_rf_1 = et.Idea(idea='Random Forest (wind speed numerical + estimators increased)', potential_outcome=\"Because temperature and humidity as numerical variables is better to RF, changing wind speed will increase model's performance.\")\n",
    "experiment_tracker.new_idea(idea_rf_1)"
   ]
  },
  {
   "cell_type": "code",
   "execution_count": 42,
   "metadata": {},
   "outputs": [
    {
     "name": "stdout",
     "output_type": "stream",
     "text": [
      "--- New Experiment added! ---\n",
      "ID#: 5609545296 \n",
      "Algorithm: Random Forest (wdsp + n_estimator = 500) \n",
      "Predictors: ['temp_r', 'rhum', 'holiday', 'dayofweek', 'timesofday', 'wind_speed_group', 'rainfall_intensity', 'peak', 'working_day']\n",
      "Hyperparameters: {'bootstrap': True, 'ccp_alpha': 0.0, 'criterion': 'squared_error', 'max_depth': 10, 'max_features': 'auto', 'max_leaf_nodes': None, 'max_samples': None, 'min_impurity_decrease': 0.0, 'min_samples_leaf': 1, 'min_samples_split': 2, 'min_weight_fraction_leaf': 0.0, 'n_estimators': 500, 'n_jobs': None, 'oob_score': False, 'random_state': 42, 'verbose': 0, 'warm_start': False}\n",
      "Date: 13/06/2022 23:24:39\n",
      "Metric: [{ 'metric': RSME, 'train': 2.2459,  'validation': 2.6962, 'test': None }, { 'metric': MAE, 'train': 1.6705,  'validation': 1.9971, 'test': None }]\n",
      "Notes: Changed wind speed group to numerical feature and increased n_estimators to 500.\n"
     ]
    }
   ],
   "source": [
    "predictors = ['temp_r','rhum','holiday','dayofweek','timesofday','wind_speed_group','rainfall_intensity','peak','working_day']\n",
    "\n",
    "params_rf_1 = {'n_estimators': 500,\n",
    "             'max_depth': 10,\n",
    "             'random_state': 42}\n",
    "\n",
    "pipe_rf_1 = Pipeline([\n",
    "    ('preprocessor', preprocessor(predictors)),\n",
    "    ('model', RandomForestRegressor(**params_rf_1, criterion='squared_error'))\n",
    "])\n",
    "train_rsme, val_rsme, train_mae, val_mae = get_train_val_score(pipe_rf_1, predictors)\n",
    "exp_rf_regr_1 = et.Experiment('Random Forest (wdsp + n_estimator = 500)', predictors=predictors, hyperparameters=pipe_rf_1['model'].get_params(),\n",
    "                               score=get_metrics_to_Experiment(), notes='Changed wind speed group to numerical feature and increased n_estimators to 500.')\n",
    "experiment_tracker.add_experiment(exp_rf_regr_1)"
   ]
  },
  {
   "cell_type": "code",
   "execution_count": 43,
   "metadata": {},
   "outputs": [
    {
     "name": "stdout",
     "output_type": "stream",
     "text": [
      "--- New Idea added! ---\n",
      "ID#: 5609655552 \n",
      "Idea: Random Forest (+ hour) \n",
      "Potential Outcome: Adding hour to the model will increase the model's performance because timesofday (time feature) is a good predictor.\n",
      "\n"
     ]
    }
   ],
   "source": [
    "idea_rf_2 = et.Idea(idea='Random Forest (+ hour)', potential_outcome=\"Adding hour to the model will increase the model's performance because timesofday (time feature) is a good predictor.\")\n",
    "experiment_tracker.new_idea(idea_rf_2)"
   ]
  },
  {
   "cell_type": "code",
   "execution_count": 44,
   "metadata": {},
   "outputs": [
    {
     "name": "stdout",
     "output_type": "stream",
     "text": [
      "--- New Experiment added! ---\n",
      "ID#: 5608389312 \n",
      "Algorithm: Random Forest (+ hour) \n",
      "Predictors: ['temp_r', 'rhum', 'holiday', 'dayofweek', 'timesofday', 'wind_speed_group', 'rainfall_intensity', 'peak', 'working_day', 'hour']\n",
      "Hyperparameters: {'bootstrap': True, 'ccp_alpha': 0.0, 'criterion': 'squared_error', 'max_depth': 10, 'max_features': 'auto', 'max_leaf_nodes': None, 'max_samples': None, 'min_impurity_decrease': 0.0, 'min_samples_leaf': 1, 'min_samples_split': 2, 'min_weight_fraction_leaf': 0.0, 'n_estimators': 500, 'n_jobs': None, 'oob_score': False, 'random_state': 42, 'verbose': 0, 'warm_start': False}\n",
      "Date: 13/06/2022 23:24:58\n",
      "Metric: [{ 'metric': RSME, 'train': 2.2166,  'validation': 2.6178, 'test': None }, { 'metric': MAE, 'train': 1.6162,  'validation': 1.9108, 'test': None }]\n",
      "Notes: Added hour to the model\n"
     ]
    }
   ],
   "source": [
    "predictors = ['temp_r','rhum','holiday','dayofweek','timesofday','wind_speed_group','rainfall_intensity','peak','working_day', 'hour']\n",
    "\n",
    "params_rf_2 = {'n_estimators': 500,\n",
    "             'max_depth': 10,\n",
    "             'random_state': 42}\n",
    "\n",
    "pipe_rf_2 = Pipeline([\n",
    "    ('preprocessor', preprocessor(predictors)),\n",
    "    ('model', RandomForestRegressor(**params_rf_2, criterion='squared_error'))\n",
    "])\n",
    "train_rsme, val_rsme, train_mae, val_mae = get_train_val_score(pipe_rf_2, predictors)\n",
    "exp_rf_regr_2 = et.Experiment('Random Forest (+ hour)', predictors=predictors, hyperparameters=pipe_rf_2['model'].get_params(),\n",
    "                               score=get_metrics_to_Experiment(), notes='Added hour to the model')\n",
    "experiment_tracker.add_experiment(exp_rf_regr_2)"
   ]
  },
  {
   "cell_type": "code",
   "execution_count": 45,
   "metadata": {},
   "outputs": [
    {
     "name": "stdout",
     "output_type": "stream",
     "text": [
      "--- Idea updated! ---\n",
      "ID#: 5609655552 \n",
      "Idea: Random Forest (+ hour) \n",
      "Potential Outcome: Adding hour to the model will increase the model's performance because timesofday (time feature) is a good predictor.\n",
      "Learnings: Adding hour to the model did improve the model. Not substantially better than the previous model though.\n"
     ]
    }
   ],
   "source": [
    "learnings = \\\n",
    "\"\"\"Adding hour to the model did improve the model. Not substantially better than the previous model though.\"\"\"\n",
    "experiment_tracker.update_idea(idea_rf_2, learnings=str.strip(learnings))"
   ]
  },
  {
   "cell_type": "code",
   "execution_count": 46,
   "metadata": {},
   "outputs": [
    {
     "name": "stdout",
     "output_type": "stream",
     "text": [
      "--- New Idea added! ---\n",
      "ID#: 5610183408 \n",
      "Idea: Random Forest (+ season and wdsp) \n",
      "Potential Outcome: Adding season and changing wind speed to numerical to the model will increase the model's performance.\n",
      "\n",
      "--- New Experiment added! ---\n",
      "ID#: 5608979664 \n",
      "Algorithm: Random Forest (+ season and wdsp) \n",
      "Predictors: ['temp_r', 'rhum', 'holiday', 'dayofweek', 'timesofday', 'wdsp', 'rainfall_intensity', 'peak', 'working_day', 'hour', 'season']\n",
      "Hyperparameters: {'bootstrap': True, 'ccp_alpha': 0.0, 'criterion': 'squared_error', 'max_depth': 10, 'max_features': 'auto', 'max_leaf_nodes': None, 'max_samples': None, 'min_impurity_decrease': 0.0, 'min_samples_leaf': 1, 'min_samples_split': 2, 'min_weight_fraction_leaf': 0.0, 'n_estimators': 500, 'n_jobs': None, 'oob_score': False, 'random_state': 42, 'verbose': 0, 'warm_start': False}\n",
      "Date: 13/06/2022 23:25:11\n",
      "Metric: [{ 'metric': RSME, 'train': 2.1403,  'validation': 2.5615, 'test': None }, { 'metric': MAE, 'train': 1.5528,  'validation': 1.8607, 'test': None }]\n",
      "Notes: Added season and wdsp to the model\n"
     ]
    }
   ],
   "source": [
    "idea_rf = et.Idea(idea='Random Forest (+ season and wdsp)', potential_outcome=\"Adding season and changing wind speed to numerical to the model will increase the model's performance.\")\n",
    "experiment_tracker.new_idea(idea_rf)\n",
    "\n",
    "predictors = ['temp_r','rhum','holiday','dayofweek','timesofday','wdsp','rainfall_intensity','peak','working_day', 'hour', 'season']\n",
    "\n",
    "params_rf = {'n_estimators': 500,\n",
    "             'max_depth': 10,\n",
    "             'random_state': 42}\n",
    "\n",
    "pipe_rf = Pipeline([\n",
    "    ('preprocessor', preprocessor(predictors)),\n",
    "    ('model', RandomForestRegressor(**params_rf, criterion='squared_error'))\n",
    "])\n",
    "train_rsme, val_rsme, train_mae, val_mae = get_train_val_score(pipe_rf, predictors)\n",
    "exp_rf_regr = et.Experiment('Random Forest (+ season and wdsp)', predictors=predictors, hyperparameters=pipe_rf['model'].get_params(),\n",
    "                               score=get_metrics_to_Experiment(), notes='Added season and wdsp to the model')\n",
    "experiment_tracker.add_experiment(exp_rf_regr)"
   ]
  },
  {
   "cell_type": "code",
   "execution_count": 47,
   "metadata": {},
   "outputs": [
    {
     "name": "stdout",
     "output_type": "stream",
     "text": [
      "--- Idea updated! ---\n",
      "ID#: 5610183408 \n",
      "Idea: Random Forest (+ season and wdsp) \n",
      "Potential Outcome: Adding season and changing wind speed to numerical to the model will increase the model's performance.\n",
      "Learnings: Adding season and changing wind speed to numerical did improve the model.\n"
     ]
    }
   ],
   "source": [
    "learnings = \\\n",
    "\"\"\"Adding season and changing wind speed to numerical did improve the model.\"\"\"\n",
    "experiment_tracker.update_idea(idea_rf, learnings=str.strip(learnings))"
   ]
  },
  {
   "cell_type": "code",
   "execution_count": 48,
   "metadata": {},
   "outputs": [
    {
     "name": "stdout",
     "output_type": "stream",
     "text": [
      "--- New Idea added! ---\n",
      "ID#: 5610536912 \n",
      "Idea: Random Forest (max_features: sqrt) \n",
      "Potential Outcome: Changing the number of features to consider when looking for the best split to sqrt(n_features) can increase the performance.\n",
      "\n",
      "--- New Experiment added! ---\n",
      "ID#: 5606918704 \n",
      "Algorithm: Random Forest (max_features: sqrt \n",
      "Predictors: ['temp_r', 'rhum', 'holiday', 'dayofweek', 'timesofday', 'wdsp', 'rainfall_intensity', 'peak', 'working_day', 'hour', 'season']\n",
      "Hyperparameters: {'bootstrap': True, 'ccp_alpha': 0.0, 'criterion': 'squared_error', 'max_depth': 10, 'max_features': 'sqrt', 'max_leaf_nodes': None, 'max_samples': None, 'min_impurity_decrease': 0.0, 'min_samples_leaf': 1, 'min_samples_split': 2, 'min_weight_fraction_leaf': 0.0, 'n_estimators': 500, 'n_jobs': None, 'oob_score': False, 'random_state': 42, 'verbose': 0, 'warm_start': False}\n",
      "Date: 13/06/2022 23:25:16\n",
      "Metric: [{ 'metric': RSME, 'train': 2.3515,  'validation': 2.5847, 'test': None }, { 'metric': MAE, 'train': 1.7494,  'validation': 1.9050, 'test': None }]\n",
      "Notes: Changed number of features to sqrt\n"
     ]
    }
   ],
   "source": [
    "idea_rf = et.Idea(idea='Random Forest (max_features: sqrt)', potential_outcome=\"Changing the number of features to consider when looking for the best split to sqrt(n_features) can increase the performance.\")\n",
    "experiment_tracker.new_idea(idea_rf)\n",
    "\n",
    "predictors = ['temp_r','rhum','holiday','dayofweek','timesofday','wdsp','rainfall_intensity','peak','working_day', 'hour', 'season']\n",
    "\n",
    "params_rf = {'n_estimators': 500,\n",
    "             'max_depth': 10,\n",
    "             'max_features': 'sqrt',\n",
    "             'random_state': 42}\n",
    "\n",
    "pipe_rf = Pipeline([\n",
    "    ('preprocessor', preprocessor(predictors)),\n",
    "    ('model', RandomForestRegressor(**params_rf, criterion='squared_error'))\n",
    "])\n",
    "train_rsme, val_rsme, train_mae, val_mae = get_train_val_score(pipe_rf, predictors)\n",
    "exp_rf_regr = et.Experiment('Random Forest (max_features: sqrt', predictors=predictors, hyperparameters=pipe_rf['model'].get_params(),\n",
    "                               score=get_metrics_to_Experiment(), notes='Changed number of features to sqrt')\n",
    "experiment_tracker.add_experiment(exp_rf_regr)"
   ]
  },
  {
   "cell_type": "code",
   "execution_count": 49,
   "metadata": {},
   "outputs": [
    {
     "name": "stdout",
     "output_type": "stream",
     "text": [
      "--- Idea updated! ---\n",
      "ID#: 5610536912 \n",
      "Idea: Random Forest (max_features: sqrt) \n",
      "Potential Outcome: Changing the number of features to consider when looking for the best split to sqrt(n_features) can increase the performance.\n",
      "Learnings: Changing hyperparameter max_features to sqrt did not improve the model.\n"
     ]
    }
   ],
   "source": [
    "learnings = \\\n",
    "\"\"\"Changing hyperparameter max_features to sqrt did not improve the model.\"\"\"\n",
    "experiment_tracker.update_idea(idea_rf, learnings=str.strip(learnings))"
   ]
  },
  {
   "cell_type": "code",
   "execution_count": 50,
   "metadata": {},
   "outputs": [
    {
     "name": "stdout",
     "output_type": "stream",
     "text": [
      "--- New Idea added! ---\n",
      "ID#: 5608268320 \n",
      "Idea: Random Forest (GridSearchCV) \n",
      "Potential Outcome: Hyperparameter tuning with GridSearchCV\n",
      "\n"
     ]
    }
   ],
   "source": [
    "idea_rf_grid = et.Idea(idea='Random Forest (GridSearchCV)', potential_outcome=\"Hyperparameter tuning with GridSearchCV\")\n",
    "experiment_tracker.new_idea(idea_rf_grid)\n",
    "\n",
    "predictors = ['temp','rhum','dayofweek','timesofday','wdsp','rainfall_intensity','peak','working_day', 'hour', 'season']\n",
    "\n",
    "params_rf_grid = {'bootstrap': [True, False],\n",
    "            'max_depth': [5, 10, 20, 30],\n",
    "            'max_features': ['auto', 'sqrt'],\n",
    "            'min_samples_leaf': [1, 2, 4],\n",
    "            'min_samples_split': [2, 5, 10],\n",
    "            'n_estimators': [200, 500, 800, 1000, 1400, 1800, 2000]\n",
    "             }\n",
    "\n",
    "pipe_rf_grid = Pipeline([\n",
    "    ('preprocessor', preprocessor(predictors)),\n",
    "    ('rf', GridSearchCV(RandomForestRegressor(random_state=42),param_grid=params_rf_grid, cv=3, scoring='neg_root_mean_squared_error', refit=True, n_jobs=-1, verbose=-1))\n",
    "])\n",
    "train_rsme, val_rsme, train_mae, val_mae = get_train_val_score(pipe_rf_grid, predictors)\n",
    "exp_rf_regr_grid = et.Experiment('Random Forest (GridSearchCV)', predictors=predictors, hyperparameters=pipe_rf_grid['rf'].best_estimator_.get_params(),\n",
    "                               score=get_metrics_to_Experiment(), notes='Hyperparameter tuning with GridSearchCV')\n",
    "experiment_tracker.add_experiment(exp_rf_regr_grid)"
   ]
  },
  {
   "cell_type": "code",
   "execution_count": null,
   "metadata": {},
   "outputs": [],
   "source": [
    "experiment_tracker.print_partial_results(filter_model='Random Forest', filter_metric='rsme')"
   ]
  },
  {
   "cell_type": "code",
   "execution_count": null,
   "metadata": {},
   "outputs": [],
   "source": [
    "fsdfsd"
   ]
  },
  {
   "cell_type": "code",
   "execution_count": null,
   "metadata": {},
   "outputs": [],
   "source": [
    "# learnings = \\\n",
    "# \"\"\"LightGBM model did improve the model on Validation set. The gap between the validation and training set is not large as other models.\"\"\"\n",
    "# experiment_tracker.update_idea(exp_rf_regr_1, learnings=str.strip(learnings))"
   ]
  },
  {
   "cell_type": "code",
   "execution_count": null,
   "metadata": {},
   "outputs": [],
   "source": [
    "experiment_tracker.to_excel('experiment_tracker.xlsx')"
   ]
  },
  {
   "cell_type": "code",
   "execution_count": null,
   "metadata": {},
   "outputs": [],
   "source": [
    "import joblib\n",
    "#save your model or results\n",
    "joblib.dump(pipe_rf_grid['rf'], '../models/RandomForest.pkl')"
   ]
  },
  {
   "cell_type": "code",
   "execution_count": null,
   "metadata": {},
   "outputs": [],
   "source": [
    "%reload_ext watermark\n",
    "%watermark -a \"Leandro Pessini\" -n -u -v -iv -w"
   ]
  },
  {
   "cell_type": "markdown",
   "metadata": {},
   "source": [
    "<img title=\"GitHub Mark\" src=\"./img/GitHub-Mark-64px.png\" style=\"height: 32px; padding-right: 15px\" alt=\"GitHub Mark\" align=\"left\"> [GitHub repository](https://github.com/pessini/moby-bikes) <br>Author: Leandro Pessini"
   ]
  }
 ],
 "metadata": {
  "interpreter": {
   "hash": "e88ab788e4c28b6ebfdd315341ca6b84d0235bda4bdece235b181ca971ce4b33"
  },
  "kernelspec": {
   "display_name": "Python 3.9.6 (conda)",
   "language": "python",
   "name": "python3"
  },
  "language_info": {
   "codemirror_mode": {
    "name": "ipython",
    "version": 3
   },
   "file_extension": ".py",
   "mimetype": "text/x-python",
   "name": "python",
   "nbconvert_exporter": "python",
   "pygments_lexer": "ipython3",
   "version": "3.9.6"
  }
 },
 "nbformat": 4,
 "nbformat_minor": 2
}
