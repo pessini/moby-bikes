{
 "cells": [
  {
   "cell_type": "markdown",
   "metadata": {},
   "source": [
    "<img title=\"GitHub Octocat\" src='./img/Octocat.jpg' style='height: 60px; padding-right: 15px' alt=\"Octocat\" align=\"left\"> This notebook is part of a GitHub repository: https://github.com/pessini/moby-bikes \n",
    "<br>MIT Licensed\n",
    "<br>Author: Leandro Pessini"
   ]
  },
  {
   "cell_type": "markdown",
   "metadata": {},
   "source": [
    "# <p style=\"font-size:100%; text-align:left; color:#444444;\">Models</p>"
   ]
  },
  {
   "cell_type": "markdown",
   "metadata": {},
   "source": [
    "# <p style=\"font-size:100%; text-align:left; color:#444444;\">Table of Contents:</p>\n",
    "* [1. Datasets](#1)\n",
    "  * [1.1 Rentals Data - Moby Bikes](#1.1)\n",
    "  * [1.2 Weather Data - Met Éireann](#1.2)\n",
    "* [2. Preprocessing & Feature Engineering](#2)\n",
    "  * [2.1 Target variable distribution](#2.1)\n",
    "  * [2.2 Missing values](#2.2)\n",
    "  * [2.3 Exploratory Analysis](#2.3)\n",
    "  * [2.4 Features Importance](#2.4)"
   ]
  },
  {
   "cell_type": "code",
   "execution_count": 1,
   "metadata": {},
   "outputs": [],
   "source": [
    "import pandas as pd\n",
    "import matplotlib.pyplot as plt\n",
    "import seaborn as sns\n",
    "import numpy as np\n",
    "import datetime\n",
    "import sys\n",
    "import os\n",
    "\n",
    "# Preprocessing\n",
    "from sklearn.model_selection import train_test_split\n",
    "from sklearn.preprocessing import StandardScaler, MinMaxScaler, OneHotEncoder, OrdinalEncoder\n",
    "from sklearn.compose import ColumnTransformer\n",
    "from sklearn.pipeline import Pipeline\n",
    "\n",
    "# Models & Evaluation\n",
    "from sklearn.model_selection import KFold\n",
    "from sklearn.model_selection import StratifiedKFold\n",
    "from sklearn.ensemble import RandomForestRegressor, GradientBoostingRegressor\n",
    "\n",
    "# statsmodel\n",
    "import statsmodels.api as sm\n",
    "import statsmodels.tsa.api as smt\n",
    "import statsmodels.formula.api as smf\n",
    "import statsmodels.stats as stats\n",
    "\n",
    "# Boost models\n",
    "import xgboost as xgb\n",
    "from xgboost import XGBRegressor\n",
    "import lightgbm as lgb\n",
    "from lightgbm import LGBMRegressor\n",
    "import catboost as cat\n",
    "from catboost import CatBoostRegressor\n",
    "\n",
    "from sklearn import metrics\n",
    "\n",
    "# Hyperparameter optimization\n",
    "from sklearn.model_selection import GridSearchCV, RandomizedSearchCV\n",
    "\n",
    "# Custom objects\n",
    "sys.path.insert(0, os.path.abspath('../src/'))\n",
    "import experiment_tracker as et\n",
    "\n",
    "import time\n",
    "import warnings\n",
    "warnings.simplefilter('ignore', FutureWarning)\n",
    "from statsmodels.tools.sm_exceptions import ConvergenceWarning\n",
    "warnings.simplefilter('ignore', ConvergenceWarning)"
   ]
  },
  {
   "cell_type": "code",
   "execution_count": 2,
   "metadata": {},
   "outputs": [
    {
     "name": "stdout",
     "output_type": "stream",
     "text": [
      "<class 'pandas.core.frame.DataFrame'>\n",
      "RangeIndex: 8760 entries, 0 to 8759\n",
      "Data columns (total 23 columns):\n",
      " #   Column              Non-Null Count  Dtype  \n",
      "---  ------              --------------  -----  \n",
      " 0   rain                8760 non-null   float64\n",
      " 1   temp                8760 non-null   float64\n",
      " 2   rhum                8760 non-null   int64  \n",
      " 3   wdsp                8760 non-null   int64  \n",
      " 4   date                8760 non-null   object \n",
      " 5   hour                8760 non-null   int64  \n",
      " 6   day                 8760 non-null   int64  \n",
      " 7   month               8760 non-null   int64  \n",
      " 8   year                8760 non-null   int64  \n",
      " 9   count               8760 non-null   int64  \n",
      " 10  holiday             8760 non-null   bool   \n",
      " 11  dayofweek_n         8760 non-null   int64  \n",
      " 12  dayofweek           8760 non-null   object \n",
      " 13  working_day         8760 non-null   bool   \n",
      " 14  season              8760 non-null   object \n",
      " 15  peak                8760 non-null   bool   \n",
      " 16  timesofday          8760 non-null   object \n",
      " 17  rainfall_intensity  8760 non-null   object \n",
      " 18  wind_bft            8760 non-null   int64  \n",
      " 19  wind_speed_group    8760 non-null   object \n",
      " 20  temp_r              8760 non-null   int64  \n",
      " 21  temp_bin            8760 non-null   float64\n",
      " 22  rhum_bin            8760 non-null   float64\n",
      "dtypes: bool(3), float64(4), int64(10), object(6)\n",
      "memory usage: 1.4+ MB\n"
     ]
    }
   ],
   "source": [
    "df_train = pd.read_csv('../data/processed/df_train.csv')\n",
    "df_test = pd.read_csv('../data/processed/df_test.csv')\n",
    "df_train.info()"
   ]
  },
  {
   "cell_type": "markdown",
   "metadata": {},
   "source": [
    "> Example of dynamic table with evalution metrics: https://www.kirenz.com/post/2021-12-06-regression-splines-in-python/regression-splines-in-python/"
   ]
  },
  {
   "cell_type": "markdown",
   "metadata": {},
   "source": [
    "## Splitting data in train and test set"
   ]
  },
  {
   "cell_type": "code",
   "execution_count": 3,
   "metadata": {},
   "outputs": [],
   "source": [
    "# # OrdinalEnconder\n",
    "# enc_rain = OrdinalEncoder(dtype=np.int64, \\\n",
    "#     categories=[['no rain', 'drizzle', 'light rain', 'moderate rain', 'heavy rain']])\n",
    "# df['rainfall_intensity'] = enc_rain.fit_transform(df[['rainfall_intensity']])\n",
    "\n",
    "# num_vars = [n for n in df.select_dtypes(include=['number']).columns if n in predictors] # list comprehension to select only predictors features\n",
    "# cat_vars = [c for c in df.select_dtypes(include=['category']).columns if c in predictors]\n",
    "\n",
    "# dummies = pd.get_dummies(X[cat_vars], drop_first=False)\n",
    "# X = pd.concat([X[num_vars], dummies],axis=1)"
   ]
  },
  {
   "cell_type": "code",
   "execution_count": 4,
   "metadata": {},
   "outputs": [],
   "source": [
    "# creates a new object to keep track of the experiments\n",
    "experiment_tracker = et.ExperimentTracker()"
   ]
  },
  {
   "cell_type": "code",
   "execution_count": 5,
   "metadata": {},
   "outputs": [
    {
     "data": {
      "text/plain": [
       "((6132, 22), (2628, 22))"
      ]
     },
     "execution_count": 5,
     "metadata": {},
     "output_type": "execute_result"
    }
   ],
   "source": [
    "df = df_train.copy()\n",
    "X = df.drop(['count'], axis=1)\n",
    "y = df.pop('count')\n",
    "all_columns = list(X.columns)\n",
    "X_train, X_val, y_train, y_val = train_test_split(X, y, test_size=0.3, random_state=42)\n",
    "X_train.shape, X_val.shape"
   ]
  },
  {
   "cell_type": "code",
   "execution_count": 6,
   "metadata": {},
   "outputs": [
    {
     "name": "stdout",
     "output_type": "stream",
     "text": [
      "--- New Idea added! ---\n",
      "ID#: 4647938848 \n",
      "Idea: Dummy Regressor \n",
      "Potential Outcome: To use as a baseline model, expected to be perform bad\n",
      "\n"
     ]
    }
   ],
   "source": [
    "idea_dummy = et.Idea(idea='Dummy Regressor', potential_outcome='To use as a baseline model, expected to perform badly.')\n",
    "experiment_tracker.new_idea(idea_dummy)"
   ]
  },
  {
   "cell_type": "code",
   "execution_count": 7,
   "metadata": {},
   "outputs": [],
   "source": [
    "def get_train_val_score(model, predictors, X_train=X_train, y_train=y_train, X_val=X_val, y_val=y_val):\n",
    "    X_train = X_train[[c for c in X_train.columns if c in predictors]]\n",
    "    X_val = X_val[[c for c in X_val.columns if c in predictors]]\n",
    "    model.fit(X_train, y_train)\n",
    "    y_pred_train = model.predict(X_train)\n",
    "    y_pred_val = model.predict(X_val)\n",
    "    train_rsme = metrics.mean_squared_error(y_train, y_pred_train)\n",
    "    val_rsme = metrics.mean_squared_error(y_val, y_pred_val)\n",
    "    train_mae = metrics.mean_absolute_error(y_train, y_pred_train)\n",
    "    val_mae = metrics.mean_absolute_error(y_val, y_pred_val)\n",
    "    return train_rsme, val_rsme, train_mae, val_mae"
   ]
  },
  {
   "cell_type": "code",
   "execution_count": 8,
   "metadata": {},
   "outputs": [],
   "source": [
    "def get_metrics_to_Experiment() -> list:\n",
    "    rsme = et.Score('RSME', '{:.2f}'.format(train_rsme), '{:.2f}'.format(val_rsme))\n",
    "    mae = et.Score('MAE', '{:.2f}'.format(train_mae), '{:.2f}'.format(val_mae))\n",
    "    return [rsme, mae]"
   ]
  },
  {
   "cell_type": "markdown",
   "metadata": {},
   "source": [
    "### Dummy Regressor"
   ]
  },
  {
   "cell_type": "code",
   "execution_count": 9,
   "metadata": {},
   "outputs": [
    {
     "name": "stdout",
     "output_type": "stream",
     "text": [
      "Index(['rain', 'temp', 'rhum', 'wdsp'], dtype='object')\n",
      "Index(['rain', 'temp', 'rhum', 'wdsp'], dtype='object')\n"
     ]
    }
   ],
   "source": [
    "from sklearn.dummy import DummyRegressor\n",
    "predictors = ['temp','rhum','wdsp','rain']\n",
    "dummy_regr = DummyRegressor(strategy=\"mean\")\n",
    "train_rsme, val_rsme, train_mae, val_mae = get_train_val_score(dummy_regr, predictors)"
   ]
  },
  {
   "cell_type": "code",
   "execution_count": 10,
   "metadata": {},
   "outputs": [
    {
     "name": "stdout",
     "output_type": "stream",
     "text": [
      "--- New Experiment added! ---\n",
      "ID#: 5644101472 \n",
      "Algorithm: Dummy Regressor \n",
      "Predictors: ['temp', 'rhum', 'wdsp', 'rain']\n",
      "Hyperparameters: {'constant': None, 'quantile': None, 'strategy': 'mean'}\n",
      "Date: 01/06/2022 21:04:18\n",
      "Metric: [{ 'metric': RSME, 'train': 13.06,  'validation': 12.85, 'test': None }, { 'metric': MAE, 'train': 2.88,  'validation': 2.90, 'test': None }]\n",
      "Notes: Baseline Model for comparison\n"
     ]
    }
   ],
   "source": [
    "# squared => If True returns MSE value, if False returns RMSE value\n",
    "exp_dummy_regr = et.Experiment('Dummy Regressor', predictors=predictors, hyperparameters=dummy_regr.get_params(), \n",
    "                               score=get_metrics_to_Experiment(), notes='Baseline Model for comparison')\n",
    "experiment_tracker.add_experiment(exp_dummy_regr)"
   ]
  },
  {
   "cell_type": "markdown",
   "metadata": {},
   "source": [
    "### Linear Regression"
   ]
  },
  {
   "cell_type": "code",
   "execution_count": 11,
   "metadata": {},
   "outputs": [
    {
     "name": "stdout",
     "output_type": "stream",
     "text": [
      "--- New Idea added! ---\n",
      "ID#: 5644103056 \n",
      "Idea: Linear Regression \n",
      "Potential Outcome: Expected to perform bad as we have many outliers and a count as target variable\n",
      "\n"
     ]
    }
   ],
   "source": [
    "idea_linear = et.Idea(idea='Linear Regression', potential_outcome='Expected to perform bad as we have many outliers and a count as target variable')\n",
    "experiment_tracker.new_idea(idea_linear)"
   ]
  },
  {
   "cell_type": "code",
   "execution_count": 12,
   "metadata": {},
   "outputs": [
    {
     "name": "stdout",
     "output_type": "stream",
     "text": [
      "Index(['rain', 'temp', 'rhum', 'wdsp'], dtype='object')\n",
      "Index(['rain', 'temp', 'rhum', 'wdsp'], dtype='object')\n",
      "--- New Experiment added! ---\n",
      "ID#: 4603019072 \n",
      "Algorithm: Linear Regression \n",
      "Predictors: ['temp', 'rhum', 'wdsp', 'rain']\n",
      "Hyperparameters: \n",
      "Date: 01/06/2022 21:04:19\n",
      "Metric: [{ 'metric': RSME, 'train': 9.54,  'validation': 9.57, 'test': None }, { 'metric': MAE, 'train': 2.37,  'validation': 2.40, 'test': None }]\n",
      "Notes: Linear Regression\n"
     ]
    }
   ],
   "source": [
    "from sklearn.linear_model import LinearRegression\n",
    "predictors = ['temp','rhum','wdsp','rain']\n",
    "lin_reg = LinearRegression()\n",
    "train_rsme, val_rsme, train_mae, val_mae = get_train_val_score(lin_reg, predictors)\n",
    "exp_lin_regr = et.Experiment('Linear Regression', predictors=predictors, hyperparameters='', \n",
    "                               score=get_metrics_to_Experiment(), notes='Linear Regression')\n",
    "experiment_tracker.add_experiment(exp_lin_regr)"
   ]
  },
  {
   "cell_type": "code",
   "execution_count": 13,
   "metadata": {},
   "outputs": [
    {
     "name": "stdout",
     "output_type": "stream",
     "text": [
      "--- Idea updated! ---\n",
      "ID#: 5644103056 \n",
      "Idea: Linear Regression \n",
      "Potential Outcome: Expected to perform bad as we have many outliers and a count as target variable\n",
      "Learnings: As expected the performance is not good as we have a lot of outliers and a count as target variable\n"
     ]
    }
   ],
   "source": [
    "experiment_tracker.update_idea(idea_linear, learnings='As expected the performance is not good as we have a lot of outliers and a count as target variable')"
   ]
  },
  {
   "cell_type": "markdown",
   "metadata": {},
   "source": [
    "### Random Forest"
   ]
  },
  {
   "cell_type": "code",
   "execution_count": 14,
   "metadata": {},
   "outputs": [
    {
     "name": "stdout",
     "output_type": "stream",
     "text": [
      "--- New Idea added! ---\n",
      "ID#: 4647939904 \n",
      "Idea: Random Forest \n",
      "Potential Outcome: Expected to perform better than the Linear Regression\n",
      "\n"
     ]
    }
   ],
   "source": [
    "idea_random_forest = et.Idea(idea='Random Forest', potential_outcome='Expected to perform better than the Linear Regression')\n",
    "experiment_tracker.new_idea(idea_random_forest)"
   ]
  },
  {
   "cell_type": "code",
   "execution_count": 15,
   "metadata": {},
   "outputs": [
    {
     "name": "stdout",
     "output_type": "stream",
     "text": [
      "Index(['rain', 'temp', 'rhum', 'wdsp'], dtype='object')\n",
      "Index(['rain', 'temp', 'rhum', 'wdsp'], dtype='object')\n",
      "--- New Experiment added! ---\n",
      "ID#: 5644099936 \n",
      "Algorithm: Random Forest \n",
      "Predictors: ['temp', 'rhum', 'wdsp', 'rain']\n",
      "Hyperparameters: {'bootstrap': True, 'ccp_alpha': 0.0, 'criterion': 'squared_error', 'max_depth': 10, 'max_features': 'auto', 'max_leaf_nodes': None, 'max_samples': None, 'min_impurity_decrease': 0.0, 'min_samples_leaf': 1, 'min_samples_split': 2, 'min_weight_fraction_leaf': 0.0, 'n_estimators': 100, 'n_jobs': None, 'oob_score': False, 'random_state': 42, 'verbose': 0, 'warm_start': False}\n",
      "Date: 01/06/2022 21:04:21\n",
      "Metric: [{ 'metric': RSME, 'train': 6.44,  'validation': 9.48, 'test': None }, { 'metric': MAE, 'train': 1.97,  'validation': 2.39, 'test': None }]\n",
      "\n"
     ]
    }
   ],
   "source": [
    "from sklearn.ensemble import RandomForestRegressor\n",
    "predictors = ['temp','rhum','wdsp','rain']\n",
    "rf = RandomForestRegressor(n_estimators=100, max_depth=10, random_state=42)\n",
    "train_rsme, val_rsme, train_mae, val_mae = get_train_val_score(rf, predictors)\n",
    "exp_rf_regr = et.Experiment('Random Forest', predictors=predictors, hyperparameters=rf.get_params(), \n",
    "                               score=get_metrics_to_Experiment(), notes='')\n",
    "experiment_tracker.add_experiment(exp_rf_regr)"
   ]
  },
  {
   "cell_type": "code",
   "execution_count": 16,
   "metadata": {},
   "outputs": [
    {
     "name": "stdout",
     "output_type": "stream",
     "text": [
      "--- Idea updated! ---\n",
      "ID#: 4647939904 \n",
      "Idea: Random Forest \n",
      "Potential Outcome: Expected to perform better than the Linear Regression\n",
      "Learnings: Random Forest with just a few hyperparameters performed a lot better than linear regression.\n",
      "It seems to be overfitting as we see validation scores much higher than training scores. It's a sign that would need to tune hyperparameters.\n"
     ]
    }
   ],
   "source": [
    "# update ideas with learnings\n",
    "learnings = \\\n",
    "\"\"\"Random Forest with just a few hyperparameters performed a lot better than linear regression.\n",
    "It seems to be overfitting as we see validation scores much higher than training scores. It's a sign that would need to tune hyperparameters.\"\"\"\n",
    "experiment_tracker.update_idea(idea_random_forest, learnings=str.strip(learnings))"
   ]
  },
  {
   "cell_type": "code",
   "execution_count": 17,
   "metadata": {},
   "outputs": [
    {
     "name": "stdout",
     "output_type": "stream",
     "text": [
      "Index(['rain', 'temp', 'rhum', 'wdsp', 'holiday'], dtype='object')\n",
      "Index(['rain', 'temp', 'rhum', 'wdsp', 'holiday'], dtype='object')\n",
      "--- New Experiment added! ---\n",
      "ID#: 5644350704 \n",
      "Algorithm: Random Forest \n",
      "Predictors: ['temp', 'rhum', 'wdsp', 'rain', 'holiday']\n",
      "Hyperparameters: {'bootstrap': True, 'ccp_alpha': 0.0, 'criterion': 'squared_error', 'max_depth': 10, 'max_features': 'auto', 'max_leaf_nodes': None, 'max_samples': None, 'min_impurity_decrease': 0.0, 'min_samples_leaf': 1, 'min_samples_split': 2, 'min_weight_fraction_leaf': 0.0, 'n_estimators': 100, 'n_jobs': None, 'oob_score': False, 'random_state': 42, 'verbose': 0, 'warm_start': False}\n",
      "Date: 01/06/2022 21:04:22\n",
      "Metric: [{ 'metric': RSME, 'train': 6.47,  'validation': 9.46, 'test': None }, { 'metric': MAE, 'train': 1.97,  'validation': 2.38, 'test': None }]\n",
      "Notes: Added holiday as a predictor\n"
     ]
    }
   ],
   "source": [
    "predictors = ['temp','rhum','wdsp','rain','holiday']\n",
    "rf = RandomForestRegressor(n_estimators=100, max_depth=10, random_state=42)\n",
    "train_rsme, val_rsme, train_mae, val_mae = get_train_val_score(rf, predictors)\n",
    "exp_rf_regr = et.Experiment('Random Forest', predictors=predictors, hyperparameters=rf.get_params(), \n",
    "                               score=get_metrics_to_Experiment(), notes='Added holiday as a predictor')\n",
    "experiment_tracker.add_experiment(exp_rf_regr)"
   ]
  },
  {
   "cell_type": "code",
   "execution_count": 18,
   "metadata": {},
   "outputs": [
    {
     "name": "stdout",
     "output_type": "stream",
     "text": [
      "Index(['rain', 'temp', 'rhum', 'wdsp', 'holiday', 'dayofweek_n'], dtype='object')\n",
      "Index(['rain', 'temp', 'rhum', 'wdsp', 'holiday', 'dayofweek_n'], dtype='object')\n",
      "--- New Experiment added! ---\n",
      "ID#: 4602996048 \n",
      "Algorithm: Random Forest \n",
      "Predictors: ['temp', 'rhum', 'wdsp', 'rain', 'holiday', 'dayofweek_n']\n",
      "Hyperparameters: {'bootstrap': True, 'ccp_alpha': 0.0, 'criterion': 'squared_error', 'max_depth': 10, 'max_features': 'auto', 'max_leaf_nodes': None, 'max_samples': None, 'min_impurity_decrease': 0.0, 'min_samples_leaf': 1, 'min_samples_split': 2, 'min_weight_fraction_leaf': 0.0, 'n_estimators': 100, 'n_jobs': None, 'oob_score': False, 'random_state': 42, 'verbose': 0, 'warm_start': False}\n",
      "Date: 01/06/2022 21:04:23\n",
      "Metric: [{ 'metric': RSME, 'train': 5.98,  'validation': 9.21, 'test': None }, { 'metric': MAE, 'train': 1.90,  'validation': 2.35, 'test': None }]\n",
      "Notes: Added holiday + dayofweek as a predictor\n"
     ]
    }
   ],
   "source": [
    "predictors = ['temp','rhum','wdsp','rain','holiday','dayofweek_n']\n",
    "rf = RandomForestRegressor(n_estimators=100, max_depth=10, random_state=42)\n",
    "train_rsme, val_rsme, train_mae, val_mae = get_train_val_score(rf, predictors)\n",
    "exp_rf_regr = et.Experiment('Random Forest', predictors=predictors, hyperparameters=rf.get_params(), \n",
    "                               score=get_metrics_to_Experiment(), notes='Added holiday + dayofweek as a predictor')\n",
    "experiment_tracker.add_experiment(exp_rf_regr)"
   ]
  },
  {
   "cell_type": "markdown",
   "metadata": {},
   "source": [
    ">https://www.delftstack.com/howto/python-pandas/split-column-in-python-pandas/"
   ]
  },
  {
   "cell_type": "markdown",
   "metadata": {},
   "source": [
    "## Preprocessing Pipelines"
   ]
  },
  {
   "cell_type": "markdown",
   "metadata": {},
   "source": [
    "ord_vars = ['wind_speed_group','rainfall_intensity','temp_bin','rhum_bin']\n",
    "\n",
    "num_vars = ['rain', 'temp', 'rhum','wdsp','temp_r']\n",
    "\n",
    "cat_vars = ['timesofday','dayofweek','holiday','peak','hour','working_day','season']"
   ]
  },
  {
   "cell_type": "code",
   "execution_count": 19,
   "metadata": {},
   "outputs": [],
   "source": [
    "import category_encoders as ce\n",
    "\n",
    "def preprocessor(predictors: list) -> ColumnTransformer:\n",
    "    # Setting remainder='passthrough' will mean that all columns not specified in the list of “transformers” \n",
    "    #   will be passed through without transformation, instead of being dropped\n",
    "\n",
    "    ##################### Categorical variables #####################\n",
    "    all_cat_vars = ['timesofday','dayofweek','holiday','peak','hour','working_day','season']\n",
    "    cat_vars = [categorical_var for categorical_var in all_cat_vars if categorical_var in predictors]\n",
    "\n",
    "    # categorical variables\n",
    "    cat_pipe = Pipeline([\n",
    "        ('encoder', OneHotEncoder(handle_unknown='ignore', sparse=False))\n",
    "    ])\n",
    "\n",
    "    cat_encoder = 'cat', cat_pipe, cat_vars\n",
    "\n",
    "    ##################### Numerical variables #####################\n",
    "    all_num_vars = ['rain', 'temp', 'rhum','wdsp','temp_r']\n",
    "    num_vars = [numerical_var for numerical_var in all_num_vars if numerical_var in predictors]\n",
    "\n",
    "    num_pipe = Pipeline([\n",
    "        ('scaler', StandardScaler())\n",
    "        # ('scaler', MinMaxScaler())\n",
    "    ])\n",
    "\n",
    "    num_enconder =  'num', num_pipe, num_vars\n",
    "\n",
    "    ##################### Ordinal variables #####################\n",
    "    # ord_vars = ['wind_speed_group','rainfall_intensity']\n",
    "    all_ord_vars = ['wind_speed_group','rainfall_intensity','temp_bin','rhum_bin']\n",
    "    ord_vars = [ordinal_var for ordinal_var in all_ord_vars if ordinal_var in predictors]\n",
    "\n",
    "    ordinal_cols_mapping = []\n",
    "    if 'wind_speed_group' in predictors:\n",
    "        ordinal_cols_mapping.append(\n",
    "            {\"col\":\"wind_speed_group\",    \n",
    "            \"mapping\": {\n",
    "                'Calm / Light Breeze': 0, \n",
    "                'Breeze': 1, \n",
    "                'Moderate Breeze': 2, \n",
    "                'Strong Breeze / Near Gale': 3, \n",
    "                'Gale / Storm': 4\n",
    "            }}\n",
    "        )\n",
    "\n",
    "    if 'rainfall_intensity' in predictors:\n",
    "        ordinal_cols_mapping.append(\n",
    "            {\"col\":\"rainfall_intensity\",    \n",
    "            \"mapping\": {\n",
    "                'no rain': 0, \n",
    "                'drizzle': 1, \n",
    "                'light rain': 2, \n",
    "                'moderate rain': 3, \n",
    "                'heavy rain': 4\n",
    "            }}\n",
    "        )\n",
    "\n",
    "    # ordinal variables\n",
    "    ord_pipe = Pipeline([\n",
    "        ('ordinal_enconder', ce.OrdinalEncoder(mapping=ordinal_cols_mapping))\n",
    "    ])\n",
    "\n",
    "    ord_enconder =  'ordinal_enconder', ord_pipe, ord_vars\n",
    "\n",
    "    #################################################################################\n",
    "\n",
    "    transformers_list = []\n",
    "    transformers_list.append(cat_encoder) if cat_encoder is not None else None\n",
    "    transformers_list.append(ord_enconder) if ord_enconder is not None else None\n",
    "    transformers_list.append(num_enconder) if num_enconder is not None else None\n",
    "    \n",
    "    return ColumnTransformer(transformers=transformers_list, \n",
    "                             remainder='drop')"
   ]
  },
  {
   "cell_type": "code",
   "execution_count": 49,
   "metadata": {},
   "outputs": [],
   "source": [
    "def plot_feature_importances(model, columns, X=X_val, y=y_val, plot_title='Feature Importances using permutation'):\n",
    "    #Plotting features importance\n",
    "\n",
    "    from sklearn.inspection import permutation_importance\n",
    "    \n",
    "    result = permutation_importance(\n",
    "        model, X[columns], y, n_repeats=10, random_state=42, n_jobs=2\n",
    "    )\n",
    "\n",
    "    feat_importances = pd.Series(result.importances_mean, index=columns)\n",
    "    feat_importances.sort_values(ascending=False, inplace=True)\n",
    "\n",
    "    fig = plt.figure(figsize=(15, 12))\n",
    "    sns.barplot(x=feat_importances.values, y=feat_importances.index, orient='h')\n",
    "    plt.title(plot_title)\n",
    "    locs, labels = plt.xticks()\n",
    "    plt.tick_params(axis='both', which='major', labelsize=12)\n",
    "\n",
    "    plt.show()"
   ]
  },
  {
   "cell_type": "markdown",
   "metadata": {},
   "source": [
    "## Models"
   ]
  },
  {
   "cell_type": "markdown",
   "metadata": {},
   "source": [
    "### Random Forest"
   ]
  },
  {
   "cell_type": "code",
   "execution_count": 24,
   "metadata": {},
   "outputs": [],
   "source": [
    "from sklearn.inspection import permutation_importance"
   ]
  },
  {
   "cell_type": "code",
   "execution_count": 25,
   "metadata": {},
   "outputs": [
    {
     "ename": "TypeError",
     "evalue": "permutation_importance() missing 3 required positional arguments: 'estimator', 'X', and 'y'",
     "output_type": "error",
     "traceback": [
      "\u001b[0;31m---------------------------------------------------------------------------\u001b[0m",
      "\u001b[0;31mTypeError\u001b[0m                                 Traceback (most recent call last)",
      "\u001b[1;32m/Users/pessini/Dropbox/Data-Science/moby-bikes/notebooks/05-modeling.ipynb Cell 35'\u001b[0m in \u001b[0;36m<cell line: 10>\u001b[0;34m()\u001b[0m\n\u001b[1;32m      <a href='vscode-notebook-cell:/Users/pessini/Dropbox/Data-Science/moby-bikes/notebooks/05-modeling.ipynb#ch0000034?line=2'>3</a>\u001b[0m params_rf \u001b[39m=\u001b[39m {\u001b[39m'\u001b[39m\u001b[39mn_estimators\u001b[39m\u001b[39m'\u001b[39m: \u001b[39m100\u001b[39m, \n\u001b[1;32m      <a href='vscode-notebook-cell:/Users/pessini/Dropbox/Data-Science/moby-bikes/notebooks/05-modeling.ipynb#ch0000034?line=3'>4</a>\u001b[0m              \u001b[39m'\u001b[39m\u001b[39mmax_depth\u001b[39m\u001b[39m'\u001b[39m: \u001b[39m20\u001b[39m, \n\u001b[1;32m      <a href='vscode-notebook-cell:/Users/pessini/Dropbox/Data-Science/moby-bikes/notebooks/05-modeling.ipynb#ch0000034?line=4'>5</a>\u001b[0m              \u001b[39m'\u001b[39m\u001b[39mrandom_state\u001b[39m\u001b[39m'\u001b[39m: \u001b[39m0\u001b[39m, \n\u001b[1;32m      <a href='vscode-notebook-cell:/Users/pessini/Dropbox/Data-Science/moby-bikes/notebooks/05-modeling.ipynb#ch0000034?line=5'>6</a>\u001b[0m              \u001b[39m'\u001b[39m\u001b[39mmin_samples_split\u001b[39m\u001b[39m'\u001b[39m : \u001b[39m5\u001b[39m,\n\u001b[1;32m      <a href='vscode-notebook-cell:/Users/pessini/Dropbox/Data-Science/moby-bikes/notebooks/05-modeling.ipynb#ch0000034?line=6'>7</a>\u001b[0m              \u001b[39m'\u001b[39m\u001b[39mn_jobs\u001b[39m\u001b[39m'\u001b[39m: \u001b[39m-\u001b[39m\u001b[39m1\u001b[39m}\n\u001b[1;32m      <a href='vscode-notebook-cell:/Users/pessini/Dropbox/Data-Science/moby-bikes/notebooks/05-modeling.ipynb#ch0000034?line=8'>9</a>\u001b[0m \u001b[39m# Fit a pipeline with transformers and an estimator to the training data\u001b[39;00m\n\u001b[1;32m     <a href='vscode-notebook-cell:/Users/pessini/Dropbox/Data-Science/moby-bikes/notebooks/05-modeling.ipynb#ch0000034?line=9'>10</a>\u001b[0m pipe_rf \u001b[39m=\u001b[39m Pipeline([\n\u001b[1;32m     <a href='vscode-notebook-cell:/Users/pessini/Dropbox/Data-Science/moby-bikes/notebooks/05-modeling.ipynb#ch0000034?line=10'>11</a>\u001b[0m     (\u001b[39m'\u001b[39m\u001b[39mpreprocessor\u001b[39m\u001b[39m'\u001b[39m, preprocessor(predictors)),\n\u001b[1;32m     <a href='vscode-notebook-cell:/Users/pessini/Dropbox/Data-Science/moby-bikes/notebooks/05-modeling.ipynb#ch0000034?line=11'>12</a>\u001b[0m     (\u001b[39m'\u001b[39m\u001b[39mmodel\u001b[39m\u001b[39m'\u001b[39m, RandomForestRegressor(\u001b[39m*\u001b[39m\u001b[39m*\u001b[39mparams_rf, criterion\u001b[39m=\u001b[39m\u001b[39m'\u001b[39m\u001b[39msquared_error\u001b[39m\u001b[39m'\u001b[39m)),\n\u001b[0;32m---> <a href='vscode-notebook-cell:/Users/pessini/Dropbox/Data-Science/moby-bikes/notebooks/05-modeling.ipynb#ch0000034?line=12'>13</a>\u001b[0m     (\u001b[39m'\u001b[39m\u001b[39mimportance\u001b[39m\u001b[39m'\u001b[39m, permutation_importance(n_repeats\u001b[39m=\u001b[39;49m\u001b[39m10\u001b[39;49m, random_state\u001b[39m=\u001b[39;49m\u001b[39m42\u001b[39;49m))\n\u001b[1;32m     <a href='vscode-notebook-cell:/Users/pessini/Dropbox/Data-Science/moby-bikes/notebooks/05-modeling.ipynb#ch0000034?line=13'>14</a>\u001b[0m ])\n\u001b[1;32m     <a href='vscode-notebook-cell:/Users/pessini/Dropbox/Data-Science/moby-bikes/notebooks/05-modeling.ipynb#ch0000034?line=15'>16</a>\u001b[0m \u001b[39m# pipe_rf.fit(X_train[predictors], y_train)\u001b[39;00m\n\u001b[1;32m     <a href='vscode-notebook-cell:/Users/pessini/Dropbox/Data-Science/moby-bikes/notebooks/05-modeling.ipynb#ch0000034?line=16'>17</a>\u001b[0m train_rsme, val_rsme, train_mae, val_mae \u001b[39m=\u001b[39m get_train_val_score(pipe_rf, predictors)\n",
      "\u001b[0;31mTypeError\u001b[0m: permutation_importance() missing 3 required positional arguments: 'estimator', 'X', and 'y'"
     ]
    }
   ],
   "source": [
    "predictors = ['temp_r','rhum','holiday','dayofweek','timesofday','wind_speed_group','rainfall_intensity','peak','hour','working_day']\n",
    "# random forest model\n",
    "params_rf = {'n_estimators': 100, \n",
    "             'max_depth': 20, \n",
    "             'random_state': 0, \n",
    "             'min_samples_split' : 5,\n",
    "             'n_jobs': -1}\n",
    "\n",
    "# Fit a pipeline with transformers and an estimator to the training data\n",
    "pipe_rf = Pipeline([\n",
    "    ('preprocessor', preprocessor(predictors)),\n",
    "    ('model', RandomForestRegressor(**params_rf, criterion='squared_error'))\n",
    "])\n",
    "\n",
    "# pipe_rf.fit(X_train[predictors], y_train)\n",
    "train_rsme, val_rsme, train_mae, val_mae = get_train_val_score(pipe_rf, predictors)\n",
    "exp_rf_regr = et.Experiment('Random Forest', predictors=predictors, hyperparameters=pipe_rf['model'].get_params(),\n",
    "                               score=get_metrics_to_Experiment(), notes='Added all predictors and using preprocessing')\n",
    "experiment_tracker.add_experiment(exp_rf_regr)"
   ]
  },
  {
   "cell_type": "code",
   "execution_count": null,
   "metadata": {},
   "outputs": [],
   "source": [
    "# from IPython.display import display\n",
    "# from sklearn import set_config\n",
    "# set_config(display='diagram')\n",
    "# display(pipe_rf)"
   ]
  },
  {
   "cell_type": "code",
   "execution_count": 34,
   "metadata": {},
   "outputs": [
    {
     "data": {
      "image/png": "[encoded data removed]",
      "text/plain": [
       "<Figure size 432x288 with 1 Axes>"
      ]
     },
     "metadata": {
      "needs_background": "light"
     },
     "output_type": "display_data"
    }
   ],
   "source": [
    "\n",
    "result = permutation_importance(\n",
    "    pipe_rf, X_val[predictors], y_val, n_repeats=10, random_state=42, n_jobs=2\n",
    ")\n",
    "forest_importances = pd.Series(result.importances_mean, index=predictors)\n",
    "\n",
    "fig, ax = plt.subplots()\n",
    "forest_importances.plot.bar(yerr=result.importances_std, ax=ax)\n",
    "ax.set_title(\"Feature importances using permutation on full model\")\n",
    "ax.set_ylabel(\"Mean accuracy decrease\")\n",
    "fig.tight_layout()\n",
    "plt.show()"
   ]
  },
  {
   "cell_type": "code",
   "execution_count": 50,
   "metadata": {},
   "outputs": [
    {
     "name": "stdout",
     "output_type": "stream",
     "text": [
      "timesofday            0.518841\n",
      "rhum                  0.097670\n",
      "hour                  0.073297\n",
      "temp_r                0.057041\n",
      "dayofweek             0.012800\n",
      "rainfall_intensity    0.010470\n",
      "working_day           0.009378\n",
      "wind_speed_group      0.006425\n",
      "peak                  0.001851\n",
      "holiday               0.000819\n",
      "dtype: float64\n"
     ]
    },
    {
     "data": {
      "image/png": "[encoded data removed]",
      "text/plain": [
       "<Figure size 1080x864 with 1 Axes>"
      ]
     },
     "metadata": {
      "needs_background": "light"
     },
     "output_type": "display_data"
    }
   ],
   "source": [
    "plot_feature_importances(model=pipe_rf, columns=predictors,plot_title='Random Forest Feature Importances')"
   ]
  },
  {
   "cell_type": "code",
   "execution_count": null,
   "metadata": {},
   "outputs": [],
   "source": [
    "sdfdsfsdf"
   ]
  },
  {
   "cell_type": "code",
   "execution_count": null,
   "metadata": {},
   "outputs": [],
   "source": [
    "%%time\n",
    "\n",
    "cv = KFold(n_splits=3, shuffle=True, random_state=2022)\n",
    "\n",
    "for n_fold, (train_index, test_index) in enumerate(cv.split(X_train, y_train)):\n",
    "    print('#'*40, f'Fold {n_fold+1} out of {cv.n_splits}', '#'*40)\n",
    "    \n",
    "    # X_train, y_train = X[train_index], y[train_index] # Train data\n",
    "    # X_val, y_val = X[test_index], y[test_index] # Valid data\n",
    "    \n",
    "    # pipe_gbm.fit(X_train, y_train, eval_set=[(X_train, y_train), (X_val, y_val)],\n",
    "    #           verbose=250, early_stopping_rounds=50)\n",
    "    \n",
    "    # preds_lgb[test_index] += pipe_gbm.predict(X_val, raw_score=False)"
   ]
  },
  {
   "cell_type": "markdown",
   "metadata": {},
   "source": [
    "## Catboost"
   ]
  },
  {
   "cell_type": "code",
   "execution_count": null,
   "metadata": {},
   "outputs": [],
   "source": [
    "# Catboost model\n",
    "# Fit a pipeline with transformers and an estimator to the training data\n",
    "# pipe_catboost = Pipeline([\n",
    "#     ('preprocessor', preprocessor),\n",
    "#     ('model', CatBoostRegressor(verbose=1, n_estimators=100))\n",
    "# ])\n",
    "catboost_model = CatBoostRegressor(n_estimators=5000, depth=3, learning_rate=0.01, loss_function='RMSE')\n",
    "catboost_model.fit(X_train, y_train, cat_features=predictors, eval_set=(X_test, y_test), verbose=250, early_stopping_rounds=30)"
   ]
  },
  {
   "cell_type": "code",
   "execution_count": null,
   "metadata": {},
   "outputs": [],
   "source": [
    "y_test_pred = catboost_model.predict(df_test[predictors])\n",
    "y_hat = pd.DataFrame(y_test_pred, columns=['count'])"
   ]
  },
  {
   "cell_type": "code",
   "execution_count": null,
   "metadata": {},
   "outputs": [],
   "source": [
    "metrics.mean_absolute_error(y_test, y_test_pred)"
   ]
  },
  {
   "cell_type": "markdown",
   "metadata": {},
   "source": [
    "## Feature Importance"
   ]
  },
  {
   "cell_type": "code",
   "execution_count": null,
   "metadata": {},
   "outputs": [],
   "source": [
    "# LightGBM model\n",
    "params_lightgbm = {'n_estimators': 5000,\n",
    "                   'objective': 'l1',\n",
    "                   'learning_rate': 0.01, \n",
    "                   'subsample': 0.7,\n",
    "                   'verbosity': -1,\n",
    "                   'feature_fraction': 0.5,\n",
    "                   'bagging_fraction': 0.5,\n",
    "                   'bagging_freq': 20,\n",
    "                   'importance_type': 'gain'\n",
    "                   }\n",
    "\n",
    "# Fit a pipeline with transformers and an estimator to the training data\n",
    "pipe_gbm = Pipeline([\n",
    "    ('preprocessor', preprocessor),\n",
    "    ('model', LGBMRegressor(**params_lightgbm))\n",
    "])\n",
    "pipe_gbm.fit(X_train, y_train)\n",
    "\n",
    "#Plotting features importance\n",
    "feature_imp = pd.DataFrame(sorted(zip(pipe_gbm['model'].feature_importances_,X_train.columns)), \n",
    "                           columns=['Value','Feature'])\n",
    "scaler_ft = MinMaxScaler()\n",
    "feature_imp['Value'] = scaler_ft.fit_transform(feature_imp['Value'].values.reshape(-1,1));\n",
    "\n",
    "fig = plt.figure(figsize=(15, 12))\n",
    "sns.barplot(x=\"Value\", y=\"Feature\", data=feature_imp.sort_values(by=\"Value\", ascending=False))\n",
    "plt.title('LightGBM Features Importance')\n",
    "locs, labels = plt.xticks()\n",
    "plt.tick_params(axis='both', which='major', labelsize=12)\n",
    "\n",
    "plt.show()"
   ]
  },
  {
   "cell_type": "markdown",
   "metadata": {},
   "source": [
    "## Random Forest Regressor"
   ]
  },
  {
   "cell_type": "markdown",
   "metadata": {},
   "source": [
    "### Extrapolation problem \n",
    "\n",
    "When using a Random Forest Regressor, the predicted values are never outside the training set values for the target variable. If it is tasked with the problem of predicting for values not previously seen, it will always predict an average of the values seen previously. Obviously the average of a sample can not fall outside the highest and lowest values in the sample. \n",
    "\n",
    "The Random Forest Regressor is unable to discover trends that would enable it in extrapolating values that fall outside the training set. When faced with such a scenario, the regressor assumes that the prediction will fall close to the maximum value in the training set. \n",
    "\n",
    "\n",
    "### Potential solutions\n",
    "\n",
    "Ok, so how can you deal with this extrapolation problem?\n",
    "\n",
    "There are a couple of options:\n",
    "\n",
    "- Use a linear model such as SVM regression, Linear Regression, etc\n",
    "- Build a deep learning model because neural nets are able to extrapolate (they are basically stacked linear regression models on steroids)\n",
    "- Combine predictors using [stacking](https://scikit-learn.org/stable/auto_examples/ensemble/plot_stack_predictors.html). For example, you can create a stacking regressor using a Linear model and a Random Forest Regressor. \n",
    "- Use modified versions of random forest\n",
    "\n",
    "One of such extensions is [Regression-Enhanced Random Forests](https://arxiv.org/pdf/1904.10416.pdf) (RERFs). The authors of this paper propose a technique borrowed from the strengths of penalized parametric regression to give better results in extrapolation problems.\n",
    "\n",
    "Specifically, there are two steps to the process:\n",
    "\n",
    "run Lasso before Random Forest, \n",
    "train a Random Forest on the residuals from Lasso. \n",
    "Since Random Forest is a fully nonparametric predictive algorithm, it may not efficiently incorporate known relationships between the response and the predictors. The response values are the observed values Y1, . . . , Yn  from the training data. RERFs are able to incorporate known relationships between the responses and the predictors which is another benefit of using Regression-Enhanced Random Forests for regression problems.\n",
    "\n",
    "Source: https://neptune.ai/blog/random-forest-regression-when-does-it-fail-and-why"
   ]
  },
  {
   "cell_type": "code",
   "execution_count": null,
   "metadata": {},
   "outputs": [],
   "source": [
    "# random forest model\n",
    "params_rf = {'n_estimators': 1000, \n",
    "             'max_depth': 20, \n",
    "             'random_state': 0, \n",
    "             'min_samples_split' : 5,\n",
    "             'n_jobs': -1}\n",
    "\n",
    "# Fit a pipeline with transformers and an estimator to the training data\n",
    "pipe_rf = Pipeline([\n",
    "    ('preprocessor', preprocessor),\n",
    "    ('model', RandomForestRegressor(**params_rf, criterion='mae'))\n",
    "])\n",
    "pipe_rf.fit(X_train, y_train)"
   ]
  },
  {
   "cell_type": "code",
   "execution_count": null,
   "metadata": {},
   "outputs": [],
   "source": [
    "pipe_rf['model'].feature_importances_"
   ]
  },
  {
   "cell_type": "code",
   "execution_count": null,
   "metadata": {},
   "outputs": [],
   "source": [
    "#Plotting features importance\n",
    "feature_imp = pd.DataFrame(sorted(zip(pipe_rf['model'].feature_importances_,X_train.columns)), \n",
    "                           columns=['Value','Feature'])\n",
    "scaler_ft = MinMaxScaler()\n",
    "feature_imp['Value'] = scaler_ft.fit_transform(feature_imp['Value'].values.reshape(-1,1));\n",
    "\n",
    "fig = plt.figure(figsize=(15, 12))\n",
    "sns.barplot(x=\"Value\", y=\"Feature\", data=feature_imp.sort_values(by=\"Value\", ascending=False))\n",
    "plt.title('Random Forest Features Importance')\n",
    "locs, labels = plt.xticks()\n",
    "plt.tick_params(axis='both', which='major', labelsize=12)\n",
    "\n",
    "plt.show()"
   ]
  },
  {
   "cell_type": "code",
   "execution_count": null,
   "metadata": {},
   "outputs": [],
   "source": [
    "from sklearn.inspection import permutation_importance\n",
    "import shap"
   ]
  },
  {
   "cell_type": "code",
   "execution_count": null,
   "metadata": {},
   "outputs": [],
   "source": [
    "perm_importance = permutation_importance(pipe_rf, X_test, y_test)"
   ]
  },
  {
   "cell_type": "code",
   "execution_count": null,
   "metadata": {},
   "outputs": [],
   "source": [
    "perm_importance"
   ]
  },
  {
   "cell_type": "code",
   "execution_count": null,
   "metadata": {},
   "outputs": [],
   "source": [
    "sorted_idx = perm_importance.importances_mean.argsort()\n",
    "sorted_idx\n",
    "# plt.barh(feature_imp[sorted_idx], perm_importance.importances_mean[sorted_idx])\n",
    "# plt.xlabel(\"Permutation Importance\")"
   ]
  },
  {
   "cell_type": "code",
   "execution_count": null,
   "metadata": {},
   "outputs": [],
   "source": [
    "# random forest model\n",
    "params_rf = {'n_estimators': 1000, \n",
    "             'max_depth': 20, \n",
    "             'random_state': 0, \n",
    "             'min_samples_split' : 5,\n",
    "             'n_jobs': -1}\n",
    "\n",
    "# Fit a pipeline with transformers and an estimator to the training data\n",
    "pipe_rf = Pipeline([\n",
    "    ('preprocessor', preprocessor),\n",
    "    ('model', RandomForestRegressor(**params_rf, criterion='mae'))\n",
    "])\n",
    "pipe_rf.fit(X_train, y_train)\n",
    "\n",
    "#Plotting features importance\n",
    "feature_imp = pd.DataFrame(sorted(zip(pipe_gbm['model'].feature_importances_,X_train.columns)), \n",
    "                           columns=['Value','Feature'])\n",
    "scaler_ft = MinMaxScaler()\n",
    "feature_imp['Value'] = scaler_ft.fit_transform(feature_imp['Value'].values.reshape(-1,1));\n",
    "\n",
    "fig = plt.figure(figsize=(15, 12))\n",
    "sns.barplot(x=\"Value\", y=\"Feature\", data=feature_imp.sort_values(by=\"Value\", ascending=False))\n",
    "plt.title('Random Forest Features Importance')\n",
    "locs, labels = plt.xticks()\n",
    "plt.tick_params(axis='both', which='major', labelsize=12)\n",
    "\n",
    "plt.show()"
   ]
  },
  {
   "cell_type": "code",
   "execution_count": null,
   "metadata": {},
   "outputs": [],
   "source": [
    "# random forest model\n",
    "params_rf = {'n_estimators': 1000, \n",
    "             'max_depth': 20, \n",
    "             'random_state': 0, \n",
    "             'min_samples_split' : 5, \n",
    "             'n_jobs': -1}\n",
    "\n",
    "# Fit a pipeline with transformers and an estimator to the training data\n",
    "pipe_rf = Pipeline([\n",
    "    ('preprocessor', preprocessor),\n",
    "    ('model', RandomForestRegressor(**params_rf))\n",
    "])\n",
    "pipe_rf.fit(X_train, y_train)\n",
    "# y_train_pred = pipe_rf.predict(X_train)\n",
    "# y_test_pred = pipe_rf.predict(X_test)\n",
    "\n",
    "# print_evalmetrics(y_test, y_test_pred)"
   ]
  },
  {
   "cell_type": "markdown",
   "metadata": {},
   "source": [
    "## Support Vector Regression"
   ]
  },
  {
   "cell_type": "code",
   "execution_count": null,
   "metadata": {},
   "outputs": [],
   "source": [
    "from sklearn.svm import SVR\n",
    "\n",
    "# Fit a pipeline with transformers and an estimator to the training data\n",
    "pipe_svr = Pipeline([\n",
    "    ('preprocessor', preprocessor),\n",
    "    ('model', SVR(kernel='poly',gamma='scale',C=100))\n",
    "])\n",
    "pipe_svr.fit(X_train, y_train)\n",
    "y_train_pred = pipe_svr.predict(X_train)\n",
    "y_test_pred = pipe_svr.predict(X_test)\n",
    "\n",
    "print_evalmetrics(y_test, y_test_pred)"
   ]
  },
  {
   "cell_type": "code",
   "execution_count": null,
   "metadata": {},
   "outputs": [],
   "source": [
    "from numpy import mean\n",
    "from numpy import std\n",
    "from numpy import absolute\n",
    "from sklearn.model_selection import cross_val_score\n",
    "from sklearn.model_selection import KFold\n",
    "\n",
    "# define the model cross-validation configuration\n",
    "cv = KFold(n_splits=10, shuffle=True, random_state=1)\n",
    "# evaluate the pipeline using cross validation and calculate MAE\n",
    "scores = cross_val_score(pipe_svr, X_train, y_train, scoring='neg_mean_absolute_error', cv=cv, n_jobs=-1)\n",
    "# convert MAE scores to positive values\n",
    "scores = absolute(scores)\n",
    "# summarize the model performance\n",
    "print('MAE: %.3f (%.3f)' % (mean(scores), std(scores)))\n",
    "y_test_pred = pipe_svr.predict(X_test)\n",
    "print_evalmetrics(y_test, y_test_pred)"
   ]
  },
  {
   "cell_type": "code",
   "execution_count": null,
   "metadata": {},
   "outputs": [],
   "source": [
    "predicted_values = pd.DataFrame()\n",
    "predicted_values['real'] = y_test\n",
    "predicted_values['predicted'] = y_test_pred\n",
    "\n",
    "predicted_values"
   ]
  },
  {
   "cell_type": "markdown",
   "metadata": {},
   "source": [
    "## GradientBoost"
   ]
  },
  {
   "cell_type": "code",
   "execution_count": null,
   "metadata": {},
   "outputs": [],
   "source": [
    "# GBM model\n",
    "params_gbm = {'n_estimators': 150, \n",
    "              'max_depth': 5, \n",
    "              'random_state': 0, \n",
    "              'min_samples_leaf' : 10, \n",
    "              'learning_rate': 0.01, \n",
    "              'subsample': 0.7, \n",
    "              'loss': 'ls'}\n",
    "\n",
    "# Fit a pipeline with transformers and an estimator to the training data\n",
    "pipe_gbm = Pipeline([\n",
    "    ('preprocessor', preprocessor),\n",
    "    ('model', GradientBoostingRegressor(**params_gbm))\n",
    "])\n",
    "pipe_gbm.fit(X_train, y_train)\n",
    "y_train_pred = pipe_gbm.predict(X_train)\n",
    "y_test_pred = pipe_gbm.predict(X_test)\n",
    "\n",
    "print_evalmetrics(y_test, y_test_pred)"
   ]
  },
  {
   "cell_type": "markdown",
   "metadata": {},
   "source": [
    "## LightGBM"
   ]
  },
  {
   "cell_type": "code",
   "execution_count": null,
   "metadata": {},
   "outputs": [],
   "source": [
    "# LightGBM model\n",
    "params_lightgbm = {'n_estimators': 1000, \n",
    "                   'max_depth': 15, \n",
    "                   'random_state': 0, \n",
    "                   'learning_rate': 0.01, \n",
    "                   'subsample': 0.7,\n",
    "                   'num_leaves': 30,\n",
    "                   'metric': 'rmse',\n",
    "                   'n_jobs': 2\n",
    "                   }\n",
    "\n",
    "# Fit a pipeline with transformers and an estimator to the training data\n",
    "pipe_gbm = Pipeline([\n",
    "    ('preprocessor', preprocessor),\n",
    "    ('model', LGBMRegressor(**params_lightgbm))\n",
    "])\n",
    "pipe_gbm.fit(X_train, y_train)\n",
    "y_train_pred = pipe_gbm.predict(X_train)\n",
    "y_test_pred = pipe_gbm.predict(X_test)\n",
    "\n",
    "print_evalmetrics(y_test, y_test_pred)"
   ]
  },
  {
   "cell_type": "code",
   "execution_count": null,
   "metadata": {},
   "outputs": [],
   "source": [
    "%reload_ext watermark\n",
    "%watermark -a \"Leandro Pessini\" -n -u -v -iv -w"
   ]
  },
  {
   "cell_type": "markdown",
   "metadata": {},
   "source": [
    "<img title=\"GitHub Mark\" src=\"./img/GitHub-Mark-64px.png\" style=\"height: 32px; padding-right: 15px\" alt=\"GitHub Mark\" align=\"left\"> [GitHub repository](https://github.com/pessini/moby-bikes) <br>Author: Leandro Pessini"
   ]
  }
 ],
 "metadata": {
  "interpreter": {
   "hash": "e88ab788e4c28b6ebfdd315341ca6b84d0235bda4bdece235b181ca971ce4b33"
  },
  "kernelspec": {
   "display_name": "Python 3.9.6 (conda)",
   "language": "python",
   "name": "python3"
  },
  "language_info": {
   "codemirror_mode": {
    "name": "ipython",
    "version": 3
   },
   "file_extension": ".py",
   "mimetype": "text/x-python",
   "name": "python",
   "nbconvert_exporter": "python",
   "pygments_lexer": "ipython3",
   "version": "3.9.6"
  }
 },
 "nbformat": 4,
 "nbformat_minor": 2
}
