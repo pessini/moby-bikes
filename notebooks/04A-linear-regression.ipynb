{
 "cells": [
  {
   "cell_type": "markdown",
   "metadata": {},
   "source": [
    "<img title=\"GitHub Octocat\" src='./img/Octocat.jpg' style='height: 60px; padding-right: 15px' alt=\"Octocat\" align=\"left\"> This notebook is part of a GitHub repository: https://github.com/pessini/moby-bikes \n",
    "<br>MIT Licensed\n",
    "<br>Author: Leandro Pessini"
   ]
  },
  {
   "cell_type": "code",
   "execution_count": 1,
   "metadata": {},
   "outputs": [],
   "source": [
    "import pandas as pd\n",
    "import matplotlib.pyplot as plt\n",
    "import seaborn as sns\n",
    "import numpy as np\n",
    "from patsy import dmatrices\n",
    "\n",
    "# Preprocessing\n",
    "from sklearn.model_selection import train_test_split\n",
    "from sklearn.preprocessing import StandardScaler, MinMaxScaler, OneHotEncoder, OrdinalEncoder\n",
    "from sklearn.compose import ColumnTransformer\n",
    "from sklearn.pipeline import Pipeline\n",
    "from sklearn.preprocessing import PolynomialFeatures\n",
    "\n",
    "# Model and Evaluation\n",
    "from sklearn.linear_model import LinearRegression\n",
    "from sklearn import linear_model\n",
    "from sklearn import metrics\n",
    "\n",
    "# statsmodel\n",
    "import statsmodels.api as sm\n",
    "import statsmodels.tsa.api as smt\n",
    "import statsmodels.formula.api as smf\n",
    "from statsmodels.stats.outliers_influence import variance_inflation_factor\n",
    "from statsmodels.tools.tools import maybe_unwrap_results\n",
    "from statsmodels.graphics.gofplots import ProbPlot\n",
    "from typing import Type\n",
    "\n",
    "# spicy\n",
    "from scipy.stats import skew\n",
    "from scipy.stats import boxcox\n",
    "from scipy.stats import yeojohnson\n",
    "\n",
    "import warnings\n",
    "warnings.filterwarnings('ignore')"
   ]
  },
  {
   "cell_type": "code",
   "execution_count": 2,
   "metadata": {},
   "outputs": [
    {
     "name": "stdout",
     "output_type": "stream",
     "text": [
      "Author: Leandro Pessini\n",
      "\n",
      "Last updated: Tue May 17 2022\n",
      "\n",
      "Python implementation: CPython\n",
      "Python version       : 3.9.6\n",
      "IPython version      : 8.3.0\n",
      "\n",
      "numpy      : 1.21.1\n",
      "sys        : 3.9.6 | packaged by conda-forge | (default, Jul 11 2021, 03:36:15) \n",
      "[Clang 11.1.0 ]\n",
      "seaborn    : 0.11.1\n",
      "pandas     : 1.3.0\n",
      "sklearn    : 1.0.2\n",
      "statsmodels: 0.13.2\n",
      "matplotlib : 3.4.2\n",
      "\n",
      "Watermark: 2.3.0\n",
      "\n"
     ]
    }
   ],
   "source": [
    "%reload_ext watermark\n",
    "%watermark -a \"Leandro Pessini\" -n -u -v -iv -w"
   ]
  },
  {
   "cell_type": "code",
   "execution_count": 3,
   "metadata": {},
   "outputs": [
    {
     "name": "stdout",
     "output_type": "stream",
     "text": [
      "<class 'pandas.core.frame.DataFrame'>\n",
      "RangeIndex: 8760 entries, 0 to 8759\n",
      "Data columns (total 23 columns):\n",
      " #   Column              Non-Null Count  Dtype  \n",
      "---  ------              --------------  -----  \n",
      " 0   rain                8760 non-null   float64\n",
      " 1   temp                8760 non-null   float64\n",
      " 2   rhum                8760 non-null   int64  \n",
      " 3   wdsp                8760 non-null   int64  \n",
      " 4   date                8760 non-null   object \n",
      " 5   hour                8760 non-null   int64  \n",
      " 6   day                 8760 non-null   int64  \n",
      " 7   month               8760 non-null   int64  \n",
      " 8   year                8760 non-null   int64  \n",
      " 9   count               8760 non-null   int64  \n",
      " 10  holiday             8760 non-null   bool   \n",
      " 11  dayofweek_n         8760 non-null   int64  \n",
      " 12  dayofweek           8760 non-null   object \n",
      " 13  working_day         8760 non-null   bool   \n",
      " 14  season              8760 non-null   object \n",
      " 15  peak                8760 non-null   bool   \n",
      " 16  timesofday          8760 non-null   object \n",
      " 17  rainfall_intensity  8760 non-null   object \n",
      " 18  wind_bft            8760 non-null   int64  \n",
      " 19  wind_speed_group    8760 non-null   object \n",
      " 20  temp_r              8760 non-null   int64  \n",
      " 21  temp_bin            8760 non-null   float64\n",
      " 22  rhum_bin            8760 non-null   float64\n",
      "dtypes: bool(3), float64(4), int64(10), object(6)\n",
      "memory usage: 1.4+ MB\n"
     ]
    }
   ],
   "source": [
    "hourly_rentals = pd.read_csv('../data/processed/df_train.csv')\n",
    "hourly_rentals.info()"
   ]
  },
  {
   "cell_type": "markdown",
   "metadata": {},
   "source": [
    "## OLS Assumptions"
   ]
  },
  {
   "cell_type": "code",
   "execution_count": 12,
   "metadata": {},
   "outputs": [
    {
     "name": "stdout",
     "output_type": "stream",
     "text": [
      "                 Generalized Linear Model Regression Results                  \n",
      "==============================================================================\n",
      "Dep. Variable:                  count   No. Observations:                 8760\n",
      "Model:                            GLM   Df Residuals:                     8732\n",
      "Model Family:                Gaussian   Df Model:                           27\n",
      "Link Function:               identity   Scale:                          7.9395\n",
      "Method:                          IRLS   Log-Likelihood:                -21491.\n",
      "Date:                Tue, 17 May 2022   Deviance:                       69328.\n",
      "Time:                        22:27:43   Pearson chi2:                 6.93e+04\n",
      "No. Iterations:                     3   Pseudo R-squ. (CS):             0.4727\n",
      "Covariance Type:                  HC3                                         \n",
      "====================================================================================================================\n",
      "                                                       coef    std err          z      P>|z|      [0.025      0.975]\n",
      "--------------------------------------------------------------------------------------------------------------------\n",
      "Intercept                                            6.7880      0.328     20.670      0.000       6.144       7.432\n",
      "C(rainfall_intensity)[T.heavy rain]                 -0.2438      0.629     -0.388      0.698      -1.477       0.989\n",
      "C(rainfall_intensity)[T.light rain]                 -0.0951      0.270     -0.352      0.725      -0.625       0.435\n",
      "C(rainfall_intensity)[T.moderate rain]              -0.3793      0.166     -2.279      0.023      -0.705      -0.053\n",
      "C(rainfall_intensity)[T.no rain]                     0.6175      0.117      5.264      0.000       0.388       0.847\n",
      "C(temp_bin)[T.1.0]                                   0.1200      0.163      0.735      0.463      -0.200       0.440\n",
      "C(temp_bin)[T.2.0]                                   0.3257      0.159      2.042      0.041       0.013       0.638\n",
      "C(temp_bin)[T.3.0]                                   0.2212      0.154      1.434      0.151      -0.081       0.524\n",
      "C(temp_bin)[T.4.0]                                   0.6052      0.157      3.847      0.000       0.297       0.914\n",
      "C(temp_bin)[T.5.0]                                   0.8816      0.161      5.473      0.000       0.566       1.197\n",
      "C(temp_bin)[T.6.0]                                   0.8592      0.160      5.383      0.000       0.546       1.172\n",
      "C(temp_bin)[T.7.0]                                   1.5683      0.178      8.832      0.000       1.220       1.916\n",
      "C(temp_bin)[T.8.0]                                   1.6133      0.211      7.652      0.000       1.200       2.027\n",
      "C(temp_bin)[T.9.0]                                   1.6853      0.349      4.828      0.000       1.001       2.369\n",
      "C(rhum_bin)[T.1.0]                                  -0.6582      0.286     -2.305      0.021      -1.218      -0.099\n",
      "C(rhum_bin)[T.2.0]                                  -2.0287      0.265     -7.643      0.000      -2.549      -1.508\n",
      "C(rhum_bin)[T.3.0]                                  -2.7681      0.263    -10.512      0.000      -3.284      -2.252\n",
      "C(rhum_bin)[T.4.0]                                  -3.1979      0.265    -12.049      0.000      -3.718      -2.678\n",
      "C(wind_speed_group)[T.Calm / Light Breeze]           0.0719      0.073      0.985      0.325      -0.071       0.215\n",
      "C(wind_speed_group)[T.Gale / Storm]                 -0.6148      0.211     -2.920      0.003      -1.027      -0.202\n",
      "C(wind_speed_group)[T.Moderate Breeze]              -0.1601      0.082     -1.961      0.050      -0.320   -6.34e-05\n",
      "C(wind_speed_group)[T.Strong Breeze / Near Gale]    -1.1253      0.215     -5.229      0.000      -1.547      -0.704\n",
      "holiday[T.True]                                     -0.5032      0.239     -2.105      0.035      -0.972      -0.035\n",
      "working_day[T.True]                                 -0.2713      0.075     -3.604      0.000      -0.419      -0.124\n",
      "peak[T.True]                                         0.3588      0.084      4.273      0.000       0.194       0.523\n",
      "C(timesofday)[T.Evening]                            -1.3826      0.103    -13.447      0.000      -1.584      -1.181\n",
      "C(timesofday)[T.Morning]                            -0.6480      0.116     -5.593      0.000      -0.875      -0.421\n",
      "C(timesofday)[T.Night]                              -3.5116      0.098    -35.728      0.000      -3.704      -3.319\n",
      "====================================================================================================================\n"
     ]
    }
   ],
   "source": [
    "expr = \\\n",
    "     \"\"\" count ~ C(rainfall_intensity) + C(temp_bin) + C(rhum_bin) + C(wind_speed_group) + holiday + working_day + peak + C(timesofday)\"\"\"\n",
    "y_train, X_train = dmatrices(expr, hourly_rentals, return_type = 'dataframe')\n",
    "# nb_training_results = sm.GLM(y_train, X_train, family = sm.families.NegativeBinomial(alpha = 1)).fit(maxiter=5000, method='nm', cov_type='HC3')\n",
    "X_with_constant = sm.add_constant(X_train)\n",
    "model = sm.GLM(y_train, X_with_constant).fit(cov_type='HC3')\n",
    "print(model.summary())"
   ]
  },
  {
   "cell_type": "code",
   "execution_count": null,
   "metadata": {},
   "outputs": [],
   "source": [
    "model.resid_working"
   ]
  },
  {
   "cell_type": "code",
   "execution_count": 14,
   "metadata": {},
   "outputs": [
    {
     "data": {
      "image/png": "[encoded data removed]",
      "text/plain": [
       "<Figure size 864x432 with 2 Axes>"
      ]
     },
     "metadata": {
      "needs_background": "light"
     },
     "output_type": "display_data"
    }
   ],
   "source": [
    "def linearity_test(model, y):\n",
    "    '''\n",
    "    Function for visually inspecting the assumption of linearity in a linear regression model.\n",
    "    It plots observed vs. predicted values and residuals vs. predicted values.\n",
    "    \n",
    "    Args:\n",
    "    * model - fitted OLS model from statsmodels\n",
    "    * y - observed values\n",
    "    '''\n",
    "    fitted_vals = model.predict()\n",
    "    resids = model.resid_response\n",
    "\n",
    "    fig, ax = plt.subplots(1,2, figsize=(12,6))\n",
    "    \n",
    "    sns.regplot(x=fitted_vals, y=y, lowess=True, ax=ax[0], line_kws={'color': 'red'})\n",
    "    ax[0].set_title('Observed vs. Predicted Values', fontsize=16)\n",
    "    ax[0].set(xlabel='Predicted', ylabel='Observed')\n",
    "\n",
    "    sns.regplot(x=fitted_vals, y=resids, lowess=True, ax=ax[1], line_kws={'color': 'red'})\n",
    "    ax[1].set_title('Residuals vs. Predicted Values', fontsize=16)\n",
    "    ax[1].set(xlabel='Predicted', ylabel='Residuals')\n",
    "    \n",
    "linearity_test(model, y_train)   "
   ]
  },
  {
   "cell_type": "code",
   "execution_count": null,
   "metadata": {},
   "outputs": [],
   "source": [
    "#create instance of influence\n",
    "influence = model.get_influence()\n",
    "#obtain standardized residuals\n",
    "standardized_residuals = influence.resid_studentized_internal"
   ]
  },
  {
   "cell_type": "code",
   "execution_count": null,
   "metadata": {},
   "outputs": [],
   "source": [
    "p = sns.distplot(model.resid,kde=True)\n",
    "p = plt.title('Normality of error terms/residuals')"
   ]
  },
  {
   "cell_type": "code",
   "execution_count": null,
   "metadata": {},
   "outputs": [],
   "source": [
    "model.resid.mean()"
   ]
  },
  {
   "cell_type": "code",
   "execution_count": null,
   "metadata": {},
   "outputs": [],
   "source": [
    "X_test = X_test['temp_r']\n",
    "y_test = np.log(y_test)\n",
    "X_test_with_constant = sm.add_constant(X_test)\n",
    "y_pred = model.predict(X_test_with_constant)\n",
    "residuals = y_test - y_pred\n",
    "# predicted_values = model.predict()\n",
    "ols_residuals = model.resid"
   ]
  },
  {
   "cell_type": "markdown",
   "metadata": {},
   "source": [
    "### Assumption 1 - Linearity\n",
    "\n",
    "This assumes that there is a linear relationship between the predictors and the response variable.\n",
    "\n",
    "<!-- > \"In statistics, a regression model is linear when all terms in the model are either the constant or a parameter multiplied by an independent variable.\" (Frost, 2020, p. 202)\n",
    "Frost, J. (2020). Regression Analysis: An Intuitive Guide for Using and Interpreting Linear Models. Statistics By Jim Publishing. -->\n"
   ]
  },
  {
   "cell_type": "code",
   "execution_count": null,
   "metadata": {},
   "outputs": [],
   "source": [
    "#create instance of influence\n",
    "influence = model.get_influence()\n",
    "#obtain standardized residuals\n",
    "standardized_residuals = influence.resid_studentized_internal\n",
    "#display standardized residuals\n",
    "print(standardized_residuals)"
   ]
  },
  {
   "cell_type": "markdown",
   "metadata": {},
   "source": [
    "### Residuals x Temperature"
   ]
  },
  {
   "cell_type": "code",
   "execution_count": null,
   "metadata": {},
   "outputs": [],
   "source": [
    "fig, ax = plt.subplots(figsize=(16, 10))\n",
    "sns.regplot(x=ols_residuals, y=model.fittedvalues, ax=ax, line_kws={'color': 'black', 'lw': 2, 'linestyle': '--'})\n",
    "ax.set_title('Residuals vs. Temperature', fontsize=16)\n",
    "ax.set(xlabel='Temperature', ylabel='Residuals')\n",
    "plt.show()"
   ]
  },
  {
   "cell_type": "code",
   "execution_count": null,
   "metadata": {},
   "outputs": [],
   "source": [
    "from sklearn.preprocessing import PowerTransformer\n",
    "p = PowerTransformer(method = 'yeo-johnson')\n",
    "y_train_tranformed = p.fit_transform(y_train.to_frame())"
   ]
  },
  {
   "cell_type": "code",
   "execution_count": null,
   "metadata": {},
   "outputs": [],
   "source": [
    "vif = [variance_inflation_factor(X_with_constant.values, i) for i in range(X_with_constant.shape[1])]\n",
    "pd.DataFrame({'vif': vif[1:]}, index=X.columns)"
   ]
  },
  {
   "cell_type": "code",
   "execution_count": null,
   "metadata": {},
   "outputs": [],
   "source": [
    "fig = plt.figure(figsize=(16,12))\n",
    "gs = fig.add_gridspec(2, 2)\n",
    "ax0 = fig.add_subplot(gs[0, 0])\n",
    "ax1 = fig.add_subplot(gs[0, 1])\n",
    "ax2 = fig.add_subplot(gs[1, 0])\n",
    "ax3 = fig.add_subplot(gs[1, 1])\n",
    "\n",
    "sns.histplot(hourly_rentals['temp'],ax=ax0, stat='density', kde=True, \n",
    "             label= 'Skew :{0}'.format(np.round(skew(hourly_rentals['temp']),4)))\n",
    "sns.histplot(hourly_rentals['rhum'],ax=ax1, stat='density', kde=True, \n",
    "             label= 'Skew :{0}'.format(np.round(skew(hourly_rentals['rhum']),4)))\n",
    "sns.histplot(hourly_rentals['wdsp'],ax=ax2, stat='density', kde=True, \n",
    "             label= 'Skew :{0}'.format(np.round(skew(hourly_rentals['wdsp']),4)))\n",
    "sns.histplot(hourly_rentals['count'],ax=ax3, stat='density', kde=True, \n",
    "             label= 'Skew :{0}'.format(np.round(skew(hourly_rentals['count']),4)))\n",
    "\n",
    "ax0.set(xlabel='Temperature',title=\"Distribution - Temperature\")\n",
    "ax1.set(xlabel='Relative Humidity',title=\"Distribution - Relative Humidity\")\n",
    "ax2.set(xlabel='Wind Speed',title=\"Distribution - Wind Speed\")\n",
    "ax3.set(xlabel='Count', title=\"Distribution - Rentals Count\")\n",
    "ax0.legend(), ax1.legend(), ax2.legend(), ax3.legend()\n",
    "plt.show()"
   ]
  },
  {
   "cell_type": "code",
   "execution_count": null,
   "metadata": {},
   "outputs": [],
   "source": [
    "poly = PolynomialFeatures(degree = 3)\n",
    "X_poly = poly.fit_transform(X_train)\n",
    "X_poly_constant = sm.add_constant(X_poly)\n",
    "lin2 = sm.OLS(y_train, X_poly_constant).fit()\n",
    "linearity_test(lin2, y_train) "
   ]
  },
  {
   "cell_type": "code",
   "execution_count": null,
   "metadata": {},
   "outputs": [],
   "source": [
    "transformed_target, lam = boxcox(y_train)\n",
    "fig,ax = plt.subplots(1,2,figsize=(13, 5))\n",
    "sns.distplot(y_train, label= 'Orginal Skew :{0}'.format(np.round(skew(y_train),4)), color='r', ax=ax[0], axlabel='ORGINAL')\n",
    "sns.distplot(transformed_target, label= 'Transformed Skew:{0}'.format(np.round(skew(transformed_target),4)), color='g', ax=ax[1], axlabel='BOX-COX TRANSFORMED')\n",
    "ax[0].set(title='Distribution of Target Variable')\n",
    "ax[1].set(title='After Transformation')\n",
    "fig.legend()\n",
    "plt.show()"
   ]
  },
  {
   "cell_type": "code",
   "execution_count": null,
   "metadata": {},
   "outputs": [],
   "source": [
    "transformed_target, lam = yeojohnson(y_train)\n",
    "fig,ax = plt.subplots(1,2,figsize=(13, 5))\n",
    "sns.distplot(y_train, label= 'Original Skew :{0}'.format(np.round(skew(y_train),4)), color='r', ax=ax[0], axlabel='ORGINAL')\n",
    "sns.distplot(transformed_target, label= 'Transformed Skew:{0}'.format(np.round(skew(transformed_target),4)), color='g', ax=ax[1], axlabel='BOX-COX TRANSFORMED')\n",
    "ax[0].set(title='Distribution of Target Variable')\n",
    "ax[1].set(title='After Transformation')\n",
    "fig.legend()\n",
    "plt.show()"
   ]
  },
  {
   "cell_type": "code",
   "execution_count": null,
   "metadata": {},
   "outputs": [],
   "source": [
    "corrMatt = hourly_rentals[['temp','wdsp','rhum', 'rain','count']].corr()\n",
    "mask = np.array(corrMatt)\n",
    "mask[np.tril_indices_from(mask)] = False\n",
    "cmap = sns.diverging_palette(180, 20, as_cmap=True)\n",
    "\n",
    "fig, ax = plt.subplots(figsize=(6, 6))\n",
    "sns.heatmap(corrMatt, mask=mask,vmax=.3, annot=True, ax=ax, cmap=cmap)\n",
    "plt.show()"
   ]
  },
  {
   "cell_type": "code",
   "execution_count": null,
   "id": "6641256b",
   "metadata": {},
   "outputs": [],
   "source": [
    "hourly_data_temp = X_train.copy()\n",
    "# hourly_data_temp['temp_type'] =  np.where(hourly_data_temp['temp'] > 10, 'High', 'Low')\n",
    "# hourly_data_temp['prodTempWind'] = hourly_data_temp['temp']*hourly_data_temp['wdsp']\n",
    "hourly_data_temp['prodRainWind'] = hourly_data_temp['rain']+hourly_data_temp['wdsp']"
   ]
  },
  {
   "cell_type": "code",
   "execution_count": null,
   "metadata": {},
   "outputs": [],
   "source": [
    "hourly_data_temp.head(2)"
   ]
  },
  {
   "cell_type": "code",
   "execution_count": null,
   "metadata": {},
   "outputs": [],
   "source": [
    "hourly_data_temp.drop(columns=['rain', 'wdsp'], inplace=True)\n",
    "hourly_data_temp.head(2)"
   ]
  },
  {
   "cell_type": "code",
   "execution_count": null,
   "metadata": {},
   "outputs": [],
   "source": [
    "X_with_constant = sm.add_constant(hourly_data_temp)\n",
    "model = sm.OLS(y_train, X_with_constant).fit()\n",
    "print(model.summary())"
   ]
  },
  {
   "cell_type": "code",
   "execution_count": null,
   "metadata": {},
   "outputs": [],
   "source": [
    "linearity_test(model, y_train)"
   ]
  },
  {
   "cell_type": "code",
   "execution_count": null,
   "metadata": {},
   "outputs": [],
   "source": [
    "X_with_constant.head()"
   ]
  },
  {
   "cell_type": "code",
   "execution_count": null,
   "metadata": {},
   "outputs": [],
   "source": [
    "vif = [variance_inflation_factor(X_with_constant.values, i) for i in range(X_with_constant.shape[1])]\n",
    "pd.DataFrame({'vif': vif[1:]}, index=hourly_data_temp.columns).T"
   ]
  }
 ],
 "metadata": {
  "interpreter": {
   "hash": "e88ab788e4c28b6ebfdd315341ca6b84d0235bda4bdece235b181ca971ce4b33"
  },
  "kernelspec": {
   "display_name": "Python 3.9.6 (conda)",
   "language": "python",
   "name": "python3"
  },
  "language_info": {
   "codemirror_mode": {
    "name": "ipython",
    "version": 3
   },
   "file_extension": ".py",
   "mimetype": "text/x-python",
   "name": "python",
   "nbconvert_exporter": "python",
   "pygments_lexer": "ipython3",
   "version": "3.9.6"
  },
  "orig_nbformat": 4
 },
 "nbformat": 4,
 "nbformat_minor": 2
}
