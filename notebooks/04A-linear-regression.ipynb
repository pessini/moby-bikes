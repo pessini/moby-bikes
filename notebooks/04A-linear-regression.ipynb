{
 "cells": [
  {
   "cell_type": "markdown",
   "metadata": {},
   "source": [
    "<img title=\"GitHub Octocat\" src='./img/Octocat.jpg' style='height: 60px; padding-right: 15px' alt=\"Octocat\" align=\"left\"> This notebook is part of a GitHub repository: https://github.com/pessini/moby-bikes \n",
    "<br>MIT Licensed\n",
    "<br>Author: Leandro Pessini"
   ]
  },
  {
   "cell_type": "code",
   "execution_count": null,
   "metadata": {},
   "outputs": [],
   "source": [
    "import pandas as pd\n",
    "import matplotlib.pyplot as plt\n",
    "import seaborn as sns\n",
    "import numpy as np\n",
    "\n",
    "# Preprocessing\n",
    "from sklearn.model_selection import train_test_split\n",
    "from sklearn.preprocessing import StandardScaler, MinMaxScaler, OneHotEncoder, OrdinalEncoder\n",
    "from sklearn.compose import ColumnTransformer\n",
    "from sklearn.pipeline import Pipeline\n",
    "from sklearn.preprocessing import PolynomialFeatures\n",
    "\n",
    "# Model and Evaluation\n",
    "from sklearn.linear_model import LinearRegression\n",
    "from sklearn import linear_model\n",
    "from sklearn import metrics\n",
    "\n",
    "\n",
    "# statsmodel\n",
    "import statsmodels.api as sm\n",
    "import statsmodels.tsa.api as smt\n",
    "import statsmodels.formula.api as smf\n",
    "from statsmodels.stats.outliers_influence import variance_inflation_factor\n",
    "\n",
    "# spicy\n",
    "from scipy.stats import skew\n",
    "from scipy.stats import boxcox\n",
    "from scipy.stats import yeojohnson\n",
    "\n",
    "import warnings\n",
    "warnings.filterwarnings('ignore')"
   ]
  },
  {
   "cell_type": "code",
   "execution_count": null,
   "metadata": {},
   "outputs": [],
   "source": [
    "from platform import python_version\n",
    "print('Python version:', python_version())"
   ]
  },
  {
   "cell_type": "code",
   "execution_count": null,
   "metadata": {},
   "outputs": [],
   "source": [
    "%reload_ext watermark\n",
    "%watermark -a \"Leandro Pessini\" --iversions"
   ]
  },
  {
   "cell_type": "code",
   "execution_count": null,
   "metadata": {},
   "outputs": [],
   "source": [
    "hourly_rentals = pd.read_csv('../data/processed/hourly_rentals.csv')"
   ]
  },
  {
   "cell_type": "code",
   "execution_count": null,
   "metadata": {},
   "outputs": [],
   "source": [
    "df = hourly_rentals.copy()\n",
    "df = df.astype({'holiday': 'category',\n",
    "                'working_day': 'category',\n",
    "                'peak': 'category',\n",
    "                'timesofday': 'category',\n",
    "                'rainfall_intensity': 'category',\n",
    "                'wind_bft': 'category',\n",
    "                'wind_speed_group': 'category'})\n",
    "\n",
    "df['humidity_norm'] = df['rhum']/100\n",
    "\n",
    "# predictors = ['temp','wdsp','rhum','rain_type','holiday','season','peak','timesofday']\n",
    "predictors = ['wind_speed_group','rainfall_intensity']\n",
    "\n",
    "# hourly_data_temp['temp_type'] =  np.where(hourly_data_temp['temp'] > 10, 'High', 'Low')\n",
    "df['prodTempWind'] = hourly_rentals['temp']*hourly_rentals['wdsp']\n",
    "df['prodRainWind'] = hourly_rentals['rain']+hourly_rentals['wdsp']\n",
    "# predictors = ['prodRainWind','prodTempWind','temp','rain_type']\n",
    "\n",
    "# OrdinalEnconder was chosen due \n",
    "# enc = OrdinalEncoder(dtype=np.int64, categories=[['no rain', 'drizzle', 'light rain', 'moderate rain', 'heavy rain']])\n",
    "# df['rain_type'] = enc.fit_transform(df[['rain_type']])\n",
    "\n",
    "X = df[[c for c in df.columns if c in predictors]]\n",
    "y = df.pop('count')\n",
    "\n",
    "# X['rain_type'] = pd.to_numeric(X['rain_type'])\n",
    "\n",
    "num_vars = [n for n in df.select_dtypes(include=['number']).columns if n in predictors] # list comprehension to select only predictors features\n",
    "cat_vars = [c for c in df.select_dtypes(include=['category']).columns if c in predictors]\n",
    "\n",
    "dummies = pd.get_dummies(X[cat_vars], drop_first=True)\n",
    "X = pd.concat([X[num_vars], dummies],axis=1)\n",
    "# y = np.log(y)\n",
    "\n",
    "X_train, X_test, y_train, y_test = train_test_split(X, y, test_size=0.3, random_state=42)\n",
    "X_train.shape, X_test.shape"
   ]
  },
  {
   "cell_type": "markdown",
   "metadata": {},
   "source": [
    "## OLS Assumptions"
   ]
  },
  {
   "cell_type": "code",
   "execution_count": null,
   "metadata": {},
   "outputs": [],
   "source": [
    "# X_train = X_train['temp_r']\n",
    "y_train = np.log(y_train)\n",
    "X_with_constant = sm.add_constant(X_train)\n",
    "# model = smf.ols('count ~ temp + wdsp + rhum + rain_type + temp*wdsp +temp*rhum + peak + working_day + timesofday', data=X_with_constant).fit(cov_type='HC3')\n",
    "# X_with_constant['prodTempWind'] = X_with_constant['temp']*X_with_constant['wdsp']\n",
    "# X_with_constant['prodRainWind'] = X_with_constant['rain']+X_with_constant['wdsp']\n",
    "# X_with_constant = X_with_constant[['const','temp']]\n",
    "model = sm.OLS(y_train, X_with_constant).fit(cov_type='HC3')\n",
    "print(model.summary())"
   ]
  },
  {
   "cell_type": "code",
   "execution_count": null,
   "metadata": {},
   "outputs": [],
   "source": [
    "X_test = X_test['temp_r']\n",
    "y_test = np.log(y_test)\n",
    "X_test_with_constant = sm.add_constant(X_test)\n",
    "y_pred = model.predict(X_test_with_constant)\n",
    "residuals = y_test - y_pred\n",
    "# predicted_values = model.predict()\n",
    "ols_residuals = model.resid"
   ]
  },
  {
   "cell_type": "markdown",
   "metadata": {},
   "source": [
    "### Assumption 1 - Linearity\n",
    "\n",
    "This assumes that there is a linear relationship between the predictors and the response variable.\n",
    "\n",
    "<!-- > \"In statistics, a regression model is linear when all terms in the model are either the constant or a parameter multiplied by an independent variable.\" (Frost, 2020, p. 202)\n",
    "Frost, J. (2020). Regression Analysis: An Intuitive Guide for Using and Interpreting Linear Models. Statistics By Jim Publishing. -->\n"
   ]
  },
  {
   "cell_type": "code",
   "execution_count": null,
   "metadata": {},
   "outputs": [],
   "source": [
    "#create instance of influence\n",
    "influence = model.get_influence()\n",
    "#obtain standardized residuals\n",
    "standardized_residuals = influence.resid_studentized_internal\n",
    "#display standardized residuals\n",
    "print(standardized_residuals)"
   ]
  },
  {
   "cell_type": "markdown",
   "metadata": {},
   "source": [
    "### Residuals x Temperature"
   ]
  },
  {
   "cell_type": "code",
   "execution_count": null,
   "metadata": {},
   "outputs": [],
   "source": [
    "fig, ax = plt.subplots(figsize=(16, 10))\n",
    "sns.regplot(x=ols_residuals, y=model.fittedvalues, ax=ax, line_kws={'color': 'black', 'lw': 2, 'linestyle': '--'})\n",
    "ax.set_title('Residuals vs. Temperature', fontsize=16)\n",
    "ax.set(xlabel='Temperature', ylabel='Residuals')\n",
    "plt.show()"
   ]
  },
  {
   "cell_type": "markdown",
   "metadata": {},
   "source": [
    "### Residuals x Wind Speed"
   ]
  },
  {
   "cell_type": "code",
   "execution_count": null,
   "metadata": {},
   "outputs": [],
   "source": [
    "fig, ax = plt.subplots(figsize=(16, 10))\n",
    "sns.regplot(x=X_train['wdsp'], y=standardized_residuals, ax=ax, line_kws={'color': 'red'})\n",
    "ax.set_title('Residuals vs. Wind Speed', fontsize=16)\n",
    "ax.set(xlabel='Wind Speed', ylabel='Residuals')\n",
    "plt.show()"
   ]
  },
  {
   "cell_type": "code",
   "execution_count": null,
   "metadata": {},
   "outputs": [],
   "source": [
    "fig, ax = plt.subplots(figsize=(16, 10))\n",
    "sns.regplot(x=X_train['rhum'], y=standardized_residuals, ax=ax, line_kws={'color': 'red'})\n",
    "ax.set_title('Residuals vs. Wind Speed', fontsize=16)\n",
    "ax.set(xlabel='Wind Speed', ylabel='Residuals')\n",
    "plt.show()"
   ]
  },
  {
   "cell_type": "code",
   "execution_count": null,
   "metadata": {},
   "outputs": [],
   "source": []
  },
  {
   "cell_type": "code",
   "execution_count": null,
   "metadata": {},
   "outputs": [],
   "source": []
  },
  {
   "cell_type": "code",
   "execution_count": null,
   "metadata": {},
   "outputs": [],
   "source": []
  },
  {
   "cell_type": "code",
   "execution_count": null,
   "metadata": {},
   "outputs": [],
   "source": [
    "from sklearn.preprocessing import PowerTransformer\n",
    "p = PowerTransformer(method = 'yeo-johnson')\n",
    "y_train_tranformed = p.fit_transform(y_train.to_frame())"
   ]
  },
  {
   "cell_type": "code",
   "execution_count": null,
   "metadata": {},
   "outputs": [],
   "source": [
    "vif = [variance_inflation_factor(X_with_constant.values, i) for i in range(X_with_constant.shape[1])]\n",
    "pd.DataFrame({'vif': vif[1:]}, index=X.columns)"
   ]
  },
  {
   "cell_type": "code",
   "execution_count": null,
   "metadata": {},
   "outputs": [],
   "source": [
    "fig = plt.figure(figsize=(16,12))\n",
    "gs = fig.add_gridspec(2, 2)\n",
    "ax0 = fig.add_subplot(gs[0, 0])\n",
    "ax1 = fig.add_subplot(gs[0, 1])\n",
    "ax2 = fig.add_subplot(gs[1, 0])\n",
    "ax3 = fig.add_subplot(gs[1, 1])\n",
    "\n",
    "sns.histplot(hourly_rentals['temp'],ax=ax0, stat='density', kde=True, \n",
    "             label= 'Skew :{0}'.format(np.round(skew(hourly_rentals['temp']),4)))\n",
    "sns.histplot(hourly_rentals['rhum'],ax=ax1, stat='density', kde=True, \n",
    "             label= 'Skew :{0}'.format(np.round(skew(hourly_rentals['rhum']),4)))\n",
    "sns.histplot(hourly_rentals['wdsp'],ax=ax2, stat='density', kde=True, \n",
    "             label= 'Skew :{0}'.format(np.round(skew(hourly_rentals['wdsp']),4)))\n",
    "sns.histplot(hourly_rentals['count'],ax=ax3, stat='density', kde=True, \n",
    "             label= 'Skew :{0}'.format(np.round(skew(hourly_rentals['count']),4)))\n",
    "\n",
    "ax0.set(xlabel='Temperature',title=\"Distribution - Temperature\")\n",
    "ax1.set(xlabel='Relative Humidity',title=\"Distribution - Relative Humidity\")\n",
    "ax2.set(xlabel='Wind Speed',title=\"Distribution - Wind Speed\")\n",
    "ax3.set(xlabel='Count', title=\"Distribution - Rentals Count\")\n",
    "ax0.legend(), ax1.legend(), ax2.legend(), ax3.legend()\n",
    "plt.show()"
   ]
  },
  {
   "cell_type": "code",
   "execution_count": null,
   "metadata": {},
   "outputs": [],
   "source": [
    "poly = PolynomialFeatures(degree = 3)\n",
    "X_poly = poly.fit_transform(X_train)\n",
    "X_poly_constant = sm.add_constant(X_poly)\n",
    "lin2 = sm.OLS(y_train, X_poly_constant).fit()\n",
    "linearity_test(lin2, y_train) "
   ]
  },
  {
   "cell_type": "code",
   "execution_count": null,
   "metadata": {},
   "outputs": [],
   "source": [
    "transformed_target, lam = boxcox(y_train)\n",
    "fig,ax = plt.subplots(1,2,figsize=(13, 5))\n",
    "sns.distplot(y_train, label= 'Orginal Skew :{0}'.format(np.round(skew(y_train),4)), color='r', ax=ax[0], axlabel='ORGINAL')\n",
    "sns.distplot(transformed_target, label= 'Transformed Skew:{0}'.format(np.round(skew(transformed_target),4)), color='g', ax=ax[1], axlabel='BOX-COX TRANSFORMED')\n",
    "ax[0].set(title='Distribution of Target Variable')\n",
    "ax[1].set(title='After Transformation')\n",
    "fig.legend()\n",
    "plt.show()"
   ]
  },
  {
   "cell_type": "code",
   "execution_count": null,
   "metadata": {},
   "outputs": [],
   "source": [
    "transformed_target, lam = yeojohnson(y_train)\n",
    "fig,ax = plt.subplots(1,2,figsize=(13, 5))\n",
    "sns.distplot(y_train, label= 'Original Skew :{0}'.format(np.round(skew(y_train),4)), color='r', ax=ax[0], axlabel='ORGINAL')\n",
    "sns.distplot(transformed_target, label= 'Transformed Skew:{0}'.format(np.round(skew(transformed_target),4)), color='g', ax=ax[1], axlabel='BOX-COX TRANSFORMED')\n",
    "ax[0].set(title='Distribution of Target Variable')\n",
    "ax[1].set(title='After Transformation')\n",
    "fig.legend()\n",
    "plt.show()"
   ]
  },
  {
   "cell_type": "code",
   "execution_count": null,
   "metadata": {},
   "outputs": [],
   "source": [
    "corrMatt = hourly_rentals[['temp','wdsp','rhum', 'rain','count']].corr()\n",
    "mask = np.array(corrMatt)\n",
    "mask[np.tril_indices_from(mask)] = False\n",
    "cmap = sns.diverging_palette(180, 20, as_cmap=True)\n",
    "\n",
    "fig, ax = plt.subplots(figsize=(6, 6))\n",
    "sns.heatmap(corrMatt, mask=mask,vmax=.3, annot=True, ax=ax, cmap=cmap)\n",
    "plt.show()"
   ]
  },
  {
   "cell_type": "code",
   "execution_count": null,
   "id": "6641256b",
   "metadata": {},
   "outputs": [],
   "source": [
    "hourly_data_temp = X_train.copy()\n",
    "# hourly_data_temp['temp_type'] =  np.where(hourly_data_temp['temp'] > 10, 'High', 'Low')\n",
    "# hourly_data_temp['prodTempWind'] = hourly_data_temp['temp']*hourly_data_temp['wdsp']\n",
    "hourly_data_temp['prodRainWind'] = hourly_data_temp['rain']+hourly_data_temp['wdsp']"
   ]
  },
  {
   "cell_type": "code",
   "execution_count": null,
   "metadata": {},
   "outputs": [],
   "source": [
    "hourly_data_temp.head(2)"
   ]
  },
  {
   "cell_type": "code",
   "execution_count": null,
   "metadata": {},
   "outputs": [],
   "source": [
    "hourly_data_temp.drop(columns=['rain', 'wdsp'], inplace=True)\n",
    "hourly_data_temp.head(2)"
   ]
  },
  {
   "cell_type": "code",
   "execution_count": null,
   "metadata": {},
   "outputs": [],
   "source": [
    "X_with_constant = sm.add_constant(hourly_data_temp)\n",
    "model = sm.OLS(y_train, X_with_constant).fit()\n",
    "print(model.summary())"
   ]
  },
  {
   "cell_type": "code",
   "execution_count": null,
   "metadata": {},
   "outputs": [],
   "source": [
    "linearity_test(model, y_train)"
   ]
  },
  {
   "cell_type": "code",
   "execution_count": null,
   "metadata": {},
   "outputs": [],
   "source": [
    "X_with_constant.head()"
   ]
  },
  {
   "cell_type": "code",
   "execution_count": null,
   "metadata": {},
   "outputs": [],
   "source": [
    "vif = [variance_inflation_factor(X_with_constant.values, i) for i in range(X_with_constant.shape[1])]\n",
    "pd.DataFrame({'vif': vif[1:]}, index=hourly_data_temp.columns).T"
   ]
  }
 ],
 "metadata": {
  "interpreter": {
   "hash": "5c82cf216bcd6695c751af4e033b89e10a78cc5d50e2943f0ed5dd08b475eddb"
  },
  "kernelspec": {
   "display_name": "Python 3.9.6 64-bit ('conda-env')",
   "language": "python",
   "name": "python3"
  },
  "language_info": {
   "codemirror_mode": {
    "name": "ipython",
    "version": 3
   },
   "file_extension": ".py",
   "mimetype": "text/x-python",
   "name": "python",
   "nbconvert_exporter": "python",
   "pygments_lexer": "ipython3",
   "version": "3.9.6"
  },
  "orig_nbformat": 4
 },
 "nbformat": 4,
 "nbformat_minor": 2
}
