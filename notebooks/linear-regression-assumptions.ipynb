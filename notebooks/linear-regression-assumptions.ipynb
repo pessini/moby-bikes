{
 "cells": [
  {
   "cell_type": "markdown",
   "metadata": {},
   "source": [
    "<img title=\"GitHub Octocat\" src='./img/Octocat.jpg' style='height: 60px; padding-right: 15px' alt=\"Octocat\" align=\"left\"> This notebook is part of a GitHub repository: https://github.com/pessini/moby-bikes \n",
    "<br>MIT Licensed\n",
    "<br>Author: Leandro Pessini"
   ]
  },
  {
   "cell_type": "code",
   "execution_count": 2,
   "metadata": {},
   "outputs": [],
   "source": [
    "import pandas as pd\n",
    "import matplotlib.pyplot as plt\n",
    "import seaborn as sns\n",
    "import numpy as np\n",
    "\n",
    "# Preprocessing\n",
    "from sklearn.model_selection import train_test_split\n",
    "from sklearn.preprocessing import StandardScaler, MinMaxScaler, OneHotEncoder, OrdinalEncoder\n",
    "from sklearn.compose import ColumnTransformer\n",
    "from sklearn.pipeline import Pipeline\n",
    "from sklearn.preprocessing import PolynomialFeatures\n",
    "\n",
    "# Model and Evaluation\n",
    "from sklearn.linear_model import LinearRegression\n",
    "from sklearn import linear_model\n",
    "from sklearn import metrics\n",
    "\n",
    "\n",
    "# statsmodel\n",
    "import statsmodels.api as sm\n",
    "import statsmodels.tsa.api as smt\n",
    "import statsmodels.formula.api as smf\n",
    "from statsmodels.stats.outliers_influence import variance_inflation_factor\n",
    "\n",
    "# spicy\n",
    "from scipy.stats import skew\n",
    "from scipy.stats import boxcox\n",
    "from scipy.stats import yeojohnson\n",
    "\n",
    "import warnings\n",
    "warnings.filterwarnings('ignore')"
   ]
  },
  {
   "cell_type": "code",
   "execution_count": 3,
   "metadata": {},
   "outputs": [
    {
     "name": "stdout",
     "output_type": "stream",
     "text": [
      "Python version: 3.9.6\n"
     ]
    }
   ],
   "source": [
    "from platform import python_version\n",
    "print('Python version:', python_version())"
   ]
  },
  {
   "cell_type": "code",
   "execution_count": 4,
   "metadata": {},
   "outputs": [
    {
     "name": "stdout",
     "output_type": "stream",
     "text": [
      "Author: Leandro Pessini\n",
      "\n",
      "sklearn    : 1.0.2\n",
      "statsmodels: 0.12.2\n",
      "seaborn    : 0.11.1\n",
      "matplotlib : 3.4.2\n",
      "numpy      : 1.21.1\n",
      "pandas     : 1.3.0\n",
      "sys        : 3.9.6 | packaged by conda-forge | (default, Jul 11 2021, 03:36:15) \n",
      "[Clang 11.1.0 ]\n",
      "\n"
     ]
    }
   ],
   "source": [
    "%reload_ext watermark\n",
    "%watermark -a \"Leandro Pessini\" --iversions"
   ]
  },
  {
   "cell_type": "code",
   "execution_count": 5,
   "metadata": {},
   "outputs": [
    {
     "data": {
      "text/html": [
       "<div>\n",
       "<style scoped>\n",
       "    .dataframe tbody tr th:only-of-type {\n",
       "        vertical-align: middle;\n",
       "    }\n",
       "\n",
       "    .dataframe tbody tr th {\n",
       "        vertical-align: top;\n",
       "    }\n",
       "\n",
       "    .dataframe thead th {\n",
       "        text-align: right;\n",
       "    }\n",
       "</style>\n",
       "<table border=\"1\" class=\"dataframe\">\n",
       "  <thead>\n",
       "    <tr style=\"text-align: right;\">\n",
       "      <th></th>\n",
       "      <th>date</th>\n",
       "      <th>hour</th>\n",
       "      <th>rain</th>\n",
       "      <th>temp</th>\n",
       "      <th>rhum</th>\n",
       "      <th>wdsp</th>\n",
       "      <th>day</th>\n",
       "      <th>month</th>\n",
       "      <th>year</th>\n",
       "      <th>holiday</th>\n",
       "      <th>...</th>\n",
       "      <th>dayofweek</th>\n",
       "      <th>working_day</th>\n",
       "      <th>season</th>\n",
       "      <th>peak</th>\n",
       "      <th>timesofday</th>\n",
       "      <th>rainfall_intensity</th>\n",
       "      <th>wind_bft</th>\n",
       "      <th>wind_speed</th>\n",
       "      <th>temp_r</th>\n",
       "      <th>count</th>\n",
       "    </tr>\n",
       "  </thead>\n",
       "  <tbody>\n",
       "    <tr>\n",
       "      <th>0</th>\n",
       "      <td>2021-03-01</td>\n",
       "      <td>2</td>\n",
       "      <td>0.0</td>\n",
       "      <td>-1.2</td>\n",
       "      <td>98</td>\n",
       "      <td>4</td>\n",
       "      <td>1</td>\n",
       "      <td>3</td>\n",
       "      <td>2021</td>\n",
       "      <td>False</td>\n",
       "      <td>...</td>\n",
       "      <td>Monday</td>\n",
       "      <td>True</td>\n",
       "      <td>Winter</td>\n",
       "      <td>False</td>\n",
       "      <td>Night</td>\n",
       "      <td>no rain</td>\n",
       "      <td>2</td>\n",
       "      <td>Calm / Light Breeze</td>\n",
       "      <td>-1</td>\n",
       "      <td>1</td>\n",
       "    </tr>\n",
       "    <tr>\n",
       "      <th>1</th>\n",
       "      <td>2021-03-01</td>\n",
       "      <td>7</td>\n",
       "      <td>0.0</td>\n",
       "      <td>2.1</td>\n",
       "      <td>100</td>\n",
       "      <td>4</td>\n",
       "      <td>1</td>\n",
       "      <td>3</td>\n",
       "      <td>2021</td>\n",
       "      <td>False</td>\n",
       "      <td>...</td>\n",
       "      <td>Monday</td>\n",
       "      <td>True</td>\n",
       "      <td>Winter</td>\n",
       "      <td>True</td>\n",
       "      <td>Morning</td>\n",
       "      <td>no rain</td>\n",
       "      <td>2</td>\n",
       "      <td>Calm / Light Breeze</td>\n",
       "      <td>2</td>\n",
       "      <td>3</td>\n",
       "    </tr>\n",
       "    <tr>\n",
       "      <th>2</th>\n",
       "      <td>2021-03-01</td>\n",
       "      <td>8</td>\n",
       "      <td>0.0</td>\n",
       "      <td>5.1</td>\n",
       "      <td>98</td>\n",
       "      <td>5</td>\n",
       "      <td>1</td>\n",
       "      <td>3</td>\n",
       "      <td>2021</td>\n",
       "      <td>False</td>\n",
       "      <td>...</td>\n",
       "      <td>Monday</td>\n",
       "      <td>True</td>\n",
       "      <td>Winter</td>\n",
       "      <td>True</td>\n",
       "      <td>Morning</td>\n",
       "      <td>no rain</td>\n",
       "      <td>2</td>\n",
       "      <td>Calm / Light Breeze</td>\n",
       "      <td>5</td>\n",
       "      <td>1</td>\n",
       "    </tr>\n",
       "    <tr>\n",
       "      <th>3</th>\n",
       "      <td>2021-03-01</td>\n",
       "      <td>9</td>\n",
       "      <td>0.0</td>\n",
       "      <td>5.7</td>\n",
       "      <td>98</td>\n",
       "      <td>5</td>\n",
       "      <td>1</td>\n",
       "      <td>3</td>\n",
       "      <td>2021</td>\n",
       "      <td>False</td>\n",
       "      <td>...</td>\n",
       "      <td>Monday</td>\n",
       "      <td>True</td>\n",
       "      <td>Winter</td>\n",
       "      <td>True</td>\n",
       "      <td>Morning</td>\n",
       "      <td>no rain</td>\n",
       "      <td>2</td>\n",
       "      <td>Calm / Light Breeze</td>\n",
       "      <td>6</td>\n",
       "      <td>4</td>\n",
       "    </tr>\n",
       "    <tr>\n",
       "      <th>4</th>\n",
       "      <td>2021-03-01</td>\n",
       "      <td>10</td>\n",
       "      <td>0.0</td>\n",
       "      <td>6.7</td>\n",
       "      <td>94</td>\n",
       "      <td>6</td>\n",
       "      <td>1</td>\n",
       "      <td>3</td>\n",
       "      <td>2021</td>\n",
       "      <td>False</td>\n",
       "      <td>...</td>\n",
       "      <td>Monday</td>\n",
       "      <td>True</td>\n",
       "      <td>Winter</td>\n",
       "      <td>True</td>\n",
       "      <td>Morning</td>\n",
       "      <td>no rain</td>\n",
       "      <td>2</td>\n",
       "      <td>Calm / Light Breeze</td>\n",
       "      <td>7</td>\n",
       "      <td>4</td>\n",
       "    </tr>\n",
       "  </tbody>\n",
       "</table>\n",
       "<p>5 rows × 21 columns</p>\n",
       "</div>"
      ],
      "text/plain": [
       "         date  hour  rain  temp  rhum  wdsp  day  month  year  holiday  ...  \\\n",
       "0  2021-03-01     2   0.0  -1.2    98     4    1      3  2021    False  ...   \n",
       "1  2021-03-01     7   0.0   2.1   100     4    1      3  2021    False  ...   \n",
       "2  2021-03-01     8   0.0   5.1    98     5    1      3  2021    False  ...   \n",
       "3  2021-03-01     9   0.0   5.7    98     5    1      3  2021    False  ...   \n",
       "4  2021-03-01    10   0.0   6.7    94     6    1      3  2021    False  ...   \n",
       "\n",
       "   dayofweek working_day  season   peak  timesofday rainfall_intensity  \\\n",
       "0     Monday        True  Winter  False       Night            no rain   \n",
       "1     Monday        True  Winter   True     Morning            no rain   \n",
       "2     Monday        True  Winter   True     Morning            no rain   \n",
       "3     Monday        True  Winter   True     Morning            no rain   \n",
       "4     Monday        True  Winter   True     Morning            no rain   \n",
       "\n",
       "  wind_bft           wind_speed temp_r  count  \n",
       "0        2  Calm / Light Breeze     -1      1  \n",
       "1        2  Calm / Light Breeze      2      3  \n",
       "2        2  Calm / Light Breeze      5      1  \n",
       "3        2  Calm / Light Breeze      6      4  \n",
       "4        2  Calm / Light Breeze      7      4  \n",
       "\n",
       "[5 rows x 21 columns]"
      ]
     },
     "execution_count": 5,
     "metadata": {},
     "output_type": "execute_result"
    }
   ],
   "source": [
    "hourly_rentals = pd.read_csv('../data/processed/hourly_rentals.csv')\n",
    "hourly_rentals.head()"
   ]
  },
  {
   "cell_type": "code",
   "execution_count": 18,
   "metadata": {},
   "outputs": [
    {
     "data": {
      "text/plain": [
       "(array([-12, -11, -10,  -9,  -8,  -7,  -6,  -5,  -4,  -3,  -2,  -1,   0,\n",
       "          1,   2,   3,   4,   5,   6,   7,   8,   9,  10,  11,  12]),\n",
       " array([0.62456611, 0.61033999, 0.60714807, 0.60669803, 0.61690717,\n",
       "        0.62956234, 0.65335589, 0.67978715, 0.71103546, 0.74517983,\n",
       "        0.78212442, 0.82425275, 1.        , 0.82425275, 0.78212442,\n",
       "        0.74517983, 0.71103546, 0.67978715, 0.65335589, 0.62956234,\n",
       "        0.61690717, 0.60669803, 0.60714807, 0.61033999, 0.62456611]),\n",
       " <matplotlib.collections.LineCollection at 0x140e816d0>,\n",
       " <matplotlib.lines.Line2D at 0x140e81f10>)"
      ]
     },
     "execution_count": 18,
     "metadata": {},
     "output_type": "execute_result"
    },
    {
     "data": {
      "image/png": "[encoded data removed]",
      "text/plain": [
       "<Figure size 432x288 with 1 Axes>"
      ]
     },
     "metadata": {
      "needs_background": "light"
     },
     "output_type": "display_data"
    }
   ],
   "source": [
    "# Let's check autocorrelation of cnt values\n",
    "plt.acorr(hourly_rentals[\"count\"].astype(float), maxlags=12)"
   ]
  },
  {
   "cell_type": "code",
   "execution_count": 19,
   "metadata": {},
   "outputs": [],
   "source": [
    "# since cnt is correlated with itself, let's lag the cnt column and consider it as a feature\n",
    "t1 = hourly_rentals[\"count\"].shift(+1).to_frame()\n",
    "t1.columns = [\"t-1\"]\n",
    "t2 = hourly_rentals[\"count\"].shift(+2).to_frame()\n",
    "t2.columns = [\"t-2\"]\n",
    "t3 = hourly_rentals[\"count\"].shift(+3).to_frame()\n",
    "t3.columns = [\"t-3\"]\n",
    "data_lag = pd.concat([hourly_rentals, t1, t2, t3], axis=1)\n",
    "# drop the NaN values\n",
    "data_lag.dropna(inplace=True)"
   ]
  },
  {
   "cell_type": "code",
   "execution_count": 20,
   "metadata": {},
   "outputs": [
    {
     "data": {
      "text/html": [
       "<div>\n",
       "<style scoped>\n",
       "    .dataframe tbody tr th:only-of-type {\n",
       "        vertical-align: middle;\n",
       "    }\n",
       "\n",
       "    .dataframe tbody tr th {\n",
       "        vertical-align: top;\n",
       "    }\n",
       "\n",
       "    .dataframe thead th {\n",
       "        text-align: right;\n",
       "    }\n",
       "</style>\n",
       "<table border=\"1\" class=\"dataframe\">\n",
       "  <thead>\n",
       "    <tr style=\"text-align: right;\">\n",
       "      <th></th>\n",
       "      <th>date</th>\n",
       "      <th>hour</th>\n",
       "      <th>rain</th>\n",
       "      <th>temp</th>\n",
       "      <th>rhum</th>\n",
       "      <th>wdsp</th>\n",
       "      <th>day</th>\n",
       "      <th>month</th>\n",
       "      <th>year</th>\n",
       "      <th>holiday</th>\n",
       "      <th>...</th>\n",
       "      <th>season</th>\n",
       "      <th>peak</th>\n",
       "      <th>timesofday</th>\n",
       "      <th>rainfall_intensity</th>\n",
       "      <th>wind_bft</th>\n",
       "      <th>temp_r</th>\n",
       "      <th>count</th>\n",
       "      <th>t-1</th>\n",
       "      <th>t-2</th>\n",
       "      <th>t-3</th>\n",
       "    </tr>\n",
       "  </thead>\n",
       "  <tbody>\n",
       "    <tr>\n",
       "      <th>3</th>\n",
       "      <td>2021-03-01</td>\n",
       "      <td>9</td>\n",
       "      <td>0.0</td>\n",
       "      <td>5.7</td>\n",
       "      <td>98</td>\n",
       "      <td>5</td>\n",
       "      <td>1</td>\n",
       "      <td>3</td>\n",
       "      <td>2021</td>\n",
       "      <td>False</td>\n",
       "      <td>...</td>\n",
       "      <td>Winter</td>\n",
       "      <td>True</td>\n",
       "      <td>Morning</td>\n",
       "      <td>no rain</td>\n",
       "      <td>2</td>\n",
       "      <td>6</td>\n",
       "      <td>4</td>\n",
       "      <td>1.0</td>\n",
       "      <td>3.0</td>\n",
       "      <td>1.0</td>\n",
       "    </tr>\n",
       "    <tr>\n",
       "      <th>4</th>\n",
       "      <td>2021-03-01</td>\n",
       "      <td>10</td>\n",
       "      <td>0.0</td>\n",
       "      <td>6.7</td>\n",
       "      <td>94</td>\n",
       "      <td>6</td>\n",
       "      <td>1</td>\n",
       "      <td>3</td>\n",
       "      <td>2021</td>\n",
       "      <td>False</td>\n",
       "      <td>...</td>\n",
       "      <td>Winter</td>\n",
       "      <td>True</td>\n",
       "      <td>Morning</td>\n",
       "      <td>no rain</td>\n",
       "      <td>2</td>\n",
       "      <td>7</td>\n",
       "      <td>4</td>\n",
       "      <td>4.0</td>\n",
       "      <td>1.0</td>\n",
       "      <td>3.0</td>\n",
       "    </tr>\n",
       "    <tr>\n",
       "      <th>5</th>\n",
       "      <td>2021-03-01</td>\n",
       "      <td>11</td>\n",
       "      <td>0.0</td>\n",
       "      <td>7.4</td>\n",
       "      <td>91</td>\n",
       "      <td>8</td>\n",
       "      <td>1</td>\n",
       "      <td>3</td>\n",
       "      <td>2021</td>\n",
       "      <td>False</td>\n",
       "      <td>...</td>\n",
       "      <td>Winter</td>\n",
       "      <td>False</td>\n",
       "      <td>Morning</td>\n",
       "      <td>no rain</td>\n",
       "      <td>3</td>\n",
       "      <td>7</td>\n",
       "      <td>4</td>\n",
       "      <td>4.0</td>\n",
       "      <td>4.0</td>\n",
       "      <td>1.0</td>\n",
       "    </tr>\n",
       "    <tr>\n",
       "      <th>6</th>\n",
       "      <td>2021-03-01</td>\n",
       "      <td>12</td>\n",
       "      <td>0.0</td>\n",
       "      <td>6.9</td>\n",
       "      <td>88</td>\n",
       "      <td>8</td>\n",
       "      <td>1</td>\n",
       "      <td>3</td>\n",
       "      <td>2021</td>\n",
       "      <td>False</td>\n",
       "      <td>...</td>\n",
       "      <td>Winter</td>\n",
       "      <td>False</td>\n",
       "      <td>Afternoon</td>\n",
       "      <td>no rain</td>\n",
       "      <td>3</td>\n",
       "      <td>7</td>\n",
       "      <td>8</td>\n",
       "      <td>4.0</td>\n",
       "      <td>4.0</td>\n",
       "      <td>4.0</td>\n",
       "    </tr>\n",
       "    <tr>\n",
       "      <th>7</th>\n",
       "      <td>2021-03-01</td>\n",
       "      <td>13</td>\n",
       "      <td>0.0</td>\n",
       "      <td>9.3</td>\n",
       "      <td>84</td>\n",
       "      <td>8</td>\n",
       "      <td>1</td>\n",
       "      <td>3</td>\n",
       "      <td>2021</td>\n",
       "      <td>False</td>\n",
       "      <td>...</td>\n",
       "      <td>Winter</td>\n",
       "      <td>False</td>\n",
       "      <td>Afternoon</td>\n",
       "      <td>no rain</td>\n",
       "      <td>3</td>\n",
       "      <td>9</td>\n",
       "      <td>11</td>\n",
       "      <td>8.0</td>\n",
       "      <td>4.0</td>\n",
       "      <td>4.0</td>\n",
       "    </tr>\n",
       "  </tbody>\n",
       "</table>\n",
       "<p>5 rows × 23 columns</p>\n",
       "</div>"
      ],
      "text/plain": [
       "         date  hour  rain  temp  rhum  wdsp  day  month  year  holiday  ...  \\\n",
       "3  2021-03-01     9   0.0   5.7    98     5    1      3  2021    False  ...   \n",
       "4  2021-03-01    10   0.0   6.7    94     6    1      3  2021    False  ...   \n",
       "5  2021-03-01    11   0.0   7.4    91     8    1      3  2021    False  ...   \n",
       "6  2021-03-01    12   0.0   6.9    88     8    1      3  2021    False  ...   \n",
       "7  2021-03-01    13   0.0   9.3    84     8    1      3  2021    False  ...   \n",
       "\n",
       "   season   peak  timesofday rainfall_intensity  wind_bft temp_r count  t-1  \\\n",
       "3  Winter   True     Morning            no rain         2      6     4  1.0   \n",
       "4  Winter   True     Morning            no rain         2      7     4  4.0   \n",
       "5  Winter  False     Morning            no rain         3      7     4  4.0   \n",
       "6  Winter  False   Afternoon            no rain         3      7     8  4.0   \n",
       "7  Winter  False   Afternoon            no rain         3      9    11  8.0   \n",
       "\n",
       "   t-2  t-3  \n",
       "3  3.0  1.0  \n",
       "4  1.0  3.0  \n",
       "5  4.0  1.0  \n",
       "6  4.0  4.0  \n",
       "7  4.0  4.0  \n",
       "\n",
       "[5 rows x 23 columns]"
      ]
     },
     "execution_count": 20,
     "metadata": {},
     "output_type": "execute_result"
    }
   ],
   "source": [
    "data_lag.head()"
   ]
  },
  {
   "cell_type": "code",
   "execution_count": 17,
   "metadata": {},
   "outputs": [
    {
     "data": {
      "text/plain": [
       "((4876, 8), (2090, 8))"
      ]
     },
     "execution_count": 17,
     "metadata": {},
     "output_type": "execute_result"
    }
   ],
   "source": [
    "df = hourly_rentals.copy()\n",
    "df = df.astype({'holiday': 'category',\n",
    "                'working_day': 'category',\n",
    "                'peak': 'category',\n",
    "                'timesofday': 'category',\n",
    "                'rainfall_intensity': 'category',\n",
    "                'wind_bft': 'category',\n",
    "                'wind_speed_group': 'category'})\n",
    "\n",
    "df['humidity_norm'] = df['rhum']/100\n",
    "\n",
    "# predictors = ['temp','wdsp','rhum','rain_type','holiday','season','peak','timesofday']\n",
    "predictors = ['wind_speed_group','rainfall_intensity']\n",
    "\n",
    "# hourly_data_temp['temp_type'] =  np.where(hourly_data_temp['temp'] > 10, 'High', 'Low')\n",
    "df['prodTempWind'] = hourly_rentals['temp']*hourly_rentals['wdsp']\n",
    "df['prodRainWind'] = hourly_rentals['rain']+hourly_rentals['wdsp']\n",
    "# predictors = ['prodRainWind','prodTempWind','temp','rain_type']\n",
    "\n",
    "# OrdinalEnconder was chosen due \n",
    "# enc = OrdinalEncoder(dtype=np.int64, categories=[['no rain', 'drizzle', 'light rain', 'moderate rain', 'heavy rain']])\n",
    "# df['rain_type'] = enc.fit_transform(df[['rain_type']])\n",
    "\n",
    "X = df[[c for c in df.columns if c in predictors]]\n",
    "y = df.pop('count')\n",
    "\n",
    "# X['rain_type'] = pd.to_numeric(X['rain_type'])\n",
    "\n",
    "num_vars = [n for n in df.select_dtypes(include=['number']).columns if n in predictors] # list comprehension to select only predictors features\n",
    "cat_vars = [c for c in df.select_dtypes(include=['category']).columns if c in predictors]\n",
    "\n",
    "dummies = pd.get_dummies(X[cat_vars], drop_first=True)\n",
    "X = pd.concat([X[num_vars], dummies],axis=1)\n",
    "# y = np.log(y)\n",
    "\n",
    "X_train, X_test, y_train, y_test = train_test_split(X, y, test_size=0.3, random_state=42)\n",
    "X_train.shape, X_test.shape"
   ]
  },
  {
   "cell_type": "markdown",
   "metadata": {},
   "source": [
    "## OLS Assumptions"
   ]
  },
  {
   "cell_type": "code",
   "execution_count": 18,
   "metadata": {},
   "outputs": [
    {
     "name": "stdout",
     "output_type": "stream",
     "text": [
      "                            OLS Regression Results                            \n",
      "==============================================================================\n",
      "Dep. Variable:                  count   R-squared:                       0.025\n",
      "Model:                            OLS   Adj. R-squared:                  0.023\n",
      "Method:                 Least Squares   F-statistic:                     18.80\n",
      "Date:                Wed, 27 Apr 2022   Prob (F-statistic):           4.71e-28\n",
      "Time:                        20:07:37   Log-Likelihood:                -5715.6\n",
      "No. Observations:                4876   AIC:                         1.145e+04\n",
      "Df Residuals:                    4867   BIC:                         1.151e+04\n",
      "Df Model:                           8                                         \n",
      "Covariance Type:                  HC3                                         \n",
      "========================================================================================================\n",
      "                                           coef    std err          z      P>|z|      [0.025      0.975]\n",
      "--------------------------------------------------------------------------------------------------------\n",
      "const                                    1.0317      0.050     20.446      0.000       0.933       1.131\n",
      "rainfall_intensity_heavy rain            0.0335      0.318      0.105      0.916      -0.589       0.656\n",
      "rainfall_intensity_light rain            0.0190      0.111      0.171      0.864      -0.198       0.236\n",
      "rainfall_intensity_moderate rain        -0.1119      0.075     -1.492      0.136      -0.259       0.035\n",
      "rainfall_intensity_no rain               0.3184      0.049      6.486      0.000       0.222       0.415\n",
      "wind_speed_Calm / Light Breeze          -0.1348      0.027     -5.001      0.000      -0.188      -0.082\n",
      "wind_speed_Gale / Storm                 -0.3386      0.174     -1.944      0.052      -0.680       0.003\n",
      "wind_speed_Moderate Breeze              -0.0048      0.028     -0.171      0.864      -0.060       0.050\n",
      "wind_speed_Strong Breeze / Near Gale    -0.2877      0.084     -3.438      0.001      -0.452      -0.124\n",
      "==============================================================================\n",
      "Omnibus:                      745.844   Durbin-Watson:                   2.031\n",
      "Prob(Omnibus):                  0.000   Jarque-Bera (JB):              216.168\n",
      "Skew:                          -0.242   Prob(JB):                     1.15e-47\n",
      "Kurtosis:                       2.089   Cond. No.                         101.\n",
      "==============================================================================\n",
      "\n",
      "Notes:\n",
      "[1] Standard Errors are heteroscedasticity robust (HC3)\n"
     ]
    }
   ],
   "source": [
    "# X_train = X_train['temp_r']\n",
    "y_train = np.log(y_train)\n",
    "X_with_constant = sm.add_constant(X_train)\n",
    "# model = smf.ols('count ~ temp + wdsp + rhum + rain_type + temp*wdsp +temp*rhum + peak + working_day + timesofday', data=X_with_constant).fit(cov_type='HC3')\n",
    "# X_with_constant['prodTempWind'] = X_with_constant['temp']*X_with_constant['wdsp']\n",
    "# X_with_constant['prodRainWind'] = X_with_constant['rain']+X_with_constant['wdsp']\n",
    "# X_with_constant = X_with_constant[['const','temp']]\n",
    "model = sm.OLS(y_train, X_with_constant).fit(cov_type='HC3')\n",
    "print(model.summary())"
   ]
  },
  {
   "cell_type": "code",
   "execution_count": 28,
   "metadata": {},
   "outputs": [],
   "source": [
    "X_test = X_test['temp_r']\n",
    "y_test = np.log(y_test)\n",
    "X_test_with_constant = sm.add_constant(X_test)\n",
    "y_pred = model.predict(X_test_with_constant)\n",
    "residuals = y_test - y_pred\n",
    "# predicted_values = model.predict()\n",
    "ols_residuals = model.resid"
   ]
  },
  {
   "cell_type": "markdown",
   "metadata": {},
   "source": [
    "### Assumption 1 - Linearity\n",
    "\n",
    "This assumes that there is a linear relationship between the predictors and the response variable.\n",
    "\n",
    "<!-- > \"In statistics, a regression model is linear when all terms in the model are either the constant or a parameter multiplied by an independent variable.\" (Frost, 2020, p. 202)\n",
    "Frost, J. (2020). Regression Analysis: An Intuitive Guide for Using and Interpreting Linear Models. Statistics By Jim Publishing. -->\n"
   ]
  },
  {
   "cell_type": "code",
   "execution_count": 29,
   "metadata": {},
   "outputs": [
    {
     "name": "stdout",
     "output_type": "stream",
     "text": [
      "[ 0.71590672 -1.90289427  0.04053942 ... -0.30333269  0.918639\n",
      " -1.4976646 ]\n"
     ]
    }
   ],
   "source": [
    "#create instance of influence\n",
    "influence = model.get_influence()\n",
    "#obtain standardized residuals\n",
    "standardized_residuals = influence.resid_studentized_internal\n",
    "#display standardized residuals\n",
    "print(standardized_residuals)"
   ]
  },
  {
   "cell_type": "markdown",
   "metadata": {},
   "source": [
    "### Residuals x Temperature"
   ]
  },
  {
   "cell_type": "code",
   "execution_count": 34,
   "metadata": {},
   "outputs": [
    {
     "data": {
      "image/png": "[encoded data removed]",
      "text/plain": [
       "<Figure size 1152x720 with 1 Axes>"
      ]
     },
     "metadata": {
      "needs_background": "light"
     },
     "output_type": "display_data"
    }
   ],
   "source": [
    "fig, ax = plt.subplots(figsize=(16, 10))\n",
    "sns.regplot(x=ols_residuals, y=model.fittedvalues, ax=ax, line_kws={'color': 'black', 'lw': 2, 'linestyle': '--'})\n",
    "ax.set_title('Residuals vs. Temperature', fontsize=16)\n",
    "ax.set(xlabel='Temperature', ylabel='Residuals')\n",
    "plt.show()"
   ]
  },
  {
   "cell_type": "markdown",
   "metadata": {},
   "source": [
    "### Residuals x Wind Speed"
   ]
  },
  {
   "cell_type": "code",
   "execution_count": null,
   "metadata": {},
   "outputs": [],
   "source": [
    "fig, ax = plt.subplots(figsize=(16, 10))\n",
    "sns.regplot(x=X_train['wdsp'], y=standardized_residuals, ax=ax, line_kws={'color': 'red'})\n",
    "ax.set_title('Residuals vs. Wind Speed', fontsize=16)\n",
    "ax.set(xlabel='Wind Speed', ylabel='Residuals')\n",
    "plt.show()"
   ]
  },
  {
   "cell_type": "code",
   "execution_count": null,
   "metadata": {},
   "outputs": [],
   "source": [
    "fig, ax = plt.subplots(figsize=(16, 10))\n",
    "sns.regplot(x=X_train['rhum'], y=standardized_residuals, ax=ax, line_kws={'color': 'red'})\n",
    "ax.set_title('Residuals vs. Wind Speed', fontsize=16)\n",
    "ax.set(xlabel='Wind Speed', ylabel='Residuals')\n",
    "plt.show()"
   ]
  },
  {
   "cell_type": "code",
   "execution_count": null,
   "metadata": {},
   "outputs": [],
   "source": []
  },
  {
   "cell_type": "code",
   "execution_count": null,
   "metadata": {},
   "outputs": [],
   "source": []
  },
  {
   "cell_type": "code",
   "execution_count": null,
   "metadata": {},
   "outputs": [],
   "source": []
  },
  {
   "cell_type": "code",
   "execution_count": null,
   "metadata": {},
   "outputs": [],
   "source": [
    "from sklearn.preprocessing import PowerTransformer\n",
    "p = PowerTransformer(method = 'yeo-johnson')\n",
    "y_train_tranformed = p.fit_transform(y_train.to_frame())"
   ]
  },
  {
   "cell_type": "code",
   "execution_count": null,
   "metadata": {},
   "outputs": [
    {
     "data": {
      "text/html": [
       "<div>\n",
       "<style scoped>\n",
       "    .dataframe tbody tr th:only-of-type {\n",
       "        vertical-align: middle;\n",
       "    }\n",
       "\n",
       "    .dataframe tbody tr th {\n",
       "        vertical-align: top;\n",
       "    }\n",
       "\n",
       "    .dataframe thead th {\n",
       "        text-align: right;\n",
       "    }\n",
       "</style>\n",
       "<table border=\"1\" class=\"dataframe\">\n",
       "  <thead>\n",
       "    <tr style=\"text-align: right;\">\n",
       "      <th></th>\n",
       "      <th>vif</th>\n",
       "    </tr>\n",
       "  </thead>\n",
       "  <tbody>\n",
       "    <tr>\n",
       "      <th>temp</th>\n",
       "      <td>1.231707</td>\n",
       "    </tr>\n",
       "    <tr>\n",
       "      <th>rhum</th>\n",
       "      <td>1.668582</td>\n",
       "    </tr>\n",
       "    <tr>\n",
       "      <th>wdsp</th>\n",
       "      <td>1.172234</td>\n",
       "    </tr>\n",
       "    <tr>\n",
       "      <th>t-1</th>\n",
       "      <td>1.513504</td>\n",
       "    </tr>\n",
       "    <tr>\n",
       "      <th>t-2</th>\n",
       "      <td>1.651419</td>\n",
       "    </tr>\n",
       "    <tr>\n",
       "      <th>t-3</th>\n",
       "      <td>1.509929</td>\n",
       "    </tr>\n",
       "    <tr>\n",
       "      <th>holiday_True</th>\n",
       "      <td>1.058226</td>\n",
       "    </tr>\n",
       "    <tr>\n",
       "      <th>working_day_True</th>\n",
       "      <td>1.372760</td>\n",
       "    </tr>\n",
       "    <tr>\n",
       "      <th>peak_True</th>\n",
       "      <td>1.480122</td>\n",
       "    </tr>\n",
       "    <tr>\n",
       "      <th>timesofday_Evening</th>\n",
       "      <td>1.516878</td>\n",
       "    </tr>\n",
       "    <tr>\n",
       "      <th>timesofday_Morning</th>\n",
       "      <td>1.761369</td>\n",
       "    </tr>\n",
       "    <tr>\n",
       "      <th>timesofday_Night</th>\n",
       "      <td>2.013789</td>\n",
       "    </tr>\n",
       "    <tr>\n",
       "      <th>rainfall_intensity_heavy rain</th>\n",
       "      <td>1.035815</td>\n",
       "    </tr>\n",
       "    <tr>\n",
       "      <th>rainfall_intensity_light rain</th>\n",
       "      <td>1.230460</td>\n",
       "    </tr>\n",
       "    <tr>\n",
       "      <th>rainfall_intensity_moderate rain</th>\n",
       "      <td>1.613979</td>\n",
       "    </tr>\n",
       "    <tr>\n",
       "      <th>rainfall_intensity_no rain</th>\n",
       "      <td>1.970968</td>\n",
       "    </tr>\n",
       "  </tbody>\n",
       "</table>\n",
       "</div>"
      ],
      "text/plain": [
       "                                       vif\n",
       "temp                              1.231707\n",
       "rhum                              1.668582\n",
       "wdsp                              1.172234\n",
       "t-1                               1.513504\n",
       "t-2                               1.651419\n",
       "t-3                               1.509929\n",
       "holiday_True                      1.058226\n",
       "working_day_True                  1.372760\n",
       "peak_True                         1.480122\n",
       "timesofday_Evening                1.516878\n",
       "timesofday_Morning                1.761369\n",
       "timesofday_Night                  2.013789\n",
       "rainfall_intensity_heavy rain     1.035815\n",
       "rainfall_intensity_light rain     1.230460\n",
       "rainfall_intensity_moderate rain  1.613979\n",
       "rainfall_intensity_no rain        1.970968"
      ]
     },
     "execution_count": 16,
     "metadata": {},
     "output_type": "execute_result"
    }
   ],
   "source": [
    "vif = [variance_inflation_factor(X_with_constant.values, i) for i in range(X_with_constant.shape[1])]\n",
    "pd.DataFrame({'vif': vif[1:]}, index=X.columns)"
   ]
  },
  {
   "cell_type": "code",
   "execution_count": null,
   "metadata": {},
   "outputs": [],
   "source": [
    "fig = plt.figure(figsize=(16,12))\n",
    "gs = fig.add_gridspec(2, 2)\n",
    "ax0 = fig.add_subplot(gs[0, 0])\n",
    "ax1 = fig.add_subplot(gs[0, 1])\n",
    "ax2 = fig.add_subplot(gs[1, 0])\n",
    "ax3 = fig.add_subplot(gs[1, 1])\n",
    "\n",
    "sns.histplot(hourly_rentals['temp'],ax=ax0, stat='density', kde=True, \n",
    "             label= 'Skew :{0}'.format(np.round(skew(hourly_rentals['temp']),4)))\n",
    "sns.histplot(hourly_rentals['rhum'],ax=ax1, stat='density', kde=True, \n",
    "             label= 'Skew :{0}'.format(np.round(skew(hourly_rentals['rhum']),4)))\n",
    "sns.histplot(hourly_rentals['wdsp'],ax=ax2, stat='density', kde=True, \n",
    "             label= 'Skew :{0}'.format(np.round(skew(hourly_rentals['wdsp']),4)))\n",
    "sns.histplot(hourly_rentals['count'],ax=ax3, stat='density', kde=True, \n",
    "             label= 'Skew :{0}'.format(np.round(skew(hourly_rentals['count']),4)))\n",
    "\n",
    "ax0.set(xlabel='Temperature',title=\"Distribution - Temperature\")\n",
    "ax1.set(xlabel='Relative Humidity',title=\"Distribution - Relative Humidity\")\n",
    "ax2.set(xlabel='Wind Speed',title=\"Distribution - Wind Speed\")\n",
    "ax3.set(xlabel='Count', title=\"Distribution - Rentals Count\")\n",
    "ax0.legend(), ax1.legend(), ax2.legend(), ax3.legend()\n",
    "plt.show()"
   ]
  },
  {
   "cell_type": "code",
   "execution_count": null,
   "metadata": {},
   "outputs": [],
   "source": [
    "poly = PolynomialFeatures(degree = 3)\n",
    "X_poly = poly.fit_transform(X_train)\n",
    "X_poly_constant = sm.add_constant(X_poly)\n",
    "lin2 = sm.OLS(y_train, X_poly_constant).fit()\n",
    "linearity_test(lin2, y_train) "
   ]
  },
  {
   "cell_type": "code",
   "execution_count": null,
   "metadata": {},
   "outputs": [],
   "source": [
    "transformed_target, lam = boxcox(y_train)\n",
    "fig,ax = plt.subplots(1,2,figsize=(13, 5))\n",
    "sns.distplot(y_train, label= 'Orginal Skew :{0}'.format(np.round(skew(y_train),4)), color='r', ax=ax[0], axlabel='ORGINAL')\n",
    "sns.distplot(transformed_target, label= 'Transformed Skew:{0}'.format(np.round(skew(transformed_target),4)), color='g', ax=ax[1], axlabel='BOX-COX TRANSFORMED')\n",
    "ax[0].set(title='Distribution of Target Variable')\n",
    "ax[1].set(title='After Transformation')\n",
    "fig.legend()\n",
    "plt.show()"
   ]
  },
  {
   "cell_type": "code",
   "execution_count": null,
   "metadata": {},
   "outputs": [],
   "source": [
    "transformed_target, lam = yeojohnson(y_train)\n",
    "fig,ax = plt.subplots(1,2,figsize=(13, 5))\n",
    "sns.distplot(y_train, label= 'Original Skew :{0}'.format(np.round(skew(y_train),4)), color='r', ax=ax[0], axlabel='ORGINAL')\n",
    "sns.distplot(transformed_target, label= 'Transformed Skew:{0}'.format(np.round(skew(transformed_target),4)), color='g', ax=ax[1], axlabel='BOX-COX TRANSFORMED')\n",
    "ax[0].set(title='Distribution of Target Variable')\n",
    "ax[1].set(title='After Transformation')\n",
    "fig.legend()\n",
    "plt.show()"
   ]
  },
  {
   "cell_type": "code",
   "execution_count": null,
   "metadata": {},
   "outputs": [],
   "source": [
    "corrMatt = hourly_rentals[['temp','wdsp','rhum', 'rain','count']].corr()\n",
    "mask = np.array(corrMatt)\n",
    "mask[np.tril_indices_from(mask)] = False\n",
    "cmap = sns.diverging_palette(180, 20, as_cmap=True)\n",
    "\n",
    "fig, ax = plt.subplots(figsize=(6, 6))\n",
    "sns.heatmap(corrMatt, mask=mask,vmax=.3, annot=True, ax=ax, cmap=cmap)\n",
    "plt.show()"
   ]
  },
  {
   "cell_type": "code",
   "execution_count": null,
   "id": "6641256b",
   "metadata": {},
   "outputs": [],
   "source": [
    "hourly_data_temp = X_train.copy()\n",
    "# hourly_data_temp['temp_type'] =  np.where(hourly_data_temp['temp'] > 10, 'High', 'Low')\n",
    "# hourly_data_temp['prodTempWind'] = hourly_data_temp['temp']*hourly_data_temp['wdsp']\n",
    "hourly_data_temp['prodRainWind'] = hourly_data_temp['rain']+hourly_data_temp['wdsp']"
   ]
  },
  {
   "cell_type": "code",
   "execution_count": null,
   "metadata": {},
   "outputs": [],
   "source": [
    "hourly_data_temp.head(2)"
   ]
  },
  {
   "cell_type": "code",
   "execution_count": null,
   "metadata": {},
   "outputs": [],
   "source": [
    "hourly_data_temp.drop(columns=['rain', 'wdsp'], inplace=True)\n",
    "hourly_data_temp.head(2)"
   ]
  },
  {
   "cell_type": "code",
   "execution_count": null,
   "metadata": {},
   "outputs": [],
   "source": [
    "X_with_constant = sm.add_constant(hourly_data_temp)\n",
    "model = sm.OLS(y_train, X_with_constant).fit()\n",
    "print(model.summary())"
   ]
  },
  {
   "cell_type": "code",
   "execution_count": null,
   "metadata": {},
   "outputs": [],
   "source": [
    "linearity_test(model, y_train)"
   ]
  },
  {
   "cell_type": "code",
   "execution_count": null,
   "metadata": {},
   "outputs": [],
   "source": [
    "X_with_constant.head()"
   ]
  },
  {
   "cell_type": "code",
   "execution_count": null,
   "metadata": {},
   "outputs": [],
   "source": [
    "vif = [variance_inflation_factor(X_with_constant.values, i) for i in range(X_with_constant.shape[1])]\n",
    "pd.DataFrame({'vif': vif[1:]}, index=hourly_data_temp.columns).T"
   ]
  },
  {
   "cell_type": "markdown",
   "metadata": {},
   "source": [
    "## Quantile Encoder\n",
    "\n",
    "Encoder techinique to tackle high cardinality features."
   ]
  },
  {
   "cell_type": "code",
   "execution_count": 38,
   "metadata": {},
   "outputs": [],
   "source": [
    "from collections import Counter\n",
    "def cumulatively_categorise(column,threshold=0.75,return_categories_list=True):\n",
    "  #Find the threshold value using the percentage and number of instances in the column\n",
    "  threshold_value=int(threshold*len(column))\n",
    "  #Initialise an empty list for our new minimised categories\n",
    "  categories_list=[]\n",
    "  #Initialise a variable to calculate the sum of frequencies\n",
    "  s=0\n",
    "  #Create a counter dictionary of the form unique_value: frequency\n",
    "  counts=Counter(column)\n",
    "\n",
    "  #Loop through the category name and its corresponding frequency after sorting the categories by descending order of frequency\n",
    "  for i,j in counts.most_common():\n",
    "    #Add the frequency to the global sum\n",
    "    s+=dict(counts)[i]\n",
    "    #Append the category name to the list\n",
    "    categories_list.append(i)\n",
    "    #Check if the global sum has reached the threshold value, if so break the loop\n",
    "    if s>=threshold_value:\n",
    "      break\n",
    "  #Append the category Other to the list\n",
    "  categories_list.append('Other')\n",
    "\n",
    "  #Replace all instances not in our new categories by Other  \n",
    "  new_column=column.apply(lambda x: x if x in categories_list else 'Other')\n",
    "\n",
    "  #Return transformed column and unique values if return_categories=True\n",
    "  return (new_column, categories_list) if return_categories_list else new_column\n",
    "\n",
    "\n",
    "#Call the function with a default threshold of 75%\n",
    "transformed_column,new_category_list=cumulatively_categorise(hourly_rentals['wind_bft'],return_categories_list=True)"
   ]
  },
  {
   "cell_type": "code",
   "execution_count": 40,
   "metadata": {},
   "outputs": [
    {
     "data": {
      "text/plain": [
       "[3, 2, 4, 'Other']"
      ]
     },
     "execution_count": 40,
     "metadata": {},
     "output_type": "execute_result"
    }
   ],
   "source": [
    "new_category_list"
   ]
  },
  {
   "cell_type": "markdown",
   "metadata": {},
   "source": [
    "# Transformations"
   ]
  },
  {
   "cell_type": "markdown",
   "metadata": {},
   "source": [
    "## Log Transformation"
   ]
  },
  {
   "cell_type": "code",
   "execution_count": null,
   "metadata": {},
   "outputs": [],
   "source": [
    "log_target = np.log1p(hourly_rentals['count'])\n",
    "# log_target = np.log1p(hourly_data['count'].sample(frac=0.2, replace=False))\n",
    "fig,ax = plt.subplots(1,2,figsize=(13, 5))\n",
    "sns.distplot(hourly_rentals['count'], label= 'Orginal Skew:{0}'.format(np.round(skew(hourly_rentals['count']),4)), color='r', ax=ax[0], axlabel='ORGINAL')\n",
    "sns.distplot(log_target, label= 'Transformed Skew:{0}'.format(np.round(skew(log_target),4)), color='g', ax=ax[1], axlabel='LOG TRANSFORMED')\n",
    "ax[0].set(title='Distribution of Target Variable')\n",
    "ax[1].set(title='After Transformation')\n",
    "fig.legend()\n",
    "plt.show()"
   ]
  },
  {
   "cell_type": "markdown",
   "metadata": {},
   "source": [
    "## Square Root Transformation"
   ]
  },
  {
   "cell_type": "code",
   "execution_count": null,
   "metadata": {},
   "outputs": [],
   "source": [
    "sqrrt_target = hourly_rentals['count']**(1/2)\n",
    "fig,ax = plt.subplots(1,2,figsize=(13, 5))\n",
    "sns.distplot(hourly_rentals['count'], label= 'Orginal Skew:{0}'.format(np.round(skew(hourly_rentals['count']),4)), color='r', ax=ax[0], axlabel='ORGINAL')\n",
    "sns.distplot(sqrrt_target, label= 'Transformed Skew:{0}'.format(np.round(skew(sqrrt_target),4)), color='g', ax=ax[1], axlabel='SQUARE ROOT TRANSFORMED')\n",
    "ax[0].set(title='Distribution of Target Variable')\n",
    "ax[1].set(title='After Transformation')\n",
    "fig.legend()\n",
    "plt.show()"
   ]
  },
  {
   "cell_type": "markdown",
   "metadata": {},
   "source": [
    "## Reciprocal Transformation"
   ]
  },
  {
   "cell_type": "code",
   "execution_count": null,
   "metadata": {},
   "outputs": [],
   "source": [
    "re_target = 1/hourly_rentals['count']\n",
    "fig,ax = plt.subplots(1,2,figsize=(13, 5))\n",
    "sns.distplot(hourly_rentals['count'], label= 'Orginal Skew :{0}'.format(np.round(skew(hourly_rentals['count']),4)), color='r', ax=ax[0], axlabel='ORGINAL')\n",
    "sns.distplot(re_target, label= 'Transformed Skew:{0}'.format(np.round(skew(re_target),4)), color='g', ax=ax[1], axlabel='INVERSE TRANSFORMED')\n",
    "ax[0].set(title='Distribution of Target Variable')\n",
    "ax[1].set(title='After Transformation')\n",
    "fig.legend()\n",
    "plt.show()"
   ]
  },
  {
   "cell_type": "markdown",
   "metadata": {},
   "source": [
    "## Box-cox Transformation"
   ]
  },
  {
   "cell_type": "code",
   "execution_count": null,
   "metadata": {},
   "outputs": [],
   "source": [
    "bcx_target, lam = boxcox(hourly_rentals['count'])\n",
    "fig,ax = plt.subplots(1,2,figsize=(13, 5))\n",
    "sns.distplot(hourly_rentals['count'], label= 'Orginal Skew :{0}'.format(np.round(skew(hourly_rentals['count']),4)), color='r', ax=ax[0], axlabel='ORGINAL')\n",
    "sns.distplot(bcx_target, label= 'Transformed Skew:{0}'.format(np.round(skew(bcx_target),4)), color='g', ax=ax[1], axlabel='BOX-COX TRANSFORMED')\n",
    "ax[0].set(title='Distribution of Target Variable')\n",
    "ax[1].set(title='After Transformation')\n",
    "fig.legend()\n",
    "plt.show()"
   ]
  },
  {
   "cell_type": "markdown",
   "metadata": {},
   "source": [
    "## Yeo-Johnson Transformation"
   ]
  },
  {
   "cell_type": "code",
   "execution_count": null,
   "metadata": {},
   "outputs": [],
   "source": [
    "yf_target, lam = yeojohnson(hourly_rentals['count'])\n",
    "fig,ax = plt.subplots(1,2,figsize=(13, 5))\n",
    "sns.distplot(hourly_rentals['count'], label= 'Orginal Skew :{0}'.format(np.round(skew(hourly_rentals['count']),4)), color='r', ax=ax[0], axlabel='ORGINAL')\n",
    "sns.distplot(yf_target, label= 'Transformed Skew:{0}'.format(np.round(skew(yf_target),4)), color='g', ax=ax[1], axlabel='Y-J TRANSFORMED')\n",
    "ax[0].set(title='Distribution of Target Variable')\n",
    "ax[1].set(title='After Transformation')\n",
    "fig.legend()\n",
    "plt.show()"
   ]
  }
 ],
 "metadata": {
  "interpreter": {
   "hash": "5c82cf216bcd6695c751af4e033b89e10a78cc5d50e2943f0ed5dd08b475eddb"
  },
  "kernelspec": {
   "display_name": "Python 3.9.6 64-bit ('conda-env')",
   "language": "python",
   "name": "python3"
  },
  "language_info": {
   "codemirror_mode": {
    "name": "ipython",
    "version": 3
   },
   "file_extension": ".py",
   "mimetype": "text/x-python",
   "name": "python",
   "nbconvert_exporter": "python",
   "pygments_lexer": "ipython3",
   "version": "3.9.6"
  },
  "orig_nbformat": 4
 },
 "nbformat": 4,
 "nbformat_minor": 2
}
