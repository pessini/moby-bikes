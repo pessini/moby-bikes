{
 "cells": [
  {
   "cell_type": "markdown",
   "source": [
    "<img title=\"GitHub Octocat\" src='./img/Octocat.jpg' style='height: 60px; padding-right: 15px' alt=\"Octocat\" align=\"left\"> This notebook is part of a GitHub repository: https://github.com/pessini/moby-bikes \n",
    "<br>MIT Licensed\n",
    "<br>Author: Leandro Pessini"
   ],
   "metadata": {}
  },
  {
   "cell_type": "markdown",
   "source": [
    "<img title=\"Moby Bikes\" src=\"https://i.ytimg.com/vi/-s8er6tHD3o/maxresdefault.jpg\" style=\"height:400px; border-radius: 10px\" alt=\"Moby Bikes\" class=\"img-fluid\">"
   ],
   "metadata": {}
  },
  {
   "cell_type": "markdown",
   "source": [
    "<div class=\"list-group\" id=\"list-tab\" role=\"tablist\">\n",
    "  <h1 class=\"list-group-item list-group-item-action active\" data-toggle=\"list\"  role=\"tab\" aria-controls=\"home\">&nbsp;Table of Contents:</h1>\n",
    "  <a class=\"list-group-item list-group-item-action\" data-toggle=\"list\" href=\"#1\" role=\"tab\" aria-controls=\"profile\">1. Introduction<span class=\"badge badge-primary badge-pill\">1</span></a>\n",
    "  <a class=\"list-group-item list-group-item-action\" data-toggle=\"list\" href=\"#2\" role=\"tab\" aria-controls=\"messages\">2. Feature Engineering<span class=\"badge badge-primary badge-pill\">2</span></a>\n",
    "  <a class=\"list-group-item list-group-item-action\" data-toggle=\"list\" href=\"#3\" role=\"tab\" aria-controls=\"messages\">3. EDA (Exploratory Data Analysis)<span class=\"badge badge-primary badge-pill\">3</span></a>\n",
    "   <a class=\"list-group-item list-group-item-action\" data-toggle=\"list\" href=\"#4\" role=\"tab\" aria-controls=\"messages\">4. Model<span class=\"badge badge-primary badge-pill\">4</span></a>\n",
    "   <a class=\"list-group-item list-group-item-action\" data-toggle=\"list\" href=\"#5\" role=\"tab\" aria-controls=\"messages\">5. Evaluation<span class=\"badge badge-primary badge-pill\">5</span></a>    \n",
    "   <a class=\"list-group-item list-group-item-action\" data-toggle=\"list\" href=\"#6\" role=\"tab\" aria-controls=\"messages\">6. Conclusion<span class=\"badge badge-primary badge-pill\">6</span></a>\n",
    "</div>"
   ],
   "metadata": {}
  },
  {
   "cell_type": "markdown",
   "source": [
    "---"
   ],
   "metadata": {}
  },
  {
   "cell_type": "markdown",
   "source": [
    "<a id=\"1\"></a>\n",
    "# <p style=\"font-size:100%; text-align:left; color:#444444;\">1- Introduction</p>"
   ],
   "metadata": {}
  },
  {
   "cell_type": "markdown",
   "source": [
    "## Datasets\n",
    "\n",
    "Dataset provided by [Moby Bikes](https://data.gov.ie/dataset/moby-bikes) through a public [API](https://data.smartdublin.ie/mobybikes-api). \n",
    "\n",
    "Dataset provided by [Met Éireann](https://www.met.ie/) through a public [API](https://data.gov.ie/organization/meteireann). \n",
    "\n",
    "\n",
    "The **aim** of this report is to map how this disease spread throughout the island and provide insights on possible spots and species that might need extra attention from the scientists who investigate this constant threat to resident birds.\n",
    "\n",
    "## Questions\n",
    "\n",
    "- What species have shown to be the most affected with Bird Flu?\n",
    "- What are the most frequent locations where captured birds have been detected with Avian Flu?\n",
    "- November is the month with the highest presence as mentioned? What are the months with the highest proportion of infected birds?\n",
    "- The percentage of infected birds have increased during the years?\n",
    "- What is the proportion of birds targeted with Avian Flu on each Council / County?\n",
    "- Which areas present statistically significant incidence of Bird Flu?\n",
    "\n",
    "\n",
    ">https://mobidev.biz/blog/machine-learning-methods-demand-forecasting-retail"
   ],
   "metadata": {}
  },
  {
   "cell_type": "code",
   "execution_count": 1,
   "source": [
    "import pandas as pd\n",
    "import matplotlib.pyplot as plt\n",
    "import seaborn as sns\n",
    "import numpy as np\n",
    "from scipy.stats import norm\n",
    "from sklearn.preprocessing import StandardScaler\n",
    "from scipy import stats\n",
    "from datetime import datetime\n",
    "import warnings\n",
    "warnings.filterwarnings('ignore')"
   ],
   "outputs": [],
   "metadata": {}
  },
  {
   "cell_type": "code",
   "execution_count": 2,
   "source": [
    "from conn import mongodb\n",
    "import importlib\n",
    "from pymongo import MongoClient\n",
    "from urllib.parse import quote_plus\n",
    "importlib.reload(mongodb)"
   ],
   "outputs": [
    {
     "output_type": "execute_result",
     "data": {
      "text/plain": [
       "<module 'conn.mongodb' from '/Users/pessini/Dropbox/Data-Science/moby-bikes/notebooks/conn/mongodb.py'>"
      ]
     },
     "metadata": {},
     "execution_count": 2
    }
   ],
   "metadata": {}
  },
  {
   "cell_type": "code",
   "execution_count": 3,
   "source": [
    "def _connect_mongo(host, port, username, password, db_name):\n",
    "    \"\"\" A util for making a connection to mongo \"\"\"\n",
    "\n",
    "    if username and password:\n",
    "        try:\n",
    "            mongo_uri = f'mongodb://{username}:{quote_plus(password)}@{host}:{port}/{db_name}'\n",
    "            conn = MongoClient(mongo_uri)\n",
    "        except:\n",
    "            print('Could not connect to MongoDB')\n",
    "    else:\n",
    "        conn = MongoClient(host, port)\n",
    "\n",
    "    return conn"
   ],
   "outputs": [],
   "metadata": {}
  },
  {
   "cell_type": "code",
   "execution_count": 4,
   "source": [
    "def read_mongo(query={}, collection='', no_id=True):\n",
    "    \"\"\" Read from Mongo and Store into a DataFrame \"\"\"\n",
    "    df = None\n",
    "    try:\n",
    "        # Connect to MongoDB\n",
    "        conn = _connect_mongo(host=mongodb.host, port=mongodb.port, username=mongodb.user_name, password=mongodb.pass_word, db_name=mongodb.db_name)\n",
    "        db = conn.mobybikes # switch to the database\n",
    "\n",
    "        if collection in db.list_collection_names():\n",
    "            \n",
    "            # Make a query to the specific DB and Collection and store into a Dataframe\n",
    "            data = db[collection].find(query)\n",
    "            df =  pd.DataFrame(list(data))\n",
    "            \n",
    "            # Delete the _id\n",
    "            if no_id:\n",
    "                del df['_id']\n",
    "        else:\n",
    "            print(f'Collection {collection} was not found!')\n",
    "            pass\n",
    "\n",
    "        # close mongodb connection\n",
    "        conn.close()\n",
    "    except:\n",
    "        print('Could not query MongoDB')\n",
    "    \n",
    "    return df\n"
   ],
   "outputs": [],
   "metadata": {}
  },
  {
   "cell_type": "code",
   "execution_count": 5,
   "source": [
    "# from bson.objectid import ObjectId\n",
    "\n",
    "# query = {\n",
    "#     '_id': ObjectId('60f71005df6b1188a680219b')\n",
    "# }\n",
    "\n",
    "historical_data = read_mongo(collection='historical')"
   ],
   "outputs": [],
   "metadata": {}
  },
  {
   "cell_type": "code",
   "execution_count": 6,
   "source": [
    "historical_data.columns = historical_data.columns.str.lower()\n",
    "historical_data.head()"
   ],
   "outputs": [
    {
     "output_type": "execute_result",
     "data": {
      "text/plain": [
       "           harvesttime  bikeid  battery  ebikestateid          lastgpstime  \\\n",
       "0  2021-04-01 00:00:03       5      7.0             2  2021-03-31 23:41:40   \n",
       "1  2021-04-01 00:00:03       6     16.0             2  2021-03-31 23:55:41   \n",
       "2  2021-04-01 00:00:03       7     66.0             2  2021-03-31 23:42:04   \n",
       "3  2021-04-01 00:00:03       8     48.0             2  2021-03-31 23:52:26   \n",
       "4  2021-04-01 00:00:03       9     -6.0             2  2021-03-31 23:50:20   \n",
       "\n",
       "       lastrentalstart  latitude  longitude  \n",
       "0  2021-03-30 19:18:18   53.3091   -6.21643  \n",
       "1  2021-03-31 10:31:13   53.3657   -6.32249  \n",
       "2  2021-03-30 13:07:19   53.2799   -6.14497  \n",
       "3  2021-03-30 12:43:17   53.2891   -6.11378  \n",
       "4  2021-03-29 22:37:58   53.2928   -6.13014  "
      ],
      "text/html": [
       "<div>\n",
       "<style scoped>\n",
       "    .dataframe tbody tr th:only-of-type {\n",
       "        vertical-align: middle;\n",
       "    }\n",
       "\n",
       "    .dataframe tbody tr th {\n",
       "        vertical-align: top;\n",
       "    }\n",
       "\n",
       "    .dataframe thead th {\n",
       "        text-align: right;\n",
       "    }\n",
       "</style>\n",
       "<table border=\"1\" class=\"dataframe\">\n",
       "  <thead>\n",
       "    <tr style=\"text-align: right;\">\n",
       "      <th></th>\n",
       "      <th>harvesttime</th>\n",
       "      <th>bikeid</th>\n",
       "      <th>battery</th>\n",
       "      <th>ebikestateid</th>\n",
       "      <th>lastgpstime</th>\n",
       "      <th>lastrentalstart</th>\n",
       "      <th>latitude</th>\n",
       "      <th>longitude</th>\n",
       "    </tr>\n",
       "  </thead>\n",
       "  <tbody>\n",
       "    <tr>\n",
       "      <th>0</th>\n",
       "      <td>2021-04-01 00:00:03</td>\n",
       "      <td>5</td>\n",
       "      <td>7.0</td>\n",
       "      <td>2</td>\n",
       "      <td>2021-03-31 23:41:40</td>\n",
       "      <td>2021-03-30 19:18:18</td>\n",
       "      <td>53.3091</td>\n",
       "      <td>-6.21643</td>\n",
       "    </tr>\n",
       "    <tr>\n",
       "      <th>1</th>\n",
       "      <td>2021-04-01 00:00:03</td>\n",
       "      <td>6</td>\n",
       "      <td>16.0</td>\n",
       "      <td>2</td>\n",
       "      <td>2021-03-31 23:55:41</td>\n",
       "      <td>2021-03-31 10:31:13</td>\n",
       "      <td>53.3657</td>\n",
       "      <td>-6.32249</td>\n",
       "    </tr>\n",
       "    <tr>\n",
       "      <th>2</th>\n",
       "      <td>2021-04-01 00:00:03</td>\n",
       "      <td>7</td>\n",
       "      <td>66.0</td>\n",
       "      <td>2</td>\n",
       "      <td>2021-03-31 23:42:04</td>\n",
       "      <td>2021-03-30 13:07:19</td>\n",
       "      <td>53.2799</td>\n",
       "      <td>-6.14497</td>\n",
       "    </tr>\n",
       "    <tr>\n",
       "      <th>3</th>\n",
       "      <td>2021-04-01 00:00:03</td>\n",
       "      <td>8</td>\n",
       "      <td>48.0</td>\n",
       "      <td>2</td>\n",
       "      <td>2021-03-31 23:52:26</td>\n",
       "      <td>2021-03-30 12:43:17</td>\n",
       "      <td>53.2891</td>\n",
       "      <td>-6.11378</td>\n",
       "    </tr>\n",
       "    <tr>\n",
       "      <th>4</th>\n",
       "      <td>2021-04-01 00:00:03</td>\n",
       "      <td>9</td>\n",
       "      <td>-6.0</td>\n",
       "      <td>2</td>\n",
       "      <td>2021-03-31 23:50:20</td>\n",
       "      <td>2021-03-29 22:37:58</td>\n",
       "      <td>53.2928</td>\n",
       "      <td>-6.13014</td>\n",
       "    </tr>\n",
       "  </tbody>\n",
       "</table>\n",
       "</div>"
      ]
     },
     "metadata": {},
     "execution_count": 6
    }
   ],
   "metadata": {}
  },
  {
   "cell_type": "code",
   "execution_count": 7,
   "source": [
    "historical_data.isnull().sum()"
   ],
   "outputs": [
    {
     "output_type": "execute_result",
     "data": {
      "text/plain": [
       "harvesttime            0\n",
       "bikeid                 0\n",
       "battery            25342\n",
       "ebikestateid           0\n",
       "lastgpstime            0\n",
       "lastrentalstart        0\n",
       "latitude               0\n",
       "longitude              0\n",
       "dtype: int64"
      ]
     },
     "metadata": {},
     "execution_count": 7
    }
   ],
   "metadata": {}
  },
  {
   "cell_type": "markdown",
   "source": [
    "## Weather Data - Met Éireann\n",
    "\n",
    "About the weather data there are two important decisions. One is about from **which station** the **historical data will be collected** and the other one is about the **frequency of data**, which can be **hourly or daily**."
   ],
   "metadata": {}
  },
  {
   "cell_type": "markdown",
   "source": [
    "### Station Name: **PHOENIX PARK**"
   ],
   "metadata": {}
  },
  {
   "cell_type": "code",
   "execution_count": 8,
   "source": [
    "phoenixpark_weather_hourly = pd.read_csv('../data/raw/hly175.csv')\n",
    "phoenixpark_weather_hourly.head()"
   ],
   "outputs": [
    {
     "output_type": "execute_result",
     "data": {
      "text/plain": [
       "                date  ind rain  ind.1 temp  ind.2 wetb dewpt vappr rhum  \\\n",
       "0  16-aug-2003 01:00    0  0.0      0  9.2      0  8.9   8.5  11.1   95   \n",
       "1  16-aug-2003 02:00    0  0.0      0  9.0      0  8.7   8.5  11.1   96   \n",
       "2  16-aug-2003 03:00    0  0.0      0  8.2      0  8.0   7.7  10.5   96   \n",
       "3  16-aug-2003 04:00    0  0.0      0  8.4      0  8.1   7.9  10.7   97   \n",
       "4  16-aug-2003 05:00    0  0.0      0  7.7      0  7.5   7.3  10.2   97   \n",
       "\n",
       "      msl  \n",
       "0  1021.9  \n",
       "1  1021.7  \n",
       "2  1021.2  \n",
       "3  1021.2  \n",
       "4  1021.1  "
      ],
      "text/html": [
       "<div>\n",
       "<style scoped>\n",
       "    .dataframe tbody tr th:only-of-type {\n",
       "        vertical-align: middle;\n",
       "    }\n",
       "\n",
       "    .dataframe tbody tr th {\n",
       "        vertical-align: top;\n",
       "    }\n",
       "\n",
       "    .dataframe thead th {\n",
       "        text-align: right;\n",
       "    }\n",
       "</style>\n",
       "<table border=\"1\" class=\"dataframe\">\n",
       "  <thead>\n",
       "    <tr style=\"text-align: right;\">\n",
       "      <th></th>\n",
       "      <th>date</th>\n",
       "      <th>ind</th>\n",
       "      <th>rain</th>\n",
       "      <th>ind.1</th>\n",
       "      <th>temp</th>\n",
       "      <th>ind.2</th>\n",
       "      <th>wetb</th>\n",
       "      <th>dewpt</th>\n",
       "      <th>vappr</th>\n",
       "      <th>rhum</th>\n",
       "      <th>msl</th>\n",
       "    </tr>\n",
       "  </thead>\n",
       "  <tbody>\n",
       "    <tr>\n",
       "      <th>0</th>\n",
       "      <td>16-aug-2003 01:00</td>\n",
       "      <td>0</td>\n",
       "      <td>0.0</td>\n",
       "      <td>0</td>\n",
       "      <td>9.2</td>\n",
       "      <td>0</td>\n",
       "      <td>8.9</td>\n",
       "      <td>8.5</td>\n",
       "      <td>11.1</td>\n",
       "      <td>95</td>\n",
       "      <td>1021.9</td>\n",
       "    </tr>\n",
       "    <tr>\n",
       "      <th>1</th>\n",
       "      <td>16-aug-2003 02:00</td>\n",
       "      <td>0</td>\n",
       "      <td>0.0</td>\n",
       "      <td>0</td>\n",
       "      <td>9.0</td>\n",
       "      <td>0</td>\n",
       "      <td>8.7</td>\n",
       "      <td>8.5</td>\n",
       "      <td>11.1</td>\n",
       "      <td>96</td>\n",
       "      <td>1021.7</td>\n",
       "    </tr>\n",
       "    <tr>\n",
       "      <th>2</th>\n",
       "      <td>16-aug-2003 03:00</td>\n",
       "      <td>0</td>\n",
       "      <td>0.0</td>\n",
       "      <td>0</td>\n",
       "      <td>8.2</td>\n",
       "      <td>0</td>\n",
       "      <td>8.0</td>\n",
       "      <td>7.7</td>\n",
       "      <td>10.5</td>\n",
       "      <td>96</td>\n",
       "      <td>1021.2</td>\n",
       "    </tr>\n",
       "    <tr>\n",
       "      <th>3</th>\n",
       "      <td>16-aug-2003 04:00</td>\n",
       "      <td>0</td>\n",
       "      <td>0.0</td>\n",
       "      <td>0</td>\n",
       "      <td>8.4</td>\n",
       "      <td>0</td>\n",
       "      <td>8.1</td>\n",
       "      <td>7.9</td>\n",
       "      <td>10.7</td>\n",
       "      <td>97</td>\n",
       "      <td>1021.2</td>\n",
       "    </tr>\n",
       "    <tr>\n",
       "      <th>4</th>\n",
       "      <td>16-aug-2003 05:00</td>\n",
       "      <td>0</td>\n",
       "      <td>0.0</td>\n",
       "      <td>0</td>\n",
       "      <td>7.7</td>\n",
       "      <td>0</td>\n",
       "      <td>7.5</td>\n",
       "      <td>7.3</td>\n",
       "      <td>10.2</td>\n",
       "      <td>97</td>\n",
       "      <td>1021.1</td>\n",
       "    </tr>\n",
       "  </tbody>\n",
       "</table>\n",
       "</div>"
      ]
     },
     "metadata": {},
     "execution_count": 8
    }
   ],
   "metadata": {}
  },
  {
   "cell_type": "code",
   "execution_count": 9,
   "source": [
    "phoenixpark_weather_daily = pd.read_csv('../data/raw/dly175.csv')\n",
    "phoenixpark_weather_daily.head()"
   ],
   "outputs": [
    {
     "output_type": "execute_result",
     "data": {
      "text/plain": [
       "          date  ind maxtp  ind.1 mintp igmin gmin ind.2 rain     cbl    soil\n",
       "0  16-aug-2003    0  20.1      0   7.5     4          0  0.0  1013.7  18.565\n",
       "1  17-aug-2003    0  21.3      0  11.6     0  7.5     0  1.1  1007.5  18.280\n",
       "2  18-aug-2003    0  20.3      0   8.5     0  4.3     0  0.0  1008.8  17.825\n",
       "3  19-aug-2003    0  19.9      0  11.3     0  7.7     0  0.0  1014.3  18.138\n",
       "4  20-aug-2003    0  21.5      0  10.8     0  6.9     0  0.0  1013.6  18.432"
      ],
      "text/html": [
       "<div>\n",
       "<style scoped>\n",
       "    .dataframe tbody tr th:only-of-type {\n",
       "        vertical-align: middle;\n",
       "    }\n",
       "\n",
       "    .dataframe tbody tr th {\n",
       "        vertical-align: top;\n",
       "    }\n",
       "\n",
       "    .dataframe thead th {\n",
       "        text-align: right;\n",
       "    }\n",
       "</style>\n",
       "<table border=\"1\" class=\"dataframe\">\n",
       "  <thead>\n",
       "    <tr style=\"text-align: right;\">\n",
       "      <th></th>\n",
       "      <th>date</th>\n",
       "      <th>ind</th>\n",
       "      <th>maxtp</th>\n",
       "      <th>ind.1</th>\n",
       "      <th>mintp</th>\n",
       "      <th>igmin</th>\n",
       "      <th>gmin</th>\n",
       "      <th>ind.2</th>\n",
       "      <th>rain</th>\n",
       "      <th>cbl</th>\n",
       "      <th>soil</th>\n",
       "    </tr>\n",
       "  </thead>\n",
       "  <tbody>\n",
       "    <tr>\n",
       "      <th>0</th>\n",
       "      <td>16-aug-2003</td>\n",
       "      <td>0</td>\n",
       "      <td>20.1</td>\n",
       "      <td>0</td>\n",
       "      <td>7.5</td>\n",
       "      <td>4</td>\n",
       "      <td></td>\n",
       "      <td>0</td>\n",
       "      <td>0.0</td>\n",
       "      <td>1013.7</td>\n",
       "      <td>18.565</td>\n",
       "    </tr>\n",
       "    <tr>\n",
       "      <th>1</th>\n",
       "      <td>17-aug-2003</td>\n",
       "      <td>0</td>\n",
       "      <td>21.3</td>\n",
       "      <td>0</td>\n",
       "      <td>11.6</td>\n",
       "      <td>0</td>\n",
       "      <td>7.5</td>\n",
       "      <td>0</td>\n",
       "      <td>1.1</td>\n",
       "      <td>1007.5</td>\n",
       "      <td>18.280</td>\n",
       "    </tr>\n",
       "    <tr>\n",
       "      <th>2</th>\n",
       "      <td>18-aug-2003</td>\n",
       "      <td>0</td>\n",
       "      <td>20.3</td>\n",
       "      <td>0</td>\n",
       "      <td>8.5</td>\n",
       "      <td>0</td>\n",
       "      <td>4.3</td>\n",
       "      <td>0</td>\n",
       "      <td>0.0</td>\n",
       "      <td>1008.8</td>\n",
       "      <td>17.825</td>\n",
       "    </tr>\n",
       "    <tr>\n",
       "      <th>3</th>\n",
       "      <td>19-aug-2003</td>\n",
       "      <td>0</td>\n",
       "      <td>19.9</td>\n",
       "      <td>0</td>\n",
       "      <td>11.3</td>\n",
       "      <td>0</td>\n",
       "      <td>7.7</td>\n",
       "      <td>0</td>\n",
       "      <td>0.0</td>\n",
       "      <td>1014.3</td>\n",
       "      <td>18.138</td>\n",
       "    </tr>\n",
       "    <tr>\n",
       "      <th>4</th>\n",
       "      <td>20-aug-2003</td>\n",
       "      <td>0</td>\n",
       "      <td>21.5</td>\n",
       "      <td>0</td>\n",
       "      <td>10.8</td>\n",
       "      <td>0</td>\n",
       "      <td>6.9</td>\n",
       "      <td>0</td>\n",
       "      <td>0.0</td>\n",
       "      <td>1013.6</td>\n",
       "      <td>18.432</td>\n",
       "    </tr>\n",
       "  </tbody>\n",
       "</table>\n",
       "</div>"
      ]
     },
     "metadata": {},
     "execution_count": 9
    }
   ],
   "metadata": {}
  },
  {
   "cell_type": "markdown",
   "source": [
    "### Station Name: **DUBLIN AIRPORT**"
   ],
   "metadata": {}
  },
  {
   "cell_type": "code",
   "execution_count": 10,
   "source": [
    "dublin_airport_weather_hourly = pd.read_csv('../data/raw/hly532.csv')\n",
    "dublin_airport_weather_hourly.head()"
   ],
   "outputs": [
    {
     "output_type": "execute_result",
     "data": {
      "text/plain": [
       "                date  ind  rain  ind.1  temp  ind.2  wetb  dewpt vappr rhum  \\\n",
       "0  01-jan-1991 00:00    3   0.0      0   2.1      0   1.4    0.2   6.2   87   \n",
       "1  01-jan-1991 01:00    3   0.0      0   2.0      0   1.0   -0.8   5.8   82   \n",
       "2  01-jan-1991 02:00    3   0.0      0   1.9      0   0.9   -0.9   5.7   82   \n",
       "3  01-jan-1991 03:00    3   0.0      0   2.6      0   1.3   -1.1   5.7   77   \n",
       "4  01-jan-1991 04:00    3   0.0      0   4.0      0   2.2   -0.9   5.7   70   \n",
       "\n",
       "   ...  ind.3  wdsp  ind.4  wddir ww   w  sun    vis  clht  clamt  \n",
       "0  ...      2    11      2    230  2  11  0.0  40000   999      0  \n",
       "1  ...      2    11      2    230  2  11  0.0  40000   999      2  \n",
       "2  ...      2     8      2    220  2  11  0.0  40000   200      6  \n",
       "3  ...      2     9      2    220  2  11  0.0  40000   999      4  \n",
       "4  ...      2     9      2    200  2  11  0.0  40000   120      7  \n",
       "\n",
       "[5 rows x 21 columns]"
      ],
      "text/html": [
       "<div>\n",
       "<style scoped>\n",
       "    .dataframe tbody tr th:only-of-type {\n",
       "        vertical-align: middle;\n",
       "    }\n",
       "\n",
       "    .dataframe tbody tr th {\n",
       "        vertical-align: top;\n",
       "    }\n",
       "\n",
       "    .dataframe thead th {\n",
       "        text-align: right;\n",
       "    }\n",
       "</style>\n",
       "<table border=\"1\" class=\"dataframe\">\n",
       "  <thead>\n",
       "    <tr style=\"text-align: right;\">\n",
       "      <th></th>\n",
       "      <th>date</th>\n",
       "      <th>ind</th>\n",
       "      <th>rain</th>\n",
       "      <th>ind.1</th>\n",
       "      <th>temp</th>\n",
       "      <th>ind.2</th>\n",
       "      <th>wetb</th>\n",
       "      <th>dewpt</th>\n",
       "      <th>vappr</th>\n",
       "      <th>rhum</th>\n",
       "      <th>...</th>\n",
       "      <th>ind.3</th>\n",
       "      <th>wdsp</th>\n",
       "      <th>ind.4</th>\n",
       "      <th>wddir</th>\n",
       "      <th>ww</th>\n",
       "      <th>w</th>\n",
       "      <th>sun</th>\n",
       "      <th>vis</th>\n",
       "      <th>clht</th>\n",
       "      <th>clamt</th>\n",
       "    </tr>\n",
       "  </thead>\n",
       "  <tbody>\n",
       "    <tr>\n",
       "      <th>0</th>\n",
       "      <td>01-jan-1991 00:00</td>\n",
       "      <td>3</td>\n",
       "      <td>0.0</td>\n",
       "      <td>0</td>\n",
       "      <td>2.1</td>\n",
       "      <td>0</td>\n",
       "      <td>1.4</td>\n",
       "      <td>0.2</td>\n",
       "      <td>6.2</td>\n",
       "      <td>87</td>\n",
       "      <td>...</td>\n",
       "      <td>2</td>\n",
       "      <td>11</td>\n",
       "      <td>2</td>\n",
       "      <td>230</td>\n",
       "      <td>2</td>\n",
       "      <td>11</td>\n",
       "      <td>0.0</td>\n",
       "      <td>40000</td>\n",
       "      <td>999</td>\n",
       "      <td>0</td>\n",
       "    </tr>\n",
       "    <tr>\n",
       "      <th>1</th>\n",
       "      <td>01-jan-1991 01:00</td>\n",
       "      <td>3</td>\n",
       "      <td>0.0</td>\n",
       "      <td>0</td>\n",
       "      <td>2.0</td>\n",
       "      <td>0</td>\n",
       "      <td>1.0</td>\n",
       "      <td>-0.8</td>\n",
       "      <td>5.8</td>\n",
       "      <td>82</td>\n",
       "      <td>...</td>\n",
       "      <td>2</td>\n",
       "      <td>11</td>\n",
       "      <td>2</td>\n",
       "      <td>230</td>\n",
       "      <td>2</td>\n",
       "      <td>11</td>\n",
       "      <td>0.0</td>\n",
       "      <td>40000</td>\n",
       "      <td>999</td>\n",
       "      <td>2</td>\n",
       "    </tr>\n",
       "    <tr>\n",
       "      <th>2</th>\n",
       "      <td>01-jan-1991 02:00</td>\n",
       "      <td>3</td>\n",
       "      <td>0.0</td>\n",
       "      <td>0</td>\n",
       "      <td>1.9</td>\n",
       "      <td>0</td>\n",
       "      <td>0.9</td>\n",
       "      <td>-0.9</td>\n",
       "      <td>5.7</td>\n",
       "      <td>82</td>\n",
       "      <td>...</td>\n",
       "      <td>2</td>\n",
       "      <td>8</td>\n",
       "      <td>2</td>\n",
       "      <td>220</td>\n",
       "      <td>2</td>\n",
       "      <td>11</td>\n",
       "      <td>0.0</td>\n",
       "      <td>40000</td>\n",
       "      <td>200</td>\n",
       "      <td>6</td>\n",
       "    </tr>\n",
       "    <tr>\n",
       "      <th>3</th>\n",
       "      <td>01-jan-1991 03:00</td>\n",
       "      <td>3</td>\n",
       "      <td>0.0</td>\n",
       "      <td>0</td>\n",
       "      <td>2.6</td>\n",
       "      <td>0</td>\n",
       "      <td>1.3</td>\n",
       "      <td>-1.1</td>\n",
       "      <td>5.7</td>\n",
       "      <td>77</td>\n",
       "      <td>...</td>\n",
       "      <td>2</td>\n",
       "      <td>9</td>\n",
       "      <td>2</td>\n",
       "      <td>220</td>\n",
       "      <td>2</td>\n",
       "      <td>11</td>\n",
       "      <td>0.0</td>\n",
       "      <td>40000</td>\n",
       "      <td>999</td>\n",
       "      <td>4</td>\n",
       "    </tr>\n",
       "    <tr>\n",
       "      <th>4</th>\n",
       "      <td>01-jan-1991 04:00</td>\n",
       "      <td>3</td>\n",
       "      <td>0.0</td>\n",
       "      <td>0</td>\n",
       "      <td>4.0</td>\n",
       "      <td>0</td>\n",
       "      <td>2.2</td>\n",
       "      <td>-0.9</td>\n",
       "      <td>5.7</td>\n",
       "      <td>70</td>\n",
       "      <td>...</td>\n",
       "      <td>2</td>\n",
       "      <td>9</td>\n",
       "      <td>2</td>\n",
       "      <td>200</td>\n",
       "      <td>2</td>\n",
       "      <td>11</td>\n",
       "      <td>0.0</td>\n",
       "      <td>40000</td>\n",
       "      <td>120</td>\n",
       "      <td>7</td>\n",
       "    </tr>\n",
       "  </tbody>\n",
       "</table>\n",
       "<p>5 rows × 21 columns</p>\n",
       "</div>"
      ]
     },
     "metadata": {},
     "execution_count": 10
    }
   ],
   "metadata": {}
  },
  {
   "cell_type": "markdown",
   "source": [
    "## Phoenix Park Station vs Dublin Aiport Station\n",
    "Geographically, the station at Phoenix Park would be the most suitable choice but unfortunately, they do not collect Wind information which in Ireland plays an important role when deciding to go cycling or not. For those who are not familiar with Irish weather, it rains a lot and mostly we do not have much choice about it but the wind is something that can prevent you go outside or choose a different kind of transport. Heavy rain is kind of rare on the other hand.\n",
    "\n",
    "## Hourly vs Daily data\n",
    "On this subject, daily data for the business would make more sense but because the weather is so unpredictable in Ireland (it can completely change in an hour), the best option would be hourly especially if we are looking at a historical perspective. For simplicity and better planning, we can always aggregate the predicted results by day."
   ],
   "metadata": {}
  },
  {
   "cell_type": "code",
   "execution_count": 11,
   "source": [
    "dublin_airport_weather_hourly['date'] = pd.to_datetime(dublin_airport_weather_hourly['date'])"
   ],
   "outputs": [],
   "metadata": {}
  },
  {
   "cell_type": "code",
   "execution_count": 12,
   "source": [
    "dublin_airport_weather_hourly.info()"
   ],
   "outputs": [
    {
     "output_type": "stream",
     "name": "stdout",
     "text": [
      "<class 'pandas.core.frame.DataFrame'>\n",
      "RangeIndex: 267337 entries, 0 to 267336\n",
      "Data columns (total 21 columns):\n",
      " #   Column  Non-Null Count   Dtype         \n",
      "---  ------  --------------   -----         \n",
      " 0   date    267337 non-null  datetime64[ns]\n",
      " 1   ind     267337 non-null  int64         \n",
      " 2   rain    267337 non-null  float64       \n",
      " 3   ind.1   267337 non-null  int64         \n",
      " 4   temp    267337 non-null  float64       \n",
      " 5   ind.2   267337 non-null  int64         \n",
      " 6   wetb    267337 non-null  float64       \n",
      " 7   dewpt   267337 non-null  float64       \n",
      " 8   vappr   267337 non-null  object        \n",
      " 9   rhum    267337 non-null  object        \n",
      " 10  msl     267337 non-null  float64       \n",
      " 11  ind.3   267337 non-null  int64         \n",
      " 12  wdsp    267337 non-null  int64         \n",
      " 13  ind.4   267337 non-null  int64         \n",
      " 14  wddir   267337 non-null  object        \n",
      " 15  ww      267337 non-null  int64         \n",
      " 16  w       267337 non-null  int64         \n",
      " 17  sun     267337 non-null  float64       \n",
      " 18  vis     267337 non-null  int64         \n",
      " 19  clht    267337 non-null  int64         \n",
      " 20  clamt   267337 non-null  int64         \n",
      "dtypes: datetime64[ns](1), float64(6), int64(11), object(3)\n",
      "memory usage: 42.8+ MB\n"
     ]
    }
   ],
   "metadata": {}
  },
  {
   "cell_type": "code",
   "execution_count": 13,
   "source": [
    "recent_dubairport_data = dublin_airport_weather_hourly.copy()\n",
    "\n",
    "start_date_hist = datetime(2020, 9, 23) # first day registered\n",
    "end_date_hist = datetime(2021, 6, 30) # last day used as historical data\n",
    "\n",
    "recent_dubairport_data = recent_dubairport_data[(recent_dubairport_data.date >= start_date_hist) & (recent_dubairport_data.date <= end_date_hist)]"
   ],
   "outputs": [],
   "metadata": {}
  },
  {
   "cell_type": "code",
   "execution_count": 14,
   "source": [
    "len(dublin_airport_weather_hourly), len(recent_dubairport_data)"
   ],
   "outputs": [
    {
     "output_type": "execute_result",
     "data": {
      "text/plain": [
       "(267337, 6721)"
      ]
     },
     "metadata": {},
     "execution_count": 14
    }
   ],
   "metadata": {}
  },
  {
   "cell_type": "code",
   "execution_count": 15,
   "source": [
    "columns_to_drop = ['ind','rain','ind.1','ind.2','ind.3','wetb','dewpt','vappr','msl','ind.4','wddir','ww','w','sun','vis','clht','clamt']\n",
    "weather_data = recent_dubairport_data.drop(columns=columns_to_drop)\n",
    "\n",
    "weather_data.head()\n",
    "weather_data.to_csv('../data/interim/hist_weather_data.csv')"
   ],
   "outputs": [],
   "metadata": {}
  },
  {
   "cell_type": "markdown",
   "source": [
    "## Hypothesis\n",
    "\n",
    "Hourly trend: There must be high demand during office timings. Early morning and late evening can have different trend (cyclist) and low demand during 10:00 pm to 4:00 am.\n",
    "\n",
    "Daily Trend: Registered users demand more bike on weekdays as compared to weekend or holiday.\n",
    "\n",
    "Rain: The demand of bikes will be lower on a rainy day as compared to a sunny day. Similarly, higher humidity will cause to lower the demand and vice versa.\n",
    "\n",
    "Temperature: In Ireland, temperature has positive correlation with bike demand.\n",
    "\n",
    "Time: Total demand should have higher contribution of registered user as compared to casual because registered user base would increase over time.\n",
    "\n",
    "Traffic: It can be positively correlated with Bike demand. Higher traffic may force people to use bike as compared to other road transport medium like car, taxi etc.\n",
    "\n"
   ],
   "metadata": {}
  },
  {
   "cell_type": "markdown",
   "source": [
    "<a id=\"2\"></a>\n",
    "# <p style=\"font-size:100%; text-align:left; color:#444444;\">2- Feature Engineering</p>"
   ],
   "metadata": {}
  },
  {
   "cell_type": "markdown",
   "source": [
    "### New Features\n",
    "- date (yyyy-mm-dd)\n",
    "- month\n",
    "- hour\n",
    "- workingday\n",
    "- holiday\n",
    "- season\n",
    "- battery_start\n",
    "- battery_end\n",
    "- path? (multi polygon)\n",
    "- rental_duration\n",
    "\n",
    "\n",
    "The number of rentals each hour will be aggregate later with a new feature `count`."
   ],
   "metadata": {}
  },
  {
   "cell_type": "code",
   "execution_count": 16,
   "source": [
    "rentals_data = historical_data.drop(['harvesttime','ebikestateid'], axis=1).copy()\n",
    "rentals_data[[\"lastgpstime\", \"lastrentalstart\"]] = rentals_data[[\"lastgpstime\", \"lastrentalstart\"]].apply(pd.to_datetime)\n",
    "\n",
    "rentals_data = rentals_data.astype({'battery': np.int16}, errors='ignore') # errors ignore to keep missing values (not throwing error)"
   ],
   "outputs": [],
   "metadata": {}
  },
  {
   "cell_type": "code",
   "execution_count": 17,
   "source": [
    "rentals_data.info()"
   ],
   "outputs": [
    {
     "output_type": "stream",
     "name": "stdout",
     "text": [
      "<class 'pandas.core.frame.DataFrame'>\n",
      "RangeIndex: 960928 entries, 0 to 960927\n",
      "Data columns (total 6 columns):\n",
      " #   Column           Non-Null Count   Dtype         \n",
      "---  ------           --------------   -----         \n",
      " 0   bikeid           960928 non-null  int64         \n",
      " 1   battery          935586 non-null  float64       \n",
      " 2   lastgpstime      960928 non-null  datetime64[ns]\n",
      " 3   lastrentalstart  960928 non-null  datetime64[ns]\n",
      " 4   latitude         960928 non-null  float64       \n",
      " 5   longitude        960928 non-null  float64       \n",
      "dtypes: datetime64[ns](2), float64(3), int64(1)\n",
      "memory usage: 44.0 MB\n"
     ]
    }
   ],
   "metadata": {}
  },
  {
   "cell_type": "markdown",
   "source": [
    "### Rentals' information\n",
    "\n",
    "- `coordinates`: converting latitude and longitude to an array to store a GeoJSON object *MultiPoint* \n",
    "- `start_battery`: getting the battery status when the rental started\n",
    "- `lastgpstime`: new variable that will only store the last record when grouping rentals"
   ],
   "metadata": {}
  },
  {
   "cell_type": "code",
   "execution_count": 18,
   "source": [
    "def feat_eng(x):\n",
    "    d = {}\n",
    "    d['coordinates'] = x[['latitude','longitude']].values.tolist()\n",
    "    d['start_battery'] = list(x['battery'])[-1] # get the first battery status (when rental started)\n",
    "    d['lastgpstime'] = list(x['lastgpstime'])[0] # get the last gpstime (previously sorted)\n",
    "    \n",
    "    return pd.Series(d, index=['coordinates', 'start_battery', 'lastgpstime'])\n",
    "\n",
    "# also sorting data by lastgpstime\n",
    "grouped_rentals = rentals_data.sort_values(\"lastgpstime\", ascending=False).groupby(['lastrentalstart', 'bikeid']).apply(feat_eng).reset_index()"
   ],
   "outputs": [],
   "metadata": {}
  },
  {
   "cell_type": "code",
   "execution_count": 19,
   "source": [
    "grouped_rentals.shape"
   ],
   "outputs": [
    {
     "output_type": "execute_result",
     "data": {
      "text/plain": [
       "(27534, 5)"
      ]
     },
     "metadata": {},
     "execution_count": 19
    }
   ],
   "metadata": {}
  },
  {
   "cell_type": "markdown",
   "source": [
    "### Date and time - new features\n",
    "- `rental_date`\n",
    "- `rental_month`\n",
    "- `rental_hour`\n",
    "- `holiday`\n",
    "- `workingday`\n",
    "- `season`: (1 = Spring, 2 = Summer, 3 = Fall, 4 = Winter)\n",
    "- *`duration`: duration of the rental\n",
    "\n",
    "\\* **Assumption**: that the duration of the rental is $ LastGPSTime - RentalStart $"
   ],
   "metadata": {}
  },
  {
   "cell_type": "code",
   "execution_count": 20,
   "source": [
    "grouped_rentals['rental_date'] = pd.to_datetime(grouped_rentals['lastrentalstart'].dt.date)\n",
    "grouped_rentals['rental_month'] = grouped_rentals['lastrentalstart'].dt.month\n",
    "grouped_rentals['rental_hour'] = grouped_rentals['lastrentalstart'].dt.hour"
   ],
   "outputs": [],
   "metadata": {}
  },
  {
   "cell_type": "code",
   "execution_count": 21,
   "source": [
    "grouped_rentals.info()"
   ],
   "outputs": [
    {
     "output_type": "stream",
     "name": "stdout",
     "text": [
      "<class 'pandas.core.frame.DataFrame'>\n",
      "RangeIndex: 27534 entries, 0 to 27533\n",
      "Data columns (total 8 columns):\n",
      " #   Column           Non-Null Count  Dtype         \n",
      "---  ------           --------------  -----         \n",
      " 0   lastrentalstart  27534 non-null  datetime64[ns]\n",
      " 1   bikeid           27534 non-null  int64         \n",
      " 2   coordinates      27534 non-null  object        \n",
      " 3   start_battery    26963 non-null  float64       \n",
      " 4   lastgpstime      27534 non-null  datetime64[ns]\n",
      " 5   rental_date      27534 non-null  datetime64[ns]\n",
      " 6   rental_month     27534 non-null  int64         \n",
      " 7   rental_hour      27534 non-null  int64         \n",
      "dtypes: datetime64[ns](3), float64(1), int64(3), object(1)\n",
      "memory usage: 1.7+ MB\n"
     ]
    }
   ],
   "metadata": {}
  },
  {
   "cell_type": "code",
   "execution_count": 22,
   "source": [
    "# time of rental in minutes (lastgpstime - rental-start)\n",
    "grouped_rentals['duration'] = (grouped_rentals['lastgpstime'] - grouped_rentals['lastrentalstart']) / pd.Timedelta(minutes=1)"
   ],
   "outputs": [],
   "metadata": {}
  },
  {
   "cell_type": "markdown",
   "source": [
    "A few GPS records have frozen and stopped sending the accurate data back. About 345 records which would lead to a bias duration of rentals.\n",
    "\n",
    "To prevent any inaccurate information these records will be set as `NaN`."
   ],
   "metadata": {}
  },
  {
   "cell_type": "code",
   "execution_count": 23,
   "source": [
    "grouped_rentals['duration'] = np.where(grouped_rentals['duration'] < 0, np.NaN, grouped_rentals['duration'])\n",
    "len(grouped_rentals[ np.isnan(grouped_rentals['duration']) ])"
   ],
   "outputs": [
    {
     "output_type": "execute_result",
     "data": {
      "text/plain": [
       "345"
      ]
     },
     "metadata": {},
     "execution_count": 23
    }
   ],
   "metadata": {}
  },
  {
   "cell_type": "markdown",
   "source": [
    "## Bank Holidays"
   ],
   "metadata": {}
  },
  {
   "cell_type": "code",
   "execution_count": 24,
   "source": [
    "qry_bh = {\n",
    "    'type': 'National holiday'\n",
    "}\n",
    "\n",
    "bank_holidays = read_mongo(query=qry_bh, collection='irishcalendar')\n",
    "bank_holidays.drop(['country', 'type'], axis=1, inplace=True)\n",
    "bank_holidays['date'] = pd.DatetimeIndex(bank_holidays['date'].apply(pd.to_datetime))"
   ],
   "outputs": [],
   "metadata": {}
  },
  {
   "cell_type": "code",
   "execution_count": 25,
   "source": [
    "# holiday\n",
    "grouped_rentals['holiday'] = grouped_rentals['rental_date'].isin(bank_holidays['date'])\n",
    "\n",
    "# day of the week\n",
    "grouped_rentals['dayofweek'] = grouped_rentals['rental_date'].dt.dayofweek\n",
    "\n",
    "# working day (Monday=0, Sunday=6)\n",
    "grouped_rentals['working_day'] = grouped_rentals['dayofweek'] < 5 # from 0 to 4 or monday to friday"
   ],
   "outputs": [],
   "metadata": {}
  },
  {
   "cell_type": "markdown",
   "source": [
    "## Seasons"
   ],
   "metadata": {}
  },
  {
   "cell_type": "code",
   "execution_count": 26,
   "source": [
    "Y = 2000 # dummy leap year to allow input X-02-29 (leap day)\n",
    "seasons = [(3, (datetime(Y,  1,  1),  datetime(Y,  3, 20))),\n",
    "           (0, (datetime(Y,  3, 21),  datetime(Y,  6, 20))),\n",
    "           (1, (datetime(Y,  6, 21),  datetime(Y,  9, 22))),\n",
    "           (2, (datetime(Y,  9, 23),  datetime(Y, 12, 20))),\n",
    "           (3, (datetime(Y, 12, 21),  datetime(Y, 12, 31)))]\n",
    "\n",
    "def get_season(date: pd.DatetimeIndex) -> int:\n",
    "    '''\n",
    "        Receives a date and returns the corresponded season\n",
    "        0 - Spring | 1 - Summer | 2 - Autumn | 3 - Winter\n",
    "        Vernal equinox(about March 21): day and night of equal length, marking the start of spring\n",
    "        Summer solstice (June 20 or 21): longest day of the year, marking the start of summer\n",
    "        Autumnal equinox(about September 23): day and night of equal length, marking the start of autumn\n",
    "        Winter solstice (December 21 or 22): shortest day of the year, marking the start of winter\n",
    "    '''\n",
    "    date = date.replace(year=Y)\n",
    "    return next(season for season, (start, end) in seasons if start <= date <= end)\n",
    "\n",
    "\n",
    "grouped_rentals['season'] = grouped_rentals.rental_date.map(get_season)"
   ],
   "outputs": [],
   "metadata": {}
  },
  {
   "cell_type": "code",
   "execution_count": 27,
   "source": [
    "grouped_rentals.isnull().sum()"
   ],
   "outputs": [
    {
     "output_type": "execute_result",
     "data": {
      "text/plain": [
       "lastrentalstart      0\n",
       "bikeid               0\n",
       "coordinates          0\n",
       "start_battery      571\n",
       "lastgpstime          0\n",
       "rental_date          0\n",
       "rental_month         0\n",
       "rental_hour          0\n",
       "duration           345\n",
       "holiday              0\n",
       "dayofweek            0\n",
       "working_day          0\n",
       "season               0\n",
       "dtype: int64"
      ]
     },
     "metadata": {},
     "execution_count": 27
    }
   ],
   "metadata": {}
  },
  {
   "cell_type": "markdown",
   "source": [
    "## Battery"
   ],
   "metadata": {}
  },
  {
   "cell_type": "code",
   "execution_count": 28,
   "source": [
    "grouped_rentals[grouped_rentals['start_battery'] > 100]"
   ],
   "outputs": [
    {
     "output_type": "execute_result",
     "data": {
      "text/plain": [
       "          lastrentalstart  bikeid           coordinates  start_battery  \\\n",
       "18592 2021-04-03 12:40:00     103  [[53.3405, -6.2679]]          268.0   \n",
       "\n",
       "              lastgpstime rental_date  rental_month  rental_hour   duration  \\\n",
       "18592 2021-04-03 12:55:11  2021-04-03             4           12  15.183333   \n",
       "\n",
       "       holiday  dayofweek  working_day  season  \n",
       "18592    False          5        False       0  "
      ],
      "text/html": [
       "<div>\n",
       "<style scoped>\n",
       "    .dataframe tbody tr th:only-of-type {\n",
       "        vertical-align: middle;\n",
       "    }\n",
       "\n",
       "    .dataframe tbody tr th {\n",
       "        vertical-align: top;\n",
       "    }\n",
       "\n",
       "    .dataframe thead th {\n",
       "        text-align: right;\n",
       "    }\n",
       "</style>\n",
       "<table border=\"1\" class=\"dataframe\">\n",
       "  <thead>\n",
       "    <tr style=\"text-align: right;\">\n",
       "      <th></th>\n",
       "      <th>lastrentalstart</th>\n",
       "      <th>bikeid</th>\n",
       "      <th>coordinates</th>\n",
       "      <th>start_battery</th>\n",
       "      <th>lastgpstime</th>\n",
       "      <th>rental_date</th>\n",
       "      <th>rental_month</th>\n",
       "      <th>rental_hour</th>\n",
       "      <th>duration</th>\n",
       "      <th>holiday</th>\n",
       "      <th>dayofweek</th>\n",
       "      <th>working_day</th>\n",
       "      <th>season</th>\n",
       "    </tr>\n",
       "  </thead>\n",
       "  <tbody>\n",
       "    <tr>\n",
       "      <th>18592</th>\n",
       "      <td>2021-04-03 12:40:00</td>\n",
       "      <td>103</td>\n",
       "      <td>[[53.3405, -6.2679]]</td>\n",
       "      <td>268.0</td>\n",
       "      <td>2021-04-03 12:55:11</td>\n",
       "      <td>2021-04-03</td>\n",
       "      <td>4</td>\n",
       "      <td>12</td>\n",
       "      <td>15.183333</td>\n",
       "      <td>False</td>\n",
       "      <td>5</td>\n",
       "      <td>False</td>\n",
       "      <td>0</td>\n",
       "    </tr>\n",
       "  </tbody>\n",
       "</table>\n",
       "</div>"
      ]
     },
     "metadata": {},
     "execution_count": 28
    }
   ],
   "metadata": {}
  },
  {
   "cell_type": "markdown",
   "source": [
    "From the battery records there is a few cases that we can consider. Only one record has `> 100` and a few negatives ones. To simplify the analysis the records will be normalized with values between `0 > x > 100`.\n",
    "\n",
    "All missing values (*n=571*) will not be transformed as it could be only malfunction issue when transmiting the data and it could mislead the analysis."
   ],
   "metadata": {}
  },
  {
   "cell_type": "code",
   "execution_count": 29,
   "source": [
    "# normalize battery status between 0 > x < 100\n",
    "grouped_rentals['start_battery'] = abs(grouped_rentals['start_battery'])\n",
    "grouped_rentals.loc[grouped_rentals['start_battery'] > 100, 'start_battery'] = 100"
   ],
   "outputs": [],
   "metadata": {}
  },
  {
   "cell_type": "code",
   "execution_count": 30,
   "source": [
    "new_rentals = grouped_rentals.copy()\n",
    "new_rentals.to_csv('../data/interim/new_features_rentals.csv')"
   ],
   "outputs": [],
   "metadata": {}
  },
  {
   "cell_type": "markdown",
   "source": [
    "## Combining Rentals and Weather data"
   ],
   "metadata": {}
  },
  {
   "cell_type": "code",
   "execution_count": 53,
   "source": [
    "rentals = new_rentals.copy()\n",
    "weather = weather_data.copy()\n",
    "\n",
    "weather['rental_date'] = pd.to_datetime(weather['date'].dt.date)\n",
    "weather['rental_hour'] = weather['date'].dt.hour"
   ],
   "outputs": [],
   "metadata": {}
  },
  {
   "cell_type": "code",
   "execution_count": 119,
   "source": [
    "all_data = pd.merge(rentals, weather, on=['rental_date', 'rental_hour'])"
   ],
   "outputs": [],
   "metadata": {}
  },
  {
   "cell_type": "markdown",
   "source": [
    "<a id=\"3\"></a>\n",
    "# <p style=\"font-size:100%; text-align:left; color:#444444;\">3- Exploratory Data Analysis (EDA)</p>"
   ],
   "metadata": {}
  },
  {
   "cell_type": "markdown",
   "source": [
    "- Hourly trend\n",
    "- Holiday\n",
    "- Working_day\n",
    "- Season"
   ],
   "metadata": {}
  },
  {
   "cell_type": "code",
   "execution_count": 120,
   "source": [
    "hourly_rentals = all_data.copy()\n",
    "count_hourly_rentals = hourly_rentals.groupby(['rental_date', 'rental_hour']).size().reset_index(name='count')\n",
    "columns_to_drop = ['lastrentalstart','bikeid','coordinates','start_battery','lastgpstime','rental_month','duration','date']\n",
    "hourly_rentals = hourly_rentals.drop(columns_to_drop, axis=1).drop_duplicates(subset=['rental_date', 'rental_hour'])"
   ],
   "outputs": [],
   "metadata": {}
  },
  {
   "cell_type": "code",
   "execution_count": 121,
   "source": [
    "hourly_rentals.shape, count_hourly_rentals.shape"
   ],
   "outputs": [
    {
     "output_type": "execute_result",
     "data": {
      "text/plain": [
       "((5130, 9), (5130, 3))"
      ]
     },
     "metadata": {},
     "execution_count": 121
    }
   ],
   "metadata": {}
  },
  {
   "cell_type": "code",
   "execution_count": 122,
   "source": [
    "hourly_data = pd.merge(hourly_rentals, count_hourly_rentals, on=['rental_date','rental_hour'])"
   ],
   "outputs": [],
   "metadata": {}
  },
  {
   "cell_type": "code",
   "execution_count": 123,
   "source": [
    "hourly_data.tail(20)"
   ],
   "outputs": [
    {
     "output_type": "execute_result",
     "data": {
      "text/plain": [
       "     rental_date  rental_hour  holiday  dayofweek  working_day  season  temp  \\\n",
       "5110  2021-06-29            4    False          1         True       1   8.5   \n",
       "5111  2021-06-29            6    False          1         True       1  10.4   \n",
       "5112  2021-06-29            7    False          1         True       1  11.1   \n",
       "5113  2021-06-29            8    False          1         True       1  12.9   \n",
       "5114  2021-06-29            9    False          1         True       1  14.9   \n",
       "5115  2021-06-29           10    False          1         True       1  16.9   \n",
       "5116  2021-06-29           11    False          1         True       1  18.0   \n",
       "5117  2021-06-29           12    False          1         True       1  19.5   \n",
       "5118  2021-06-29           13    False          1         True       1  20.4   \n",
       "5119  2021-06-29           14    False          1         True       1  21.5   \n",
       "5120  2021-06-29           15    False          1         True       1  22.3   \n",
       "5121  2021-06-29           16    False          1         True       1  21.0   \n",
       "5122  2021-06-29           17    False          1         True       1  20.2   \n",
       "5123  2021-06-29           18    False          1         True       1  18.7   \n",
       "5124  2021-06-29           19    False          1         True       1  17.3   \n",
       "5125  2021-06-29           20    False          1         True       1  15.1   \n",
       "5126  2021-06-29           21    False          1         True       1  13.3   \n",
       "5127  2021-06-29           22    False          1         True       1  11.3   \n",
       "5128  2021-06-29           23    False          1         True       1   9.3   \n",
       "5129  2021-06-30            0    False          2         True       1   9.4   \n",
       "\n",
       "     rhum  wdsp  count  \n",
       "5110   96     6      1  \n",
       "5111   94     7      2  \n",
       "5112   90     8      3  \n",
       "5113   85     7      9  \n",
       "5114   74     6      5  \n",
       "5115   68     6     12  \n",
       "5116   59     5     12  \n",
       "5117   59     6     13  \n",
       "5118   58     6      8  \n",
       "5119   55     5      3  \n",
       "5120   51     5      4  \n",
       "5121   56     8     13  \n",
       "5122   59     8      7  \n",
       "5123   64     7     13  \n",
       "5124   68     6      6  \n",
       "5125   75     6      4  \n",
       "5126   84     5      2  \n",
       "5127   88     3      3  \n",
       "5128   97     2      4  \n",
       "5129   96     2      1  "
      ],
      "text/html": [
       "<div>\n",
       "<style scoped>\n",
       "    .dataframe tbody tr th:only-of-type {\n",
       "        vertical-align: middle;\n",
       "    }\n",
       "\n",
       "    .dataframe tbody tr th {\n",
       "        vertical-align: top;\n",
       "    }\n",
       "\n",
       "    .dataframe thead th {\n",
       "        text-align: right;\n",
       "    }\n",
       "</style>\n",
       "<table border=\"1\" class=\"dataframe\">\n",
       "  <thead>\n",
       "    <tr style=\"text-align: right;\">\n",
       "      <th></th>\n",
       "      <th>rental_date</th>\n",
       "      <th>rental_hour</th>\n",
       "      <th>holiday</th>\n",
       "      <th>dayofweek</th>\n",
       "      <th>working_day</th>\n",
       "      <th>season</th>\n",
       "      <th>temp</th>\n",
       "      <th>rhum</th>\n",
       "      <th>wdsp</th>\n",
       "      <th>count</th>\n",
       "    </tr>\n",
       "  </thead>\n",
       "  <tbody>\n",
       "    <tr>\n",
       "      <th>5110</th>\n",
       "      <td>2021-06-29</td>\n",
       "      <td>4</td>\n",
       "      <td>False</td>\n",
       "      <td>1</td>\n",
       "      <td>True</td>\n",
       "      <td>1</td>\n",
       "      <td>8.5</td>\n",
       "      <td>96</td>\n",
       "      <td>6</td>\n",
       "      <td>1</td>\n",
       "    </tr>\n",
       "    <tr>\n",
       "      <th>5111</th>\n",
       "      <td>2021-06-29</td>\n",
       "      <td>6</td>\n",
       "      <td>False</td>\n",
       "      <td>1</td>\n",
       "      <td>True</td>\n",
       "      <td>1</td>\n",
       "      <td>10.4</td>\n",
       "      <td>94</td>\n",
       "      <td>7</td>\n",
       "      <td>2</td>\n",
       "    </tr>\n",
       "    <tr>\n",
       "      <th>5112</th>\n",
       "      <td>2021-06-29</td>\n",
       "      <td>7</td>\n",
       "      <td>False</td>\n",
       "      <td>1</td>\n",
       "      <td>True</td>\n",
       "      <td>1</td>\n",
       "      <td>11.1</td>\n",
       "      <td>90</td>\n",
       "      <td>8</td>\n",
       "      <td>3</td>\n",
       "    </tr>\n",
       "    <tr>\n",
       "      <th>5113</th>\n",
       "      <td>2021-06-29</td>\n",
       "      <td>8</td>\n",
       "      <td>False</td>\n",
       "      <td>1</td>\n",
       "      <td>True</td>\n",
       "      <td>1</td>\n",
       "      <td>12.9</td>\n",
       "      <td>85</td>\n",
       "      <td>7</td>\n",
       "      <td>9</td>\n",
       "    </tr>\n",
       "    <tr>\n",
       "      <th>5114</th>\n",
       "      <td>2021-06-29</td>\n",
       "      <td>9</td>\n",
       "      <td>False</td>\n",
       "      <td>1</td>\n",
       "      <td>True</td>\n",
       "      <td>1</td>\n",
       "      <td>14.9</td>\n",
       "      <td>74</td>\n",
       "      <td>6</td>\n",
       "      <td>5</td>\n",
       "    </tr>\n",
       "    <tr>\n",
       "      <th>5115</th>\n",
       "      <td>2021-06-29</td>\n",
       "      <td>10</td>\n",
       "      <td>False</td>\n",
       "      <td>1</td>\n",
       "      <td>True</td>\n",
       "      <td>1</td>\n",
       "      <td>16.9</td>\n",
       "      <td>68</td>\n",
       "      <td>6</td>\n",
       "      <td>12</td>\n",
       "    </tr>\n",
       "    <tr>\n",
       "      <th>5116</th>\n",
       "      <td>2021-06-29</td>\n",
       "      <td>11</td>\n",
       "      <td>False</td>\n",
       "      <td>1</td>\n",
       "      <td>True</td>\n",
       "      <td>1</td>\n",
       "      <td>18.0</td>\n",
       "      <td>59</td>\n",
       "      <td>5</td>\n",
       "      <td>12</td>\n",
       "    </tr>\n",
       "    <tr>\n",
       "      <th>5117</th>\n",
       "      <td>2021-06-29</td>\n",
       "      <td>12</td>\n",
       "      <td>False</td>\n",
       "      <td>1</td>\n",
       "      <td>True</td>\n",
       "      <td>1</td>\n",
       "      <td>19.5</td>\n",
       "      <td>59</td>\n",
       "      <td>6</td>\n",
       "      <td>13</td>\n",
       "    </tr>\n",
       "    <tr>\n",
       "      <th>5118</th>\n",
       "      <td>2021-06-29</td>\n",
       "      <td>13</td>\n",
       "      <td>False</td>\n",
       "      <td>1</td>\n",
       "      <td>True</td>\n",
       "      <td>1</td>\n",
       "      <td>20.4</td>\n",
       "      <td>58</td>\n",
       "      <td>6</td>\n",
       "      <td>8</td>\n",
       "    </tr>\n",
       "    <tr>\n",
       "      <th>5119</th>\n",
       "      <td>2021-06-29</td>\n",
       "      <td>14</td>\n",
       "      <td>False</td>\n",
       "      <td>1</td>\n",
       "      <td>True</td>\n",
       "      <td>1</td>\n",
       "      <td>21.5</td>\n",
       "      <td>55</td>\n",
       "      <td>5</td>\n",
       "      <td>3</td>\n",
       "    </tr>\n",
       "    <tr>\n",
       "      <th>5120</th>\n",
       "      <td>2021-06-29</td>\n",
       "      <td>15</td>\n",
       "      <td>False</td>\n",
       "      <td>1</td>\n",
       "      <td>True</td>\n",
       "      <td>1</td>\n",
       "      <td>22.3</td>\n",
       "      <td>51</td>\n",
       "      <td>5</td>\n",
       "      <td>4</td>\n",
       "    </tr>\n",
       "    <tr>\n",
       "      <th>5121</th>\n",
       "      <td>2021-06-29</td>\n",
       "      <td>16</td>\n",
       "      <td>False</td>\n",
       "      <td>1</td>\n",
       "      <td>True</td>\n",
       "      <td>1</td>\n",
       "      <td>21.0</td>\n",
       "      <td>56</td>\n",
       "      <td>8</td>\n",
       "      <td>13</td>\n",
       "    </tr>\n",
       "    <tr>\n",
       "      <th>5122</th>\n",
       "      <td>2021-06-29</td>\n",
       "      <td>17</td>\n",
       "      <td>False</td>\n",
       "      <td>1</td>\n",
       "      <td>True</td>\n",
       "      <td>1</td>\n",
       "      <td>20.2</td>\n",
       "      <td>59</td>\n",
       "      <td>8</td>\n",
       "      <td>7</td>\n",
       "    </tr>\n",
       "    <tr>\n",
       "      <th>5123</th>\n",
       "      <td>2021-06-29</td>\n",
       "      <td>18</td>\n",
       "      <td>False</td>\n",
       "      <td>1</td>\n",
       "      <td>True</td>\n",
       "      <td>1</td>\n",
       "      <td>18.7</td>\n",
       "      <td>64</td>\n",
       "      <td>7</td>\n",
       "      <td>13</td>\n",
       "    </tr>\n",
       "    <tr>\n",
       "      <th>5124</th>\n",
       "      <td>2021-06-29</td>\n",
       "      <td>19</td>\n",
       "      <td>False</td>\n",
       "      <td>1</td>\n",
       "      <td>True</td>\n",
       "      <td>1</td>\n",
       "      <td>17.3</td>\n",
       "      <td>68</td>\n",
       "      <td>6</td>\n",
       "      <td>6</td>\n",
       "    </tr>\n",
       "    <tr>\n",
       "      <th>5125</th>\n",
       "      <td>2021-06-29</td>\n",
       "      <td>20</td>\n",
       "      <td>False</td>\n",
       "      <td>1</td>\n",
       "      <td>True</td>\n",
       "      <td>1</td>\n",
       "      <td>15.1</td>\n",
       "      <td>75</td>\n",
       "      <td>6</td>\n",
       "      <td>4</td>\n",
       "    </tr>\n",
       "    <tr>\n",
       "      <th>5126</th>\n",
       "      <td>2021-06-29</td>\n",
       "      <td>21</td>\n",
       "      <td>False</td>\n",
       "      <td>1</td>\n",
       "      <td>True</td>\n",
       "      <td>1</td>\n",
       "      <td>13.3</td>\n",
       "      <td>84</td>\n",
       "      <td>5</td>\n",
       "      <td>2</td>\n",
       "    </tr>\n",
       "    <tr>\n",
       "      <th>5127</th>\n",
       "      <td>2021-06-29</td>\n",
       "      <td>22</td>\n",
       "      <td>False</td>\n",
       "      <td>1</td>\n",
       "      <td>True</td>\n",
       "      <td>1</td>\n",
       "      <td>11.3</td>\n",
       "      <td>88</td>\n",
       "      <td>3</td>\n",
       "      <td>3</td>\n",
       "    </tr>\n",
       "    <tr>\n",
       "      <th>5128</th>\n",
       "      <td>2021-06-29</td>\n",
       "      <td>23</td>\n",
       "      <td>False</td>\n",
       "      <td>1</td>\n",
       "      <td>True</td>\n",
       "      <td>1</td>\n",
       "      <td>9.3</td>\n",
       "      <td>97</td>\n",
       "      <td>2</td>\n",
       "      <td>4</td>\n",
       "    </tr>\n",
       "    <tr>\n",
       "      <th>5129</th>\n",
       "      <td>2021-06-30</td>\n",
       "      <td>0</td>\n",
       "      <td>False</td>\n",
       "      <td>2</td>\n",
       "      <td>True</td>\n",
       "      <td>1</td>\n",
       "      <td>9.4</td>\n",
       "      <td>96</td>\n",
       "      <td>2</td>\n",
       "      <td>1</td>\n",
       "    </tr>\n",
       "  </tbody>\n",
       "</table>\n",
       "</div>"
      ]
     },
     "metadata": {},
     "execution_count": 123
    }
   ],
   "metadata": {}
  },
  {
   "cell_type": "markdown",
   "source": [
    "## Viz\n",
    "\n",
    "- Hour x Count by Season\n",
    "- Hour x Count by day of week\n",
    "- Hour x Count by temperature\n",
    "- Battery\n",
    "- Duration of rentals"
   ],
   "metadata": {}
  },
  {
   "cell_type": "code",
   "execution_count": null,
   "source": [],
   "outputs": [],
   "metadata": {}
  },
  {
   "cell_type": "code",
   "execution_count": 128,
   "source": [
    "# 0 - Spring | 1 - Summer | 2 - Autumn | 3 - Winter\n",
    "season_map = {0:'Spring', 1:'Summer', 2:'Fall', 3:'Winter'}\n",
    "\n",
    "season_freq = hourly_data.groupby(['season', 'hour']).size().reset_index(name='count')\n",
    "season_freq.rename(columns={'lastrentalstart': 'hour'}, inplace=True)\n",
    "\n",
    "season_freq['season'] = season_freq['season'].map(lambda d : season_map[d])\n",
    "fig, ax = plt.subplots(figsize=(18, 10))\n",
    "sns.pointplot(x=season_freq[\"hour\"], y=season_freq[\"count\"], hue=season_freq[\"season\"], ax=ax)\n",
    "ax.set(xlabel='Hour Of The Day', ylabel='Rentals Count', title=\"Number of Rentals By Hour Of The Day Across Seasons\")\n",
    "plt.show()"
   ],
   "outputs": [
    {
     "output_type": "error",
     "ename": "KeyError",
     "evalue": "'hour'",
     "traceback": [
      "\u001b[0;31m---------------------------------------------------------------------------\u001b[0m",
      "\u001b[0;31mKeyError\u001b[0m                                  Traceback (most recent call last)",
      "\u001b[0;32m/var/folders/lr/8335y3wd171c4vp2tz2rrjtc0000gn/T/ipykernel_1241/1424238267.py\u001b[0m in \u001b[0;36m<module>\u001b[0;34m\u001b[0m\n\u001b[1;32m      1\u001b[0m \u001b[0;31m# 0 - Spring | 1 - Summer | 2 - Autumn | 3 - Winter\u001b[0m\u001b[0;34m\u001b[0m\u001b[0;34m\u001b[0m\u001b[0;34m\u001b[0m\u001b[0m\n\u001b[1;32m      2\u001b[0m \u001b[0mseason_map\u001b[0m \u001b[0;34m=\u001b[0m \u001b[0;34m{\u001b[0m\u001b[0;36m0\u001b[0m\u001b[0;34m:\u001b[0m\u001b[0;34m'Spring'\u001b[0m\u001b[0;34m,\u001b[0m \u001b[0;36m1\u001b[0m\u001b[0;34m:\u001b[0m\u001b[0;34m'Summer'\u001b[0m\u001b[0;34m,\u001b[0m \u001b[0;36m2\u001b[0m\u001b[0;34m:\u001b[0m\u001b[0;34m'Fall'\u001b[0m\u001b[0;34m,\u001b[0m \u001b[0;36m3\u001b[0m\u001b[0;34m:\u001b[0m\u001b[0;34m'Winter'\u001b[0m\u001b[0;34m}\u001b[0m\u001b[0;34m\u001b[0m\u001b[0;34m\u001b[0m\u001b[0m\n\u001b[0;32m----> 3\u001b[0;31m \u001b[0mseason_freq\u001b[0m \u001b[0;34m=\u001b[0m \u001b[0mhourly_data\u001b[0m\u001b[0;34m.\u001b[0m\u001b[0mgroupby\u001b[0m\u001b[0;34m(\u001b[0m\u001b[0;34m[\u001b[0m\u001b[0;34m'season'\u001b[0m\u001b[0;34m,\u001b[0m \u001b[0;34m'hour'\u001b[0m\u001b[0;34m]\u001b[0m\u001b[0;34m)\u001b[0m\u001b[0;34m.\u001b[0m\u001b[0msize\u001b[0m\u001b[0;34m(\u001b[0m\u001b[0;34m)\u001b[0m\u001b[0;34m.\u001b[0m\u001b[0mreset_index\u001b[0m\u001b[0;34m(\u001b[0m\u001b[0mname\u001b[0m\u001b[0;34m=\u001b[0m\u001b[0;34m'count'\u001b[0m\u001b[0;34m)\u001b[0m\u001b[0;34m\u001b[0m\u001b[0;34m\u001b[0m\u001b[0m\n\u001b[0m\u001b[1;32m      4\u001b[0m \u001b[0mseason_freq\u001b[0m\u001b[0;34m.\u001b[0m\u001b[0mrename\u001b[0m\u001b[0;34m(\u001b[0m\u001b[0mcolumns\u001b[0m\u001b[0;34m=\u001b[0m\u001b[0;34m{\u001b[0m\u001b[0;34m'lastrentalstart'\u001b[0m\u001b[0;34m:\u001b[0m \u001b[0;34m'hour'\u001b[0m\u001b[0;34m}\u001b[0m\u001b[0;34m,\u001b[0m \u001b[0minplace\u001b[0m\u001b[0;34m=\u001b[0m\u001b[0;32mTrue\u001b[0m\u001b[0;34m)\u001b[0m\u001b[0;34m\u001b[0m\u001b[0;34m\u001b[0m\u001b[0m\n\u001b[1;32m      5\u001b[0m \u001b[0mseason_freq\u001b[0m\u001b[0;34m[\u001b[0m\u001b[0;34m'season'\u001b[0m\u001b[0;34m]\u001b[0m \u001b[0;34m=\u001b[0m \u001b[0mseason_freq\u001b[0m\u001b[0;34m[\u001b[0m\u001b[0;34m'season'\u001b[0m\u001b[0;34m]\u001b[0m\u001b[0;34m.\u001b[0m\u001b[0mmap\u001b[0m\u001b[0;34m(\u001b[0m\u001b[0;32mlambda\u001b[0m \u001b[0md\u001b[0m \u001b[0;34m:\u001b[0m \u001b[0mseason_map\u001b[0m\u001b[0;34m[\u001b[0m\u001b[0md\u001b[0m\u001b[0;34m]\u001b[0m\u001b[0;34m)\u001b[0m\u001b[0;34m\u001b[0m\u001b[0;34m\u001b[0m\u001b[0m\n",
      "\u001b[0;32m~/Dropbox/Data-Science/moby-bikes/conda-env/lib/python3.9/site-packages/pandas/core/frame.py\u001b[0m in \u001b[0;36mgroupby\u001b[0;34m(self, by, axis, level, as_index, sort, group_keys, squeeze, observed, dropna)\u001b[0m\n\u001b[1;32m   7624\u001b[0m         \u001b[0;31m# error: Argument \"squeeze\" to \"DataFrameGroupBy\" has incompatible type\u001b[0m\u001b[0;34m\u001b[0m\u001b[0;34m\u001b[0m\u001b[0;34m\u001b[0m\u001b[0m\n\u001b[1;32m   7625\u001b[0m         \u001b[0;31m# \"Union[bool, NoDefault]\"; expected \"bool\"\u001b[0m\u001b[0;34m\u001b[0m\u001b[0;34m\u001b[0m\u001b[0;34m\u001b[0m\u001b[0m\n\u001b[0;32m-> 7626\u001b[0;31m         return DataFrameGroupBy(\n\u001b[0m\u001b[1;32m   7627\u001b[0m             \u001b[0mobj\u001b[0m\u001b[0;34m=\u001b[0m\u001b[0mself\u001b[0m\u001b[0;34m,\u001b[0m\u001b[0;34m\u001b[0m\u001b[0;34m\u001b[0m\u001b[0m\n\u001b[1;32m   7628\u001b[0m             \u001b[0mkeys\u001b[0m\u001b[0;34m=\u001b[0m\u001b[0mby\u001b[0m\u001b[0;34m,\u001b[0m\u001b[0;34m\u001b[0m\u001b[0;34m\u001b[0m\u001b[0m\n",
      "\u001b[0;32m~/Dropbox/Data-Science/moby-bikes/conda-env/lib/python3.9/site-packages/pandas/core/groupby/groupby.py\u001b[0m in \u001b[0;36m__init__\u001b[0;34m(self, obj, keys, axis, level, grouper, exclusions, selection, as_index, sort, group_keys, squeeze, observed, mutated, dropna)\u001b[0m\n\u001b[1;32m    886\u001b[0m             \u001b[0;32mfrom\u001b[0m \u001b[0mpandas\u001b[0m\u001b[0;34m.\u001b[0m\u001b[0mcore\u001b[0m\u001b[0;34m.\u001b[0m\u001b[0mgroupby\u001b[0m\u001b[0;34m.\u001b[0m\u001b[0mgrouper\u001b[0m \u001b[0;32mimport\u001b[0m \u001b[0mget_grouper\u001b[0m\u001b[0;34m\u001b[0m\u001b[0;34m\u001b[0m\u001b[0m\n\u001b[1;32m    887\u001b[0m \u001b[0;34m\u001b[0m\u001b[0m\n\u001b[0;32m--> 888\u001b[0;31m             grouper, exclusions, obj = get_grouper(\n\u001b[0m\u001b[1;32m    889\u001b[0m                 \u001b[0mobj\u001b[0m\u001b[0;34m,\u001b[0m\u001b[0;34m\u001b[0m\u001b[0;34m\u001b[0m\u001b[0m\n\u001b[1;32m    890\u001b[0m                 \u001b[0mkeys\u001b[0m\u001b[0;34m,\u001b[0m\u001b[0;34m\u001b[0m\u001b[0;34m\u001b[0m\u001b[0m\n",
      "\u001b[0;32m~/Dropbox/Data-Science/moby-bikes/conda-env/lib/python3.9/site-packages/pandas/core/groupby/grouper.py\u001b[0m in \u001b[0;36mget_grouper\u001b[0;34m(obj, key, axis, level, sort, observed, mutated, validate, dropna)\u001b[0m\n\u001b[1;32m    858\u001b[0m                 \u001b[0min_axis\u001b[0m\u001b[0;34m,\u001b[0m \u001b[0mlevel\u001b[0m\u001b[0;34m,\u001b[0m \u001b[0mgpr\u001b[0m \u001b[0;34m=\u001b[0m \u001b[0;32mFalse\u001b[0m\u001b[0;34m,\u001b[0m \u001b[0mgpr\u001b[0m\u001b[0;34m,\u001b[0m \u001b[0;32mNone\u001b[0m\u001b[0;34m\u001b[0m\u001b[0;34m\u001b[0m\u001b[0m\n\u001b[1;32m    859\u001b[0m             \u001b[0;32melse\u001b[0m\u001b[0;34m:\u001b[0m\u001b[0;34m\u001b[0m\u001b[0;34m\u001b[0m\u001b[0m\n\u001b[0;32m--> 860\u001b[0;31m                 \u001b[0;32mraise\u001b[0m \u001b[0mKeyError\u001b[0m\u001b[0;34m(\u001b[0m\u001b[0mgpr\u001b[0m\u001b[0;34m)\u001b[0m\u001b[0;34m\u001b[0m\u001b[0;34m\u001b[0m\u001b[0m\n\u001b[0m\u001b[1;32m    861\u001b[0m         \u001b[0;32melif\u001b[0m \u001b[0misinstance\u001b[0m\u001b[0;34m(\u001b[0m\u001b[0mgpr\u001b[0m\u001b[0;34m,\u001b[0m \u001b[0mGrouper\u001b[0m\u001b[0;34m)\u001b[0m \u001b[0;32mand\u001b[0m \u001b[0mgpr\u001b[0m\u001b[0;34m.\u001b[0m\u001b[0mkey\u001b[0m \u001b[0;32mis\u001b[0m \u001b[0;32mnot\u001b[0m \u001b[0;32mNone\u001b[0m\u001b[0;34m:\u001b[0m\u001b[0;34m\u001b[0m\u001b[0;34m\u001b[0m\u001b[0m\n\u001b[1;32m    862\u001b[0m             \u001b[0;31m# Add key to exclusions\u001b[0m\u001b[0;34m\u001b[0m\u001b[0;34m\u001b[0m\u001b[0;34m\u001b[0m\u001b[0m\n",
      "\u001b[0;31mKeyError\u001b[0m: 'hour'"
     ]
    }
   ],
   "metadata": {}
  },
  {
   "cell_type": "markdown",
   "source": [
    "### Note\n",
    "\n",
    "Summer data is very low due to the last data collect is June 30th and the summer have just started. **Decided to not use the season as a predictor** for now and after the changing of season the model will be rebuild adding this feature."
   ],
   "metadata": {}
  },
  {
   "cell_type": "code",
   "execution_count": 34,
   "source": [
    "day_of_week_map = {0:'Monday', 1:'Tuesday', 2:'Wednesday', 3:'Thursday', 4:'Friday', 5:'Saturday', 6:'Sunday'}\n",
    "day_of_week = hourly_rentals.groupby(['dayofweek', hourly_rentals.index.hour]).size().reset_index(name='count')\n",
    "day_of_week['dayofweek'] = day_of_week['dayofweek'].map(lambda d : day_of_week_map[d])\n",
    "fig, ax = plt.subplots(figsize=(18, 10))\n",
    "sns.pointplot(x=day_of_week[\"lastrentalstart\"], y=day_of_week[\"count\"], hue=day_of_week[\"dayofweek\"], ax=ax)\n",
    "ax.set(xlabel='Hour Of The Day', ylabel='Rentals Count', title=\"Number of Rentals By Hour Of The Day Across Days of Week\")\n",
    "plt.show()"
   ],
   "outputs": [
    {
     "output_type": "display_data",
     "data": {
      "text/plain": [
       "<Figure size 1296x720 with 1 Axes>"
      ],
      "image/png": "[encoded data removed]"
     },
     "metadata": {
      "needs_background": "light"
     }
    }
   ],
   "metadata": {}
  },
  {
   "cell_type": "code",
   "execution_count": 65,
   "source": [
    "battery_dist = all_data.copy()\n",
    "\n",
    "def group_battery_status(df):\n",
    "\n",
    "    bins= [0,30,50,80,100]\n",
    "    labels = ['< 30%','30% - 50%','50% - 80%','> 80%']\n",
    "    battery_dist['battery_status'] = pd.cut(battery_dist['start_battery'], bins=bins, labels=labels, right=False)\n",
    "\n",
    "    s = battery_dist.battery_status\n",
    "    counts = s.value_counts()\n",
    "    percent = s.value_counts(normalize=True)\n",
    "    percent100 = s.value_counts(normalize=True).mul(100).round(1).astype(str) + '%'\n",
    "    \n",
    "    return pd.DataFrame({'counts': counts, 'per': percent, 'per100': percent100}, labels)"
   ],
   "outputs": [],
   "metadata": {}
  },
  {
   "cell_type": "code",
   "execution_count": 66,
   "source": [
    "group_battery_status(battery_dist)"
   ],
   "outputs": [
    {
     "output_type": "execute_result",
     "data": {
      "text/plain": [
       "           counts       per per100\n",
       "< 30%        3004  0.111519  11.2%\n",
       "30% - 50%    4607  0.171029  17.1%\n",
       "50% - 80%   10917  0.405279  40.5%\n",
       "> 80%        8409  0.312173  31.2%"
      ],
      "text/html": [
       "<div>\n",
       "<style scoped>\n",
       "    .dataframe tbody tr th:only-of-type {\n",
       "        vertical-align: middle;\n",
       "    }\n",
       "\n",
       "    .dataframe tbody tr th {\n",
       "        vertical-align: top;\n",
       "    }\n",
       "\n",
       "    .dataframe thead th {\n",
       "        text-align: right;\n",
       "    }\n",
       "</style>\n",
       "<table border=\"1\" class=\"dataframe\">\n",
       "  <thead>\n",
       "    <tr style=\"text-align: right;\">\n",
       "      <th></th>\n",
       "      <th>counts</th>\n",
       "      <th>per</th>\n",
       "      <th>per100</th>\n",
       "    </tr>\n",
       "  </thead>\n",
       "  <tbody>\n",
       "    <tr>\n",
       "      <th>&lt; 30%</th>\n",
       "      <td>3004</td>\n",
       "      <td>0.111519</td>\n",
       "      <td>11.2%</td>\n",
       "    </tr>\n",
       "    <tr>\n",
       "      <th>30% - 50%</th>\n",
       "      <td>4607</td>\n",
       "      <td>0.171029</td>\n",
       "      <td>17.1%</td>\n",
       "    </tr>\n",
       "    <tr>\n",
       "      <th>50% - 80%</th>\n",
       "      <td>10917</td>\n",
       "      <td>0.405279</td>\n",
       "      <td>40.5%</td>\n",
       "    </tr>\n",
       "    <tr>\n",
       "      <th>&gt; 80%</th>\n",
       "      <td>8409</td>\n",
       "      <td>0.312173</td>\n",
       "      <td>31.2%</td>\n",
       "    </tr>\n",
       "  </tbody>\n",
       "</table>\n",
       "</div>"
      ]
     },
     "metadata": {},
     "execution_count": 66
    }
   ],
   "metadata": {}
  },
  {
   "cell_type": "code",
   "execution_count": 67,
   "source": [
    "sns.histplot(data=new_rentals, x='start_battery', kde=True)"
   ],
   "outputs": [
    {
     "output_type": "execute_result",
     "data": {
      "text/plain": [
       "<AxesSubplot:xlabel='start_battery', ylabel='Count'>"
      ]
     },
     "metadata": {},
     "execution_count": 67
    },
    {
     "output_type": "display_data",
     "data": {
      "text/plain": [
       "<Figure size 432x288 with 1 Axes>"
      ],
      "image/png": "[encoded data removed]"
     },
     "metadata": {
      "needs_background": "light"
     }
    }
   ],
   "metadata": {}
  },
  {
   "cell_type": "code",
   "execution_count": 68,
   "source": [
    "all_data['duration'].mean()"
   ],
   "outputs": [
    {
     "output_type": "execute_result",
     "data": {
      "text/plain": [
       "1058.9377349923918"
      ]
     },
     "metadata": {},
     "execution_count": 68
    }
   ],
   "metadata": {}
  },
  {
   "cell_type": "code",
   "execution_count": 69,
   "source": [
    "all_data.head()"
   ],
   "outputs": [
    {
     "output_type": "execute_result",
     "data": {
      "text/plain": [
       "      lastrentalstart  bikeid  \\\n",
       "0 2020-09-23 06:46:18      17   \n",
       "1 2020-09-23 08:02:09      78   \n",
       "2 2020-09-23 09:57:11      89   \n",
       "3 2020-09-23 10:17:17       8   \n",
       "4 2020-09-23 10:39:21      37   \n",
       "\n",
       "                                         coordinates  start_battery  \\\n",
       "0  [[53.2981, -6.16036], [53.2981, -6.16036], [53...           35.0   \n",
       "1  [[53.3763, -6.272], [53.3763, -6.272], [53.376...           66.0   \n",
       "2         [[53.3854, -6.25747], [53.3854, -6.25752]]           90.0   \n",
       "3  [[0.0, 0.0], [0.0, 0.0], [0.0, 0.0], [0.0, 0.0...            NaN   \n",
       "4  [[53.2801, -6.14426], [53.2802, -6.14428], [53...           38.0   \n",
       "\n",
       "          lastgpstime rental_date  rental_month  rental_hour     duration  \\\n",
       "0 2020-09-25 11:25:00  2020-09-23             9            6  3158.700000   \n",
       "1 2020-09-25 08:44:14  2020-09-23             9            8  2922.083333   \n",
       "2 2020-09-23 18:00:28  2020-09-23             9            9   483.283333   \n",
       "3 2020-09-23 11:44:01  2020-09-23             9           10    86.733333   \n",
       "4 2020-09-23 18:41:32  2020-09-23             9           10   482.183333   \n",
       "\n",
       "   holiday  dayofweek  working_day  season                date  temp rhum  \\\n",
       "0    False          2         True       2 2020-09-23 06:00:00   8.0   92   \n",
       "1    False          2         True       2 2020-09-23 08:00:00   8.4   90   \n",
       "2    False          2         True       2 2020-09-23 09:00:00   9.4   87   \n",
       "3    False          2         True       2 2020-09-23 10:00:00   9.7   84   \n",
       "4    False          2         True       2 2020-09-23 10:00:00   9.7   84   \n",
       "\n",
       "   wdsp  \n",
       "0     9  \n",
       "1     9  \n",
       "2     8  \n",
       "3     8  \n",
       "4     8  "
      ],
      "text/html": [
       "<div>\n",
       "<style scoped>\n",
       "    .dataframe tbody tr th:only-of-type {\n",
       "        vertical-align: middle;\n",
       "    }\n",
       "\n",
       "    .dataframe tbody tr th {\n",
       "        vertical-align: top;\n",
       "    }\n",
       "\n",
       "    .dataframe thead th {\n",
       "        text-align: right;\n",
       "    }\n",
       "</style>\n",
       "<table border=\"1\" class=\"dataframe\">\n",
       "  <thead>\n",
       "    <tr style=\"text-align: right;\">\n",
       "      <th></th>\n",
       "      <th>lastrentalstart</th>\n",
       "      <th>bikeid</th>\n",
       "      <th>coordinates</th>\n",
       "      <th>start_battery</th>\n",
       "      <th>lastgpstime</th>\n",
       "      <th>rental_date</th>\n",
       "      <th>rental_month</th>\n",
       "      <th>rental_hour</th>\n",
       "      <th>duration</th>\n",
       "      <th>holiday</th>\n",
       "      <th>dayofweek</th>\n",
       "      <th>working_day</th>\n",
       "      <th>season</th>\n",
       "      <th>date</th>\n",
       "      <th>temp</th>\n",
       "      <th>rhum</th>\n",
       "      <th>wdsp</th>\n",
       "    </tr>\n",
       "  </thead>\n",
       "  <tbody>\n",
       "    <tr>\n",
       "      <th>0</th>\n",
       "      <td>2020-09-23 06:46:18</td>\n",
       "      <td>17</td>\n",
       "      <td>[[53.2981, -6.16036], [53.2981, -6.16036], [53...</td>\n",
       "      <td>35.0</td>\n",
       "      <td>2020-09-25 11:25:00</td>\n",
       "      <td>2020-09-23</td>\n",
       "      <td>9</td>\n",
       "      <td>6</td>\n",
       "      <td>3158.700000</td>\n",
       "      <td>False</td>\n",
       "      <td>2</td>\n",
       "      <td>True</td>\n",
       "      <td>2</td>\n",
       "      <td>2020-09-23 06:00:00</td>\n",
       "      <td>8.0</td>\n",
       "      <td>92</td>\n",
       "      <td>9</td>\n",
       "    </tr>\n",
       "    <tr>\n",
       "      <th>1</th>\n",
       "      <td>2020-09-23 08:02:09</td>\n",
       "      <td>78</td>\n",
       "      <td>[[53.3763, -6.272], [53.3763, -6.272], [53.376...</td>\n",
       "      <td>66.0</td>\n",
       "      <td>2020-09-25 08:44:14</td>\n",
       "      <td>2020-09-23</td>\n",
       "      <td>9</td>\n",
       "      <td>8</td>\n",
       "      <td>2922.083333</td>\n",
       "      <td>False</td>\n",
       "      <td>2</td>\n",
       "      <td>True</td>\n",
       "      <td>2</td>\n",
       "      <td>2020-09-23 08:00:00</td>\n",
       "      <td>8.4</td>\n",
       "      <td>90</td>\n",
       "      <td>9</td>\n",
       "    </tr>\n",
       "    <tr>\n",
       "      <th>2</th>\n",
       "      <td>2020-09-23 09:57:11</td>\n",
       "      <td>89</td>\n",
       "      <td>[[53.3854, -6.25747], [53.3854, -6.25752]]</td>\n",
       "      <td>90.0</td>\n",
       "      <td>2020-09-23 18:00:28</td>\n",
       "      <td>2020-09-23</td>\n",
       "      <td>9</td>\n",
       "      <td>9</td>\n",
       "      <td>483.283333</td>\n",
       "      <td>False</td>\n",
       "      <td>2</td>\n",
       "      <td>True</td>\n",
       "      <td>2</td>\n",
       "      <td>2020-09-23 09:00:00</td>\n",
       "      <td>9.4</td>\n",
       "      <td>87</td>\n",
       "      <td>8</td>\n",
       "    </tr>\n",
       "    <tr>\n",
       "      <th>3</th>\n",
       "      <td>2020-09-23 10:17:17</td>\n",
       "      <td>8</td>\n",
       "      <td>[[0.0, 0.0], [0.0, 0.0], [0.0, 0.0], [0.0, 0.0...</td>\n",
       "      <td>NaN</td>\n",
       "      <td>2020-09-23 11:44:01</td>\n",
       "      <td>2020-09-23</td>\n",
       "      <td>9</td>\n",
       "      <td>10</td>\n",
       "      <td>86.733333</td>\n",
       "      <td>False</td>\n",
       "      <td>2</td>\n",
       "      <td>True</td>\n",
       "      <td>2</td>\n",
       "      <td>2020-09-23 10:00:00</td>\n",
       "      <td>9.7</td>\n",
       "      <td>84</td>\n",
       "      <td>8</td>\n",
       "    </tr>\n",
       "    <tr>\n",
       "      <th>4</th>\n",
       "      <td>2020-09-23 10:39:21</td>\n",
       "      <td>37</td>\n",
       "      <td>[[53.2801, -6.14426], [53.2802, -6.14428], [53...</td>\n",
       "      <td>38.0</td>\n",
       "      <td>2020-09-23 18:41:32</td>\n",
       "      <td>2020-09-23</td>\n",
       "      <td>9</td>\n",
       "      <td>10</td>\n",
       "      <td>482.183333</td>\n",
       "      <td>False</td>\n",
       "      <td>2</td>\n",
       "      <td>True</td>\n",
       "      <td>2</td>\n",
       "      <td>2020-09-23 10:00:00</td>\n",
       "      <td>9.7</td>\n",
       "      <td>84</td>\n",
       "      <td>8</td>\n",
       "    </tr>\n",
       "  </tbody>\n",
       "</table>\n",
       "</div>"
      ]
     },
     "metadata": {},
     "execution_count": 69
    }
   ],
   "metadata": {}
  },
  {
   "cell_type": "code",
   "execution_count": null,
   "source": [],
   "outputs": [],
   "metadata": {}
  },
  {
   "cell_type": "code",
   "execution_count": null,
   "source": [],
   "outputs": [],
   "metadata": {}
  },
  {
   "cell_type": "code",
   "execution_count": null,
   "source": [],
   "outputs": [],
   "metadata": {}
  },
  {
   "cell_type": "code",
   "execution_count": null,
   "source": [],
   "outputs": [],
   "metadata": {}
  },
  {
   "cell_type": "markdown",
   "source": [
    "<img title=\"GitHub Mark\" src=\"./img/GitHub-Mark-64px.png\" style=\"height: 32px; padding-right: 15px\" alt=\"GitHub Mark\" align=\"left\"> [GitHub repository](https://github.com/pessini/moby-bikes) <br>Author: Leandro Pessini"
   ],
   "metadata": {}
  }
 ],
 "metadata": {
  "language_info": {
   "codemirror_mode": {
    "name": "ipython",
    "version": 3
   },
   "file_extension": ".py",
   "mimetype": "text/x-python",
   "name": "python",
   "nbconvert_exporter": "python",
   "pygments_lexer": "ipython3",
   "version": "3.9.6"
  },
  "kernelspec": {
   "name": "python3",
   "display_name": "Python 3.9.6 64-bit (conda)"
  },
  "interpreter": {
   "hash": "4c4aaca6d94e52f1ce9cc908cefca5aa099f069e3c4bc9eaa1b64646fc459322"
  }
 },
 "nbformat": 4,
 "nbformat_minor": 5
}