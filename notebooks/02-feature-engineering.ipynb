{
 "cells": [
  {
   "cell_type": "markdown",
   "id": "32be05c6",
   "metadata": {},
   "source": [
    "<img title=\"GitHub Octocat\" src='./img/Octocat.jpg' style='height: 60px; padding-right: 15px' alt=\"Octocat\" align=\"left\" height=\"60\"> This notebook is part of a GitHub repository: https://github.com/pessini/moby-bikes\n",
    "<br>MIT Licensed\n",
    "<br>Author: Leandro Pessini"
   ]
  },
  {
   "cell_type": "markdown",
   "id": "7aa0075e",
   "metadata": {},
   "source": [
    "# Feature Engineering"
   ]
  },
  {
   "cell_type": "code",
   "execution_count": 1,
   "id": "5a688ff1",
   "metadata": {},
   "outputs": [],
   "source": [
    "import pandas as pd\n",
    "import matplotlib.pyplot as plt\n",
    "import matplotlib.patches as mpatches\n",
    "import seaborn as sns\n",
    "import numpy as np\n",
    "import datetime\n",
    "import scipy.stats as stats\n",
    "from patsy import dmatrices\n",
    "\n",
    "# statsmodels\n",
    "from statsmodels.stats import diagnostic as diag\n",
    "import statsmodels.api as sm\n",
    "from statsmodels.formula.api import glm\n",
    "from statsmodels.stats.stattools import durbin_watson\n",
    "from statsmodels.stats.outliers_influence import variance_inflation_factor\n",
    "\n",
    "%matplotlib inline\n",
    "import warnings\n",
    "warnings.simplefilter('ignore', FutureWarning)"
   ]
  },
  {
   "cell_type": "code",
   "execution_count": 2,
   "id": "ac1685fe",
   "metadata": {},
   "outputs": [
    {
     "name": "stdout",
     "output_type": "stream",
     "text": [
      "Author: Leandro Pessini\n",
      "\n",
      "Last updated: Thu May 12 2022\n",
      "\n",
      "Python implementation: CPython\n",
      "Python version       : 3.9.6\n",
      "IPython version      : 8.3.0\n",
      "\n",
      "numpy      : 1.21.1\n",
      "statsmodels: 0.13.2\n",
      "seaborn    : 0.11.1\n",
      "matplotlib : 3.4.2\n",
      "sys        : 3.9.6 | packaged by conda-forge | (default, Jul 11 2021, 03:36:15) \n",
      "[Clang 11.1.0 ]\n",
      "pandas     : 1.3.0\n",
      "scipy      : 1.8.0\n",
      "\n",
      "Watermark: 2.3.0\n",
      "\n"
     ]
    }
   ],
   "source": [
    "%reload_ext watermark\n",
    "%watermark -a \"Leandro Pessini\" -n -u -v -iv -w"
   ]
  },
  {
   "cell_type": "code",
   "execution_count": 3,
   "id": "d09ae7bb",
   "metadata": {},
   "outputs": [
    {
     "data": {
      "text/html": [
       "<div>\n",
       "<style scoped>\n",
       "    .dataframe tbody tr th:only-of-type {\n",
       "        vertical-align: middle;\n",
       "    }\n",
       "\n",
       "    .dataframe tbody tr th {\n",
       "        vertical-align: top;\n",
       "    }\n",
       "\n",
       "    .dataframe thead th {\n",
       "        text-align: right;\n",
       "    }\n",
       "</style>\n",
       "<table border=\"1\" class=\"dataframe\">\n",
       "  <thead>\n",
       "    <tr style=\"text-align: right;\">\n",
       "      <th></th>\n",
       "      <th>rain</th>\n",
       "      <th>temp</th>\n",
       "      <th>rhum</th>\n",
       "      <th>wdsp</th>\n",
       "      <th>date</th>\n",
       "      <th>hour</th>\n",
       "      <th>day</th>\n",
       "      <th>month</th>\n",
       "      <th>year</th>\n",
       "      <th>count</th>\n",
       "    </tr>\n",
       "  </thead>\n",
       "  <tbody>\n",
       "    <tr>\n",
       "      <th>0</th>\n",
       "      <td>0.0</td>\n",
       "      <td>0.1</td>\n",
       "      <td>98</td>\n",
       "      <td>4</td>\n",
       "      <td>2021-03-01</td>\n",
       "      <td>0</td>\n",
       "      <td>1</td>\n",
       "      <td>3</td>\n",
       "      <td>2021</td>\n",
       "      <td>0</td>\n",
       "    </tr>\n",
       "    <tr>\n",
       "      <th>1</th>\n",
       "      <td>0.0</td>\n",
       "      <td>-1.1</td>\n",
       "      <td>98</td>\n",
       "      <td>3</td>\n",
       "      <td>2021-03-01</td>\n",
       "      <td>1</td>\n",
       "      <td>1</td>\n",
       "      <td>3</td>\n",
       "      <td>2021</td>\n",
       "      <td>0</td>\n",
       "    </tr>\n",
       "    <tr>\n",
       "      <th>2</th>\n",
       "      <td>0.0</td>\n",
       "      <td>-1.2</td>\n",
       "      <td>98</td>\n",
       "      <td>4</td>\n",
       "      <td>2021-03-01</td>\n",
       "      <td>2</td>\n",
       "      <td>1</td>\n",
       "      <td>3</td>\n",
       "      <td>2021</td>\n",
       "      <td>1</td>\n",
       "    </tr>\n",
       "    <tr>\n",
       "      <th>3</th>\n",
       "      <td>0.0</td>\n",
       "      <td>-0.9</td>\n",
       "      <td>100</td>\n",
       "      <td>5</td>\n",
       "      <td>2021-03-01</td>\n",
       "      <td>3</td>\n",
       "      <td>1</td>\n",
       "      <td>3</td>\n",
       "      <td>2021</td>\n",
       "      <td>0</td>\n",
       "    </tr>\n",
       "    <tr>\n",
       "      <th>4</th>\n",
       "      <td>0.0</td>\n",
       "      <td>0.0</td>\n",
       "      <td>100</td>\n",
       "      <td>6</td>\n",
       "      <td>2021-03-01</td>\n",
       "      <td>4</td>\n",
       "      <td>1</td>\n",
       "      <td>3</td>\n",
       "      <td>2021</td>\n",
       "      <td>0</td>\n",
       "    </tr>\n",
       "  </tbody>\n",
       "</table>\n",
       "</div>"
      ],
      "text/plain": [
       "   rain  temp  rhum  wdsp       date  hour  day  month  year  count\n",
       "0   0.0   0.1    98     4 2021-03-01     0    1      3  2021      0\n",
       "1   0.0  -1.1    98     3 2021-03-01     1    1      3  2021      0\n",
       "2   0.0  -1.2    98     4 2021-03-01     2    1      3  2021      1\n",
       "3   0.0  -0.9   100     5 2021-03-01     3    1      3  2021      0\n",
       "4   0.0   0.0   100     6 2021-03-01     4    1      3  2021      0"
      ]
     },
     "execution_count": 3,
     "metadata": {},
     "output_type": "execute_result"
    }
   ],
   "source": [
    "df_train = pd.read_csv('../data/interim/dfsample_train.csv', parse_dates=['date'])\n",
    "df_test = pd.read_csv('../data/interim/dfsample_test.csv', parse_dates=['date'])\n",
    "all_data = pd.read_csv('../data/interim/all_data.csv', \n",
    "                       parse_dates=['lastrentalstart','lastgpstime'])\n",
    "df_train.head()"
   ]
  },
  {
   "cell_type": "markdown",
   "id": "3f3c83d5",
   "metadata": {},
   "source": [
    "## Hypothesis\n",
    "\n",
    "Hourly trend: It might be a high demand for people commuting to work. Early morning and late evening can have different trend (cyclist) and low demand during 10:00 pm to 4:00 am.\n",
    "\n",
    "Daily Trend: Users demand more bike on weekdays as compared to weekend or holiday.\n",
    "\n",
    "Rain: The demand of bikes will be lower on a rainy day as compared to a sunny day. Similarly, higher humidity will cause to lower the demand and vice versa.\n",
    "\n",
    "Temperature: In Ireland, temperature has positive correlation with bike demand.\n",
    "\n",
    "Traffic: It can be positively correlated with Bike demand. Higher traffic may force people to use bike as compared to other road transport medium like car, taxi etc.\n",
    "\n"
   ]
  },
  {
   "cell_type": "markdown",
   "id": "5e61f82f",
   "metadata": {},
   "source": [
    "### Date and time - new features\n",
    "- `holiday`\n",
    "- `workingday`\n",
    "- `peak`\n",
    "- `season`: (1 = Spring, 2 = Summer, 3 = Fall, 4 = Winter)\n",
    "- `duration`*: duration of the rental"
   ]
  },
  {
   "cell_type": "markdown",
   "id": "18b3df2e",
   "metadata": {},
   "source": [
    "## Bank Holidays"
   ]
  },
  {
   "cell_type": "code",
   "execution_count": 51,
   "id": "e5570ee1",
   "metadata": {},
   "outputs": [],
   "source": [
    "from functools import lru_cache\n",
    "\n",
    "@lru_cache(maxsize=None)\n",
    "def get_irish_bank_holidays() -> np.ndarray:\n",
    "    '''\n",
    "    Returns a Panda Series of Irish Bank Holidays\n",
    "    '''\n",
    "    bank_holidays = pd.read_json('../data/external/irishcalendar.json')\n",
    "    bank_holidays['date'] = pd.to_datetime(arg=bank_holidays['date'], utc=True, infer_datetime_format=True)\n",
    "    bank_holidays['dt'] = pd.to_datetime(bank_holidays['date'].dt.date)\n",
    "    bank_holidays = bank_holidays[bank_holidays['type'] == 'National holiday']\n",
    "    \n",
    "    return bank_holidays['dt'].values # np.ndarray\n",
    "\n",
    "def isBankHoliday(date: pd.DatetimeIndex) -> bool:\n",
    "    '''\n",
    "    Receives a date and returns if it is an Irish Bank Holiday\n",
    "    '''\n",
    "    bank_holidays = get_irish_bank_holidays()\n",
    "    return (pd.Timestamp(date) in bank_holidays)"
   ]
  },
  {
   "cell_type": "code",
   "execution_count": null,
   "metadata": {},
   "outputs": [],
   "source": [
    "# holiday\n",
    "# isBankHoliday(datetime.datetime(2020,3,17))\n",
    "df_train['holiday'] = df_train['date'].map(isBankHoliday)\n",
    "df_test['holiday'] = df_test['date'].map(isBankHoliday)"
   ]
  },
  {
   "cell_type": "code",
   "execution_count": null,
   "id": "0b2595b2",
   "metadata": {},
   "outputs": [],
   "source": [
    "def get_day_of_week_number(date: pd.DatetimeIndex) -> int:\n",
    "    return date.dt.dayofweek\n",
    "\n",
    "def get_day_of_week_str(date: pd.DatetimeIndex) -> str:\n",
    "    return date.dt.day_name()\n",
    "\n",
    "def isWorkingDay(date: pd.DatetimeIndex) -> bool:\n",
    "    return (get_day_of_week_number(date) < 5)\n",
    "\n",
    "# day of the week\n",
    "df_train['dayofweek_n'] = df_train['date'].map(get_day_of_week_number)\n",
    "df_train['dayofweek'] = df_train['date'].map(get_day_of_week_str)\n",
    "\n",
    "df_test['dayofweek_n'] = df_test['date'].map(get_day_of_week_number)\n",
    "df_test['dayofweek'] = df_test['date'].map(get_day_of_week_str)\n",
    "\n",
    "# working day (Monday=0, Sunday=6)\n",
    "# from 0 to 4 or monday to friday and is not holiday\n",
    "df_train['working_day'] = df_train['date'].map(isWorkingDay)\n",
    "df_test['working_day'] = df_test['date'].map(isWorkingDay)\n",
    "\n",
    "# set working_day to False on National Bank Holidays\n",
    "df_train.loc[ df_train['holiday'] , 'working_day'] = False\n",
    "df_test.loc[ df_test['holiday'] , 'working_day'] = False"
   ]
  },
  {
   "cell_type": "markdown",
   "id": "cd71c793",
   "metadata": {},
   "source": [
    "## Seasons"
   ]
  },
  {
   "cell_type": "code",
   "execution_count": null,
   "id": "d77d5e8f",
   "metadata": {},
   "outputs": [],
   "source": [
    "def get_season_from_date(date: pd.DatetimeIndex) -> str:\n",
    "    '''\n",
    "        Receives a date and returns the corresponded season\n",
    "        0 - Spring | 1 - Summer | 2 - Autumn | 3 - Winter\n",
    "        Vernal equinox(about March 21): day and night of equal length, marking the start of spring\n",
    "        Summer solstice (June 20 or 21): longest day of the year, marking the start of summer\n",
    "        Autumnal equinox(about September 23): day and night of equal length, marking the start of autumn\n",
    "        Winter solstice (December 21 or 22): shortest day of the year, marking the start of winter\n",
    "    '''\n",
    "    Y = 2000 # dummy leap year to allow input X-02-29 (leap day)\n",
    "    seasons = [('Winter', (datetime(Y,  1,  1),  datetime(Y,  3, 20))),\n",
    "            ('Spring', (datetime(Y,  3, 21),  datetime(Y,  6, 20))),\n",
    "            ('Summer', (datetime(Y,  6, 21),  datetime(Y,  9, 22))),\n",
    "            ('Autumn', (datetime(Y,  9, 23),  datetime(Y, 12, 20))),\n",
    "            ('Winter', (datetime(Y, 12, 21),  datetime(Y, 12, 31)))]\n",
    "    date = date.replace(year=Y)\n",
    "    return next(season for season, (start, end) in seasons if start <= date <= end)\n",
    "\n",
    "df_train['season'] = df_train['date'].map(get_season_from_date)\n",
    "df_test['season'] = df_test['date'].map(get_season_from_date)"
   ]
  },
  {
   "cell_type": "markdown",
   "id": "f8b33cf3",
   "metadata": {},
   "source": [
    "## Peak Times\n",
    "\n",
    ">https://www.independent.ie/irish-news/the-new-commuter-hour-peak-times-increase-with-record-traffic-volumes-36903431.html"
   ]
  },
  {
   "cell_type": "code",
   "execution_count": null,
   "id": "9c9da377",
   "metadata": {},
   "outputs": [],
   "source": [
    "df_train['peak'] = df_train[['hour', 'working_day']] \\\n",
    "    .apply(lambda x: (False, True)[(x['working_day'] == 1 and (6 <= x['hour'] <= 10 or 15 <= x['hour'] <= 19))], axis = 1)\n",
    "df_test['peak'] = df_test[['hour', 'working_day']] \\\n",
    "    .apply(lambda x: (False, True)[(x['working_day'] == 1 and (6 <= x['hour'] <= 10 or 15 <= x['hour'] <= 19))], axis = 1)"
   ]
  },
  {
   "cell_type": "markdown",
   "id": "f819972c",
   "metadata": {},
   "source": [
    "## Times of the Day\n",
    "\n",
    "- Morning (from 7am to noon)\n",
    "- Afternoon (from midday to 6pm)\n",
    "- Evening (from 6pm to 10pm)\n",
    "- Night (from 10pm to 5am)"
   ]
  },
  {
   "cell_type": "code",
   "execution_count": null,
   "id": "501a31bd",
   "metadata": {},
   "outputs": [],
   "source": [
    "conditions = [\n",
    "    (weather_data['hour'] < 7), # night 23:00 - 06:59\n",
    "    (weather_data['hour'] >= 7) & (weather_data['hour'] < 12), # morning 7:00 - 11:59\n",
    "    (weather_data['hour'] >= 12) & (weather_data['hour'] < 18), # afternoon 12:01 - 17:59\n",
    "    (weather_data['hour'] >= 18) & (weather_data['hour'] < 23) # evening 18:00 - 22:59\n",
    "]\n",
    "values = ['Night', 'Morning', 'Afternoon', 'Evening']\n",
    "weather_data['timesofday'] = np.select(conditions, values,'Night')"
   ]
  },
  {
   "cell_type": "markdown",
   "id": "49c88210",
   "metadata": {},
   "source": [
    "## Rainfall Intensity Level\n",
    "\n",
    "| Level | Rainfall Intensity |\n",
    "| :- | :-: |\n",
    "| no rain        | 0       |\n",
    "| drizzle        | 0.1~0.3 |\n",
    "| light rain     | 0.3~0.5 |\n",
    "| moderate rain  | 0.5~4   |\n",
    "| heavy rain     | >4      |\n",
    "\n",
    "Source: https://www.metoffice.gov.uk/research/library-and-archive/publications/factsheets\n",
    "\n",
    "PDF direct link: [Water in the atmosphere](https://www.metoffice.gov.uk/binaries/content/assets/metofficegovuk/pdf/research/library-and-archive/library/publications/factsheets/factsheet_3-water-in-the-atmosphere-v02.pdf)\n",
    "\n",
    "### Met Éireann Weather Forecast API\n",
    "\n",
    "(https://data.gov.ie/dataset/met-eireann-weather-forecast-api/resource/5d156b15-38b8-4de9-921b-0ffc8704c88e)\n",
    "\n",
    "**Precipitation unit:** Rain will be output in *millimetres (mm)*.\n",
    "\n",
    "The minvalue, value and maxvalue values are derived from statistical analysis of the forecast, and refer to the lower (20th percentile), middle (60th percentile) and higher (80th percentile) expected amount. If minvalue and maxvalue are not output, value is the basic forecast amount.\n",
    "\n",
    "```html\n",
    "<precipitation unit=\"mm\" value=\"0.0\" minvalue=\"0.0\" maxvalue=\"0.1\"/>\n",
    "```"
   ]
  },
  {
   "cell_type": "code",
   "execution_count": null,
   "id": "b1641b5e",
   "metadata": {},
   "outputs": [],
   "source": [
    "conditions = [\n",
    "    (weather_data['rain'] == 0.0), # no rain\n",
    "    (weather_data['rain'] <= 0.3), # drizzle\n",
    "    (weather_data['rain'] > 0.3) & (weather_data['rain'] <= 0.5), # light rain\n",
    "    (weather_data['rain'] > 0.5) & (weather_data['rain'] <= 4), # moderate rain\n",
    "    (weather_data['rain'] > 4) # heavy rain\n",
    "    ]\n",
    "values = ['no rain', 'drizzle', 'light rain', 'moderate rain','heavy rain']\n",
    "weather_data['rainfall_intensity'] = np.select(conditions, values)"
   ]
  },
  {
   "cell_type": "code",
   "execution_count": null,
   "id": "fb9641fc",
   "metadata": {},
   "outputs": [],
   "source": [
    "weather_data['rainfall_intensity'].value_counts()"
   ]
  },
  {
   "cell_type": "markdown",
   "id": "c547bf78",
   "metadata": {},
   "source": [
    "### Wind Speed Beaufort scale\n",
    "\n",
    "[The Irish Meteorological Service - BEAUFORT SCALE](https://www.met.ie/forecasts/marine-inland-lakes/beaufort-scale)\n",
    "\n",
    "<img title=\"BEAUFORT SCALE\" src='./img/Beaufort-scale.png' alt=\"BEAUFORT SCALE\" />"
   ]
  },
  {
   "cell_type": "markdown",
   "id": "00da927b",
   "metadata": {},
   "source": [
    "Another source: https://www.metoffice.gov.uk/weather/guides/coast-and-sea/beaufort-scale"
   ]
  },
  {
   "cell_type": "code",
   "execution_count": null,
   "id": "8ae838b1",
   "metadata": {},
   "outputs": [],
   "source": [
    "import math\n",
    "def scale(value, factor):\n",
    "    \"\"\"\n",
    "    Multiply value by factor, allowing for None values.\n",
    "    \"\"\"\n",
    "    return None if value is None else value * factor\n",
    "\n",
    "def wind_ms(kn):\n",
    "    \"\"\"\n",
    "    Convert wind from knots to metres per second\n",
    "    \"\"\"\n",
    "    return scale(kn, 0.514)\n",
    "\n",
    "def wind_kn(ms):\n",
    "    \"\"\"\n",
    "    Convert wind from metres per second to knots\n",
    "    \"\"\"\n",
    "    return scale(ms, 3.6 / 1.852)\n",
    "\n",
    "def wind_bft(ms):\n",
    "    \"\"\"\n",
    "    Convert wind from metres per second to Beaufort scale\n",
    "    \"\"\"\n",
    "    _bft_threshold = (0.3, 1.5, 3.4, 5.4, 7.9, 10.7, 13.8, 17.1, 20.7, 24.4, 28.4, 32.6)\n",
    "    if ms is None:\n",
    "        return None\n",
    "    return next((bft for bft in range(len(_bft_threshold)) if ms < _bft_threshold[bft]), len(_bft_threshold))"
   ]
  },
  {
   "cell_type": "code",
   "execution_count": null,
   "id": "c73fe475",
   "metadata": {},
   "outputs": [],
   "source": [
    "weather_data['wind_bft'] = weather_data.apply(lambda row: wind_bft(wind_ms(row.wdsp)), axis=1)\n",
    "weather_data['wind_bft'].value_counts().sort_values(ascending=False)"
   ]
  },
  {
   "cell_type": "markdown",
   "id": "590c0c14",
   "metadata": {},
   "source": [
    "### Grouped Wind Speed (Beaufort scale)\n",
    "\n",
    "| Level | Beaufort scale |\n",
    "| :- | :-: |\n",
    "| Calm / Light Breeze           | 0~2     |\n",
    "| Breeze                        | 3       |\n",
    "| Moderate Breeze               | 4-5     |\n",
    "| Strong Breeze / Near Gale     | 6-7     |\n",
    "| Gale / Storm                  | 8~12    |"
   ]
  },
  {
   "cell_type": "code",
   "execution_count": null,
   "id": "fb066a4e",
   "metadata": {},
   "outputs": [],
   "source": [
    "conditions = [\n",
    "    (weather_data['wind_bft'] < 3), # Calm / Light Breeze\n",
    "    (weather_data['wind_bft'] == 3), # Breeze\n",
    "    (weather_data['wind_bft'] > 3) & (weather_data['wind_bft'] < 6), # Moderate Breeze\n",
    "    (weather_data['wind_bft'] >= 6) & (weather_data['wind_bft'] < 8), # Strong Breeze / Near Gale\n",
    "    (weather_data['wind_bft'] > 7) # Gale / Storm\n",
    "]\n",
    "values = ['Calm / Light Breeze', 'Breeze', 'Moderate Breeze', 'Strong Breeze / Near Gale','Gale / Storm']\n",
    "weather_data['wind_speed_group'] = np.select(conditions, values)"
   ]
  },
  {
   "cell_type": "markdown",
   "id": "8607c5e7",
   "metadata": {},
   "source": [
    "### Rounded Temperature\n",
    "\n",
    "Capturing the relationship on temperature as continuous can be hard for machine learning algorithms as the range is to high. Temperature of 13.4C and 13.9C or 13C and 15C, are practically the same if you think about deciding whether to go bicicling or not. The same rationale applies for humidity and wind speed."
   ]
  },
  {
   "cell_type": "code",
   "execution_count": null,
   "id": "8f8dfd5e",
   "metadata": {},
   "outputs": [],
   "source": [
    "def round_up(x):\n",
    "    '''\n",
    "    Helper function to round away from zero\n",
    "    '''\n",
    "    from math import copysign\n",
    "    return int(x + copysign(0.5, x))\n",
    "\n",
    "weather_data['temp_r'] = weather_data['temp'].apply(round_up)"
   ]
  },
  {
   "cell_type": "markdown",
   "id": "901c0bf5",
   "metadata": {},
   "source": [
    "### KBinsDiscretizer - Temperature and Humidity\n",
    "\n",
    "[KBinsDiscretizer](https://scikit-learn.org/stable/modules/generated/sklearn.preprocessing.KBinsDiscretizer.html) - Bin continuous data into intervals."
   ]
  },
  {
   "cell_type": "code",
   "execution_count": null,
   "id": "51044c1b",
   "metadata": {},
   "outputs": [],
   "source": [
    "from sklearn.preprocessing import KBinsDiscretizer\n",
    "# transform the temperature with KBinsDiscretizer\n",
    "enc_kmeans = KBinsDiscretizer(n_bins=10, encode=\"ordinal\", strategy='kmeans')\n",
    "weather_data['temp_bin'] = enc_kmeans.fit_transform(weather_data['temp'].array.reshape(-1,1))\n",
    "\n",
    "# transform the humidity with KBinsDiscretizer\n",
    "enc_kmeans = KBinsDiscretizer(n_bins=5, encode=\"ordinal\", strategy='kmeans')\n",
    "weather_data['rhum_bin'] = enc_kmeans.fit_transform(weather_data['rhum'].array.reshape(-1,1))"
   ]
  },
  {
   "cell_type": "markdown",
   "id": "8732e6ed",
   "metadata": {},
   "source": [
    "## Battery distribution"
   ]
  },
  {
   "cell_type": "code",
   "execution_count": null,
   "id": "c0663854",
   "metadata": {},
   "outputs": [],
   "source": [
    "battery_dist_df = all_data[all_data['duration'] > 0].copy()\n",
    "\n",
    "def group_battery_status(df):\n",
    "\n",
    "    bins= [0,30,50,80,100]\n",
    "    labels = ['< 30%','30% - 50%','50% - 80%','> 80%']\n",
    "    df['battery_status'] = pd.cut(df['start_battery'], bins=bins, labels=labels, right=False)\n",
    "\n",
    "    s = df.battery_status\n",
    "    counts = s.value_counts()\n",
    "    percent = s.value_counts(normalize=True)\n",
    "    df_summary = pd.DataFrame({'counts': counts, 'per': percent}, labels)\n",
    "    df_summary['per100'] = round((df_summary['per']*100),2).astype(str) + '%'\n",
    "    \n",
    "    return df_summary\n",
    "\n",
    "battery_dist = group_battery_status(battery_dist_df)\n",
    "battery_dist"
   ]
  },
  {
   "cell_type": "markdown",
   "id": "de517f99",
   "metadata": {},
   "source": [
    "### Initial battery density"
   ]
  },
  {
   "cell_type": "code",
   "execution_count": null,
   "id": "7a60d898",
   "metadata": {},
   "outputs": [],
   "source": [
    "fig, ax = plt.subplots(figsize=(6, 6))\n",
    "sns.histplot(data=battery_dist_df, x='start_battery', kde=True)\n",
    "plt.show()"
   ]
  },
  {
   "cell_type": "markdown",
   "id": "e888fa10",
   "metadata": {},
   "source": [
    "## Rental's duration"
   ]
  },
  {
   "cell_type": "markdown",
   "metadata": {},
   "source": [
    "\n",
    "**Period of use**\n",
    "> \"5.1 Bikes should not be used for more than 19 consecutive hours, this is the maximum period of use.\" [General Terms and Conditions (“GTC”)](https://app.mobymove.com/t-c.html)\n",
    "\n",
    "\\* **Assumption**: Due to lack of information and data, to calculate the duration rental time I am assuming that when a new bike rental starts the duration in *minutes* will be calculated by: $$ ( RentalDuration = LastGPSTime - LastRentalStart ) $$"
   ]
  },
  {
   "cell_type": "code",
   "execution_count": null,
   "id": "43147d66",
   "metadata": {},
   "outputs": [],
   "source": [
    "# time of rental in minutes (lastgpstime - rental-start)\n",
    "all_data['duration'] = (all_data['lastgpstime'] - all_data['lastrentalstart']) / pd.Timedelta(minutes=1)"
   ]
  },
  {
   "cell_type": "markdown",
   "id": "9e9c2331",
   "metadata": {},
   "source": [
    "A few GPS records have frozen and stopped sending the accurate data back, which would lead to a bias duration of rentals.\n",
    "\n",
    "To prevent any inaccurate information these records will be set as 0."
   ]
  },
  {
   "cell_type": "code",
   "execution_count": null,
   "metadata": {},
   "outputs": [],
   "source": [
    "all_data[all_data['duration'] < 0].shape[0]"
   ]
  },
  {
   "cell_type": "code",
   "execution_count": null,
   "id": "be1ca524",
   "metadata": {},
   "outputs": [],
   "source": [
    "all_data['duration'] = np.where(all_data['duration'] < 0, 0, all_data['duration'])\n",
    "all_data[all_data['duration'] < 0].shape[0]"
   ]
  },
  {
   "cell_type": "code",
   "execution_count": null,
   "id": "b6635623",
   "metadata": {},
   "outputs": [],
   "source": [
    "avg_rental_duration = f\"Average rentals duration: {round(all_data['duration'].mean(), 2)} minutes\""
   ]
  },
  {
   "cell_type": "code",
   "execution_count": null,
   "id": "09bd7140",
   "metadata": {},
   "outputs": [],
   "source": [
    "fig, ax = plt.subplots(nrows=2,ncols=2,figsize=(22, 12))\n",
    "\n",
    "# fig.text(0.125,1.1, avg_rental_duration, fontfamily='serif',fontsize=14, fontweight='bold', color='#444444')\n",
    "fig.text(0.35,0.95,avg_rental_duration,fontfamily='serif',fontsize=22,fontweight='bold',color='#444444')\n",
    "\n",
    "season_rentduration = all_data.groupby(['season'])['duration'].mean()\n",
    "sns.barplot(x=season_rentduration.values, y=season_rentduration.index, ax=ax[0][0], orient='h', palette='husl')\n",
    "ax[0][0].set(xlabel='Duration (minutes)', ylabel='', title='Average duration (in minutes) of rentals by season')\n",
    "\n",
    "day_of_week_rentduration = all_data.groupby(['dayofweek'])['duration'].mean()\n",
    "sns.barplot(x=day_of_week_rentduration.values, y=day_of_week_rentduration.index, ci=None, ax=ax[1][0],\n",
    "            order=['Monday','Tuesday','Wednesday','Thursday','Friday','Saturday','Sunday'], orient='h', palette='husl')\n",
    "ax[1][0].set(xlabel='Duration (minutes)', ylabel='', title='Average duration (in minutes) of rentals across all days of week')\n",
    "\n",
    "holiday_rentduration = all_data.groupby(['holiday'])['duration'].mean()\n",
    "sns.barplot(x=holiday_rentduration.values, y=holiday_rentduration.index, ax=ax[0][1], orient='h', palette='husl')\n",
    "ax[0][1].set(xlabel='Duration (minutes)', ylabel='Bank Holiday', title='Average duration (in minutes) of rentals by Bank Holiday')\n",
    "# ax[0][1].bar_label(ax[0][1].containers[0])\n",
    "\n",
    "timesofday_rentduration = all_data.groupby(['timesofday'])['duration'].mean()\n",
    "sns.barplot(x=timesofday_rentduration.values, y=timesofday_rentduration.index, ax=ax[1][1],\n",
    "            order=['Morning','Afternoon','Evening','Night'], orient='h', palette='husl')\n",
    "ax[1][1].set(xlabel='Duration (minutes)', ylabel='', title='Average duration (in minutes) of rentals across Times of the Day')\n",
    "\n",
    "plt.show()"
   ]
  },
  {
   "cell_type": "markdown",
   "id": "faba61a8",
   "metadata": {},
   "source": [
    "We can spot a few patterns when in colder days (Autumn and Winter | Night), the duration of rentals on average is higher. It seems that, on average, customers stay longer with bikes on early days of the week (Monday, Tuesday and Wednesday). On the other hand, it does not seem to be a difference on average rentals duration on Bank Holidays."
   ]
  },
  {
   "cell_type": "markdown",
   "id": "70cf35db",
   "metadata": {},
   "source": [
    "<img title=\"GitHub Mark\" src=\"./img/GitHub-Mark-64px.png\" style=\"height: 32px; padding-right: 15px\" alt=\"GitHub Mark\" align=\"left\"> [GitHub repository](https://github.com/pessini/moby-bikes) <br>Author: Leandro Pessini"
   ]
  }
 ],
 "metadata": {
  "interpreter": {
   "hash": "5c82cf216bcd6695c751af4e033b89e10a78cc5d50e2943f0ed5dd08b475eddb"
  },
  "kernelspec": {
   "display_name": "Python 3.9.6 64-bit ('conda-env')",
   "language": "python",
   "name": "python3"
  },
  "language_info": {
   "codemirror_mode": {
    "name": "ipython",
    "version": 3
   },
   "file_extension": ".py",
   "mimetype": "text/x-python",
   "name": "python",
   "nbconvert_exporter": "python",
   "pygments_lexer": "ipython3",
   "version": "3.9.6"
  },
  "orig_nbformat": 4
 },
 "nbformat": 4,
 "nbformat_minor": 2
}
