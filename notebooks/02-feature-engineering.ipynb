{
 "cells": [
  {
   "cell_type": "markdown",
   "id": "32be05c6",
   "metadata": {},
   "source": [
    "<img title=\"GitHub Octocat\" src='https://github.com/pessini/moby-bikes/blob/902858f47ba9afaf380abfc2be02a2b7f1f09174/notebooks/img/Octocat.jpg?raw=true' style='height: 60px; padding-right: 15px' alt=\"Octocat\" align=\"left\" height=\"60\"> This notebook is part of a GitHub repository: https://github.com/pessini/moby-bikes\n",
    "<br>MIT Licensed\n",
    "<br>Author: Leandro Pessini"
   ]
  },
  {
   "cell_type": "markdown",
   "id": "7aa0075e",
   "metadata": {},
   "source": [
    "# Feature Engineering"
   ]
  },
  {
   "cell_type": "code",
   "execution_count": 82,
   "id": "5a688ff1",
   "metadata": {},
   "outputs": [],
   "source": [
    "import pandas as pd\n",
    "import matplotlib.pyplot as plt\n",
    "import matplotlib.patches as mpatches\n",
    "import seaborn as sns\n",
    "import numpy as np\n",
    "from datetime import datetime\n",
    "import scipy.stats as stats\n",
    "from patsy import dmatrices\n",
    "\n",
    "# statsmodels\n",
    "from statsmodels.stats import diagnostic as diag\n",
    "import statsmodels.api as sm\n",
    "from statsmodels.formula.api import glm\n",
    "from statsmodels.stats.stattools import durbin_watson\n",
    "from statsmodels.stats.outliers_influence import variance_inflation_factor\n",
    "\n",
    "%matplotlib inline\n",
    "import warnings\n",
    "warnings.simplefilter('ignore', FutureWarning)"
   ]
  },
  {
   "cell_type": "code",
   "execution_count": 2,
   "id": "ac1685fe",
   "metadata": {},
   "outputs": [
    {
     "name": "stdout",
     "output_type": "stream",
     "text": [
      "Author: Leandro Pessini\n",
      "\n",
      "Last updated: Thu May 12 2022\n",
      "\n",
      "Python implementation: CPython\n",
      "Python version       : 3.9.6\n",
      "IPython version      : 8.3.0\n",
      "\n",
      "numpy      : 1.21.1\n",
      "statsmodels: 0.13.2\n",
      "seaborn    : 0.11.1\n",
      "matplotlib : 3.4.2\n",
      "sys        : 3.9.6 | packaged by conda-forge | (default, Jul 11 2021, 03:36:15) \n",
      "[Clang 11.1.0 ]\n",
      "pandas     : 1.3.0\n",
      "scipy      : 1.8.0\n",
      "\n",
      "Watermark: 2.3.0\n",
      "\n"
     ]
    }
   ],
   "source": [
    "%reload_ext watermark\n",
    "%watermark -a \"Leandro Pessini\" -n -u -v -iv -w"
   ]
  },
  {
   "cell_type": "code",
   "execution_count": 118,
   "id": "d09ae7bb",
   "metadata": {},
   "outputs": [
    {
     "data": {
      "text/html": [
       "<div>\n",
       "<style scoped>\n",
       "    .dataframe tbody tr th:only-of-type {\n",
       "        vertical-align: middle;\n",
       "    }\n",
       "\n",
       "    .dataframe tbody tr th {\n",
       "        vertical-align: top;\n",
       "    }\n",
       "\n",
       "    .dataframe thead th {\n",
       "        text-align: right;\n",
       "    }\n",
       "</style>\n",
       "<table border=\"1\" class=\"dataframe\">\n",
       "  <thead>\n",
       "    <tr style=\"text-align: right;\">\n",
       "      <th></th>\n",
       "      <th>rain</th>\n",
       "      <th>temp</th>\n",
       "      <th>rhum</th>\n",
       "      <th>wdsp</th>\n",
       "      <th>date</th>\n",
       "      <th>hour</th>\n",
       "      <th>day</th>\n",
       "      <th>month</th>\n",
       "      <th>year</th>\n",
       "      <th>count</th>\n",
       "    </tr>\n",
       "  </thead>\n",
       "  <tbody>\n",
       "    <tr>\n",
       "      <th>0</th>\n",
       "      <td>0.0</td>\n",
       "      <td>0.1</td>\n",
       "      <td>98</td>\n",
       "      <td>4</td>\n",
       "      <td>2021-03-01</td>\n",
       "      <td>0</td>\n",
       "      <td>1</td>\n",
       "      <td>3</td>\n",
       "      <td>2021</td>\n",
       "      <td>0</td>\n",
       "    </tr>\n",
       "    <tr>\n",
       "      <th>1</th>\n",
       "      <td>0.0</td>\n",
       "      <td>-1.1</td>\n",
       "      <td>98</td>\n",
       "      <td>3</td>\n",
       "      <td>2021-03-01</td>\n",
       "      <td>1</td>\n",
       "      <td>1</td>\n",
       "      <td>3</td>\n",
       "      <td>2021</td>\n",
       "      <td>0</td>\n",
       "    </tr>\n",
       "    <tr>\n",
       "      <th>2</th>\n",
       "      <td>0.0</td>\n",
       "      <td>-1.2</td>\n",
       "      <td>98</td>\n",
       "      <td>4</td>\n",
       "      <td>2021-03-01</td>\n",
       "      <td>2</td>\n",
       "      <td>1</td>\n",
       "      <td>3</td>\n",
       "      <td>2021</td>\n",
       "      <td>1</td>\n",
       "    </tr>\n",
       "    <tr>\n",
       "      <th>3</th>\n",
       "      <td>0.0</td>\n",
       "      <td>-0.9</td>\n",
       "      <td>100</td>\n",
       "      <td>5</td>\n",
       "      <td>2021-03-01</td>\n",
       "      <td>3</td>\n",
       "      <td>1</td>\n",
       "      <td>3</td>\n",
       "      <td>2021</td>\n",
       "      <td>0</td>\n",
       "    </tr>\n",
       "    <tr>\n",
       "      <th>4</th>\n",
       "      <td>0.0</td>\n",
       "      <td>0.0</td>\n",
       "      <td>100</td>\n",
       "      <td>6</td>\n",
       "      <td>2021-03-01</td>\n",
       "      <td>4</td>\n",
       "      <td>1</td>\n",
       "      <td>3</td>\n",
       "      <td>2021</td>\n",
       "      <td>0</td>\n",
       "    </tr>\n",
       "  </tbody>\n",
       "</table>\n",
       "</div>"
      ],
      "text/plain": [
       "   rain  temp  rhum  wdsp       date  hour  day  month  year  count\n",
       "0   0.0   0.1    98     4 2021-03-01     0    1      3  2021      0\n",
       "1   0.0  -1.1    98     3 2021-03-01     1    1      3  2021      0\n",
       "2   0.0  -1.2    98     4 2021-03-01     2    1      3  2021      1\n",
       "3   0.0  -0.9   100     5 2021-03-01     3    1      3  2021      0\n",
       "4   0.0   0.0   100     6 2021-03-01     4    1      3  2021      0"
      ]
     },
     "execution_count": 118,
     "metadata": {},
     "output_type": "execute_result"
    }
   ],
   "source": [
    "df_train = pd.read_csv('../data/interim/dfsample_train.csv', parse_dates=['date'])\n",
    "df_test = pd.read_csv('../data/interim/dfsample_test.csv', parse_dates=['date'])\n",
    "all_data = pd.read_csv('../data/interim/all_data.csv', \n",
    "                       parse_dates=['lastrentalstart','lastgpstime','date'])\n",
    "df_train.head()"
   ]
  },
  {
   "cell_type": "markdown",
   "id": "3f3c83d5",
   "metadata": {},
   "source": [
    "## Hypothesis\n",
    "\n",
    "Hourly trend: It might be a high demand for people commuting to work. Early morning and late evening can have different trend (cyclist) and low demand during 10:00 pm to 4:00 am.\n",
    "\n",
    "Daily Trend: Users demand more bike on weekdays as compared to weekend or holiday.\n",
    "\n",
    "Rain: The demand of bikes will be lower on a rainy day as compared to a sunny day. Similarly, higher humidity will cause to lower the demand and vice versa.\n",
    "\n",
    "Temperature: In Ireland, temperature has positive correlation with bike demand.\n",
    "\n",
    "Traffic: It can be positively correlated with Bike demand. Higher traffic may force people to use bike as compared to other road transport medium like car, taxi etc.\n",
    "\n"
   ]
  },
  {
   "cell_type": "markdown",
   "id": "5e61f82f",
   "metadata": {},
   "source": [
    "### Date and time - new features\n",
    "- `holiday`\n",
    "- `workingday`\n",
    "- `peak`\n",
    "- `season`: (1 = Spring, 2 = Summer, 3 = Fall, 4 = Winter)\n",
    "- `duration`*: duration of the rental"
   ]
  },
  {
   "cell_type": "markdown",
   "id": "18b3df2e",
   "metadata": {},
   "source": [
    "## Bank Holidays"
   ]
  },
  {
   "cell_type": "code",
   "execution_count": 119,
   "id": "e5570ee1",
   "metadata": {},
   "outputs": [],
   "source": [
    "from functools import lru_cache\n",
    "\n",
    "@lru_cache(maxsize=None)\n",
    "def get_irish_bank_holidays() -> np.ndarray:\n",
    "    '''\n",
    "    Returns a Panda Series of Irish Bank Holidays\n",
    "    '''\n",
    "    bank_holidays = pd.read_json('../data/external/irishcalendar.json')\n",
    "    bank_holidays['date'] = pd.to_datetime(arg=bank_holidays['date'], utc=True, infer_datetime_format=True)\n",
    "    bank_holidays['dt'] = pd.to_datetime(bank_holidays['date'].dt.date)\n",
    "    bank_holidays = bank_holidays[bank_holidays['type'] == 'National holiday']\n",
    "    \n",
    "    return bank_holidays['dt'].values # np.ndarray\n",
    "\n",
    "def isBankHoliday(date: pd.DatetimeIndex) -> bool:\n",
    "    '''\n",
    "    Receives a date and returns if it is an Irish Bank Holiday\n",
    "    '''\n",
    "    bank_holidays = get_irish_bank_holidays()\n",
    "    return (pd.Timestamp(date) in bank_holidays)"
   ]
  },
  {
   "cell_type": "code",
   "execution_count": 120,
   "metadata": {},
   "outputs": [],
   "source": [
    "# holiday\n",
    "# isBankHoliday(datetime.datetime(2020,3,17))\n",
    "df_train['holiday'] = df_train['date'].map(isBankHoliday)\n",
    "df_test['holiday'] = df_test['date'].map(isBankHoliday)\n",
    "all_data['holiday'] = all_data['date'].map(isBankHoliday)"
   ]
  },
  {
   "cell_type": "code",
   "execution_count": 121,
   "id": "0b2595b2",
   "metadata": {},
   "outputs": [],
   "source": [
    "def get_day_of_week_number(date: pd.DatetimeIndex) -> int:\n",
    "    return date.dayofweek\n",
    "\n",
    "def get_day_of_week_str(date: pd.DatetimeIndex) -> str:\n",
    "    return date.day_name()\n",
    "\n",
    "def isWorkingDay(date: pd.DatetimeIndex) -> bool:\n",
    "    return (get_day_of_week_number(date) < 5)\n",
    "\n",
    "# day of the week\n",
    "df_train['dayofweek_n'] = df_train['date'].map(get_day_of_week_number)\n",
    "df_train['dayofweek'] = df_train['date'].map(get_day_of_week_str)\n",
    "\n",
    "df_test['dayofweek_n'] = df_test['date'].map(get_day_of_week_number)\n",
    "df_test['dayofweek'] = df_test['date'].map(get_day_of_week_str)\n",
    "\n",
    "all_data['dayofweek'] = all_data['date'].map(get_day_of_week_str)\n",
    "\n",
    "# working day (Monday=0, Sunday=6)\n",
    "# from 0 to 4 or monday to friday and is not holiday\n",
    "df_train['working_day'] = df_train['date'].map(isWorkingDay)\n",
    "df_test['working_day'] = df_test['date'].map(isWorkingDay)\n",
    "all_data['working_day'] = all_data['date'].map(isWorkingDay)\n",
    "\n",
    "# set working_day to False on National Bank Holidays\n",
    "df_train.loc[ df_train['holiday'] , 'working_day'] = False\n",
    "df_test.loc[ df_test['holiday'] , 'working_day'] = False\n",
    "all_data.loc[ all_data['holiday'] , 'working_day'] = False"
   ]
  },
  {
   "cell_type": "markdown",
   "id": "cd71c793",
   "metadata": {},
   "source": [
    "## Seasons"
   ]
  },
  {
   "cell_type": "code",
   "execution_count": 124,
   "id": "d77d5e8f",
   "metadata": {},
   "outputs": [],
   "source": [
    "def get_season(date: pd.DatetimeIndex) -> str:\n",
    "    '''\n",
    "        Receives a date and returns the corresponded season\n",
    "        0 - Spring | 1 - Summer | 2 - Autumn | 3 - Winter\n",
    "        Vernal equinox(about March 21): day and night of equal length, marking the start of spring\n",
    "        Summer solstice (June 20 or 21): longest day of the year, marking the start of summer\n",
    "        Autumnal equinox(about September 23): day and night of equal length, marking the start of autumn\n",
    "        Winter solstice (December 21 or 22): shortest day of the year, marking the start of winter\n",
    "    '''\n",
    "    Y = 2000 # dummy leap year to allow input X-02-29 (leap day)\n",
    "    seasons = [('Winter', (datetime(Y,  1,  1),  datetime(Y,  3, 20))),\n",
    "            ('Spring', (datetime(Y,  3, 21),  datetime(Y,  6, 20))),\n",
    "            ('Summer', (datetime(Y,  6, 21),  datetime(Y,  9, 22))),\n",
    "            ('Autumn', (datetime(Y,  9, 23),  datetime(Y, 12, 20))),\n",
    "            ('Winter', (datetime(Y, 12, 21),  datetime(Y, 12, 31)))]\n",
    "    date = date.replace(year=Y)\n",
    "    return next(season for season, (start, end) in seasons if start <= date <= end)\n",
    "\n",
    "df_train['season'] = df_train['date'].map(get_season)\n",
    "df_test['season'] = df_test['date'].map(get_season)\n",
    "all_data['season'] = all_data['date'].map(get_season)"
   ]
  },
  {
   "cell_type": "markdown",
   "id": "f8b33cf3",
   "metadata": {},
   "source": [
    "## Peak Times\n",
    "\n",
    ">https://www.independent.ie/irish-news/the-new-commuter-hour-peak-times-increase-with-record-traffic-volumes-36903431.html"
   ]
  },
  {
   "cell_type": "code",
   "execution_count": 125,
   "id": "9c9da377",
   "metadata": {},
   "outputs": [],
   "source": [
    "def isPeakHour(hour: int, date: pd.DatetimeIndex) -> bool:\n",
    "    '''\n",
    "        Receives an hour / date and returns if it is a peak hour\n",
    "        Source: https://www.independent.ie/irish-news/the-new-commuter-hour-peak-times-increase-with-record-traffic-volumes-36903431.html\n",
    "    '''\n",
    "    return ((isWorkingDay(date) and (6 <= hour <= 10 or 15 <= hour <= 19)))\n",
    "\n",
    "df_train['peak'] = list(map(isPeakHour, df_train['hour'], df_train['date']))\n",
    "df_test['peak'] = list(map(isPeakHour, df_test['hour'], df_test['date']))\n",
    "all_data['peak'] = list(map(isPeakHour, all_data['hour'], all_data['date']))"
   ]
  },
  {
   "cell_type": "markdown",
   "id": "f819972c",
   "metadata": {},
   "source": [
    "## Times of the Day\n",
    "\n",
    "- Morning (from 7am to noon)\n",
    "- Afternoon (from midday to 6pm)\n",
    "- Evening (from 6pm to 10pm)\n",
    "- Night (from 10pm to 5am)"
   ]
  },
  {
   "cell_type": "code",
   "execution_count": 126,
   "id": "501a31bd",
   "metadata": {},
   "outputs": [],
   "source": [
    "def times_of_day(hour: int) -> str:\n",
    "    '''\n",
    "    Receives an hour and returns the time of day\n",
    "    Morning: 7:00 - 11:59\n",
    "    Afternoon: 12:01 - 17:59\n",
    "    Evening: 18:00 - 22:59\n",
    "    Night: 23:00 - 06:59\n",
    "    '''\n",
    "    conditions = [\n",
    "        (hour < 7), # night 23:00 - 06:59\n",
    "        (hour >= 7) & (hour < 12), # morning 7:00 - 11:59\n",
    "        (hour >= 12) & (hour < 18), # afternoon 12:01 - 17:59\n",
    "        (hour >= 18) & (hour < 23) # evening 18:00 - 22:59\n",
    "    ]\n",
    "    values = ['Night', 'Morning', 'Afternoon', 'Evening']\n",
    "    \n",
    "    return np.select(conditions, values,'Night') \n",
    "\n",
    "\n",
    "df_train['timesofday'] = df_train['hour'].map(times_of_day)\n",
    "df_test['timesofday'] = df_test['hour'].map(times_of_day)\n",
    "all_data['timesofday'] = all_data['hour'].map(times_of_day)"
   ]
  },
  {
   "cell_type": "markdown",
   "id": "49c88210",
   "metadata": {},
   "source": [
    "## Rainfall Intensity Level\n",
    "\n",
    "| Level | Rainfall Intensity |\n",
    "| :- | :-: |\n",
    "| no rain        | 0       |\n",
    "| drizzle        | 0.1~0.3 |\n",
    "| light rain     | 0.3~0.5 |\n",
    "| moderate rain  | 0.5~4   |\n",
    "| heavy rain     | >4      |\n",
    "\n",
    "Source: https://www.metoffice.gov.uk/research/library-and-archive/publications/factsheets\n",
    "\n",
    "PDF direct link: [Water in the atmosphere](https://www.metoffice.gov.uk/binaries/content/assets/metofficegovuk/pdf/research/library-and-archive/library/publications/factsheets/factsheet_3-water-in-the-atmosphere-v02.pdf)\n",
    "\n",
    "### Met Éireann Weather Forecast API\n",
    "\n",
    "(https://data.gov.ie/dataset/met-eireann-weather-forecast-api/resource/5d156b15-38b8-4de9-921b-0ffc8704c88e)\n",
    "\n",
    "**Precipitation unit:** Rain will be output in *millimetres (mm)*.\n",
    "\n",
    "The minvalue, value and maxvalue values are derived from statistical analysis of the forecast, and refer to the lower (20th percentile), middle (60th percentile) and higher (80th percentile) expected amount. If minvalue and maxvalue are not output, value is the basic forecast amount.\n",
    "\n",
    "```html\n",
    "<precipitation unit=\"mm\" value=\"0.0\" minvalue=\"0.0\" maxvalue=\"0.1\"/>\n",
    "```"
   ]
  },
  {
   "cell_type": "code",
   "execution_count": 127,
   "id": "b1641b5e",
   "metadata": {},
   "outputs": [],
   "source": [
    "def rain_intensity_level(rain: float) -> str:\n",
    "    '''\n",
    "    Receives a rain intensity (in mm) and returns the rain intensity level\n",
    "    '''\n",
    "    conditions = [\n",
    "        (rain == 0.0), # no rain\n",
    "        (rain <= 0.3), # drizzle\n",
    "        (rain > 0.3) & (rain <= 0.5), # light rain\n",
    "        (rain > 0.5) & (rain <= 4), # moderate rain\n",
    "        (rain > 4) # heavy rain\n",
    "        ]\n",
    "    values = ['no rain', 'drizzle', 'light rain', 'moderate rain','heavy rain']\n",
    "    \n",
    "    return np.select(conditions, values)\n",
    "\n",
    "df_train['rainfall_intensity'] = df_train['rain'].map(rain_intensity_level)\n",
    "df_test['rainfall_intensity'] = df_test['rain'].map(rain_intensity_level)\n",
    "all_data['rainfall_intensity'] = all_data['rain'].map(rain_intensity_level)"
   ]
  },
  {
   "cell_type": "code",
   "execution_count": 97,
   "id": "fb9641fc",
   "metadata": {},
   "outputs": [
    {
     "data": {
      "text/plain": [
       "no rain          7862\n",
       "drizzle           465\n",
       "moderate rain     320\n",
       "light rain        100\n",
       "heavy rain         13\n",
       "Name: rainfall_intensity, dtype: int64"
      ]
     },
     "execution_count": 97,
     "metadata": {},
     "output_type": "execute_result"
    }
   ],
   "source": [
    "df_train['rainfall_intensity'].value_counts()"
   ]
  },
  {
   "cell_type": "markdown",
   "id": "c547bf78",
   "metadata": {},
   "source": [
    "### Wind Speed Beaufort scale\n",
    "\n",
    "[The Irish Meteorological Service - BEAUFORT SCALE](https://www.met.ie/forecasts/marine-inland-lakes/beaufort-scale)\n",
    "\n",
    "<img title=\"BEAUFORT SCALE\" src='https://github.com/pessini/moby-bikes/blob/902858f47ba9afaf380abfc2be02a2b7f1f09174/notebooks/img/Beaufort-scale.png?raw=true' alt=\"BEAUFORT SCALE\" />"
   ]
  },
  {
   "cell_type": "markdown",
   "id": "00da927b",
   "metadata": {},
   "source": [
    "Another source: https://www.metoffice.gov.uk/weather/guides/coast-and-sea/beaufort-scale"
   ]
  },
  {
   "cell_type": "code",
   "execution_count": 98,
   "id": "8ae838b1",
   "metadata": {},
   "outputs": [],
   "source": [
    "import math\n",
    "def scale(value, factor):\n",
    "    \"\"\"\n",
    "    Multiply value by factor, allowing for None values.\n",
    "    \"\"\"\n",
    "    return None if value is None else value * factor\n",
    "\n",
    "def wind_ms(kn):\n",
    "    \"\"\"\n",
    "    Convert wind from knots to metres per second\n",
    "    \"\"\"\n",
    "    return scale(kn, 0.514)\n",
    "\n",
    "def wind_kn(ms):\n",
    "    \"\"\"\n",
    "    Convert wind from metres per second to knots\n",
    "    \"\"\"\n",
    "    return scale(ms, 3.6 / 1.852)\n",
    "\n",
    "def wind_bft(ms):\n",
    "    \"\"\"\n",
    "    Convert wind from metres per second to Beaufort scale\n",
    "    \"\"\"\n",
    "    _bft_threshold = (0.3, 1.5, 3.4, 5.4, 7.9, 10.7, 13.8, 17.1, 20.7, 24.4, 28.4, 32.6)\n",
    "    if ms is None:\n",
    "        return None\n",
    "    return next((bft for bft in range(len(_bft_threshold)) if ms < _bft_threshold[bft]), len(_bft_threshold))"
   ]
  },
  {
   "cell_type": "code",
   "execution_count": 128,
   "id": "c73fe475",
   "metadata": {},
   "outputs": [
    {
     "data": {
      "text/plain": [
       "3    3026\n",
       "2    2875\n",
       "4    1872\n",
       "5     529\n",
       "1     314\n",
       "6     117\n",
       "7      25\n",
       "8       2\n",
       "Name: wind_bft, dtype: int64"
      ]
     },
     "execution_count": 128,
     "metadata": {},
     "output_type": "execute_result"
    }
   ],
   "source": [
    "df_train['wind_bft'] = df_train.apply(lambda row: wind_bft(wind_ms(row.wdsp)), axis=1)\n",
    "df_test['wind_bft'] = df_test.apply(lambda row: wind_bft(wind_ms(row.wdsp)), axis=1)\n",
    "all_data['wind_bft'] = all_data.apply(lambda row: wind_bft(wind_ms(row.wdsp)), axis=1)\n",
    "df_train['wind_bft'].value_counts().sort_values(ascending=False)"
   ]
  },
  {
   "cell_type": "markdown",
   "id": "590c0c14",
   "metadata": {},
   "source": [
    "### Grouped Wind Speed (Beaufort scale)\n",
    "\n",
    "| Level | Beaufort scale |\n",
    "| :- | :-: |\n",
    "| Calm / Light Breeze           | 0~2     |\n",
    "| Breeze                        | 3       |\n",
    "| Moderate Breeze               | 4-5     |\n",
    "| Strong Breeze / Near Gale     | 6-7     |\n",
    "| Gale / Storm                  | 8~12    |"
   ]
  },
  {
   "cell_type": "code",
   "execution_count": 129,
   "id": "fb066a4e",
   "metadata": {},
   "outputs": [],
   "source": [
    "def group_wind_speed(beaufort_scale: float) -> str:\n",
    "    '''\n",
    "    Receives a beaufort scale and returns the group of the wind speed\n",
    "    '''\n",
    "    conditions = [\n",
    "        (beaufort_scale < 3), # Calm / Light Breeze\n",
    "        (beaufort_scale == 3), # Breeze\n",
    "        (beaufort_scale > 3) & (beaufort_scale < 6), # Moderate Breeze\n",
    "        (beaufort_scale >= 6) & (beaufort_scale < 8), # Strong Breeze / Near Gale\n",
    "        (beaufort_scale > 7) # Gale / Storm\n",
    "    ]\n",
    "    values = ['Calm / Light Breeze', 'Breeze', 'Moderate Breeze', 'Strong Breeze / Near Gale','Gale / Storm']\n",
    "    \n",
    "    return np.select(conditions, values)\n",
    "\n",
    "\n",
    "df_train['wind_speed_group'] = df_train['wind_bft'].map(group_wind_speed)\n",
    "df_test['wind_speed_group'] = df_test['wind_bft'].map(group_wind_speed)\n",
    "all_data['wind_speed_group'] = all_data['wind_bft'].map(group_wind_speed)"
   ]
  },
  {
   "cell_type": "markdown",
   "id": "8607c5e7",
   "metadata": {},
   "source": [
    "### Rounded Temperature\n",
    "\n",
    "Capturing the relationship on temperature as continuous can be hard for machine learning algorithms as the range is to high. Temperature of 13.4C and 13.9C or 13C and 15C, are practically the same if you think about deciding whether to go bicicling or not. The same rationale applies for humidity and wind speed."
   ]
  },
  {
   "cell_type": "code",
   "execution_count": 130,
   "id": "8f8dfd5e",
   "metadata": {},
   "outputs": [],
   "source": [
    "def round_up(x):\n",
    "    '''\n",
    "    Helper function to round away from zero\n",
    "    '''\n",
    "    from math import copysign\n",
    "    return int(x + copysign(0.5, x))\n",
    "\n",
    "df_train['temp_r'] = df_train['temp'].apply(round_up)\n",
    "df_test['temp_r'] = df_test['temp'].apply(round_up)\n",
    "all_data['temp_r'] = all_data['temp'].apply(round_up)"
   ]
  },
  {
   "cell_type": "markdown",
   "id": "901c0bf5",
   "metadata": {},
   "source": [
    "### KBinsDiscretizer - Temperature and Humidity\n",
    "\n",
    "[KBinsDiscretizer](https://scikit-learn.org/stable/modules/generated/sklearn.preprocessing.KBinsDiscretizer.html) - Bin continuous data into intervals."
   ]
  },
  {
   "cell_type": "code",
   "execution_count": 131,
   "id": "51044c1b",
   "metadata": {},
   "outputs": [],
   "source": [
    "from sklearn.preprocessing import KBinsDiscretizer\n",
    "# transform the temperature with KBinsDiscretizer\n",
    "enc_temp = KBinsDiscretizer(n_bins=10, encode=\"ordinal\", strategy='kmeans')\n",
    "df_train['temp_bin'] = enc_temp.fit_transform(df_train['temp'].array.reshape(-1,1))\n",
    "df_test['temp_bin'] = enc_temp.transform(df_test['temp'].array.reshape(-1,1))\n",
    "all_data['temp_bin'] = enc_temp.transform(all_data['temp'].array.reshape(-1,1))\n",
    "\n",
    "# transform the humidity with KBinsDiscretizer\n",
    "enc_hum = KBinsDiscretizer(n_bins=5, encode=\"ordinal\", strategy='kmeans')\n",
    "df_train['rhum_bin'] = enc_hum.fit_transform(df_train['rhum'].array.reshape(-1,1))\n",
    "df_test['rhum_bin'] = enc_hum.transform(df_test['rhum'].array.reshape(-1,1))\n",
    "all_data['rhum_bin'] = enc_hum.transform(all_data['rhum'].array.reshape(-1,1))"
   ]
  },
  {
   "cell_type": "markdown",
   "id": "e888fa10",
   "metadata": {},
   "source": [
    "## Rental's duration"
   ]
  },
  {
   "cell_type": "markdown",
   "metadata": {},
   "source": [
    "\n",
    "**Period of use**\n",
    "> \"5.1 Bikes should not be used for more than 19 consecutive hours, this is the maximum period of use.\" [General Terms and Conditions (“GTC”)](https://app.mobymove.com/t-c.html)\n",
    "\n",
    "\\* **Assumption**: Due to lack of information and data, to calculate the duration rental time I am assuming that when a new bike rental starts the duration in *minutes* will be calculated by: $$ ( RentalDuration = LastGPSTime - LastRentalStart ) $$"
   ]
  },
  {
   "cell_type": "code",
   "execution_count": 132,
   "id": "43147d66",
   "metadata": {},
   "outputs": [],
   "source": [
    "# time of rental in minutes (lastgpstime - rental-start)\n",
    "all_data['duration'] = (all_data['lastgpstime'] - all_data['lastrentalstart']) / pd.Timedelta(minutes=1)"
   ]
  },
  {
   "cell_type": "markdown",
   "id": "9e9c2331",
   "metadata": {},
   "source": [
    "A few GPS records have frozen and stopped sending the accurate data back, which would lead to a bias duration of rentals.\n",
    "\n",
    "To prevent any inaccurate information these records will be set as 0."
   ]
  },
  {
   "cell_type": "code",
   "execution_count": 133,
   "metadata": {},
   "outputs": [
    {
     "data": {
      "text/plain": [
       "484"
      ]
     },
     "execution_count": 133,
     "metadata": {},
     "output_type": "execute_result"
    }
   ],
   "source": [
    "all_data[all_data['duration'] < 0].shape[0]"
   ]
  },
  {
   "cell_type": "code",
   "execution_count": 134,
   "id": "be1ca524",
   "metadata": {},
   "outputs": [
    {
     "data": {
      "text/plain": [
       "0"
      ]
     },
     "execution_count": 134,
     "metadata": {},
     "output_type": "execute_result"
    }
   ],
   "source": [
    "all_data['duration'] = np.where(all_data['duration'] < 0, 0, all_data['duration'])\n",
    "all_data[all_data['duration'] < 0].shape[0]"
   ]
  },
  {
   "cell_type": "code",
   "execution_count": 140,
   "metadata": {},
   "outputs": [],
   "source": [
    "df_train.to_csv('../data/processed/df_train.csv', index=False)\n",
    "df_test.to_csv('../data/processed/df_test.csv', index=False)\n",
    "all_data.to_csv('../data/processed/rentals_data.csv', index=False)"
   ]
  },
  {
   "cell_type": "markdown",
   "metadata": {},
   "source": [
    "## Initial new features\n",
    "\n",
    "### Date/time\n",
    "- Holiday\n",
    "- Working Day (eg. weekend)\n",
    "- Season (eg. Summer)\n",
    "- Times of Day (eg. Morning)\n",
    "- Day of the week (eg. Monday)\n",
    "\n",
    "### Weather\n",
    "- Rainfall Intensity Level (eg. light rain)\n",
    "- Wind Speed (Beaufort Scale)\n",
    "- Wind Speed (grouped bft wind speed - helps high cardinality)\n",
    "- Temperature round (eg. 16.7&deg;C -> 17&deg;C)\n",
    "- Temperature Bins (clusters for different temperatures)\n",
    "- Humidity Bins (clusters for different relative humidity levels)"
   ]
  },
  {
   "cell_type": "markdown",
   "id": "70cf35db",
   "metadata": {},
   "source": [
    "<img title=\"GitHub Mark\" src=\"https://github.com/pessini/moby-bikes/blob/902858f47ba9afaf380abfc2be02a2b7f1f09174/notebooks/img/GitHub-Mark-64px.png?raw=true\" style=\"height: 32px; padding-right: 15px\" alt=\"GitHub Mark\" align=\"left\"> [GitHub repository](https://github.com/pessini/moby-bikes) <br>Author: Leandro Pessini"
   ]
  }
 ],
 "metadata": {
  "kernelspec": {
   "display_name": "Python 3.9.13 (conda)",
   "language": "python",
   "name": "python3"
  },
  "language_info": {
   "codemirror_mode": {
    "name": "ipython",
    "version": 3
   },
   "file_extension": ".py",
   "mimetype": "text/x-python",
   "name": "python",
   "nbconvert_exporter": "python",
   "pygments_lexer": "ipython3",
   "version": "3.9.13"
  },
  "orig_nbformat": 4,
  "vscode": {
   "interpreter": {
    "hash": "a5b231d7331932a9311fe46970a7b37ca6f95df0819aeac8f381cf77d08933bc"
   }
  }
 },
 "nbformat": 4,
 "nbformat_minor": 2
}
