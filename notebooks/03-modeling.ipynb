{
 "cells": [
  {
   "cell_type": "markdown",
   "metadata": {},
   "source": [
    "<img title=\"GitHub Octocat\" src='./img/Octocat.jpg' style='height: 60px; padding-right: 15px' alt=\"Octocat\" align=\"left\"> This notebook is part of a GitHub repository: https://github.com/pessini/moby-bikes \n",
    "<br>MIT Licensed\n",
    "<br>Author: Leandro Pessini"
   ]
  },
  {
   "cell_type": "markdown",
   "metadata": {},
   "source": [
    "# <p style=\"font-size:100%; text-align:left; color:#444444;\">Models</p>"
   ]
  },
  {
   "cell_type": "markdown",
   "metadata": {},
   "source": [
    "# <p style=\"font-size:100%; text-align:left; color:#444444;\">Table of Contents:</p>\n",
    "* [1. Datasets](#1)\n",
    "  * [1.1 Rentals Data - Moby Bikes](#1.1)\n",
    "  * [1.2 Weather Data - Met Éireann](#1.2)\n",
    "* [2. Preprocessing & Feature Engineering](#2)\n",
    "  * [2.1 Target variable distribution](#2.1)\n",
    "  * [2.2 Missing values](#2.2)\n",
    "  * [2.3 Exploratory Analysis](#2.3)\n",
    "  * [2.4 Features Importance](#2.4)"
   ]
  },
  {
   "cell_type": "code",
   "execution_count": 1,
   "metadata": {},
   "outputs": [],
   "source": [
    "import pandas as pd\n",
    "import matplotlib.pyplot as plt\n",
    "import seaborn as sns\n",
    "import numpy as np\n",
    "\n",
    "# Preprocessing\n",
    "from sklearn.model_selection import train_test_split\n",
    "from sklearn.preprocessing import StandardScaler, MinMaxScaler, OneHotEncoder, OrdinalEncoder\n",
    "from sklearn.compose import ColumnTransformer\n",
    "from sklearn.pipeline import Pipeline\n",
    "\n",
    "# Models & Evaluation\n",
    "from sklearn.model_selection import KFold\n",
    "from sklearn.model_selection import StratifiedKFold\n",
    "from sklearn.ensemble import RandomForestRegressor, GradientBoostingRegressor\n",
    "import xgboost as xgb\n",
    "from xgboost import XGBRegressor\n",
    "import lightgbm as lgb\n",
    "from lightgbm import LGBMRegressor\n",
    "import catboost as cat\n",
    "from catboost import CatBoostRegressor\n",
    "from sklearn import metrics\n",
    "\n",
    "# Hyperparameter optimization\n",
    "from sklearn.model_selection import GridSearchCV, RandomizedSearchCV\n",
    "\n",
    "import time\n",
    "import warnings\n",
    "warnings.simplefilter('ignore', FutureWarning)"
   ]
  },
  {
   "cell_type": "code",
   "execution_count": 2,
   "metadata": {},
   "outputs": [
    {
     "name": "stdout",
     "output_type": "stream",
     "text": [
      "Python version: 3.9.6\n"
     ]
    }
   ],
   "source": [
    "from platform import python_version\n",
    "print('Python version:', python_version())"
   ]
  },
  {
   "cell_type": "code",
   "execution_count": 3,
   "metadata": {},
   "outputs": [
    {
     "name": "stdout",
     "output_type": "stream",
     "text": [
      "Author: Leandro Pessini\n",
      "\n",
      "seaborn   : 0.11.1\n",
      "matplotlib: 3.4.2\n",
      "catboost  : 0.26.1\n",
      "sys       : 3.9.6 | packaged by conda-forge | (default, Jul 11 2021, 03:36:15) \n",
      "[Clang 11.1.0 ]\n",
      "lightgbm  : 3.2.1\n",
      "pandas    : 1.3.0\n",
      "numpy     : 1.21.1\n",
      "sklearn   : 0.24.2\n",
      "xgboost   : 1.4.0\n",
      "\n"
     ]
    }
   ],
   "source": [
    "%reload_ext watermark\n",
    "%watermark -a \"Leandro Pessini\" --iversions"
   ]
  },
  {
   "cell_type": "markdown",
   "metadata": {},
   "source": [
    "## Splitting dataset in train and test"
   ]
  },
  {
   "cell_type": "code",
   "execution_count": 4,
   "metadata": {},
   "outputs": [
    {
     "data": {
      "text/plain": [
       "(6966, 17)"
      ]
     },
     "execution_count": 4,
     "metadata": {},
     "output_type": "execute_result"
    }
   ],
   "source": [
    "hourly_data = pd.read_csv('../data/processed/hourly_data.csv')\n",
    "hourly_data.shape"
   ]
  },
  {
   "cell_type": "code",
   "execution_count": 5,
   "metadata": {},
   "outputs": [
    {
     "data": {
      "text/plain": [
       "((4876, 10), (2090, 10))"
      ]
     },
     "execution_count": 5,
     "metadata": {},
     "output_type": "execute_result"
    }
   ],
   "source": [
    "df = hourly_data.copy()\n",
    "df = df.astype({'holiday': 'category', \n",
    "                'dayofweek': 'category', \n",
    "                'working_day': 'category',\n",
    "                'rental_hour': 'category',\n",
    "                'season': 'category',\n",
    "                'peak': 'category',\n",
    "                'timesofday': 'category'})\n",
    "predictors = ['temp','wdsp','rhum','rain_type','holiday','season','dayofweek','working_day','peak','timesofday']\n",
    "\n",
    "\n",
    "X = df[[c for c in df.columns if c in predictors]]\n",
    "y = df.pop('count')\n",
    "X_train, X_test, y_train, y_test = train_test_split(X, y, test_size=0.3, random_state=42)\n",
    "X_train.shape, X_test.shape"
   ]
  },
  {
   "cell_type": "markdown",
   "metadata": {},
   "source": [
    "## Split columns in categorical and numerical"
   ]
  },
  {
   "cell_type": "code",
   "execution_count": 6,
   "metadata": {},
   "outputs": [
    {
     "data": {
      "text/plain": [
       "(['temp', 'rhum', 'wdsp'],\n",
       " ['holiday', 'dayofweek', 'working_day', 'season', 'peak', 'timesofday'],\n",
       " ['rain_type'])"
      ]
     },
     "execution_count": 6,
     "metadata": {},
     "output_type": "execute_result"
    }
   ],
   "source": [
    "num_vars = [n for n in df.select_dtypes(include=['number']).columns if n in predictors]\n",
    "cat_vars = [c for c in df.select_dtypes(include=['category']).columns if c in predictors]\n",
    "# nu\n",
    "ord_var = ['rain_type']\n",
    "num_vars, cat_vars, ord_var"
   ]
  },
  {
   "cell_type": "markdown",
   "metadata": {},
   "source": [
    "## Preprocessing Pipelines"
   ]
  },
  {
   "cell_type": "code",
   "execution_count": 7,
   "metadata": {},
   "outputs": [],
   "source": [
    "# Define categorical pipeline\n",
    "cat_pipe = Pipeline([\n",
    "    #('imputer', SimpleImputer(strategy='constant', fill_value='missing')),\n",
    "    ('encoder', OneHotEncoder(handle_unknown='ignore', sparse=False))\n",
    "])\n",
    "\n",
    "# Define numerical pipeline\n",
    "num_pipe = Pipeline([\n",
    "    #('imputer', SimpleImputer(strategy='median')),\n",
    "    # ('scaler', StandardScaler())\n",
    "    ('scaler', MinMaxScaler())\n",
    "])\n",
    "\n",
    "ord_pipe = Pipeline([\n",
    "    ('ordinal_enconder', OrdinalEncoder(dtype=np.int64, categories=[['no rain', \n",
    "                                                                     'drizzle', \n",
    "                                                                     'light rain', \n",
    "                                                                     'moderate rain', \n",
    "                                                                     'heavy rain']]))\n",
    "])\n",
    "\n",
    "# Combine categorical and numerical pipelines\n",
    "preprocessor = ColumnTransformer([\n",
    "    ('cat', cat_pipe, cat_vars),\n",
    "    ('ordinal_enconder', ord_pipe, ord_var),\n",
    "    ('num', num_pipe, num_vars)\n",
    "], remainder='passthrough')"
   ]
  },
  {
   "cell_type": "markdown",
   "metadata": {},
   "source": [
    "## Feature Importance"
   ]
  },
  {
   "cell_type": "code",
   "execution_count": 8,
   "metadata": {},
   "outputs": [
    {
     "data": {
      "text/plain": [
       "Pipeline(steps=[('preprocessor',\n",
       "                 ColumnTransformer(remainder='passthrough',\n",
       "                                   transformers=[('cat',\n",
       "                                                  Pipeline(steps=[('encoder',\n",
       "                                                                   OneHotEncoder(handle_unknown='ignore',\n",
       "                                                                                 sparse=False))]),\n",
       "                                                  ['holiday', 'dayofweek',\n",
       "                                                   'working_day', 'season',\n",
       "                                                   'peak', 'timesofday']),\n",
       "                                                 ('ordinal_enconder',\n",
       "                                                  Pipeline(steps=[('ordinal_enconder',\n",
       "                                                                   OrdinalEncoder(categories=[['no '\n",
       "                                                                                               'rain',\n",
       "                                                                                               'drizzle',\n",
       "                                                                                               'light '\n",
       "                                                                                               'rain',\n",
       "                                                                                               'moderate '\n",
       "                                                                                               'rain',\n",
       "                                                                                               'heavy '\n",
       "                                                                                               'rain']],\n",
       "                                                                                  dtype=<class 'numpy.int64'>))]),\n",
       "                                                  ['rain_type']),\n",
       "                                                 ('num',\n",
       "                                                  Pipeline(steps=[('scaler',\n",
       "                                                                   MinMaxScaler())]),\n",
       "                                                  ['temp', 'rhum', 'wdsp'])])),\n",
       "                ('model',\n",
       "                 LGBMRegressor(boosting_type='dart', importance_type='gain',\n",
       "                               learning_rate=0.01, max_depth=5,\n",
       "                               n_estimators=1500, subsample=0.7))])"
      ]
     },
     "execution_count": 8,
     "metadata": {},
     "output_type": "execute_result"
    }
   ],
   "source": [
    "# LightGBM model\n",
    "params_lightgbm = {'n_estimators': 1500, \n",
    "                   'boosting_type': 'dart', \n",
    "                   'max_depth': 5, \n",
    "                   'learning_rate': 0.01, \n",
    "                   'subsample': 0.7, \n",
    "                   'importance_type': 'gain'\n",
    "                   }\n",
    "\n",
    "# Fit a pipeline with transformers and an estimator to the training data\n",
    "pipe_gbm = Pipeline([\n",
    "    ('preprocessor', preprocessor),\n",
    "    ('model', LGBMRegressor(**params_lightgbm))\n",
    "])\n",
    "pipe_gbm.fit(X_train, y_train)"
   ]
  },
  {
   "cell_type": "code",
   "execution_count": 9,
   "metadata": {},
   "outputs": [
    {
     "data": {
      "image/png": "[encoded data removed]",
      "text/plain": [
       "<Figure size 1080x864 with 1 Axes>"
      ]
     },
     "metadata": {
      "needs_background": "light"
     },
     "output_type": "display_data"
    }
   ],
   "source": [
    "#Plotting features importance\n",
    "feature_imp = pd.DataFrame(sorted(zip(pipe_gbm['model'].feature_importances_,X_train.columns)), columns=['Value','Feature'])\n",
    "scaler_ft = MinMaxScaler()\n",
    "feature_imp['Value'] = scaler_ft.fit_transform(feature_imp['Value'].values.reshape(-1,1))\n",
    "\n",
    "fig = plt.figure(figsize=(15, 12))\n",
    "sns.barplot(x=\"Value\", y=\"Feature\", data=feature_imp.sort_values(by=\"Value\", ascending=False))\n",
    "plt.title('LightGBM Features Importance')\n",
    "locs, labels = plt.xticks()\n",
    "plt.tick_params(axis='both', which='major', labelsize=12)\n",
    "\n",
    "plt.show()"
   ]
  },
  {
   "cell_type": "code",
   "execution_count": 16,
   "metadata": {},
   "outputs": [],
   "source": [
    "def print_evalmetrics(actual, predicted):\n",
    "    print('RMSE:', metrics.mean_squared_error(actual, predicted, squared=False))\n",
    "    print('MAE:', metrics.mean_absolute_error(actual, predicted))\n",
    "    "
   ]
  },
  {
   "cell_type": "markdown",
   "metadata": {},
   "source": [
    "## Random Forest Regressor"
   ]
  },
  {
   "cell_type": "code",
   "execution_count": 17,
   "metadata": {},
   "outputs": [
    {
     "name": "stdout",
     "output_type": "stream",
     "text": [
      "RMSE: 2.889013663037282\n",
      "MAE: 2.1950821461313854\n"
     ]
    }
   ],
   "source": [
    "# random forest model\n",
    "params_rf = {'n_estimators': 1000, \n",
    "             'max_depth': 20, \n",
    "             'random_state': 0, \n",
    "             'min_samples_split' : 5, \n",
    "             'n_jobs': -1}\n",
    "\n",
    "# Fit a pipeline with transformers and an estimator to the training data\n",
    "pipe_rf = Pipeline([\n",
    "    ('preprocessor', preprocessor),\n",
    "    ('model', RandomForestRegressor(**params_rf))\n",
    "])\n",
    "pipe_rf.fit(X_train, y_train)\n",
    "y_train_pred = pipe_rf.predict(X_train)\n",
    "y_test_pred = pipe_rf.predict(X_test)\n",
    "\n",
    "print_evalmetrics(y_test, y_test_pred)"
   ]
  },
  {
   "cell_type": "markdown",
   "metadata": {},
   "source": [
    "## Support Vector Regression"
   ]
  },
  {
   "cell_type": "code",
   "execution_count": 18,
   "metadata": {},
   "outputs": [
    {
     "name": "stdout",
     "output_type": "stream",
     "text": [
      "RMSE: 2.9852805928918777\n",
      "MAE: 2.209594506087855\n"
     ]
    }
   ],
   "source": [
    "from sklearn.svm import SVR\n",
    "\n",
    "# Fit a pipeline with transformers and an estimator to the training data\n",
    "pipe_svr = Pipeline([\n",
    "    ('preprocessor', preprocessor),\n",
    "    ('model', SVR(kernel='poly',gamma='scale',C=100))\n",
    "])\n",
    "pipe_svr.fit(X_train, y_train)\n",
    "y_train_pred = pipe_svr.predict(X_train)\n",
    "y_test_pred = pipe_svr.predict(X_test)\n",
    "\n",
    "print_evalmetrics(y_test, y_test_pred)"
   ]
  },
  {
   "cell_type": "code",
   "execution_count": 19,
   "metadata": {},
   "outputs": [
    {
     "name": "stdout",
     "output_type": "stream",
     "text": [
      "MAE: 2.199 (0.090)\n",
      "RMSE: 2.9852805928918777\n",
      "MAE: 2.209594506087855\n"
     ]
    }
   ],
   "source": [
    "from numpy import mean\n",
    "from numpy import std\n",
    "from numpy import absolute\n",
    "from sklearn.model_selection import cross_val_score\n",
    "from sklearn.model_selection import KFold\n",
    "\n",
    "# define the model cross-validation configuration\n",
    "cv = KFold(n_splits=10, shuffle=True, random_state=1)\n",
    "# evaluate the pipeline using cross validation and calculate MAE\n",
    "scores = cross_val_score(pipe_svr, X_train, y_train, scoring='neg_mean_absolute_error', cv=cv, n_jobs=-1)\n",
    "# convert MAE scores to positive values\n",
    "scores = absolute(scores)\n",
    "# summarize the model performance\n",
    "print('MAE: %.3f (%.3f)' % (mean(scores), std(scores)))\n",
    "y_test_pred = pipe_svr.predict(X_test)\n",
    "print_evalmetrics(y_test, y_test_pred)"
   ]
  },
  {
   "cell_type": "code",
   "execution_count": 20,
   "metadata": {},
   "outputs": [
    {
     "data": {
      "text/html": [
       "<div>\n",
       "<style scoped>\n",
       "    .dataframe tbody tr th:only-of-type {\n",
       "        vertical-align: middle;\n",
       "    }\n",
       "\n",
       "    .dataframe tbody tr th {\n",
       "        vertical-align: top;\n",
       "    }\n",
       "\n",
       "    .dataframe thead th {\n",
       "        text-align: right;\n",
       "    }\n",
       "</style>\n",
       "<table border=\"1\" class=\"dataframe\">\n",
       "  <thead>\n",
       "    <tr style=\"text-align: right;\">\n",
       "      <th></th>\n",
       "      <th>real</th>\n",
       "      <th>predicted</th>\n",
       "    </tr>\n",
       "  </thead>\n",
       "  <tbody>\n",
       "    <tr>\n",
       "      <th>3487</th>\n",
       "      <td>9</td>\n",
       "      <td>8.027402</td>\n",
       "    </tr>\n",
       "    <tr>\n",
       "      <th>2977</th>\n",
       "      <td>2</td>\n",
       "      <td>2.063730</td>\n",
       "    </tr>\n",
       "    <tr>\n",
       "      <th>5003</th>\n",
       "      <td>3</td>\n",
       "      <td>6.480979</td>\n",
       "    </tr>\n",
       "    <tr>\n",
       "      <th>37</th>\n",
       "      <td>3</td>\n",
       "      <td>3.811070</td>\n",
       "    </tr>\n",
       "    <tr>\n",
       "      <th>4305</th>\n",
       "      <td>12</td>\n",
       "      <td>6.252290</td>\n",
       "    </tr>\n",
       "    <tr>\n",
       "      <th>...</th>\n",
       "      <td>...</td>\n",
       "      <td>...</td>\n",
       "    </tr>\n",
       "    <tr>\n",
       "      <th>978</th>\n",
       "      <td>19</td>\n",
       "      <td>9.411525</td>\n",
       "    </tr>\n",
       "    <tr>\n",
       "      <th>6175</th>\n",
       "      <td>8</td>\n",
       "      <td>4.596759</td>\n",
       "    </tr>\n",
       "    <tr>\n",
       "      <th>4938</th>\n",
       "      <td>1</td>\n",
       "      <td>2.505832</td>\n",
       "    </tr>\n",
       "    <tr>\n",
       "      <th>2521</th>\n",
       "      <td>1</td>\n",
       "      <td>1.823701</td>\n",
       "    </tr>\n",
       "    <tr>\n",
       "      <th>848</th>\n",
       "      <td>18</td>\n",
       "      <td>9.791317</td>\n",
       "    </tr>\n",
       "  </tbody>\n",
       "</table>\n",
       "<p>2090 rows × 2 columns</p>\n",
       "</div>"
      ],
      "text/plain": [
       "      real  predicted\n",
       "3487     9   8.027402\n",
       "2977     2   2.063730\n",
       "5003     3   6.480979\n",
       "37       3   3.811070\n",
       "4305    12   6.252290\n",
       "...    ...        ...\n",
       "978     19   9.411525\n",
       "6175     8   4.596759\n",
       "4938     1   2.505832\n",
       "2521     1   1.823701\n",
       "848     18   9.791317\n",
       "\n",
       "[2090 rows x 2 columns]"
      ]
     },
     "execution_count": 20,
     "metadata": {},
     "output_type": "execute_result"
    }
   ],
   "source": [
    "predicted_values = pd.DataFrame()\n",
    "predicted_values['real'] = y_test\n",
    "predicted_values['predicted'] = y_test_pred\n",
    "\n",
    "predicted_values"
   ]
  },
  {
   "cell_type": "markdown",
   "metadata": {},
   "source": [
    "## GradientBoost"
   ]
  },
  {
   "cell_type": "code",
   "execution_count": 21,
   "metadata": {},
   "outputs": [
    {
     "name": "stdout",
     "output_type": "stream",
     "text": [
      "RMSE: 2.9230160492583934\n",
      "MAE: 2.2422790246359607\n"
     ]
    }
   ],
   "source": [
    "# GBM model\n",
    "params_gbm = {'n_estimators': 150, \n",
    "              'max_depth': 5, \n",
    "              'random_state': 0, \n",
    "              'min_samples_leaf' : 10, \n",
    "              'learning_rate': 0.01, \n",
    "              'subsample': 0.7, \n",
    "              'loss': 'ls'}\n",
    "\n",
    "# Fit a pipeline with transformers and an estimator to the training data\n",
    "pipe_gbm = Pipeline([\n",
    "    ('preprocessor', preprocessor),\n",
    "    ('model', GradientBoostingRegressor(**params_gbm))\n",
    "])\n",
    "pipe_gbm.fit(X_train, y_train)\n",
    "y_train_pred = pipe_gbm.predict(X_train)\n",
    "y_test_pred = pipe_gbm.predict(X_test)\n",
    "\n",
    "print_evalmetrics(y_test, y_test_pred)"
   ]
  },
  {
   "cell_type": "markdown",
   "metadata": {},
   "source": [
    "## LightGBM"
   ]
  },
  {
   "cell_type": "code",
   "execution_count": 22,
   "metadata": {},
   "outputs": [
    {
     "name": "stdout",
     "output_type": "stream",
     "text": [
      "RMSE: 2.8752286870625605\n",
      "MAE: 2.1750779265799114\n"
     ]
    }
   ],
   "source": [
    "# LightGBM model\n",
    "params_lightgbm = {'n_estimators': 1000, \n",
    "                   'max_depth': 15, \n",
    "                   'random_state': 0, \n",
    "                   'learning_rate': 0.01, \n",
    "                   'subsample': 0.7,\n",
    "                   'num_leaves': 30,\n",
    "                   'metric': 'rmse',\n",
    "                   'n_jobs': 2\n",
    "                   }\n",
    "\n",
    "# Fit a pipeline with transformers and an estimator to the training data\n",
    "pipe_gbm = Pipeline([\n",
    "    ('preprocessor', preprocessor),\n",
    "    ('model', LGBMRegressor(**params_lightgbm))\n",
    "])\n",
    "pipe_gbm.fit(X_train, y_train)\n",
    "y_train_pred = pipe_gbm.predict(X_train)\n",
    "y_test_pred = pipe_gbm.predict(X_test)\n",
    "\n",
    "print_evalmetrics(y_test, y_test_pred)"
   ]
  },
  {
   "cell_type": "code",
   "execution_count": 23,
   "metadata": {},
   "outputs": [
    {
     "name": "stdout",
     "output_type": "stream",
     "text": [
      "######################################## Fold 1 out of 3 ########################################\n",
      "######################################## Fold 2 out of 3 ########################################\n",
      "######################################## Fold 3 out of 3 ########################################\n",
      "CPU times: user 4.72 ms, sys: 1.97 ms, total: 6.69 ms\n",
      "Wall time: 2.87 ms\n"
     ]
    }
   ],
   "source": [
    "%%time\n",
    "\n",
    "cv = KFold(n_splits=3, shuffle=True, random_state=2022)\n",
    "\n",
    "for n_fold, (train_index, test_index) in enumerate(cv.split(X_train, y_train)):\n",
    "    print('#'*40, f'Fold {n_fold+1} out of {cv.n_splits}', '#'*40)\n",
    "    \n",
    "    # X_train, y_train = X[train_index], y[train_index] # Train data\n",
    "    # X_val, y_val = X[test_index], y[test_index] # Valid data\n",
    "    \n",
    "    # pipe_gbm.fit(X_train, y_train, eval_set=[(X_train, y_train), (X_val, y_val)],\n",
    "    #           verbose=250, early_stopping_rounds=50)\n",
    "    \n",
    "    # preds_lgb[test_index] += pipe_gbm.predict(X_val, raw_score=False)"
   ]
  },
  {
   "cell_type": "markdown",
   "metadata": {},
   "source": [
    "## Catboost"
   ]
  },
  {
   "cell_type": "code",
   "execution_count": 24,
   "metadata": {},
   "outputs": [
    {
     "name": "stdout",
     "output_type": "stream",
     "text": [
      "Learning rate set to 0.297767\n",
      "0:\tlearn: 3.1840655\ttotal: 55.6ms\tremaining: 5.5s\n",
      "1:\tlearn: 3.0386218\ttotal: 57.8ms\tremaining: 2.83s\n",
      "2:\tlearn: 2.9451812\ttotal: 59.6ms\tremaining: 1.93s\n",
      "3:\tlearn: 2.8912967\ttotal: 61.1ms\tremaining: 1.47s\n",
      "4:\tlearn: 2.8517514\ttotal: 62.8ms\tremaining: 1.19s\n",
      "5:\tlearn: 2.8298851\ttotal: 65.1ms\tremaining: 1.02s\n",
      "6:\tlearn: 2.8142532\ttotal: 66.6ms\tremaining: 885ms\n",
      "7:\tlearn: 2.8035112\ttotal: 67.9ms\tremaining: 780ms\n",
      "8:\tlearn: 2.7893777\ttotal: 69.8ms\tremaining: 706ms\n",
      "9:\tlearn: 2.7793202\ttotal: 71.8ms\tremaining: 646ms\n",
      "10:\tlearn: 2.7673413\ttotal: 73.6ms\tremaining: 595ms\n",
      "11:\tlearn: 2.7612687\ttotal: 75.4ms\tremaining: 553ms\n",
      "12:\tlearn: 2.7514520\ttotal: 76.8ms\tremaining: 514ms\n",
      "13:\tlearn: 2.7445974\ttotal: 78.2ms\tremaining: 480ms\n",
      "14:\tlearn: 2.7344935\ttotal: 79.7ms\tremaining: 452ms\n",
      "15:\tlearn: 2.7280243\ttotal: 81ms\tremaining: 426ms\n",
      "16:\tlearn: 2.7245192\ttotal: 82.3ms\tremaining: 402ms\n",
      "17:\tlearn: 2.7140733\ttotal: 83.6ms\tremaining: 381ms\n",
      "18:\tlearn: 2.7064118\ttotal: 85.2ms\tremaining: 363ms\n",
      "19:\tlearn: 2.6970011\ttotal: 86.9ms\tremaining: 348ms\n",
      "20:\tlearn: 2.6888006\ttotal: 88.2ms\tremaining: 332ms\n",
      "21:\tlearn: 2.6852952\ttotal: 89.4ms\tremaining: 317ms\n",
      "22:\tlearn: 2.6789418\ttotal: 90.6ms\tremaining: 303ms\n",
      "23:\tlearn: 2.6728623\ttotal: 92.1ms\tremaining: 292ms\n",
      "24:\tlearn: 2.6706081\ttotal: 93.8ms\tremaining: 281ms\n",
      "25:\tlearn: 2.6657907\ttotal: 95.2ms\tremaining: 271ms\n",
      "26:\tlearn: 2.6627036\ttotal: 96.6ms\tremaining: 261ms\n",
      "27:\tlearn: 2.6585467\ttotal: 98.2ms\tremaining: 253ms\n",
      "28:\tlearn: 2.6558710\ttotal: 99.5ms\tremaining: 244ms\n",
      "29:\tlearn: 2.6444119\ttotal: 101ms\tremaining: 235ms\n",
      "30:\tlearn: 2.6407392\ttotal: 102ms\tremaining: 227ms\n",
      "31:\tlearn: 2.6335697\ttotal: 103ms\tremaining: 219ms\n",
      "32:\tlearn: 2.6281117\ttotal: 104ms\tremaining: 212ms\n",
      "33:\tlearn: 2.6261619\ttotal: 106ms\tremaining: 205ms\n",
      "34:\tlearn: 2.6244391\ttotal: 107ms\tremaining: 198ms\n",
      "35:\tlearn: 2.6197747\ttotal: 108ms\tremaining: 192ms\n",
      "36:\tlearn: 2.6101612\ttotal: 110ms\tremaining: 187ms\n",
      "37:\tlearn: 2.6074347\ttotal: 111ms\tremaining: 181ms\n",
      "38:\tlearn: 2.6063099\ttotal: 112ms\tremaining: 176ms\n",
      "39:\tlearn: 2.6044694\ttotal: 114ms\tremaining: 171ms\n",
      "40:\tlearn: 2.5998376\ttotal: 115ms\tremaining: 166ms\n",
      "41:\tlearn: 2.5944285\ttotal: 117ms\tremaining: 161ms\n",
      "42:\tlearn: 2.5903343\ttotal: 118ms\tremaining: 157ms\n",
      "43:\tlearn: 2.5874578\ttotal: 119ms\tremaining: 152ms\n",
      "44:\tlearn: 2.5773077\ttotal: 121ms\tremaining: 147ms\n",
      "45:\tlearn: 2.5742301\ttotal: 122ms\tremaining: 143ms\n",
      "46:\tlearn: 2.5634173\ttotal: 123ms\tremaining: 139ms\n",
      "47:\tlearn: 2.5587752\ttotal: 125ms\tremaining: 135ms\n",
      "48:\tlearn: 2.5531470\ttotal: 126ms\tremaining: 131ms\n",
      "49:\tlearn: 2.5499430\ttotal: 129ms\tremaining: 129ms\n",
      "50:\tlearn: 2.5462097\ttotal: 130ms\tremaining: 125ms\n",
      "51:\tlearn: 2.5404005\ttotal: 132ms\tremaining: 122ms\n",
      "52:\tlearn: 2.5389784\ttotal: 134ms\tremaining: 119ms\n",
      "53:\tlearn: 2.5379965\ttotal: 135ms\tremaining: 115ms\n",
      "54:\tlearn: 2.5319760\ttotal: 136ms\tremaining: 111ms\n",
      "55:\tlearn: 2.5287836\ttotal: 138ms\tremaining: 108ms\n",
      "56:\tlearn: 2.5247347\ttotal: 139ms\tremaining: 105ms\n",
      "57:\tlearn: 2.5206395\ttotal: 141ms\tremaining: 102ms\n",
      "58:\tlearn: 2.5137703\ttotal: 143ms\tremaining: 99.2ms\n",
      "59:\tlearn: 2.5103605\ttotal: 144ms\tremaining: 96ms\n",
      "60:\tlearn: 2.5038528\ttotal: 146ms\tremaining: 93.2ms\n",
      "61:\tlearn: 2.5028714\ttotal: 147ms\tremaining: 90.3ms\n",
      "62:\tlearn: 2.5006047\ttotal: 149ms\tremaining: 87.4ms\n",
      "63:\tlearn: 2.4970483\ttotal: 151ms\tremaining: 84.7ms\n",
      "64:\tlearn: 2.4905070\ttotal: 152ms\tremaining: 82.1ms\n",
      "65:\tlearn: 2.4859833\ttotal: 154ms\tremaining: 79.3ms\n",
      "66:\tlearn: 2.4823438\ttotal: 155ms\tremaining: 76.5ms\n",
      "67:\tlearn: 2.4798838\ttotal: 156ms\tremaining: 73.6ms\n",
      "68:\tlearn: 2.4740571\ttotal: 158ms\tremaining: 70.9ms\n",
      "69:\tlearn: 2.4720752\ttotal: 159ms\tremaining: 68.3ms\n",
      "70:\tlearn: 2.4677837\ttotal: 161ms\tremaining: 65.8ms\n",
      "71:\tlearn: 2.4669498\ttotal: 163ms\tremaining: 63.3ms\n",
      "72:\tlearn: 2.4639278\ttotal: 164ms\tremaining: 60.7ms\n",
      "73:\tlearn: 2.4620170\ttotal: 166ms\tremaining: 58.2ms\n",
      "74:\tlearn: 2.4554857\ttotal: 167ms\tremaining: 55.7ms\n",
      "75:\tlearn: 2.4543771\ttotal: 168ms\tremaining: 53.2ms\n",
      "76:\tlearn: 2.4502467\ttotal: 170ms\tremaining: 50.7ms\n",
      "77:\tlearn: 2.4461933\ttotal: 172ms\tremaining: 48.4ms\n",
      "78:\tlearn: 2.4444779\ttotal: 173ms\tremaining: 46ms\n",
      "79:\tlearn: 2.4427675\ttotal: 175ms\tremaining: 43.8ms\n",
      "80:\tlearn: 2.4382329\ttotal: 177ms\tremaining: 41.5ms\n",
      "81:\tlearn: 2.4338461\ttotal: 178ms\tremaining: 39.2ms\n",
      "82:\tlearn: 2.4286902\ttotal: 180ms\tremaining: 36.8ms\n",
      "83:\tlearn: 2.4256882\ttotal: 181ms\tremaining: 34.6ms\n",
      "84:\tlearn: 2.4241566\ttotal: 184ms\tremaining: 32.4ms\n",
      "85:\tlearn: 2.4212915\ttotal: 185ms\tremaining: 30.2ms\n",
      "86:\tlearn: 2.4172984\ttotal: 187ms\tremaining: 27.9ms\n",
      "87:\tlearn: 2.4157576\ttotal: 188ms\tremaining: 25.7ms\n",
      "88:\tlearn: 2.4120559\ttotal: 190ms\tremaining: 23.5ms\n",
      "89:\tlearn: 2.4095019\ttotal: 192ms\tremaining: 21.3ms\n",
      "90:\tlearn: 2.4078769\ttotal: 193ms\tremaining: 19.1ms\n",
      "91:\tlearn: 2.4032398\ttotal: 194ms\tremaining: 16.9ms\n",
      "92:\tlearn: 2.3991487\ttotal: 195ms\tremaining: 14.7ms\n",
      "93:\tlearn: 2.3958939\ttotal: 197ms\tremaining: 12.6ms\n",
      "94:\tlearn: 2.3905950\ttotal: 198ms\tremaining: 10.4ms\n",
      "95:\tlearn: 2.3903397\ttotal: 200ms\tremaining: 8.32ms\n",
      "96:\tlearn: 2.3899603\ttotal: 201ms\tremaining: 6.22ms\n",
      "97:\tlearn: 2.3875002\ttotal: 203ms\tremaining: 4.15ms\n",
      "98:\tlearn: 2.3832560\ttotal: 205ms\tremaining: 2.07ms\n",
      "99:\tlearn: 2.3807129\ttotal: 206ms\tremaining: 0us\n",
      "\n",
      "\n",
      "RMSE: 2.8484205229591106\n",
      "MAE: 2.1585130326684077\n"
     ]
    }
   ],
   "source": [
    "# Catboost model\n",
    "\n",
    "# Fit a pipeline with transformers and an estimator to the training data\n",
    "pipe_catboost = Pipeline([\n",
    "    ('preprocessor', preprocessor),\n",
    "    ('model', CatBoostRegressor(verbose=1, n_estimators=100))\n",
    "])\n",
    "pipe_catboost.fit(X_train, y_train)\n",
    "y_train_pred = pipe_catboost.predict(X_train)\n",
    "y_test_pred = pipe_catboost.predict(X_test)\n",
    "\n",
    "print('\\n')\n",
    "print_evalmetrics(y_test, y_test_pred)"
   ]
  },
  {
   "cell_type": "markdown",
   "metadata": {},
   "source": [
    "<img title=\"GitHub Mark\" src=\"./img/GitHub-Mark-64px.png\" style=\"height: 32px; padding-right: 15px\" alt=\"GitHub Mark\" align=\"left\"> [GitHub repository](https://github.com/pessini/moby-bikes) <br>Author: Leandro Pessini"
   ]
  }
 ],
 "metadata": {
  "interpreter": {
   "hash": "5c82cf216bcd6695c751af4e033b89e10a78cc5d50e2943f0ed5dd08b475eddb"
  },
  "kernelspec": {
   "display_name": "Python 3 (ipykernel)",
   "language": "python",
   "name": "python3"
  },
  "language_info": {
   "codemirror_mode": {
    "name": "ipython",
    "version": 3
   },
   "file_extension": ".py",
   "mimetype": "text/x-python",
   "name": "python",
   "nbconvert_exporter": "python",
   "pygments_lexer": "ipython3",
   "version": "3.9.6"
  }
 },
 "nbformat": 4,
 "nbformat_minor": 2
}
