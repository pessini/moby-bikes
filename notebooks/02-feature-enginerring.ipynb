{
 "cells": [
  {
   "cell_type": "markdown",
   "id": "32be05c6",
   "metadata": {},
   "source": [
    "<img title=\"GitHub Octocat\" src='./img/Octocat.jpg' style='height: 60px; padding-right: 15px' alt=\"Octocat\" align=\"left\" height=\"60\"> This notebook is part of a GitHub repository: https://github.com/pessini/moby-bikes\n",
    "<br>MIT Licensed\n",
    "<br>Author: Leandro Pessini"
   ]
  },
  {
   "cell_type": "markdown",
   "id": "7aa0075e",
   "metadata": {},
   "source": [
    "# Feature Engineering"
   ]
  },
  {
   "cell_type": "markdown",
   "id": "3f3c83d5",
   "metadata": {},
   "source": [
    "## Hypothesis\n",
    "\n",
    "Hourly trend: It might be a high demand for people commuting to work. Early morning and late evening can have different trend (cyclist) and low demand during 10:00 pm to 4:00 am.\n",
    "\n",
    "Daily Trend: Users demand more bike on weekdays as compared to weekend or holiday.\n",
    "\n",
    "Rain: The demand of bikes will be lower on a rainy day as compared to a sunny day. Similarly, higher humidity will cause to lower the demand and vice versa.\n",
    "\n",
    "Temperature: In Ireland, temperature has positive correlation with bike demand.\n",
    "\n",
    "Traffic: It can be positively correlated with Bike demand. Higher traffic may force people to use bike as compared to other road transport medium like car, taxi etc.\n",
    "\n"
   ]
  },
  {
   "cell_type": "markdown",
   "id": "28849bd5",
   "metadata": {},
   "source": [
    "### New Features\n",
    "- date (yyyy-mm-dd)\n",
    "- month\n",
    "- hour\n",
    "- workingday\n",
    "- peak\n",
    "- holiday\n",
    "- season\n",
    "- battery_start\n",
    "- battery_end\n",
    "- path? (multi polygon)\n",
    "- rental_duration\n",
    "\n",
    "\n",
    "The number of rentals each hour will be aggregate later with a new feature `count`."
   ]
  },
  {
   "cell_type": "code",
   "execution_count": null,
   "id": "239df5cc",
   "metadata": {},
   "outputs": [],
   "source": [
    "rentals_data = historical_data.drop(['harvesttime','ebikestateid'], axis=1).copy()\n",
    "rentals_data[[\"lastgpstime\", \"lastrentalstart\"]] = rentals_data[[\"lastgpstime\", \"lastrentalstart\"]].apply(pd.to_datetime)\n",
    "\n",
    "rentals_data = rentals_data.astype({'battery': np.int16}, errors='ignore') # errors ignore to keep missing values (not throwing error)"
   ]
  },
  {
   "cell_type": "code",
   "execution_count": null,
   "id": "5bdae135",
   "metadata": {},
   "outputs": [
    {
     "name": "stdout",
     "output_type": "stream",
     "text": [
      "<class 'pandas.core.frame.DataFrame'>\n",
      "RangeIndex: 1667841 entries, 0 to 1667840\n",
      "Data columns (total 13 columns):\n",
      " #   Column           Non-Null Count    Dtype         \n",
      "---  ------           --------------    -----         \n",
      " 0   bikeid           1667841 non-null  int64         \n",
      " 1   battery          1625500 non-null  float64       \n",
      " 2   bikeidentifier   1667841 non-null  int64         \n",
      " 3   biketypename     1667841 non-null  object        \n",
      " 4   ebikeprofileid   1667841 non-null  int64         \n",
      " 5   isebike          1667841 non-null  bool          \n",
      " 6   ismotor          1667841 non-null  bool          \n",
      " 7   issmartlock      1667841 non-null  bool          \n",
      " 8   lastgpstime      1667841 non-null  datetime64[ns]\n",
      " 9   lastrentalstart  1667841 non-null  datetime64[ns]\n",
      " 10  latitude         1667841 non-null  float64       \n",
      " 11  longitude        1667841 non-null  float64       \n",
      " 12  spikeid          1667841 non-null  int64         \n",
      "dtypes: bool(3), datetime64[ns](2), float64(3), int64(4), object(1)\n",
      "memory usage: 132.0+ MB\n"
     ]
    }
   ],
   "source": [
    "rentals_data.info()"
   ]
  },
  {
   "cell_type": "markdown",
   "id": "5e61f82f",
   "metadata": {},
   "source": [
    "### Date and time - new features\n",
    "- `rental_date`\n",
    "- `rental_month`\n",
    "- `rental_hour`\n",
    "- `holiday`\n",
    "- `workingday`\n",
    "- `peak`\n",
    "- `season`: (1 = Spring, 2 = Summer, 3 = Fall, 4 = Winter)\n",
    "- `duration`*: duration of the rental\n",
    "\n",
    "\\* **Assumption**: Due to lack of information and data, to calculate the average rent time I am assuming that when a new bike rental starts the average will be calculated by: $ ( AvgRentTime* = LastGPSTime - LastRentalStart ) $"
   ]
  },
  {
   "cell_type": "code",
   "execution_count": null,
   "id": "af575e0a",
   "metadata": {},
   "outputs": [],
   "source": [
    "weather_data['dt'] = pd.to_datetime(weather_data['date'].dt.date)\n",
    "weather_data['hour'] = weather_data['date'].dt.hour\n",
    "weather_data['day'] = weather_data['date'].dt.day\n",
    "weather_data['month'] = weather_data['date'].dt.month\n",
    "weather_data['year'] = weather_data['date'].dt.year\n",
    "weather_data.drop(columns='date', axis=1, inplace=True)\n",
    "weather_data.rename(columns={'dt':'date'},inplace=True)"
   ]
  },
  {
   "cell_type": "markdown",
   "id": "355516b2",
   "metadata": {},
   "source": [
    "Slicing the dataset to get the sample as per weather data above."
   ]
  },
  {
   "cell_type": "code",
   "execution_count": null,
   "id": "c4480d0a",
   "metadata": {},
   "outputs": [
    {
     "ename": "NameError",
     "evalue": "name 'start_date_hist' is not defined",
     "output_type": "error",
     "traceback": [
      "\u001b[0;31m---------------------------------------------------------------------------\u001b[0m\n",
      "\u001b[0;31mNameError\u001b[0m                                 Traceback (most recent call last)\n",
      "\u001b[1;32m/Users/pessini/Dropbox/Data-Science/moby-bikes/notebooks/01-data-wrangling.ipynb Cell 44'\u001b[0m in \u001b[0;36m<cell line: 1>\u001b[0;34m()\u001b[0m\n",
      "\u001b[0;32m----> <a href='vscode-notebook-cell:/Users/pessini/Dropbox/Data-Science/moby-bikes/notebooks/01-data-wrangling.ipynb#ch0000043?line=0'>1</a>\u001b[0m start_date_hist, end_date_hist\n",
      "\n",
      "\u001b[0;31mNameError\u001b[0m: name 'start_date_hist' is not defined"
     ]
    }
   ],
   "source": [
    "start_date_hist, end_date_hist"
   ]
  },
  {
   "cell_type": "code",
   "execution_count": null,
   "id": "2602229e",
   "metadata": {},
   "outputs": [],
   "source": [
    "grouped_rentals['date'] = pd.to_datetime(grouped_rentals['lastrentalstart'].dt.date)\n",
    "grouped_rentals = grouped_rentals[(grouped_rentals['date'] >= start_date_hist) & (grouped_rentals['date'] <= end_date_hist)]"
   ]
  },
  {
   "cell_type": "markdown",
   "id": "e888fa10",
   "metadata": {},
   "source": [
    "## Rental's duration"
   ]
  },
  {
   "cell_type": "markdown",
   "metadata": {},
   "source": [
    "\n",
    "### Period of use\n",
    "> \"5.1 Bikes should not be used for more than 19 consecutive hours, this is the maximum period of use.\" [General Terms and Conditions (“GTC”)](https://app.mobymove.com/t-c.html)"
   ]
  },
  {
   "cell_type": "code",
   "execution_count": null,
   "id": "43147d66",
   "metadata": {},
   "outputs": [],
   "source": [
    "# time of rental in minutes (lastgpstime - rental-start)\n",
    "grouped_rentals['duration'] = (grouped_rentals['lastgpstime'] - grouped_rentals['lastrentalstart']) / pd.Timedelta(minutes=1)"
   ]
  },
  {
   "cell_type": "markdown",
   "id": "9e9c2331",
   "metadata": {},
   "source": [
    "A few GPS records have frozen and stopped sending the accurate data back, which would lead to a bias duration of rentals.\n",
    "\n",
    "To prevent any inaccurate information these records will be set as `NaN`."
   ]
  },
  {
   "cell_type": "code",
   "execution_count": null,
   "id": "be1ca524",
   "metadata": {},
   "outputs": [
    {
     "data": {
      "text/plain": [
       "271"
      ]
     },
     "metadata": {},
     "output_type": "display_data"
    }
   ],
   "source": [
    "grouped_rentals['duration'] = np.where(grouped_rentals['duration'] < 0, np.NaN, grouped_rentals['duration'])\n",
    "len(grouped_rentals[ np.isnan(grouped_rentals['duration']) ])"
   ]
  },
  {
   "cell_type": "markdown",
   "id": "18b3df2e",
   "metadata": {},
   "source": [
    "## Bank Holidays"
   ]
  },
  {
   "cell_type": "code",
   "execution_count": null,
   "id": "e5570ee1",
   "metadata": {},
   "outputs": [],
   "source": [
    "bank_holidays = pd.read_json('../data/processed/irishcalendar.json')\n",
    "bank_holidays['date'] = pd.to_datetime(arg=bank_holidays['date'],utc=True, infer_datetime_format=True)\n",
    "bank_holidays['dt'] = pd.to_datetime(bank_holidays['date'].dt.date)\n",
    "bank_holidays = bank_holidays[bank_holidays['type'] == 'National holiday']\n",
    "bank_holidays.drop(['country', 'type', 'date'], axis=1, inplace=True)\n",
    "# holiday\n",
    "weather_data['holiday'] = weather_data['date'].isin(bank_holidays['dt'])"
   ]
  },
  {
   "cell_type": "code",
   "execution_count": null,
   "id": "0b2595b2",
   "metadata": {},
   "outputs": [],
   "source": [
    "# day of the week\n",
    "weather_data['dayofweek_n'] = weather_data['date'].dt.dayofweek\n",
    "weather_data['dayofweek'] = weather_data['date'].dt.day_name()\n",
    "\n",
    "# working day (Monday=0, Sunday=6)\n",
    "# from 0 to 4 or monday to friday and is not holiday\n",
    "weather_data['working_day'] = weather_data['dayofweek_n'] < 5\n",
    "# set working_day to False on National Bank Holodays\n",
    "weather_data.loc[ weather_data['holiday'] , 'working_day'] = False"
   ]
  },
  {
   "cell_type": "markdown",
   "id": "cd71c793",
   "metadata": {},
   "source": [
    "## Seasons"
   ]
  },
  {
   "cell_type": "code",
   "execution_count": null,
   "id": "d77d5e8f",
   "metadata": {},
   "outputs": [],
   "source": [
    "weather_data['date'] = pd.to_datetime(weather_data['date'].dt.date)\n",
    "\n",
    "Y = 2000 # dummy leap year to allow input X-02-29 (leap day)\n",
    "seasons = [('Winter', (datetime(Y,  1,  1),  datetime(Y,  3, 20))),\n",
    "           ('Spring', (datetime(Y,  3, 21),  datetime(Y,  6, 20))),\n",
    "           ('Summer', (datetime(Y,  6, 21),  datetime(Y,  9, 22))),\n",
    "           ('Autumn', (datetime(Y,  9, 23),  datetime(Y, 12, 20))),\n",
    "           ('Winter', (datetime(Y, 12, 21),  datetime(Y, 12, 31)))]\n",
    "\n",
    "def get_season(date: pd.DatetimeIndex) -> str:\n",
    "    '''\n",
    "        Receives a date and returns the corresponded season\n",
    "        0 - Spring | 1 - Summer | 2 - Autumn | 3 - Winter\n",
    "        Vernal equinox(about March 21): day and night of equal length, marking the start of spring\n",
    "        Summer solstice (June 20 or 21): longest day of the year, marking the start of summer\n",
    "        Autumnal equinox(about September 23): day and night of equal length, marking the start of autumn\n",
    "        Winter solstice (December 21 or 22): shortest day of the year, marking the start of winter\n",
    "    '''\n",
    "    date = date.replace(year=Y)\n",
    "    return next(season for season, (start, end) in seasons if start <= date <= end)\n",
    "\n",
    "\n",
    "weather_data['season'] = weather_data['date'].map(get_season)"
   ]
  },
  {
   "cell_type": "markdown",
   "id": "f8b33cf3",
   "metadata": {},
   "source": [
    "## Peak Times\n",
    "\n",
    ">https://www.independent.ie/irish-news/the-new-commuter-hour-peak-times-increase-with-record-traffic-volumes-36903431.html"
   ]
  },
  {
   "cell_type": "code",
   "execution_count": null,
   "id": "9c9da377",
   "metadata": {},
   "outputs": [],
   "source": [
    "weather_data['peak'] = weather_data[['hour', 'working_day']] \\\n",
    "    .apply(lambda x: (False, True)[(x['working_day'] == 1 and (6 <= x['hour'] <= 10 or 15 <= x['hour'] <= 19))], axis = 1)"
   ]
  },
  {
   "cell_type": "markdown",
   "id": "f819972c",
   "metadata": {},
   "source": [
    "## Times of the Day\n",
    "\n",
    "- Morning (from 7am to noon)\n",
    "- Afternoon (from midday to 6pm)\n",
    "- Evening (from 6pm to 10pm)\n",
    "- Night (from 10pm to 5am)"
   ]
  },
  {
   "cell_type": "code",
   "execution_count": null,
   "id": "501a31bd",
   "metadata": {},
   "outputs": [],
   "source": [
    "conditions = [\n",
    "    (weather_data['hour'] < 7), # night 23:00 - 06:59\n",
    "    (weather_data['hour'] >= 7) & (weather_data['hour'] < 12), # morning 7:00 - 11:59\n",
    "    (weather_data['hour'] >= 12) & (weather_data['hour'] < 18), # afternoon 12:01 - 17:59\n",
    "    (weather_data['hour'] >= 18) & (weather_data['hour'] < 23) # evening 18:00 - 22:59\n",
    "]\n",
    "values = ['Night', 'Morning', 'Afternoon', 'Evening']\n",
    "weather_data['timesofday'] = np.select(conditions, values,'Night')"
   ]
  },
  {
   "cell_type": "markdown",
   "id": "49c88210",
   "metadata": {},
   "source": [
    "## Rainfall Intensity Level\n",
    "\n",
    "| Level | Rainfall Intensity |\n",
    "| :- | :-: |\n",
    "| no rain        | 0       |\n",
    "| drizzle        | 0.1~0.3 |\n",
    "| light rain     | 0.3~0.5 |\n",
    "| moderate rain  | 0.5~4   |\n",
    "| heavy rain     | >4      |\n",
    "\n",
    "Source: https://www.metoffice.gov.uk/research/library-and-archive/publications/factsheets\n",
    "\n",
    "PDF direct link: [Water in the atmosphere](https://www.metoffice.gov.uk/binaries/content/assets/metofficegovuk/pdf/research/library-and-archive/library/publications/factsheets/factsheet_3-water-in-the-atmosphere-v02.pdf)\n",
    "\n",
    "### Met Éireann Weather Forecast API\n",
    "\n",
    "(https://data.gov.ie/dataset/met-eireann-weather-forecast-api/resource/5d156b15-38b8-4de9-921b-0ffc8704c88e)\n",
    "\n",
    "**Precipitation unit:** Rain will be output in *millimetres (mm)*.\n",
    "\n",
    "The minvalue, value and maxvalue values are derived from statistical analysis of the forecast, and refer to the lower (20th percentile), middle (60th percentile) and higher (80th percentile) expected amount. If minvalue and maxvalue are not output, value is the basic forecast amount.\n",
    "\n",
    "```html\n",
    "<precipitation unit=\"mm\" value=\"0.0\" minvalue=\"0.0\" maxvalue=\"0.1\"/>\n",
    "```"
   ]
  },
  {
   "cell_type": "code",
   "execution_count": null,
   "id": "b1641b5e",
   "metadata": {},
   "outputs": [],
   "source": [
    "conditions = [\n",
    "    (weather_data['rain'] == 0.0), # no rain\n",
    "    (weather_data['rain'] <= 0.3), # drizzle\n",
    "    (weather_data['rain'] > 0.3) & (weather_data['rain'] <= 0.5), # light rain\n",
    "    (weather_data['rain'] > 0.5) & (weather_data['rain'] <= 4), # moderate rain\n",
    "    (weather_data['rain'] > 4) # heavy rain\n",
    "    ]\n",
    "values = ['no rain', 'drizzle', 'light rain', 'moderate rain','heavy rain']\n",
    "weather_data['rainfall_intensity'] = np.select(conditions, values)"
   ]
  },
  {
   "cell_type": "code",
   "execution_count": null,
   "id": "fb9641fc",
   "metadata": {},
   "outputs": [
    {
     "data": {
      "text/plain": [
       "no rain          7862\n",
       "drizzle           465\n",
       "moderate rain     320\n",
       "light rain        100\n",
       "heavy rain         13\n",
       "Name: rainfall_intensity, dtype: int64"
      ]
     },
     "metadata": {},
     "output_type": "display_data"
    }
   ],
   "source": [
    "weather_data['rainfall_intensity'].value_counts()"
   ]
  },
  {
   "cell_type": "markdown",
   "id": "c547bf78",
   "metadata": {},
   "source": [
    "### Wind Speed Beaufort scale\n",
    "\n",
    "[The Irish Meteorological Service - BEAUFORT SCALE](https://www.met.ie/forecasts/marine-inland-lakes/beaufort-scale)\n",
    "\n",
    "<img title=\"BEAUFORT SCALE\" src='./img/Beaufort-scale.png' alt=\"BEAUFORT SCALE\" />"
   ]
  },
  {
   "cell_type": "markdown",
   "id": "00da927b",
   "metadata": {},
   "source": [
    "Another source: https://www.metoffice.gov.uk/weather/guides/coast-and-sea/beaufort-scale"
   ]
  },
  {
   "cell_type": "code",
   "execution_count": null,
   "id": "8ae838b1",
   "metadata": {},
   "outputs": [],
   "source": [
    "import math\n",
    "def scale(value, factor):\n",
    "    \"\"\"\n",
    "    Multiply value by factor, allowing for None values.\n",
    "    \"\"\"\n",
    "    return None if value is None else value * factor\n",
    "\n",
    "def wind_ms(kn):\n",
    "    \"\"\"\n",
    "    Convert wind from knots to metres per second\n",
    "    \"\"\"\n",
    "    return scale(kn, 0.514)\n",
    "\n",
    "def wind_kn(ms):\n",
    "    \"\"\"\n",
    "    Convert wind from metres per second to knots\n",
    "    \"\"\"\n",
    "    return scale(ms, 3.6 / 1.852)\n",
    "\n",
    "def wind_bft(ms):\n",
    "    \"\"\"\n",
    "    Convert wind from metres per second to Beaufort scale\n",
    "    \"\"\"\n",
    "    _bft_threshold = (0.3, 1.5, 3.4, 5.4, 7.9, 10.7, 13.8, 17.1, 20.7, 24.4, 28.4, 32.6)\n",
    "    if ms is None:\n",
    "        return None\n",
    "    return next((bft for bft in range(len(_bft_threshold)) if ms < _bft_threshold[bft]), len(_bft_threshold))"
   ]
  },
  {
   "cell_type": "code",
   "execution_count": null,
   "id": "c73fe475",
   "metadata": {},
   "outputs": [
    {
     "data": {
      "text/plain": [
       "3    3026\n",
       "2    2875\n",
       "4    1872\n",
       "5     529\n",
       "1     314\n",
       "6     117\n",
       "7      25\n",
       "8       2\n",
       "Name: wind_bft, dtype: int64"
      ]
     },
     "metadata": {},
     "output_type": "display_data"
    }
   ],
   "source": [
    "weather_data['wind_bft'] = weather_data.apply(lambda row: wind_bft(wind_ms(row.wdsp)), axis=1)\n",
    "weather_data['wind_bft'].value_counts().sort_values(ascending=False)"
   ]
  },
  {
   "cell_type": "markdown",
   "id": "590c0c14",
   "metadata": {},
   "source": [
    "### Grouped Wind Speed (Beaufort scale)\n",
    "\n",
    "| Level | Beaufort scale |\n",
    "| :- | :-: |\n",
    "| Calm / Light Breeze           | 0~2     |\n",
    "| Breeze                        | 3       |\n",
    "| Moderate Breeze               | 4-5     |\n",
    "| Strong Breeze / Near Gale     | 6-7     |\n",
    "| Gale / Storm                  | 8~12    |"
   ]
  },
  {
   "cell_type": "code",
   "execution_count": null,
   "id": "fb066a4e",
   "metadata": {},
   "outputs": [],
   "source": [
    "conditions = [\n",
    "    (weather_data['wind_bft'] < 3), # Calm / Light Breeze\n",
    "    (weather_data['wind_bft'] == 3), # Breeze\n",
    "    (weather_data['wind_bft'] > 3) & (weather_data['wind_bft'] < 6), # Moderate Breeze\n",
    "    (weather_data['wind_bft'] >= 6) & (weather_data['wind_bft'] < 8), # Strong Breeze / Near Gale\n",
    "    (weather_data['wind_bft'] > 7) # Gale / Storm\n",
    "]\n",
    "values = ['Calm / Light Breeze', 'Breeze', 'Moderate Breeze', 'Strong Breeze / Near Gale','Gale / Storm']\n",
    "weather_data['wind_speed_group'] = np.select(conditions, values)"
   ]
  },
  {
   "cell_type": "markdown",
   "id": "8607c5e7",
   "metadata": {},
   "source": [
    "### Rounded Temperature\n",
    "\n",
    "Capturing the relationship on temperature as continuous can be hard for machine learning algorithms as the range is to high. Temperature of 13.4C and 13.9C or 13C and 15C, are practically the same if you think about deciding whether to go bicicling or not. The same rationale applies for humidity and wind speed."
   ]
  },
  {
   "cell_type": "code",
   "execution_count": null,
   "id": "8f8dfd5e",
   "metadata": {},
   "outputs": [],
   "source": [
    "def round_up(x):\n",
    "    '''\n",
    "    Helper function to round away from zero\n",
    "    '''\n",
    "    from math import copysign\n",
    "    return int(x + copysign(0.5, x))\n",
    "\n",
    "weather_data['temp_r'] = weather_data['temp'].apply(round_up)"
   ]
  },
  {
   "cell_type": "markdown",
   "id": "901c0bf5",
   "metadata": {},
   "source": [
    "### KBinsDiscretizer - Temperature and Humidity\n",
    "\n",
    "[KBinsDiscretizer](https://scikit-learn.org/stable/modules/generated/sklearn.preprocessing.KBinsDiscretizer.html) - Bin continuous data into intervals."
   ]
  },
  {
   "cell_type": "code",
   "execution_count": null,
   "id": "51044c1b",
   "metadata": {},
   "outputs": [],
   "source": [
    "from sklearn.preprocessing import KBinsDiscretizer\n",
    "# transform the temperature with KBinsDiscretizer\n",
    "enc_kmeans = KBinsDiscretizer(n_bins=10, encode=\"ordinal\", strategy='kmeans')\n",
    "weather_data['temp_bin'] = enc_kmeans.fit_transform(weather_data['temp'].array.reshape(-1,1))\n",
    "\n",
    "# transform the humidity with KBinsDiscretizer\n",
    "enc_kmeans = KBinsDiscretizer(n_bins=5, encode=\"ordinal\", strategy='kmeans')\n",
    "weather_data['rhum_bin'] = enc_kmeans.fit_transform(weather_data['rhum'].array.reshape(-1,1))"
   ]
  },
  {
   "cell_type": "markdown",
   "id": "fd192a57",
   "metadata": {},
   "source": [
    "## Combining Rentals and Weather data"
   ]
  },
  {
   "cell_type": "code",
   "execution_count": null,
   "id": "da839168",
   "metadata": {},
   "outputs": [
    {
     "data": {
      "text/plain": [
       "((33119, 7), (8760, 22))"
      ]
     },
     "metadata": {},
     "output_type": "display_data"
    }
   ],
   "source": [
    "new_rentals.shape, weather_data.shape"
   ]
  },
  {
   "cell_type": "code",
   "execution_count": null,
   "id": "8b2a87ad",
   "metadata": {},
   "outputs": [],
   "source": [
    "rentals = new_rentals.copy()\n",
    "weather = weather_data.copy()\n",
    "rentals['hour'] = rentals['lastrentalstart'].dt.hour"
   ]
  },
  {
   "cell_type": "code",
   "execution_count": null,
   "id": "c1291989",
   "metadata": {},
   "outputs": [
    {
     "data": {
      "text/plain": [
       "0"
      ]
     },
     "metadata": {},
     "output_type": "display_data"
    }
   ],
   "source": [
    "all_data = pd.merge(rentals, weather, on=['date', 'hour'])\n",
    "all_data.to_csv('../data/processed/all_data.csv', index=False)\n",
    "rentals.shape[0] - all_data.shape[0]"
   ]
  },
  {
   "cell_type": "markdown",
   "id": "28dee8ca",
   "metadata": {},
   "source": [
    "## Grouping data to reflect hourly count of rentals"
   ]
  },
  {
   "cell_type": "code",
   "execution_count": null,
   "id": "4f8245ef",
   "metadata": {},
   "outputs": [
    {
     "data": {
      "text/plain": [
       "((33119, 22), (6966, 3))"
      ]
     },
     "metadata": {},
     "output_type": "display_data"
    }
   ],
   "source": [
    "hourly_rentals = all_data.copy()\n",
    "count_hourly_rentals = hourly_rentals.groupby(['date', 'hour']).size().reset_index(name='count')\n",
    "columns_to_drop = ['lastrentalstart','bikeid','coordinates','start_battery','lastgpstime','duration']\n",
    "hourly_rentals = hourly_rentals.drop(columns_to_drop, axis=1)\n",
    "hourly_rentals.shape, count_hourly_rentals.shape"
   ]
  },
  {
   "cell_type": "markdown",
   "id": "7491255f",
   "metadata": {},
   "source": [
    "### Dataframe including only hours with *at least* 1 rental"
   ]
  },
  {
   "cell_type": "code",
   "execution_count": null,
   "id": "fea66157",
   "metadata": {},
   "outputs": [
    {
     "data": {
      "text/plain": [
       "(6966, 23)"
      ]
     },
     "metadata": {},
     "output_type": "display_data"
    }
   ],
   "source": [
    "hourly_rentals = hourly_rentals.drop_duplicates(subset=['date', 'hour'])\n",
    "hourly_data = pd.merge(hourly_rentals, count_hourly_rentals, on=['date','hour'])\n",
    "hourly_data.to_csv('../data/processed/hourly_rentals.csv', index=False)\n",
    "hourly_data.shape"
   ]
  },
  {
   "cell_type": "markdown",
   "id": "36a5e398",
   "metadata": {},
   "source": [
    "### Dataframe with all hours (including none rental)"
   ]
  },
  {
   "cell_type": "code",
   "execution_count": null,
   "id": "8d222f94",
   "metadata": {},
   "outputs": [
    {
     "data": {
      "text/plain": [
       "(8760, 23)"
      ]
     },
     "metadata": {},
     "output_type": "display_data"
    }
   ],
   "source": [
    "hourly_data_withzeros = pd.merge(weather, count_hourly_rentals, on=['date','hour'], how='left')\n",
    "hourly_data_withzeros['count'] = hourly_data_withzeros['count'].fillna(0).astype(int)\n",
    "hourly_data_withzeros.to_csv('../data/processed/hourly_data.csv', index=False)\n",
    "hourly_data_withzeros.shape"
   ]
  },
  {
   "cell_type": "markdown",
   "id": "70cf35db",
   "metadata": {},
   "source": [
    "<img title=\"GitHub Mark\" src=\"./img/GitHub-Mark-64px.png\" style=\"height: 32px; padding-right: 15px\" alt=\"GitHub Mark\" align=\"left\"> [GitHub repository](https://github.com/pessini/moby-bikes) <br>Author: Leandro Pessini"
   ]
  }
 ],
 "metadata": {
  "language_info": {
   "name": "python"
  },
  "orig_nbformat": 4
 },
 "nbformat": 4,
 "nbformat_minor": 2
}
