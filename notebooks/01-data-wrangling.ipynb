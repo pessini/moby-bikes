{
 "cells": [
  {
   "cell_type": "markdown",
   "id": "32be05c6",
   "metadata": {},
   "source": [
    "<img title=\"GitHub Octocat\" src='./img/Octocat.jpg' style='height: 60px; padding-right: 15px' alt=\"Octocat\" align=\"left\" height=\"60\"> This notebook is part of a GitHub repository: https://github.com/pessini/moby-bikes\n",
    "<br>MIT Licensed\n",
    "<br>Author: Leandro Pessini"
   ]
  },
  {
   "cell_type": "markdown",
   "id": "11ee0606",
   "metadata": {},
   "source": [
    "# Data Wrangling"
   ]
  },
  {
   "cell_type": "code",
   "execution_count": 1,
   "id": "77876c7e",
   "metadata": {},
   "outputs": [],
   "source": [
    "import pandas as pd\n",
    "import matplotlib.pyplot as plt\n",
    "import seaborn as sns\n",
    "import numpy as np\n",
    "from datetime import datetime\n",
    "\n",
    "%matplotlib inline\n",
    "import warnings\n",
    "warnings.simplefilter('ignore', FutureWarning)"
   ]
  },
  {
   "cell_type": "markdown",
   "id": "c469247f",
   "metadata": {},
   "source": [
    "Dataset provided by [Moby Bikes](https://data.gov.ie/dataset/moby-bikes) through a public [API](https://data.smartdublin.ie/mobybikes-api). \n",
    "\n",
    "\n",
    "Dataset provided by [Met Éireann](https://www.met.ie/) through a public [API](https://data.gov.ie/dataset/met-eireann-weather-forecast-api/resource/5d156b15-38b8-4de9-921b-0ffc8704c88e)."
   ]
  },
  {
   "cell_type": "markdown",
   "id": "3d555c83",
   "metadata": {},
   "source": [
    "<a id=\"1.1\"></a>\n",
    "## Rentals Data - Moby Bikes"
   ]
  },
  {
   "cell_type": "markdown",
   "id": "f7f255c3",
   "metadata": {},
   "source": [
    "### Data fields\n",
    "\n",
    "- `HarvestTime` - Data retrieval timestamp\n",
    "- `BikeID` - Unique bike ID used for rent bike\n",
    "- `Battery` - Battery status (max distance in km)\n",
    "- `BikeIdentifier` - Bike Identifier (Generally contains only digits, might contains chars)\n",
    "- `BikeTypeName` - Bike type name\n",
    "- `EBikeProfileID` - E-bike Profile ID (Every ebike profile has defined Geofence (allowed riding areas))\n",
    "- `EBikeStateID` - EBike State (Indicates: {1:'Warning - is in move and not rented',2:'Normal',3:'Switched Off',4:'Firmware Upgrade',5:'Laying on the ground'})\n",
    "- `IsEBike` - Is electronic bike (Bike sends messages to Backend if bike is equipped with electronic, bluetooth etc.)\n",
    "- `IsMotor` - Bike has *engine*\n",
    "- `IsSmartLock` - Bike has *smart lock*\n",
    "- `LastGPSTime` - Last valid GPS message\n",
    "- `LastRentalStart` - Last time bike was rented\n",
    "- `Latitude` - Bike coordinates if bike is locked out of station\n",
    "- `Longitude` - Bike coordinates if bike is locked out of station\n",
    "- `SpikeID` - Might be used for rent bike instead of BikeID"
   ]
  },
  {
   "cell_type": "code",
   "execution_count": 2,
   "id": "8a546e47",
   "metadata": {},
   "outputs": [],
   "source": [
    "date_columns = ['HarvestTime','LastGPSTime', 'LastRentalStart']\n",
    "historical_data = pd.read_csv('../data/raw/historical_data.csv', parse_dates=date_columns)"
   ]
  },
  {
   "cell_type": "code",
   "execution_count": 3,
   "id": "280e3e57",
   "metadata": {},
   "outputs": [
    {
     "name": "stdout",
     "output_type": "stream",
     "text": [
      "<class 'pandas.core.frame.DataFrame'>\n",
      "RangeIndex: 1885006 entries, 0 to 1885005\n",
      "Data columns (total 15 columns):\n",
      " #   Column           Dtype         \n",
      "---  ------           -----         \n",
      " 0   HarvestTime      datetime64[ns]\n",
      " 1   BikeID           int64         \n",
      " 2   Battery          float64       \n",
      " 3   BikeIdentifier   int64         \n",
      " 4   BikeTypeName     object        \n",
      " 5   EBikeProfileID   int64         \n",
      " 6   EBikeStateID     int64         \n",
      " 7   IsEBike          bool          \n",
      " 8   IsMotor          bool          \n",
      " 9   IsSmartLock      bool          \n",
      " 10  LastGPSTime      datetime64[ns]\n",
      " 11  LastRentalStart  datetime64[ns]\n",
      " 12  Latitude         float64       \n",
      " 13  Longitude        float64       \n",
      " 14  SpikeID          int64         \n",
      "dtypes: bool(3), datetime64[ns](3), float64(3), int64(5), object(1)\n",
      "memory usage: 178.0+ MB\n"
     ]
    }
   ],
   "source": [
    "historical_data.info()"
   ]
  },
  {
   "cell_type": "code",
   "execution_count": 4,
   "id": "b1f81e9a",
   "metadata": {},
   "outputs": [
    {
     "data": {
      "text/html": [
       "<div>\n",
       "<style scoped>\n",
       "    .dataframe tbody tr th:only-of-type {\n",
       "        vertical-align: middle;\n",
       "    }\n",
       "\n",
       "    .dataframe tbody tr th {\n",
       "        vertical-align: top;\n",
       "    }\n",
       "\n",
       "    .dataframe thead th {\n",
       "        text-align: right;\n",
       "    }\n",
       "</style>\n",
       "<table border=\"1\" class=\"dataframe\">\n",
       "  <thead>\n",
       "    <tr style=\"text-align: right;\">\n",
       "      <th></th>\n",
       "      <th>harvesttime</th>\n",
       "      <th>bikeid</th>\n",
       "      <th>battery</th>\n",
       "      <th>bikeidentifier</th>\n",
       "      <th>biketypename</th>\n",
       "      <th>ebikeprofileid</th>\n",
       "      <th>ebikestateid</th>\n",
       "      <th>isebike</th>\n",
       "      <th>ismotor</th>\n",
       "      <th>issmartlock</th>\n",
       "      <th>lastgpstime</th>\n",
       "      <th>lastrentalstart</th>\n",
       "      <th>latitude</th>\n",
       "      <th>longitude</th>\n",
       "      <th>spikeid</th>\n",
       "    </tr>\n",
       "  </thead>\n",
       "  <tbody>\n",
       "    <tr>\n",
       "      <th>0</th>\n",
       "      <td>2021-04-01 00:00:03</td>\n",
       "      <td>5</td>\n",
       "      <td>7.0</td>\n",
       "      <td>1</td>\n",
       "      <td>DUB-General</td>\n",
       "      <td>1</td>\n",
       "      <td>2</td>\n",
       "      <td>True</td>\n",
       "      <td>False</td>\n",
       "      <td>False</td>\n",
       "      <td>2021-03-31 23:41:40</td>\n",
       "      <td>2021-03-30 19:18:18</td>\n",
       "      <td>53.3091</td>\n",
       "      <td>-6.21643</td>\n",
       "      <td>1</td>\n",
       "    </tr>\n",
       "    <tr>\n",
       "      <th>1</th>\n",
       "      <td>2021-04-01 00:00:03</td>\n",
       "      <td>6</td>\n",
       "      <td>16.0</td>\n",
       "      <td>2</td>\n",
       "      <td>DUB-General</td>\n",
       "      <td>1</td>\n",
       "      <td>2</td>\n",
       "      <td>True</td>\n",
       "      <td>False</td>\n",
       "      <td>False</td>\n",
       "      <td>2021-03-31 23:55:41</td>\n",
       "      <td>2021-03-31 10:31:13</td>\n",
       "      <td>53.3657</td>\n",
       "      <td>-6.32249</td>\n",
       "      <td>2</td>\n",
       "    </tr>\n",
       "    <tr>\n",
       "      <th>2</th>\n",
       "      <td>2021-04-01 00:00:03</td>\n",
       "      <td>7</td>\n",
       "      <td>66.0</td>\n",
       "      <td>3</td>\n",
       "      <td>DUB-General</td>\n",
       "      <td>4</td>\n",
       "      <td>2</td>\n",
       "      <td>True</td>\n",
       "      <td>False</td>\n",
       "      <td>False</td>\n",
       "      <td>2021-03-31 23:42:04</td>\n",
       "      <td>2021-03-30 13:07:19</td>\n",
       "      <td>53.2799</td>\n",
       "      <td>-6.14497</td>\n",
       "      <td>3</td>\n",
       "    </tr>\n",
       "    <tr>\n",
       "      <th>3</th>\n",
       "      <td>2021-04-01 00:00:03</td>\n",
       "      <td>8</td>\n",
       "      <td>48.0</td>\n",
       "      <td>4</td>\n",
       "      <td>DUB-General</td>\n",
       "      <td>1</td>\n",
       "      <td>2</td>\n",
       "      <td>True</td>\n",
       "      <td>False</td>\n",
       "      <td>False</td>\n",
       "      <td>2021-03-31 23:52:26</td>\n",
       "      <td>2021-03-30 12:43:17</td>\n",
       "      <td>53.2891</td>\n",
       "      <td>-6.11378</td>\n",
       "      <td>4</td>\n",
       "    </tr>\n",
       "    <tr>\n",
       "      <th>4</th>\n",
       "      <td>2021-04-01 00:00:03</td>\n",
       "      <td>9</td>\n",
       "      <td>-6.0</td>\n",
       "      <td>5</td>\n",
       "      <td>DUB-General</td>\n",
       "      <td>1</td>\n",
       "      <td>2</td>\n",
       "      <td>True</td>\n",
       "      <td>False</td>\n",
       "      <td>False</td>\n",
       "      <td>2021-03-31 23:50:20</td>\n",
       "      <td>2021-03-29 22:37:58</td>\n",
       "      <td>53.2928</td>\n",
       "      <td>-6.13014</td>\n",
       "      <td>5</td>\n",
       "    </tr>\n",
       "  </tbody>\n",
       "</table>\n",
       "</div>"
      ],
      "text/plain": [
       "          harvesttime  bikeid  battery  bikeidentifier biketypename  \\\n",
       "0 2021-04-01 00:00:03       5      7.0               1  DUB-General   \n",
       "1 2021-04-01 00:00:03       6     16.0               2  DUB-General   \n",
       "2 2021-04-01 00:00:03       7     66.0               3  DUB-General   \n",
       "3 2021-04-01 00:00:03       8     48.0               4  DUB-General   \n",
       "4 2021-04-01 00:00:03       9     -6.0               5  DUB-General   \n",
       "\n",
       "   ebikeprofileid  ebikestateid  isebike  ismotor  issmartlock  \\\n",
       "0               1             2     True    False        False   \n",
       "1               1             2     True    False        False   \n",
       "2               4             2     True    False        False   \n",
       "3               1             2     True    False        False   \n",
       "4               1             2     True    False        False   \n",
       "\n",
       "          lastgpstime     lastrentalstart  latitude  longitude  spikeid  \n",
       "0 2021-03-31 23:41:40 2021-03-30 19:18:18   53.3091   -6.21643        1  \n",
       "1 2021-03-31 23:55:41 2021-03-31 10:31:13   53.3657   -6.32249        2  \n",
       "2 2021-03-31 23:42:04 2021-03-30 13:07:19   53.2799   -6.14497        3  \n",
       "3 2021-03-31 23:52:26 2021-03-30 12:43:17   53.2891   -6.11378        4  \n",
       "4 2021-03-31 23:50:20 2021-03-29 22:37:58   53.2928   -6.13014        5  "
      ]
     },
     "execution_count": 4,
     "metadata": {},
     "output_type": "execute_result"
    }
   ],
   "source": [
    "historical_data.columns = historical_data.columns.str.lower()\n",
    "historical_data.head()"
   ]
  },
  {
   "cell_type": "code",
   "execution_count": 5,
   "id": "a4de90ff",
   "metadata": {},
   "outputs": [
    {
     "name": "stdout",
     "output_type": "stream",
     "text": [
      "Total number of rows: 1885006\n",
      "Total number of columns: 15\n"
     ]
    }
   ],
   "source": [
    "print(f'Total number of rows: {historical_data.shape[0]}')\n",
    "print(f'Total number of columns: {historical_data.shape[1]}')"
   ]
  },
  {
   "cell_type": "code",
   "execution_count": 6,
   "id": "0d6a8736",
   "metadata": {},
   "outputs": [
    {
     "data": {
      "text/plain": [
       "harvesttime            0\n",
       "bikeid                 0\n",
       "battery            66502\n",
       "bikeidentifier         0\n",
       "biketypename           0\n",
       "ebikeprofileid         0\n",
       "ebikestateid           0\n",
       "isebike                0\n",
       "ismotor                0\n",
       "issmartlock            0\n",
       "lastgpstime            0\n",
       "lastrentalstart        0\n",
       "latitude               0\n",
       "longitude              0\n",
       "spikeid                0\n",
       "dtype: int64"
      ]
     },
     "execution_count": 6,
     "metadata": {},
     "output_type": "execute_result"
    }
   ],
   "source": [
    "historical_data.isnull().sum()"
   ]
  },
  {
   "cell_type": "code",
   "execution_count": 7,
   "id": "5412f47d",
   "metadata": {},
   "outputs": [
    {
     "data": {
      "text/plain": [
       "True    1885006\n",
       "Name: isebike, dtype: int64"
      ]
     },
     "execution_count": 7,
     "metadata": {},
     "output_type": "execute_result"
    }
   ],
   "source": [
    "historical_data['isebike'].value_counts()"
   ]
  },
  {
   "cell_type": "code",
   "execution_count": 8,
   "id": "d0e17c65",
   "metadata": {},
   "outputs": [
    {
     "data": {
      "text/plain": [
       "False    1885006\n",
       "Name: ismotor, dtype: int64"
      ]
     },
     "execution_count": 8,
     "metadata": {},
     "output_type": "execute_result"
    }
   ],
   "source": [
    "historical_data['ismotor'].value_counts()"
   ]
  },
  {
   "cell_type": "code",
   "execution_count": 9,
   "id": "cc55644a",
   "metadata": {},
   "outputs": [
    {
     "data": {
      "text/plain": [
       "False    1885006\n",
       "Name: issmartlock, dtype: int64"
      ]
     },
     "execution_count": 9,
     "metadata": {},
     "output_type": "execute_result"
    }
   ],
   "source": [
    "historical_data['issmartlock'].value_counts()"
   ]
  },
  {
   "cell_type": "markdown",
   "id": "a7d05329",
   "metadata": {},
   "source": [
    "`isebike`, `ismotor` and `issmartlock` only have one value. For that reason they will not be used further on the analysis."
   ]
  },
  {
   "cell_type": "markdown",
   "id": "824fc27a",
   "metadata": {},
   "source": [
    "EBike State indicates: \n",
    "- **1:** Warning - is in move and not rented\n",
    "- **2:** Normal \n",
    "- **3:** Switched Off\n",
    "- **4:** Firmware Upgrade \n",
    "- **5:** Laying on the ground\n",
    "\n",
    "On all states a bike can report, the number **1** is the most alarming because can indicate that a rental is over, a failure in the signal or the rental didn't start at all."
   ]
  },
  {
   "cell_type": "code",
   "execution_count": 10,
   "id": "b3ce2c10",
   "metadata": {},
   "outputs": [
    {
     "data": {
      "text/plain": [
       "2    1835576\n",
       "5      38045\n",
       "1      11385\n",
       "Name: ebikestateid, dtype: int64"
      ]
     },
     "execution_count": 10,
     "metadata": {},
     "output_type": "execute_result"
    }
   ],
   "source": [
    "historical_data['ebikestateid'].value_counts()"
   ]
  },
  {
   "cell_type": "code",
   "execution_count": 11,
   "id": "d791712b",
   "metadata": {},
   "outputs": [],
   "source": [
    "idx_state1 = historical_data[historical_data['ebikestateid'] == 1]['lastrentalstart'].tolist()\n",
    "idx_state5 = historical_data[historical_data['ebikestateid'] == 5]['lastrentalstart'].tolist()\n",
    "nrented_df = historical_data[historical_data['lastrentalstart'].isin(idx_state1)]"
   ]
  },
  {
   "cell_type": "code",
   "execution_count": 12,
   "id": "52db40cb",
   "metadata": {},
   "outputs": [
    {
     "data": {
      "text/html": [
       "<div>\n",
       "<style scoped>\n",
       "    .dataframe tbody tr th:only-of-type {\n",
       "        vertical-align: middle;\n",
       "    }\n",
       "\n",
       "    .dataframe tbody tr th {\n",
       "        vertical-align: top;\n",
       "    }\n",
       "\n",
       "    .dataframe thead th {\n",
       "        text-align: right;\n",
       "    }\n",
       "</style>\n",
       "<table border=\"1\" class=\"dataframe\">\n",
       "  <thead>\n",
       "    <tr style=\"text-align: right;\">\n",
       "      <th></th>\n",
       "      <th>harvesttime</th>\n",
       "      <th>bikeid</th>\n",
       "      <th>battery</th>\n",
       "      <th>bikeidentifier</th>\n",
       "      <th>biketypename</th>\n",
       "      <th>ebikeprofileid</th>\n",
       "      <th>ebikestateid</th>\n",
       "      <th>isebike</th>\n",
       "      <th>ismotor</th>\n",
       "      <th>issmartlock</th>\n",
       "      <th>lastgpstime</th>\n",
       "      <th>lastrentalstart</th>\n",
       "      <th>latitude</th>\n",
       "      <th>longitude</th>\n",
       "      <th>spikeid</th>\n",
       "    </tr>\n",
       "  </thead>\n",
       "  <tbody>\n",
       "    <tr>\n",
       "      <th>4159</th>\n",
       "      <td>2021-04-02 18:30:02</td>\n",
       "      <td>48</td>\n",
       "      <td>33.0</td>\n",
       "      <td>45</td>\n",
       "      <td>DUB-General</td>\n",
       "      <td>1</td>\n",
       "      <td>1</td>\n",
       "      <td>True</td>\n",
       "      <td>False</td>\n",
       "      <td>False</td>\n",
       "      <td>2021-04-02 18:27:14</td>\n",
       "      <td>2021-04-02 12:51:50</td>\n",
       "      <td>0.0</td>\n",
       "      <td>0.0</td>\n",
       "      <td>45</td>\n",
       "    </tr>\n",
       "  </tbody>\n",
       "</table>\n",
       "</div>"
      ],
      "text/plain": [
       "             harvesttime  bikeid  battery  bikeidentifier biketypename  \\\n",
       "4159 2021-04-02 18:30:02      48     33.0              45  DUB-General   \n",
       "\n",
       "      ebikeprofileid  ebikestateid  isebike  ismotor  issmartlock  \\\n",
       "4159               1             1     True    False        False   \n",
       "\n",
       "             lastgpstime     lastrentalstart  latitude  longitude  spikeid  \n",
       "4159 2021-04-02 18:27:14 2021-04-02 12:51:50       0.0        0.0       45  "
      ]
     },
     "execution_count": 12,
     "metadata": {},
     "output_type": "execute_result"
    }
   ],
   "source": [
    "# 2021-03-31 08:52:13\n",
    "historical_data[historical_data['lastrentalstart'] == '2021-04-02 12:51:50']"
   ]
  },
  {
   "cell_type": "code",
   "execution_count": 13,
   "id": "903e46a0",
   "metadata": {},
   "outputs": [
    {
     "data": {
      "text/html": [
       "<div>\n",
       "<style scoped>\n",
       "    .dataframe tbody tr th:only-of-type {\n",
       "        vertical-align: middle;\n",
       "    }\n",
       "\n",
       "    .dataframe tbody tr th {\n",
       "        vertical-align: top;\n",
       "    }\n",
       "\n",
       "    .dataframe thead th {\n",
       "        text-align: right;\n",
       "    }\n",
       "</style>\n",
       "<table border=\"1\" class=\"dataframe\">\n",
       "  <thead>\n",
       "    <tr style=\"text-align: right;\">\n",
       "      <th></th>\n",
       "      <th>harvesttime</th>\n",
       "      <th>bikeid</th>\n",
       "      <th>battery</th>\n",
       "      <th>bikeidentifier</th>\n",
       "      <th>biketypename</th>\n",
       "      <th>ebikeprofileid</th>\n",
       "      <th>ebikestateid</th>\n",
       "      <th>isebike</th>\n",
       "      <th>ismotor</th>\n",
       "      <th>issmartlock</th>\n",
       "      <th>lastgpstime</th>\n",
       "      <th>lastrentalstart</th>\n",
       "      <th>latitude</th>\n",
       "      <th>longitude</th>\n",
       "      <th>spikeid</th>\n",
       "    </tr>\n",
       "  </thead>\n",
       "  <tbody>\n",
       "    <tr>\n",
       "      <th>3949</th>\n",
       "      <td>2021-04-02 16:00:03</td>\n",
       "      <td>16</td>\n",
       "      <td>16.0</td>\n",
       "      <td>14</td>\n",
       "      <td>DUB-General</td>\n",
       "      <td>1</td>\n",
       "      <td>1</td>\n",
       "      <td>True</td>\n",
       "      <td>False</td>\n",
       "      <td>False</td>\n",
       "      <td>2021-04-02 15:53:07</td>\n",
       "      <td>2021-04-02 13:00:13</td>\n",
       "      <td>0.0000</td>\n",
       "      <td>0.00000</td>\n",
       "      <td>14</td>\n",
       "    </tr>\n",
       "    <tr>\n",
       "      <th>3991</th>\n",
       "      <td>2021-04-02 16:30:03</td>\n",
       "      <td>16</td>\n",
       "      <td>16.0</td>\n",
       "      <td>14</td>\n",
       "      <td>DUB-General</td>\n",
       "      <td>1</td>\n",
       "      <td>2</td>\n",
       "      <td>True</td>\n",
       "      <td>False</td>\n",
       "      <td>False</td>\n",
       "      <td>2021-04-02 16:22:57</td>\n",
       "      <td>2021-04-02 13:00:13</td>\n",
       "      <td>53.3433</td>\n",
       "      <td>-6.23877</td>\n",
       "      <td>14</td>\n",
       "    </tr>\n",
       "    <tr>\n",
       "      <th>4032</th>\n",
       "      <td>2021-04-02 17:00:02</td>\n",
       "      <td>16</td>\n",
       "      <td>16.0</td>\n",
       "      <td>14</td>\n",
       "      <td>DUB-General</td>\n",
       "      <td>1</td>\n",
       "      <td>2</td>\n",
       "      <td>True</td>\n",
       "      <td>False</td>\n",
       "      <td>False</td>\n",
       "      <td>2021-04-02 16:52:57</td>\n",
       "      <td>2021-04-02 13:00:13</td>\n",
       "      <td>53.3432</td>\n",
       "      <td>-6.23865</td>\n",
       "      <td>14</td>\n",
       "    </tr>\n",
       "    <tr>\n",
       "      <th>4068</th>\n",
       "      <td>2021-04-02 17:30:03</td>\n",
       "      <td>16</td>\n",
       "      <td>16.0</td>\n",
       "      <td>14</td>\n",
       "      <td>DUB-General</td>\n",
       "      <td>1</td>\n",
       "      <td>2</td>\n",
       "      <td>True</td>\n",
       "      <td>False</td>\n",
       "      <td>False</td>\n",
       "      <td>2021-04-02 17:22:57</td>\n",
       "      <td>2021-04-02 13:00:13</td>\n",
       "      <td>53.3432</td>\n",
       "      <td>-6.23817</td>\n",
       "      <td>14</td>\n",
       "    </tr>\n",
       "    <tr>\n",
       "      <th>4105</th>\n",
       "      <td>2021-04-02 18:00:03</td>\n",
       "      <td>16</td>\n",
       "      <td>16.0</td>\n",
       "      <td>14</td>\n",
       "      <td>DUB-General</td>\n",
       "      <td>1</td>\n",
       "      <td>2</td>\n",
       "      <td>True</td>\n",
       "      <td>False</td>\n",
       "      <td>False</td>\n",
       "      <td>2021-04-02 17:52:57</td>\n",
       "      <td>2021-04-02 13:00:13</td>\n",
       "      <td>53.3432</td>\n",
       "      <td>-6.23846</td>\n",
       "      <td>14</td>\n",
       "    </tr>\n",
       "    <tr>\n",
       "      <th>4147</th>\n",
       "      <td>2021-04-02 18:30:02</td>\n",
       "      <td>16</td>\n",
       "      <td>15.0</td>\n",
       "      <td>14</td>\n",
       "      <td>DUB-General</td>\n",
       "      <td>1</td>\n",
       "      <td>2</td>\n",
       "      <td>True</td>\n",
       "      <td>False</td>\n",
       "      <td>False</td>\n",
       "      <td>2021-04-02 18:22:57</td>\n",
       "      <td>2021-04-02 13:00:13</td>\n",
       "      <td>53.3433</td>\n",
       "      <td>-6.23877</td>\n",
       "      <td>14</td>\n",
       "    </tr>\n",
       "    <tr>\n",
       "      <th>4192</th>\n",
       "      <td>2021-04-02 19:00:03</td>\n",
       "      <td>16</td>\n",
       "      <td>15.0</td>\n",
       "      <td>14</td>\n",
       "      <td>DUB-General</td>\n",
       "      <td>1</td>\n",
       "      <td>2</td>\n",
       "      <td>True</td>\n",
       "      <td>False</td>\n",
       "      <td>False</td>\n",
       "      <td>2021-04-02 18:52:57</td>\n",
       "      <td>2021-04-02 13:00:13</td>\n",
       "      <td>53.3433</td>\n",
       "      <td>-6.23875</td>\n",
       "      <td>14</td>\n",
       "    </tr>\n",
       "  </tbody>\n",
       "</table>\n",
       "</div>"
      ],
      "text/plain": [
       "             harvesttime  bikeid  battery  bikeidentifier biketypename  \\\n",
       "3949 2021-04-02 16:00:03      16     16.0              14  DUB-General   \n",
       "3991 2021-04-02 16:30:03      16     16.0              14  DUB-General   \n",
       "4032 2021-04-02 17:00:02      16     16.0              14  DUB-General   \n",
       "4068 2021-04-02 17:30:03      16     16.0              14  DUB-General   \n",
       "4105 2021-04-02 18:00:03      16     16.0              14  DUB-General   \n",
       "4147 2021-04-02 18:30:02      16     15.0              14  DUB-General   \n",
       "4192 2021-04-02 19:00:03      16     15.0              14  DUB-General   \n",
       "\n",
       "      ebikeprofileid  ebikestateid  isebike  ismotor  issmartlock  \\\n",
       "3949               1             1     True    False        False   \n",
       "3991               1             2     True    False        False   \n",
       "4032               1             2     True    False        False   \n",
       "4068               1             2     True    False        False   \n",
       "4105               1             2     True    False        False   \n",
       "4147               1             2     True    False        False   \n",
       "4192               1             2     True    False        False   \n",
       "\n",
       "             lastgpstime     lastrentalstart  latitude  longitude  spikeid  \n",
       "3949 2021-04-02 15:53:07 2021-04-02 13:00:13    0.0000    0.00000       14  \n",
       "3991 2021-04-02 16:22:57 2021-04-02 13:00:13   53.3433   -6.23877       14  \n",
       "4032 2021-04-02 16:52:57 2021-04-02 13:00:13   53.3432   -6.23865       14  \n",
       "4068 2021-04-02 17:22:57 2021-04-02 13:00:13   53.3432   -6.23817       14  \n",
       "4105 2021-04-02 17:52:57 2021-04-02 13:00:13   53.3432   -6.23846       14  \n",
       "4147 2021-04-02 18:22:57 2021-04-02 13:00:13   53.3433   -6.23877       14  \n",
       "4192 2021-04-02 18:52:57 2021-04-02 13:00:13   53.3433   -6.23875       14  "
      ]
     },
     "execution_count": 13,
     "metadata": {},
     "output_type": "execute_result"
    }
   ],
   "source": [
    "# 2021-04-02 13:00:13\n",
    "nrented_df[nrented_df['lastrentalstart'] == '2021-04-02 13:00:13']"
   ]
  },
  {
   "cell_type": "code",
   "execution_count": 14,
   "id": "b48d89b5",
   "metadata": {},
   "outputs": [
    {
     "data": {
      "text/html": [
       "<div>\n",
       "<style scoped>\n",
       "    .dataframe tbody tr th:only-of-type {\n",
       "        vertical-align: middle;\n",
       "    }\n",
       "\n",
       "    .dataframe tbody tr th {\n",
       "        vertical-align: top;\n",
       "    }\n",
       "\n",
       "    .dataframe thead th {\n",
       "        text-align: right;\n",
       "    }\n",
       "</style>\n",
       "<table border=\"1\" class=\"dataframe\">\n",
       "  <thead>\n",
       "    <tr style=\"text-align: right;\">\n",
       "      <th></th>\n",
       "      <th>harvesttime</th>\n",
       "      <th>bikeid</th>\n",
       "      <th>battery</th>\n",
       "      <th>bikeidentifier</th>\n",
       "      <th>biketypename</th>\n",
       "      <th>ebikeprofileid</th>\n",
       "      <th>ebikestateid</th>\n",
       "      <th>isebike</th>\n",
       "      <th>ismotor</th>\n",
       "      <th>issmartlock</th>\n",
       "      <th>lastgpstime</th>\n",
       "      <th>lastrentalstart</th>\n",
       "      <th>latitude</th>\n",
       "      <th>longitude</th>\n",
       "      <th>spikeid</th>\n",
       "    </tr>\n",
       "  </thead>\n",
       "  <tbody>\n",
       "    <tr>\n",
       "      <th>204652</th>\n",
       "      <td>2022-05-07 09:00:10</td>\n",
       "      <td>48</td>\n",
       "      <td>25.0</td>\n",
       "      <td>45</td>\n",
       "      <td>DUB-General</td>\n",
       "      <td>1</td>\n",
       "      <td>2</td>\n",
       "      <td>True</td>\n",
       "      <td>False</td>\n",
       "      <td>False</td>\n",
       "      <td>2022-05-07 08:59:56</td>\n",
       "      <td>2022-05-07 04:17:41</td>\n",
       "      <td>53.3253</td>\n",
       "      <td>-6.25512</td>\n",
       "      <td>45</td>\n",
       "    </tr>\n",
       "    <tr>\n",
       "      <th>204571</th>\n",
       "      <td>2022-05-07 08:30:04</td>\n",
       "      <td>48</td>\n",
       "      <td>25.0</td>\n",
       "      <td>45</td>\n",
       "      <td>DUB-General</td>\n",
       "      <td>1</td>\n",
       "      <td>2</td>\n",
       "      <td>True</td>\n",
       "      <td>False</td>\n",
       "      <td>False</td>\n",
       "      <td>2022-05-07 08:29:56</td>\n",
       "      <td>2022-05-07 04:17:41</td>\n",
       "      <td>53.3254</td>\n",
       "      <td>-6.25513</td>\n",
       "      <td>45</td>\n",
       "    </tr>\n",
       "    <tr>\n",
       "      <th>204490</th>\n",
       "      <td>2022-05-07 08:00:06</td>\n",
       "      <td>48</td>\n",
       "      <td>25.0</td>\n",
       "      <td>45</td>\n",
       "      <td>DUB-General</td>\n",
       "      <td>1</td>\n",
       "      <td>2</td>\n",
       "      <td>True</td>\n",
       "      <td>False</td>\n",
       "      <td>False</td>\n",
       "      <td>2022-05-07 07:59:57</td>\n",
       "      <td>2022-05-07 04:17:41</td>\n",
       "      <td>53.3254</td>\n",
       "      <td>-6.25511</td>\n",
       "      <td>45</td>\n",
       "    </tr>\n",
       "    <tr>\n",
       "      <th>204409</th>\n",
       "      <td>2022-05-07 07:30:03</td>\n",
       "      <td>48</td>\n",
       "      <td>25.0</td>\n",
       "      <td>45</td>\n",
       "      <td>DUB-General</td>\n",
       "      <td>1</td>\n",
       "      <td>2</td>\n",
       "      <td>True</td>\n",
       "      <td>False</td>\n",
       "      <td>False</td>\n",
       "      <td>2022-05-07 07:29:57</td>\n",
       "      <td>2022-05-07 04:17:41</td>\n",
       "      <td>53.3254</td>\n",
       "      <td>-6.25508</td>\n",
       "      <td>45</td>\n",
       "    </tr>\n",
       "    <tr>\n",
       "      <th>204328</th>\n",
       "      <td>2022-05-07 07:00:05</td>\n",
       "      <td>48</td>\n",
       "      <td>25.0</td>\n",
       "      <td>45</td>\n",
       "      <td>DUB-General</td>\n",
       "      <td>1</td>\n",
       "      <td>5</td>\n",
       "      <td>True</td>\n",
       "      <td>False</td>\n",
       "      <td>False</td>\n",
       "      <td>2022-05-07 06:59:56</td>\n",
       "      <td>2022-05-07 04:17:41</td>\n",
       "      <td>53.3254</td>\n",
       "      <td>-6.25508</td>\n",
       "      <td>45</td>\n",
       "    </tr>\n",
       "  </tbody>\n",
       "</table>\n",
       "</div>"
      ],
      "text/plain": [
       "               harvesttime  bikeid  battery  bikeidentifier biketypename  \\\n",
       "204652 2022-05-07 09:00:10      48     25.0              45  DUB-General   \n",
       "204571 2022-05-07 08:30:04      48     25.0              45  DUB-General   \n",
       "204490 2022-05-07 08:00:06      48     25.0              45  DUB-General   \n",
       "204409 2022-05-07 07:30:03      48     25.0              45  DUB-General   \n",
       "204328 2022-05-07 07:00:05      48     25.0              45  DUB-General   \n",
       "\n",
       "        ebikeprofileid  ebikestateid  isebike  ismotor  issmartlock  \\\n",
       "204652               1             2     True    False        False   \n",
       "204571               1             2     True    False        False   \n",
       "204490               1             2     True    False        False   \n",
       "204409               1             2     True    False        False   \n",
       "204328               1             5     True    False        False   \n",
       "\n",
       "               lastgpstime     lastrentalstart  latitude  longitude  spikeid  \n",
       "204652 2022-05-07 08:59:56 2022-05-07 04:17:41   53.3253   -6.25512       45  \n",
       "204571 2022-05-07 08:29:56 2022-05-07 04:17:41   53.3254   -6.25513       45  \n",
       "204490 2022-05-07 07:59:57 2022-05-07 04:17:41   53.3254   -6.25511       45  \n",
       "204409 2022-05-07 07:29:57 2022-05-07 04:17:41   53.3254   -6.25508       45  \n",
       "204328 2022-05-07 06:59:56 2022-05-07 04:17:41   53.3254   -6.25508       45  "
      ]
     },
     "execution_count": 14,
     "metadata": {},
     "output_type": "execute_result"
    }
   ],
   "source": [
    "bikenotparked_df = historical_data[historical_data['lastrentalstart'].isin(idx_state5)]\n",
    "bikenotparked_df.sort_values(by=['lastrentalstart','lastgpstime'], ascending=False).head()"
   ]
  },
  {
   "cell_type": "markdown",
   "id": "ffafe1f4",
   "metadata": {},
   "source": [
    "We have values with `ebikestateid` == 1 (Warning - is in move and not rented) with only one row and others 'within' a rental that could be due to malfunctioning.\n",
    "\n",
    "If the `ebikestateid` == 5 is present, only a fine will applied to the customer according to the Terms of Services which will not impact the analysis of the rental.\n",
    "\n",
    "When `ebikestateid` == 1, only rows with one `lastrentalstart` will be removed. The logic is that if a bike has state 1 and only one row, the rental didn't start at all."
   ]
  },
  {
   "cell_type": "code",
   "execution_count": 15,
   "id": "bc45e907",
   "metadata": {},
   "outputs": [
    {
     "data": {
      "text/plain": [
       "103"
      ]
     },
     "execution_count": 15,
     "metadata": {},
     "output_type": "execute_result"
    }
   ],
   "source": [
    "# filter out the ones with bike state id 1 and only 1 row\n",
    "not_rented_list = nrented_df.groupby('lastrentalstart').filter(lambda x: len(x) == 1).index.tolist()\n",
    "len(not_rented_list)"
   ]
  },
  {
   "cell_type": "code",
   "execution_count": 16,
   "id": "848562dd",
   "metadata": {},
   "outputs": [
    {
     "data": {
      "text/plain": [
       "103"
      ]
     },
     "execution_count": 16,
     "metadata": {},
     "output_type": "execute_result"
    }
   ],
   "source": [
    "historical_data_clean = historical_data[~historical_data.index.isin(not_rented_list)]\n",
    "historical_data.shape[0] - historical_data_clean.shape[0]"
   ]
  },
  {
   "cell_type": "markdown",
   "id": "965aa1ef",
   "metadata": {},
   "source": [
    "**Sanity check**"
   ]
  },
  {
   "cell_type": "code",
   "execution_count": 17,
   "id": "7144c32d",
   "metadata": {},
   "outputs": [],
   "source": [
    "assert (historical_data.shape[0] - historical_data_clean.shape[0]) == len(not_rented_list), \\\n",
    "    f\"Bike state id logic is wrong. Expected {len(not_rented_list)} rows to be removed, but got {historical_data.shape[0] - historical_data_clean.shape[0]}\""
   ]
  },
  {
   "cell_type": "code",
   "execution_count": 18,
   "id": "b08b43c9",
   "metadata": {},
   "outputs": [
    {
     "data": {
      "text/plain": [
       "DUB-General    1864131\n",
       "Workshop         16379\n",
       "Healthcare        2578\n",
       "Private           1918\n",
       "Name: biketypename, dtype: int64"
      ]
     },
     "execution_count": 18,
     "metadata": {},
     "output_type": "execute_result"
    }
   ],
   "source": [
    "historical_data['biketypename'].value_counts()"
   ]
  },
  {
   "cell_type": "code",
   "execution_count": 19,
   "id": "e1e53c6a",
   "metadata": {},
   "outputs": [],
   "source": [
    "workshop_df = historical_data_clean[historical_data_clean['biketypename'] == 'Workshop']\n",
    "private_df = historical_data_clean[historical_data_clean['biketypename'] == 'Private']\n",
    "healthcare_df = historical_data_clean[historical_data_clean['biketypename'] == 'Healthcare']"
   ]
  },
  {
   "cell_type": "code",
   "execution_count": 20,
   "id": "ee6f5c4d",
   "metadata": {},
   "outputs": [
    {
     "data": {
      "text/plain": [
       "'2020-09-16 to 2022-05-07'"
      ]
     },
     "execution_count": 20,
     "metadata": {},
     "output_type": "execute_result"
    }
   ],
   "source": [
    "date_range = str(workshop_df['lastrentalstart'].dt.date.min()) + ' to ' +str(workshop_df['lastrentalstart'].dt.date.max())\n",
    "date_range"
   ]
  },
  {
   "cell_type": "code",
   "execution_count": 21,
   "id": "dad883d3",
   "metadata": {},
   "outputs": [
    {
     "data": {
      "image/png": "[encoded data removed]",
      "text/plain": [
       "<Figure size 1000x600 with 1 Axes>"
      ]
     },
     "metadata": {
      "needs_background": "light"
     },
     "output_type": "display_data"
    }
   ],
   "source": [
    "workshop_rentals_dt = workshop_df['lastrentalstart'].drop_duplicates()\n",
    "workshop_rentals_dt = workshop_rentals_dt.groupby(workshop_rentals_dt.dt.date).count()\n",
    "fig, ax = plt.subplots(figsize=(10, 6), dpi=100)\n",
    "sns.lineplot(x=workshop_rentals_dt.index, y=workshop_rentals_dt.values, ax=ax, ci=None)\n",
    "ax.set(xlabel='Date', ylabel='Total rentals', title='Workshop rentals')\n",
    "ax.text(datetime(2020,10,20), 7.8, \"Tuesday, October 6, 2020\", fontsize=12, color='red')\n",
    "plt.show()"
   ]
  },
  {
   "cell_type": "code",
   "execution_count": 22,
   "id": "32a60b21",
   "metadata": {},
   "outputs": [
    {
     "data": {
      "image/png": "[encoded data removed]",
      "text/plain": [
       "<Figure size 1000x600 with 1 Axes>"
      ]
     },
     "metadata": {
      "needs_background": "light"
     },
     "output_type": "display_data"
    }
   ],
   "source": [
    "healthcare_df_dt = healthcare_df['lastrentalstart'].drop_duplicates()\n",
    "healthcare_df_dt = healthcare_df_dt.groupby(healthcare_df_dt.dt.date).count()\n",
    "fig, ax = plt.subplots(figsize=(10, 6), dpi=100)\n",
    "sns.pointplot(x=healthcare_df_dt.index, y=healthcare_df_dt.values, ax=ax, ci=None)\n",
    "ax.set(xlabel='Date', ylabel='Total rentals', title='Healthcare rentals')\n",
    "plt.xticks(rotation = 45) # Rotates X-Axis Ticks by 45-degrees\n",
    "plt.show()"
   ]
  },
  {
   "cell_type": "code",
   "execution_count": 23,
   "id": "af957379",
   "metadata": {},
   "outputs": [
    {
     "data": {
      "text/plain": [
       "117    8738\n",
       "48     1917\n",
       "50     1767\n",
       "31     1633\n",
       "23      712\n",
       "94      533\n",
       "52      532\n",
       "95      352\n",
       "58      195\n",
       "Name: bikeid, dtype: int64"
      ]
     },
     "execution_count": 23,
     "metadata": {},
     "output_type": "execute_result"
    }
   ],
   "source": [
    "workshop_df['bikeid'].value_counts()"
   ]
  },
  {
   "cell_type": "code",
   "execution_count": 24,
   "id": "13b8fce4",
   "metadata": {},
   "outputs": [
    {
     "data": {
      "text/plain": [
       "83    1918\n",
       "Name: bikeid, dtype: int64"
      ]
     },
     "execution_count": 24,
     "metadata": {},
     "output_type": "execute_result"
    }
   ],
   "source": [
    "private_df['bikeid'].value_counts()"
   ]
  },
  {
   "cell_type": "code",
   "execution_count": 25,
   "id": "c411a24d",
   "metadata": {},
   "outputs": [
    {
     "data": {
      "text/plain": [
       "48     343\n",
       "9      219\n",
       "42     219\n",
       "74     219\n",
       "85     219\n",
       "118    211\n",
       "12     206\n",
       "6      198\n",
       "102    197\n",
       "109    193\n",
       "69     159\n",
       "26     156\n",
       "86      39\n",
       "Name: bikeid, dtype: int64"
      ]
     },
     "execution_count": 25,
     "metadata": {},
     "output_type": "execute_result"
    }
   ],
   "source": [
    "healthcare_df['bikeid'].value_counts()"
   ]
  },
  {
   "cell_type": "markdown",
   "id": "d1d4f765",
   "metadata": {},
   "source": [
    "Moby has one bike with **ID 83** which seems to be *`Private`* and also different rental types called *`Workshop`* and *`Healthcare`*. Workshop is unknown if bikes were allocated either to an specific event or the workshop is provided by Moby Bikes in order to promote its services, for example. The same rule applies to Healthcare type."
   ]
  },
  {
   "cell_type": "code",
   "execution_count": 26,
   "id": "c8ffc717",
   "metadata": {},
   "outputs": [],
   "source": [
    "general_hist_data = historical_data_clean[historical_data_clean['biketypename'] == 'DUB-General']"
   ]
  },
  {
   "cell_type": "code",
   "execution_count": 27,
   "id": "c7f30dee",
   "metadata": {},
   "outputs": [
    {
     "name": "stdout",
     "output_type": "stream",
     "text": [
      "Private BIKE ID 83: 21476 observations used on DUB-General\n",
      "Workshop BIKE ID 58: 19309 observations used on DUB-General\n",
      "Healthcare BIKE ID 48: 21777 observations used on DUB-General\n"
     ]
    }
   ],
   "source": [
    "print(f'Private BIKE ID 83: {general_hist_data[general_hist_data[\"bikeid\"] == 83].shape[0]} observations used on DUB-General')\n",
    "print(f'Workshop BIKE ID 58: {general_hist_data[general_hist_data[\"bikeid\"] == 58].shape[0]} observations used on DUB-General')\n",
    "print(f'Healthcare BIKE ID 48: {general_hist_data[general_hist_data[\"bikeid\"] == 48].shape[0]} observations used on DUB-General')"
   ]
  },
  {
   "cell_type": "markdown",
   "id": "ec826f69",
   "metadata": {},
   "source": [
    "We can see that the same bike used as *`Private`*, *`Workshop`* and *`Healthcare`* are being used again from regular customers. Also, workshop day do not have a big impact overall as shown the maximum number of rentals was 8 on a Workshop day. \n",
    "\n",
    "Due to the fact that workshop day is unknown (in advance) and its volume on rentals is not significant high, it is not worthy to label a rental as workshop/healthcare (true/false). For the reasons discussed above, the data from those will be removed."
   ]
  },
  {
   "cell_type": "markdown",
   "id": "57a5ebc7",
   "metadata": {},
   "source": [
    "## Battery"
   ]
  },
  {
   "cell_type": "code",
   "execution_count": 28,
   "id": "e7dcad44",
   "metadata": {},
   "outputs": [
    {
     "data": {
      "text/plain": [
       "harvesttime            0\n",
       "bikeid                 0\n",
       "battery            64375\n",
       "bikeidentifier         0\n",
       "biketypename           0\n",
       "ebikeprofileid         0\n",
       "ebikestateid           0\n",
       "isebike                0\n",
       "ismotor                0\n",
       "issmartlock            0\n",
       "lastgpstime            0\n",
       "lastrentalstart        0\n",
       "latitude               0\n",
       "longitude              0\n",
       "spikeid                0\n",
       "dtype: int64"
      ]
     },
     "execution_count": 28,
     "metadata": {},
     "output_type": "execute_result"
    }
   ],
   "source": [
    "battery_hist_df = general_hist_data.copy()\n",
    "battery_hist_df.isnull().sum()"
   ]
  },
  {
   "cell_type": "code",
   "execution_count": 29,
   "id": "522aa635",
   "metadata": {},
   "outputs": [
    {
     "data": {
      "text/html": [
       "<div>\n",
       "<style scoped>\n",
       "    .dataframe tbody tr th:only-of-type {\n",
       "        vertical-align: middle;\n",
       "    }\n",
       "\n",
       "    .dataframe tbody tr th {\n",
       "        vertical-align: top;\n",
       "    }\n",
       "\n",
       "    .dataframe thead th {\n",
       "        text-align: right;\n",
       "    }\n",
       "</style>\n",
       "<table border=\"1\" class=\"dataframe\">\n",
       "  <thead>\n",
       "    <tr style=\"text-align: right;\">\n",
       "      <th></th>\n",
       "      <th>harvesttime</th>\n",
       "      <th>bikeid</th>\n",
       "      <th>battery</th>\n",
       "      <th>bikeidentifier</th>\n",
       "      <th>biketypename</th>\n",
       "      <th>ebikeprofileid</th>\n",
       "      <th>ebikestateid</th>\n",
       "      <th>isebike</th>\n",
       "      <th>ismotor</th>\n",
       "      <th>issmartlock</th>\n",
       "      <th>lastgpstime</th>\n",
       "      <th>lastrentalstart</th>\n",
       "      <th>latitude</th>\n",
       "      <th>longitude</th>\n",
       "      <th>spikeid</th>\n",
       "    </tr>\n",
       "  </thead>\n",
       "  <tbody>\n",
       "    <tr>\n",
       "      <th>5908</th>\n",
       "      <td>2021-04-03 13:00:02</td>\n",
       "      <td>103</td>\n",
       "      <td>268.0</td>\n",
       "      <td>102</td>\n",
       "      <td>DUB-General</td>\n",
       "      <td>1</td>\n",
       "      <td>2</td>\n",
       "      <td>True</td>\n",
       "      <td>False</td>\n",
       "      <td>False</td>\n",
       "      <td>2021-04-03 12:55:11</td>\n",
       "      <td>2021-04-03 12:40:00</td>\n",
       "      <td>53.3405</td>\n",
       "      <td>-6.2679</td>\n",
       "      <td>102</td>\n",
       "    </tr>\n",
       "  </tbody>\n",
       "</table>\n",
       "</div>"
      ],
      "text/plain": [
       "             harvesttime  bikeid  battery  bikeidentifier biketypename  \\\n",
       "5908 2021-04-03 13:00:02     103    268.0             102  DUB-General   \n",
       "\n",
       "      ebikeprofileid  ebikestateid  isebike  ismotor  issmartlock  \\\n",
       "5908               1             2     True    False        False   \n",
       "\n",
       "             lastgpstime     lastrentalstart  latitude  longitude  spikeid  \n",
       "5908 2021-04-03 12:55:11 2021-04-03 12:40:00   53.3405    -6.2679      102  "
      ]
     },
     "execution_count": 29,
     "metadata": {},
     "output_type": "execute_result"
    }
   ],
   "source": [
    "battery_hist_df.loc[battery_hist_df['battery'] > 100]"
   ]
  },
  {
   "cell_type": "markdown",
   "id": "3d39c288",
   "metadata": {},
   "source": [
    "From the battery records there is a few cases that we can consider. Only one record has ` battery > 100` and a few negatives ones. To simplify the analysis the records will be normalized with values between `0 > x > 100`.\n",
    "\n",
    "All missing values will not be transformed as it could be only malfunction issue when transmiting the data and it could mislead the analysis."
   ]
  },
  {
   "cell_type": "code",
   "execution_count": 30,
   "id": "d356edcd",
   "metadata": {},
   "outputs": [],
   "source": [
    "battery_hist_df.loc[battery_hist_df['battery'] > 100, 'battery'] = 100"
   ]
  },
  {
   "cell_type": "code",
   "execution_count": 31,
   "id": "850e101d",
   "metadata": {},
   "outputs": [
    {
     "data": {
      "text/plain": [
       "34825"
      ]
     },
     "execution_count": 31,
     "metadata": {},
     "output_type": "execute_result"
    }
   ],
   "source": [
    "negatives_b = battery_hist_df.loc[battery_hist_df['battery'] < 0]\n",
    "negatives_b.shape[0]"
   ]
  },
  {
   "cell_type": "markdown",
   "id": "43625344",
   "metadata": {},
   "source": [
    "There are lots of negative/missing battery information as well as Latitude/Longitude. Because we are not using battery information for modeling, this feature won't be handled for now. All Latitude/Longitude with 0 will be replace as NaN.\n",
    "\n",
    "When grouping the data all the historical info for these two features will be stored as lists."
   ]
  },
  {
   "cell_type": "code",
   "execution_count": 32,
   "id": "c8f4b658",
   "metadata": {},
   "outputs": [],
   "source": [
    "# Transforming null values and negative battery values to -1\n",
    "battery_hist_df['battery'].fillna(-1, inplace=True)\n",
    "battery_hist_df.loc[battery_hist_df['battery'] < 0, 'battery'] = -1"
   ]
  },
  {
   "cell_type": "code",
   "execution_count": 33,
   "id": "f0aced26",
   "metadata": {},
   "outputs": [
    {
     "name": "stdout",
     "output_type": "stream",
     "text": [
      "Previous # of negative battery values: 34825\n",
      "# of negative values after transformation: 99200\n",
      "Difference: 64375\n"
     ]
    }
   ],
   "source": [
    "negatives_b_n = battery_hist_df.loc[battery_hist_df['battery'] < 0]\n",
    "print(f'Previous # of negative battery values: {negatives_b.shape[0]}')\n",
    "print(f'# of negative values after transformation: {negatives_b_n.shape[0]}')\n",
    "print(f'Difference: {negatives_b_n.shape[0]-negatives_b.shape[0]}')"
   ]
  },
  {
   "cell_type": "code",
   "execution_count": 34,
   "id": "5d8a72e6",
   "metadata": {},
   "outputs": [
    {
     "data": {
      "text/plain": [
       "(1864028, 6)"
      ]
     },
     "execution_count": 34,
     "metadata": {},
     "output_type": "execute_result"
    }
   ],
   "source": [
    "rentals = battery_hist_df.copy()\n",
    "columns_to_drop = ['harvesttime','bikeidentifier','biketypename','ebikeprofileid',\n",
    "                   'ebikestateid','isebike','ismotor','issmartlock','spikeid']\n",
    "rentals.drop(columns_to_drop, axis=1, inplace=True)\n",
    "rentals.shape"
   ]
  },
  {
   "cell_type": "markdown",
   "id": "81ef39dc",
   "metadata": {},
   "source": [
    "### Grouping Rentals"
   ]
  },
  {
   "cell_type": "code",
   "execution_count": 35,
   "id": "7d6e317c",
   "metadata": {},
   "outputs": [],
   "source": [
    "def group_as_list(x):\n",
    "    d = {'coordinates': x[['latitude','longitude']].values.tolist()}\n",
    "    d['battery'] = list(x['battery']) # battery chronology, inverting it because it's in descending order\n",
    "    d['lastgpstime'] = list(x['lastgpstime'])[0] # get the last gpstime (previously sorted)\n",
    "\n",
    "    return pd.Series(d, index=['coordinates', 'battery', 'lastgpstime'])\n",
    "\n",
    "# also sorting data by lastgpstime\n",
    "grouped_rentals = rentals.sort_values(\"lastgpstime\", ascending=False).groupby(['lastrentalstart', 'bikeid']).apply(group_as_list).reset_index()"
   ]
  },
  {
   "cell_type": "code",
   "execution_count": 36,
   "id": "e54f830e",
   "metadata": {},
   "outputs": [
    {
     "data": {
      "text/html": [
       "<div>\n",
       "<style scoped>\n",
       "    .dataframe tbody tr th:only-of-type {\n",
       "        vertical-align: middle;\n",
       "    }\n",
       "\n",
       "    .dataframe tbody tr th {\n",
       "        vertical-align: top;\n",
       "    }\n",
       "\n",
       "    .dataframe thead th {\n",
       "        text-align: right;\n",
       "    }\n",
       "</style>\n",
       "<table border=\"1\" class=\"dataframe\">\n",
       "  <thead>\n",
       "    <tr style=\"text-align: right;\">\n",
       "      <th></th>\n",
       "      <th>lastrentalstart</th>\n",
       "      <th>bikeid</th>\n",
       "      <th>coordinates</th>\n",
       "      <th>battery</th>\n",
       "      <th>lastgpstime</th>\n",
       "    </tr>\n",
       "  </thead>\n",
       "  <tbody>\n",
       "    <tr>\n",
       "      <th>53659</th>\n",
       "      <td>2022-05-07 10:20:31</td>\n",
       "      <td>53</td>\n",
       "      <td>[[53.3119, -6.2748], [0.0, 0.0]]</td>\n",
       "      <td>[90.0, 90.0]</td>\n",
       "      <td>2022-05-07 11:14:12</td>\n",
       "    </tr>\n",
       "    <tr>\n",
       "      <th>53660</th>\n",
       "      <td>2022-05-07 10:31:31</td>\n",
       "      <td>55</td>\n",
       "      <td>[[53.3854, -6.25756], [53.3857, -6.25751]]</td>\n",
       "      <td>[57.0, 61.0]</td>\n",
       "      <td>2022-05-07 11:20:32</td>\n",
       "    </tr>\n",
       "    <tr>\n",
       "      <th>53661</th>\n",
       "      <td>2022-05-07 10:33:59</td>\n",
       "      <td>35</td>\n",
       "      <td>[[53.3091, -6.21635], [53.3091, -6.21633]]</td>\n",
       "      <td>[80.0, 80.0]</td>\n",
       "      <td>2022-05-07 11:13:08</td>\n",
       "    </tr>\n",
       "    <tr>\n",
       "      <th>53662</th>\n",
       "      <td>2022-05-07 10:45:49</td>\n",
       "      <td>12</td>\n",
       "      <td>[[53.3208, -6.2854], [0.0, 0.0]]</td>\n",
       "      <td>[92.0, 92.0]</td>\n",
       "      <td>2022-05-07 11:26:58</td>\n",
       "    </tr>\n",
       "    <tr>\n",
       "      <th>53663</th>\n",
       "      <td>2022-05-07 11:17:01</td>\n",
       "      <td>58</td>\n",
       "      <td>[[0.0, 0.0]]</td>\n",
       "      <td>[43.0]</td>\n",
       "      <td>2022-05-07 11:07:30</td>\n",
       "    </tr>\n",
       "  </tbody>\n",
       "</table>\n",
       "</div>"
      ],
      "text/plain": [
       "          lastrentalstart  bikeid                                 coordinates  \\\n",
       "53659 2022-05-07 10:20:31      53            [[53.3119, -6.2748], [0.0, 0.0]]   \n",
       "53660 2022-05-07 10:31:31      55  [[53.3854, -6.25756], [53.3857, -6.25751]]   \n",
       "53661 2022-05-07 10:33:59      35  [[53.3091, -6.21635], [53.3091, -6.21633]]   \n",
       "53662 2022-05-07 10:45:49      12            [[53.3208, -6.2854], [0.0, 0.0]]   \n",
       "53663 2022-05-07 11:17:01      58                                [[0.0, 0.0]]   \n",
       "\n",
       "            battery         lastgpstime  \n",
       "53659  [90.0, 90.0] 2022-05-07 11:14:12  \n",
       "53660  [57.0, 61.0] 2022-05-07 11:20:32  \n",
       "53661  [80.0, 80.0] 2022-05-07 11:13:08  \n",
       "53662  [92.0, 92.0] 2022-05-07 11:26:58  \n",
       "53663        [43.0] 2022-05-07 11:07:30  "
      ]
     },
     "execution_count": 36,
     "metadata": {},
     "output_type": "execute_result"
    }
   ],
   "source": [
    "grouped_rentals.tail()"
   ]
  },
  {
   "cell_type": "code",
   "execution_count": 37,
   "id": "601c8c57",
   "metadata": {},
   "outputs": [],
   "source": [
    "def get_valid_battery(battery_list):\n",
    "    '''\n",
    "    Iterate the battery list and return the first valid battery value. The battery list is in descending order.\n",
    "    '''\n",
    "    return next((item for item in reversed(battery_list) if item > 0), -1)\n",
    "\n",
    "grouped_rentals['start_battery'] = grouped_rentals['battery'].apply(get_valid_battery) # get the first battery value"
   ]
  },
  {
   "cell_type": "code",
   "execution_count": 38,
   "id": "5d4122b6",
   "metadata": {},
   "outputs": [
    {
     "data": {
      "text/plain": [
       "(53664, 6)"
      ]
     },
     "execution_count": 38,
     "metadata": {},
     "output_type": "execute_result"
    }
   ],
   "source": [
    "grouped_rentals.to_csv('../data/interim/rentals.csv', index=False)\n",
    "grouped_rentals.shape"
   ]
  },
  {
   "cell_type": "markdown",
   "id": "4c6630f2",
   "metadata": {},
   "source": [
    "<a id=\"1.2\"></a>\n",
    "## Weather Data - Met Éireann"
   ]
  },
  {
   "cell_type": "markdown",
   "id": "c6b31d46",
   "metadata": {},
   "source": [
    "Regarding the weather data there are two important decisions to deal with.\n",
    "\n",
    "- One is about from **which station** the **historical data will be collected**;\n",
    "-  and the other one is about the **frequency of data**, which can be **hourly or daily**."
   ]
  },
  {
   "cell_type": "markdown",
   "id": "89830979",
   "metadata": {},
   "source": [
    "### Station Name: **PHOENIX PARK**"
   ]
  },
  {
   "cell_type": "code",
   "execution_count": 39,
   "id": "19cde297",
   "metadata": {},
   "outputs": [
    {
     "data": {
      "text/html": [
       "<div>\n",
       "<style scoped>\n",
       "    .dataframe tbody tr th:only-of-type {\n",
       "        vertical-align: middle;\n",
       "    }\n",
       "\n",
       "    .dataframe tbody tr th {\n",
       "        vertical-align: top;\n",
       "    }\n",
       "\n",
       "    .dataframe thead th {\n",
       "        text-align: right;\n",
       "    }\n",
       "</style>\n",
       "<table border=\"1\" class=\"dataframe\">\n",
       "  <thead>\n",
       "    <tr style=\"text-align: right;\">\n",
       "      <th></th>\n",
       "      <th>date</th>\n",
       "      <th>ind</th>\n",
       "      <th>rain</th>\n",
       "      <th>ind.1</th>\n",
       "      <th>temp</th>\n",
       "      <th>ind.2</th>\n",
       "      <th>wetb</th>\n",
       "      <th>dewpt</th>\n",
       "      <th>vappr</th>\n",
       "      <th>rhum</th>\n",
       "      <th>msl</th>\n",
       "    </tr>\n",
       "  </thead>\n",
       "  <tbody>\n",
       "    <tr>\n",
       "      <th>0</th>\n",
       "      <td>16-aug-2003 01:00</td>\n",
       "      <td>0</td>\n",
       "      <td>0.0</td>\n",
       "      <td>0</td>\n",
       "      <td>9.2</td>\n",
       "      <td>0</td>\n",
       "      <td>8.9</td>\n",
       "      <td>8.5</td>\n",
       "      <td>11.1</td>\n",
       "      <td>95</td>\n",
       "      <td>1021.9</td>\n",
       "    </tr>\n",
       "    <tr>\n",
       "      <th>1</th>\n",
       "      <td>16-aug-2003 02:00</td>\n",
       "      <td>0</td>\n",
       "      <td>0.0</td>\n",
       "      <td>0</td>\n",
       "      <td>9.0</td>\n",
       "      <td>0</td>\n",
       "      <td>8.7</td>\n",
       "      <td>8.5</td>\n",
       "      <td>11.1</td>\n",
       "      <td>96</td>\n",
       "      <td>1021.7</td>\n",
       "    </tr>\n",
       "    <tr>\n",
       "      <th>2</th>\n",
       "      <td>16-aug-2003 03:00</td>\n",
       "      <td>0</td>\n",
       "      <td>0.0</td>\n",
       "      <td>0</td>\n",
       "      <td>8.2</td>\n",
       "      <td>0</td>\n",
       "      <td>8.0</td>\n",
       "      <td>7.7</td>\n",
       "      <td>10.5</td>\n",
       "      <td>96</td>\n",
       "      <td>1021.2</td>\n",
       "    </tr>\n",
       "    <tr>\n",
       "      <th>3</th>\n",
       "      <td>16-aug-2003 04:00</td>\n",
       "      <td>0</td>\n",
       "      <td>0.0</td>\n",
       "      <td>0</td>\n",
       "      <td>8.4</td>\n",
       "      <td>0</td>\n",
       "      <td>8.1</td>\n",
       "      <td>7.9</td>\n",
       "      <td>10.7</td>\n",
       "      <td>97</td>\n",
       "      <td>1021.2</td>\n",
       "    </tr>\n",
       "    <tr>\n",
       "      <th>4</th>\n",
       "      <td>16-aug-2003 05:00</td>\n",
       "      <td>0</td>\n",
       "      <td>0.0</td>\n",
       "      <td>0</td>\n",
       "      <td>7.7</td>\n",
       "      <td>0</td>\n",
       "      <td>7.5</td>\n",
       "      <td>7.3</td>\n",
       "      <td>10.2</td>\n",
       "      <td>97</td>\n",
       "      <td>1021.1</td>\n",
       "    </tr>\n",
       "  </tbody>\n",
       "</table>\n",
       "</div>"
      ],
      "text/plain": [
       "                date  ind rain  ind.1 temp  ind.2 wetb dewpt vappr rhum  \\\n",
       "0  16-aug-2003 01:00    0  0.0      0  9.2      0  8.9   8.5  11.1   95   \n",
       "1  16-aug-2003 02:00    0  0.0      0  9.0      0  8.7   8.5  11.1   96   \n",
       "2  16-aug-2003 03:00    0  0.0      0  8.2      0  8.0   7.7  10.5   96   \n",
       "3  16-aug-2003 04:00    0  0.0      0  8.4      0  8.1   7.9  10.7   97   \n",
       "4  16-aug-2003 05:00    0  0.0      0  7.7      0  7.5   7.3  10.2   97   \n",
       "\n",
       "      msl  \n",
       "0  1021.9  \n",
       "1  1021.7  \n",
       "2  1021.2  \n",
       "3  1021.2  \n",
       "4  1021.1  "
      ]
     },
     "execution_count": 39,
     "metadata": {},
     "output_type": "execute_result"
    }
   ],
   "source": [
    "# Hourly data from Phoenix Park Station\n",
    "phoenixpark_weather_hourly = pd.read_csv('../data/raw/hly175.csv', low_memory=False)\n",
    "phoenixpark_weather_hourly.head()"
   ]
  },
  {
   "cell_type": "markdown",
   "id": "d564ec60",
   "metadata": {},
   "source": [
    "Source: [https://data.gov.ie/dataset/phoenix-park-hourly-data](https://data.gov.ie/dataset/phoenix-park-hourly-data)"
   ]
  },
  {
   "cell_type": "code",
   "execution_count": 40,
   "id": "116806c8",
   "metadata": {},
   "outputs": [
    {
     "data": {
      "text/html": [
       "<div>\n",
       "<style scoped>\n",
       "    .dataframe tbody tr th:only-of-type {\n",
       "        vertical-align: middle;\n",
       "    }\n",
       "\n",
       "    .dataframe tbody tr th {\n",
       "        vertical-align: top;\n",
       "    }\n",
       "\n",
       "    .dataframe thead th {\n",
       "        text-align: right;\n",
       "    }\n",
       "</style>\n",
       "<table border=\"1\" class=\"dataframe\">\n",
       "  <thead>\n",
       "    <tr style=\"text-align: right;\">\n",
       "      <th></th>\n",
       "      <th>date</th>\n",
       "      <th>ind</th>\n",
       "      <th>maxtp</th>\n",
       "      <th>ind.1</th>\n",
       "      <th>mintp</th>\n",
       "      <th>igmin</th>\n",
       "      <th>gmin</th>\n",
       "      <th>ind.2</th>\n",
       "      <th>rain</th>\n",
       "      <th>cbl</th>\n",
       "      <th>soil</th>\n",
       "    </tr>\n",
       "  </thead>\n",
       "  <tbody>\n",
       "    <tr>\n",
       "      <th>0</th>\n",
       "      <td>16-aug-2003</td>\n",
       "      <td>0</td>\n",
       "      <td>20.1</td>\n",
       "      <td>0</td>\n",
       "      <td>7.5</td>\n",
       "      <td>4</td>\n",
       "      <td></td>\n",
       "      <td>0</td>\n",
       "      <td>0.0</td>\n",
       "      <td>1013.7</td>\n",
       "      <td>18.565</td>\n",
       "    </tr>\n",
       "    <tr>\n",
       "      <th>1</th>\n",
       "      <td>17-aug-2003</td>\n",
       "      <td>0</td>\n",
       "      <td>21.3</td>\n",
       "      <td>0</td>\n",
       "      <td>11.6</td>\n",
       "      <td>0</td>\n",
       "      <td>7.5</td>\n",
       "      <td>0</td>\n",
       "      <td>1.1</td>\n",
       "      <td>1007.5</td>\n",
       "      <td>18.280</td>\n",
       "    </tr>\n",
       "    <tr>\n",
       "      <th>2</th>\n",
       "      <td>18-aug-2003</td>\n",
       "      <td>0</td>\n",
       "      <td>20.3</td>\n",
       "      <td>0</td>\n",
       "      <td>8.5</td>\n",
       "      <td>0</td>\n",
       "      <td>4.3</td>\n",
       "      <td>0</td>\n",
       "      <td>0.0</td>\n",
       "      <td>1008.8</td>\n",
       "      <td>17.825</td>\n",
       "    </tr>\n",
       "    <tr>\n",
       "      <th>3</th>\n",
       "      <td>19-aug-2003</td>\n",
       "      <td>0</td>\n",
       "      <td>19.9</td>\n",
       "      <td>0</td>\n",
       "      <td>11.3</td>\n",
       "      <td>0</td>\n",
       "      <td>7.7</td>\n",
       "      <td>0</td>\n",
       "      <td>0.0</td>\n",
       "      <td>1014.3</td>\n",
       "      <td>18.138</td>\n",
       "    </tr>\n",
       "    <tr>\n",
       "      <th>4</th>\n",
       "      <td>20-aug-2003</td>\n",
       "      <td>0</td>\n",
       "      <td>21.5</td>\n",
       "      <td>0</td>\n",
       "      <td>10.8</td>\n",
       "      <td>0</td>\n",
       "      <td>6.9</td>\n",
       "      <td>0</td>\n",
       "      <td>0.0</td>\n",
       "      <td>1013.6</td>\n",
       "      <td>18.432</td>\n",
       "    </tr>\n",
       "  </tbody>\n",
       "</table>\n",
       "</div>"
      ],
      "text/plain": [
       "          date  ind maxtp  ind.1 mintp igmin gmin ind.2 rain     cbl    soil\n",
       "0  16-aug-2003    0  20.1      0   7.5     4          0  0.0  1013.7  18.565\n",
       "1  17-aug-2003    0  21.3      0  11.6     0  7.5     0  1.1  1007.5  18.280\n",
       "2  18-aug-2003    0  20.3      0   8.5     0  4.3     0  0.0  1008.8  17.825\n",
       "3  19-aug-2003    0  19.9      0  11.3     0  7.7     0  0.0  1014.3  18.138\n",
       "4  20-aug-2003    0  21.5      0  10.8     0  6.9     0  0.0  1013.6  18.432"
      ]
     },
     "execution_count": 40,
     "metadata": {},
     "output_type": "execute_result"
    }
   ],
   "source": [
    "# Daily data from Phoenix Park Station\n",
    "phoenixpark_weather_daily = pd.read_csv('../data/raw/dly175.csv')\n",
    "phoenixpark_weather_daily.head()"
   ]
  },
  {
   "cell_type": "markdown",
   "id": "dc6f5bff",
   "metadata": {},
   "source": [
    "Source: [https://data.gov.ie/dataset/phoenixpark-daily-data](https://data.gov.ie/dataset/phoenixpark-daily-data)"
   ]
  },
  {
   "cell_type": "markdown",
   "id": "b81d825e",
   "metadata": {},
   "source": [
    "### Station Name: **DUBLIN AIRPORT**"
   ]
  },
  {
   "cell_type": "code",
   "execution_count": 41,
   "id": "9ec59eb3",
   "metadata": {},
   "outputs": [
    {
     "data": {
      "text/html": [
       "<div>\n",
       "<style scoped>\n",
       "    .dataframe tbody tr th:only-of-type {\n",
       "        vertical-align: middle;\n",
       "    }\n",
       "\n",
       "    .dataframe tbody tr th {\n",
       "        vertical-align: top;\n",
       "    }\n",
       "\n",
       "    .dataframe thead th {\n",
       "        text-align: right;\n",
       "    }\n",
       "</style>\n",
       "<table border=\"1\" class=\"dataframe\">\n",
       "  <thead>\n",
       "    <tr style=\"text-align: right;\">\n",
       "      <th></th>\n",
       "      <th>date</th>\n",
       "      <th>ind</th>\n",
       "      <th>rain</th>\n",
       "      <th>ind.1</th>\n",
       "      <th>temp</th>\n",
       "      <th>ind.2</th>\n",
       "      <th>wetb</th>\n",
       "      <th>dewpt</th>\n",
       "      <th>vappr</th>\n",
       "      <th>rhum</th>\n",
       "      <th>...</th>\n",
       "      <th>ind.3</th>\n",
       "      <th>wdsp</th>\n",
       "      <th>ind.4</th>\n",
       "      <th>wddir</th>\n",
       "      <th>ww</th>\n",
       "      <th>w</th>\n",
       "      <th>sun</th>\n",
       "      <th>vis</th>\n",
       "      <th>clht</th>\n",
       "      <th>clamt</th>\n",
       "    </tr>\n",
       "  </thead>\n",
       "  <tbody>\n",
       "    <tr>\n",
       "      <th>0</th>\n",
       "      <td>1992-01-01 00:00:00</td>\n",
       "      <td>0</td>\n",
       "      <td>0.0</td>\n",
       "      <td>0</td>\n",
       "      <td>8.4</td>\n",
       "      <td>0</td>\n",
       "      <td>6.6</td>\n",
       "      <td>4.3</td>\n",
       "      <td>8.3</td>\n",
       "      <td>75</td>\n",
       "      <td>...</td>\n",
       "      <td>2</td>\n",
       "      <td>23</td>\n",
       "      <td>2</td>\n",
       "      <td>210</td>\n",
       "      <td>2</td>\n",
       "      <td>11</td>\n",
       "      <td>0.0</td>\n",
       "      <td>25000</td>\n",
       "      <td>999</td>\n",
       "      <td>3</td>\n",
       "    </tr>\n",
       "    <tr>\n",
       "      <th>1</th>\n",
       "      <td>1992-01-01 01:00:00</td>\n",
       "      <td>0</td>\n",
       "      <td>0.0</td>\n",
       "      <td>0</td>\n",
       "      <td>8.6</td>\n",
       "      <td>0</td>\n",
       "      <td>6.6</td>\n",
       "      <td>4.0</td>\n",
       "      <td>8.1</td>\n",
       "      <td>73</td>\n",
       "      <td>...</td>\n",
       "      <td>2</td>\n",
       "      <td>23</td>\n",
       "      <td>2</td>\n",
       "      <td>220</td>\n",
       "      <td>2</td>\n",
       "      <td>11</td>\n",
       "      <td>0.0</td>\n",
       "      <td>25000</td>\n",
       "      <td>100</td>\n",
       "      <td>6</td>\n",
       "    </tr>\n",
       "    <tr>\n",
       "      <th>2</th>\n",
       "      <td>1992-01-01 02:00:00</td>\n",
       "      <td>0</td>\n",
       "      <td>0.0</td>\n",
       "      <td>0</td>\n",
       "      <td>9.0</td>\n",
       "      <td>0</td>\n",
       "      <td>7.0</td>\n",
       "      <td>4.5</td>\n",
       "      <td>8.4</td>\n",
       "      <td>73</td>\n",
       "      <td>...</td>\n",
       "      <td>2</td>\n",
       "      <td>22</td>\n",
       "      <td>2</td>\n",
       "      <td>220</td>\n",
       "      <td>2</td>\n",
       "      <td>11</td>\n",
       "      <td>0.0</td>\n",
       "      <td>25000</td>\n",
       "      <td>100</td>\n",
       "      <td>6</td>\n",
       "    </tr>\n",
       "    <tr>\n",
       "      <th>3</th>\n",
       "      <td>1992-01-01 03:00:00</td>\n",
       "      <td>0</td>\n",
       "      <td>0.0</td>\n",
       "      <td>0</td>\n",
       "      <td>9.5</td>\n",
       "      <td>0</td>\n",
       "      <td>7.4</td>\n",
       "      <td>4.8</td>\n",
       "      <td>8.6</td>\n",
       "      <td>73</td>\n",
       "      <td>...</td>\n",
       "      <td>2</td>\n",
       "      <td>22</td>\n",
       "      <td>2</td>\n",
       "      <td>220</td>\n",
       "      <td>2</td>\n",
       "      <td>11</td>\n",
       "      <td>0.0</td>\n",
       "      <td>25000</td>\n",
       "      <td>25</td>\n",
       "      <td>6</td>\n",
       "    </tr>\n",
       "    <tr>\n",
       "      <th>4</th>\n",
       "      <td>1992-01-01 04:00:00</td>\n",
       "      <td>0</td>\n",
       "      <td>0.0</td>\n",
       "      <td>0</td>\n",
       "      <td>9.5</td>\n",
       "      <td>0</td>\n",
       "      <td>7.4</td>\n",
       "      <td>4.8</td>\n",
       "      <td>8.6</td>\n",
       "      <td>73</td>\n",
       "      <td>...</td>\n",
       "      <td>2</td>\n",
       "      <td>23</td>\n",
       "      <td>2</td>\n",
       "      <td>230</td>\n",
       "      <td>2</td>\n",
       "      <td>11</td>\n",
       "      <td>0.0</td>\n",
       "      <td>25000</td>\n",
       "      <td>25</td>\n",
       "      <td>6</td>\n",
       "    </tr>\n",
       "  </tbody>\n",
       "</table>\n",
       "<p>5 rows × 21 columns</p>\n",
       "</div>"
      ],
      "text/plain": [
       "                 date  ind  rain  ind.1  temp  ind.2  wetb  dewpt vappr rhum  \\\n",
       "0 1992-01-01 00:00:00    0   0.0      0   8.4      0   6.6    4.3   8.3   75   \n",
       "1 1992-01-01 01:00:00    0   0.0      0   8.6      0   6.6    4.0   8.1   73   \n",
       "2 1992-01-01 02:00:00    0   0.0      0   9.0      0   7.0    4.5   8.4   73   \n",
       "3 1992-01-01 03:00:00    0   0.0      0   9.5      0   7.4    4.8   8.6   73   \n",
       "4 1992-01-01 04:00:00    0   0.0      0   9.5      0   7.4    4.8   8.6   73   \n",
       "\n",
       "   ...  ind.3  wdsp  ind.4  wddir ww   w  sun    vis  clht  clamt  \n",
       "0  ...      2    23      2    210  2  11  0.0  25000   999      3  \n",
       "1  ...      2    23      2    220  2  11  0.0  25000   100      6  \n",
       "2  ...      2    22      2    220  2  11  0.0  25000   100      6  \n",
       "3  ...      2    22      2    220  2  11  0.0  25000    25      6  \n",
       "4  ...      2    23      2    230  2  11  0.0  25000    25      6  \n",
       "\n",
       "[5 rows x 21 columns]"
      ]
     },
     "execution_count": 41,
     "metadata": {},
     "output_type": "execute_result"
    }
   ],
   "source": [
    "# Hourly data from Dublin Airport Station\n",
    "dublin_airport_weather_hourly = pd.read_csv('../data/raw/hly532.csv', low_memory=False, parse_dates=['date'])\n",
    "dublin_airport_weather_hourly.head()"
   ]
  },
  {
   "cell_type": "code",
   "execution_count": 42,
   "id": "d17b0c7a",
   "metadata": {},
   "outputs": [
    {
     "name": "stdout",
     "output_type": "stream",
     "text": [
      "Total number of rows: 265873\n"
     ]
    }
   ],
   "source": [
    "print(f'Total number of rows: {dublin_airport_weather_hourly.shape[0]}')"
   ]
  },
  {
   "cell_type": "markdown",
   "id": "0b98158f",
   "metadata": {},
   "source": [
    "Source: [https://data.gov.ie/dataset/dublin-airport-hourly-data](https://data.gov.ie/dataset/dublin-airport-hourly-data)"
   ]
  },
  {
   "cell_type": "markdown",
   "id": "affdd58c",
   "metadata": {},
   "source": [
    "### Phoenix Park Station vs Dublin Aiport Station\n",
    "Geographically, the station at Phoenix Park would be the most suitable choice but unfortunately, they do not collect Wind information which in Ireland plays an important role when deciding to go cycling or not. For those who are not familiar with Irish weather, it rains a lot and mostly we do not have much choice about it but the wind is something that can prevent you go outside or choosing a different kind of transportation. Heavy rain is not that common, though.\n",
    "\n",
    "### Hourly vs Daily data\n",
    "A daily data to the business could make more sense but because the weather is so unpredictable in Ireland (it can completely change in an hour), the best option would be hourly data if looking at a historical perspective. Important to note that from the Weather API the forecast is provided hourly. For simplicity and better planning, we can always aggregate the predicted results by day."
   ]
  },
  {
   "cell_type": "code",
   "execution_count": 43,
   "id": "5c7e902e",
   "metadata": {},
   "outputs": [
    {
     "name": "stdout",
     "output_type": "stream",
     "text": [
      "<class 'pandas.core.frame.DataFrame'>\n",
      "RangeIndex: 265873 entries, 0 to 265872\n",
      "Data columns (total 21 columns):\n",
      " #   Column  Non-Null Count   Dtype         \n",
      "---  ------  --------------   -----         \n",
      " 0   date    265873 non-null  datetime64[ns]\n",
      " 1   ind     265873 non-null  int64         \n",
      " 2   rain    265873 non-null  float64       \n",
      " 3   ind.1   265873 non-null  int64         \n",
      " 4   temp    265873 non-null  float64       \n",
      " 5   ind.2   265873 non-null  int64         \n",
      " 6   wetb    265873 non-null  float64       \n",
      " 7   dewpt   265873 non-null  float64       \n",
      " 8   vappr   265873 non-null  object        \n",
      " 9   rhum    265873 non-null  object        \n",
      " 10  msl     265873 non-null  float64       \n",
      " 11  ind.3   265873 non-null  int64         \n",
      " 12  wdsp    265873 non-null  int64         \n",
      " 13  ind.4   265873 non-null  int64         \n",
      " 14  wddir   265873 non-null  object        \n",
      " 15  ww      265873 non-null  int64         \n",
      " 16  w       265873 non-null  int64         \n",
      " 17  sun     265873 non-null  float64       \n",
      " 18  vis     265873 non-null  int64         \n",
      " 19  clht    265873 non-null  int64         \n",
      " 20  clamt   265873 non-null  int64         \n",
      "dtypes: datetime64[ns](1), float64(6), int64(11), object(3)\n",
      "memory usage: 42.6+ MB\n"
     ]
    }
   ],
   "source": [
    "dublin_airport_weather_hourly.info()"
   ]
  },
  {
   "cell_type": "code",
   "execution_count": 44,
   "id": "d89adbde",
   "metadata": {},
   "outputs": [
    {
     "data": {
      "text/html": [
       "<div>\n",
       "<style scoped>\n",
       "    .dataframe tbody tr th:only-of-type {\n",
       "        vertical-align: middle;\n",
       "    }\n",
       "\n",
       "    .dataframe tbody tr th {\n",
       "        vertical-align: top;\n",
       "    }\n",
       "\n",
       "    .dataframe thead th {\n",
       "        text-align: right;\n",
       "    }\n",
       "</style>\n",
       "<table border=\"1\" class=\"dataframe\">\n",
       "  <thead>\n",
       "    <tr style=\"text-align: right;\">\n",
       "      <th></th>\n",
       "      <th>date</th>\n",
       "      <th>ind</th>\n",
       "      <th>rain</th>\n",
       "      <th>ind.1</th>\n",
       "      <th>temp</th>\n",
       "      <th>ind.2</th>\n",
       "      <th>wetb</th>\n",
       "      <th>dewpt</th>\n",
       "      <th>vappr</th>\n",
       "      <th>rhum</th>\n",
       "      <th>...</th>\n",
       "      <th>ind.3</th>\n",
       "      <th>wdsp</th>\n",
       "      <th>ind.4</th>\n",
       "      <th>wddir</th>\n",
       "      <th>ww</th>\n",
       "      <th>w</th>\n",
       "      <th>sun</th>\n",
       "      <th>vis</th>\n",
       "      <th>clht</th>\n",
       "      <th>clamt</th>\n",
       "    </tr>\n",
       "  </thead>\n",
       "  <tbody>\n",
       "    <tr>\n",
       "      <th>265868</th>\n",
       "      <td>2022-04-30 20:00:00</td>\n",
       "      <td>0</td>\n",
       "      <td>1.2</td>\n",
       "      <td>0</td>\n",
       "      <td>10.7</td>\n",
       "      <td>0</td>\n",
       "      <td>10.1</td>\n",
       "      <td>9.6</td>\n",
       "      <td>11.9</td>\n",
       "      <td>92</td>\n",
       "      <td>...</td>\n",
       "      <td>2</td>\n",
       "      <td>5</td>\n",
       "      <td>2</td>\n",
       "      <td>230</td>\n",
       "      <td>61</td>\n",
       "      <td>66</td>\n",
       "      <td>0.0</td>\n",
       "      <td>8000</td>\n",
       "      <td>14</td>\n",
       "      <td>8</td>\n",
       "    </tr>\n",
       "    <tr>\n",
       "      <th>265869</th>\n",
       "      <td>2022-04-30 21:00:00</td>\n",
       "      <td>0</td>\n",
       "      <td>0.3</td>\n",
       "      <td>0</td>\n",
       "      <td>10.2</td>\n",
       "      <td>0</td>\n",
       "      <td>9.7</td>\n",
       "      <td>9.2</td>\n",
       "      <td>11.6</td>\n",
       "      <td>93</td>\n",
       "      <td>...</td>\n",
       "      <td>2</td>\n",
       "      <td>6</td>\n",
       "      <td>2</td>\n",
       "      <td>230</td>\n",
       "      <td>61</td>\n",
       "      <td>66</td>\n",
       "      <td>0.0</td>\n",
       "      <td>8000</td>\n",
       "      <td>32</td>\n",
       "      <td>7</td>\n",
       "    </tr>\n",
       "    <tr>\n",
       "      <th>265870</th>\n",
       "      <td>2022-04-30 22:00:00</td>\n",
       "      <td>0</td>\n",
       "      <td>0.2</td>\n",
       "      <td>0</td>\n",
       "      <td>9.8</td>\n",
       "      <td>0</td>\n",
       "      <td>9.5</td>\n",
       "      <td>9.1</td>\n",
       "      <td>11.6</td>\n",
       "      <td>96</td>\n",
       "      <td>...</td>\n",
       "      <td>2</td>\n",
       "      <td>7</td>\n",
       "      <td>2</td>\n",
       "      <td>240</td>\n",
       "      <td>60</td>\n",
       "      <td>62</td>\n",
       "      <td>0.0</td>\n",
       "      <td>8000</td>\n",
       "      <td>35</td>\n",
       "      <td>7</td>\n",
       "    </tr>\n",
       "    <tr>\n",
       "      <th>265871</th>\n",
       "      <td>2022-04-30 23:00:00</td>\n",
       "      <td>0</td>\n",
       "      <td>0.5</td>\n",
       "      <td>0</td>\n",
       "      <td>9.8</td>\n",
       "      <td>0</td>\n",
       "      <td>9.5</td>\n",
       "      <td>9.1</td>\n",
       "      <td>11.6</td>\n",
       "      <td>96</td>\n",
       "      <td>...</td>\n",
       "      <td>2</td>\n",
       "      <td>7</td>\n",
       "      <td>2</td>\n",
       "      <td>230</td>\n",
       "      <td>60</td>\n",
       "      <td>62</td>\n",
       "      <td>0.0</td>\n",
       "      <td>8000</td>\n",
       "      <td>35</td>\n",
       "      <td>7</td>\n",
       "    </tr>\n",
       "    <tr>\n",
       "      <th>265872</th>\n",
       "      <td>2022-05-01 00:00:00</td>\n",
       "      <td>2</td>\n",
       "      <td>0.0</td>\n",
       "      <td>0</td>\n",
       "      <td>10.0</td>\n",
       "      <td>0</td>\n",
       "      <td>9.5</td>\n",
       "      <td>8.9</td>\n",
       "      <td>11.5</td>\n",
       "      <td>93</td>\n",
       "      <td>...</td>\n",
       "      <td>2</td>\n",
       "      <td>8</td>\n",
       "      <td>2</td>\n",
       "      <td>230</td>\n",
       "      <td>60</td>\n",
       "      <td>62</td>\n",
       "      <td>0.0</td>\n",
       "      <td>9000</td>\n",
       "      <td>42</td>\n",
       "      <td>7</td>\n",
       "    </tr>\n",
       "  </tbody>\n",
       "</table>\n",
       "<p>5 rows × 21 columns</p>\n",
       "</div>"
      ],
      "text/plain": [
       "                      date  ind  rain  ind.1  temp  ind.2  wetb  dewpt vappr  \\\n",
       "265868 2022-04-30 20:00:00    0   1.2      0  10.7      0  10.1    9.6  11.9   \n",
       "265869 2022-04-30 21:00:00    0   0.3      0  10.2      0   9.7    9.2  11.6   \n",
       "265870 2022-04-30 22:00:00    0   0.2      0   9.8      0   9.5    9.1  11.6   \n",
       "265871 2022-04-30 23:00:00    0   0.5      0   9.8      0   9.5    9.1  11.6   \n",
       "265872 2022-05-01 00:00:00    2   0.0      0  10.0      0   9.5    8.9  11.5   \n",
       "\n",
       "       rhum  ...  ind.3  wdsp  ind.4  wddir  ww   w  sun   vis  clht  clamt  \n",
       "265868   92  ...      2     5      2    230  61  66  0.0  8000    14      8  \n",
       "265869   93  ...      2     6      2    230  61  66  0.0  8000    32      7  \n",
       "265870   96  ...      2     7      2    240  60  62  0.0  8000    35      7  \n",
       "265871   96  ...      2     7      2    230  60  62  0.0  8000    35      7  \n",
       "265872   93  ...      2     8      2    230  60  62  0.0  9000    42      7  \n",
       "\n",
       "[5 rows x 21 columns]"
      ]
     },
     "execution_count": 44,
     "metadata": {},
     "output_type": "execute_result"
    }
   ],
   "source": [
    "dublin_airport_weather_hourly.tail()"
   ]
  },
  {
   "cell_type": "code",
   "execution_count": 45,
   "id": "7468dfbd",
   "metadata": {},
   "outputs": [
    {
     "data": {
      "text/plain": [
       "date    0\n",
       "rain    0\n",
       "temp    0\n",
       "rhum    0\n",
       "wdsp    0\n",
       "dtype: int64"
      ]
     },
     "execution_count": 45,
     "metadata": {},
     "output_type": "execute_result"
    }
   ],
   "source": [
    "recent_dubairport_data = dublin_airport_weather_hourly.copy()\n",
    "columns_to_drop = ['ind','ind.1','ind.2','ind.3','vappr','msl','ind.4','wddir','ww','w','sun','vis','clht','clamt','wetb','dewpt']\n",
    "weather_data = recent_dubairport_data.drop(columns=columns_to_drop)\n",
    "weather_data.isnull().sum()"
   ]
  },
  {
   "cell_type": "code",
   "execution_count": 46,
   "id": "6566a121",
   "metadata": {},
   "outputs": [
    {
     "data": {
      "text/html": [
       "<div>\n",
       "<style scoped>\n",
       "    .dataframe tbody tr th:only-of-type {\n",
       "        vertical-align: middle;\n",
       "    }\n",
       "\n",
       "    .dataframe tbody tr th {\n",
       "        vertical-align: top;\n",
       "    }\n",
       "\n",
       "    .dataframe thead th {\n",
       "        text-align: right;\n",
       "    }\n",
       "</style>\n",
       "<table border=\"1\" class=\"dataframe\">\n",
       "  <thead>\n",
       "    <tr style=\"text-align: right;\">\n",
       "      <th></th>\n",
       "      <th>date</th>\n",
       "      <th>rain</th>\n",
       "      <th>temp</th>\n",
       "      <th>rhum</th>\n",
       "      <th>wdsp</th>\n",
       "    </tr>\n",
       "  </thead>\n",
       "  <tbody>\n",
       "    <tr>\n",
       "      <th>265868</th>\n",
       "      <td>2022-04-30 20:00:00</td>\n",
       "      <td>1.2</td>\n",
       "      <td>10.7</td>\n",
       "      <td>92</td>\n",
       "      <td>5</td>\n",
       "    </tr>\n",
       "    <tr>\n",
       "      <th>265869</th>\n",
       "      <td>2022-04-30 21:00:00</td>\n",
       "      <td>0.3</td>\n",
       "      <td>10.2</td>\n",
       "      <td>93</td>\n",
       "      <td>6</td>\n",
       "    </tr>\n",
       "    <tr>\n",
       "      <th>265870</th>\n",
       "      <td>2022-04-30 22:00:00</td>\n",
       "      <td>0.2</td>\n",
       "      <td>9.8</td>\n",
       "      <td>96</td>\n",
       "      <td>7</td>\n",
       "    </tr>\n",
       "    <tr>\n",
       "      <th>265871</th>\n",
       "      <td>2022-04-30 23:00:00</td>\n",
       "      <td>0.5</td>\n",
       "      <td>9.8</td>\n",
       "      <td>96</td>\n",
       "      <td>7</td>\n",
       "    </tr>\n",
       "    <tr>\n",
       "      <th>265872</th>\n",
       "      <td>2022-05-01 00:00:00</td>\n",
       "      <td>0.0</td>\n",
       "      <td>10.0</td>\n",
       "      <td>93</td>\n",
       "      <td>8</td>\n",
       "    </tr>\n",
       "  </tbody>\n",
       "</table>\n",
       "</div>"
      ],
      "text/plain": [
       "                      date  rain  temp rhum  wdsp\n",
       "265868 2022-04-30 20:00:00   1.2  10.7   92     5\n",
       "265869 2022-04-30 21:00:00   0.3  10.2   93     6\n",
       "265870 2022-04-30 22:00:00   0.2   9.8   96     7\n",
       "265871 2022-04-30 23:00:00   0.5   9.8   96     7\n",
       "265872 2022-05-01 00:00:00   0.0  10.0   93     8"
      ]
     },
     "execution_count": 46,
     "metadata": {},
     "output_type": "execute_result"
    }
   ],
   "source": [
    "weather_data.to_csv('../data/interim/hist_weather_data.csv', index=False)\n",
    "weather_data.tail()"
   ]
  },
  {
   "cell_type": "code",
   "execution_count": 47,
   "id": "af575e0a",
   "metadata": {},
   "outputs": [],
   "source": [
    "weather_data['dt'] = pd.to_datetime(weather_data['date'].dt.date)\n",
    "weather_data['hour'] = weather_data['date'].dt.hour\n",
    "weather_data['day'] = weather_data['date'].dt.day\n",
    "weather_data['month'] = weather_data['date'].dt.month\n",
    "weather_data['year'] = weather_data['date'].dt.year\n",
    "weather_data.drop(columns='date', axis=1, inplace=True)\n",
    "weather_data.rename(columns={'dt':'date'},inplace=True)"
   ]
  },
  {
   "cell_type": "markdown",
   "id": "fd192a57",
   "metadata": {},
   "source": [
    "## Combining Rentals and Weather data"
   ]
  },
  {
   "cell_type": "code",
   "execution_count": 48,
   "id": "da839168",
   "metadata": {},
   "outputs": [
    {
     "data": {
      "text/plain": [
       "((53664, 6), (265873, 9))"
      ]
     },
     "execution_count": 48,
     "metadata": {},
     "output_type": "execute_result"
    }
   ],
   "source": [
    "grouped_rentals.shape, weather_data.shape"
   ]
  },
  {
   "cell_type": "code",
   "execution_count": 49,
   "id": "8b2a87ad",
   "metadata": {},
   "outputs": [],
   "source": [
    "rentals = grouped_rentals.copy()\n",
    "weather = weather_data.copy()\n",
    "rentals['date'] = pd.to_datetime(rentals['lastrentalstart'].dt.date)\n",
    "rentals['hour'] = rentals['lastrentalstart'].dt.hour"
   ]
  },
  {
   "cell_type": "code",
   "execution_count": 50,
   "id": "c1291989",
   "metadata": {},
   "outputs": [],
   "source": [
    "all_data = pd.merge(rentals, weather, on=['date', 'hour'])\n",
    "all_data.to_csv('../data/interim/all_data.csv', index=False)"
   ]
  },
  {
   "cell_type": "markdown",
   "id": "28dee8ca",
   "metadata": {},
   "source": [
    "## Grouping data to reflect hourly count of rentals"
   ]
  },
  {
   "cell_type": "code",
   "execution_count": 51,
   "id": "4f8245ef",
   "metadata": {},
   "outputs": [
    {
     "data": {
      "text/html": [
       "<div>\n",
       "<style scoped>\n",
       "    .dataframe tbody tr th:only-of-type {\n",
       "        vertical-align: middle;\n",
       "    }\n",
       "\n",
       "    .dataframe tbody tr th {\n",
       "        vertical-align: top;\n",
       "    }\n",
       "\n",
       "    .dataframe thead th {\n",
       "        text-align: right;\n",
       "    }\n",
       "</style>\n",
       "<table border=\"1\" class=\"dataframe\">\n",
       "  <thead>\n",
       "    <tr style=\"text-align: right;\">\n",
       "      <th></th>\n",
       "      <th>date</th>\n",
       "      <th>hour</th>\n",
       "      <th>count</th>\n",
       "    </tr>\n",
       "  </thead>\n",
       "  <tbody>\n",
       "    <tr>\n",
       "      <th>11275</th>\n",
       "      <td>2022-05-07</td>\n",
       "      <td>9</td>\n",
       "      <td>6</td>\n",
       "    </tr>\n",
       "    <tr>\n",
       "      <th>11276</th>\n",
       "      <td>2022-05-07</td>\n",
       "      <td>10</td>\n",
       "      <td>10</td>\n",
       "    </tr>\n",
       "    <tr>\n",
       "      <th>11277</th>\n",
       "      <td>2022-05-07</td>\n",
       "      <td>11</td>\n",
       "      <td>1</td>\n",
       "    </tr>\n",
       "  </tbody>\n",
       "</table>\n",
       "</div>"
      ],
      "text/plain": [
       "            date  hour  count\n",
       "11275 2022-05-07     9      6\n",
       "11276 2022-05-07    10     10\n",
       "11277 2022-05-07    11      1"
      ]
     },
     "execution_count": 51,
     "metadata": {},
     "output_type": "execute_result"
    }
   ],
   "source": [
    "hourly_rentals = rentals.groupby(['date', 'hour']).size().reset_index(name='count')\n",
    "hourly_rentals.tail(3)"
   ]
  },
  {
   "cell_type": "markdown",
   "id": "7491255f",
   "metadata": {},
   "source": [
    "### Dataframe including only hours with *at least* 1 rental"
   ]
  },
  {
   "cell_type": "code",
   "execution_count": 52,
   "id": "fea66157",
   "metadata": {},
   "outputs": [
    {
     "data": {
      "text/html": [
       "<div>\n",
       "<style scoped>\n",
       "    .dataframe tbody tr th:only-of-type {\n",
       "        vertical-align: middle;\n",
       "    }\n",
       "\n",
       "    .dataframe tbody tr th {\n",
       "        vertical-align: top;\n",
       "    }\n",
       "\n",
       "    .dataframe thead th {\n",
       "        text-align: right;\n",
       "    }\n",
       "</style>\n",
       "<table border=\"1\" class=\"dataframe\">\n",
       "  <thead>\n",
       "    <tr style=\"text-align: right;\">\n",
       "      <th></th>\n",
       "      <th>date</th>\n",
       "      <th>hour</th>\n",
       "      <th>count</th>\n",
       "      <th>rain</th>\n",
       "      <th>temp</th>\n",
       "      <th>rhum</th>\n",
       "      <th>wdsp</th>\n",
       "      <th>day</th>\n",
       "      <th>month</th>\n",
       "      <th>year</th>\n",
       "    </tr>\n",
       "  </thead>\n",
       "  <tbody>\n",
       "    <tr>\n",
       "      <th>11142</th>\n",
       "      <td>2022-04-30</td>\n",
       "      <td>22</td>\n",
       "      <td>1</td>\n",
       "      <td>0.2</td>\n",
       "      <td>9.8</td>\n",
       "      <td>96</td>\n",
       "      <td>7</td>\n",
       "      <td>30</td>\n",
       "      <td>4</td>\n",
       "      <td>2022</td>\n",
       "    </tr>\n",
       "    <tr>\n",
       "      <th>11143</th>\n",
       "      <td>2022-04-30</td>\n",
       "      <td>23</td>\n",
       "      <td>1</td>\n",
       "      <td>0.5</td>\n",
       "      <td>9.8</td>\n",
       "      <td>96</td>\n",
       "      <td>7</td>\n",
       "      <td>30</td>\n",
       "      <td>4</td>\n",
       "      <td>2022</td>\n",
       "    </tr>\n",
       "    <tr>\n",
       "      <th>11144</th>\n",
       "      <td>2022-05-01</td>\n",
       "      <td>0</td>\n",
       "      <td>3</td>\n",
       "      <td>0.0</td>\n",
       "      <td>10.0</td>\n",
       "      <td>93</td>\n",
       "      <td>8</td>\n",
       "      <td>1</td>\n",
       "      <td>5</td>\n",
       "      <td>2022</td>\n",
       "    </tr>\n",
       "  </tbody>\n",
       "</table>\n",
       "</div>"
      ],
      "text/plain": [
       "            date  hour  count  rain  temp rhum  wdsp  day  month  year\n",
       "11142 2022-04-30    22      1   0.2   9.8   96     7   30      4  2022\n",
       "11143 2022-04-30    23      1   0.5   9.8   96     7   30      4  2022\n",
       "11144 2022-05-01     0      3   0.0  10.0   93     8    1      5  2022"
      ]
     },
     "execution_count": 52,
     "metadata": {},
     "output_type": "execute_result"
    }
   ],
   "source": [
    "hourly_data = pd.merge(hourly_rentals, weather, on=['date','hour'])\n",
    "hourly_data.to_csv('../data/interim/hourly_rentals.csv', index=False)\n",
    "hourly_data.tail(3)"
   ]
  },
  {
   "cell_type": "markdown",
   "id": "36a5e398",
   "metadata": {},
   "source": [
    "### Dataframe with all hours (including none rental)"
   ]
  },
  {
   "cell_type": "code",
   "execution_count": 53,
   "id": "8d222f94",
   "metadata": {},
   "outputs": [
    {
     "data": {
      "text/html": [
       "<div>\n",
       "<style scoped>\n",
       "    .dataframe tbody tr th:only-of-type {\n",
       "        vertical-align: middle;\n",
       "    }\n",
       "\n",
       "    .dataframe tbody tr th {\n",
       "        vertical-align: top;\n",
       "    }\n",
       "\n",
       "    .dataframe thead th {\n",
       "        text-align: right;\n",
       "    }\n",
       "</style>\n",
       "<table border=\"1\" class=\"dataframe\">\n",
       "  <thead>\n",
       "    <tr style=\"text-align: right;\">\n",
       "      <th></th>\n",
       "      <th>rain</th>\n",
       "      <th>temp</th>\n",
       "      <th>rhum</th>\n",
       "      <th>wdsp</th>\n",
       "      <th>date</th>\n",
       "      <th>hour</th>\n",
       "      <th>day</th>\n",
       "      <th>month</th>\n",
       "      <th>year</th>\n",
       "      <th>count</th>\n",
       "    </tr>\n",
       "  </thead>\n",
       "  <tbody>\n",
       "    <tr>\n",
       "      <th>265870</th>\n",
       "      <td>0.2</td>\n",
       "      <td>9.8</td>\n",
       "      <td>96</td>\n",
       "      <td>7</td>\n",
       "      <td>2022-04-30</td>\n",
       "      <td>22</td>\n",
       "      <td>30</td>\n",
       "      <td>4</td>\n",
       "      <td>2022</td>\n",
       "      <td>1</td>\n",
       "    </tr>\n",
       "    <tr>\n",
       "      <th>265871</th>\n",
       "      <td>0.5</td>\n",
       "      <td>9.8</td>\n",
       "      <td>96</td>\n",
       "      <td>7</td>\n",
       "      <td>2022-04-30</td>\n",
       "      <td>23</td>\n",
       "      <td>30</td>\n",
       "      <td>4</td>\n",
       "      <td>2022</td>\n",
       "      <td>1</td>\n",
       "    </tr>\n",
       "    <tr>\n",
       "      <th>265872</th>\n",
       "      <td>0.0</td>\n",
       "      <td>10.0</td>\n",
       "      <td>93</td>\n",
       "      <td>8</td>\n",
       "      <td>2022-05-01</td>\n",
       "      <td>0</td>\n",
       "      <td>1</td>\n",
       "      <td>5</td>\n",
       "      <td>2022</td>\n",
       "      <td>3</td>\n",
       "    </tr>\n",
       "  </tbody>\n",
       "</table>\n",
       "</div>"
      ],
      "text/plain": [
       "        rain  temp rhum  wdsp       date  hour  day  month  year  count\n",
       "265870   0.2   9.8   96     7 2022-04-30    22   30      4  2022      1\n",
       "265871   0.5   9.8   96     7 2022-04-30    23   30      4  2022      1\n",
       "265872   0.0  10.0   93     8 2022-05-01     0    1      5  2022      3"
      ]
     },
     "execution_count": 53,
     "metadata": {},
     "output_type": "execute_result"
    }
   ],
   "source": [
    "hourly_data_withzeros = pd.merge(weather, hourly_rentals, on=['date','hour'], how='left')\n",
    "hourly_data_withzeros['count'] = hourly_data_withzeros['count'].fillna(0).astype(int)\n",
    "hourly_data_withzeros.to_csv('../data/interim/hourly_data.csv', index=False)\n",
    "hourly_data_withzeros.tail(3)"
   ]
  },
  {
   "cell_type": "markdown",
   "id": "098b2c10",
   "metadata": {},
   "source": [
    "### Sampling"
   ]
  },
  {
   "cell_type": "code",
   "execution_count": 54,
   "id": "27c325a6",
   "metadata": {},
   "outputs": [],
   "source": [
    "start_train_dt, end_train_dt = datetime(2021, 3, 1), datetime(2022, 2, 28) # train sample\n",
    "start_test_dt, end_test_dt = datetime(2022, 3, 1), datetime(2022, 4, 30) # test sample"
   ]
  },
  {
   "cell_type": "code",
   "execution_count": 55,
   "id": "2602229e",
   "metadata": {},
   "outputs": [],
   "source": [
    "df_train = hourly_data_withzeros[(hourly_data_withzeros['date'] >= start_train_dt) & (hourly_data_withzeros['date'] <= end_train_dt)]\n",
    "df_test = hourly_data_withzeros[(hourly_data_withzeros['date'] >= start_test_dt) & (hourly_data_withzeros['date'] <= end_test_dt)]"
   ]
  },
  {
   "cell_type": "code",
   "execution_count": 56,
   "id": "8d222f94",
   "metadata": {},
   "outputs": [],
   "source": [
    "df_train.to_csv('../data/interim/dfsample_train.csv', index=False)\n",
    "df_test.to_csv('../data/interim/dfsample_test.csv', index=False)"
   ]
  },
  {
   "cell_type": "code",
   "execution_count": 57,
   "id": "8288d747",
   "metadata": {},
   "outputs": [
    {
     "data": {
      "text/plain": [
       "((8760, 10), (1464, 10))"
      ]
     },
     "execution_count": 57,
     "metadata": {},
     "output_type": "execute_result"
    }
   ],
   "source": [
    "df_train.shape, df_test.shape"
   ]
  },
  {
   "cell_type": "markdown",
   "id": "70cf35db",
   "metadata": {},
   "source": [
    "<img title=\"GitHub Mark\" src=\"./img/GitHub-Mark-64px.png\" style=\"height: 32px; padding-right: 15px\" alt=\"GitHub Mark\" align=\"left\"> [GitHub repository](https://github.com/pessini/moby-bikes) <br>Author: Leandro Pessini"
   ]
  }
 ],
 "metadata": {
  "kernelspec": {
   "display_name": "Python 3.9.12 64-bit ('conda-env')",
   "language": "python",
   "name": "python3"
  },
  "language_info": {
   "codemirror_mode": {
    "name": "ipython",
    "version": 3
   },
   "file_extension": ".py",
   "mimetype": "text/x-python",
   "name": "python",
   "nbconvert_exporter": "python",
   "pygments_lexer": "ipython3",
   "version": "3.9.12"
  },
  "vscode": {
   "interpreter": {
    "hash": "5c82cf216bcd6695c751af4e033b89e10a78cc5d50e2943f0ed5dd08b475eddb"
   }
  }
 },
 "nbformat": 4,
 "nbformat_minor": 5
}
