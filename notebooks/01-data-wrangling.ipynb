{
 "cells": [
  {
   "cell_type": "markdown",
   "id": "32be05c6",
   "metadata": {},
   "source": [
    "<img title=\"GitHub Octocat\" src='./img/Octocat.jpg' style='height: 60px; padding-right: 15px' alt=\"Octocat\" align=\"left\" height=\"60\"> This notebook is part of a GitHub repository: https://github.com/pessini/moby-bikes\n",
    "<br>MIT Licensed\n",
    "<br>Author: Leandro Pessini"
   ]
  },
  {
   "cell_type": "markdown",
   "id": "11ee0606",
   "metadata": {},
   "source": [
    "# <p style=\"font-size:100%; text-align:left; color:#444444;\">Data Wrangling</p>"
   ]
  },
  {
   "cell_type": "markdown",
   "id": "64c43813",
   "metadata": {},
   "source": [
    "# <p style=\"font-size:100%; text-align:left; color:#444444;\">Table of Contents:</p>\n",
    "* [1. Datasets](#1)\n",
    "  * [1.1 Rentals Data - Moby Bikes](#1.1)\n",
    "  * [1.2 Weather Data - Met Éireann](#1.2)\n",
    "* [2. Feature Engineering](#2)\n",
    "  * [2.1 Target variable distribution](#2.1)\n",
    "  * [2.2 Missing values](#2.2)\n",
    "  * [2.3 Exploratory Analysis](#2.3)\n",
    "  * [2.4 Features Importance](#2.4)"
   ]
  },
  {
   "cell_type": "code",
   "execution_count": 49,
   "id": "77876c7e",
   "metadata": {},
   "outputs": [],
   "source": [
    "import pandas as pd\n",
    "import matplotlib.pyplot as plt\n",
    "import seaborn as sns\n",
    "import numpy as np\n",
    "from scipy.stats import norm\n",
    "from scipy import stats\n",
    "from datetime import datetime\n",
    "import warnings\n",
    "warnings.filterwarnings('ignore')"
   ]
  },
  {
   "cell_type": "markdown",
   "id": "8cf28ed8",
   "metadata": {},
   "source": [
    "<a id=\"1\"></a>\n",
    "# <p style=\"font-size:100%; text-align:left; color:#444444;\">1- Datasets</p>"
   ]
  },
  {
   "cell_type": "markdown",
   "id": "c469247f",
   "metadata": {},
   "source": [
    "Dataset provided by [Moby Bikes](https://data.gov.ie/dataset/moby-bikes) through a public [API](https://data.smartdublin.ie/mobybikes-api). \n",
    "\n",
    "Dataset provided by [Met Éireann](https://www.met.ie/) through a public [API](https://data.gov.ie/organization/meteireann).\n",
    "\n",
    "\n",
    "[Met Éireann Weather Forecast API](https://data.gov.ie/dataset/met-eireann-weather-forecast-api/resource/5d156b15-38b8-4de9-921b-0ffc8704c88e)"
   ]
  },
  {
   "cell_type": "markdown",
   "id": "3d555c83",
   "metadata": {},
   "source": [
    "<a id=\"1.1\"></a>\n",
    "\n",
    "## Rentals Data - Moby Bikes"
   ]
  },
  {
   "cell_type": "markdown",
   "id": "5ce88361",
   "metadata": {},
   "source": [
    "### MongoDB vs DynamoDB"
   ]
  },
  {
   "cell_type": "code",
   "execution_count": 50,
   "id": "8a546e47",
   "metadata": {},
   "outputs": [],
   "source": [
    "historical_data = pd.read_csv('../data/raw/historical_data.csv')"
   ]
  },
  {
   "cell_type": "code",
   "execution_count": 51,
   "id": "b1f81e9a",
   "metadata": {},
   "outputs": [
    {
     "data": {
      "text/html": [
       "<div>\n",
       "<style scoped>\n",
       "    .dataframe tbody tr th:only-of-type {\n",
       "        vertical-align: middle;\n",
       "    }\n",
       "\n",
       "    .dataframe tbody tr th {\n",
       "        vertical-align: top;\n",
       "    }\n",
       "\n",
       "    .dataframe thead th {\n",
       "        text-align: right;\n",
       "    }\n",
       "</style>\n",
       "<table border=\"1\" class=\"dataframe\">\n",
       "  <thead>\n",
       "    <tr style=\"text-align: right;\">\n",
       "      <th></th>\n",
       "      <th>harvesttime</th>\n",
       "      <th>bikeid</th>\n",
       "      <th>battery</th>\n",
       "      <th>bikeidentifier</th>\n",
       "      <th>biketypename</th>\n",
       "      <th>ebikeprofileid</th>\n",
       "      <th>ebikestateid</th>\n",
       "      <th>isebike</th>\n",
       "      <th>ismotor</th>\n",
       "      <th>issmartlock</th>\n",
       "      <th>lastgpstime</th>\n",
       "      <th>lastrentalstart</th>\n",
       "      <th>latitude</th>\n",
       "      <th>longitude</th>\n",
       "      <th>spikeid</th>\n",
       "    </tr>\n",
       "  </thead>\n",
       "  <tbody>\n",
       "    <tr>\n",
       "      <th>0</th>\n",
       "      <td>2021-04-01 00:00:03</td>\n",
       "      <td>5</td>\n",
       "      <td>7.0</td>\n",
       "      <td>1</td>\n",
       "      <td>DUB-General</td>\n",
       "      <td>1</td>\n",
       "      <td>2</td>\n",
       "      <td>True</td>\n",
       "      <td>False</td>\n",
       "      <td>False</td>\n",
       "      <td>2021-03-31 23:41:40</td>\n",
       "      <td>2021-03-30 19:18:18</td>\n",
       "      <td>53.3091</td>\n",
       "      <td>-6.21643</td>\n",
       "      <td>1</td>\n",
       "    </tr>\n",
       "    <tr>\n",
       "      <th>1</th>\n",
       "      <td>2021-04-01 00:00:03</td>\n",
       "      <td>6</td>\n",
       "      <td>16.0</td>\n",
       "      <td>2</td>\n",
       "      <td>DUB-General</td>\n",
       "      <td>1</td>\n",
       "      <td>2</td>\n",
       "      <td>True</td>\n",
       "      <td>False</td>\n",
       "      <td>False</td>\n",
       "      <td>2021-03-31 23:55:41</td>\n",
       "      <td>2021-03-31 10:31:13</td>\n",
       "      <td>53.3657</td>\n",
       "      <td>-6.32249</td>\n",
       "      <td>2</td>\n",
       "    </tr>\n",
       "    <tr>\n",
       "      <th>2</th>\n",
       "      <td>2021-04-01 00:00:03</td>\n",
       "      <td>7</td>\n",
       "      <td>66.0</td>\n",
       "      <td>3</td>\n",
       "      <td>DUB-General</td>\n",
       "      <td>4</td>\n",
       "      <td>2</td>\n",
       "      <td>True</td>\n",
       "      <td>False</td>\n",
       "      <td>False</td>\n",
       "      <td>2021-03-31 23:42:04</td>\n",
       "      <td>2021-03-30 13:07:19</td>\n",
       "      <td>53.2799</td>\n",
       "      <td>-6.14497</td>\n",
       "      <td>3</td>\n",
       "    </tr>\n",
       "    <tr>\n",
       "      <th>3</th>\n",
       "      <td>2021-04-01 00:00:03</td>\n",
       "      <td>8</td>\n",
       "      <td>48.0</td>\n",
       "      <td>4</td>\n",
       "      <td>DUB-General</td>\n",
       "      <td>1</td>\n",
       "      <td>2</td>\n",
       "      <td>True</td>\n",
       "      <td>False</td>\n",
       "      <td>False</td>\n",
       "      <td>2021-03-31 23:52:26</td>\n",
       "      <td>2021-03-30 12:43:17</td>\n",
       "      <td>53.2891</td>\n",
       "      <td>-6.11378</td>\n",
       "      <td>4</td>\n",
       "    </tr>\n",
       "    <tr>\n",
       "      <th>4</th>\n",
       "      <td>2021-04-01 00:00:03</td>\n",
       "      <td>9</td>\n",
       "      <td>-6.0</td>\n",
       "      <td>5</td>\n",
       "      <td>DUB-General</td>\n",
       "      <td>1</td>\n",
       "      <td>2</td>\n",
       "      <td>True</td>\n",
       "      <td>False</td>\n",
       "      <td>False</td>\n",
       "      <td>2021-03-31 23:50:20</td>\n",
       "      <td>2021-03-29 22:37:58</td>\n",
       "      <td>53.2928</td>\n",
       "      <td>-6.13014</td>\n",
       "      <td>5</td>\n",
       "    </tr>\n",
       "  </tbody>\n",
       "</table>\n",
       "</div>"
      ],
      "text/plain": [
       "           harvesttime  bikeid  battery  bikeidentifier biketypename  \\\n",
       "0  2021-04-01 00:00:03       5      7.0               1  DUB-General   \n",
       "1  2021-04-01 00:00:03       6     16.0               2  DUB-General   \n",
       "2  2021-04-01 00:00:03       7     66.0               3  DUB-General   \n",
       "3  2021-04-01 00:00:03       8     48.0               4  DUB-General   \n",
       "4  2021-04-01 00:00:03       9     -6.0               5  DUB-General   \n",
       "\n",
       "   ebikeprofileid  ebikestateid  isebike  ismotor  issmartlock  \\\n",
       "0               1             2     True    False        False   \n",
       "1               1             2     True    False        False   \n",
       "2               4             2     True    False        False   \n",
       "3               1             2     True    False        False   \n",
       "4               1             2     True    False        False   \n",
       "\n",
       "           lastgpstime      lastrentalstart  latitude  longitude  spikeid  \n",
       "0  2021-03-31 23:41:40  2021-03-30 19:18:18   53.3091   -6.21643        1  \n",
       "1  2021-03-31 23:55:41  2021-03-31 10:31:13   53.3657   -6.32249        2  \n",
       "2  2021-03-31 23:42:04  2021-03-30 13:07:19   53.2799   -6.14497        3  \n",
       "3  2021-03-31 23:52:26  2021-03-30 12:43:17   53.2891   -6.11378        4  \n",
       "4  2021-03-31 23:50:20  2021-03-29 22:37:58   53.2928   -6.13014        5  "
      ]
     },
     "execution_count": 51,
     "metadata": {},
     "output_type": "execute_result"
    }
   ],
   "source": [
    "historical_data.columns = historical_data.columns.str.lower()\n",
    "historical_data.head()"
   ]
  },
  {
   "cell_type": "code",
   "execution_count": 52,
   "id": "a4de90ff",
   "metadata": {},
   "outputs": [
    {
     "name": "stdout",
     "output_type": "stream",
     "text": [
      "Total number of rows: 1667841\n",
      "Total number of columns: 15\n"
     ]
    }
   ],
   "source": [
    "print('Total number of rows: {}'.format(historical_data.shape[0]))\n",
    "print('Total number of columns: {}'.format(historical_data.shape[1]))\n"
   ]
  },
  {
   "cell_type": "code",
   "execution_count": 53,
   "id": "0d6a8736",
   "metadata": {},
   "outputs": [
    {
     "data": {
      "text/plain": [
       "harvesttime            0\n",
       "bikeid                 0\n",
       "battery            42341\n",
       "bikeidentifier         0\n",
       "biketypename           0\n",
       "ebikeprofileid         0\n",
       "ebikestateid           0\n",
       "isebike                0\n",
       "ismotor                0\n",
       "issmartlock            0\n",
       "lastgpstime            0\n",
       "lastrentalstart        0\n",
       "latitude               0\n",
       "longitude              0\n",
       "spikeid                0\n",
       "dtype: int64"
      ]
     },
     "execution_count": 53,
     "metadata": {},
     "output_type": "execute_result"
    }
   ],
   "source": [
    "historical_data.isnull().sum()"
   ]
  },
  {
   "cell_type": "markdown",
   "id": "4c6630f2",
   "metadata": {},
   "source": [
    "<a id=\"1.2\"></a>\n",
    "\n",
    "## Weather Data - Met Éireann"
   ]
  },
  {
   "cell_type": "markdown",
   "id": "c6b31d46",
   "metadata": {},
   "source": [
    "Regarding the weather data there are two important decisions to deal with.\n",
    "\n",
    "- One is about from **which station** the **historical data will be collected**;\n",
    "-  and the other one is about the **frequency of data**, which can be **hourly or daily**."
   ]
  },
  {
   "cell_type": "markdown",
   "id": "89830979",
   "metadata": {},
   "source": [
    "### Station Name: **PHOENIX PARK**"
   ]
  },
  {
   "cell_type": "code",
   "execution_count": 54,
   "id": "19cde297",
   "metadata": {},
   "outputs": [
    {
     "data": {
      "text/html": [
       "<div>\n",
       "<style scoped>\n",
       "    .dataframe tbody tr th:only-of-type {\n",
       "        vertical-align: middle;\n",
       "    }\n",
       "\n",
       "    .dataframe tbody tr th {\n",
       "        vertical-align: top;\n",
       "    }\n",
       "\n",
       "    .dataframe thead th {\n",
       "        text-align: right;\n",
       "    }\n",
       "</style>\n",
       "<table border=\"1\" class=\"dataframe\">\n",
       "  <thead>\n",
       "    <tr style=\"text-align: right;\">\n",
       "      <th></th>\n",
       "      <th>date</th>\n",
       "      <th>ind</th>\n",
       "      <th>rain</th>\n",
       "      <th>ind.1</th>\n",
       "      <th>temp</th>\n",
       "      <th>ind.2</th>\n",
       "      <th>wetb</th>\n",
       "      <th>dewpt</th>\n",
       "      <th>vappr</th>\n",
       "      <th>rhum</th>\n",
       "      <th>msl</th>\n",
       "    </tr>\n",
       "  </thead>\n",
       "  <tbody>\n",
       "    <tr>\n",
       "      <th>0</th>\n",
       "      <td>16-aug-2003 01:00</td>\n",
       "      <td>0</td>\n",
       "      <td>0.0</td>\n",
       "      <td>0</td>\n",
       "      <td>9.2</td>\n",
       "      <td>0</td>\n",
       "      <td>8.9</td>\n",
       "      <td>8.5</td>\n",
       "      <td>11.1</td>\n",
       "      <td>95</td>\n",
       "      <td>1021.9</td>\n",
       "    </tr>\n",
       "    <tr>\n",
       "      <th>1</th>\n",
       "      <td>16-aug-2003 02:00</td>\n",
       "      <td>0</td>\n",
       "      <td>0.0</td>\n",
       "      <td>0</td>\n",
       "      <td>9.0</td>\n",
       "      <td>0</td>\n",
       "      <td>8.7</td>\n",
       "      <td>8.5</td>\n",
       "      <td>11.1</td>\n",
       "      <td>96</td>\n",
       "      <td>1021.7</td>\n",
       "    </tr>\n",
       "    <tr>\n",
       "      <th>2</th>\n",
       "      <td>16-aug-2003 03:00</td>\n",
       "      <td>0</td>\n",
       "      <td>0.0</td>\n",
       "      <td>0</td>\n",
       "      <td>8.2</td>\n",
       "      <td>0</td>\n",
       "      <td>8.0</td>\n",
       "      <td>7.7</td>\n",
       "      <td>10.5</td>\n",
       "      <td>96</td>\n",
       "      <td>1021.2</td>\n",
       "    </tr>\n",
       "    <tr>\n",
       "      <th>3</th>\n",
       "      <td>16-aug-2003 04:00</td>\n",
       "      <td>0</td>\n",
       "      <td>0.0</td>\n",
       "      <td>0</td>\n",
       "      <td>8.4</td>\n",
       "      <td>0</td>\n",
       "      <td>8.1</td>\n",
       "      <td>7.9</td>\n",
       "      <td>10.7</td>\n",
       "      <td>97</td>\n",
       "      <td>1021.2</td>\n",
       "    </tr>\n",
       "    <tr>\n",
       "      <th>4</th>\n",
       "      <td>16-aug-2003 05:00</td>\n",
       "      <td>0</td>\n",
       "      <td>0.0</td>\n",
       "      <td>0</td>\n",
       "      <td>7.7</td>\n",
       "      <td>0</td>\n",
       "      <td>7.5</td>\n",
       "      <td>7.3</td>\n",
       "      <td>10.2</td>\n",
       "      <td>97</td>\n",
       "      <td>1021.1</td>\n",
       "    </tr>\n",
       "  </tbody>\n",
       "</table>\n",
       "</div>"
      ],
      "text/plain": [
       "                date  ind rain  ind.1 temp  ind.2 wetb dewpt vappr rhum  \\\n",
       "0  16-aug-2003 01:00    0  0.0      0  9.2      0  8.9   8.5  11.1   95   \n",
       "1  16-aug-2003 02:00    0  0.0      0  9.0      0  8.7   8.5  11.1   96   \n",
       "2  16-aug-2003 03:00    0  0.0      0  8.2      0  8.0   7.7  10.5   96   \n",
       "3  16-aug-2003 04:00    0  0.0      0  8.4      0  8.1   7.9  10.7   97   \n",
       "4  16-aug-2003 05:00    0  0.0      0  7.7      0  7.5   7.3  10.2   97   \n",
       "\n",
       "      msl  \n",
       "0  1021.9  \n",
       "1  1021.7  \n",
       "2  1021.2  \n",
       "3  1021.2  \n",
       "4  1021.1  "
      ]
     },
     "execution_count": 54,
     "metadata": {},
     "output_type": "execute_result"
    }
   ],
   "source": [
    "# Hourly data from Phoenix Park Station\n",
    "phoenixpark_weather_hourly = pd.read_csv('../data/raw/hly175.csv')\n",
    "phoenixpark_weather_hourly.head()"
   ]
  },
  {
   "cell_type": "markdown",
   "id": "d564ec60",
   "metadata": {},
   "source": [
    "Source: [https://data.gov.ie/dataset/phoenix-park-hourly-data](https://data.gov.ie/dataset/phoenix-park-hourly-data)"
   ]
  },
  {
   "cell_type": "code",
   "execution_count": 55,
   "id": "116806c8",
   "metadata": {},
   "outputs": [
    {
     "data": {
      "text/html": [
       "<div>\n",
       "<style scoped>\n",
       "    .dataframe tbody tr th:only-of-type {\n",
       "        vertical-align: middle;\n",
       "    }\n",
       "\n",
       "    .dataframe tbody tr th {\n",
       "        vertical-align: top;\n",
       "    }\n",
       "\n",
       "    .dataframe thead th {\n",
       "        text-align: right;\n",
       "    }\n",
       "</style>\n",
       "<table border=\"1\" class=\"dataframe\">\n",
       "  <thead>\n",
       "    <tr style=\"text-align: right;\">\n",
       "      <th></th>\n",
       "      <th>date</th>\n",
       "      <th>ind</th>\n",
       "      <th>maxtp</th>\n",
       "      <th>ind.1</th>\n",
       "      <th>mintp</th>\n",
       "      <th>igmin</th>\n",
       "      <th>gmin</th>\n",
       "      <th>ind.2</th>\n",
       "      <th>rain</th>\n",
       "      <th>cbl</th>\n",
       "      <th>soil</th>\n",
       "    </tr>\n",
       "  </thead>\n",
       "  <tbody>\n",
       "    <tr>\n",
       "      <th>0</th>\n",
       "      <td>16-aug-2003</td>\n",
       "      <td>0</td>\n",
       "      <td>20.1</td>\n",
       "      <td>0</td>\n",
       "      <td>7.5</td>\n",
       "      <td>4</td>\n",
       "      <td></td>\n",
       "      <td>0</td>\n",
       "      <td>0.0</td>\n",
       "      <td>1013.7</td>\n",
       "      <td>18.565</td>\n",
       "    </tr>\n",
       "    <tr>\n",
       "      <th>1</th>\n",
       "      <td>17-aug-2003</td>\n",
       "      <td>0</td>\n",
       "      <td>21.3</td>\n",
       "      <td>0</td>\n",
       "      <td>11.6</td>\n",
       "      <td>0</td>\n",
       "      <td>7.5</td>\n",
       "      <td>0</td>\n",
       "      <td>1.1</td>\n",
       "      <td>1007.5</td>\n",
       "      <td>18.280</td>\n",
       "    </tr>\n",
       "    <tr>\n",
       "      <th>2</th>\n",
       "      <td>18-aug-2003</td>\n",
       "      <td>0</td>\n",
       "      <td>20.3</td>\n",
       "      <td>0</td>\n",
       "      <td>8.5</td>\n",
       "      <td>0</td>\n",
       "      <td>4.3</td>\n",
       "      <td>0</td>\n",
       "      <td>0.0</td>\n",
       "      <td>1008.8</td>\n",
       "      <td>17.825</td>\n",
       "    </tr>\n",
       "    <tr>\n",
       "      <th>3</th>\n",
       "      <td>19-aug-2003</td>\n",
       "      <td>0</td>\n",
       "      <td>19.9</td>\n",
       "      <td>0</td>\n",
       "      <td>11.3</td>\n",
       "      <td>0</td>\n",
       "      <td>7.7</td>\n",
       "      <td>0</td>\n",
       "      <td>0.0</td>\n",
       "      <td>1014.3</td>\n",
       "      <td>18.138</td>\n",
       "    </tr>\n",
       "    <tr>\n",
       "      <th>4</th>\n",
       "      <td>20-aug-2003</td>\n",
       "      <td>0</td>\n",
       "      <td>21.5</td>\n",
       "      <td>0</td>\n",
       "      <td>10.8</td>\n",
       "      <td>0</td>\n",
       "      <td>6.9</td>\n",
       "      <td>0</td>\n",
       "      <td>0.0</td>\n",
       "      <td>1013.6</td>\n",
       "      <td>18.432</td>\n",
       "    </tr>\n",
       "  </tbody>\n",
       "</table>\n",
       "</div>"
      ],
      "text/plain": [
       "          date  ind maxtp  ind.1 mintp igmin gmin ind.2 rain     cbl    soil\n",
       "0  16-aug-2003    0  20.1      0   7.5     4          0  0.0  1013.7  18.565\n",
       "1  17-aug-2003    0  21.3      0  11.6     0  7.5     0  1.1  1007.5  18.280\n",
       "2  18-aug-2003    0  20.3      0   8.5     0  4.3     0  0.0  1008.8  17.825\n",
       "3  19-aug-2003    0  19.9      0  11.3     0  7.7     0  0.0  1014.3  18.138\n",
       "4  20-aug-2003    0  21.5      0  10.8     0  6.9     0  0.0  1013.6  18.432"
      ]
     },
     "execution_count": 55,
     "metadata": {},
     "output_type": "execute_result"
    }
   ],
   "source": [
    "# Daily data from Phoenix Park Station\n",
    "phoenixpark_weather_daily = pd.read_csv('../data/raw/dly175.csv')\n",
    "phoenixpark_weather_daily.head()"
   ]
  },
  {
   "cell_type": "markdown",
   "id": "dc6f5bff",
   "metadata": {},
   "source": [
    "Source: [https://data.gov.ie/dataset/phoenixpark-daily-data](https://data.gov.ie/dataset/phoenixpark-daily-data)"
   ]
  },
  {
   "cell_type": "markdown",
   "id": "b81d825e",
   "metadata": {},
   "source": [
    "### Station Name: **DUBLIN AIRPORT**"
   ]
  },
  {
   "cell_type": "code",
   "execution_count": 56,
   "id": "9ec59eb3",
   "metadata": {},
   "outputs": [
    {
     "data": {
      "text/html": [
       "<div>\n",
       "<style scoped>\n",
       "    .dataframe tbody tr th:only-of-type {\n",
       "        vertical-align: middle;\n",
       "    }\n",
       "\n",
       "    .dataframe tbody tr th {\n",
       "        vertical-align: top;\n",
       "    }\n",
       "\n",
       "    .dataframe thead th {\n",
       "        text-align: right;\n",
       "    }\n",
       "</style>\n",
       "<table border=\"1\" class=\"dataframe\">\n",
       "  <thead>\n",
       "    <tr style=\"text-align: right;\">\n",
       "      <th></th>\n",
       "      <th>date</th>\n",
       "      <th>ind</th>\n",
       "      <th>rain</th>\n",
       "      <th>ind.1</th>\n",
       "      <th>temp</th>\n",
       "      <th>ind.2</th>\n",
       "      <th>wetb</th>\n",
       "      <th>dewpt</th>\n",
       "      <th>vappr</th>\n",
       "      <th>rhum</th>\n",
       "      <th>...</th>\n",
       "      <th>ind.3</th>\n",
       "      <th>wdsp</th>\n",
       "      <th>ind.4</th>\n",
       "      <th>wddir</th>\n",
       "      <th>ww</th>\n",
       "      <th>w</th>\n",
       "      <th>sun</th>\n",
       "      <th>vis</th>\n",
       "      <th>clht</th>\n",
       "      <th>clamt</th>\n",
       "    </tr>\n",
       "  </thead>\n",
       "  <tbody>\n",
       "    <tr>\n",
       "      <th>0</th>\n",
       "      <td>01-jan-1992 00:00</td>\n",
       "      <td>0</td>\n",
       "      <td>0.0</td>\n",
       "      <td>0</td>\n",
       "      <td>8.4</td>\n",
       "      <td>0</td>\n",
       "      <td>6.6</td>\n",
       "      <td>4.3</td>\n",
       "      <td>8.3</td>\n",
       "      <td>75</td>\n",
       "      <td>...</td>\n",
       "      <td>2</td>\n",
       "      <td>23</td>\n",
       "      <td>2</td>\n",
       "      <td>210</td>\n",
       "      <td>2</td>\n",
       "      <td>11</td>\n",
       "      <td>0.0</td>\n",
       "      <td>25000</td>\n",
       "      <td>999</td>\n",
       "      <td>3</td>\n",
       "    </tr>\n",
       "    <tr>\n",
       "      <th>1</th>\n",
       "      <td>01-jan-1992 01:00</td>\n",
       "      <td>0</td>\n",
       "      <td>0.0</td>\n",
       "      <td>0</td>\n",
       "      <td>8.6</td>\n",
       "      <td>0</td>\n",
       "      <td>6.6</td>\n",
       "      <td>4.0</td>\n",
       "      <td>8.1</td>\n",
       "      <td>73</td>\n",
       "      <td>...</td>\n",
       "      <td>2</td>\n",
       "      <td>23</td>\n",
       "      <td>2</td>\n",
       "      <td>220</td>\n",
       "      <td>2</td>\n",
       "      <td>11</td>\n",
       "      <td>0.0</td>\n",
       "      <td>25000</td>\n",
       "      <td>100</td>\n",
       "      <td>6</td>\n",
       "    </tr>\n",
       "    <tr>\n",
       "      <th>2</th>\n",
       "      <td>01-jan-1992 02:00</td>\n",
       "      <td>0</td>\n",
       "      <td>0.0</td>\n",
       "      <td>0</td>\n",
       "      <td>9.0</td>\n",
       "      <td>0</td>\n",
       "      <td>7.0</td>\n",
       "      <td>4.5</td>\n",
       "      <td>8.4</td>\n",
       "      <td>73</td>\n",
       "      <td>...</td>\n",
       "      <td>2</td>\n",
       "      <td>22</td>\n",
       "      <td>2</td>\n",
       "      <td>220</td>\n",
       "      <td>2</td>\n",
       "      <td>11</td>\n",
       "      <td>0.0</td>\n",
       "      <td>25000</td>\n",
       "      <td>100</td>\n",
       "      <td>6</td>\n",
       "    </tr>\n",
       "    <tr>\n",
       "      <th>3</th>\n",
       "      <td>01-jan-1992 03:00</td>\n",
       "      <td>0</td>\n",
       "      <td>0.0</td>\n",
       "      <td>0</td>\n",
       "      <td>9.5</td>\n",
       "      <td>0</td>\n",
       "      <td>7.4</td>\n",
       "      <td>4.8</td>\n",
       "      <td>8.6</td>\n",
       "      <td>73</td>\n",
       "      <td>...</td>\n",
       "      <td>2</td>\n",
       "      <td>22</td>\n",
       "      <td>2</td>\n",
       "      <td>220</td>\n",
       "      <td>2</td>\n",
       "      <td>11</td>\n",
       "      <td>0.0</td>\n",
       "      <td>25000</td>\n",
       "      <td>25</td>\n",
       "      <td>6</td>\n",
       "    </tr>\n",
       "    <tr>\n",
       "      <th>4</th>\n",
       "      <td>01-jan-1992 04:00</td>\n",
       "      <td>0</td>\n",
       "      <td>0.0</td>\n",
       "      <td>0</td>\n",
       "      <td>9.5</td>\n",
       "      <td>0</td>\n",
       "      <td>7.4</td>\n",
       "      <td>4.8</td>\n",
       "      <td>8.6</td>\n",
       "      <td>73</td>\n",
       "      <td>...</td>\n",
       "      <td>2</td>\n",
       "      <td>23</td>\n",
       "      <td>2</td>\n",
       "      <td>230</td>\n",
       "      <td>2</td>\n",
       "      <td>11</td>\n",
       "      <td>0.0</td>\n",
       "      <td>25000</td>\n",
       "      <td>25</td>\n",
       "      <td>6</td>\n",
       "    </tr>\n",
       "  </tbody>\n",
       "</table>\n",
       "<p>5 rows × 21 columns</p>\n",
       "</div>"
      ],
      "text/plain": [
       "                date  ind  rain  ind.1  temp  ind.2  wetb  dewpt vappr rhum  \\\n",
       "0  01-jan-1992 00:00    0   0.0      0   8.4      0   6.6    4.3   8.3   75   \n",
       "1  01-jan-1992 01:00    0   0.0      0   8.6      0   6.6    4.0   8.1   73   \n",
       "2  01-jan-1992 02:00    0   0.0      0   9.0      0   7.0    4.5   8.4   73   \n",
       "3  01-jan-1992 03:00    0   0.0      0   9.5      0   7.4    4.8   8.6   73   \n",
       "4  01-jan-1992 04:00    0   0.0      0   9.5      0   7.4    4.8   8.6   73   \n",
       "\n",
       "   ...  ind.3  wdsp  ind.4  wddir ww   w  sun    vis  clht  clamt  \n",
       "0  ...      2    23      2    210  2  11  0.0  25000   999      3  \n",
       "1  ...      2    23      2    220  2  11  0.0  25000   100      6  \n",
       "2  ...      2    22      2    220  2  11  0.0  25000   100      6  \n",
       "3  ...      2    22      2    220  2  11  0.0  25000    25      6  \n",
       "4  ...      2    23      2    230  2  11  0.0  25000    25      6  \n",
       "\n",
       "[5 rows x 21 columns]"
      ]
     },
     "execution_count": 56,
     "metadata": {},
     "output_type": "execute_result"
    }
   ],
   "source": [
    "# Hourly data from Dublin Airport Station\n",
    "dublin_airport_weather_hourly = pd.read_csv('../data/raw/hly532.csv')\n",
    "dublin_airport_weather_hourly.head()"
   ]
  },
  {
   "cell_type": "code",
   "execution_count": 57,
   "id": "d17b0c7a",
   "metadata": {},
   "outputs": [
    {
     "name": "stdout",
     "output_type": "stream",
     "text": [
      "Total number of rows: 264409\n"
     ]
    }
   ],
   "source": [
    "print('Total number of rows: {}'.format(dublin_airport_weather_hourly.shape[0]))"
   ]
  },
  {
   "cell_type": "markdown",
   "id": "0b98158f",
   "metadata": {},
   "source": [
    "Source: [https://data.gov.ie/dataset/dublin-airport-hourly-data](https://data.gov.ie/dataset/dublin-airport-hourly-data)"
   ]
  },
  {
   "cell_type": "markdown",
   "id": "affdd58c",
   "metadata": {},
   "source": [
    "### Phoenix Park Station vs Dublin Aiport Station\n",
    "Geographically, the station at Phoenix Park would be the most suitable choice but unfortunately, they do not collect Wind information which in Ireland plays an important role when deciding to go cycling or not. For those who are not familiar with Irish weather, it rains a lot and mostly we do not have much choice about it but the wind is something that can prevent you go outside or choosing a different kind of transportation. Heavy rain is not that common, though.\n",
    "\n",
    "### Hourly vs Daily data\n",
    "Daily data, to the business, could make more sense but because the weather is so unpredictable in Ireland (it can completely change in an hour), the best option would be hourly data if looking at a historical perspective. For simplicity and better planning, we can always aggregate the predicted results by day."
   ]
  },
  {
   "cell_type": "code",
   "execution_count": 58,
   "id": "5c7e902e",
   "metadata": {},
   "outputs": [
    {
     "name": "stdout",
     "output_type": "stream",
     "text": [
      "<class 'pandas.core.frame.DataFrame'>\n",
      "RangeIndex: 264409 entries, 0 to 264408\n",
      "Data columns (total 21 columns):\n",
      " #   Column  Non-Null Count   Dtype         \n",
      "---  ------  --------------   -----         \n",
      " 0   date    264409 non-null  datetime64[ns]\n",
      " 1   ind     264409 non-null  int64         \n",
      " 2   rain    264409 non-null  float64       \n",
      " 3   ind.1   264409 non-null  int64         \n",
      " 4   temp    264409 non-null  float64       \n",
      " 5   ind.2   264409 non-null  int64         \n",
      " 6   wetb    264409 non-null  float64       \n",
      " 7   dewpt   264409 non-null  float64       \n",
      " 8   vappr   264409 non-null  object        \n",
      " 9   rhum    264409 non-null  object        \n",
      " 10  msl     264409 non-null  float64       \n",
      " 11  ind.3   264409 non-null  int64         \n",
      " 12  wdsp    264409 non-null  int64         \n",
      " 13  ind.4   264409 non-null  int64         \n",
      " 14  wddir   264409 non-null  object        \n",
      " 15  ww      264409 non-null  int64         \n",
      " 16  w       264409 non-null  int64         \n",
      " 17  sun     264409 non-null  float64       \n",
      " 18  vis     264409 non-null  int64         \n",
      " 19  clht    264409 non-null  int64         \n",
      " 20  clamt   264409 non-null  int64         \n",
      "dtypes: datetime64[ns](1), float64(6), int64(11), object(3)\n",
      "memory usage: 42.4+ MB\n"
     ]
    }
   ],
   "source": [
    "# transforming the date columns in weather data to datetime\n",
    "dublin_airport_weather_hourly['date'] = pd.to_datetime(dublin_airport_weather_hourly['date'])\n",
    "dublin_airport_weather_hourly.info()"
   ]
  },
  {
   "cell_type": "code",
   "execution_count": 59,
   "id": "d89adbde",
   "metadata": {},
   "outputs": [
    {
     "data": {
      "text/html": [
       "<div>\n",
       "<style scoped>\n",
       "    .dataframe tbody tr th:only-of-type {\n",
       "        vertical-align: middle;\n",
       "    }\n",
       "\n",
       "    .dataframe tbody tr th {\n",
       "        vertical-align: top;\n",
       "    }\n",
       "\n",
       "    .dataframe thead th {\n",
       "        text-align: right;\n",
       "    }\n",
       "</style>\n",
       "<table border=\"1\" class=\"dataframe\">\n",
       "  <thead>\n",
       "    <tr style=\"text-align: right;\">\n",
       "      <th></th>\n",
       "      <th>date</th>\n",
       "      <th>ind</th>\n",
       "      <th>rain</th>\n",
       "      <th>ind.1</th>\n",
       "      <th>temp</th>\n",
       "      <th>ind.2</th>\n",
       "      <th>wetb</th>\n",
       "      <th>dewpt</th>\n",
       "      <th>vappr</th>\n",
       "      <th>rhum</th>\n",
       "      <th>...</th>\n",
       "      <th>ind.3</th>\n",
       "      <th>wdsp</th>\n",
       "      <th>ind.4</th>\n",
       "      <th>wddir</th>\n",
       "      <th>ww</th>\n",
       "      <th>w</th>\n",
       "      <th>sun</th>\n",
       "      <th>vis</th>\n",
       "      <th>clht</th>\n",
       "      <th>clamt</th>\n",
       "    </tr>\n",
       "  </thead>\n",
       "  <tbody>\n",
       "    <tr>\n",
       "      <th>264404</th>\n",
       "      <td>2022-02-28 20:00:00</td>\n",
       "      <td>3</td>\n",
       "      <td>0.0</td>\n",
       "      <td>0</td>\n",
       "      <td>2.2</td>\n",
       "      <td>0</td>\n",
       "      <td>1.4</td>\n",
       "      <td>0.0</td>\n",
       "      <td>6.1</td>\n",
       "      <td>86</td>\n",
       "      <td>...</td>\n",
       "      <td>2</td>\n",
       "      <td>7</td>\n",
       "      <td>2</td>\n",
       "      <td>300</td>\n",
       "      <td>2</td>\n",
       "      <td>11</td>\n",
       "      <td>0.0</td>\n",
       "      <td>30000</td>\n",
       "      <td>999</td>\n",
       "      <td>1</td>\n",
       "    </tr>\n",
       "    <tr>\n",
       "      <th>264405</th>\n",
       "      <td>2022-02-28 21:00:00</td>\n",
       "      <td>3</td>\n",
       "      <td>0.0</td>\n",
       "      <td>0</td>\n",
       "      <td>1.1</td>\n",
       "      <td>0</td>\n",
       "      <td>0.6</td>\n",
       "      <td>-0.3</td>\n",
       "      <td>6.0</td>\n",
       "      <td>90</td>\n",
       "      <td>...</td>\n",
       "      <td>2</td>\n",
       "      <td>5</td>\n",
       "      <td>2</td>\n",
       "      <td>290</td>\n",
       "      <td>2</td>\n",
       "      <td>11</td>\n",
       "      <td>0.0</td>\n",
       "      <td>30000</td>\n",
       "      <td>999</td>\n",
       "      <td>1</td>\n",
       "    </tr>\n",
       "    <tr>\n",
       "      <th>264406</th>\n",
       "      <td>2022-02-28 22:00:00</td>\n",
       "      <td>3</td>\n",
       "      <td>0.0</td>\n",
       "      <td>0</td>\n",
       "      <td>0.0</td>\n",
       "      <td>1</td>\n",
       "      <td>-0.3</td>\n",
       "      <td>-1.0</td>\n",
       "      <td>5.7</td>\n",
       "      <td>94</td>\n",
       "      <td>...</td>\n",
       "      <td>2</td>\n",
       "      <td>6</td>\n",
       "      <td>2</td>\n",
       "      <td>290</td>\n",
       "      <td>2</td>\n",
       "      <td>11</td>\n",
       "      <td>0.0</td>\n",
       "      <td>30000</td>\n",
       "      <td>999</td>\n",
       "      <td>1</td>\n",
       "    </tr>\n",
       "    <tr>\n",
       "      <th>264407</th>\n",
       "      <td>2022-02-28 23:00:00</td>\n",
       "      <td>3</td>\n",
       "      <td>0.0</td>\n",
       "      <td>0</td>\n",
       "      <td>0.2</td>\n",
       "      <td>1</td>\n",
       "      <td>-0.1</td>\n",
       "      <td>-0.7</td>\n",
       "      <td>5.8</td>\n",
       "      <td>94</td>\n",
       "      <td>...</td>\n",
       "      <td>2</td>\n",
       "      <td>6</td>\n",
       "      <td>2</td>\n",
       "      <td>290</td>\n",
       "      <td>2</td>\n",
       "      <td>11</td>\n",
       "      <td>0.0</td>\n",
       "      <td>30000</td>\n",
       "      <td>999</td>\n",
       "      <td>1</td>\n",
       "    </tr>\n",
       "    <tr>\n",
       "      <th>264408</th>\n",
       "      <td>2022-03-01 00:00:00</td>\n",
       "      <td>3</td>\n",
       "      <td>0.0</td>\n",
       "      <td>1</td>\n",
       "      <td>-0.2</td>\n",
       "      <td>1</td>\n",
       "      <td>-0.4</td>\n",
       "      <td>-0.9</td>\n",
       "      <td>5.8</td>\n",
       "      <td>96</td>\n",
       "      <td>...</td>\n",
       "      <td>2</td>\n",
       "      <td>6</td>\n",
       "      <td>2</td>\n",
       "      <td>280</td>\n",
       "      <td>2</td>\n",
       "      <td>11</td>\n",
       "      <td>0.0</td>\n",
       "      <td>30000</td>\n",
       "      <td>999</td>\n",
       "      <td>1</td>\n",
       "    </tr>\n",
       "  </tbody>\n",
       "</table>\n",
       "<p>5 rows × 21 columns</p>\n",
       "</div>"
      ],
      "text/plain": [
       "                      date  ind  rain  ind.1  temp  ind.2  wetb  dewpt vappr  \\\n",
       "264404 2022-02-28 20:00:00    3   0.0      0   2.2      0   1.4    0.0   6.1   \n",
       "264405 2022-02-28 21:00:00    3   0.0      0   1.1      0   0.6   -0.3   6.0   \n",
       "264406 2022-02-28 22:00:00    3   0.0      0   0.0      1  -0.3   -1.0   5.7   \n",
       "264407 2022-02-28 23:00:00    3   0.0      0   0.2      1  -0.1   -0.7   5.8   \n",
       "264408 2022-03-01 00:00:00    3   0.0      1  -0.2      1  -0.4   -0.9   5.8   \n",
       "\n",
       "       rhum  ...  ind.3  wdsp  ind.4  wddir ww   w  sun    vis  clht  clamt  \n",
       "264404   86  ...      2     7      2    300  2  11  0.0  30000   999      1  \n",
       "264405   90  ...      2     5      2    290  2  11  0.0  30000   999      1  \n",
       "264406   94  ...      2     6      2    290  2  11  0.0  30000   999      1  \n",
       "264407   94  ...      2     6      2    290  2  11  0.0  30000   999      1  \n",
       "264408   96  ...      2     6      2    280  2  11  0.0  30000   999      1  \n",
       "\n",
       "[5 rows x 21 columns]"
      ]
     },
     "execution_count": 59,
     "metadata": {},
     "output_type": "execute_result"
    }
   ],
   "source": [
    "dublin_airport_weather_hourly.tail()"
   ]
  },
  {
   "cell_type": "markdown",
   "id": "098b2c10",
   "metadata": {},
   "source": [
    "### Sampling"
   ]
  },
  {
   "cell_type": "code",
   "execution_count": 60,
   "id": "27c325a6",
   "metadata": {},
   "outputs": [],
   "source": [
    "start_date_hist = datetime(2021, 2, 1) # first day\n",
    "end_date_hist = datetime(2022, 3, 1) # last day used as historical data"
   ]
  },
  {
   "cell_type": "code",
   "execution_count": 61,
   "id": "7468dfbd",
   "metadata": {},
   "outputs": [
    {
     "data": {
      "text/plain": [
       "(264409, 9433)"
      ]
     },
     "execution_count": 61,
     "metadata": {},
     "output_type": "execute_result"
    }
   ],
   "source": [
    "recent_dubairport_data = dublin_airport_weather_hourly.copy()\n",
    "recent_dubairport_data = recent_dubairport_data[(recent_dubairport_data.date >= start_date_hist) & (recent_dubairport_data.date <= end_date_hist)]\n",
    "len(dublin_airport_weather_hourly), len(recent_dubairport_data)"
   ]
  },
  {
   "cell_type": "code",
   "execution_count": 62,
   "id": "5f5870fd",
   "metadata": {},
   "outputs": [],
   "source": [
    "columns_to_drop = ['ind','ind.1','ind.2','ind.3','vappr','msl','ind.4','wddir','ww','w','sun','vis','clht','clamt']\n",
    "weather_data = recent_dubairport_data.drop(columns=columns_to_drop)\n",
    "weather_data.to_csv('../data/interim/hist_weather_data.csv', index=False)"
   ]
  },
  {
   "cell_type": "code",
   "execution_count": 63,
   "id": "be44af3b",
   "metadata": {},
   "outputs": [
    {
     "data": {
      "text/html": [
       "<div>\n",
       "<style scoped>\n",
       "    .dataframe tbody tr th:only-of-type {\n",
       "        vertical-align: middle;\n",
       "    }\n",
       "\n",
       "    .dataframe tbody tr th {\n",
       "        vertical-align: top;\n",
       "    }\n",
       "\n",
       "    .dataframe thead th {\n",
       "        text-align: right;\n",
       "    }\n",
       "</style>\n",
       "<table border=\"1\" class=\"dataframe\">\n",
       "  <thead>\n",
       "    <tr style=\"text-align: right;\">\n",
       "      <th></th>\n",
       "      <th>date</th>\n",
       "      <th>rain</th>\n",
       "      <th>temp</th>\n",
       "      <th>wetb</th>\n",
       "      <th>dewpt</th>\n",
       "      <th>rhum</th>\n",
       "      <th>wdsp</th>\n",
       "    </tr>\n",
       "  </thead>\n",
       "  <tbody>\n",
       "    <tr>\n",
       "      <th>254976</th>\n",
       "      <td>2021-02-01 00:00:00</td>\n",
       "      <td>0.0</td>\n",
       "      <td>3.3</td>\n",
       "      <td>3.1</td>\n",
       "      <td>2.8</td>\n",
       "      <td>97</td>\n",
       "      <td>8</td>\n",
       "    </tr>\n",
       "    <tr>\n",
       "      <th>254977</th>\n",
       "      <td>2021-02-01 01:00:00</td>\n",
       "      <td>0.0</td>\n",
       "      <td>3.5</td>\n",
       "      <td>3.3</td>\n",
       "      <td>2.9</td>\n",
       "      <td>97</td>\n",
       "      <td>6</td>\n",
       "    </tr>\n",
       "    <tr>\n",
       "      <th>254978</th>\n",
       "      <td>2021-02-01 02:00:00</td>\n",
       "      <td>0.0</td>\n",
       "      <td>3.6</td>\n",
       "      <td>3.3</td>\n",
       "      <td>2.8</td>\n",
       "      <td>95</td>\n",
       "      <td>5</td>\n",
       "    </tr>\n",
       "    <tr>\n",
       "      <th>254979</th>\n",
       "      <td>2021-02-01 03:00:00</td>\n",
       "      <td>0.0</td>\n",
       "      <td>3.6</td>\n",
       "      <td>3.4</td>\n",
       "      <td>3.0</td>\n",
       "      <td>97</td>\n",
       "      <td>4</td>\n",
       "    </tr>\n",
       "    <tr>\n",
       "      <th>254980</th>\n",
       "      <td>2021-02-01 04:00:00</td>\n",
       "      <td>0.0</td>\n",
       "      <td>3.6</td>\n",
       "      <td>3.4</td>\n",
       "      <td>3.1</td>\n",
       "      <td>97</td>\n",
       "      <td>3</td>\n",
       "    </tr>\n",
       "  </tbody>\n",
       "</table>\n",
       "</div>"
      ],
      "text/plain": [
       "                      date  rain  temp  wetb  dewpt rhum  wdsp\n",
       "254976 2021-02-01 00:00:00   0.0   3.3   3.1    2.8   97     8\n",
       "254977 2021-02-01 01:00:00   0.0   3.5   3.3    2.9   97     6\n",
       "254978 2021-02-01 02:00:00   0.0   3.6   3.3    2.8   95     5\n",
       "254979 2021-02-01 03:00:00   0.0   3.6   3.4    3.0   97     4\n",
       "254980 2021-02-01 04:00:00   0.0   3.6   3.4    3.1   97     3"
      ]
     },
     "execution_count": 63,
     "metadata": {},
     "output_type": "execute_result"
    }
   ],
   "source": [
    "weather_data.head()"
   ]
  },
  {
   "cell_type": "code",
   "execution_count": 64,
   "id": "d266c47e",
   "metadata": {},
   "outputs": [
    {
     "data": {
      "text/html": [
       "<div>\n",
       "<style scoped>\n",
       "    .dataframe tbody tr th:only-of-type {\n",
       "        vertical-align: middle;\n",
       "    }\n",
       "\n",
       "    .dataframe tbody tr th {\n",
       "        vertical-align: top;\n",
       "    }\n",
       "\n",
       "    .dataframe thead th {\n",
       "        text-align: right;\n",
       "    }\n",
       "</style>\n",
       "<table border=\"1\" class=\"dataframe\">\n",
       "  <thead>\n",
       "    <tr style=\"text-align: right;\">\n",
       "      <th></th>\n",
       "      <th>date</th>\n",
       "      <th>rain</th>\n",
       "      <th>temp</th>\n",
       "      <th>wetb</th>\n",
       "      <th>dewpt</th>\n",
       "      <th>rhum</th>\n",
       "      <th>wdsp</th>\n",
       "    </tr>\n",
       "  </thead>\n",
       "  <tbody>\n",
       "    <tr>\n",
       "      <th>264403</th>\n",
       "      <td>2022-02-28 19:00:00</td>\n",
       "      <td>0.0</td>\n",
       "      <td>2.5</td>\n",
       "      <td>1.7</td>\n",
       "      <td>0.3</td>\n",
       "      <td>86</td>\n",
       "      <td>6</td>\n",
       "    </tr>\n",
       "    <tr>\n",
       "      <th>264404</th>\n",
       "      <td>2022-02-28 20:00:00</td>\n",
       "      <td>0.0</td>\n",
       "      <td>2.2</td>\n",
       "      <td>1.4</td>\n",
       "      <td>0.0</td>\n",
       "      <td>86</td>\n",
       "      <td>7</td>\n",
       "    </tr>\n",
       "    <tr>\n",
       "      <th>264405</th>\n",
       "      <td>2022-02-28 21:00:00</td>\n",
       "      <td>0.0</td>\n",
       "      <td>1.1</td>\n",
       "      <td>0.6</td>\n",
       "      <td>-0.3</td>\n",
       "      <td>90</td>\n",
       "      <td>5</td>\n",
       "    </tr>\n",
       "    <tr>\n",
       "      <th>264406</th>\n",
       "      <td>2022-02-28 22:00:00</td>\n",
       "      <td>0.0</td>\n",
       "      <td>0.0</td>\n",
       "      <td>-0.3</td>\n",
       "      <td>-1.0</td>\n",
       "      <td>94</td>\n",
       "      <td>6</td>\n",
       "    </tr>\n",
       "    <tr>\n",
       "      <th>264407</th>\n",
       "      <td>2022-02-28 23:00:00</td>\n",
       "      <td>0.0</td>\n",
       "      <td>0.2</td>\n",
       "      <td>-0.1</td>\n",
       "      <td>-0.7</td>\n",
       "      <td>94</td>\n",
       "      <td>6</td>\n",
       "    </tr>\n",
       "  </tbody>\n",
       "</table>\n",
       "</div>"
      ],
      "text/plain": [
       "                      date  rain  temp  wetb  dewpt rhum  wdsp\n",
       "264403 2022-02-28 19:00:00   0.0   2.5   1.7    0.3   86     6\n",
       "264404 2022-02-28 20:00:00   0.0   2.2   1.4    0.0   86     7\n",
       "264405 2022-02-28 21:00:00   0.0   1.1   0.6   -0.3   90     5\n",
       "264406 2022-02-28 22:00:00   0.0   0.0  -0.3   -1.0   94     6\n",
       "264407 2022-02-28 23:00:00   0.0   0.2  -0.1   -0.7   94     6"
      ]
     },
     "execution_count": 64,
     "metadata": {},
     "output_type": "execute_result"
    }
   ],
   "source": [
    "weather_data = weather_data[:-1] # drop the last row from 01/03/2022\n",
    "weather_data.tail()"
   ]
  },
  {
   "cell_type": "markdown",
   "id": "7aa0075e",
   "metadata": {},
   "source": [
    "<a id=\"2\"></a>\n",
    "# <p style=\"font-size:100%; text-align:left; color:#444444;\">2- Feature Engineering</p>"
   ]
  },
  {
   "cell_type": "markdown",
   "id": "3f3c83d5",
   "metadata": {},
   "source": [
    "## Hypothesis\n",
    "\n",
    "Hourly trend: It might be a high demand for people commuting to work. Early morning and late evening can have different trend (cyclist) and low demand during 10:00 pm to 4:00 am.\n",
    "\n",
    "Daily Trend: Users demand more bike on weekdays as compared to weekend or holiday.\n",
    "\n",
    "Rain: The demand of bikes will be lower on a rainy day as compared to a sunny day. Similarly, higher humidity will cause to lower the demand and vice versa.\n",
    "\n",
    "Temperature: In Ireland, temperature has positive correlation with bike demand.\n",
    "\n",
    "Traffic: It can be positively correlated with Bike demand. Higher traffic may force people to use bike as compared to other road transport medium like car, taxi etc.\n",
    "\n"
   ]
  },
  {
   "cell_type": "markdown",
   "id": "28849bd5",
   "metadata": {},
   "source": [
    "### New Features\n",
    "- date (yyyy-mm-dd)\n",
    "- month\n",
    "- hour\n",
    "- workingday\n",
    "- peak\n",
    "- holiday\n",
    "- season\n",
    "- battery_start\n",
    "- battery_end\n",
    "- path? (multi polygon)\n",
    "- rental_duration\n",
    "\n",
    "\n",
    "The number of rentals each hour will be aggregate later with a new feature `count`."
   ]
  },
  {
   "cell_type": "code",
   "execution_count": 65,
   "id": "239df5cc",
   "metadata": {},
   "outputs": [],
   "source": [
    "rentals_data = historical_data.drop(['harvesttime','ebikestateid'], axis=1).copy()\n",
    "rentals_data[[\"lastgpstime\", \"lastrentalstart\"]] = rentals_data[[\"lastgpstime\", \"lastrentalstart\"]].apply(pd.to_datetime)\n",
    "\n",
    "rentals_data = rentals_data.astype({'battery': np.int16}, errors='ignore') # errors ignore to keep missing values (not throwing error)"
   ]
  },
  {
   "cell_type": "code",
   "execution_count": 66,
   "id": "5bdae135",
   "metadata": {},
   "outputs": [
    {
     "name": "stdout",
     "output_type": "stream",
     "text": [
      "<class 'pandas.core.frame.DataFrame'>\n",
      "RangeIndex: 1667841 entries, 0 to 1667840\n",
      "Data columns (total 13 columns):\n",
      " #   Column           Non-Null Count    Dtype         \n",
      "---  ------           --------------    -----         \n",
      " 0   bikeid           1667841 non-null  int64         \n",
      " 1   battery          1625500 non-null  float64       \n",
      " 2   bikeidentifier   1667841 non-null  int64         \n",
      " 3   biketypename     1667841 non-null  object        \n",
      " 4   ebikeprofileid   1667841 non-null  int64         \n",
      " 5   isebike          1667841 non-null  bool          \n",
      " 6   ismotor          1667841 non-null  bool          \n",
      " 7   issmartlock      1667841 non-null  bool          \n",
      " 8   lastgpstime      1667841 non-null  datetime64[ns]\n",
      " 9   lastrentalstart  1667841 non-null  datetime64[ns]\n",
      " 10  latitude         1667841 non-null  float64       \n",
      " 11  longitude        1667841 non-null  float64       \n",
      " 12  spikeid          1667841 non-null  int64         \n",
      "dtypes: bool(3), datetime64[ns](2), float64(3), int64(4), object(1)\n",
      "memory usage: 132.0+ MB\n"
     ]
    }
   ],
   "source": [
    "rentals_data.info()"
   ]
  },
  {
   "cell_type": "markdown",
   "id": "55275ed7",
   "metadata": {},
   "source": [
    "### Rentals information\n",
    "\n",
    "- `coordinates`: converting latitude and longitude to an array to store a GeoJSON object *MultiPoint* \n",
    "- `start_battery`: getting the battery status when the rental started\n",
    "- `lastgpstime`: new variable that will only store the last record when grouping rentals"
   ]
  },
  {
   "cell_type": "code",
   "execution_count": 67,
   "id": "7d6e317c",
   "metadata": {},
   "outputs": [],
   "source": [
    "def feat_eng(x):\n",
    "    d = {}\n",
    "    d['coordinates'] = x[['latitude','longitude']].values.tolist()\n",
    "    d['start_battery'] = list(x['battery'])[-1] # get the first battery status (when rental started)\n",
    "    d['lastgpstime'] = list(x['lastgpstime'])[0] # get the last gpstime (previously sorted)\n",
    "    \n",
    "    return pd.Series(d, index=['coordinates', 'start_battery', 'lastgpstime'])\n",
    "\n",
    "# also sorting data by lastgpstime\n",
    "grouped_rentals = rentals_data.sort_values(\"lastgpstime\", ascending=False).groupby(['lastrentalstart', 'bikeid']).apply(feat_eng).reset_index()"
   ]
  },
  {
   "cell_type": "code",
   "execution_count": 68,
   "id": "3c8541b5",
   "metadata": {},
   "outputs": [
    {
     "data": {
      "text/plain": [
       "(48166, 5)"
      ]
     },
     "execution_count": 68,
     "metadata": {},
     "output_type": "execute_result"
    }
   ],
   "source": [
    "grouped_rentals.shape"
   ]
  },
  {
   "cell_type": "markdown",
   "id": "5e61f82f",
   "metadata": {},
   "source": [
    "### Date and time - new features\n",
    "- `rental_date`\n",
    "- `rental_month`\n",
    "- `rental_hour`\n",
    "- `holiday`\n",
    "- `workingday`\n",
    "- `peak`\n",
    "- `season`: (1 = Spring, 2 = Summer, 3 = Fall, 4 = Winter)\n",
    "- `duration`*: duration of the rental\n",
    "\n",
    "\\* **Assumption**: Due to lack of information and data, to calculate the average rent time I am assuming that when a new bike rental starts the average will be calculated by: $ ( AvgRentTime* = LastGPSTime - LastRentalStart ) $"
   ]
  },
  {
   "cell_type": "code",
   "execution_count": 69,
   "id": "af575e0a",
   "metadata": {},
   "outputs": [],
   "source": [
    "grouped_rentals['rental_date'] = pd.to_datetime(grouped_rentals['lastrentalstart'].dt.date)\n",
    "grouped_rentals['rental_hour'] = grouped_rentals['lastrentalstart'].dt.hour\n",
    "grouped_rentals['rental_day'] = grouped_rentals['lastrentalstart'].dt.day\n",
    "grouped_rentals['rental_month'] = grouped_rentals['lastrentalstart'].dt.month\n",
    "grouped_rentals['rental_year'] = grouped_rentals['lastrentalstart'].dt.year"
   ]
  },
  {
   "cell_type": "markdown",
   "id": "355516b2",
   "metadata": {},
   "source": [
    "Slicing the dataset to get the sample as per weather data above."
   ]
  },
  {
   "cell_type": "code",
   "execution_count": 70,
   "id": "c4480d0a",
   "metadata": {},
   "outputs": [
    {
     "data": {
      "text/plain": [
       "(datetime.datetime(2021, 2, 1, 0, 0), datetime.datetime(2022, 3, 1, 0, 0))"
      ]
     },
     "execution_count": 70,
     "metadata": {},
     "output_type": "execute_result"
    }
   ],
   "source": [
    "start_date_hist, end_date_hist"
   ]
  },
  {
   "cell_type": "code",
   "execution_count": 71,
   "id": "2602229e",
   "metadata": {},
   "outputs": [],
   "source": [
    "grouped_rentals = grouped_rentals[(grouped_rentals.rental_date >= start_date_hist) & (grouped_rentals.rental_date <= end_date_hist)]"
   ]
  },
  {
   "cell_type": "code",
   "execution_count": 72,
   "id": "a2ae1caf",
   "metadata": {},
   "outputs": [
    {
     "data": {
      "text/html": [
       "<div>\n",
       "<style scoped>\n",
       "    .dataframe tbody tr th:only-of-type {\n",
       "        vertical-align: middle;\n",
       "    }\n",
       "\n",
       "    .dataframe tbody tr th {\n",
       "        vertical-align: top;\n",
       "    }\n",
       "\n",
       "    .dataframe thead th {\n",
       "        text-align: right;\n",
       "    }\n",
       "</style>\n",
       "<table border=\"1\" class=\"dataframe\">\n",
       "  <thead>\n",
       "    <tr style=\"text-align: right;\">\n",
       "      <th></th>\n",
       "      <th>lastrentalstart</th>\n",
       "      <th>bikeid</th>\n",
       "      <th>coordinates</th>\n",
       "      <th>start_battery</th>\n",
       "      <th>lastgpstime</th>\n",
       "      <th>rental_date</th>\n",
       "      <th>rental_hour</th>\n",
       "      <th>rental_day</th>\n",
       "      <th>rental_month</th>\n",
       "      <th>rental_year</th>\n",
       "    </tr>\n",
       "  </thead>\n",
       "  <tbody>\n",
       "    <tr>\n",
       "      <th>48161</th>\n",
       "      <td>2022-02-27 20:16:55</td>\n",
       "      <td>48</td>\n",
       "      <td>[[53.3624, -6.23703], [53.3624, -6.23702], [53...</td>\n",
       "      <td>33.0</td>\n",
       "      <td>2022-02-28 00:17:57</td>\n",
       "      <td>2022-02-27</td>\n",
       "      <td>20</td>\n",
       "      <td>27</td>\n",
       "      <td>2</td>\n",
       "      <td>2022</td>\n",
       "    </tr>\n",
       "    <tr>\n",
       "      <th>48162</th>\n",
       "      <td>2022-02-27 21:54:06</td>\n",
       "      <td>109</td>\n",
       "      <td>[[53.3051, -6.21994], [53.3051, -6.21993], [53...</td>\n",
       "      <td>60.0</td>\n",
       "      <td>2022-02-28 00:05:03</td>\n",
       "      <td>2022-02-27</td>\n",
       "      <td>21</td>\n",
       "      <td>27</td>\n",
       "      <td>2</td>\n",
       "      <td>2022</td>\n",
       "    </tr>\n",
       "    <tr>\n",
       "      <th>48163</th>\n",
       "      <td>2022-02-27 21:57:44</td>\n",
       "      <td>49</td>\n",
       "      <td>[[53.3119, -6.27482], [53.3119, -6.2748], [53....</td>\n",
       "      <td>37.0</td>\n",
       "      <td>2022-02-28 00:25:27</td>\n",
       "      <td>2022-02-27</td>\n",
       "      <td>21</td>\n",
       "      <td>27</td>\n",
       "      <td>2</td>\n",
       "      <td>2022</td>\n",
       "    </tr>\n",
       "    <tr>\n",
       "      <th>48164</th>\n",
       "      <td>2022-02-27 22:29:41</td>\n",
       "      <td>87</td>\n",
       "      <td>[[53.3362, -6.2734], [53.3362, -6.27334], [53....</td>\n",
       "      <td>71.0</td>\n",
       "      <td>2022-02-28 00:05:19</td>\n",
       "      <td>2022-02-27</td>\n",
       "      <td>22</td>\n",
       "      <td>27</td>\n",
       "      <td>2</td>\n",
       "      <td>2022</td>\n",
       "    </tr>\n",
       "    <tr>\n",
       "      <th>48165</th>\n",
       "      <td>2022-02-27 22:29:42</td>\n",
       "      <td>10</td>\n",
       "      <td>[[53.3495, -6.24842], [53.3495, -6.2484], [53....</td>\n",
       "      <td>78.0</td>\n",
       "      <td>2022-02-28 00:06:11</td>\n",
       "      <td>2022-02-27</td>\n",
       "      <td>22</td>\n",
       "      <td>27</td>\n",
       "      <td>2</td>\n",
       "      <td>2022</td>\n",
       "    </tr>\n",
       "  </tbody>\n",
       "</table>\n",
       "</div>"
      ],
      "text/plain": [
       "          lastrentalstart  bikeid  \\\n",
       "48161 2022-02-27 20:16:55      48   \n",
       "48162 2022-02-27 21:54:06     109   \n",
       "48163 2022-02-27 21:57:44      49   \n",
       "48164 2022-02-27 22:29:41      87   \n",
       "48165 2022-02-27 22:29:42      10   \n",
       "\n",
       "                                             coordinates  start_battery  \\\n",
       "48161  [[53.3624, -6.23703], [53.3624, -6.23702], [53...           33.0   \n",
       "48162  [[53.3051, -6.21994], [53.3051, -6.21993], [53...           60.0   \n",
       "48163  [[53.3119, -6.27482], [53.3119, -6.2748], [53....           37.0   \n",
       "48164  [[53.3362, -6.2734], [53.3362, -6.27334], [53....           71.0   \n",
       "48165  [[53.3495, -6.24842], [53.3495, -6.2484], [53....           78.0   \n",
       "\n",
       "              lastgpstime rental_date  rental_hour  rental_day  rental_month  \\\n",
       "48161 2022-02-28 00:17:57  2022-02-27           20          27             2   \n",
       "48162 2022-02-28 00:05:03  2022-02-27           21          27             2   \n",
       "48163 2022-02-28 00:25:27  2022-02-27           21          27             2   \n",
       "48164 2022-02-28 00:05:19  2022-02-27           22          27             2   \n",
       "48165 2022-02-28 00:06:11  2022-02-27           22          27             2   \n",
       "\n",
       "       rental_year  \n",
       "48161         2022  \n",
       "48162         2022  \n",
       "48163         2022  \n",
       "48164         2022  \n",
       "48165         2022  "
      ]
     },
     "execution_count": 72,
     "metadata": {},
     "output_type": "execute_result"
    }
   ],
   "source": [
    "grouped_rentals.tail()"
   ]
  },
  {
   "cell_type": "markdown",
   "id": "e888fa10",
   "metadata": {},
   "source": [
    "## Rental's duration"
   ]
  },
  {
   "cell_type": "code",
   "execution_count": 73,
   "id": "43147d66",
   "metadata": {},
   "outputs": [],
   "source": [
    "# time of rental in minutes (lastgpstime - rental-start)\n",
    "grouped_rentals['duration'] = (grouped_rentals['lastgpstime'] - grouped_rentals['lastrentalstart']) / pd.Timedelta(minutes=1)"
   ]
  },
  {
   "cell_type": "markdown",
   "id": "9e9c2331",
   "metadata": {},
   "source": [
    "A few GPS records have frozen and stopped sending the accurate data back. About 345 records which would lead to a bias duration of rentals.\n",
    "\n",
    "To prevent any inaccurate information these records will be set as `NaN`."
   ]
  },
  {
   "cell_type": "code",
   "execution_count": 74,
   "id": "be1ca524",
   "metadata": {},
   "outputs": [
    {
     "data": {
      "text/plain": [
       "304"
      ]
     },
     "execution_count": 74,
     "metadata": {},
     "output_type": "execute_result"
    }
   ],
   "source": [
    "grouped_rentals['duration'] = np.where(grouped_rentals['duration'] < 0, np.NaN, grouped_rentals['duration'])\n",
    "len(grouped_rentals[ np.isnan(grouped_rentals['duration']) ])"
   ]
  },
  {
   "cell_type": "markdown",
   "id": "18b3df2e",
   "metadata": {},
   "source": [
    "## Bank Holidays"
   ]
  },
  {
   "cell_type": "code",
   "execution_count": 75,
   "id": "e5570ee1",
   "metadata": {},
   "outputs": [],
   "source": [
    "bank_holidays = pd.read_json('../data/processed/irishcalendar.json')\n",
    "bank_holidays['date'] = pd.to_datetime(arg=bank_holidays['date'],utc=True, infer_datetime_format=True)\n",
    "bank_holidays['dt'] = pd.to_datetime(bank_holidays['date'].dt.date)"
   ]
  },
  {
   "cell_type": "code",
   "execution_count": 76,
   "id": "7864cd48",
   "metadata": {},
   "outputs": [],
   "source": [
    "qry_bh = {\n",
    "    'type': 'National holiday'\n",
    "}\n",
    "\n",
    "# bank_holidays = read_mongo(query=qry_bh, collection='irishcalendar')\n",
    "bank_holidays.drop(['country', 'type'], axis=1, inplace=True)\n",
    "# bank_holidays['date'] = pd.DatetimeIndex(bank_holidays['date'].apply(pd.to_datetime))"
   ]
  },
  {
   "cell_type": "code",
   "execution_count": 77,
   "id": "0b2595b2",
   "metadata": {},
   "outputs": [],
   "source": [
    "# holiday\n",
    "grouped_rentals['holiday'] = grouped_rentals['rental_date'].isin(bank_holidays['dt'])\n",
    "\n",
    "# day of the week\n",
    "grouped_rentals['dayofweek_n'] = grouped_rentals['rental_date'].dt.dayofweek\n",
    "grouped_rentals['dayofweek'] = grouped_rentals['rental_date'].dt.day_name()\n",
    "\n",
    "# working day (Monday=0, Sunday=6)\n",
    "# from 0 to 4 or monday to friday and is not holiday\n",
    "grouped_rentals['working_day'] = grouped_rentals['dayofweek_n'] < 5\n",
    "# set working_day to False on National Bank Holodays\n",
    "grouped_rentals.loc[ grouped_rentals['holiday'] , 'working_day'] = False"
   ]
  },
  {
   "cell_type": "markdown",
   "id": "cd71c793",
   "metadata": {},
   "source": [
    "## Seasons"
   ]
  },
  {
   "cell_type": "code",
   "execution_count": 78,
   "id": "d77d5e8f",
   "metadata": {},
   "outputs": [],
   "source": [
    "Y = 2000 # dummy leap year to allow input X-02-29 (leap day)\n",
    "seasons = [('Winter', (datetime(Y,  1,  1),  datetime(Y,  3, 20))),\n",
    "           ('Spring', (datetime(Y,  3, 21),  datetime(Y,  6, 20))),\n",
    "           ('Summer', (datetime(Y,  6, 21),  datetime(Y,  9, 22))),\n",
    "           ('Autumn', (datetime(Y,  9, 23),  datetime(Y, 12, 20))),\n",
    "           ('Winter', (datetime(Y, 12, 21),  datetime(Y, 12, 31)))]\n",
    "\n",
    "def get_season(date: pd.DatetimeIndex) -> str:\n",
    "    '''\n",
    "        Receives a date and returns the corresponded season\n",
    "        0 - Spring | 1 - Summer | 2 - Autumn | 3 - Winter\n",
    "        Vernal equinox(about March 21): day and night of equal length, marking the start of spring\n",
    "        Summer solstice (June 20 or 21): longest day of the year, marking the start of summer\n",
    "        Autumnal equinox(about September 23): day and night of equal length, marking the start of autumn\n",
    "        Winter solstice (December 21 or 22): shortest day of the year, marking the start of winter\n",
    "    '''\n",
    "    date = date.replace(year=Y)\n",
    "    return next(season for season, (start, end) in seasons if start <= date <= end)\n",
    "\n",
    "\n",
    "grouped_rentals['season'] = grouped_rentals.rental_date.map(get_season)"
   ]
  },
  {
   "cell_type": "code",
   "execution_count": 79,
   "id": "1ec8b019",
   "metadata": {},
   "outputs": [
    {
     "data": {
      "text/plain": [
       "season\n",
       "Autumn    7609\n",
       "Spring    9268\n",
       "Summer    9373\n",
       "Winter    9353\n",
       "dtype: int64"
      ]
     },
     "execution_count": 79,
     "metadata": {},
     "output_type": "execute_result"
    }
   ],
   "source": [
    "grouped_rentals.groupby('season').size()"
   ]
  },
  {
   "cell_type": "code",
   "execution_count": 80,
   "id": "4d329dd6",
   "metadata": {},
   "outputs": [
    {
     "data": {
      "text/plain": [
       "lastrentalstart      0\n",
       "bikeid               0\n",
       "coordinates          0\n",
       "start_battery      548\n",
       "lastgpstime          0\n",
       "rental_date          0\n",
       "rental_hour          0\n",
       "rental_day           0\n",
       "rental_month         0\n",
       "rental_year          0\n",
       "duration           304\n",
       "holiday              0\n",
       "dayofweek_n          0\n",
       "dayofweek            0\n",
       "working_day          0\n",
       "season               0\n",
       "dtype: int64"
      ]
     },
     "execution_count": 80,
     "metadata": {},
     "output_type": "execute_result"
    }
   ],
   "source": [
    "grouped_rentals.isnull().sum()"
   ]
  },
  {
   "cell_type": "markdown",
   "id": "57a5ebc7",
   "metadata": {},
   "source": [
    "## Battery"
   ]
  },
  {
   "cell_type": "code",
   "execution_count": 81,
   "id": "e4eeaefc",
   "metadata": {},
   "outputs": [],
   "source": [
    "grouped_rentals['start_battery'] = pd.to_numeric(grouped_rentals['start_battery'])"
   ]
  },
  {
   "cell_type": "code",
   "execution_count": 82,
   "id": "a2b2193c",
   "metadata": {},
   "outputs": [
    {
     "data": {
      "text/html": [
       "<div>\n",
       "<style scoped>\n",
       "    .dataframe tbody tr th:only-of-type {\n",
       "        vertical-align: middle;\n",
       "    }\n",
       "\n",
       "    .dataframe tbody tr th {\n",
       "        vertical-align: top;\n",
       "    }\n",
       "\n",
       "    .dataframe thead th {\n",
       "        text-align: right;\n",
       "    }\n",
       "</style>\n",
       "<table border=\"1\" class=\"dataframe\">\n",
       "  <thead>\n",
       "    <tr style=\"text-align: right;\">\n",
       "      <th></th>\n",
       "      <th>lastrentalstart</th>\n",
       "      <th>bikeid</th>\n",
       "      <th>coordinates</th>\n",
       "      <th>start_battery</th>\n",
       "      <th>lastgpstime</th>\n",
       "      <th>rental_date</th>\n",
       "      <th>rental_hour</th>\n",
       "      <th>rental_day</th>\n",
       "      <th>rental_month</th>\n",
       "      <th>rental_year</th>\n",
       "      <th>duration</th>\n",
       "      <th>holiday</th>\n",
       "      <th>dayofweek_n</th>\n",
       "      <th>dayofweek</th>\n",
       "      <th>working_day</th>\n",
       "      <th>season</th>\n",
       "    </tr>\n",
       "  </thead>\n",
       "  <tbody>\n",
       "    <tr>\n",
       "      <th>18593</th>\n",
       "      <td>2021-04-03 12:40:00</td>\n",
       "      <td>103</td>\n",
       "      <td>[[53.3405, -6.2679]]</td>\n",
       "      <td>268.0</td>\n",
       "      <td>2021-04-03 12:55:11</td>\n",
       "      <td>2021-04-03</td>\n",
       "      <td>12</td>\n",
       "      <td>3</td>\n",
       "      <td>4</td>\n",
       "      <td>2021</td>\n",
       "      <td>15.183333</td>\n",
       "      <td>False</td>\n",
       "      <td>5</td>\n",
       "      <td>Saturday</td>\n",
       "      <td>False</td>\n",
       "      <td>Spring</td>\n",
       "    </tr>\n",
       "  </tbody>\n",
       "</table>\n",
       "</div>"
      ],
      "text/plain": [
       "          lastrentalstart  bikeid           coordinates  start_battery  \\\n",
       "18593 2021-04-03 12:40:00     103  [[53.3405, -6.2679]]          268.0   \n",
       "\n",
       "              lastgpstime rental_date  rental_hour  rental_day  rental_month  \\\n",
       "18593 2021-04-03 12:55:11  2021-04-03           12           3             4   \n",
       "\n",
       "       rental_year   duration  holiday  dayofweek_n dayofweek  working_day  \\\n",
       "18593         2021  15.183333    False            5  Saturday        False   \n",
       "\n",
       "       season  \n",
       "18593  Spring  "
      ]
     },
     "execution_count": 82,
     "metadata": {},
     "output_type": "execute_result"
    }
   ],
   "source": [
    "grouped_rentals[grouped_rentals['start_battery'] > 100]"
   ]
  },
  {
   "cell_type": "markdown",
   "id": "3d39c288",
   "metadata": {},
   "source": [
    "From the battery records there is a few cases that we can consider. Only one record has ` battery > 100` and a few negatives ones. To simplify the analysis the records will be normalized with values between `0 > x > 100`.\n",
    "\n",
    "All missing values (*n=571*) will not be transformed as it could be only malfunction issue when transmiting the data and it could mislead the analysis."
   ]
  },
  {
   "cell_type": "code",
   "execution_count": 83,
   "id": "c8f4b658",
   "metadata": {},
   "outputs": [],
   "source": [
    "# normalize battery status between 0 > x < 100\n",
    "grouped_rentals['start_battery'] = abs(grouped_rentals['start_battery'])\n",
    "grouped_rentals.loc[grouped_rentals['start_battery'] > 100, 'start_battery'] = 100"
   ]
  },
  {
   "cell_type": "markdown",
   "id": "f8b33cf3",
   "metadata": {},
   "source": [
    "## Peak Times\n",
    "\n",
    ">https://www.independent.ie/irish-news/the-new-commuter-hour-peak-times-increase-with-record-traffic-volumes-36903431.html"
   ]
  },
  {
   "cell_type": "code",
   "execution_count": 84,
   "id": "9c9da377",
   "metadata": {},
   "outputs": [],
   "source": [
    "grouped_rentals['peak'] = grouped_rentals[['rental_hour', 'working_day']] \\\n",
    "    .apply(lambda x: (False, True)[(x['working_day'] == 1 and (6 <= x['rental_hour'] <= 10 or 15 <= x['rental_hour'] <= 19))], axis = 1)"
   ]
  },
  {
   "cell_type": "markdown",
   "id": "f819972c",
   "metadata": {},
   "source": [
    "## Times of the Day\n",
    "\n",
    "- Morning (from 7am to noon)\n",
    "- Afternoon (from midday to 6pm)\n",
    "- Evening (from 6pm to 10pm)\n",
    "- Night (from 10pm to 5am)"
   ]
  },
  {
   "cell_type": "code",
   "execution_count": 85,
   "id": "501a31bd",
   "metadata": {},
   "outputs": [],
   "source": [
    "conditions = [\n",
    "    (grouped_rentals['rental_hour'] < 7), # night\n",
    "    (grouped_rentals['rental_hour'] >= 7) & (grouped_rentals['rental_hour'] < 12), # morning\n",
    "    (grouped_rentals['rental_hour'] >= 12) & (grouped_rentals['rental_hour'] < 18), # afternoon\n",
    "    (grouped_rentals['rental_hour'] >= 18) & (grouped_rentals['rental_hour'] < 23) # evening\n",
    "]\n",
    "values = ['Night', 'Morning', 'Afternoon', 'Evening']\n",
    "grouped_rentals['timesofday'] = np.select(conditions, values,'Night')"
   ]
  },
  {
   "cell_type": "code",
   "execution_count": 86,
   "id": "5d8a72e6",
   "metadata": {},
   "outputs": [],
   "source": [
    "new_rentals = grouped_rentals.copy()\n",
    "new_rentals.to_csv('../data/interim/new_features_rentals.csv', index=False)"
   ]
  },
  {
   "cell_type": "markdown",
   "id": "528c3956",
   "metadata": {},
   "source": [
    "## Humidity\n",
    "\n",
    "Attempt to create a new feature called `Humidity` to avoid Multicollinearity."
   ]
  },
  {
   "cell_type": "markdown",
   "id": "cf625434",
   "metadata": {},
   "source": [
    "### We need different humidity quantities\n",
    "\n",
    "The problem with relative humidity is that, by itself, it doesn’t really tell you how humid it is.\n",
    "\n",
    "- **Relative Humidity** – This quantity tells us how close the conditions are to saturation, when condensation of water vapor can occur. The interaction of porous materials with water vapor increases with increasing RH. The chance of growing mold increases with increasing RH, 70% usually given as the threshold to stay below.\n",
    "- **Dew Point Temperature** – This temperature scales with the amount of water vapor. As more water vapor enters a volume, the dew point goes up. If the air in your crawl space, for example, has a dew point of 75° F, you’re probably going to find condensation somewhere. Look at the water pipes, poorly insulated ducts, and uninsulated duct boots.\n",
    "- **Wet Bulb Temperature** – If dew point is the temperature of condensation, wet bulb is the temperature of evaporation. Same concept; different direction. This one’s important for cooling our bodies.\n",
    "\n",
    "Once you get a handle on these three quantities, you’ll have a pretty good understanding of humidity.\n",
    "\n",
    "> https://www.energyvanguard.com/blog/problem-with-relative-humidity"
   ]
  },
  {
   "cell_type": "code",
   "execution_count": 87,
   "id": "4a7c78db",
   "metadata": {},
   "outputs": [],
   "source": [
    "weather_data['rhum'] = pd.to_numeric(weather_data['rhum'],errors = 'coerce')\n",
    "weather_data['wetb'] = pd.to_numeric(weather_data['wetb'],errors = 'coerce')\n",
    "weather_data['dewpt'] = pd.to_numeric(weather_data['dewpt'],errors = 'coerce')"
   ]
  },
  {
   "cell_type": "code",
   "execution_count": 88,
   "id": "bffce8d6",
   "metadata": {},
   "outputs": [
    {
     "data": {
      "text/html": [
       "<div>\n",
       "<style scoped>\n",
       "    .dataframe tbody tr th:only-of-type {\n",
       "        vertical-align: middle;\n",
       "    }\n",
       "\n",
       "    .dataframe tbody tr th {\n",
       "        vertical-align: top;\n",
       "    }\n",
       "\n",
       "    .dataframe thead th {\n",
       "        text-align: right;\n",
       "    }\n",
       "</style>\n",
       "<table border=\"1\" class=\"dataframe\">\n",
       "  <thead>\n",
       "    <tr style=\"text-align: right;\">\n",
       "      <th></th>\n",
       "      <th>date</th>\n",
       "      <th>rain</th>\n",
       "      <th>temp</th>\n",
       "      <th>wetb</th>\n",
       "      <th>dewpt</th>\n",
       "      <th>rhum</th>\n",
       "      <th>wdsp</th>\n",
       "    </tr>\n",
       "  </thead>\n",
       "  <tbody>\n",
       "  </tbody>\n",
       "</table>\n",
       "</div>"
      ],
      "text/plain": [
       "Empty DataFrame\n",
       "Columns: [date, rain, temp, wetb, dewpt, rhum, wdsp]\n",
       "Index: []"
      ]
     },
     "execution_count": 88,
     "metadata": {},
     "output_type": "execute_result"
    }
   ],
   "source": [
    "weather_data[weather_data.rhum.isnull()]"
   ]
  },
  {
   "cell_type": "markdown",
   "id": "559d7fec",
   "metadata": {},
   "source": [
    "### Variance Inflation Factor(VIF)"
   ]
  },
  {
   "cell_type": "code",
   "execution_count": 89,
   "id": "878313a7",
   "metadata": {},
   "outputs": [],
   "source": [
    "from statsmodels.stats.outliers_influence import variance_inflation_factor"
   ]
  },
  {
   "cell_type": "code",
   "execution_count": 90,
   "id": "dfa65439",
   "metadata": {},
   "outputs": [],
   "source": [
    "# Fill NaN values: 'ffill' -> propagate last valid observation forward to next valid\n",
    "weather_data.fillna(method=\"ffill\", inplace=True) "
   ]
  },
  {
   "cell_type": "code",
   "execution_count": 91,
   "id": "677ecc4f",
   "metadata": {},
   "outputs": [
    {
     "data": {
      "text/html": [
       "<div>\n",
       "<style scoped>\n",
       "    .dataframe tbody tr th:only-of-type {\n",
       "        vertical-align: middle;\n",
       "    }\n",
       "\n",
       "    .dataframe tbody tr th {\n",
       "        vertical-align: top;\n",
       "    }\n",
       "\n",
       "    .dataframe thead th {\n",
       "        text-align: right;\n",
       "    }\n",
       "</style>\n",
       "<table border=\"1\" class=\"dataframe\">\n",
       "  <thead>\n",
       "    <tr style=\"text-align: right;\">\n",
       "      <th></th>\n",
       "      <th>features</th>\n",
       "      <th>vif_value</th>\n",
       "    </tr>\n",
       "  </thead>\n",
       "  <tbody>\n",
       "    <tr>\n",
       "      <th>0</th>\n",
       "      <td>rain</td>\n",
       "      <td>1.088090</td>\n",
       "    </tr>\n",
       "    <tr>\n",
       "      <th>1</th>\n",
       "      <td>temp</td>\n",
       "      <td>1309.806894</td>\n",
       "    </tr>\n",
       "    <tr>\n",
       "      <th>2</th>\n",
       "      <td>wetb</td>\n",
       "      <td>3378.828670</td>\n",
       "    </tr>\n",
       "    <tr>\n",
       "      <th>3</th>\n",
       "      <td>dewpt</td>\n",
       "      <td>463.724882</td>\n",
       "    </tr>\n",
       "    <tr>\n",
       "      <th>4</th>\n",
       "      <td>rhum</td>\n",
       "      <td>9.756297</td>\n",
       "    </tr>\n",
       "    <tr>\n",
       "      <th>5</th>\n",
       "      <td>wdsp</td>\n",
       "      <td>5.165330</td>\n",
       "    </tr>\n",
       "  </tbody>\n",
       "</table>\n",
       "</div>"
      ],
      "text/plain": [
       "  features    vif_value\n",
       "0     rain     1.088090\n",
       "1     temp  1309.806894\n",
       "2     wetb  3378.828670\n",
       "3    dewpt   463.724882\n",
       "4     rhum     9.756297\n",
       "5     wdsp     5.165330"
      ]
     },
     "execution_count": 91,
     "metadata": {},
     "output_type": "execute_result"
    }
   ],
   "source": [
    "test_vif = weather_data.copy().drop('date', axis=1)\n",
    "#Calculate VIF for each variable in the new data frame\n",
    "vif = pd.DataFrame()\n",
    "vif[\"features\"] = test_vif.columns\n",
    "vif[\"vif_value\"] = [variance_inflation_factor(test_vif.values, i) for i in range(test_vif.shape[1])]\n",
    "vif"
   ]
  },
  {
   "cell_type": "markdown",
   "id": "84f1d10c",
   "metadata": {},
   "source": [
    "To avoid multicolinearity we could create a new feature based on some calculation on those three features related to humidity. Unfortunately, the Forecast API that will be used in production **does not include Wet Bulb Temperature**.\n",
    "\n",
    "There are a few equations that could applied to calculate Wet Bulb Temperature (eg: Stull formula) but because we do not have which one is used to store this feature on their historical the best would be not use this feature at all."
   ]
  },
  {
   "cell_type": "code",
   "execution_count": 92,
   "id": "fa2cd710",
   "metadata": {},
   "outputs": [],
   "source": [
    "#weather_data.drop(['rhum', 'wetb', 'dewpt'], axis=1, inplace=True)\n",
    "weather_data.drop(['wetb', 'dewpt'], axis=1, inplace=True)"
   ]
  },
  {
   "cell_type": "markdown",
   "id": "fd192a57",
   "metadata": {},
   "source": [
    "## Combining Rentals and Weather data"
   ]
  },
  {
   "cell_type": "code",
   "execution_count": 93,
   "id": "8b2a87ad",
   "metadata": {},
   "outputs": [],
   "source": [
    "rentals = new_rentals.copy()\n",
    "weather = weather_data.copy()\n",
    "\n",
    "weather['rental_date'] = pd.to_datetime(weather['date'].dt.date)\n",
    "weather['rental_hour'] = weather['date'].dt.hour"
   ]
  },
  {
   "cell_type": "code",
   "execution_count": 94,
   "id": "c1291989",
   "metadata": {},
   "outputs": [],
   "source": [
    "all_data = pd.merge(rentals, weather, on=['rental_date', 'rental_hour'])\n",
    "all_data.to_csv('../data/interim/all_data.csv', index=False)"
   ]
  },
  {
   "cell_type": "markdown",
   "id": "28dee8ca",
   "metadata": {},
   "source": [
    "## Grouping data to reflect hourly count of rentals"
   ]
  },
  {
   "cell_type": "code",
   "execution_count": 95,
   "id": "4f8245ef",
   "metadata": {},
   "outputs": [
    {
     "data": {
      "text/plain": [
       "((7447, 15), (7447, 3))"
      ]
     },
     "execution_count": 95,
     "metadata": {},
     "output_type": "execute_result"
    }
   ],
   "source": [
    "hourly_rentals = all_data.copy()\n",
    "count_hourly_rentals = hourly_rentals.groupby(['rental_date', 'rental_hour']).size().reset_index(name='count')\n",
    "columns_to_drop = ['lastrentalstart','bikeid','coordinates','start_battery','lastgpstime','rental_month','duration','date']\n",
    "hourly_rentals = hourly_rentals.drop(columns_to_drop, axis=1).drop_duplicates(subset=['rental_date', 'rental_hour'])\n",
    "hourly_rentals.shape, count_hourly_rentals.shape"
   ]
  },
  {
   "cell_type": "code",
   "execution_count": 96,
   "id": "fea66157",
   "metadata": {},
   "outputs": [
    {
     "data": {
      "text/html": [
       "<div>\n",
       "<style scoped>\n",
       "    .dataframe tbody tr th:only-of-type {\n",
       "        vertical-align: middle;\n",
       "    }\n",
       "\n",
       "    .dataframe tbody tr th {\n",
       "        vertical-align: top;\n",
       "    }\n",
       "\n",
       "    .dataframe thead th {\n",
       "        text-align: right;\n",
       "    }\n",
       "</style>\n",
       "<table border=\"1\" class=\"dataframe\">\n",
       "  <thead>\n",
       "    <tr style=\"text-align: right;\">\n",
       "      <th></th>\n",
       "      <th>rental_date</th>\n",
       "      <th>rental_hour</th>\n",
       "      <th>rental_day</th>\n",
       "      <th>rental_year</th>\n",
       "      <th>holiday</th>\n",
       "      <th>dayofweek_n</th>\n",
       "      <th>dayofweek</th>\n",
       "      <th>working_day</th>\n",
       "      <th>season</th>\n",
       "      <th>peak</th>\n",
       "      <th>timesofday</th>\n",
       "      <th>rain</th>\n",
       "      <th>temp</th>\n",
       "      <th>rhum</th>\n",
       "      <th>wdsp</th>\n",
       "      <th>count</th>\n",
       "    </tr>\n",
       "  </thead>\n",
       "  <tbody>\n",
       "    <tr>\n",
       "      <th>0</th>\n",
       "      <td>2021-02-01</td>\n",
       "      <td>6</td>\n",
       "      <td>1</td>\n",
       "      <td>2021</td>\n",
       "      <td>False</td>\n",
       "      <td>0</td>\n",
       "      <td>Monday</td>\n",
       "      <td>True</td>\n",
       "      <td>Winter</td>\n",
       "      <td>True</td>\n",
       "      <td>Night</td>\n",
       "      <td>0.0</td>\n",
       "      <td>3.4</td>\n",
       "      <td>98</td>\n",
       "      <td>3</td>\n",
       "      <td>1</td>\n",
       "    </tr>\n",
       "    <tr>\n",
       "      <th>1</th>\n",
       "      <td>2021-02-01</td>\n",
       "      <td>8</td>\n",
       "      <td>1</td>\n",
       "      <td>2021</td>\n",
       "      <td>False</td>\n",
       "      <td>0</td>\n",
       "      <td>Monday</td>\n",
       "      <td>True</td>\n",
       "      <td>Winter</td>\n",
       "      <td>True</td>\n",
       "      <td>Morning</td>\n",
       "      <td>0.0</td>\n",
       "      <td>3.5</td>\n",
       "      <td>93</td>\n",
       "      <td>4</td>\n",
       "      <td>2</td>\n",
       "    </tr>\n",
       "    <tr>\n",
       "      <th>2</th>\n",
       "      <td>2021-02-01</td>\n",
       "      <td>9</td>\n",
       "      <td>1</td>\n",
       "      <td>2021</td>\n",
       "      <td>False</td>\n",
       "      <td>0</td>\n",
       "      <td>Monday</td>\n",
       "      <td>True</td>\n",
       "      <td>Winter</td>\n",
       "      <td>True</td>\n",
       "      <td>Morning</td>\n",
       "      <td>0.0</td>\n",
       "      <td>2.6</td>\n",
       "      <td>93</td>\n",
       "      <td>2</td>\n",
       "      <td>4</td>\n",
       "    </tr>\n",
       "    <tr>\n",
       "      <th>3</th>\n",
       "      <td>2021-02-01</td>\n",
       "      <td>10</td>\n",
       "      <td>1</td>\n",
       "      <td>2021</td>\n",
       "      <td>False</td>\n",
       "      <td>0</td>\n",
       "      <td>Monday</td>\n",
       "      <td>True</td>\n",
       "      <td>Winter</td>\n",
       "      <td>True</td>\n",
       "      <td>Morning</td>\n",
       "      <td>0.0</td>\n",
       "      <td>4.1</td>\n",
       "      <td>97</td>\n",
       "      <td>4</td>\n",
       "      <td>3</td>\n",
       "    </tr>\n",
       "    <tr>\n",
       "      <th>4</th>\n",
       "      <td>2021-02-01</td>\n",
       "      <td>11</td>\n",
       "      <td>1</td>\n",
       "      <td>2021</td>\n",
       "      <td>False</td>\n",
       "      <td>0</td>\n",
       "      <td>Monday</td>\n",
       "      <td>True</td>\n",
       "      <td>Winter</td>\n",
       "      <td>False</td>\n",
       "      <td>Morning</td>\n",
       "      <td>0.0</td>\n",
       "      <td>5.2</td>\n",
       "      <td>86</td>\n",
       "      <td>6</td>\n",
       "      <td>12</td>\n",
       "    </tr>\n",
       "  </tbody>\n",
       "</table>\n",
       "</div>"
      ],
      "text/plain": [
       "  rental_date  rental_hour  rental_day  rental_year  holiday  dayofweek_n  \\\n",
       "0  2021-02-01            6           1         2021    False            0   \n",
       "1  2021-02-01            8           1         2021    False            0   \n",
       "2  2021-02-01            9           1         2021    False            0   \n",
       "3  2021-02-01           10           1         2021    False            0   \n",
       "4  2021-02-01           11           1         2021    False            0   \n",
       "\n",
       "  dayofweek  working_day  season   peak timesofday  rain  temp  rhum  wdsp  \\\n",
       "0    Monday         True  Winter   True      Night   0.0   3.4    98     3   \n",
       "1    Monday         True  Winter   True    Morning   0.0   3.5    93     4   \n",
       "2    Monday         True  Winter   True    Morning   0.0   2.6    93     2   \n",
       "3    Monday         True  Winter   True    Morning   0.0   4.1    97     4   \n",
       "4    Monday         True  Winter  False    Morning   0.0   5.2    86     6   \n",
       "\n",
       "   count  \n",
       "0      1  \n",
       "1      2  \n",
       "2      4  \n",
       "3      3  \n",
       "4     12  "
      ]
     },
     "execution_count": 96,
     "metadata": {},
     "output_type": "execute_result"
    }
   ],
   "source": [
    "hourly_data = pd.merge(hourly_rentals, count_hourly_rentals, on=['rental_date','rental_hour'])\n",
    "hourly_data.to_csv('../data/interim/hourly_data.csv', index=False)\n",
    "hourly_data.head()"
   ]
  },
  {
   "cell_type": "markdown",
   "id": "70cf35db",
   "metadata": {},
   "source": [
    "<img title=\"GitHub Mark\" src=\"./img/GitHub-Mark-64px.png\" style=\"height: 32px; padding-right: 15px\" alt=\"GitHub Mark\" align=\"left\"> [GitHub repository](https://github.com/pessini/moby-bikes) <br>Author: Leandro Pessini"
   ]
  }
 ],
 "metadata": {
  "interpreter": {
   "hash": "5c82cf216bcd6695c751af4e033b89e10a78cc5d50e2943f0ed5dd08b475eddb"
  },
  "kernelspec": {
   "display_name": "Python 3 (ipykernel)",
   "language": "python",
   "name": "python3"
  },
  "language_info": {
   "codemirror_mode": {
    "name": "ipython",
    "version": 3
   },
   "file_extension": ".py",
   "mimetype": "text/x-python",
   "name": "python",
   "nbconvert_exporter": "python",
   "pygments_lexer": "ipython3",
   "version": "3.9.6"
  }
 },
 "nbformat": 4,
 "nbformat_minor": 5
}
