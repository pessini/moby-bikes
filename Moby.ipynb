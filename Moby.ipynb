{
 "cells": [
  {
   "cell_type": "markdown",
   "id": "95d4017d-d8c5-4ff4-ac85-2470e8f833e2",
   "metadata": {},
   "source": [
    "# Moby Bikes"
   ]
  },
  {
   "cell_type": "markdown",
   "id": "c2e05cd5-b4d6-4a71-a142-2be17ec3eb58",
   "metadata": {},
   "source": [
    "## eBike Operators\n",
    "\n",
    "### Job Description:\n",
    "\n",
    "MOBY is Ireland’s most exciting urban mobility company. We deployed a fleet of shared electric bikes in the nation’s capital.\n",
    "\n",
    "We need an ambitious  person distributing and relocating our eBikes throughout the city, while performing safety checks and basic maintenance (training provided).\n",
    "\n",
    "Delivering and collecting  private rental eBikes for our customers.\n",
    "\n",
    "We plan to expand our team in Dublin and abroad, so there will be opportunities to progress within the company .\n",
    "\n",
    "### Responsibilities:\n",
    "\n",
    "- **Distributing bikes to the city’s most in-demand locations (Cycling electric cargo trike).**\n",
    "- **Replacing bike batteries when out of charge.**\n",
    "- Relocating bikes which have been incorrectly parked.\n",
    "- Scheduling and completing delivery and collection of subscription eBikes (Moby+ and Moby+ Pro) to our customers.\n",
    "- **Check and repair eBikes on street (training provided).**\n",
    "- Other responsibilities as required."
   ]
  },
  {
   "cell_type": "code",
   "execution_count": 1,
   "id": "a9fe93fe-b288-43b8-89e6-5669dc6578b8",
   "metadata": {},
   "outputs": [],
   "source": [
    "import pandas as pd\n",
    "import numpy as np"
   ]
  },
  {
   "cell_type": "code",
   "execution_count": 2,
   "id": "4e5b076b-22bb-4f53-9113-60869fcd09af",
   "metadata": {},
   "outputs": [],
   "source": [
    "moby_jan = pd.read_csv('moby-bikes-historical-data-012021.csv')"
   ]
  },
  {
   "cell_type": "code",
   "execution_count": 3,
   "id": "1cf4260a-65e4-4fc4-bdfd-ab9b19f665cb",
   "metadata": {},
   "outputs": [
    {
     "data": {
      "text/html": [
       "<div>\n",
       "<style scoped>\n",
       "    .dataframe tbody tr th:only-of-type {\n",
       "        vertical-align: middle;\n",
       "    }\n",
       "\n",
       "    .dataframe tbody tr th {\n",
       "        vertical-align: top;\n",
       "    }\n",
       "\n",
       "    .dataframe thead th {\n",
       "        text-align: right;\n",
       "    }\n",
       "</style>\n",
       "<table border=\"1\" class=\"dataframe\">\n",
       "  <thead>\n",
       "    <tr style=\"text-align: right;\">\n",
       "      <th></th>\n",
       "      <th>HarvestTime</th>\n",
       "      <th>BikeID</th>\n",
       "      <th>Battery</th>\n",
       "      <th>BikeIdentifier</th>\n",
       "      <th>BikeTypeName</th>\n",
       "      <th>EBikeProfileID</th>\n",
       "      <th>EBikeStateID</th>\n",
       "      <th>IsEBike</th>\n",
       "      <th>IsMotor</th>\n",
       "      <th>IsSmartLock</th>\n",
       "      <th>LastGPSTime</th>\n",
       "      <th>LastRentalStart</th>\n",
       "      <th>Latitude</th>\n",
       "      <th>Longitude</th>\n",
       "      <th>SpikeID</th>\n",
       "    </tr>\n",
       "  </thead>\n",
       "  <tbody>\n",
       "    <tr>\n",
       "      <th>0</th>\n",
       "      <td>2021-01-01 00:00:03</td>\n",
       "      <td>5</td>\n",
       "      <td>44.0</td>\n",
       "      <td>1</td>\n",
       "      <td>DUB-General</td>\n",
       "      <td>1</td>\n",
       "      <td>2</td>\n",
       "      <td>True</td>\n",
       "      <td>False</td>\n",
       "      <td>False</td>\n",
       "      <td>2020-12-31 23:34:59</td>\n",
       "      <td>2020-12-31 17:35:09</td>\n",
       "      <td>53.3625</td>\n",
       "      <td>-6.23690</td>\n",
       "      <td>1</td>\n",
       "    </tr>\n",
       "    <tr>\n",
       "      <th>1</th>\n",
       "      <td>2021-01-01 00:00:03</td>\n",
       "      <td>6</td>\n",
       "      <td>85.0</td>\n",
       "      <td>2</td>\n",
       "      <td>DUB-General</td>\n",
       "      <td>1</td>\n",
       "      <td>2</td>\n",
       "      <td>True</td>\n",
       "      <td>False</td>\n",
       "      <td>False</td>\n",
       "      <td>2020-12-31 23:40:34</td>\n",
       "      <td>2020-12-31 12:35:39</td>\n",
       "      <td>53.3382</td>\n",
       "      <td>-6.22264</td>\n",
       "      <td>2</td>\n",
       "    </tr>\n",
       "    <tr>\n",
       "      <th>2</th>\n",
       "      <td>2021-01-01 00:00:03</td>\n",
       "      <td>7</td>\n",
       "      <td>82.0</td>\n",
       "      <td>3</td>\n",
       "      <td>DUB-General</td>\n",
       "      <td>1</td>\n",
       "      <td>2</td>\n",
       "      <td>True</td>\n",
       "      <td>False</td>\n",
       "      <td>False</td>\n",
       "      <td>2020-12-31 23:47:25</td>\n",
       "      <td>2020-12-31 10:43:02</td>\n",
       "      <td>53.3440</td>\n",
       "      <td>-6.26688</td>\n",
       "      <td>3</td>\n",
       "    </tr>\n",
       "    <tr>\n",
       "      <th>3</th>\n",
       "      <td>2021-01-01 00:00:03</td>\n",
       "      <td>8</td>\n",
       "      <td>64.0</td>\n",
       "      <td>4</td>\n",
       "      <td>DUB-General</td>\n",
       "      <td>1</td>\n",
       "      <td>2</td>\n",
       "      <td>True</td>\n",
       "      <td>False</td>\n",
       "      <td>False</td>\n",
       "      <td>2020-12-31 23:50:23</td>\n",
       "      <td>2020-12-30 19:56:56</td>\n",
       "      <td>53.3625</td>\n",
       "      <td>-6.23710</td>\n",
       "      <td>4</td>\n",
       "    </tr>\n",
       "    <tr>\n",
       "      <th>4</th>\n",
       "      <td>2021-01-01 00:00:03</td>\n",
       "      <td>9</td>\n",
       "      <td>71.0</td>\n",
       "      <td>5</td>\n",
       "      <td>DUB-General</td>\n",
       "      <td>1</td>\n",
       "      <td>2</td>\n",
       "      <td>True</td>\n",
       "      <td>False</td>\n",
       "      <td>False</td>\n",
       "      <td>2020-12-31 23:45:27</td>\n",
       "      <td>2020-12-31 18:32:51</td>\n",
       "      <td>53.3496</td>\n",
       "      <td>-6.27782</td>\n",
       "      <td>5</td>\n",
       "    </tr>\n",
       "  </tbody>\n",
       "</table>\n",
       "</div>"
      ],
      "text/plain": [
       "           HarvestTime  BikeID  Battery  BikeIdentifier BikeTypeName  \\\n",
       "0  2021-01-01 00:00:03       5     44.0               1  DUB-General   \n",
       "1  2021-01-01 00:00:03       6     85.0               2  DUB-General   \n",
       "2  2021-01-01 00:00:03       7     82.0               3  DUB-General   \n",
       "3  2021-01-01 00:00:03       8     64.0               4  DUB-General   \n",
       "4  2021-01-01 00:00:03       9     71.0               5  DUB-General   \n",
       "\n",
       "   EBikeProfileID  EBikeStateID  IsEBike  IsMotor  IsSmartLock  \\\n",
       "0               1             2     True    False        False   \n",
       "1               1             2     True    False        False   \n",
       "2               1             2     True    False        False   \n",
       "3               1             2     True    False        False   \n",
       "4               1             2     True    False        False   \n",
       "\n",
       "           LastGPSTime      LastRentalStart  Latitude  Longitude  SpikeID  \n",
       "0  2020-12-31 23:34:59  2020-12-31 17:35:09   53.3625   -6.23690        1  \n",
       "1  2020-12-31 23:40:34  2020-12-31 12:35:39   53.3382   -6.22264        2  \n",
       "2  2020-12-31 23:47:25  2020-12-31 10:43:02   53.3440   -6.26688        3  \n",
       "3  2020-12-31 23:50:23  2020-12-30 19:56:56   53.3625   -6.23710        4  \n",
       "4  2020-12-31 23:45:27  2020-12-31 18:32:51   53.3496   -6.27782        5  "
      ]
     },
     "execution_count": 3,
     "metadata": {},
     "output_type": "execute_result"
    }
   ],
   "source": [
    "moby_jan.head()"
   ]
  },
  {
   "cell_type": "code",
   "execution_count": 8,
   "id": "2ed34370-dde7-4c76-91ff-984a919f6ae2",
   "metadata": {},
   "outputs": [
    {
     "data": {
      "text/plain": [
       "BikeTypeName\n",
       "DUB-General    129093\n",
       "dtype: int64"
      ]
     },
     "execution_count": 8,
     "metadata": {},
     "output_type": "execute_result"
    }
   ],
   "source": [
    "moby_jan.groupby('BikeTypeName').size().sort_values(ascending=False)"
   ]
  },
  {
   "cell_type": "code",
   "execution_count": 6,
   "id": "0c676837-5dec-41d1-bbc0-75399907f4f2",
   "metadata": {},
   "outputs": [
    {
     "data": {
      "text/plain": [
       "HarvestTime\n",
       "2021-01-15 06:00:02    99\n",
       "2021-01-14 22:30:02    99\n",
       "2021-01-15 07:30:02    99\n",
       "2021-01-15 05:30:02    99\n",
       "2021-01-15 05:00:03    99\n",
       "                       ..\n",
       "2021-01-06 11:30:02    76\n",
       "2021-01-26 12:00:02    74\n",
       "2021-01-16 16:00:02    71\n",
       "2021-01-16 15:30:02    70\n",
       "2021-01-16 15:00:03    66\n",
       "Length: 1442, dtype: int64"
      ]
     },
     "execution_count": 6,
     "metadata": {},
     "output_type": "execute_result"
    }
   ],
   "source": [
    "moby_jan.groupby('HarvestTime').size().sort_values(ascending=False)"
   ]
  },
  {
   "cell_type": "code",
   "execution_count": 7,
   "id": "c5593136-9491-44e3-95ab-d51d3260b8f2",
   "metadata": {},
   "outputs": [
    {
     "data": {
      "text/plain": [
       "LastRentalStart      BikeID\n",
       "2021-01-02 12:52:10  32        530\n",
       "2021-01-02 15:14:50  99        525\n",
       "2021-01-02 12:14:05  85        481\n",
       "2021-01-04 13:37:21  113       477\n",
       "2021-01-04 13:37:16  15        477\n",
       "                              ... \n",
       "2021-01-21 12:40:02  64          1\n",
       "2021-01-17 13:38:08  53          1\n",
       "2021-01-12 11:06:38  44          1\n",
       "2021-01-17 13:09:39  64          1\n",
       "2021-01-27 17:50:45  76          1\n",
       "Length: 2357, dtype: int64"
      ]
     },
     "execution_count": 7,
     "metadata": {},
     "output_type": "execute_result"
    }
   ],
   "source": [
    "moby_jan.groupby(['LastRentalStart','BikeID']).size().sort_values(ascending=False)"
   ]
  },
  {
   "cell_type": "code",
   "execution_count": null,
   "id": "293c9682-32af-4165-9ed8-be1cbf04e4eb",
   "metadata": {},
   "outputs": [],
   "source": []
  },
  {
   "cell_type": "code",
   "execution_count": null,
   "id": "557bf1af-f74b-4fc7-8716-77dd7bdf95da",
   "metadata": {},
   "outputs": [],
   "source": []
  }
 ],
 "metadata": {
  "kernelspec": {
   "display_name": "Python 3",
   "language": "python",
   "name": "python3"
  },
  "language_info": {
   "codemirror_mode": {
    "name": "ipython",
    "version": 3
   },
   "file_extension": ".py",
   "mimetype": "text/x-python",
   "name": "python",
   "nbconvert_exporter": "python",
   "pygments_lexer": "ipython3",
   "version": "3.9.5"
  }
 },
 "nbformat": 4,
 "nbformat_minor": 5
}
