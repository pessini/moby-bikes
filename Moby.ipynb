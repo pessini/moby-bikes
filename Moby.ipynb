{
 "cells": [
  {
   "cell_type": "markdown",
   "id": "95d4017d-d8c5-4ff4-ac85-2470e8f833e2",
   "metadata": {},
   "source": [
    "# Moby Bikes"
   ]
  },
  {
   "cell_type": "markdown",
   "id": "15c856e7",
   "metadata": {},
   "source": [
    "<img src='https://i.ytimg.com/vi/-s8er6tHD3o/maxresdefault.jpg' style='height:400px'>"
   ]
  },
  {
   "cell_type": "markdown",
   "id": "c2e05cd5-b4d6-4a71-a142-2be17ec3eb58",
   "metadata": {},
   "source": [
    "## eBike Operators\n",
    "\n",
    "### Job Description:\n",
    "\n",
    "MOBY is Ireland’s most exciting urban mobility company. We deployed a fleet of shared electric bikes in the nation’s capital.\n",
    "\n",
    "We need an ambitious  person distributing and relocating our eBikes throughout the city, while performing safety checks and basic maintenance (training provided).\n",
    "\n",
    "Delivering and collecting  private rental eBikes for our customers.\n",
    "\n",
    "We plan to expand our team in Dublin and abroad, so there will be opportunities to progress within the company .\n",
    "\n",
    "### Responsibilities:\n",
    "\n",
    "- **Distributing bikes to the city’s most in-demand locations (Cycling electric cargo trike).**\n",
    "- **Replacing bike batteries when out of charge.**\n",
    "- Relocating bikes which have been incorrectly parked.\n",
    "- Scheduling and completing delivery and collection of subscription eBikes (Moby+ and Moby+ Pro) to our customers.\n",
    "- **Check and repair eBikes on street (training provided).**\n",
    "- Other responsibilities as required."
   ]
  },
  {
   "cell_type": "code",
   "execution_count": 1,
   "id": "a9fe93fe-b288-43b8-89e6-5669dc6578b8",
   "metadata": {},
   "outputs": [],
   "source": [
    "import pandas as pd\n",
    "import numpy as np\n",
    "import requests\n",
    "import json\n",
    "from pandas import json_normalize"
   ]
  },
  {
   "cell_type": "code",
   "execution_count": 2,
   "id": "4e5b076b-22bb-4f53-9113-60869fcd09af",
   "metadata": {},
   "outputs": [],
   "source": [
    "moby_jan = pd.read_csv('moby-bikes-historical-data-012021.csv')"
   ]
  },
  {
   "cell_type": "code",
   "execution_count": 3,
   "id": "1cf4260a-65e4-4fc4-bdfd-ab9b19f665cb",
   "metadata": {},
   "outputs": [
    {
     "data": {
      "text/html": [
       "<div>\n",
       "<style scoped>\n",
       "    .dataframe tbody tr th:only-of-type {\n",
       "        vertical-align: middle;\n",
       "    }\n",
       "\n",
       "    .dataframe tbody tr th {\n",
       "        vertical-align: top;\n",
       "    }\n",
       "\n",
       "    .dataframe thead th {\n",
       "        text-align: right;\n",
       "    }\n",
       "</style>\n",
       "<table border=\"1\" class=\"dataframe\">\n",
       "  <thead>\n",
       "    <tr style=\"text-align: right;\">\n",
       "      <th></th>\n",
       "      <th>HarvestTime</th>\n",
       "      <th>BikeID</th>\n",
       "      <th>Battery</th>\n",
       "      <th>BikeIdentifier</th>\n",
       "      <th>BikeTypeName</th>\n",
       "      <th>EBikeProfileID</th>\n",
       "      <th>EBikeStateID</th>\n",
       "      <th>IsEBike</th>\n",
       "      <th>IsMotor</th>\n",
       "      <th>IsSmartLock</th>\n",
       "      <th>LastGPSTime</th>\n",
       "      <th>LastRentalStart</th>\n",
       "      <th>Latitude</th>\n",
       "      <th>Longitude</th>\n",
       "      <th>SpikeID</th>\n",
       "    </tr>\n",
       "  </thead>\n",
       "  <tbody>\n",
       "    <tr>\n",
       "      <th>0</th>\n",
       "      <td>2021-01-01 00:00:03</td>\n",
       "      <td>5</td>\n",
       "      <td>44.0</td>\n",
       "      <td>1</td>\n",
       "      <td>DUB-General</td>\n",
       "      <td>1</td>\n",
       "      <td>2</td>\n",
       "      <td>True</td>\n",
       "      <td>False</td>\n",
       "      <td>False</td>\n",
       "      <td>2020-12-31 23:34:59</td>\n",
       "      <td>2020-12-31 17:35:09</td>\n",
       "      <td>53.3625</td>\n",
       "      <td>-6.23690</td>\n",
       "      <td>1</td>\n",
       "    </tr>\n",
       "    <tr>\n",
       "      <th>1</th>\n",
       "      <td>2021-01-01 00:00:03</td>\n",
       "      <td>6</td>\n",
       "      <td>85.0</td>\n",
       "      <td>2</td>\n",
       "      <td>DUB-General</td>\n",
       "      <td>1</td>\n",
       "      <td>2</td>\n",
       "      <td>True</td>\n",
       "      <td>False</td>\n",
       "      <td>False</td>\n",
       "      <td>2020-12-31 23:40:34</td>\n",
       "      <td>2020-12-31 12:35:39</td>\n",
       "      <td>53.3382</td>\n",
       "      <td>-6.22264</td>\n",
       "      <td>2</td>\n",
       "    </tr>\n",
       "    <tr>\n",
       "      <th>2</th>\n",
       "      <td>2021-01-01 00:00:03</td>\n",
       "      <td>7</td>\n",
       "      <td>82.0</td>\n",
       "      <td>3</td>\n",
       "      <td>DUB-General</td>\n",
       "      <td>1</td>\n",
       "      <td>2</td>\n",
       "      <td>True</td>\n",
       "      <td>False</td>\n",
       "      <td>False</td>\n",
       "      <td>2020-12-31 23:47:25</td>\n",
       "      <td>2020-12-31 10:43:02</td>\n",
       "      <td>53.3440</td>\n",
       "      <td>-6.26688</td>\n",
       "      <td>3</td>\n",
       "    </tr>\n",
       "    <tr>\n",
       "      <th>3</th>\n",
       "      <td>2021-01-01 00:00:03</td>\n",
       "      <td>8</td>\n",
       "      <td>64.0</td>\n",
       "      <td>4</td>\n",
       "      <td>DUB-General</td>\n",
       "      <td>1</td>\n",
       "      <td>2</td>\n",
       "      <td>True</td>\n",
       "      <td>False</td>\n",
       "      <td>False</td>\n",
       "      <td>2020-12-31 23:50:23</td>\n",
       "      <td>2020-12-30 19:56:56</td>\n",
       "      <td>53.3625</td>\n",
       "      <td>-6.23710</td>\n",
       "      <td>4</td>\n",
       "    </tr>\n",
       "    <tr>\n",
       "      <th>4</th>\n",
       "      <td>2021-01-01 00:00:03</td>\n",
       "      <td>9</td>\n",
       "      <td>71.0</td>\n",
       "      <td>5</td>\n",
       "      <td>DUB-General</td>\n",
       "      <td>1</td>\n",
       "      <td>2</td>\n",
       "      <td>True</td>\n",
       "      <td>False</td>\n",
       "      <td>False</td>\n",
       "      <td>2020-12-31 23:45:27</td>\n",
       "      <td>2020-12-31 18:32:51</td>\n",
       "      <td>53.3496</td>\n",
       "      <td>-6.27782</td>\n",
       "      <td>5</td>\n",
       "    </tr>\n",
       "  </tbody>\n",
       "</table>\n",
       "</div>"
      ],
      "text/plain": [
       "           HarvestTime  BikeID  Battery  BikeIdentifier BikeTypeName  \\\n",
       "0  2021-01-01 00:00:03       5     44.0               1  DUB-General   \n",
       "1  2021-01-01 00:00:03       6     85.0               2  DUB-General   \n",
       "2  2021-01-01 00:00:03       7     82.0               3  DUB-General   \n",
       "3  2021-01-01 00:00:03       8     64.0               4  DUB-General   \n",
       "4  2021-01-01 00:00:03       9     71.0               5  DUB-General   \n",
       "\n",
       "   EBikeProfileID  EBikeStateID  IsEBike  IsMotor  IsSmartLock  \\\n",
       "0               1             2     True    False        False   \n",
       "1               1             2     True    False        False   \n",
       "2               1             2     True    False        False   \n",
       "3               1             2     True    False        False   \n",
       "4               1             2     True    False        False   \n",
       "\n",
       "           LastGPSTime      LastRentalStart  Latitude  Longitude  SpikeID  \n",
       "0  2020-12-31 23:34:59  2020-12-31 17:35:09   53.3625   -6.23690        1  \n",
       "1  2020-12-31 23:40:34  2020-12-31 12:35:39   53.3382   -6.22264        2  \n",
       "2  2020-12-31 23:47:25  2020-12-31 10:43:02   53.3440   -6.26688        3  \n",
       "3  2020-12-31 23:50:23  2020-12-30 19:56:56   53.3625   -6.23710        4  \n",
       "4  2020-12-31 23:45:27  2020-12-31 18:32:51   53.3496   -6.27782        5  "
      ]
     },
     "execution_count": 3,
     "metadata": {},
     "output_type": "execute_result"
    }
   ],
   "source": [
    "moby_jan.head()"
   ]
  },
  {
   "cell_type": "code",
   "execution_count": 4,
   "id": "2ed34370-dde7-4c76-91ff-984a919f6ae2",
   "metadata": {},
   "outputs": [
    {
     "data": {
      "text/plain": [
       "BikeTypeName\n",
       "DUB-General    129093\n",
       "dtype: int64"
      ]
     },
     "execution_count": 4,
     "metadata": {},
     "output_type": "execute_result"
    }
   ],
   "source": [
    "moby_jan.groupby('BikeTypeName').size().sort_values(ascending=False)"
   ]
  },
  {
   "cell_type": "code",
   "execution_count": 5,
   "id": "0c676837-5dec-41d1-bbc0-75399907f4f2",
   "metadata": {},
   "outputs": [
    {
     "data": {
      "text/plain": [
       "HarvestTime\n",
       "2021-01-15 06:00:02    99\n",
       "2021-01-14 22:30:02    99\n",
       "2021-01-15 07:30:02    99\n",
       "2021-01-15 05:30:02    99\n",
       "2021-01-15 05:00:03    99\n",
       "                       ..\n",
       "2021-01-06 11:30:02    76\n",
       "2021-01-26 12:00:02    74\n",
       "2021-01-16 16:00:02    71\n",
       "2021-01-16 15:30:02    70\n",
       "2021-01-16 15:00:03    66\n",
       "Length: 1442, dtype: int64"
      ]
     },
     "execution_count": 5,
     "metadata": {},
     "output_type": "execute_result"
    }
   ],
   "source": [
    "moby_jan.groupby('HarvestTime').size().sort_values(ascending=False)"
   ]
  },
  {
   "cell_type": "code",
   "execution_count": 6,
   "id": "c5593136-9491-44e3-95ab-d51d3260b8f2",
   "metadata": {},
   "outputs": [
    {
     "data": {
      "text/plain": [
       "LastRentalStart      BikeID\n",
       "2021-01-02 12:52:10  32        530\n",
       "2021-01-02 15:14:50  99        525\n",
       "2021-01-02 12:14:05  85        481\n",
       "2021-01-04 13:37:21  113       477\n",
       "2021-01-04 13:37:16  15        477\n",
       "                              ... \n",
       "2021-01-21 12:40:02  64          1\n",
       "2021-01-17 13:38:08  53          1\n",
       "2021-01-12 11:06:38  44          1\n",
       "2021-01-17 13:09:39  64          1\n",
       "2021-01-27 17:50:45  76          1\n",
       "Length: 2357, dtype: int64"
      ]
     },
     "execution_count": 6,
     "metadata": {},
     "output_type": "execute_result"
    }
   ],
   "source": [
    "moby_jan.groupby(['LastRentalStart','BikeID']).size().sort_values(ascending=False)"
   ]
  },
  {
   "cell_type": "code",
   "execution_count": 7,
   "id": "293c9682-32af-4165-9ed8-be1cbf04e4eb",
   "metadata": {},
   "outputs": [
    {
     "data": {
      "text/plain": [
       "EBikeStateID\n",
       "2    127208\n",
       "5      1630\n",
       "1       255\n",
       "dtype: int64"
      ]
     },
     "execution_count": 7,
     "metadata": {},
     "output_type": "execute_result"
    }
   ],
   "source": [
    "moby_jan.groupby('EBikeStateID').size().sort_values(ascending=False)"
   ]
  },
  {
   "cell_type": "code",
   "execution_count": 8,
   "id": "557bf1af-f74b-4fc7-8716-77dd7bdf95da",
   "metadata": {},
   "outputs": [
    {
     "data": {
      "text/plain": [
       "BikeID\n",
       "60     1436\n",
       "79     1436\n",
       "80     1430\n",
       "76     1430\n",
       "81     1428\n",
       "       ... \n",
       "102     531\n",
       "93      338\n",
       "96      257\n",
       "23      100\n",
       "11        2\n",
       "Length: 107, dtype: int64"
      ]
     },
     "execution_count": 8,
     "metadata": {},
     "output_type": "execute_result"
    }
   ],
   "source": [
    "moby_jan.groupby('BikeID').size().sort_values(ascending=False)"
   ]
  },
  {
   "cell_type": "code",
   "execution_count": 40,
   "id": "d739fdab",
   "metadata": {},
   "outputs": [],
   "source": [
    "#moby_jan[(moby_jan['BikeID'] == 5) &(moby_jan['LastRentalStart'] == '2020-12-31 17:35:09')]"
   ]
  },
  {
   "cell_type": "code",
   "execution_count": 48,
   "id": "ec549a40",
   "metadata": {},
   "outputs": [],
   "source": [
    "parameters = {\n",
    "    \"start\": '2020-10-13',\n",
    "    \"end\": '2021-6-4',\n",
    "    \"bikeid\": 5\n",
    "}"
   ]
  },
  {
   "cell_type": "code",
   "execution_count": 49,
   "id": "66efb7dc",
   "metadata": {},
   "outputs": [],
   "source": [
    "response = requests.get(\"https://data.smartdublin.ie/mobybikes-api/historical\", params=parameters)"
   ]
  },
  {
   "cell_type": "code",
   "execution_count": 50,
   "id": "c306f44d",
   "metadata": {},
   "outputs": [
    {
     "name": "stderr",
     "output_type": "stream",
     "text": [
      "IOPub data rate exceeded.\n",
      "The notebook server will temporarily stop sending output\n",
      "to the client in order to avoid crashing it.\n",
      "To change this limit, set the config variable\n",
      "`--NotebookApp.iopub_data_rate_limit`.\n",
      "\n",
      "Current values:\n",
      "NotebookApp.iopub_data_rate_limit=1000000.0 (bytes/sec)\n",
      "NotebookApp.rate_limit_window=3.0 (secs)\n",
      "\n"
     ]
    }
   ],
   "source": [
    "print(response.json())"
   ]
  },
  {
   "cell_type": "code",
   "execution_count": 51,
   "id": "8a5195f2",
   "metadata": {},
   "outputs": [
    {
     "name": "stderr",
     "output_type": "stream",
     "text": [
      "IOPub data rate exceeded.\n",
      "The notebook server will temporarily stop sending output\n",
      "to the client in order to avoid crashing it.\n",
      "To change this limit, set the config variable\n",
      "`--NotebookApp.iopub_data_rate_limit`.\n",
      "\n",
      "Current values:\n",
      "NotebookApp.iopub_data_rate_limit=1000000.0 (bytes/sec)\n",
      "NotebookApp.rate_limit_window=3.0 (secs)\n",
      "\n"
     ]
    }
   ],
   "source": [
    "def jprint(obj):\n",
    "    # create a formatted string of the Python JSON object\n",
    "    text = json.dumps(obj, sort_keys=True, indent=4)\n",
    "    print(text)\n",
    "\n",
    "jprint(response.json())"
   ]
  },
  {
   "cell_type": "code",
   "execution_count": 52,
   "id": "dcfae32e",
   "metadata": {},
   "outputs": [],
   "source": [
    "dictr = response.json()\n",
    "df = json_normalize(dictr)"
   ]
  },
  {
   "cell_type": "code",
   "execution_count": 53,
   "id": "d3e1f437",
   "metadata": {},
   "outputs": [
    {
     "data": {
      "text/plain": [
       "(9280, 15)"
      ]
     },
     "execution_count": 53,
     "metadata": {},
     "output_type": "execute_result"
    }
   ],
   "source": [
    "df.shape"
   ]
  },
  {
   "cell_type": "code",
   "execution_count": 54,
   "id": "29f2850a",
   "metadata": {
    "scrolled": false
   },
   "outputs": [
    {
     "data": {
      "text/html": [
       "<div>\n",
       "<style scoped>\n",
       "    .dataframe tbody tr th:only-of-type {\n",
       "        vertical-align: middle;\n",
       "    }\n",
       "\n",
       "    .dataframe tbody tr th {\n",
       "        vertical-align: top;\n",
       "    }\n",
       "\n",
       "    .dataframe thead th {\n",
       "        text-align: right;\n",
       "    }\n",
       "</style>\n",
       "<table border=\"1\" class=\"dataframe\">\n",
       "  <thead>\n",
       "    <tr style=\"text-align: right;\">\n",
       "      <th></th>\n",
       "      <th>HarvestTime</th>\n",
       "      <th>BikeID</th>\n",
       "      <th>Battery</th>\n",
       "      <th>BikeIdentifier</th>\n",
       "      <th>BikeTypeName</th>\n",
       "      <th>EBikeProfileID</th>\n",
       "      <th>EBikeStateID</th>\n",
       "      <th>IsEBike</th>\n",
       "      <th>IsMotor</th>\n",
       "      <th>IsSmartLock</th>\n",
       "      <th>LastGPSTime</th>\n",
       "      <th>LastRentalStart</th>\n",
       "      <th>Latitude</th>\n",
       "      <th>Longitude</th>\n",
       "      <th>SpikeID</th>\n",
       "    </tr>\n",
       "  </thead>\n",
       "  <tbody>\n",
       "    <tr>\n",
       "      <th>0</th>\n",
       "      <td>2020-10-13T00:00:02</td>\n",
       "      <td>5</td>\n",
       "      <td>81.0</td>\n",
       "      <td>1</td>\n",
       "      <td>DUB-General</td>\n",
       "      <td>1</td>\n",
       "      <td>2</td>\n",
       "      <td>True</td>\n",
       "      <td>False</td>\n",
       "      <td>False</td>\n",
       "      <td>2020-10-13T00:54:49</td>\n",
       "      <td>2020-10-12T20:15:04</td>\n",
       "      <td>53.3521</td>\n",
       "      <td>-6.26064</td>\n",
       "      <td>1</td>\n",
       "    </tr>\n",
       "    <tr>\n",
       "      <th>1</th>\n",
       "      <td>2020-10-13T00:30:02</td>\n",
       "      <td>5</td>\n",
       "      <td>81.0</td>\n",
       "      <td>1</td>\n",
       "      <td>DUB-General</td>\n",
       "      <td>1</td>\n",
       "      <td>2</td>\n",
       "      <td>True</td>\n",
       "      <td>False</td>\n",
       "      <td>False</td>\n",
       "      <td>2020-10-13T01:24:49</td>\n",
       "      <td>2020-10-12T20:15:04</td>\n",
       "      <td>53.3521</td>\n",
       "      <td>-6.26064</td>\n",
       "      <td>1</td>\n",
       "    </tr>\n",
       "    <tr>\n",
       "      <th>2</th>\n",
       "      <td>2020-10-13T01:00:04</td>\n",
       "      <td>5</td>\n",
       "      <td>81.0</td>\n",
       "      <td>1</td>\n",
       "      <td>DUB-General</td>\n",
       "      <td>1</td>\n",
       "      <td>2</td>\n",
       "      <td>True</td>\n",
       "      <td>False</td>\n",
       "      <td>False</td>\n",
       "      <td>2020-10-13T01:54:49</td>\n",
       "      <td>2020-10-12T20:15:04</td>\n",
       "      <td>53.3521</td>\n",
       "      <td>-6.26064</td>\n",
       "      <td>1</td>\n",
       "    </tr>\n",
       "    <tr>\n",
       "      <th>3</th>\n",
       "      <td>2020-10-13T01:30:03</td>\n",
       "      <td>5</td>\n",
       "      <td>81.0</td>\n",
       "      <td>1</td>\n",
       "      <td>DUB-General</td>\n",
       "      <td>1</td>\n",
       "      <td>2</td>\n",
       "      <td>True</td>\n",
       "      <td>False</td>\n",
       "      <td>False</td>\n",
       "      <td>2020-10-13T02:21:19</td>\n",
       "      <td>2020-10-12T20:15:04</td>\n",
       "      <td>53.3521</td>\n",
       "      <td>-6.26065</td>\n",
       "      <td>1</td>\n",
       "    </tr>\n",
       "    <tr>\n",
       "      <th>4</th>\n",
       "      <td>2020-10-13T02:00:02</td>\n",
       "      <td>5</td>\n",
       "      <td>81.0</td>\n",
       "      <td>1</td>\n",
       "      <td>DUB-General</td>\n",
       "      <td>1</td>\n",
       "      <td>2</td>\n",
       "      <td>True</td>\n",
       "      <td>False</td>\n",
       "      <td>False</td>\n",
       "      <td>2020-10-13T02:51:19</td>\n",
       "      <td>2020-10-12T20:15:04</td>\n",
       "      <td>53.3521</td>\n",
       "      <td>-6.26065</td>\n",
       "      <td>1</td>\n",
       "    </tr>\n",
       "    <tr>\n",
       "      <th>...</th>\n",
       "      <td>...</td>\n",
       "      <td>...</td>\n",
       "      <td>...</td>\n",
       "      <td>...</td>\n",
       "      <td>...</td>\n",
       "      <td>...</td>\n",
       "      <td>...</td>\n",
       "      <td>...</td>\n",
       "      <td>...</td>\n",
       "      <td>...</td>\n",
       "      <td>...</td>\n",
       "      <td>...</td>\n",
       "      <td>...</td>\n",
       "      <td>...</td>\n",
       "      <td>...</td>\n",
       "    </tr>\n",
       "    <tr>\n",
       "      <th>9275</th>\n",
       "      <td>2021-06-03T21:30:02</td>\n",
       "      <td>5</td>\n",
       "      <td>86.0</td>\n",
       "      <td>1</td>\n",
       "      <td>DUB-General</td>\n",
       "      <td>1</td>\n",
       "      <td>2</td>\n",
       "      <td>True</td>\n",
       "      <td>False</td>\n",
       "      <td>False</td>\n",
       "      <td>2021-06-03T21:29:27</td>\n",
       "      <td>2021-06-03T17:24:19</td>\n",
       "      <td>53.3225</td>\n",
       "      <td>-6.23784</td>\n",
       "      <td>1</td>\n",
       "    </tr>\n",
       "    <tr>\n",
       "      <th>9276</th>\n",
       "      <td>2021-06-03T22:00:01</td>\n",
       "      <td>5</td>\n",
       "      <td>86.0</td>\n",
       "      <td>1</td>\n",
       "      <td>DUB-General</td>\n",
       "      <td>1</td>\n",
       "      <td>2</td>\n",
       "      <td>True</td>\n",
       "      <td>False</td>\n",
       "      <td>False</td>\n",
       "      <td>2021-06-03T21:59:26</td>\n",
       "      <td>2021-06-03T17:24:19</td>\n",
       "      <td>53.3225</td>\n",
       "      <td>-6.23784</td>\n",
       "      <td>1</td>\n",
       "    </tr>\n",
       "    <tr>\n",
       "      <th>9277</th>\n",
       "      <td>2021-06-03T22:30:02</td>\n",
       "      <td>5</td>\n",
       "      <td>86.0</td>\n",
       "      <td>1</td>\n",
       "      <td>DUB-General</td>\n",
       "      <td>1</td>\n",
       "      <td>2</td>\n",
       "      <td>True</td>\n",
       "      <td>False</td>\n",
       "      <td>False</td>\n",
       "      <td>2021-06-03T22:29:27</td>\n",
       "      <td>2021-06-03T17:24:19</td>\n",
       "      <td>53.3225</td>\n",
       "      <td>-6.23785</td>\n",
       "      <td>1</td>\n",
       "    </tr>\n",
       "    <tr>\n",
       "      <th>9278</th>\n",
       "      <td>2021-06-03T23:00:01</td>\n",
       "      <td>5</td>\n",
       "      <td>86.0</td>\n",
       "      <td>1</td>\n",
       "      <td>DUB-General</td>\n",
       "      <td>1</td>\n",
       "      <td>2</td>\n",
       "      <td>True</td>\n",
       "      <td>False</td>\n",
       "      <td>False</td>\n",
       "      <td>2021-06-03T22:59:27</td>\n",
       "      <td>2021-06-03T17:24:19</td>\n",
       "      <td>53.3225</td>\n",
       "      <td>-6.23784</td>\n",
       "      <td>1</td>\n",
       "    </tr>\n",
       "    <tr>\n",
       "      <th>9279</th>\n",
       "      <td>2021-06-03T23:30:02</td>\n",
       "      <td>5</td>\n",
       "      <td>86.0</td>\n",
       "      <td>1</td>\n",
       "      <td>DUB-General</td>\n",
       "      <td>1</td>\n",
       "      <td>2</td>\n",
       "      <td>True</td>\n",
       "      <td>False</td>\n",
       "      <td>False</td>\n",
       "      <td>2021-06-03T23:29:26</td>\n",
       "      <td>2021-06-03T17:24:19</td>\n",
       "      <td>53.3225</td>\n",
       "      <td>-6.23784</td>\n",
       "      <td>1</td>\n",
       "    </tr>\n",
       "  </tbody>\n",
       "</table>\n",
       "<p>9280 rows × 15 columns</p>\n",
       "</div>"
      ],
      "text/plain": [
       "              HarvestTime  BikeID  Battery BikeIdentifier BikeTypeName  \\\n",
       "0     2020-10-13T00:00:02       5     81.0              1  DUB-General   \n",
       "1     2020-10-13T00:30:02       5     81.0              1  DUB-General   \n",
       "2     2020-10-13T01:00:04       5     81.0              1  DUB-General   \n",
       "3     2020-10-13T01:30:03       5     81.0              1  DUB-General   \n",
       "4     2020-10-13T02:00:02       5     81.0              1  DUB-General   \n",
       "...                   ...     ...      ...            ...          ...   \n",
       "9275  2021-06-03T21:30:02       5     86.0              1  DUB-General   \n",
       "9276  2021-06-03T22:00:01       5     86.0              1  DUB-General   \n",
       "9277  2021-06-03T22:30:02       5     86.0              1  DUB-General   \n",
       "9278  2021-06-03T23:00:01       5     86.0              1  DUB-General   \n",
       "9279  2021-06-03T23:30:02       5     86.0              1  DUB-General   \n",
       "\n",
       "      EBikeProfileID  EBikeStateID  IsEBike  IsMotor  IsSmartLock  \\\n",
       "0                  1             2     True    False        False   \n",
       "1                  1             2     True    False        False   \n",
       "2                  1             2     True    False        False   \n",
       "3                  1             2     True    False        False   \n",
       "4                  1             2     True    False        False   \n",
       "...              ...           ...      ...      ...          ...   \n",
       "9275               1             2     True    False        False   \n",
       "9276               1             2     True    False        False   \n",
       "9277               1             2     True    False        False   \n",
       "9278               1             2     True    False        False   \n",
       "9279               1             2     True    False        False   \n",
       "\n",
       "              LastGPSTime      LastRentalStart  Latitude  Longitude  SpikeID  \n",
       "0     2020-10-13T00:54:49  2020-10-12T20:15:04   53.3521   -6.26064        1  \n",
       "1     2020-10-13T01:24:49  2020-10-12T20:15:04   53.3521   -6.26064        1  \n",
       "2     2020-10-13T01:54:49  2020-10-12T20:15:04   53.3521   -6.26064        1  \n",
       "3     2020-10-13T02:21:19  2020-10-12T20:15:04   53.3521   -6.26065        1  \n",
       "4     2020-10-13T02:51:19  2020-10-12T20:15:04   53.3521   -6.26065        1  \n",
       "...                   ...                  ...       ...        ...      ...  \n",
       "9275  2021-06-03T21:29:27  2021-06-03T17:24:19   53.3225   -6.23784        1  \n",
       "9276  2021-06-03T21:59:26  2021-06-03T17:24:19   53.3225   -6.23784        1  \n",
       "9277  2021-06-03T22:29:27  2021-06-03T17:24:19   53.3225   -6.23785        1  \n",
       "9278  2021-06-03T22:59:27  2021-06-03T17:24:19   53.3225   -6.23784        1  \n",
       "9279  2021-06-03T23:29:26  2021-06-03T17:24:19   53.3225   -6.23784        1  \n",
       "\n",
       "[9280 rows x 15 columns]"
      ]
     },
     "execution_count": 54,
     "metadata": {},
     "output_type": "execute_result"
    }
   ],
   "source": [
    "df"
   ]
  },
  {
   "cell_type": "code",
   "execution_count": 56,
   "id": "cc235e03",
   "metadata": {},
   "outputs": [
    {
     "data": {
      "text/plain": [
       "LastRentalStart\n",
       "2020-12-21T01:31:31    359\n",
       "2021-01-08T17:22:42    250\n",
       "2021-04-11T12:40:57    239\n",
       "2021-02-02T21:17:40    224\n",
       "2020-12-09T12:57:45    168\n",
       "                      ... \n",
       "2021-05-16T21:26:07      1\n",
       "2021-05-16T20:37:21      1\n",
       "2021-02-27T21:39:20      1\n",
       "2021-05-14T19:19:31      1\n",
       "2021-03-14T16:01:43      1\n",
       "Length: 316, dtype: int64"
      ]
     },
     "execution_count": 56,
     "metadata": {},
     "output_type": "execute_result"
    }
   ],
   "source": [
    "df.groupby('LastRentalStart').size().sort_values(ascending=False)"
   ]
  },
  {
   "cell_type": "code",
   "execution_count": null,
   "id": "df3a0b41",
   "metadata": {},
   "outputs": [],
   "source": []
  },
  {
   "cell_type": "code",
   "execution_count": 3,
   "id": "778e82d5",
   "metadata": {},
   "outputs": [],
   "source": [
    "import os\n",
    "import glob\n",
    "import pandas as pd\n",
    "os.chdir(\"./data\")"
   ]
  },
  {
   "cell_type": "code",
   "execution_count": 4,
   "id": "2af755a8",
   "metadata": {},
   "outputs": [],
   "source": [
    "extension = 'csv'\n",
    "all_filenames = [i for i in glob.glob('*.{}'.format(extension))]"
   ]
  },
  {
   "cell_type": "code",
   "execution_count": 5,
   "id": "c8f4b4a1",
   "metadata": {},
   "outputs": [],
   "source": [
    "#combine all files in the list\n",
    "combined_csv = pd.concat([pd.read_csv(f) for f in all_filenames ])\n",
    "#export to csv\n",
    "combined_csv.to_csv( \"combined_csv.csv\", index=False, encoding='utf-8-sig')"
   ]
  },
  {
   "cell_type": "code",
   "execution_count": 6,
   "id": "b9c498ab",
   "metadata": {},
   "outputs": [],
   "source": [
    "moby_all = pd.read_csv('moby-bikes-092020-062021.csv')"
   ]
  },
  {
   "cell_type": "code",
   "execution_count": 7,
   "id": "46c01d3e",
   "metadata": {},
   "outputs": [
    {
     "data": {
      "text/plain": [
       "(960928, 15)"
      ]
     },
     "execution_count": 7,
     "metadata": {},
     "output_type": "execute_result"
    }
   ],
   "source": [
    "moby_all.shape"
   ]
  },
  {
   "cell_type": "code",
   "execution_count": null,
   "id": "a44cf61a",
   "metadata": {},
   "outputs": [],
   "source": []
  },
  {
   "cell_type": "code",
   "execution_count": 8,
   "id": "7838c336",
   "metadata": {},
   "outputs": [
    {
     "data": {
      "text/html": [
       "<div>\n",
       "<style scoped>\n",
       "    .dataframe tbody tr th:only-of-type {\n",
       "        vertical-align: middle;\n",
       "    }\n",
       "\n",
       "    .dataframe tbody tr th {\n",
       "        vertical-align: top;\n",
       "    }\n",
       "\n",
       "    .dataframe thead th {\n",
       "        text-align: right;\n",
       "    }\n",
       "</style>\n",
       "<table border=\"1\" class=\"dataframe\">\n",
       "  <thead>\n",
       "    <tr style=\"text-align: right;\">\n",
       "      <th></th>\n",
       "      <th>HarvestTime</th>\n",
       "      <th>BikeID</th>\n",
       "      <th>Battery</th>\n",
       "      <th>BikeIdentifier</th>\n",
       "      <th>BikeTypeName</th>\n",
       "      <th>EBikeProfileID</th>\n",
       "      <th>EBikeStateID</th>\n",
       "      <th>IsEBike</th>\n",
       "      <th>IsMotor</th>\n",
       "      <th>IsSmartLock</th>\n",
       "      <th>LastGPSTime</th>\n",
       "      <th>LastRentalStart</th>\n",
       "      <th>Latitude</th>\n",
       "      <th>Longitude</th>\n",
       "      <th>SpikeID</th>\n",
       "    </tr>\n",
       "  </thead>\n",
       "  <tbody>\n",
       "    <tr>\n",
       "      <th>0</th>\n",
       "      <td>2021-04-01 00:00:03</td>\n",
       "      <td>5</td>\n",
       "      <td>7.0</td>\n",
       "      <td>1</td>\n",
       "      <td>DUB-General</td>\n",
       "      <td>1</td>\n",
       "      <td>2</td>\n",
       "      <td>True</td>\n",
       "      <td>False</td>\n",
       "      <td>False</td>\n",
       "      <td>2021-03-31 23:41:40</td>\n",
       "      <td>2021-03-30 19:18:18</td>\n",
       "      <td>53.3091</td>\n",
       "      <td>-6.21643</td>\n",
       "      <td>1</td>\n",
       "    </tr>\n",
       "    <tr>\n",
       "      <th>1</th>\n",
       "      <td>2021-04-01 00:00:03</td>\n",
       "      <td>6</td>\n",
       "      <td>16.0</td>\n",
       "      <td>2</td>\n",
       "      <td>DUB-General</td>\n",
       "      <td>1</td>\n",
       "      <td>2</td>\n",
       "      <td>True</td>\n",
       "      <td>False</td>\n",
       "      <td>False</td>\n",
       "      <td>2021-03-31 23:55:41</td>\n",
       "      <td>2021-03-31 10:31:13</td>\n",
       "      <td>53.3657</td>\n",
       "      <td>-6.32249</td>\n",
       "      <td>2</td>\n",
       "    </tr>\n",
       "    <tr>\n",
       "      <th>2</th>\n",
       "      <td>2021-04-01 00:00:03</td>\n",
       "      <td>7</td>\n",
       "      <td>66.0</td>\n",
       "      <td>3</td>\n",
       "      <td>DUB-General</td>\n",
       "      <td>4</td>\n",
       "      <td>2</td>\n",
       "      <td>True</td>\n",
       "      <td>False</td>\n",
       "      <td>False</td>\n",
       "      <td>2021-03-31 23:42:04</td>\n",
       "      <td>2021-03-30 13:07:19</td>\n",
       "      <td>53.2799</td>\n",
       "      <td>-6.14497</td>\n",
       "      <td>3</td>\n",
       "    </tr>\n",
       "    <tr>\n",
       "      <th>3</th>\n",
       "      <td>2021-04-01 00:00:03</td>\n",
       "      <td>8</td>\n",
       "      <td>48.0</td>\n",
       "      <td>4</td>\n",
       "      <td>DUB-General</td>\n",
       "      <td>1</td>\n",
       "      <td>2</td>\n",
       "      <td>True</td>\n",
       "      <td>False</td>\n",
       "      <td>False</td>\n",
       "      <td>2021-03-31 23:52:26</td>\n",
       "      <td>2021-03-30 12:43:17</td>\n",
       "      <td>53.2891</td>\n",
       "      <td>-6.11378</td>\n",
       "      <td>4</td>\n",
       "    </tr>\n",
       "    <tr>\n",
       "      <th>4</th>\n",
       "      <td>2021-04-01 00:00:03</td>\n",
       "      <td>9</td>\n",
       "      <td>-6.0</td>\n",
       "      <td>5</td>\n",
       "      <td>DUB-General</td>\n",
       "      <td>1</td>\n",
       "      <td>2</td>\n",
       "      <td>True</td>\n",
       "      <td>False</td>\n",
       "      <td>False</td>\n",
       "      <td>2021-03-31 23:50:20</td>\n",
       "      <td>2021-03-29 22:37:58</td>\n",
       "      <td>53.2928</td>\n",
       "      <td>-6.13014</td>\n",
       "      <td>5</td>\n",
       "    </tr>\n",
       "  </tbody>\n",
       "</table>\n",
       "</div>"
      ],
      "text/plain": [
       "           HarvestTime  BikeID  Battery  BikeIdentifier BikeTypeName  \\\n",
       "0  2021-04-01 00:00:03       5      7.0               1  DUB-General   \n",
       "1  2021-04-01 00:00:03       6     16.0               2  DUB-General   \n",
       "2  2021-04-01 00:00:03       7     66.0               3  DUB-General   \n",
       "3  2021-04-01 00:00:03       8     48.0               4  DUB-General   \n",
       "4  2021-04-01 00:00:03       9     -6.0               5  DUB-General   \n",
       "\n",
       "   EBikeProfileID  EBikeStateID  IsEBike  IsMotor  IsSmartLock  \\\n",
       "0               1             2     True    False        False   \n",
       "1               1             2     True    False        False   \n",
       "2               4             2     True    False        False   \n",
       "3               1             2     True    False        False   \n",
       "4               1             2     True    False        False   \n",
       "\n",
       "           LastGPSTime      LastRentalStart  Latitude  Longitude  SpikeID  \n",
       "0  2021-03-31 23:41:40  2021-03-30 19:18:18   53.3091   -6.21643        1  \n",
       "1  2021-03-31 23:55:41  2021-03-31 10:31:13   53.3657   -6.32249        2  \n",
       "2  2021-03-31 23:42:04  2021-03-30 13:07:19   53.2799   -6.14497        3  \n",
       "3  2021-03-31 23:52:26  2021-03-30 12:43:17   53.2891   -6.11378        4  \n",
       "4  2021-03-31 23:50:20  2021-03-29 22:37:58   53.2928   -6.13014        5  "
      ]
     },
     "execution_count": 8,
     "metadata": {},
     "output_type": "execute_result"
    }
   ],
   "source": [
    "moby_all.head()"
   ]
  },
  {
   "cell_type": "code",
   "execution_count": 9,
   "id": "c11ad4bf",
   "metadata": {},
   "outputs": [
    {
     "data": {
      "text/plain": [
       "HarvestTime            0\n",
       "BikeID                 0\n",
       "Battery            25342\n",
       "BikeIdentifier         0\n",
       "BikeTypeName           0\n",
       "EBikeProfileID         0\n",
       "EBikeStateID           0\n",
       "IsEBike                0\n",
       "IsMotor                0\n",
       "IsSmartLock            0\n",
       "LastGPSTime            0\n",
       "LastRentalStart        0\n",
       "Latitude               0\n",
       "Longitude              0\n",
       "SpikeID                0\n",
       "dtype: int64"
      ]
     },
     "execution_count": 9,
     "metadata": {},
     "output_type": "execute_result"
    }
   ],
   "source": [
    "moby_all.isnull().sum()"
   ]
  },
  {
   "cell_type": "code",
   "execution_count": 14,
   "id": "823d833b",
   "metadata": {},
   "outputs": [
    {
     "data": {
      "text/plain": [
       "LastRentalStart\n",
       "2021-06-16 17:48:17      1\n",
       "2021-01-22 09:56:56      1\n",
       "2021-05-24 20:07:42      1\n",
       "2021-06-11 01:51:33      1\n",
       "2021-06-03 09:53:57      1\n",
       "                      ... \n",
       "2020-10-05 10:45:28    527\n",
       "2021-01-02 12:52:10    530\n",
       "2020-10-26 12:43:07    530\n",
       "2021-03-09 11:02:27    717\n",
       "2020-09-28 09:27:52    720\n",
       "Length: 27502, dtype: int64"
      ]
     },
     "execution_count": 14,
     "metadata": {},
     "output_type": "execute_result"
    }
   ],
   "source": [
    "moby_all.groupby('LastRentalStart').size().sort_values(ascending=True)"
   ]
  },
  {
   "cell_type": "code",
   "execution_count": null,
   "id": "d1944a12",
   "metadata": {},
   "outputs": [],
   "source": []
  },
  {
   "cell_type": "code",
   "execution_count": null,
   "id": "e552d726",
   "metadata": {},
   "outputs": [],
   "source": []
  },
  {
   "cell_type": "code",
   "execution_count": null,
   "id": "6f26d185",
   "metadata": {},
   "outputs": [],
   "source": []
  },
  {
   "cell_type": "code",
   "execution_count": null,
   "id": "542da612",
   "metadata": {},
   "outputs": [],
   "source": []
  },
  {
   "cell_type": "code",
   "execution_count": null,
   "id": "164804b3",
   "metadata": {},
   "outputs": [],
   "source": []
  },
  {
   "cell_type": "code",
   "execution_count": null,
   "id": "49c392bd",
   "metadata": {},
   "outputs": [],
   "source": []
  },
  {
   "cell_type": "code",
   "execution_count": null,
   "id": "f27dfd19",
   "metadata": {},
   "outputs": [],
   "source": []
  },
  {
   "cell_type": "code",
   "execution_count": null,
   "id": "0eb887c1",
   "metadata": {},
   "outputs": [],
   "source": []
  }
 ],
 "metadata": {
  "kernelspec": {
   "display_name": "Python 3",
   "language": "python",
   "name": "python3"
  },
  "language_info": {
   "codemirror_mode": {
    "name": "ipython",
    "version": 3
   },
   "file_extension": ".py",
   "mimetype": "text/x-python",
   "name": "python",
   "nbconvert_exporter": "python",
   "pygments_lexer": "ipython3",
   "version": "3.9.5"
  }
 },
 "nbformat": 4,
 "nbformat_minor": 5
}
