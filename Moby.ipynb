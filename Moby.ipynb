{
 "cells": [
  {
   "cell_type": "markdown",
   "id": "95d4017d-d8c5-4ff4-ac85-2470e8f833e2",
   "metadata": {},
   "source": [
    "# Moby Bikes"
   ]
  },
  {
   "cell_type": "markdown",
   "id": "15c856e7",
   "metadata": {},
   "source": [
    "<img src='https://i.ytimg.com/vi/-s8er6tHD3o/maxresdefault.jpg' style='height:400px'>"
   ]
  },
  {
   "cell_type": "markdown",
   "id": "c2e05cd5-b4d6-4a71-a142-2be17ec3eb58",
   "metadata": {},
   "source": [
    "## eBike Operators\n",
    "\n",
    "### Job Description:\n",
    "\n",
    "MOBY is Ireland’s most exciting urban mobility company. We deployed a fleet of shared electric bikes in the nation’s capital.\n",
    "\n",
    "We need an ambitious  person distributing and relocating our eBikes throughout the city, while performing safety checks and basic maintenance (training provided).\n",
    "\n",
    "Delivering and collecting  private rental eBikes for our customers.\n",
    "\n",
    "We plan to expand our team in Dublin and abroad, so there will be opportunities to progress within the company .\n",
    "\n",
    "### Responsibilities:\n",
    "\n",
    "- **Distributing bikes to the city’s most in-demand locations (Cycling electric cargo trike).**\n",
    "- **Replacing bike batteries when out of charge.**\n",
    "- Relocating bikes which have been incorrectly parked.\n",
    "- Scheduling and completing delivery and collection of subscription eBikes (Moby+ and Moby+ Pro) to our customers.\n",
    "- **Check and repair eBikes on street (training provided).**\n",
    "- Other responsibilities as required."
   ]
  },
  {
   "cell_type": "code",
   "execution_count": 1,
   "id": "a9fe93fe-b288-43b8-89e6-5669dc6578b8",
   "metadata": {},
   "outputs": [],
   "source": [
    "import pandas as pd\n",
    "import numpy as np\n",
    "import requests\n",
    "import json\n",
    "from pandas import json_normalize"
   ]
  },
  {
   "cell_type": "code",
   "execution_count": 40,
   "id": "d739fdab",
   "metadata": {},
   "outputs": [],
   "source": [
    "#moby_jan[(moby_jan['BikeID'] == 5) &(moby_jan['LastRentalStart'] == '2020-12-31 17:35:09')]"
   ]
  },
  {
   "cell_type": "code",
   "execution_count": 48,
   "id": "ec549a40",
   "metadata": {},
   "outputs": [],
   "source": [
    "parameters = {\n",
    "    \"start\": '2020-10-13',\n",
    "    \"end\": '2021-6-4',\n",
    "    \"bikeid\": 5\n",
    "}"
   ]
  },
  {
   "cell_type": "code",
   "execution_count": 49,
   "id": "66efb7dc",
   "metadata": {},
   "outputs": [],
   "source": [
    "response = requests.get(\"https://data.smartdublin.ie/mobybikes-api/historical\", params=parameters)"
   ]
  },
  {
   "cell_type": "code",
   "execution_count": 50,
   "id": "c306f44d",
   "metadata": {},
   "outputs": [
    {
     "name": "stderr",
     "output_type": "stream",
     "text": [
      "IOPub data rate exceeded.\n",
      "The notebook server will temporarily stop sending output\n",
      "to the client in order to avoid crashing it.\n",
      "To change this limit, set the config variable\n",
      "`--NotebookApp.iopub_data_rate_limit`.\n",
      "\n",
      "Current values:\n",
      "NotebookApp.iopub_data_rate_limit=1000000.0 (bytes/sec)\n",
      "NotebookApp.rate_limit_window=3.0 (secs)\n",
      "\n"
     ]
    }
   ],
   "source": [
    "print(response.json())"
   ]
  },
  {
   "cell_type": "code",
   "execution_count": 51,
   "id": "8a5195f2",
   "metadata": {},
   "outputs": [
    {
     "name": "stderr",
     "output_type": "stream",
     "text": [
      "IOPub data rate exceeded.\n",
      "The notebook server will temporarily stop sending output\n",
      "to the client in order to avoid crashing it.\n",
      "To change this limit, set the config variable\n",
      "`--NotebookApp.iopub_data_rate_limit`.\n",
      "\n",
      "Current values:\n",
      "NotebookApp.iopub_data_rate_limit=1000000.0 (bytes/sec)\n",
      "NotebookApp.rate_limit_window=3.0 (secs)\n",
      "\n"
     ]
    }
   ],
   "source": [
    "def jprint(obj):\n",
    "    # create a formatted string of the Python JSON object\n",
    "    text = json.dumps(obj, sort_keys=True, indent=4)\n",
    "    print(text)\n",
    "\n",
    "jprint(response.json())"
   ]
  },
  {
   "cell_type": "code",
   "execution_count": 52,
   "id": "dcfae32e",
   "metadata": {},
   "outputs": [],
   "source": [
    "dictr = response.json()\n",
    "df = json_normalize(dictr)"
   ]
  },
  {
   "cell_type": "code",
   "execution_count": 53,
   "id": "d3e1f437",
   "metadata": {},
   "outputs": [
    {
     "data": {
      "text/plain": [
       "(9280, 15)"
      ]
     },
     "execution_count": 53,
     "metadata": {},
     "output_type": "execute_result"
    }
   ],
   "source": [
    "df.shape"
   ]
  },
  {
   "cell_type": "code",
   "execution_count": 54,
   "id": "29f2850a",
   "metadata": {
    "scrolled": false
   },
   "outputs": [
    {
     "data": {
      "text/html": [
       "<div>\n",
       "<style scoped>\n",
       "    .dataframe tbody tr th:only-of-type {\n",
       "        vertical-align: middle;\n",
       "    }\n",
       "\n",
       "    .dataframe tbody tr th {\n",
       "        vertical-align: top;\n",
       "    }\n",
       "\n",
       "    .dataframe thead th {\n",
       "        text-align: right;\n",
       "    }\n",
       "</style>\n",
       "<table border=\"1\" class=\"dataframe\">\n",
       "  <thead>\n",
       "    <tr style=\"text-align: right;\">\n",
       "      <th></th>\n",
       "      <th>HarvestTime</th>\n",
       "      <th>BikeID</th>\n",
       "      <th>Battery</th>\n",
       "      <th>BikeIdentifier</th>\n",
       "      <th>BikeTypeName</th>\n",
       "      <th>EBikeProfileID</th>\n",
       "      <th>EBikeStateID</th>\n",
       "      <th>IsEBike</th>\n",
       "      <th>IsMotor</th>\n",
       "      <th>IsSmartLock</th>\n",
       "      <th>LastGPSTime</th>\n",
       "      <th>LastRentalStart</th>\n",
       "      <th>Latitude</th>\n",
       "      <th>Longitude</th>\n",
       "      <th>SpikeID</th>\n",
       "    </tr>\n",
       "  </thead>\n",
       "  <tbody>\n",
       "    <tr>\n",
       "      <th>0</th>\n",
       "      <td>2020-10-13T00:00:02</td>\n",
       "      <td>5</td>\n",
       "      <td>81.0</td>\n",
       "      <td>1</td>\n",
       "      <td>DUB-General</td>\n",
       "      <td>1</td>\n",
       "      <td>2</td>\n",
       "      <td>True</td>\n",
       "      <td>False</td>\n",
       "      <td>False</td>\n",
       "      <td>2020-10-13T00:54:49</td>\n",
       "      <td>2020-10-12T20:15:04</td>\n",
       "      <td>53.3521</td>\n",
       "      <td>-6.26064</td>\n",
       "      <td>1</td>\n",
       "    </tr>\n",
       "    <tr>\n",
       "      <th>1</th>\n",
       "      <td>2020-10-13T00:30:02</td>\n",
       "      <td>5</td>\n",
       "      <td>81.0</td>\n",
       "      <td>1</td>\n",
       "      <td>DUB-General</td>\n",
       "      <td>1</td>\n",
       "      <td>2</td>\n",
       "      <td>True</td>\n",
       "      <td>False</td>\n",
       "      <td>False</td>\n",
       "      <td>2020-10-13T01:24:49</td>\n",
       "      <td>2020-10-12T20:15:04</td>\n",
       "      <td>53.3521</td>\n",
       "      <td>-6.26064</td>\n",
       "      <td>1</td>\n",
       "    </tr>\n",
       "    <tr>\n",
       "      <th>2</th>\n",
       "      <td>2020-10-13T01:00:04</td>\n",
       "      <td>5</td>\n",
       "      <td>81.0</td>\n",
       "      <td>1</td>\n",
       "      <td>DUB-General</td>\n",
       "      <td>1</td>\n",
       "      <td>2</td>\n",
       "      <td>True</td>\n",
       "      <td>False</td>\n",
       "      <td>False</td>\n",
       "      <td>2020-10-13T01:54:49</td>\n",
       "      <td>2020-10-12T20:15:04</td>\n",
       "      <td>53.3521</td>\n",
       "      <td>-6.26064</td>\n",
       "      <td>1</td>\n",
       "    </tr>\n",
       "    <tr>\n",
       "      <th>3</th>\n",
       "      <td>2020-10-13T01:30:03</td>\n",
       "      <td>5</td>\n",
       "      <td>81.0</td>\n",
       "      <td>1</td>\n",
       "      <td>DUB-General</td>\n",
       "      <td>1</td>\n",
       "      <td>2</td>\n",
       "      <td>True</td>\n",
       "      <td>False</td>\n",
       "      <td>False</td>\n",
       "      <td>2020-10-13T02:21:19</td>\n",
       "      <td>2020-10-12T20:15:04</td>\n",
       "      <td>53.3521</td>\n",
       "      <td>-6.26065</td>\n",
       "      <td>1</td>\n",
       "    </tr>\n",
       "    <tr>\n",
       "      <th>4</th>\n",
       "      <td>2020-10-13T02:00:02</td>\n",
       "      <td>5</td>\n",
       "      <td>81.0</td>\n",
       "      <td>1</td>\n",
       "      <td>DUB-General</td>\n",
       "      <td>1</td>\n",
       "      <td>2</td>\n",
       "      <td>True</td>\n",
       "      <td>False</td>\n",
       "      <td>False</td>\n",
       "      <td>2020-10-13T02:51:19</td>\n",
       "      <td>2020-10-12T20:15:04</td>\n",
       "      <td>53.3521</td>\n",
       "      <td>-6.26065</td>\n",
       "      <td>1</td>\n",
       "    </tr>\n",
       "    <tr>\n",
       "      <th>...</th>\n",
       "      <td>...</td>\n",
       "      <td>...</td>\n",
       "      <td>...</td>\n",
       "      <td>...</td>\n",
       "      <td>...</td>\n",
       "      <td>...</td>\n",
       "      <td>...</td>\n",
       "      <td>...</td>\n",
       "      <td>...</td>\n",
       "      <td>...</td>\n",
       "      <td>...</td>\n",
       "      <td>...</td>\n",
       "      <td>...</td>\n",
       "      <td>...</td>\n",
       "      <td>...</td>\n",
       "    </tr>\n",
       "    <tr>\n",
       "      <th>9275</th>\n",
       "      <td>2021-06-03T21:30:02</td>\n",
       "      <td>5</td>\n",
       "      <td>86.0</td>\n",
       "      <td>1</td>\n",
       "      <td>DUB-General</td>\n",
       "      <td>1</td>\n",
       "      <td>2</td>\n",
       "      <td>True</td>\n",
       "      <td>False</td>\n",
       "      <td>False</td>\n",
       "      <td>2021-06-03T21:29:27</td>\n",
       "      <td>2021-06-03T17:24:19</td>\n",
       "      <td>53.3225</td>\n",
       "      <td>-6.23784</td>\n",
       "      <td>1</td>\n",
       "    </tr>\n",
       "    <tr>\n",
       "      <th>9276</th>\n",
       "      <td>2021-06-03T22:00:01</td>\n",
       "      <td>5</td>\n",
       "      <td>86.0</td>\n",
       "      <td>1</td>\n",
       "      <td>DUB-General</td>\n",
       "      <td>1</td>\n",
       "      <td>2</td>\n",
       "      <td>True</td>\n",
       "      <td>False</td>\n",
       "      <td>False</td>\n",
       "      <td>2021-06-03T21:59:26</td>\n",
       "      <td>2021-06-03T17:24:19</td>\n",
       "      <td>53.3225</td>\n",
       "      <td>-6.23784</td>\n",
       "      <td>1</td>\n",
       "    </tr>\n",
       "    <tr>\n",
       "      <th>9277</th>\n",
       "      <td>2021-06-03T22:30:02</td>\n",
       "      <td>5</td>\n",
       "      <td>86.0</td>\n",
       "      <td>1</td>\n",
       "      <td>DUB-General</td>\n",
       "      <td>1</td>\n",
       "      <td>2</td>\n",
       "      <td>True</td>\n",
       "      <td>False</td>\n",
       "      <td>False</td>\n",
       "      <td>2021-06-03T22:29:27</td>\n",
       "      <td>2021-06-03T17:24:19</td>\n",
       "      <td>53.3225</td>\n",
       "      <td>-6.23785</td>\n",
       "      <td>1</td>\n",
       "    </tr>\n",
       "    <tr>\n",
       "      <th>9278</th>\n",
       "      <td>2021-06-03T23:00:01</td>\n",
       "      <td>5</td>\n",
       "      <td>86.0</td>\n",
       "      <td>1</td>\n",
       "      <td>DUB-General</td>\n",
       "      <td>1</td>\n",
       "      <td>2</td>\n",
       "      <td>True</td>\n",
       "      <td>False</td>\n",
       "      <td>False</td>\n",
       "      <td>2021-06-03T22:59:27</td>\n",
       "      <td>2021-06-03T17:24:19</td>\n",
       "      <td>53.3225</td>\n",
       "      <td>-6.23784</td>\n",
       "      <td>1</td>\n",
       "    </tr>\n",
       "    <tr>\n",
       "      <th>9279</th>\n",
       "      <td>2021-06-03T23:30:02</td>\n",
       "      <td>5</td>\n",
       "      <td>86.0</td>\n",
       "      <td>1</td>\n",
       "      <td>DUB-General</td>\n",
       "      <td>1</td>\n",
       "      <td>2</td>\n",
       "      <td>True</td>\n",
       "      <td>False</td>\n",
       "      <td>False</td>\n",
       "      <td>2021-06-03T23:29:26</td>\n",
       "      <td>2021-06-03T17:24:19</td>\n",
       "      <td>53.3225</td>\n",
       "      <td>-6.23784</td>\n",
       "      <td>1</td>\n",
       "    </tr>\n",
       "  </tbody>\n",
       "</table>\n",
       "<p>9280 rows × 15 columns</p>\n",
       "</div>"
      ],
      "text/plain": [
       "              HarvestTime  BikeID  Battery BikeIdentifier BikeTypeName  \\\n",
       "0     2020-10-13T00:00:02       5     81.0              1  DUB-General   \n",
       "1     2020-10-13T00:30:02       5     81.0              1  DUB-General   \n",
       "2     2020-10-13T01:00:04       5     81.0              1  DUB-General   \n",
       "3     2020-10-13T01:30:03       5     81.0              1  DUB-General   \n",
       "4     2020-10-13T02:00:02       5     81.0              1  DUB-General   \n",
       "...                   ...     ...      ...            ...          ...   \n",
       "9275  2021-06-03T21:30:02       5     86.0              1  DUB-General   \n",
       "9276  2021-06-03T22:00:01       5     86.0              1  DUB-General   \n",
       "9277  2021-06-03T22:30:02       5     86.0              1  DUB-General   \n",
       "9278  2021-06-03T23:00:01       5     86.0              1  DUB-General   \n",
       "9279  2021-06-03T23:30:02       5     86.0              1  DUB-General   \n",
       "\n",
       "      EBikeProfileID  EBikeStateID  IsEBike  IsMotor  IsSmartLock  \\\n",
       "0                  1             2     True    False        False   \n",
       "1                  1             2     True    False        False   \n",
       "2                  1             2     True    False        False   \n",
       "3                  1             2     True    False        False   \n",
       "4                  1             2     True    False        False   \n",
       "...              ...           ...      ...      ...          ...   \n",
       "9275               1             2     True    False        False   \n",
       "9276               1             2     True    False        False   \n",
       "9277               1             2     True    False        False   \n",
       "9278               1             2     True    False        False   \n",
       "9279               1             2     True    False        False   \n",
       "\n",
       "              LastGPSTime      LastRentalStart  Latitude  Longitude  SpikeID  \n",
       "0     2020-10-13T00:54:49  2020-10-12T20:15:04   53.3521   -6.26064        1  \n",
       "1     2020-10-13T01:24:49  2020-10-12T20:15:04   53.3521   -6.26064        1  \n",
       "2     2020-10-13T01:54:49  2020-10-12T20:15:04   53.3521   -6.26064        1  \n",
       "3     2020-10-13T02:21:19  2020-10-12T20:15:04   53.3521   -6.26065        1  \n",
       "4     2020-10-13T02:51:19  2020-10-12T20:15:04   53.3521   -6.26065        1  \n",
       "...                   ...                  ...       ...        ...      ...  \n",
       "9275  2021-06-03T21:29:27  2021-06-03T17:24:19   53.3225   -6.23784        1  \n",
       "9276  2021-06-03T21:59:26  2021-06-03T17:24:19   53.3225   -6.23784        1  \n",
       "9277  2021-06-03T22:29:27  2021-06-03T17:24:19   53.3225   -6.23785        1  \n",
       "9278  2021-06-03T22:59:27  2021-06-03T17:24:19   53.3225   -6.23784        1  \n",
       "9279  2021-06-03T23:29:26  2021-06-03T17:24:19   53.3225   -6.23784        1  \n",
       "\n",
       "[9280 rows x 15 columns]"
      ]
     },
     "execution_count": 54,
     "metadata": {},
     "output_type": "execute_result"
    }
   ],
   "source": [
    "df"
   ]
  },
  {
   "cell_type": "code",
   "execution_count": 56,
   "id": "cc235e03",
   "metadata": {},
   "outputs": [
    {
     "data": {
      "text/plain": [
       "LastRentalStart\n",
       "2020-12-21T01:31:31    359\n",
       "2021-01-08T17:22:42    250\n",
       "2021-04-11T12:40:57    239\n",
       "2021-02-02T21:17:40    224\n",
       "2020-12-09T12:57:45    168\n",
       "                      ... \n",
       "2021-05-16T21:26:07      1\n",
       "2021-05-16T20:37:21      1\n",
       "2021-02-27T21:39:20      1\n",
       "2021-05-14T19:19:31      1\n",
       "2021-03-14T16:01:43      1\n",
       "Length: 316, dtype: int64"
      ]
     },
     "execution_count": 56,
     "metadata": {},
     "output_type": "execute_result"
    }
   ],
   "source": [
    "df.groupby('LastRentalStart').size().sort_values(ascending=False)"
   ]
  },
  {
   "cell_type": "code",
   "execution_count": null,
   "id": "df3a0b41",
   "metadata": {},
   "outputs": [],
   "source": []
  },
  {
   "cell_type": "code",
   "execution_count": 3,
   "id": "778e82d5",
   "metadata": {},
   "outputs": [],
   "source": [
    "import os\n",
    "import glob\n",
    "import pandas as pd\n",
    "os.chdir(\"./data\")"
   ]
  },
  {
   "cell_type": "code",
   "execution_count": 4,
   "id": "6ec8a4b7",
   "metadata": {},
   "outputs": [],
   "source": [
    "extension = 'csv'\n",
    "all_filenames = [i for i in glob.glob('*.{}'.format(extension))]"
   ]
  },
  {
   "cell_type": "code",
   "execution_count": 5,
   "id": "75740572",
   "metadata": {},
   "outputs": [],
   "source": [
    "#combine all files in the list\n",
    "combined_csv = pd.concat([pd.read_csv(f) for f in all_filenames ])\n",
    "#export to csv\n",
    "combined_csv.to_csv( \"combined_csv.csv\", index=False, encoding='utf-8-sig')"
   ]
  },
  {
   "cell_type": "code",
   "execution_count": 6,
   "id": "1723c10b",
   "metadata": {},
   "outputs": [],
   "source": [
    "moby_all = pd.read_csv('moby-bikes-092020-062021.csv')"
   ]
  },
  {
   "cell_type": "code",
   "execution_count": 7,
   "id": "e8aaf35c",
   "metadata": {},
   "outputs": [
    {
     "data": {
      "text/plain": [
       "(960928, 15)"
      ]
     },
     "execution_count": 7,
     "metadata": {},
     "output_type": "execute_result"
    }
   ],
   "source": [
    "moby_all.shape"
   ]
  },
  {
   "cell_type": "code",
   "execution_count": null,
   "id": "e50d865b",
   "metadata": {},
   "outputs": [],
   "source": []
  },
  {
   "cell_type": "code",
   "execution_count": 8,
   "id": "696097a6",
   "metadata": {},
   "outputs": [
    {
     "data": {
      "text/html": [
       "<div>\n",
       "<style scoped>\n",
       "    .dataframe tbody tr th:only-of-type {\n",
       "        vertical-align: middle;\n",
       "    }\n",
       "\n",
       "    .dataframe tbody tr th {\n",
       "        vertical-align: top;\n",
       "    }\n",
       "\n",
       "    .dataframe thead th {\n",
       "        text-align: right;\n",
       "    }\n",
       "</style>\n",
       "<table border=\"1\" class=\"dataframe\">\n",
       "  <thead>\n",
       "    <tr style=\"text-align: right;\">\n",
       "      <th></th>\n",
       "      <th>HarvestTime</th>\n",
       "      <th>BikeID</th>\n",
       "      <th>Battery</th>\n",
       "      <th>BikeIdentifier</th>\n",
       "      <th>BikeTypeName</th>\n",
       "      <th>EBikeProfileID</th>\n",
       "      <th>EBikeStateID</th>\n",
       "      <th>IsEBike</th>\n",
       "      <th>IsMotor</th>\n",
       "      <th>IsSmartLock</th>\n",
       "      <th>LastGPSTime</th>\n",
       "      <th>LastRentalStart</th>\n",
       "      <th>Latitude</th>\n",
       "      <th>Longitude</th>\n",
       "      <th>SpikeID</th>\n",
       "    </tr>\n",
       "  </thead>\n",
       "  <tbody>\n",
       "    <tr>\n",
       "      <th>0</th>\n",
       "      <td>2021-04-01 00:00:03</td>\n",
       "      <td>5</td>\n",
       "      <td>7.0</td>\n",
       "      <td>1</td>\n",
       "      <td>DUB-General</td>\n",
       "      <td>1</td>\n",
       "      <td>2</td>\n",
       "      <td>True</td>\n",
       "      <td>False</td>\n",
       "      <td>False</td>\n",
       "      <td>2021-03-31 23:41:40</td>\n",
       "      <td>2021-03-30 19:18:18</td>\n",
       "      <td>53.3091</td>\n",
       "      <td>-6.21643</td>\n",
       "      <td>1</td>\n",
       "    </tr>\n",
       "    <tr>\n",
       "      <th>1</th>\n",
       "      <td>2021-04-01 00:00:03</td>\n",
       "      <td>6</td>\n",
       "      <td>16.0</td>\n",
       "      <td>2</td>\n",
       "      <td>DUB-General</td>\n",
       "      <td>1</td>\n",
       "      <td>2</td>\n",
       "      <td>True</td>\n",
       "      <td>False</td>\n",
       "      <td>False</td>\n",
       "      <td>2021-03-31 23:55:41</td>\n",
       "      <td>2021-03-31 10:31:13</td>\n",
       "      <td>53.3657</td>\n",
       "      <td>-6.32249</td>\n",
       "      <td>2</td>\n",
       "    </tr>\n",
       "    <tr>\n",
       "      <th>2</th>\n",
       "      <td>2021-04-01 00:00:03</td>\n",
       "      <td>7</td>\n",
       "      <td>66.0</td>\n",
       "      <td>3</td>\n",
       "      <td>DUB-General</td>\n",
       "      <td>4</td>\n",
       "      <td>2</td>\n",
       "      <td>True</td>\n",
       "      <td>False</td>\n",
       "      <td>False</td>\n",
       "      <td>2021-03-31 23:42:04</td>\n",
       "      <td>2021-03-30 13:07:19</td>\n",
       "      <td>53.2799</td>\n",
       "      <td>-6.14497</td>\n",
       "      <td>3</td>\n",
       "    </tr>\n",
       "    <tr>\n",
       "      <th>3</th>\n",
       "      <td>2021-04-01 00:00:03</td>\n",
       "      <td>8</td>\n",
       "      <td>48.0</td>\n",
       "      <td>4</td>\n",
       "      <td>DUB-General</td>\n",
       "      <td>1</td>\n",
       "      <td>2</td>\n",
       "      <td>True</td>\n",
       "      <td>False</td>\n",
       "      <td>False</td>\n",
       "      <td>2021-03-31 23:52:26</td>\n",
       "      <td>2021-03-30 12:43:17</td>\n",
       "      <td>53.2891</td>\n",
       "      <td>-6.11378</td>\n",
       "      <td>4</td>\n",
       "    </tr>\n",
       "    <tr>\n",
       "      <th>4</th>\n",
       "      <td>2021-04-01 00:00:03</td>\n",
       "      <td>9</td>\n",
       "      <td>-6.0</td>\n",
       "      <td>5</td>\n",
       "      <td>DUB-General</td>\n",
       "      <td>1</td>\n",
       "      <td>2</td>\n",
       "      <td>True</td>\n",
       "      <td>False</td>\n",
       "      <td>False</td>\n",
       "      <td>2021-03-31 23:50:20</td>\n",
       "      <td>2021-03-29 22:37:58</td>\n",
       "      <td>53.2928</td>\n",
       "      <td>-6.13014</td>\n",
       "      <td>5</td>\n",
       "    </tr>\n",
       "  </tbody>\n",
       "</table>\n",
       "</div>"
      ],
      "text/plain": [
       "           HarvestTime  BikeID  Battery  BikeIdentifier BikeTypeName  \\\n",
       "0  2021-04-01 00:00:03       5      7.0               1  DUB-General   \n",
       "1  2021-04-01 00:00:03       6     16.0               2  DUB-General   \n",
       "2  2021-04-01 00:00:03       7     66.0               3  DUB-General   \n",
       "3  2021-04-01 00:00:03       8     48.0               4  DUB-General   \n",
       "4  2021-04-01 00:00:03       9     -6.0               5  DUB-General   \n",
       "\n",
       "   EBikeProfileID  EBikeStateID  IsEBike  IsMotor  IsSmartLock  \\\n",
       "0               1             2     True    False        False   \n",
       "1               1             2     True    False        False   \n",
       "2               4             2     True    False        False   \n",
       "3               1             2     True    False        False   \n",
       "4               1             2     True    False        False   \n",
       "\n",
       "           LastGPSTime      LastRentalStart  Latitude  Longitude  SpikeID  \n",
       "0  2021-03-31 23:41:40  2021-03-30 19:18:18   53.3091   -6.21643        1  \n",
       "1  2021-03-31 23:55:41  2021-03-31 10:31:13   53.3657   -6.32249        2  \n",
       "2  2021-03-31 23:42:04  2021-03-30 13:07:19   53.2799   -6.14497        3  \n",
       "3  2021-03-31 23:52:26  2021-03-30 12:43:17   53.2891   -6.11378        4  \n",
       "4  2021-03-31 23:50:20  2021-03-29 22:37:58   53.2928   -6.13014        5  "
      ]
     },
     "execution_count": 8,
     "metadata": {},
     "output_type": "execute_result"
    }
   ],
   "source": [
    "moby_all.head()"
   ]
  },
  {
   "cell_type": "code",
   "execution_count": 9,
   "id": "77e0dc31",
   "metadata": {
    "scrolled": true
   },
   "outputs": [
    {
     "data": {
      "text/plain": [
       "HarvestTime            0\n",
       "BikeID                 0\n",
       "Battery            25342\n",
       "BikeIdentifier         0\n",
       "BikeTypeName           0\n",
       "EBikeProfileID         0\n",
       "EBikeStateID           0\n",
       "IsEBike                0\n",
       "IsMotor                0\n",
       "IsSmartLock            0\n",
       "LastGPSTime            0\n",
       "LastRentalStart        0\n",
       "Latitude               0\n",
       "Longitude              0\n",
       "SpikeID                0\n",
       "dtype: int64"
      ]
     },
     "execution_count": 9,
     "metadata": {},
     "output_type": "execute_result"
    }
   ],
   "source": [
    "moby_all.isnull().sum()"
   ]
  },
  {
   "cell_type": "code",
   "execution_count": 14,
   "id": "1ecb736f",
   "metadata": {},
   "outputs": [
    {
     "data": {
      "text/plain": [
       "LastRentalStart\n",
       "2021-06-16 17:48:17      1\n",
       "2021-01-22 09:56:56      1\n",
       "2021-05-24 20:07:42      1\n",
       "2021-06-11 01:51:33      1\n",
       "2021-06-03 09:53:57      1\n",
       "                      ... \n",
       "2020-10-05 10:45:28    527\n",
       "2021-01-02 12:52:10    530\n",
       "2020-10-26 12:43:07    530\n",
       "2021-03-09 11:02:27    717\n",
       "2020-09-28 09:27:52    720\n",
       "Length: 27502, dtype: int64"
      ]
     },
     "execution_count": 14,
     "metadata": {},
     "output_type": "execute_result"
    }
   ],
   "source": [
    "moby_all.groupby('LastRentalStart').size().sort_values(ascending=True)"
   ]
  },
  {
   "cell_type": "markdown",
   "id": "f6eaad68",
   "metadata": {},
   "source": [
    ">https://data.gov.ie/dataset/phoenix-park-hourly-data\n",
    "\n",
    ">https://data.gov.ie/dataset/phoenixpark-daily-data"
   ]
  },
  {
   "cell_type": "markdown",
   "id": "0ade6b2b",
   "metadata": {},
   "source": [
    "### Average rent time - Assumption\n",
    "\n",
    "Due to lack of information and data, to calculate the average rent time I am assuming that when a new bike rental starts the average will be calculated by:\n",
    "\n",
    "$$ AvgRentTime* = LastGPSTime - LastRentalStart $$\n",
    "\n",
    "\\*AvgRentTime in minutes"
   ]
  },
  {
   "cell_type": "code",
   "execution_count": null,
   "id": "ee4ef600",
   "metadata": {},
   "outputs": [],
   "source": []
  },
  {
   "cell_type": "code",
   "execution_count": null,
   "id": "34794bc0",
   "metadata": {},
   "outputs": [],
   "source": []
  },
  {
   "cell_type": "code",
   "execution_count": null,
   "id": "2141cb47",
   "metadata": {},
   "outputs": [],
   "source": []
  },
  {
   "cell_type": "code",
   "execution_count": null,
   "id": "0feb30c8",
   "metadata": {},
   "outputs": [],
   "source": []
  },
  {
   "cell_type": "code",
   "execution_count": null,
   "id": "d0a32a43",
   "metadata": {},
   "outputs": [],
   "source": []
  },
  {
   "cell_type": "code",
   "execution_count": null,
   "id": "55ec3155",
   "metadata": {},
   "outputs": [],
   "source": []
  }
 ],
 "metadata": {
  "kernelspec": {
   "display_name": "Python 3",
   "language": "python",
   "name": "python3"
  },
  "language_info": {
   "codemirror_mode": {
    "name": "ipython",
    "version": 3
   },
   "file_extension": ".py",
   "mimetype": "text/x-python",
   "name": "python",
   "nbconvert_exporter": "python",
   "pygments_lexer": "ipython3",
   "version": "3.9.5"
  }
 },
 "nbformat": 4,
 "nbformat_minor": 5
}
